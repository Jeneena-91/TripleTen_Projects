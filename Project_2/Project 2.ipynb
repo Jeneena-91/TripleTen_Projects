{
 "cells": [
  {
   "cell_type": "markdown",
   "id": "737ec76d",
   "metadata": {},
   "source": [
    "# Title of Project: Exploratory Data Analysis on Instacart Data\n",
    "### Introduction of the project: \n",
    "In this project, we are conducting an exploratory analysis of instacart data. Instacart is a grocery delivery platform where customers can place a grocery order and have it delivered to them.\n",
    "Our aim is to clean up the data and prepare a report that gives insights into the shopping habits of instacart customers like identifying popoular products, peak shopping time, peak shopping days etc.\n",
    "##Stages of the Project:\n",
    "This project consists of three stages\n",
    "-Open and the read the data files and identify the contents in each file\n",
    "-Preprocess the data by doing identify and fill missing values, remove duplicate values etc\n",
    "-Analyze the data using different visualization methods and find the pattern of shopping habits\n",
    " "
   ]
  },
  {
   "cell_type": "markdown",
   "id": "fbe7dde3",
   "metadata": {},
   "source": [
    "# Stage 1:Data Loading and Initial Identification\n",
    "## Load the data files from the datasets  like instacart_orders, products, departments, aisles, order-products and identify the contents in each table."
   ]
  },
  {
   "cell_type": "markdown",
   "id": "a483fab9",
   "metadata": {},
   "source": [
    "#Import pandas and important libraries to analyze data. # Stage 1:Data Loading and Initial Identification\n"
   ]
  },
  {
   "cell_type": "code",
   "execution_count": 1,
   "id": "fbf1adab",
   "metadata": {},
   "outputs": [],
   "source": [
    "# Import pandas and matplotlib for reading and analyzing data\n",
    "import pandas as pd\n",
    "import numpy as np\n",
    "from matplotlib import pyplot as plt"
   ]
  },
  {
   "cell_type": "markdown",
   "id": "ca9aa40a",
   "metadata": {},
   "source": [
    "#Read the first dataset instacart orders and understand the contents in each column and store the dataframe in a variable instacart_orders. "
   ]
  },
  {
   "cell_type": "code",
   "execution_count": 2,
   "id": "ad36396d",
   "metadata": {},
   "outputs": [
    {
     "data": {
      "text/html": [
       "<div>\n",
       "<style scoped>\n",
       "    .dataframe tbody tr th:only-of-type {\n",
       "        vertical-align: middle;\n",
       "    }\n",
       "\n",
       "    .dataframe tbody tr th {\n",
       "        vertical-align: top;\n",
       "    }\n",
       "\n",
       "    .dataframe thead th {\n",
       "        text-align: right;\n",
       "    }\n",
       "</style>\n",
       "<table border=\"1\" class=\"dataframe\">\n",
       "  <thead>\n",
       "    <tr style=\"text-align: right;\">\n",
       "      <th></th>\n",
       "      <th>order_id</th>\n",
       "      <th>user_id</th>\n",
       "      <th>order_number</th>\n",
       "      <th>order_dow</th>\n",
       "      <th>order_hour_of_day</th>\n",
       "      <th>days_since_prior_order</th>\n",
       "    </tr>\n",
       "  </thead>\n",
       "  <tbody>\n",
       "    <tr>\n",
       "      <th>0</th>\n",
       "      <td>1515936</td>\n",
       "      <td>183418</td>\n",
       "      <td>11</td>\n",
       "      <td>6</td>\n",
       "      <td>13</td>\n",
       "      <td>30.0</td>\n",
       "    </tr>\n",
       "    <tr>\n",
       "      <th>1</th>\n",
       "      <td>1690866</td>\n",
       "      <td>163593</td>\n",
       "      <td>5</td>\n",
       "      <td>5</td>\n",
       "      <td>12</td>\n",
       "      <td>9.0</td>\n",
       "    </tr>\n",
       "    <tr>\n",
       "      <th>2</th>\n",
       "      <td>1454967</td>\n",
       "      <td>39980</td>\n",
       "      <td>4</td>\n",
       "      <td>5</td>\n",
       "      <td>19</td>\n",
       "      <td>2.0</td>\n",
       "    </tr>\n",
       "    <tr>\n",
       "      <th>3</th>\n",
       "      <td>1768857</td>\n",
       "      <td>82516</td>\n",
       "      <td>56</td>\n",
       "      <td>0</td>\n",
       "      <td>20</td>\n",
       "      <td>10.0</td>\n",
       "    </tr>\n",
       "    <tr>\n",
       "      <th>4</th>\n",
       "      <td>3007858</td>\n",
       "      <td>196724</td>\n",
       "      <td>2</td>\n",
       "      <td>4</td>\n",
       "      <td>12</td>\n",
       "      <td>17.0</td>\n",
       "    </tr>\n",
       "  </tbody>\n",
       "</table>\n",
       "</div>"
      ],
      "text/plain": [
       "   order_id  user_id  order_number  order_dow  order_hour_of_day  \\\n",
       "0   1515936   183418            11          6                 13   \n",
       "1   1690866   163593             5          5                 12   \n",
       "2   1454967    39980             4          5                 19   \n",
       "3   1768857    82516            56          0                 20   \n",
       "4   3007858   196724             2          4                 12   \n",
       "\n",
       "   days_since_prior_order  \n",
       "0                    30.0  \n",
       "1                     9.0  \n",
       "2                     2.0  \n",
       "3                    10.0  \n",
       "4                    17.0  "
      ]
     },
     "metadata": {},
     "output_type": "display_data"
    },
    {
     "name": "stdout",
     "output_type": "stream",
     "text": [
      "<class 'pandas.core.frame.DataFrame'>\n",
      "RangeIndex: 478967 entries, 0 to 478966\n",
      "Data columns (total 6 columns):\n",
      " #   Column                  Non-Null Count   Dtype  \n",
      "---  ------                  --------------   -----  \n",
      " 0   order_id                478967 non-null  int64  \n",
      " 1   user_id                 478967 non-null  int64  \n",
      " 2   order_number            478967 non-null  int64  \n",
      " 3   order_dow               478967 non-null  int64  \n",
      " 4   order_hour_of_day       478967 non-null  int64  \n",
      " 5   days_since_prior_order  450148 non-null  float64\n",
      "dtypes: float64(1), int64(5)\n",
      "memory usage: 21.9 MB\n"
     ]
    }
   ],
   "source": [
    "#Read the dataframe and identify the contents\n",
    "instacart_orders =pd.read_csv('/datasets/instacart_orders.csv',sep=';')\n",
    "display(instacart_orders.head())\n",
    "instacart_orders.info()"
   ]
  },
  {
   "cell_type": "markdown",
   "id": "c60e61d8",
   "metadata": {},
   "source": [
    "#Instacart orders consists of 478967 rows and 6 columns. Each row corresponds to one order on the instacart app and each column represents\n",
    "- order_id:ID number that uniquely identifies each order\n",
    "- user_id:ID number that uniquely identifies each customer account\n",
    "- order_number:the number of times this customer placed an order\n",
    "- order dow: day of the week that order is placed.(Assume 0 is for Sunday and 6 for saturday)\n",
    "- order_hour_of_day : hour of the day that the order is was placed\n",
    "- days_since_prior_order:number of days since this customer placed their previous orders\n",
    "From the table it is clear that the datatype except for days_since_prior_order is int64."
   ]
  },
  {
   "cell_type": "markdown",
   "id": "81206563",
   "metadata": {},
   "source": [
    "#Read the second dataset products and understand the contents in each column and store the dataframe in a variable products. "
   ]
  },
  {
   "cell_type": "code",
   "execution_count": 3,
   "id": "ad6a1efa",
   "metadata": {},
   "outputs": [
    {
     "data": {
      "text/html": [
       "<div>\n",
       "<style scoped>\n",
       "    .dataframe tbody tr th:only-of-type {\n",
       "        vertical-align: middle;\n",
       "    }\n",
       "\n",
       "    .dataframe tbody tr th {\n",
       "        vertical-align: top;\n",
       "    }\n",
       "\n",
       "    .dataframe thead th {\n",
       "        text-align: right;\n",
       "    }\n",
       "</style>\n",
       "<table border=\"1\" class=\"dataframe\">\n",
       "  <thead>\n",
       "    <tr style=\"text-align: right;\">\n",
       "      <th></th>\n",
       "      <th>product_id</th>\n",
       "      <th>product_name</th>\n",
       "      <th>aisle_id</th>\n",
       "      <th>department_id</th>\n",
       "    </tr>\n",
       "  </thead>\n",
       "  <tbody>\n",
       "    <tr>\n",
       "      <th>0</th>\n",
       "      <td>1</td>\n",
       "      <td>Chocolate Sandwich Cookies</td>\n",
       "      <td>61</td>\n",
       "      <td>19</td>\n",
       "    </tr>\n",
       "    <tr>\n",
       "      <th>1</th>\n",
       "      <td>2</td>\n",
       "      <td>All-Seasons Salt</td>\n",
       "      <td>104</td>\n",
       "      <td>13</td>\n",
       "    </tr>\n",
       "    <tr>\n",
       "      <th>2</th>\n",
       "      <td>3</td>\n",
       "      <td>Robust Golden Unsweetened Oolong Tea</td>\n",
       "      <td>94</td>\n",
       "      <td>7</td>\n",
       "    </tr>\n",
       "    <tr>\n",
       "      <th>3</th>\n",
       "      <td>4</td>\n",
       "      <td>Smart Ones Classic Favorites Mini Rigatoni Wit...</td>\n",
       "      <td>38</td>\n",
       "      <td>1</td>\n",
       "    </tr>\n",
       "    <tr>\n",
       "      <th>4</th>\n",
       "      <td>5</td>\n",
       "      <td>Green Chile Anytime Sauce</td>\n",
       "      <td>5</td>\n",
       "      <td>13</td>\n",
       "    </tr>\n",
       "  </tbody>\n",
       "</table>\n",
       "</div>"
      ],
      "text/plain": [
       "   product_id                                       product_name  aisle_id  \\\n",
       "0           1                         Chocolate Sandwich Cookies        61   \n",
       "1           2                                   All-Seasons Salt       104   \n",
       "2           3               Robust Golden Unsweetened Oolong Tea        94   \n",
       "3           4  Smart Ones Classic Favorites Mini Rigatoni Wit...        38   \n",
       "4           5                          Green Chile Anytime Sauce         5   \n",
       "\n",
       "   department_id  \n",
       "0             19  \n",
       "1             13  \n",
       "2              7  \n",
       "3              1  \n",
       "4             13  "
      ]
     },
     "metadata": {},
     "output_type": "display_data"
    },
    {
     "name": "stdout",
     "output_type": "stream",
     "text": [
      "<class 'pandas.core.frame.DataFrame'>\n",
      "RangeIndex: 49694 entries, 0 to 49693\n",
      "Data columns (total 4 columns):\n",
      " #   Column         Non-Null Count  Dtype \n",
      "---  ------         --------------  ----- \n",
      " 0   product_id     49694 non-null  int64 \n",
      " 1   product_name   48436 non-null  object\n",
      " 2   aisle_id       49694 non-null  int64 \n",
      " 3   department_id  49694 non-null  int64 \n",
      "dtypes: int64(3), object(1)\n",
      "memory usage: 1.5+ MB\n"
     ]
    }
   ],
   "source": [
    "#Read the products dataframe and identify the contents\n",
    "products=pd.read_csv('/datasets/products.csv', sep=';')\n",
    "display(products.head())\n",
    "products.info()"
   ]
  },
  {
   "cell_type": "markdown",
   "id": "11b04599",
   "metadata": {},
   "source": [
    "#Products datasets consists of 49694 entries and 4 columns. each row corresponds to a unique product that customers can buy and  each column consists of\n",
    "-product_id :ID number that uniquely identifies each product\n",
    "-product_name : name of the product\n",
    "-aisle_id: ID number that uniquely identifies each grocery aisle category\n",
    "-department_id : ID number that uniquely identifies each grocery department category.\n",
    "from the above description, it is clear that some product names are missing.\n",
    "    "
   ]
  },
  {
   "cell_type": "markdown",
   "id": "d2b5fa7c",
   "metadata": {},
   "source": [
    "#Read the third dataset order products and understand the contents in each column and store the dataframe in a variable order_products. "
   ]
  },
  {
   "cell_type": "code",
   "execution_count": 4,
   "id": "d086034a",
   "metadata": {},
   "outputs": [
    {
     "data": {
      "text/html": [
       "<div>\n",
       "<style scoped>\n",
       "    .dataframe tbody tr th:only-of-type {\n",
       "        vertical-align: middle;\n",
       "    }\n",
       "\n",
       "    .dataframe tbody tr th {\n",
       "        vertical-align: top;\n",
       "    }\n",
       "\n",
       "    .dataframe thead th {\n",
       "        text-align: right;\n",
       "    }\n",
       "</style>\n",
       "<table border=\"1\" class=\"dataframe\">\n",
       "  <thead>\n",
       "    <tr style=\"text-align: right;\">\n",
       "      <th></th>\n",
       "      <th>order_id</th>\n",
       "      <th>product_id</th>\n",
       "      <th>add_to_cart_order</th>\n",
       "      <th>reordered</th>\n",
       "    </tr>\n",
       "  </thead>\n",
       "  <tbody>\n",
       "    <tr>\n",
       "      <th>0</th>\n",
       "      <td>2141543</td>\n",
       "      <td>11440</td>\n",
       "      <td>17.0</td>\n",
       "      <td>0</td>\n",
       "    </tr>\n",
       "    <tr>\n",
       "      <th>1</th>\n",
       "      <td>567889</td>\n",
       "      <td>1560</td>\n",
       "      <td>1.0</td>\n",
       "      <td>1</td>\n",
       "    </tr>\n",
       "    <tr>\n",
       "      <th>2</th>\n",
       "      <td>2261212</td>\n",
       "      <td>26683</td>\n",
       "      <td>1.0</td>\n",
       "      <td>1</td>\n",
       "    </tr>\n",
       "    <tr>\n",
       "      <th>3</th>\n",
       "      <td>491251</td>\n",
       "      <td>8670</td>\n",
       "      <td>35.0</td>\n",
       "      <td>1</td>\n",
       "    </tr>\n",
       "    <tr>\n",
       "      <th>4</th>\n",
       "      <td>2571142</td>\n",
       "      <td>1940</td>\n",
       "      <td>5.0</td>\n",
       "      <td>1</td>\n",
       "    </tr>\n",
       "  </tbody>\n",
       "</table>\n",
       "</div>"
      ],
      "text/plain": [
       "   order_id  product_id  add_to_cart_order  reordered\n",
       "0   2141543       11440               17.0          0\n",
       "1    567889        1560                1.0          1\n",
       "2   2261212       26683                1.0          1\n",
       "3    491251        8670               35.0          1\n",
       "4   2571142        1940                5.0          1"
      ]
     },
     "metadata": {},
     "output_type": "display_data"
    },
    {
     "name": "stdout",
     "output_type": "stream",
     "text": [
      "<class 'pandas.core.frame.DataFrame'>\n",
      "RangeIndex: 4545007 entries, 0 to 4545006\n",
      "Data columns (total 4 columns):\n",
      " #   Column             Non-Null Count    Dtype  \n",
      "---  ------             --------------    -----  \n",
      " 0   order_id           4545007 non-null  int64  \n",
      " 1   product_id         4545007 non-null  int64  \n",
      " 2   add_to_cart_order  4544171 non-null  float64\n",
      " 3   reordered          4545007 non-null  int64  \n",
      "dtypes: float64(1), int64(3)\n",
      "memory usage: 138.7 MB\n"
     ]
    }
   ],
   "source": [
    "#Read the order_products dataframe and identify the contents\n",
    "order_products=pd.read_csv('/datasets/order_products.csv', sep=';')\n",
    "display(order_products.head())\n",
    "order_products.info(show_counts=True)"
   ]
  },
  {
   "cell_type": "markdown",
   "id": "a21722f9",
   "metadata": {},
   "source": [
    "#Order products datasets consists of 4545007 entries and 4 columns. Each row corresponds to one item placed in an order and each column consists of;\n",
    "-order_id :ID number that uniquely identifies each order\n",
    "-product_id :ID number that uniquely identifies each product\n",
    "-add_to_cart_order:the sequential order in which  each item was placed in the cart\n",
    "-reordered : 0 if the customer has never ordered this product before, 1 if they have."
   ]
  },
  {
   "cell_type": "markdown",
   "id": "817ad5a8",
   "metadata": {},
   "source": [
    "#Read the fourth dataset aisles and understand the contents in each column and store the dataframe in a variable aisles."
   ]
  },
  {
   "cell_type": "code",
   "execution_count": 5,
   "id": "d8370c05",
   "metadata": {},
   "outputs": [
    {
     "data": {
      "text/html": [
       "<div>\n",
       "<style scoped>\n",
       "    .dataframe tbody tr th:only-of-type {\n",
       "        vertical-align: middle;\n",
       "    }\n",
       "\n",
       "    .dataframe tbody tr th {\n",
       "        vertical-align: top;\n",
       "    }\n",
       "\n",
       "    .dataframe thead th {\n",
       "        text-align: right;\n",
       "    }\n",
       "</style>\n",
       "<table border=\"1\" class=\"dataframe\">\n",
       "  <thead>\n",
       "    <tr style=\"text-align: right;\">\n",
       "      <th></th>\n",
       "      <th>aisle_id</th>\n",
       "      <th>aisle</th>\n",
       "    </tr>\n",
       "  </thead>\n",
       "  <tbody>\n",
       "    <tr>\n",
       "      <th>0</th>\n",
       "      <td>1</td>\n",
       "      <td>prepared soups salads</td>\n",
       "    </tr>\n",
       "    <tr>\n",
       "      <th>1</th>\n",
       "      <td>2</td>\n",
       "      <td>specialty cheeses</td>\n",
       "    </tr>\n",
       "    <tr>\n",
       "      <th>2</th>\n",
       "      <td>3</td>\n",
       "      <td>energy granola bars</td>\n",
       "    </tr>\n",
       "    <tr>\n",
       "      <th>3</th>\n",
       "      <td>4</td>\n",
       "      <td>instant foods</td>\n",
       "    </tr>\n",
       "    <tr>\n",
       "      <th>4</th>\n",
       "      <td>5</td>\n",
       "      <td>marinades meat preparation</td>\n",
       "    </tr>\n",
       "  </tbody>\n",
       "</table>\n",
       "</div>"
      ],
      "text/plain": [
       "   aisle_id                       aisle\n",
       "0         1       prepared soups salads\n",
       "1         2           specialty cheeses\n",
       "2         3         energy granola bars\n",
       "3         4               instant foods\n",
       "4         5  marinades meat preparation"
      ]
     },
     "metadata": {},
     "output_type": "display_data"
    },
    {
     "name": "stdout",
     "output_type": "stream",
     "text": [
      "<class 'pandas.core.frame.DataFrame'>\n",
      "RangeIndex: 134 entries, 0 to 133\n",
      "Data columns (total 2 columns):\n",
      " #   Column    Non-Null Count  Dtype \n",
      "---  ------    --------------  ----- \n",
      " 0   aisle_id  134 non-null    int64 \n",
      " 1   aisle     134 non-null    object\n",
      "dtypes: int64(1), object(1)\n",
      "memory usage: 2.2+ KB\n"
     ]
    }
   ],
   "source": [
    "#Read the aisles dataframe and identify the contents\n",
    "aisles=pd.read_csv('/datasets/aisles.csv', sep=';')\n",
    "display(aisles.head())\n",
    "aisles.info()"
   ]
  },
  {
   "cell_type": "markdown",
   "id": "ef8f38dc",
   "metadata": {},
   "source": [
    "#Aisles dataframe consists of 134 entries and two columns aisle_id and aisle.\n",
    "-aisle_id :ID number that uniquely identifies each grocery aisle category\n",
    "-aisle :name of the aisle"
   ]
  },
  {
   "cell_type": "markdown",
   "id": "a57290b8",
   "metadata": {},
   "source": [
    "#Read the fifth dataset departments and understand the contents in each column and store the dataframe in a variable departments."
   ]
  },
  {
   "cell_type": "code",
   "execution_count": 6,
   "id": "59e2090f",
   "metadata": {},
   "outputs": [
    {
     "data": {
      "text/html": [
       "<div>\n",
       "<style scoped>\n",
       "    .dataframe tbody tr th:only-of-type {\n",
       "        vertical-align: middle;\n",
       "    }\n",
       "\n",
       "    .dataframe tbody tr th {\n",
       "        vertical-align: top;\n",
       "    }\n",
       "\n",
       "    .dataframe thead th {\n",
       "        text-align: right;\n",
       "    }\n",
       "</style>\n",
       "<table border=\"1\" class=\"dataframe\">\n",
       "  <thead>\n",
       "    <tr style=\"text-align: right;\">\n",
       "      <th></th>\n",
       "      <th>department_id</th>\n",
       "      <th>department</th>\n",
       "    </tr>\n",
       "  </thead>\n",
       "  <tbody>\n",
       "    <tr>\n",
       "      <th>0</th>\n",
       "      <td>1</td>\n",
       "      <td>frozen</td>\n",
       "    </tr>\n",
       "    <tr>\n",
       "      <th>1</th>\n",
       "      <td>2</td>\n",
       "      <td>other</td>\n",
       "    </tr>\n",
       "    <tr>\n",
       "      <th>2</th>\n",
       "      <td>3</td>\n",
       "      <td>bakery</td>\n",
       "    </tr>\n",
       "    <tr>\n",
       "      <th>3</th>\n",
       "      <td>4</td>\n",
       "      <td>produce</td>\n",
       "    </tr>\n",
       "    <tr>\n",
       "      <th>4</th>\n",
       "      <td>5</td>\n",
       "      <td>alcohol</td>\n",
       "    </tr>\n",
       "  </tbody>\n",
       "</table>\n",
       "</div>"
      ],
      "text/plain": [
       "   department_id department\n",
       "0              1     frozen\n",
       "1              2      other\n",
       "2              3     bakery\n",
       "3              4    produce\n",
       "4              5    alcohol"
      ]
     },
     "metadata": {},
     "output_type": "display_data"
    },
    {
     "name": "stdout",
     "output_type": "stream",
     "text": [
      "<class 'pandas.core.frame.DataFrame'>\n",
      "RangeIndex: 21 entries, 0 to 20\n",
      "Data columns (total 2 columns):\n",
      " #   Column         Non-Null Count  Dtype \n",
      "---  ------         --------------  ----- \n",
      " 0   department_id  21 non-null     int64 \n",
      " 1   department     21 non-null     object\n",
      "dtypes: int64(1), object(1)\n",
      "memory usage: 464.0+ bytes\n"
     ]
    }
   ],
   "source": [
    "#Read the departments dataframe and identify the contents\n",
    "departments=pd.read_csv('/datasets/departments.csv', sep=';')\n",
    "display(departments.head())\n",
    "departments.info()"
   ]
  },
  {
   "cell_type": "markdown",
   "id": "0d624eba",
   "metadata": {},
   "source": []
  },
  {
   "cell_type": "markdown",
   "id": "f51a9593",
   "metadata": {},
   "source": [
    "#Department dataframe consists of 21 entries and two columns.\n",
    "-department_id:ID number that uniquely identifies each grocery department category\n",
    "-department :name of the department"
   ]
  },
  {
   "cell_type": "markdown",
   "id": "59b61163",
   "metadata": {},
   "source": [
    "#Conclusion : In this step, we import the libraries and read the datasets from different files. Also understand the contents in each datasets and found that some of the datas are missing and some have duplicate values. So we want to preprocess the data before we analyze the data."
   ]
  },
  {
   "cell_type": "markdown",
   "id": "07357848-dc64-4156-9cc3-01ff4365226d",
   "metadata": {},
   "source": [
    "## Find and remove duplicate values (and describe why you make your choices)"
   ]
  },
  {
   "cell_type": "markdown",
   "id": "f179f0a9",
   "metadata": {},
   "source": [
    "### `orders` data frame"
   ]
  },
  {
   "cell_type": "markdown",
   "id": "42b0b590",
   "metadata": {},
   "source": [
    "#Stage 2:Preprocess the data before analyze\n",
    "In this stage the contents in each datasets are checked and found that is there any missing and duplicate values. If there is any missing values fill it with appropriate steps and remove the duplicate values. Also verify the datatypes such as the ID columns are integers."
   ]
  },
  {
   "cell_type": "code",
   "execution_count": 7,
   "id": "b99297a5-405a-463d-8535-9adc3da4ad74",
   "metadata": {},
   "outputs": [
    {
     "name": "stdout",
     "output_type": "stream",
     "text": [
      "15\n"
     ]
    }
   ],
   "source": [
    "# Check for duplicated orders\n",
    "instacart_orders_duplicates=instacart_orders.duplicated().sum()\n",
    "print(instacart_orders_duplicates)"
   ]
  },
  {
   "cell_type": "markdown",
   "id": "0080520e",
   "metadata": {},
   "source": [
    "# The result true shows that the instacart_orders datasets consists of duplicate rows"
   ]
  },
  {
   "cell_type": "markdown",
   "id": "0a992090",
   "metadata": {},
   "source": [
    "# For orders placed on Wednesday 2.00AM, check for order_dow equal to 3 and order_hour_of-day is 2. We assume that order_dow=0 is Sunday."
   ]
  },
  {
   "cell_type": "code",
   "execution_count": 8,
   "id": "0d44de5d",
   "metadata": {},
   "outputs": [
    {
     "name": "stdout",
     "output_type": "stream",
     "text": [
      "        order_id  user_id  order_number  order_dow  order_hour_of_day  \\\n",
      "4838     2766110   162084            41          3                  2   \n",
      "5156     2190225   138285            18          3                  2   \n",
      "15506     553049    58599            13          3                  2   \n",
      "18420     382357   120200            19          3                  2   \n",
      "24691     690242    77357             2          3                  2   \n",
      "...          ...      ...           ...        ...                ...   \n",
      "457013   3384021    14881             6          3                  2   \n",
      "458816    910166   164782            18          3                  2   \n",
      "459635   1680532   106435             6          3                  2   \n",
      "468324    222962    54979            59          3                  2   \n",
      "477526   2592344    46860            38          3                  2   \n",
      "\n",
      "        days_since_prior_order  \n",
      "4838                      16.0  \n",
      "5156                      11.0  \n",
      "15506                      7.0  \n",
      "18420                     11.0  \n",
      "24691                      9.0  \n",
      "...                        ...  \n",
      "457013                    30.0  \n",
      "458816                     4.0  \n",
      "459635                    21.0  \n",
      "468324                     3.0  \n",
      "477526                     3.0  \n",
      "\n",
      "[121 rows x 6 columns]\n"
     ]
    }
   ],
   "source": [
    "# Check for all orders placed Wednesday at 2:00 AM\n",
    "instacart_orders_wed2=instacart_orders[(instacart_orders['order_dow']==3) & (instacart_orders['order_hour_of_day']==2)]\n",
    "print(instacart_orders_wed2)"
   ]
  },
  {
   "cell_type": "markdown",
   "id": "130302f4",
   "metadata": {},
   "source": [
    "#From the above table, it is clear that about 121 orders are placed on Wednesday 2.00AM"
   ]
  },
  {
   "cell_type": "code",
   "execution_count": 9,
   "id": "480563c7",
   "metadata": {},
   "outputs": [
    {
     "data": {
      "text/plain": [
       "(478952, 6)"
      ]
     },
     "execution_count": 9,
     "metadata": {},
     "output_type": "execute_result"
    }
   ],
   "source": [
    "# Remove duplicate orders\n",
    "orders=instacart_orders.drop_duplicates()\n",
    "orders.shape"
   ]
  },
  {
   "cell_type": "markdown",
   "id": "084c99fe",
   "metadata": {},
   "source": [
    "#From the above result 478952 rows shows that about 15rows are duplicates in instacart orders dataframe."
   ]
  },
  {
   "cell_type": "code",
   "execution_count": 10,
   "id": "0b2396a2",
   "metadata": {},
   "outputs": [
    {
     "name": "stdout",
     "output_type": "stream",
     "text": [
      "0\n"
     ]
    }
   ],
   "source": [
    "# Double check for duplicate rows\n",
    "print(orders.duplicated().sum())"
   ]
  },
  {
   "cell_type": "code",
   "execution_count": 11,
   "id": "f6113ef1",
   "metadata": {},
   "outputs": [
    {
     "name": "stdout",
     "output_type": "stream",
     "text": [
      "0\n"
     ]
    }
   ],
   "source": [
    "# Double check for duplicate order IDs only\n",
    "print(orders['order_id'].duplicated().sum())"
   ]
  },
  {
   "cell_type": "markdown",
   "id": "4d34103e",
   "metadata": {},
   "source": [
    "The above two results shows the output as zero which means there is no duplicate orders in instacart orders dataframe. The duplicate rows are removed."
   ]
  },
  {
   "cell_type": "markdown",
   "id": "45e6bc46",
   "metadata": {},
   "source": [
    "### `products` data frame"
   ]
  },
  {
   "cell_type": "code",
   "execution_count": 12,
   "id": "5f526b5b-8175-46fa-a0fd-441767d50e64",
   "metadata": {},
   "outputs": [
    {
     "data": {
      "text/plain": [
       "False"
      ]
     },
     "execution_count": 12,
     "metadata": {},
     "output_type": "execute_result"
    }
   ],
   "source": [
    "# Check for fully duplicate rows\n",
    "products_duplicated=products.duplicated().any()\n",
    "products_duplicated"
   ]
  },
  {
   "cell_type": "code",
   "execution_count": 13,
   "id": "88daa4f4",
   "metadata": {},
   "outputs": [
    {
     "name": "stdout",
     "output_type": "stream",
     "text": [
      "0\n"
     ]
    }
   ],
   "source": [
    "# Check for just duplicate product IDs\n",
    "print(products['product_id'].duplicated().sum())"
   ]
  },
  {
   "cell_type": "markdown",
   "id": "c48d4008",
   "metadata": {},
   "source": [
    "#From the above two results, it is clear that there is no rows are duplicated."
   ]
  },
  {
   "cell_type": "code",
   "execution_count": 14,
   "id": "c773f0bf",
   "metadata": {},
   "outputs": [
    {
     "name": "stdout",
     "output_type": "stream",
     "text": [
      "1361\n"
     ]
    }
   ],
   "source": [
    "# Check for just duplicate product names (convert names to lowercase to compare better)\n",
    "products['product_name'] =products['product_name'].str.lower()\n",
    "print(products['product_name'].duplicated().sum())"
   ]
  },
  {
   "cell_type": "markdown",
   "id": "6e7a9992",
   "metadata": {},
   "source": [
    "Here we check the product name for that we convert all cases to lowercase for better results and found duplicated product names count."
   ]
  },
  {
   "cell_type": "code",
   "execution_count": 15,
   "id": "9a43f87a",
   "metadata": {},
   "outputs": [
    {
     "name": "stdout",
     "output_type": "stream",
     "text": [
      "       product_id                      product_name  aisle_id  department_id\n",
      "2058         2059                   biotin 1000 mcg        47             11\n",
      "5455         5456  green tea with ginseng and honey        96             20\n",
      "5558         5559            cream of mushroom soup        69             15\n",
      "7558         7559         cinnamon rolls with icing       105             13\n",
      "9037         9038            american cheese slices        21             16\n",
      "10410       10411                  cauliflower head        83              4\n",
      "12820       12821                     pumpkin spice        53             16\n",
      "14961       14962                    hearts of palm        81             15\n",
      "15659       15660                   cream of tartar       104             13\n",
      "16484       16485           lasagna with meat sauce        38              1\n"
     ]
    }
   ],
   "source": [
    "# Check for duplicate product names that aren't missing\n",
    "duplicate_products=products[~(products['product_name'].isna())&(products['product_name'].str.lower().duplicated())]\n",
    "print(duplicate_products.head(10))"
   ]
  },
  {
   "cell_type": "markdown",
   "id": "60f30db1",
   "metadata": {},
   "source": [
    "### `departments` data frame"
   ]
  },
  {
   "cell_type": "markdown",
   "id": "bd89664f",
   "metadata": {},
   "source": [
    "#Check for departments dataframe that any duplicate rows."
   ]
  },
  {
   "cell_type": "code",
   "execution_count": 16,
   "id": "fb410ad4-0fbf-4b80-bb09-23fdea79afe3",
   "metadata": {},
   "outputs": [
    {
     "name": "stdout",
     "output_type": "stream",
     "text": [
      "False\n"
     ]
    }
   ],
   "source": [
    "#Check for duplicate rows\n",
    "departments_duplicates=departments.duplicated().any()\n",
    "print(departments_duplicates)"
   ]
  },
  {
   "cell_type": "code",
   "execution_count": 17,
   "id": "332b12bb",
   "metadata": {},
   "outputs": [
    {
     "name": "stdout",
     "output_type": "stream",
     "text": [
      "0\n"
     ]
    }
   ],
   "source": [
    "#Double check for duplicate rows\n",
    "print(departments.duplicated().sum())"
   ]
  },
  {
   "cell_type": "markdown",
   "id": "76ce7480",
   "metadata": {},
   "source": [
    "The above two output shows, False and zero there is no duplicated rows in the dataframe."
   ]
  },
  {
   "cell_type": "markdown",
   "id": "889349c1",
   "metadata": {},
   "source": [
    "### `aisles` data frame"
   ]
  },
  {
   "cell_type": "markdown",
   "id": "e0400a96",
   "metadata": {},
   "source": [
    "#Check for aisles dataframe that any duplicate rows."
   ]
  },
  {
   "cell_type": "code",
   "execution_count": 18,
   "id": "9da89fb9-4679-40f5-ad0d-c34df753a3f8",
   "metadata": {},
   "outputs": [
    {
     "name": "stdout",
     "output_type": "stream",
     "text": [
      "False\n"
     ]
    }
   ],
   "source": [
    "##Check for duplicate rows\n",
    "aisles_duplicates=aisles.duplicated().any()\n",
    "print(aisles_duplicates)"
   ]
  },
  {
   "cell_type": "code",
   "execution_count": 19,
   "id": "da7c2822",
   "metadata": {},
   "outputs": [
    {
     "name": "stdout",
     "output_type": "stream",
     "text": [
      "0\n"
     ]
    }
   ],
   "source": [
    "#Double check for duplicate rows\n",
    "print(aisles.duplicated().sum())"
   ]
  },
  {
   "cell_type": "markdown",
   "id": "46135179",
   "metadata": {},
   "source": [
    "The above two output shows, False and zero there is no duplicated rows in the dataframe."
   ]
  },
  {
   "cell_type": "markdown",
   "id": "274cd06a",
   "metadata": {},
   "source": [
    "### `order_products` data frame"
   ]
  },
  {
   "cell_type": "markdown",
   "id": "3b3ea95f",
   "metadata": {},
   "source": [
    "#Check for order_products dataframe that any duplicate rows."
   ]
  },
  {
   "cell_type": "code",
   "execution_count": 20,
   "id": "52326689-84a8-4b8f-a881-7c68780f62c9",
   "metadata": {},
   "outputs": [
    {
     "name": "stdout",
     "output_type": "stream",
     "text": [
      "0\n"
     ]
    }
   ],
   "source": [
    "# Check for fullly duplicate rows\n",
    "print(order_products.duplicated().sum())"
   ]
  },
  {
   "cell_type": "code",
   "execution_count": 21,
   "id": "7b861391",
   "metadata": {},
   "outputs": [
    {
     "name": "stdout",
     "output_type": "stream",
     "text": [
      "False\n"
     ]
    }
   ],
   "source": [
    "# Double check for any other tricky duplicates\n",
    "order_products_duplicates=order_products.duplicated().any()\n",
    "print(order_products_duplicates)"
   ]
  },
  {
   "cell_type": "markdown",
   "id": "1f2961e2",
   "metadata": {},
   "source": [
    " #The above two output shows, False and zero there is no duplicated rows in the dataframe."
   ]
  },
  {
   "cell_type": "markdown",
   "id": "1e46de76",
   "metadata": {},
   "source": [
    "## Find and remove missing values\n"
   ]
  },
  {
   "cell_type": "markdown",
   "id": "c0aebd78",
   "metadata": {},
   "source": [
    "### `products` data frame"
   ]
  },
  {
   "cell_type": "code",
   "execution_count": 22,
   "id": "fe4a8b0f",
   "metadata": {},
   "outputs": [
    {
     "name": "stdout",
     "output_type": "stream",
     "text": [
      "product_id          0\n",
      "product_name     1258\n",
      "aisle_id            0\n",
      "department_id       0\n",
      "dtype: int64\n"
     ]
    }
   ],
   "source": [
    "#Counts the missing values in product dataframe\n",
    "print(products.isna().sum())"
   ]
  },
  {
   "cell_type": "markdown",
   "id": "2c224233",
   "metadata": {},
   "source": [
    "#The isna().sum() counts the missing values in products dataframe and found that 1258 product names are missing."
   ]
  },
  {
   "cell_type": "code",
   "execution_count": 23,
   "id": "e96167bc",
   "metadata": {},
   "outputs": [
    {
     "name": "stdout",
     "output_type": "stream",
     "text": [
      "Aisle_id associated with missed product name:[100]\n"
     ]
    }
   ],
   "source": [
    "# Are all of the missing product names associated with aisle ID 100?\n",
    "#Filter the DataFrame which the productname are missing\n",
    "missing_product_name=products[products['product_name'].isnull()]\n",
    "aisle_id=missing_product_name['aisle_id'].unique()\n",
    "print(f\"Aisle_id associated with missed product name:{aisle_id}\")"
   ]
  },
  {
   "cell_type": "markdown",
   "id": "58ab6b4d",
   "metadata": {},
   "source": [
    "#The above result shows all of the missing product names are associated with aisle id 100."
   ]
  },
  {
   "cell_type": "code",
   "execution_count": 24,
   "id": "8fd0a541",
   "metadata": {},
   "outputs": [
    {
     "name": "stdout",
     "output_type": "stream",
     "text": [
      "The missing product name associated with department:[21]\n"
     ]
    }
   ],
   "source": [
    "# Are all of the missing product names associated with department ID 21?\n",
    "department_id=missing_product_name['department_id'].unique()\n",
    "print(f'The missing product name associated with department:{department_id}')"
   ]
  },
  {
   "cell_type": "markdown",
   "id": "b0968d76",
   "metadata": {},
   "source": [
    "#The above result shows all of the missing product names are associated with department id 21."
   ]
  },
  {
   "cell_type": "code",
   "execution_count": 25,
   "id": "325c3464",
   "metadata": {},
   "outputs": [
    {
     "name": "stdout",
     "output_type": "stream",
     "text": [
      "Aisle Name: missing\n",
      "Department name: missing\n"
     ]
    }
   ],
   "source": [
    "# What is this ailse and department?\n",
    "aisle_name =aisles.loc[aisles['aisle_id']==100, 'aisle'].values[0]\n",
    "print(\"Aisle Name:\", aisle_name)\n",
    "department_name=departments.loc[departments['department_id']==21,'department'].values[0]\n",
    "print(\"Department name:\", department_name)"
   ]
  },
  {
   "cell_type": "markdown",
   "id": "204aebc4",
   "metadata": {},
   "source": [
    "#The above result shows there is no aisle and department corresponds to aisle 1d 100 and department id 21."
   ]
  },
  {
   "cell_type": "code",
   "execution_count": 26,
   "id": "6b295120",
   "metadata": {},
   "outputs": [],
   "source": [
    "# Fill missing product names with 'Unknown'\n",
    "products['product_name']=products['product_name'].fillna('Unknown')"
   ]
  },
  {
   "cell_type": "markdown",
   "id": "7eb45c86",
   "metadata": {},
   "source": [
    "### `orders` data frame"
   ]
  },
  {
   "cell_type": "code",
   "execution_count": 27,
   "id": "93e41d96",
   "metadata": {},
   "outputs": [
    {
     "name": "stdout",
     "output_type": "stream",
     "text": [
      "order_id                      0\n",
      "user_id                       0\n",
      "order_number                  0\n",
      "order_dow                     0\n",
      "order_hour_of_day             0\n",
      "days_since_prior_order    28817\n",
      "dtype: int64\n"
     ]
    }
   ],
   "source": [
    "#Counts the missing values in orders dataframe\n",
    "print(orders.isna().sum())"
   ]
  },
  {
   "cell_type": "code",
   "execution_count": 28,
   "id": "166e5a86",
   "metadata": {},
   "outputs": [
    {
     "name": "stdout",
     "output_type": "stream",
     "text": [
      "order_id                  0\n",
      "user_id                   0\n",
      "order_number              0\n",
      "order_dow                 0\n",
      "order_hour_of_day         0\n",
      "days_since_prior_order    0\n",
      "dtype: int64\n"
     ]
    }
   ],
   "source": [
    "# Are there any missing values where it's not a customer's first order?\n",
    "not_first_order=orders[orders['order_number']> 1]\n",
    "print(not_first_order.isnull().sum())"
   ]
  },
  {
   "cell_type": "markdown",
   "id": "87038754",
   "metadata": {},
   "source": [
    "#The result shows all the missing values in the column days_since_prior_order is first order.\n"
   ]
  },
  {
   "cell_type": "markdown",
   "id": "69dc9ca4",
   "metadata": {},
   "source": [
    "### `order_products` data frame"
   ]
  },
  {
   "cell_type": "code",
   "execution_count": 29,
   "id": "b8240253",
   "metadata": {},
   "outputs": [
    {
     "name": "stdout",
     "output_type": "stream",
     "text": [
      "order_id               0\n",
      "product_id             0\n",
      "add_to_cart_order    836\n",
      "reordered              0\n",
      "dtype: int64\n",
      "<class 'pandas.core.frame.DataFrame'>\n",
      "RangeIndex: 4545007 entries, 0 to 4545006\n",
      "Data columns (total 4 columns):\n",
      " #   Column             Dtype  \n",
      "---  ------             -----  \n",
      " 0   order_id           int64  \n",
      " 1   product_id         int64  \n",
      " 2   add_to_cart_order  float64\n",
      " 3   reordered          int64  \n",
      "dtypes: float64(1), int64(3)\n",
      "memory usage: 138.7 MB\n"
     ]
    }
   ],
   "source": [
    "#Counts the missing values in orders dataframe\n",
    "print(order_products.isna().sum())\n",
    "order_products.info()"
   ]
  },
  {
   "cell_type": "code",
   "execution_count": 30,
   "id": "9a78e5ee",
   "metadata": {},
   "outputs": [
    {
     "name": "stdout",
     "output_type": "stream",
     "text": [
      "The minimum value in add_to_cart_order column is 1.0 and the maximum value is  64.0\n"
     ]
    }
   ],
   "source": [
    "# What are the min and max values in this column?\n",
    "min_value = order_products['add_to_cart_order'].min()\n",
    "max_value = order_products['add_to_cart_order'].max()\n",
    "print(f\"The minimum value in add_to_cart_order column is {min_value} and the maximum value is  {max_value}\")"
   ]
  },
  {
   "cell_type": "code",
   "execution_count": 31,
   "id": "ab9d0c2b",
   "metadata": {},
   "outputs": [
    {
     "name": "stdout",
     "output_type": "stream",
     "text": [
      "[2449164 1968313 2926893 1717990 1959075  844733   61355  936852  264710\n",
      " 1564093  129627  293169 2849370 1386261 3308010  903110 2136777 3347453\n",
      " 1888628  165801 2094761 1038146 2997021  813364 2256933  171934 2409109\n",
      " 1730767 1169835  733526  404157 3125735  747668 1800005 1961723  871281\n",
      "  388234 1648217 1477139  102236 1021563 1832957 2721963  678116 1220886\n",
      " 1673227 2999801 1633337 2470674 2625444 1677118 2479011 3383594 1183255\n",
      " 1713430 2652650 1598369 1916118  854647 1302315  888470  180546 2621907\n",
      " 1308785 2729254    9310 2170451 2979697 1625713 1529171]\n"
     ]
    }
   ],
   "source": [
    "# Save all order IDs with at least one missing value in 'add_to_cart_order'\n",
    "missing_value_IDS=order_products[order_products['add_to_cart_order'].isna()]['order_id'].unique()\n",
    "print(missing_value_IDS)"
   ]
  },
  {
   "cell_type": "code",
   "execution_count": 32,
   "id": "54c31695",
   "metadata": {},
   "outputs": [
    {
     "name": "stdout",
     "output_type": "stream",
     "text": [
      "The number of orders more than 64 products is 70\n"
     ]
    },
    {
     "data": {
      "text/plain": [
       "order_id\n",
       "9310        65\n",
       "61355      127\n",
       "102236      95\n",
       "129627      69\n",
       "165801      70\n",
       "          ... \n",
       "2999801     70\n",
       "3125735     86\n",
       "3308010    115\n",
       "3347453     71\n",
       "3383594     69\n",
       "Name: product_id, Length: 70, dtype: int64"
      ]
     },
     "metadata": {},
     "output_type": "display_data"
    }
   ],
   "source": [
    "# Do all orders with missing values have more than 64 products?\n",
    "#Filter the dataframe \n",
    "filtered_order=order_products[order_products['order_id'].isin(missing_value_IDS)]\n",
    "#Groupby order_id and count each id\n",
    "order_counts=filtered_order.groupby('order_id')['product_id'].count()\n",
    "#Check the condition\n",
    "order_more_than64=order_counts[order_counts>64]\n",
    "#Print the results\n",
    "print(f\"The number of orders more than 64 products is {order_more_than64.count()}\")\n",
    "display(order_more_than64)"
   ]
  },
  {
   "cell_type": "raw",
   "id": "f6aa3d42",
   "metadata": {},
   "source": [
    "#The above result shows 70 orders have more than 64 products. The order id and number of items are shown in the above table."
   ]
  },
  {
   "cell_type": "code",
   "execution_count": 33,
   "id": "7a987d08",
   "metadata": {},
   "outputs": [
    {
     "name": "stdout",
     "output_type": "stream",
     "text": [
      "order_id             0\n",
      "product_id           0\n",
      "add_to_cart_order    0\n",
      "reordered            0\n",
      "dtype: int64\n"
     ]
    }
   ],
   "source": [
    "# Replace missing values with 999 and convert column to integer type\n",
    "order_products['add_to_cart_order']=order_products['add_to_cart_order'].fillna(999).astype(int)\n",
    "print(order_products.isna().sum())"
   ]
  },
  {
   "cell_type": "markdown",
   "id": "0c611cb0",
   "metadata": {},
   "source": [
    "#Conclusion: The dataframes are preprocessed for the analysis purpose and remove all the duplicate rows from each dataframe. Also identify the missing values in each dataframe.\n"
   ]
  },
  {
   "cell_type": "markdown",
   "id": "fea4bcc7",
   "metadata": {},
   "source": []
  },
  {
   "cell_type": "markdown",
   "id": "815bf9d5",
   "metadata": {},
   "source": [
    "#Stage 3:Exploratory Data Analysis.\n",
    "In this stage we are going to analyse the diffrerent shopping habits and behavior of shopping patterns for different instacart customers."
   ]
  },
  {
   "cell_type": "markdown",
   "id": "short-capability",
   "metadata": {},
   "source": [
    "### [A1] Verify that the `'order_hour_of_day'` and `'order_dow'` values in the `orders` tables are sensible (i.e. `'order_hour_of_day'` ranges from 0 to 23 and `'order_dow'` ranges from 0 to 6)"
   ]
  },
  {
   "cell_type": "code",
   "execution_count": 34,
   "id": "growing-fruit",
   "metadata": {},
   "outputs": [
    {
     "name": "stdout",
     "output_type": "stream",
     "text": [
      "[ 0  1  2  3  4  5  6  7  8  9 10 11 12 13 14 15 16 17 18 19 20 21 22 23]\n"
     ]
    }
   ],
   "source": [
    "#Check whether order_hour_of_day ranges from 0 to 23.\n",
    "print(instacart_orders['order_hour_of_day'].sort_values().unique())"
   ]
  },
  {
   "cell_type": "code",
   "execution_count": 35,
   "id": "accessory-malaysia",
   "metadata": {},
   "outputs": [
    {
     "name": "stdout",
     "output_type": "stream",
     "text": [
      "[0 1 2 3 4 5 6]\n"
     ]
    }
   ],
   "source": [
    "#Check whether order_dow ranges from 0 to 6.\n",
    "print(instacart_orders['order_dow'].sort_values().unique())"
   ]
  },
  {
   "cell_type": "markdown",
   "id": "3d2e852b",
   "metadata": {},
   "source": [
    "#The above two results verifies that the values in order dow and order hour of day columns are sensible."
   ]
  },
  {
   "cell_type": "markdown",
   "id": "a6743a70",
   "metadata": {},
   "source": [
    "### [A2] What time of day do people shop for groceries?"
   ]
  },
  {
   "cell_type": "markdown",
   "id": "9fc34b8f",
   "metadata": {},
   "source": [
    "#Our aim is to find the peak time of the day for shopping groceries. To calculate the pattern we can use bar chart which describes the order hour of day."
   ]
  },
  {
   "cell_type": "code",
   "execution_count": 36,
   "id": "a36cca27",
   "metadata": {},
   "outputs": [
    {
     "data": {
      "image/png": "[encoded data removed]",
      "text/plain": [
       "<Figure size 800x600 with 1 Axes>"
      ]
     },
     "metadata": {},
     "output_type": "display_data"
    }
   ],
   "source": [
    "#Plot the pattern of shopping time of a day\n",
    "instacart_orders['order_hour_of_day'].value_counts().sort_index().plot(x='order_hour_of_day',\n",
    "                                                                        y='order_number',\n",
    "                                                                        kind='bar',\n",
    "                                                                        title='Number of orders in a day',\n",
    "                                                                        xlabel='Hour of day',\n",
    "                                                                        ylabel='Number of orders',\n",
    "                                                                        figsize=[8,6]\n",
    "                                                                        )\n",
    "plt.show()"
   ]
  },
  {
   "cell_type": "markdown",
   "id": "d45a73eb",
   "metadata": {},
   "source": [
    "#Analysis of orders in a day\n",
    "From the above plot, we can see that the number of orders increasing from morning and reaches peak during lunchtime and after that decreases the value. So the peak time for shopping in day is from 10.00am to 4.00pm."
   ]
  },
  {
   "cell_type": "markdown",
   "id": "documented-command",
   "metadata": {},
   "source": [
    "### [A3] What day of the week do people shop for groceries?"
   ]
  },
  {
   "cell_type": "markdown",
   "id": "d1b9114b",
   "metadata": {},
   "source": [
    "#Our aim is to find the peak time of the week for shopping groceries. To calculate the pattern we can use bar chart which describes the order dow."
   ]
  },
  {
   "cell_type": "code",
   "execution_count": 37,
   "id": "chief-digit",
   "metadata": {},
   "outputs": [
    {
     "data": {
      "image/png": "[encoded data removed]",
      "text/plain": [
       "<Figure size 800x600 with 1 Axes>"
      ]
     },
     "metadata": {},
     "output_type": "display_data"
    }
   ],
   "source": [
    "#Plot the patten of shopping in a week\n",
    "instacart_orders['order_dow'].value_counts().sort_index().plot(x='order_dow',\n",
    "                                                                        y='order_number',\n",
    "                                                                        kind='bar',\n",
    "                                                                        title='Number of orders in a week',\n",
    "                                                                        xlabel='Day of week',\n",
    "                                                                        ylabel='Number of orders',\n",
    "                                                                        figsize=[8,6]\n",
    "                                                                        )\n",
    "plt.show()"
   ]
  },
  {
   "cell_type": "markdown",
   "id": "6ad5f55a",
   "metadata": {},
   "source": [
    "#Analysis of the orders in a week\n",
    "For this analysis we use number of orders in each day of the week. The result shows the customers use their weekends for shopping."
   ]
  },
  {
   "cell_type": "markdown",
   "id": "cutting-concert",
   "metadata": {},
   "source": [
    "### [A4] How long do people wait until placing another order?"
   ]
  },
  {
   "cell_type": "markdown",
   "id": "5fc8e7a2",
   "metadata": {},
   "source": [
    "#Our aim is to find the waiting period for next order . "
   ]
  },
  {
   "cell_type": "code",
   "execution_count": 38,
   "id": "c231f523",
   "metadata": {},
   "outputs": [
    {
     "data": {
      "image/png": "[encoded data removed]",
      "text/plain": [
       "<Figure size 800x600 with 1 Axes>"
      ]
     },
     "metadata": {},
     "output_type": "display_data"
    }
   ],
   "source": [
    "#Plot the pattern of waiting period for next order\n",
    "instacart_orders['days_since_prior_order'].value_counts().sort_index().plot(\n",
    "                                                                        kind='bar',\n",
    "                                                                        title='Distribution of Orders Prior Date',\n",
    "                                                                        xlabel='Days since Prior Order',\n",
    "                                                                        ylabel='Frequency',\n",
    "                                                                        figsize=[8,6]\n",
    "                                                                        )\n",
    "plt.show()"
   ]
  },
  {
   "cell_type": "markdown",
   "id": "discrete-vertex",
   "metadata": {},
   "source": []
  },
  {
   "cell_type": "code",
   "execution_count": 39,
   "id": "exciting-fantasy",
   "metadata": {},
   "outputs": [
    {
     "name": "stdout",
     "output_type": "stream",
     "text": [
      "The maximum days for next order is 30 and minimum waiting period for next order is 0\n"
     ]
    }
   ],
   "source": [
    "#Calculate the maximum and minimum waiting period for next order\n",
    "max_value=instacart_orders['days_since_prior_order'].max().astype('int')\n",
    "min_value=instacart_orders['days_since_prior_order'].min().astype('int')\n",
    "print(f'The maximum days for next order is { max_value} and minimum waiting period for next order is {min_value}')"
   ]
  },
  {
   "cell_type": "markdown",
   "id": "a9179455",
   "metadata": {},
   "source": [
    "#Analysis for waiting period\n",
    "From the above graph it is clear that most of the customers purchase is weekly or monthly basis. Therefore the maximum number of days for next order is 7 or 30."
   ]
  },
  {
   "cell_type": "markdown",
   "id": "tight-staff",
   "metadata": {},
   "source": [
    "# [B] Medium (must complete all to pass)"
   ]
  },
  {
   "cell_type": "markdown",
   "id": "packed-classic",
   "metadata": {},
   "source": [
    "### [B1] Is there a difference in `'order_hour_of_day'` distributions on Wednesdays and Saturdays? Plot the histograms for both days and describe the differences that you see."
   ]
  },
  {
   "cell_type": "code",
   "execution_count": 40,
   "id": "d89b8403",
   "metadata": {},
   "outputs": [],
   "source": [
    "#Check for wednesday and saturday order\n",
    "wednesday_order=instacart_orders[instacart_orders['order_dow']==3]\n",
    "saturday_order=instacart_orders[instacart_orders['order_dow']==6]"
   ]
  },
  {
   "cell_type": "code",
   "execution_count": 41,
   "id": "94e54e8a",
   "metadata": {},
   "outputs": [],
   "source": [
    "#Dataframe for wednesday and saturday order\n",
    "df=pd.DataFrame({'Wednesday':wednesday_order['order_hour_of_day'],\n",
    "                'Saturday':saturday_order['order_hour_of_day']\n",
    "                })"
   ]
  },
  {
   "cell_type": "code",
   "execution_count": 42,
   "id": "797c90a8",
   "metadata": {},
   "outputs": [
    {
     "data": {
      "image/png": "[encoded data removed]",
      "text/plain": [
       "<Figure size 640x480 with 1 Axes>"
      ]
     },
     "metadata": {},
     "output_type": "display_data"
    }
   ],
   "source": [
    "#Plot the histogram\n",
    "df.plot.hist(bins=24,alpha=0.5)\n",
    "plt.xlabel('Hour of day')\n",
    "plt.ylabel('Frequency')\n",
    "plt.title('Distribution of orders:Wednesdays & Saturdays')\n",
    "plt.legend(['Wednesday','Saturday'])\n",
    "plt.show()"
   ]
  },
  {
   "cell_type": "markdown",
   "id": "a9da6524",
   "metadata": {},
   "source": [
    "#Analysis for distribution of orders:\n",
    "From the above plot compared to wednesday people chooses saturday for shopping. The peak time for shopping for both the days is from 10.00am to 4.00pm."
   ]
  },
  {
   "cell_type": "markdown",
   "id": "e3891143",
   "metadata": {},
   "source": [
    "### [B2] What's the distribution for the number of orders per customer?"
   ]
  },
  {
   "cell_type": "markdown",
   "id": "06bb23b0",
   "metadata": {},
   "source": [
    "#To find the distribution of number of orders per customer group the orders by user-id and count the number of order id."
   ]
  },
  {
   "cell_type": "code",
   "execution_count": 43,
   "id": "5a430072",
   "metadata": {},
   "outputs": [],
   "source": [
    "#Check for number of orders per customer\n",
    "order_counts=instacart_orders.groupby('user_id')['order_id'].count().sort_values()"
   ]
  },
  {
   "cell_type": "code",
   "execution_count": 44,
   "id": "00e69a66",
   "metadata": {},
   "outputs": [
    {
     "data": {
      "image/png": "[encoded data removed]",
      "text/plain": [
       "<Figure size 640x480 with 1 Axes>"
      ]
     },
     "metadata": {},
     "output_type": "display_data"
    }
   ],
   "source": [
    "#Plot the histogram \n",
    "plt.hist(order_counts, bins=25)\n",
    "plt.xlabel('Number of orders')\n",
    "plt.ylabel('Number of customers')                \n",
    "plt.title('Distribution for number of orders per customer')\n",
    "plt.show()"
   ]
  },
  {
   "cell_type": "markdown",
   "id": "45e001fc",
   "metadata": {},
   "source": [
    "#From the above figure it is clear that most of the customers uses one to three times. The number of customers which uses the order more than 10times is very less."
   ]
  },
  {
   "cell_type": "markdown",
   "id": "54a0319c",
   "metadata": {},
   "source": [
    "### [B3] What are the top 20 popular products (display their id and name)?"
   ]
  },
  {
   "cell_type": "markdown",
   "id": "b31df0d1",
   "metadata": {},
   "source": [
    "#Our aim is to find the top 20 popular products. For this we can use product id and count how many times that product is ordered.\n"
   ]
  },
  {
   "cell_type": "code",
   "execution_count": 45,
   "id": "exterior-arizona",
   "metadata": {
    "scrolled": true
   },
   "outputs": [],
   "source": [
    "#Merge the products and order_products dataframe\n",
    "order_merge=order_products.merge(products,on='product_id')\n",
    "#Count the top popular products\n",
    "product_counts=order_merge.groupby(['product_id','product_name']).size()"
   ]
  },
  {
   "cell_type": "code",
   "execution_count": 46,
   "id": "universal-facial",
   "metadata": {},
   "outputs": [],
   "source": [
    "#Sort the top products\n",
    "top_products=product_counts.sort_values(ascending=False)"
   ]
  },
  {
   "cell_type": "code",
   "execution_count": 47,
   "id": "bbcdd20b",
   "metadata": {},
   "outputs": [
    {
     "name": "stdout",
     "output_type": "stream",
     "text": [
      "product_id  product_name            \n",
      "24852       banana                      66050\n",
      "13176       bag of organic bananas      53297\n",
      "21137       organic strawberries        37039\n",
      "21903       organic baby spinach        33971\n",
      "47209       organic hass avocado        29773\n",
      "47766       organic avocado             24689\n",
      "47626       large lemon                 21495\n",
      "16797       strawberries                20018\n",
      "26209       limes                       19690\n",
      "27845       organic whole milk          19600\n",
      "27966       organic raspberries         19197\n",
      "22935       organic yellow onion        15898\n",
      "24964       organic garlic              15292\n",
      "45007       organic zucchini            14584\n",
      "39275       organic blueberries         13879\n",
      "49683       cucumber kirby              13675\n",
      "28204       organic fuji apple          12544\n",
      "5876        organic lemon               12232\n",
      "8277        apple honeycrisp organic    11993\n",
      "40706       organic grape tomatoes      11781\n",
      "dtype: int64\n"
     ]
    }
   ],
   "source": [
    "#Print top 20 products\n",
    "print(top_products.head(20))"
   ]
  },
  {
   "cell_type": "markdown",
   "id": "f9cdb992",
   "metadata": {},
   "source": [
    "#From the above result the top 20 products include banana, strawberries, spinach, avacado, lemon etc. Fruits and vegetables are most popular items in instacart orders."
   ]
  },
  {
   "cell_type": "markdown",
   "id": "romantic-deposit",
   "metadata": {},
   "source": [
    "### [C1] How many items do people typically buy in one order? What does the distribution look like?"
   ]
  },
  {
   "cell_type": "markdown",
   "id": "91da0ae3",
   "metadata": {},
   "source": [
    "#Our aim is to find the number of items in one order. For that group the order products dataframe by order id and count the number in each order id."
   ]
  },
  {
   "cell_type": "code",
   "execution_count": 48,
   "id": "virtual-punch",
   "metadata": {},
   "outputs": [
    {
     "name": "stdout",
     "output_type": "stream",
     "text": [
      "order_id\n",
      "4          13\n",
      "9          15\n",
      "11          5\n",
      "19          3\n",
      "20          8\n",
      "           ..\n",
      "3421034    17\n",
      "3421053     9\n",
      "3421071     5\n",
      "3421077     4\n",
      "3421079     1\n",
      "Length: 450046, dtype: int64\n"
     ]
    }
   ],
   "source": [
    "#Group the items per order by order id\n",
    "items_per_order=order_products.groupby('order_id').size()\n",
    "#Print the results\n",
    "print(items_per_order)"
   ]
  },
  {
   "cell_type": "code",
   "execution_count": 49,
   "id": "sensitive-breathing",
   "metadata": {},
   "outputs": [
    {
     "data": {
      "image/png": "[encoded data removed]",
      "text/plain": [
       "<Figure size 640x480 with 1 Axes>"
      ]
     },
     "metadata": {},
     "output_type": "display_data"
    }
   ],
   "source": [
    "#Plot the graph represents distribution of items per order\n",
    "plt.hist(items_per_order, bins=30)\n",
    "plt.xlabel('Number of items')\n",
    "plt.ylabel('Number of orders')                \n",
    "plt.title('Distribution for items per order')\n",
    "plt.show()"
   ]
  },
  {
   "cell_type": "code",
   "execution_count": 50,
   "id": "completed-frank",
   "metadata": {},
   "outputs": [
    {
     "name": "stdout",
     "output_type": "stream",
     "text": [
      "The average value of items per order is 10\n"
     ]
    }
   ],
   "source": [
    "#Find the average value of items per order\n",
    "average=items_per_order.mean().astype('int')\n",
    "print(f\"The average value of items per order is {average}\")"
   ]
  },
  {
   "cell_type": "markdown",
   "id": "75a870b9",
   "metadata": {},
   "source": [
    "#From the above analysis the average items per order is 8. Most of the customers order one to 10 items per order. The number of customers who order more than 40 items in one order is very less."
   ]
  },
  {
   "cell_type": "markdown",
   "id": "5e6b5537",
   "metadata": {},
   "source": [
    "### [C2] What are the top 20 items that are reordered most frequently (display their names and product IDs)?"
   ]
  },
  {
   "cell_type": "markdown",
   "id": "952f8c08",
   "metadata": {},
   "source": [
    "#Our aim is to find the top 20 items which reordered most frequently. "
   ]
  },
  {
   "cell_type": "code",
   "execution_count": 51,
   "id": "9374e55a",
   "metadata": {},
   "outputs": [],
   "source": [
    "#Find the roordered items\n",
    "reordered_items=order_products[order_products['reordered']==1]\n",
    "#Filter the data by finding the product id of the item\n",
    "reorder_merge=reordered_items.merge(products,on='product_id')\n"
   ]
  },
  {
   "cell_type": "code",
   "execution_count": 52,
   "id": "possible-change",
   "metadata": {
    "scrolled": true
   },
   "outputs": [],
   "source": [
    "#Group the data and find size\n",
    "reorder_counts=reorder_merge.groupby(['product_id','product_name']).size()"
   ]
  },
  {
   "cell_type": "code",
   "execution_count": 53,
   "id": "professional-surfing",
   "metadata": {
    "scrolled": true
   },
   "outputs": [
    {
     "name": "stdout",
     "output_type": "stream",
     "text": [
      "product_id  product_name            \n",
      "24852       banana                      55763\n",
      "13176       bag of organic bananas      44450\n",
      "21137       organic strawberries        28639\n",
      "21903       organic baby spinach        26233\n",
      "47209       organic hass avocado        23629\n",
      "47766       organic avocado             18743\n",
      "27845       organic whole milk          16251\n",
      "47626       large lemon                 15044\n",
      "27966       organic raspberries         14748\n",
      "16797       strawberries                13945\n",
      "26209       limes                       13327\n",
      "22935       organic yellow onion        11145\n",
      "24964       organic garlic              10411\n",
      "45007       organic zucchini            10076\n",
      "49683       cucumber kirby               9538\n",
      "28204       organic fuji apple           8989\n",
      "8277        apple honeycrisp organic     8836\n",
      "39275       organic blueberries          8799\n",
      "5876        organic lemon                8412\n",
      "49235       organic half & half          8389\n",
      "dtype: int64\n"
     ]
    }
   ],
   "source": [
    "#Sort the data and print top 20 rows\n",
    "top20_products=reorder_counts.sort_values(ascending=False)\n",
    "print(top20_products.head(20))"
   ]
  },
  {
   "cell_type": "markdown",
   "id": "314917d0",
   "metadata": {},
   "source": [
    "#From the above result it is clear that most popular items are reordered frequently like bananas, strawberries, spinach, avacado etc."
   ]
  },
  {
   "cell_type": "markdown",
   "id": "9d312b14",
   "metadata": {},
   "source": [
    "### [C3] For each product, what proportion of its orders are reorders?"
   ]
  },
  {
   "cell_type": "markdown",
   "id": "6349ec8e",
   "metadata": {},
   "source": [
    "#Our aim is to find the proportion of total reorders to total orders of each product. For that filter the data and group the orders by product id and count the total orders. Then calculate the total number of reorders for each product. Then calculate the order proportion by finding the ratio of total reorders to total orders."
   ]
  },
  {
   "cell_type": "code",
   "execution_count": 54,
   "id": "8ae9f4b1",
   "metadata": {},
   "outputs": [],
   "source": [
    "#Filter the data and find the average for each product\n",
    "merge_orders=products.merge(order_products, on='product_id')\n",
    "reorder_proportion=merge_orders.groupby(['product_id','product_name'])['reordered'].mean()"
   ]
  },
  {
   "cell_type": "code",
   "execution_count": 55,
   "id": "103e7fe1",
   "metadata": {},
   "outputs": [
    {
     "name": "stdout",
     "output_type": "stream",
     "text": [
      "product_id  product_name                                                     \n",
      "1           chocolate sandwich cookies                                           0.564286\n",
      "2           all-seasons salt                                                     0.000000\n",
      "3           robust golden unsweetened oolong tea                                 0.738095\n",
      "4           smart ones classic favorites mini rigatoni with vodka cream sauce    0.510204\n",
      "7           pure coconut water with orange                                       0.500000\n",
      "8           cut russet potatoes steam n' mash                                    0.315789\n",
      "9           light strawberry blueberry yogurt                                    0.761905\n",
      "10          sparkling orange juice & prickly pear beverage                       0.448071\n",
      "11          peach mango juice                                                    0.625000\n",
      "12          chocolate fudge layer cake                                           0.390244\n",
      "13          saline nasal mist                                                    0.500000\n",
      "14          fresh scent dishwasher cleaner                                       0.000000\n",
      "17          rendered duck fat                                                    0.000000\n",
      "18          pizza for one suprema  frozen pizza                                  0.533333\n",
      "19          gluten free quinoa three cheese & mushroom blend                     0.000000\n",
      "Name: reordered, dtype: float64\n"
     ]
    }
   ],
   "source": [
    "#Print the results\n",
    "print(reorder_proportion.head(15))"
   ]
  },
  {
   "cell_type": "markdown",
   "id": "6af44379",
   "metadata": {},
   "source": [
    "#The above table shows the reorder proportions. If the total reorder for an item is zero, the reorder proportion is zero.i.e, for eg, no customer reordered the item All season salt. All the orders for all seasons salt was its first order for different customers. "
   ]
  },
  {
   "cell_type": "markdown",
   "id": "subject-boxing",
   "metadata": {},
   "source": [
    "### [C4] For each customer, what proportion of their products ordered are reorders?"
   ]
  },
  {
   "cell_type": "markdown",
   "id": "f6516064",
   "metadata": {},
   "source": [
    "#Our aim is to find the proportion of their products ordered are reorders for each customer. For that filter our data and group the data by each customer order by using their user id. Then count how many times each product ordered and also find the reorder count for each product. Then calculate the ratio of total reorders to total orders of each customer."
   ]
  },
  {
   "cell_type": "code",
   "execution_count": 56,
   "id": "medical-couple",
   "metadata": {
    "scrolled": true
   },
   "outputs": [],
   "source": [
    "#Filter the data as per our problem\n",
    "orders_merge =orders.merge(order_products, on='order_id')"
   ]
  },
  {
   "cell_type": "code",
   "execution_count": 57,
   "id": "8892e4b4",
   "metadata": {},
   "outputs": [
    {
     "name": "stdout",
     "output_type": "stream",
     "text": [
      "    user_id  reorder_proportion\n",
      "0         2            0.038462\n",
      "1         4            0.000000\n",
      "2         5            0.666667\n",
      "3         6            0.000000\n",
      "4         7            0.928571\n",
      "5        11            0.200000\n",
      "6        12            0.250000\n",
      "7        13            0.565217\n",
      "8        14            0.360656\n",
      "9        15            0.538462\n",
      "10       16            0.531250\n",
      "11       17            0.716981\n",
      "12       19            0.291667\n",
      "13       20            0.000000\n",
      "14       21            0.400000\n"
     ]
    }
   ],
   "source": [
    "#Find the average for each customer\n",
    "reorder_proportion=orders_merge.groupby('user_id')['reordered'].mean()\n",
    "reorder_proportion=reorder_proportion.reset_index(name='reorder_proportion')\n",
    "#Print the results\n",
    "print(reorder_proportion.head(15))\n"
   ]
  },
  {
   "cell_type": "markdown",
   "id": "35a1182e",
   "metadata": {},
   "source": [
    "#The above table shows the reorder proportion of each customer."
   ]
  },
  {
   "cell_type": "markdown",
   "id": "92d35137",
   "metadata": {},
   "source": [
    "### [C5] What are the top 20 items that people put in their carts first? "
   ]
  },
  {
   "cell_type": "markdown",
   "id": "dacec707",
   "metadata": {},
   "source": [
    "#Our aim is to find the top 20 items that people put in their carts first."
   ]
  },
  {
   "cell_type": "code",
   "execution_count": 58,
   "id": "0ae57274",
   "metadata": {
    "scrolled": true
   },
   "outputs": [
    {
     "name": "stdout",
     "output_type": "stream",
     "text": [
      "product_id  product_name               \n",
      "24852       banana                         15562\n",
      "13176       bag of organic bananas         11026\n",
      "27845       organic whole milk              4363\n",
      "21137       organic strawberries            3946\n",
      "47209       organic hass avocado            3390\n",
      "21903       organic baby spinach            3336\n",
      "47766       organic avocado                 3044\n",
      "19660       spring water                    2336\n",
      "16797       strawberries                    2308\n",
      "27966       organic raspberries             2024\n",
      "44632       sparkling water grapefruit      1914\n",
      "49235       organic half & half             1797\n",
      "47626       large lemon                     1737\n",
      "196         soda                            1733\n",
      "38689       organic reduced fat milk        1397\n",
      "26209       limes                           1370\n",
      "12341       hass avocados                   1340\n",
      "5785        organic reduced fat 2% milk     1310\n",
      "27086       half & half                     1309\n",
      "43352       raspberries                     1246\n",
      "dtype: int64\n"
     ]
    }
   ],
   "source": [
    "#Find the first orders in the cart\n",
    "top_products=order_products[order_products['add_to_cart_order']==1]\n",
    "#Filter the data\n",
    "cart_merge=top_products.merge(products, on='product_id')\n",
    "#Group the data and sort the values\n",
    "top_count=cart_merge.groupby(['product_id','product_name']).size().sort_values(ascending=False)\n",
    "#Print top 20 results\n",
    "print(top_count.head(20))"
   ]
  },
  {
   "cell_type": "markdown",
   "id": "dcf34cb1",
   "metadata": {
    "scrolled": true
   },
   "source": [
    "#The above table shows the top 20 items that people put in their carts first. the most popular items like bananas, strawberries, avocado, spinach etc are put in the cart first. "
   ]
  },
  {
   "cell_type": "markdown",
   "id": "dab6395a",
   "metadata": {},
   "source": [
    "Conclusion:\n",
    "    In the project we analyse the Instacart dataset to gain the insights  about shopping pattern of the customers using this app.We verified the values in columns of datasets and visulalized the shopping pattern by time and by day of the week. We also identify the most poular items in the order. The result shows that most of the customers prefer weekends than weekday for shopping and peak time for shopping is around 10.00am to 4.00 pm.Also we can see that most of the customers purchase are on weekly or monthly basis."
   ]
  },
  {
   "cell_type": "markdown",
   "id": "28ce9872",
   "metadata": {},
   "source": []
  }
 ],
 "metadata": {
  "ExecuteTimeLog": [
   {
    "duration": 161,
    "start_time": "2025-01-17T15:46:53.665Z"
   },
   {
    "duration": 296,
    "start_time": "2025-01-17T15:47:06.366Z"
   },
   {
    "duration": 285,
    "start_time": "2025-01-17T15:47:08.956Z"
   },
   {
    "duration": 126,
    "start_time": "2025-01-17T15:48:15.302Z"
   },
   {
    "duration": 50,
    "start_time": "2025-01-17T15:49:39.002Z"
   },
   {
    "duration": 34,
    "start_time": "2025-01-17T15:49:55.467Z"
   },
   {
    "duration": 406,
    "start_time": "2025-01-17T15:51:39.639Z"
   },
   {
    "duration": 2232,
    "start_time": "2025-01-17T15:51:52.718Z"
   },
   {
    "duration": 766,
    "start_time": "2025-01-17T15:52:07.777Z"
   },
   {
    "duration": 8,
    "start_time": "2025-01-17T15:53:17.632Z"
   },
   {
    "duration": 16,
    "start_time": "2025-01-17T15:54:20.523Z"
   },
   {
    "duration": 7,
    "start_time": "2025-01-17T15:54:44.457Z"
   },
   {
    "duration": 124,
    "start_time": "2025-01-17T15:55:49.390Z"
   },
   {
    "duration": 109,
    "start_time": "2025-01-17T15:56:11.748Z"
   },
   {
    "duration": 114,
    "start_time": "2025-01-17T15:56:23.662Z"
   },
   {
    "duration": 34,
    "start_time": "2025-01-17T15:56:59.939Z"
   },
   {
    "duration": 39,
    "start_time": "2025-01-17T15:57:24.784Z"
   },
   {
    "duration": 689,
    "start_time": "2025-01-17T15:57:45.208Z"
   },
   {
    "duration": 720,
    "start_time": "2025-01-17T15:58:27.021Z"
   },
   {
    "duration": 13,
    "start_time": "2025-01-17T15:58:46.341Z"
   },
   {
    "duration": 12,
    "start_time": "2025-01-17T15:59:00.979Z"
   },
   {
    "duration": 78,
    "start_time": "2025-01-17T16:17:43.669Z"
   },
   {
    "duration": 13,
    "start_time": "2025-01-17T16:19:05.061Z"
   },
   {
    "duration": 75,
    "start_time": "2025-01-17T16:19:12.699Z"
   },
   {
    "duration": 15,
    "start_time": "2025-01-17T16:20:39.535Z"
   },
   {
    "duration": 73,
    "start_time": "2025-01-17T16:25:10.738Z"
   },
   {
    "duration": 13,
    "start_time": "2025-01-17T16:33:16.539Z"
   },
   {
    "duration": 24,
    "start_time": "2025-01-17T16:35:03.380Z"
   },
   {
    "duration": 13,
    "start_time": "2025-01-17T16:42:15.561Z"
   },
   {
    "duration": 23,
    "start_time": "2025-01-17T16:42:23.697Z"
   },
   {
    "duration": 11,
    "start_time": "2025-01-17T16:43:18.753Z"
   },
   {
    "duration": 13,
    "start_time": "2025-01-17T16:43:28.093Z"
   },
   {
    "duration": 3,
    "start_time": "2025-01-17T16:44:44.741Z"
   },
   {
    "duration": 17,
    "start_time": "2025-01-17T16:52:19.963Z"
   },
   {
    "duration": 20,
    "start_time": "2025-01-17T16:53:23.759Z"
   },
   {
    "duration": 21,
    "start_time": "2025-01-17T16:54:28.395Z"
   },
   {
    "duration": 20,
    "start_time": "2025-01-17T17:00:33.536Z"
   },
   {
    "duration": 14,
    "start_time": "2025-01-17T17:04:55.699Z"
   },
   {
    "duration": 6,
    "start_time": "2025-01-17T17:05:24.427Z"
   },
   {
    "duration": 6,
    "start_time": "2025-01-17T17:05:33.947Z"
   },
   {
    "duration": 23,
    "start_time": "2025-01-17T17:08:35.335Z"
   },
   {
    "duration": 25,
    "start_time": "2025-01-17T17:09:19.767Z"
   },
   {
    "duration": 18,
    "start_time": "2025-01-17T17:14:09.335Z"
   },
   {
    "duration": 4,
    "start_time": "2025-01-17T17:14:15.751Z"
   },
   {
    "duration": 16,
    "start_time": "2025-01-17T17:14:54.065Z"
   },
   {
    "duration": 4,
    "start_time": "2025-01-17T17:15:06.122Z"
   },
   {
    "duration": 4,
    "start_time": "2025-01-17T17:16:10.616Z"
   },
   {
    "duration": 4,
    "start_time": "2025-01-17T17:16:49.622Z"
   },
   {
    "duration": 685,
    "start_time": "2025-01-17T17:24:07.755Z"
   },
   {
    "duration": 716,
    "start_time": "2025-01-17T17:24:37.133Z"
   },
   {
    "duration": 688,
    "start_time": "2025-01-17T17:26:26.545Z"
   },
   {
    "duration": 751,
    "start_time": "2025-01-17T17:26:35.106Z"
   },
   {
    "duration": 6,
    "start_time": "2025-01-17T17:32:34.910Z"
   },
   {
    "duration": 6,
    "start_time": "2025-01-17T17:33:15.956Z"
   },
   {
    "duration": 6,
    "start_time": "2025-01-17T17:48:18.587Z"
   },
   {
    "duration": 13,
    "start_time": "2025-01-17T17:49:27.382Z"
   },
   {
    "duration": 4,
    "start_time": "2025-01-17T17:50:31.419Z"
   },
   {
    "duration": 422,
    "start_time": "2025-01-17T18:05:07.662Z"
   },
   {
    "duration": 42,
    "start_time": "2025-01-17T18:05:31.361Z"
   },
   {
    "duration": 46,
    "start_time": "2025-01-17T18:05:54.210Z"
   },
   {
    "duration": 46,
    "start_time": "2025-01-17T18:06:02.624Z"
   },
   {
    "duration": 41,
    "start_time": "2025-01-17T18:06:47.861Z"
   },
   {
    "duration": 6,
    "start_time": "2025-01-17T18:08:48.440Z"
   },
   {
    "duration": 43,
    "start_time": "2025-01-17T18:09:12.294Z"
   },
   {
    "duration": 43,
    "start_time": "2025-01-17T18:09:39.688Z"
   },
   {
    "duration": 2,
    "start_time": "2025-01-17T18:11:33.706Z"
   },
   {
    "duration": 17,
    "start_time": "2025-01-17T18:12:23.502Z"
   },
   {
    "duration": 158,
    "start_time": "2025-01-17T20:58:17.076Z"
   },
   {
    "duration": 11,
    "start_time": "2025-01-17T20:59:03.346Z"
   },
   {
    "duration": 286,
    "start_time": "2025-01-17T20:59:09.409Z"
   },
   {
    "duration": 175,
    "start_time": "2025-01-17T20:59:11.787Z"
   },
   {
    "duration": 58,
    "start_time": "2025-01-17T20:59:14.880Z"
   },
   {
    "duration": 860,
    "start_time": "2025-01-17T20:59:18.901Z"
   },
   {
    "duration": 749,
    "start_time": "2025-01-17T20:59:25.152Z"
   },
   {
    "duration": 13,
    "start_time": "2025-01-17T20:59:28.708Z"
   },
   {
    "duration": 11,
    "start_time": "2025-01-17T20:59:32.519Z"
   },
   {
    "duration": 89,
    "start_time": "2025-01-17T20:59:36.648Z"
   },
   {
    "duration": 10,
    "start_time": "2025-01-17T20:59:39.701Z"
   },
   {
    "duration": 88,
    "start_time": "2025-01-17T20:59:43.918Z"
   },
   {
    "duration": 94,
    "start_time": "2025-01-17T20:59:47.745Z"
   },
   {
    "duration": 27,
    "start_time": "2025-01-17T20:59:51.746Z"
   },
   {
    "duration": 16,
    "start_time": "2025-01-17T20:59:57.195Z"
   },
   {
    "duration": 3,
    "start_time": "2025-01-17T20:59:59.898Z"
   },
   {
    "duration": 21,
    "start_time": "2025-01-17T21:00:02.476Z"
   },
   {
    "duration": 25,
    "start_time": "2025-01-17T21:00:05.453Z"
   },
   {
    "duration": 4,
    "start_time": "2025-01-17T21:00:10.345Z"
   },
   {
    "duration": 4,
    "start_time": "2025-01-17T21:00:17.409Z"
   },
   {
    "duration": 4,
    "start_time": "2025-01-17T21:00:20.303Z"
   },
   {
    "duration": 5,
    "start_time": "2025-01-17T21:00:23.317Z"
   },
   {
    "duration": 772,
    "start_time": "2025-01-17T21:00:26.063Z"
   },
   {
    "duration": 765,
    "start_time": "2025-01-17T21:00:28.659Z"
   },
   {
    "duration": 6,
    "start_time": "2025-01-17T21:00:32.273Z"
   },
   {
    "duration": 6,
    "start_time": "2025-01-17T21:00:35.601Z"
   },
   {
    "duration": 3,
    "start_time": "2025-01-17T21:00:38.448Z"
   },
   {
    "duration": 398,
    "start_time": "2025-01-17T21:00:41.667Z"
   },
   {
    "duration": 64,
    "start_time": "2025-01-17T21:01:40.460Z"
   },
   {
    "duration": 15,
    "start_time": "2025-01-17T21:02:18.104Z"
   },
   {
    "duration": 15,
    "start_time": "2025-01-17T21:02:48.289Z"
   },
   {
    "duration": 16,
    "start_time": "2025-01-17T21:04:59.906Z"
   },
   {
    "duration": 14,
    "start_time": "2025-01-17T21:05:18.754Z"
   },
   {
    "duration": 16,
    "start_time": "2025-01-17T21:05:48.611Z"
   },
   {
    "duration": 5,
    "start_time": "2025-01-17T21:07:01.088Z"
   },
   {
    "duration": 3,
    "start_time": "2025-01-17T21:09:08.168Z"
   },
   {
    "duration": 6,
    "start_time": "2025-01-17T21:09:58.147Z"
   },
   {
    "duration": 29,
    "start_time": "2025-01-17T21:10:12.681Z"
   },
   {
    "duration": 86,
    "start_time": "2025-01-17T21:10:49.548Z"
   },
   {
    "duration": 71,
    "start_time": "2025-01-17T21:12:51.754Z"
   },
   {
    "duration": 67,
    "start_time": "2025-01-17T21:13:16.847Z"
   },
   {
    "duration": 70,
    "start_time": "2025-01-17T21:15:09.024Z"
   },
   {
    "duration": 34,
    "start_time": "2025-01-17T21:16:51.204Z"
   },
   {
    "duration": 33,
    "start_time": "2025-01-17T21:17:09.313Z"
   },
   {
    "duration": 60,
    "start_time": "2025-01-17T21:19:40.392Z"
   },
   {
    "duration": 14,
    "start_time": "2025-01-17T21:33:11.040Z"
   },
   {
    "duration": 12,
    "start_time": "2025-01-17T21:34:31.833Z"
   },
   {
    "duration": 2,
    "start_time": "2025-01-17T21:58:34.831Z"
   },
   {
    "duration": 13,
    "start_time": "2025-01-17T22:00:03.581Z"
   },
   {
    "duration": 4,
    "start_time": "2025-01-17T22:01:22.204Z"
   },
   {
    "duration": 4,
    "start_time": "2025-01-17T22:03:36.532Z"
   },
   {
    "duration": 4,
    "start_time": "2025-01-17T22:04:43.050Z"
   },
   {
    "duration": 13,
    "start_time": "2025-01-17T22:04:56.222Z"
   },
   {
    "duration": 13,
    "start_time": "2025-01-17T22:06:18.137Z"
   },
   {
    "duration": 12,
    "start_time": "2025-01-17T22:06:35.593Z"
   },
   {
    "duration": 11,
    "start_time": "2025-01-17T22:06:59.996Z"
   },
   {
    "duration": 12,
    "start_time": "2025-01-17T22:07:26.090Z"
   },
   {
    "duration": 11,
    "start_time": "2025-01-17T22:07:47.171Z"
   },
   {
    "duration": 4,
    "start_time": "2025-01-17T22:08:12.703Z"
   },
   {
    "duration": 6,
    "start_time": "2025-01-17T22:08:21.185Z"
   },
   {
    "duration": 4,
    "start_time": "2025-01-17T22:08:39.986Z"
   },
   {
    "duration": 11,
    "start_time": "2025-01-17T22:14:25.524Z"
   },
   {
    "duration": 10,
    "start_time": "2025-01-17T22:14:47.425Z"
   },
   {
    "duration": 11,
    "start_time": "2025-01-17T22:15:18.537Z"
   },
   {
    "duration": 11,
    "start_time": "2025-01-17T22:15:50.200Z"
   },
   {
    "duration": 11,
    "start_time": "2025-01-17T22:16:02.074Z"
   },
   {
    "duration": 4,
    "start_time": "2025-01-17T22:16:15.682Z"
   },
   {
    "duration": 17,
    "start_time": "2025-01-17T22:17:07.685Z"
   },
   {
    "duration": 6,
    "start_time": "2025-01-17T22:20:29.921Z"
   },
   {
    "duration": 16,
    "start_time": "2025-01-17T22:26:15.905Z"
   },
   {
    "duration": 18,
    "start_time": "2025-01-17T22:27:49.850Z"
   },
   {
    "duration": 32,
    "start_time": "2025-01-17T22:35:02.600Z"
   },
   {
    "duration": 12,
    "start_time": "2025-01-17T22:38:38.112Z"
   },
   {
    "duration": 724,
    "start_time": "2025-01-17T22:39:06.239Z"
   },
   {
    "duration": 725,
    "start_time": "2025-01-17T22:40:17.698Z"
   },
   {
    "duration": 23,
    "start_time": "2025-01-17T22:55:28.128Z"
   },
   {
    "duration": 8,
    "start_time": "2025-01-17T22:56:10.247Z"
   },
   {
    "duration": 20,
    "start_time": "2025-01-17T23:11:47.584Z"
   },
   {
    "duration": 37,
    "start_time": "2025-01-17T23:14:21.058Z"
   },
   {
    "duration": 41,
    "start_time": "2025-01-17T23:15:52.005Z"
   },
   {
    "duration": 35,
    "start_time": "2025-01-17T23:16:39.243Z"
   },
   {
    "duration": 26,
    "start_time": "2025-01-17T23:17:06.037Z"
   },
   {
    "duration": 31,
    "start_time": "2025-01-17T23:17:29.786Z"
   },
   {
    "duration": 22,
    "start_time": "2025-01-17T23:17:40.143Z"
   },
   {
    "duration": 22,
    "start_time": "2025-01-17T23:17:53.590Z"
   },
   {
    "duration": 161,
    "start_time": "2025-01-17T23:18:05.842Z"
   },
   {
    "duration": 41,
    "start_time": "2025-01-17T23:18:42.109Z"
   },
   {
    "duration": 5,
    "start_time": "2025-01-17T23:21:37.047Z"
   },
   {
    "duration": 4,
    "start_time": "2025-01-17T23:21:55.712Z"
   },
   {
    "duration": 28,
    "start_time": "2025-01-17T23:22:05.645Z"
   },
   {
    "duration": 21,
    "start_time": "2025-01-17T23:23:07.209Z"
   },
   {
    "duration": 1911,
    "start_time": "2025-01-17T23:28:41.438Z"
   },
   {
    "duration": 454,
    "start_time": "2025-01-17T23:36:33.164Z"
   },
   {
    "duration": 194,
    "start_time": "2025-01-17T23:36:36.044Z"
   },
   {
    "duration": 58,
    "start_time": "2025-01-17T23:36:39.430Z"
   },
   {
    "duration": 799,
    "start_time": "2025-01-17T23:36:42.648Z"
   },
   {
    "duration": 12,
    "start_time": "2025-01-17T23:36:45.049Z"
   },
   {
    "duration": 11,
    "start_time": "2025-01-17T23:36:47.394Z"
   },
   {
    "duration": 85,
    "start_time": "2025-01-17T23:36:51.049Z"
   },
   {
    "duration": 9,
    "start_time": "2025-01-17T23:36:53.550Z"
   },
   {
    "duration": 106,
    "start_time": "2025-01-17T23:36:56.469Z"
   },
   {
    "duration": 103,
    "start_time": "2025-01-17T23:36:58.789Z"
   },
   {
    "duration": 26,
    "start_time": "2025-01-17T23:37:01.240Z"
   },
   {
    "duration": 13,
    "start_time": "2025-01-17T23:37:06.832Z"
   },
   {
    "duration": 4,
    "start_time": "2025-01-17T23:37:09.295Z"
   },
   {
    "duration": 19,
    "start_time": "2025-01-17T23:37:12.601Z"
   },
   {
    "duration": 26,
    "start_time": "2025-01-17T23:37:17.131Z"
   },
   {
    "duration": 3,
    "start_time": "2025-01-17T23:37:20.638Z"
   },
   {
    "duration": 3,
    "start_time": "2025-01-17T23:37:23.037Z"
   },
   {
    "duration": 4,
    "start_time": "2025-01-17T23:37:26.122Z"
   },
   {
    "duration": 4,
    "start_time": "2025-01-17T23:37:29.226Z"
   },
   {
    "duration": 740,
    "start_time": "2025-01-17T23:37:33.123Z"
   },
   {
    "duration": 764,
    "start_time": "2025-01-17T23:37:36.068Z"
   },
   {
    "duration": 6,
    "start_time": "2025-01-17T23:37:39.953Z"
   },
   {
    "duration": 6,
    "start_time": "2025-01-17T23:37:44.569Z"
   },
   {
    "duration": 4,
    "start_time": "2025-01-17T23:37:46.725Z"
   },
   {
    "duration": 5,
    "start_time": "2025-01-17T23:37:49.244Z"
   },
   {
    "duration": 5,
    "start_time": "2025-01-17T23:37:51.709Z"
   },
   {
    "duration": 5,
    "start_time": "2025-01-17T23:37:56.913Z"
   },
   {
    "duration": 16,
    "start_time": "2025-01-17T23:37:59.855Z"
   },
   {
    "duration": 20,
    "start_time": "2025-01-17T23:38:03.413Z"
   },
   {
    "duration": 32,
    "start_time": "2025-01-17T23:38:07.061Z"
   },
   {
    "duration": 12,
    "start_time": "2025-01-17T23:38:10.716Z"
   },
   {
    "duration": 7,
    "start_time": "2025-01-17T23:38:13.203Z"
   },
   {
    "duration": 37,
    "start_time": "2025-01-17T23:38:16.476Z"
   },
   {
    "duration": 26,
    "start_time": "2025-01-17T23:38:20.925Z"
   },
   {
    "duration": 22,
    "start_time": "2025-01-17T23:38:23.648Z"
   },
   {
    "duration": 161,
    "start_time": "2025-01-17T23:40:36.395Z"
   },
   {
    "duration": 14,
    "start_time": "2025-01-17T23:41:38.490Z"
   },
   {
    "duration": 432,
    "start_time": "2025-01-17T23:43:14.718Z"
   },
   {
    "duration": 163,
    "start_time": "2025-01-17T23:43:17.128Z"
   },
   {
    "duration": 199,
    "start_time": "2025-01-17T23:43:24.152Z"
   },
   {
    "duration": 214,
    "start_time": "2025-01-17T23:44:11.055Z"
   },
   {
    "duration": 182,
    "start_time": "2025-01-17T23:44:30.713Z"
   },
   {
    "duration": 180,
    "start_time": "2025-01-17T23:45:42.949Z"
   },
   {
    "duration": 169,
    "start_time": "2025-01-17T23:46:58.683Z"
   },
   {
    "duration": 157,
    "start_time": "2025-01-17T23:50:47.680Z"
   },
   {
    "duration": 471,
    "start_time": "2025-01-17T23:51:02.489Z"
   },
   {
    "duration": 164,
    "start_time": "2025-01-17T23:51:04.718Z"
   },
   {
    "duration": 6,
    "start_time": "2025-01-17T23:51:25.617Z"
   },
   {
    "duration": 194,
    "start_time": "2025-01-17T23:51:32.929Z"
   },
   {
    "duration": 179,
    "start_time": "2025-01-17T23:52:01.579Z"
   },
   {
    "duration": 124,
    "start_time": "2025-01-17T23:53:25.752Z"
   },
   {
    "duration": 209,
    "start_time": "2025-01-17T23:57:53.678Z"
   },
   {
    "duration": 6,
    "start_time": "2025-01-18T00:07:43.780Z"
   },
   {
    "duration": 140,
    "start_time": "2025-01-18T00:07:57.077Z"
   },
   {
    "duration": 135,
    "start_time": "2025-01-18T00:08:19.326Z"
   },
   {
    "duration": 279,
    "start_time": "2025-01-18T00:09:03.991Z"
   },
   {
    "duration": 674,
    "start_time": "2025-01-18T00:09:33.153Z"
   },
   {
    "duration": 214,
    "start_time": "2025-01-18T00:09:58.365Z"
   },
   {
    "duration": 147,
    "start_time": "2025-01-18T00:10:15.025Z"
   },
   {
    "duration": 148,
    "start_time": "2025-01-18T00:10:43.275Z"
   },
   {
    "duration": 145,
    "start_time": "2025-01-18T00:21:15.516Z"
   },
   {
    "duration": 207,
    "start_time": "2025-01-18T00:22:01.849Z"
   },
   {
    "duration": 2200,
    "start_time": "2025-01-18T00:58:01.724Z"
   },
   {
    "duration": 169,
    "start_time": "2025-01-18T00:58:03.926Z"
   },
   {
    "duration": 61,
    "start_time": "2025-01-18T00:58:06.185Z"
   },
   {
    "duration": 817,
    "start_time": "2025-01-18T00:58:08.256Z"
   },
   {
    "duration": 13,
    "start_time": "2025-01-18T00:58:09.917Z"
   },
   {
    "duration": 13,
    "start_time": "2025-01-18T00:58:12.418Z"
   },
   {
    "duration": 93,
    "start_time": "2025-01-18T00:58:15.798Z"
   },
   {
    "duration": 9,
    "start_time": "2025-01-18T00:58:17.951Z"
   },
   {
    "duration": 102,
    "start_time": "2025-01-18T00:58:20.729Z"
   },
   {
    "duration": 97,
    "start_time": "2025-01-18T00:58:22.977Z"
   },
   {
    "duration": 26,
    "start_time": "2025-01-18T00:58:23.756Z"
   },
   {
    "duration": 17,
    "start_time": "2025-01-18T00:58:27.892Z"
   },
   {
    "duration": 19,
    "start_time": "2025-01-18T00:58:30.975Z"
   },
   {
    "duration": 27,
    "start_time": "2025-01-18T00:58:32.920Z"
   },
   {
    "duration": 4,
    "start_time": "2025-01-18T00:58:36.295Z"
   },
   {
    "duration": 3,
    "start_time": "2025-01-18T00:58:38.254Z"
   },
   {
    "duration": 5,
    "start_time": "2025-01-18T00:58:41.698Z"
   },
   {
    "duration": 3,
    "start_time": "2025-01-18T00:58:42.469Z"
   },
   {
    "duration": 834,
    "start_time": "2025-01-18T00:58:45.749Z"
   },
   {
    "duration": 823,
    "start_time": "2025-01-18T00:58:48.628Z"
   },
   {
    "duration": 6,
    "start_time": "2025-01-18T00:58:52.554Z"
   },
   {
    "duration": 7,
    "start_time": "2025-01-18T00:58:55.349Z"
   },
   {
    "duration": 202,
    "start_time": "2025-01-18T00:59:00.890Z"
   },
   {
    "duration": 126,
    "start_time": "2025-01-18T00:59:04.359Z"
   },
   {
    "duration": 209,
    "start_time": "2025-01-18T00:59:08.996Z"
   },
   {
    "duration": 8,
    "start_time": "2025-01-18T00:59:15.826Z"
   },
   {
    "duration": 2160,
    "start_time": "2025-01-18T15:34:01.626Z"
   },
   {
    "duration": 174,
    "start_time": "2025-01-18T15:34:03.787Z"
   },
   {
    "duration": 191,
    "start_time": "2025-01-18T15:34:09.786Z"
   },
   {
    "duration": 121,
    "start_time": "2025-01-18T15:34:13.523Z"
   },
   {
    "duration": 203,
    "start_time": "2025-01-18T15:34:22.177Z"
   },
   {
    "duration": 19,
    "start_time": "2025-01-18T15:51:38.861Z"
   },
   {
    "duration": 221,
    "start_time": "2025-01-18T15:51:40.611Z"
   },
   {
    "duration": 12,
    "start_time": "2025-01-18T15:51:54.631Z"
   },
   {
    "duration": 10,
    "start_time": "2025-01-18T15:52:10.285Z"
   },
   {
    "duration": 385,
    "start_time": "2025-01-18T15:52:32.541Z"
   },
   {
    "duration": 13,
    "start_time": "2025-01-18T15:52:59.083Z"
   },
   {
    "duration": 18,
    "start_time": "2025-01-18T15:53:34.901Z"
   },
   {
    "duration": 198,
    "start_time": "2025-01-18T15:53:37.143Z"
   },
   {
    "duration": 182,
    "start_time": "2025-01-18T15:53:52.085Z"
   },
   {
    "duration": 167,
    "start_time": "2025-01-18T15:54:06.705Z"
   },
   {
    "duration": 167,
    "start_time": "2025-01-18T15:54:26.134Z"
   },
   {
    "duration": 176,
    "start_time": "2025-01-18T15:55:14.703Z"
   },
   {
    "duration": 166,
    "start_time": "2025-01-18T15:55:28.070Z"
   },
   {
    "duration": 164,
    "start_time": "2025-01-18T15:55:54.610Z"
   },
   {
    "duration": 239,
    "start_time": "2025-01-18T15:56:03.763Z"
   },
   {
    "duration": 178,
    "start_time": "2025-01-18T15:56:35.702Z"
   },
   {
    "duration": 164,
    "start_time": "2025-01-18T15:56:43.846Z"
   },
   {
    "duration": 165,
    "start_time": "2025-01-18T15:57:04.426Z"
   },
   {
    "duration": 173,
    "start_time": "2025-01-18T15:57:35.189Z"
   },
   {
    "duration": 145,
    "start_time": "2025-01-18T15:57:46.067Z"
   },
   {
    "duration": 155,
    "start_time": "2025-01-18T15:58:00.869Z"
   },
   {
    "duration": 168,
    "start_time": "2025-01-18T15:58:12.611Z"
   },
   {
    "duration": 164,
    "start_time": "2025-01-18T15:58:20.578Z"
   },
   {
    "duration": 167,
    "start_time": "2025-01-18T15:58:36.022Z"
   },
   {
    "duration": 253,
    "start_time": "2025-01-18T15:58:48.189Z"
   },
   {
    "duration": 157,
    "start_time": "2025-01-18T15:59:00.059Z"
   },
   {
    "duration": 167,
    "start_time": "2025-01-18T15:59:09.276Z"
   },
   {
    "duration": 164,
    "start_time": "2025-01-18T15:59:16.810Z"
   },
   {
    "duration": 2,
    "start_time": "2025-01-18T16:08:14.614Z"
   },
   {
    "duration": 125,
    "start_time": "2025-01-18T16:08:16.045Z"
   },
   {
    "duration": 168,
    "start_time": "2025-01-18T16:08:27.808Z"
   },
   {
    "duration": 166,
    "start_time": "2025-01-18T16:08:35.681Z"
   },
   {
    "duration": 165,
    "start_time": "2025-01-18T16:21:48.515Z"
   },
   {
    "duration": 178,
    "start_time": "2025-01-18T16:22:30.801Z"
   },
   {
    "duration": 178,
    "start_time": "2025-01-18T16:23:18.564Z"
   },
   {
    "duration": 3,
    "start_time": "2025-01-18T16:23:24.304Z"
   },
   {
    "duration": 115,
    "start_time": "2025-01-18T16:23:26.174Z"
   },
   {
    "duration": 259,
    "start_time": "2025-01-18T16:23:36.784Z"
   },
   {
    "duration": 7,
    "start_time": "2025-01-18T16:26:37.432Z"
   },
   {
    "duration": 175,
    "start_time": "2025-01-18T16:26:53.990Z"
   },
   {
    "duration": 173,
    "start_time": "2025-01-18T16:27:24.960Z"
   },
   {
    "duration": 164,
    "start_time": "2025-01-18T16:28:32.150Z"
   },
   {
    "duration": 13,
    "start_time": "2025-01-18T16:48:23.293Z"
   },
   {
    "duration": 776,
    "start_time": "2025-01-18T16:48:41.254Z"
   },
   {
    "duration": 14,
    "start_time": "2025-01-18T16:48:52.148Z"
   },
   {
    "duration": 5,
    "start_time": "2025-01-18T16:49:11.338Z"
   },
   {
    "duration": 12,
    "start_time": "2025-01-18T16:49:13.889Z"
   },
   {
    "duration": 94,
    "start_time": "2025-01-18T16:50:10.279Z"
   },
   {
    "duration": 3,
    "start_time": "2025-01-18T16:50:15.030Z"
   },
   {
    "duration": 5,
    "start_time": "2025-01-18T16:50:46.403Z"
   },
   {
    "duration": 5,
    "start_time": "2025-01-18T16:51:02.018Z"
   },
   {
    "duration": 3,
    "start_time": "2025-01-18T16:51:10.788Z"
   },
   {
    "duration": 4,
    "start_time": "2025-01-18T16:51:18.719Z"
   },
   {
    "duration": 152,
    "start_time": "2025-01-18T16:52:39.984Z"
   },
   {
    "duration": 14,
    "start_time": "2025-01-18T16:57:31.520Z"
   },
   {
    "duration": 13,
    "start_time": "2025-01-18T16:57:40.943Z"
   },
   {
    "duration": 64,
    "start_time": "2025-01-18T16:58:48.030Z"
   },
   {
    "duration": 976,
    "start_time": "2025-01-18T16:58:56.793Z"
   },
   {
    "duration": 6,
    "start_time": "2025-01-18T16:58:59.511Z"
   },
   {
    "duration": 5,
    "start_time": "2025-01-18T16:59:02.527Z"
   },
   {
    "duration": 2127,
    "start_time": "2025-01-18T17:42:22.904Z"
   },
   {
    "duration": 173,
    "start_time": "2025-01-18T17:42:25.957Z"
   },
   {
    "duration": 60,
    "start_time": "2025-01-18T17:42:28.470Z"
   },
   {
    "duration": 794,
    "start_time": "2025-01-18T17:42:31.394Z"
   },
   {
    "duration": 13,
    "start_time": "2025-01-18T17:42:33.154Z"
   },
   {
    "duration": 87,
    "start_time": "2025-01-18T17:42:36.933Z"
   },
   {
    "duration": 9,
    "start_time": "2025-01-18T17:42:38.505Z"
   },
   {
    "duration": 94,
    "start_time": "2025-01-18T17:42:42.094Z"
   },
   {
    "duration": 85,
    "start_time": "2025-01-18T17:42:44.579Z"
   },
   {
    "duration": 26,
    "start_time": "2025-01-18T17:42:45.727Z"
   },
   {
    "duration": 15,
    "start_time": "2025-01-18T17:42:48.941Z"
   },
   {
    "duration": 4,
    "start_time": "2025-01-18T17:42:50.863Z"
   },
   {
    "duration": 25,
    "start_time": "2025-01-18T17:42:52.349Z"
   },
   {
    "duration": 27,
    "start_time": "2025-01-18T17:42:54.332Z"
   },
   {
    "duration": 228,
    "start_time": "2025-01-18T17:42:57.456Z"
   },
   {
    "duration": 13,
    "start_time": "2025-01-18T17:43:04.809Z"
   },
   {
    "duration": 14,
    "start_time": "2025-01-18T17:43:23.049Z"
   },
   {
    "duration": 4,
    "start_time": "2025-01-18T17:43:28.044Z"
   },
   {
    "duration": 4,
    "start_time": "2025-01-18T17:43:29.919Z"
   },
   {
    "duration": 4,
    "start_time": "2025-01-18T17:43:32.660Z"
   },
   {
    "duration": 4,
    "start_time": "2025-01-18T17:43:34.156Z"
   },
   {
    "duration": 193,
    "start_time": "2025-01-18T17:43:42.109Z"
   },
   {
    "duration": 125,
    "start_time": "2025-01-18T17:43:49.408Z"
   },
   {
    "duration": 3,
    "start_time": "2025-01-18T17:44:47.094Z"
   },
   {
    "duration": 127,
    "start_time": "2025-01-18T17:44:56.269Z"
   },
   {
    "duration": 3,
    "start_time": "2025-01-18T17:45:05.590Z"
   },
   {
    "duration": 142,
    "start_time": "2025-01-18T17:45:07.121Z"
   },
   {
    "duration": 38,
    "start_time": "2025-01-18T17:45:10.174Z"
   },
   {
    "duration": 715,
    "start_time": "2025-01-18T17:45:11.649Z"
   },
   {
    "duration": 12,
    "start_time": "2025-01-18T17:45:13.456Z"
   },
   {
    "duration": 77,
    "start_time": "2025-01-18T17:45:16.887Z"
   },
   {
    "duration": 13,
    "start_time": "2025-01-18T17:45:24.126Z"
   },
   {
    "duration": 17,
    "start_time": "2025-01-18T17:45:27.349Z"
   },
   {
    "duration": 16,
    "start_time": "2025-01-18T17:45:28.700Z"
   },
   {
    "duration": 168,
    "start_time": "2025-01-18T17:45:31.014Z"
   },
   {
    "duration": 118,
    "start_time": "2025-01-18T17:45:35.781Z"
   },
   {
    "duration": 104,
    "start_time": "2025-01-18T17:45:45.418Z"
   },
   {
    "duration": 14,
    "start_time": "2025-01-18T17:45:47.339Z"
   },
   {
    "duration": 575,
    "start_time": "2025-01-18T17:48:41.179Z"
   },
   {
    "duration": 114,
    "start_time": "2025-01-18T17:50:25.100Z"
   },
   {
    "duration": 122,
    "start_time": "2025-01-18T17:51:18.130Z"
   },
   {
    "duration": 136,
    "start_time": "2025-01-18T17:51:30.286Z"
   },
   {
    "duration": 188,
    "start_time": "2025-01-18T17:51:41.313Z"
   },
   {
    "duration": 106,
    "start_time": "2025-01-18T17:57:24.120Z"
   },
   {
    "duration": 123,
    "start_time": "2025-01-18T17:58:51.120Z"
   },
   {
    "duration": 125,
    "start_time": "2025-01-18T17:59:15.227Z"
   },
   {
    "duration": 247,
    "start_time": "2025-01-18T18:01:03.400Z"
   },
   {
    "duration": 134,
    "start_time": "2025-01-18T18:01:09.866Z"
   },
   {
    "duration": 130,
    "start_time": "2025-01-18T18:01:21.156Z"
   },
   {
    "duration": 134,
    "start_time": "2025-01-18T18:01:59.158Z"
   },
   {
    "duration": 137,
    "start_time": "2025-01-18T18:02:21.174Z"
   },
   {
    "duration": 135,
    "start_time": "2025-01-18T18:02:31.257Z"
   },
   {
    "duration": 138,
    "start_time": "2025-01-18T18:02:40.694Z"
   },
   {
    "duration": 132,
    "start_time": "2025-01-18T18:02:52.174Z"
   },
   {
    "duration": 138,
    "start_time": "2025-01-18T18:03:15.600Z"
   },
   {
    "duration": 135,
    "start_time": "2025-01-18T18:03:35.877Z"
   },
   {
    "duration": 13,
    "start_time": "2025-01-18T18:04:57.762Z"
   },
   {
    "duration": 3,
    "start_time": "2025-01-18T18:05:16.696Z"
   },
   {
    "duration": 4,
    "start_time": "2025-01-18T18:05:41.442Z"
   },
   {
    "duration": 11,
    "start_time": "2025-01-18T18:06:03.192Z"
   },
   {
    "duration": 5,
    "start_time": "2025-01-18T18:15:10.858Z"
   },
   {
    "duration": 40,
    "start_time": "2025-01-18T18:15:19.544Z"
   },
   {
    "duration": 118,
    "start_time": "2025-01-18T18:15:21.723Z"
   },
   {
    "duration": 159,
    "start_time": "2025-01-18T21:23:24.523Z"
   },
   {
    "duration": 2095,
    "start_time": "2025-01-18T21:23:28.898Z"
   },
   {
    "duration": 903,
    "start_time": "2025-01-18T21:23:34.643Z"
   },
   {
    "duration": 141,
    "start_time": "2025-01-18T21:26:58.149Z"
   },
   {
    "duration": 2,
    "start_time": "2025-01-18T21:38:57.185Z"
   },
   {
    "duration": 158,
    "start_time": "2025-01-18T21:38:59.070Z"
   },
   {
    "duration": 56,
    "start_time": "2025-01-18T21:39:01.878Z"
   },
   {
    "duration": 723,
    "start_time": "2025-01-18T21:39:04.167Z"
   },
   {
    "duration": 13,
    "start_time": "2025-01-18T21:39:06.294Z"
   },
   {
    "duration": 15,
    "start_time": "2025-01-18T21:39:08.490Z"
   },
   {
    "duration": 395,
    "start_time": "2025-01-18T21:39:26.880Z"
   },
   {
    "duration": 198,
    "start_time": "2025-01-18T21:39:29.689Z"
   },
   {
    "duration": 5,
    "start_time": "2025-01-18T21:39:31.467Z"
   },
   {
    "duration": 5,
    "start_time": "2025-01-18T21:39:33.161Z"
   },
   {
    "duration": 4,
    "start_time": "2025-01-18T21:39:46.421Z"
   },
   {
    "duration": 6,
    "start_time": "2025-01-18T21:47:19.544Z"
   },
   {
    "duration": 6,
    "start_time": "2025-01-18T21:51:11.238Z"
   },
   {
    "duration": 4,
    "start_time": "2025-01-18T21:51:55.050Z"
   },
   {
    "duration": 3,
    "start_time": "2025-01-18T21:52:19.755Z"
   },
   {
    "duration": 108,
    "start_time": "2025-01-18T21:52:21.338Z"
   },
   {
    "duration": 39,
    "start_time": "2025-01-18T21:52:23.506Z"
   },
   {
    "duration": 670,
    "start_time": "2025-01-18T21:52:25.864Z"
   },
   {
    "duration": 13,
    "start_time": "2025-01-18T21:52:27.718Z"
   },
   {
    "duration": 13,
    "start_time": "2025-01-18T21:52:29.709Z"
   },
   {
    "duration": 3,
    "start_time": "2025-01-18T21:52:37.758Z"
   },
   {
    "duration": 349,
    "start_time": "2025-01-18T21:52:41.756Z"
   },
   {
    "duration": 197,
    "start_time": "2025-01-18T21:52:43.499Z"
   },
   {
    "duration": 7,
    "start_time": "2025-01-18T21:52:44.733Z"
   },
   {
    "duration": 7,
    "start_time": "2025-01-18T21:52:48.025Z"
   },
   {
    "duration": 446,
    "start_time": "2025-01-18T22:01:44.418Z"
   },
   {
    "duration": 168,
    "start_time": "2025-01-18T22:01:46.275Z"
   },
   {
    "duration": 44,
    "start_time": "2025-01-18T22:01:50.140Z"
   },
   {
    "duration": 723,
    "start_time": "2025-01-18T22:01:53.328Z"
   },
   {
    "duration": 18,
    "start_time": "2025-01-18T22:01:57.236Z"
   },
   {
    "duration": 13,
    "start_time": "2025-01-18T22:01:59.397Z"
   },
   {
    "duration": 89,
    "start_time": "2025-01-18T22:02:03.331Z"
   },
   {
    "duration": 9,
    "start_time": "2025-01-18T22:02:04.978Z"
   },
   {
    "duration": 103,
    "start_time": "2025-01-18T22:02:08.628Z"
   },
   {
    "duration": 96,
    "start_time": "2025-01-18T22:02:10.209Z"
   },
   {
    "duration": 24,
    "start_time": "2025-01-18T22:02:11.189Z"
   },
   {
    "duration": 16,
    "start_time": "2025-01-18T22:02:15.312Z"
   },
   {
    "duration": 4,
    "start_time": "2025-01-18T22:02:16.675Z"
   },
   {
    "duration": 19,
    "start_time": "2025-01-18T22:02:17.600Z"
   },
   {
    "duration": 25,
    "start_time": "2025-01-18T22:02:19.646Z"
   },
   {
    "duration": 4,
    "start_time": "2025-01-18T22:02:23.249Z"
   },
   {
    "duration": 3,
    "start_time": "2025-01-18T22:02:24.451Z"
   },
   {
    "duration": 4,
    "start_time": "2025-01-18T22:02:27.361Z"
   },
   {
    "duration": 4,
    "start_time": "2025-01-18T22:02:28.199Z"
   },
   {
    "duration": 756,
    "start_time": "2025-01-18T22:02:30.842Z"
   },
   {
    "duration": 745,
    "start_time": "2025-01-18T22:02:31.650Z"
   },
   {
    "duration": 6,
    "start_time": "2025-01-18T22:02:36.014Z"
   },
   {
    "duration": 6,
    "start_time": "2025-01-18T22:02:37.808Z"
   },
   {
    "duration": 3,
    "start_time": "2025-01-18T22:02:39.189Z"
   },
   {
    "duration": 5,
    "start_time": "2025-01-18T22:02:44.322Z"
   },
   {
    "duration": 7,
    "start_time": "2025-01-18T22:02:45.107Z"
   },
   {
    "duration": 6,
    "start_time": "2025-01-18T22:02:48.216Z"
   },
   {
    "duration": 1108,
    "start_time": "2025-01-18T22:02:56.734Z"
   },
   {
    "duration": 378,
    "start_time": "2025-01-18T22:03:02.993Z"
   },
   {
    "duration": 266,
    "start_time": "2025-01-18T22:03:03.805Z"
   },
   {
    "duration": 6,
    "start_time": "2025-01-18T22:03:04.510Z"
   },
   {
    "duration": 160,
    "start_time": "2025-01-18T22:03:58.275Z"
   },
   {
    "duration": 456,
    "start_time": "2025-01-18T22:04:05.913Z"
   },
   {
    "duration": 141,
    "start_time": "2025-01-18T22:04:07.905Z"
   },
   {
    "duration": 44,
    "start_time": "2025-01-18T22:04:09.845Z"
   },
   {
    "duration": 743,
    "start_time": "2025-01-18T22:04:10.745Z"
   },
   {
    "duration": 11,
    "start_time": "2025-01-18T22:04:11.652Z"
   },
   {
    "duration": 12,
    "start_time": "2025-01-18T22:04:12.489Z"
   },
   {
    "duration": 43,
    "start_time": "2025-01-18T22:04:20.749Z"
   },
   {
    "duration": 453,
    "start_time": "2025-01-18T22:04:24.446Z"
   },
   {
    "duration": 205,
    "start_time": "2025-01-18T22:04:25.859Z"
   },
   {
    "duration": 6,
    "start_time": "2025-01-18T22:04:26.487Z"
   },
   {
    "duration": 3,
    "start_time": "2025-01-18T22:04:32.253Z"
   },
   {
    "duration": 627720,
    "start_time": "2025-01-18T22:04:50.124Z"
   },
   {
    "duration": 2131,
    "start_time": "2025-01-19T01:01:07.343Z"
   },
   {
    "duration": 166,
    "start_time": "2025-01-19T01:01:09.476Z"
   },
   {
    "duration": 65,
    "start_time": "2025-01-19T01:01:10.377Z"
   },
   {
    "duration": 810,
    "start_time": "2025-01-19T01:01:11.747Z"
   },
   {
    "duration": 13,
    "start_time": "2025-01-19T01:01:12.923Z"
   },
   {
    "duration": 13,
    "start_time": "2025-01-19T01:01:14.541Z"
   },
   {
    "duration": 221,
    "start_time": "2025-01-19T01:01:32.495Z"
   },
   {
    "duration": 387,
    "start_time": "2025-01-19T01:01:42.243Z"
   },
   {
    "duration": 38,
    "start_time": "2025-01-19T01:01:57.536Z"
   },
   {
    "duration": 37,
    "start_time": "2025-01-19T01:02:12.069Z"
   },
   {
    "duration": 47,
    "start_time": "2025-01-19T01:03:20.974Z"
   },
   {
    "duration": 34,
    "start_time": "2025-01-19T01:03:29.492Z"
   },
   {
    "duration": 4,
    "start_time": "2025-01-19T01:03:30.722Z"
   },
   {
    "duration": 5,
    "start_time": "2025-01-19T01:03:32.112Z"
   },
   {
    "duration": 14,
    "start_time": "2025-01-19T01:03:41.106Z"
   },
   {
    "duration": 13,
    "start_time": "2025-01-19T01:04:47.153Z"
   },
   {
    "duration": 5,
    "start_time": "2025-01-19T01:05:49.540Z"
   },
   {
    "duration": 24,
    "start_time": "2025-01-19T01:05:51.877Z"
   },
   {
    "duration": 13,
    "start_time": "2025-01-19T01:06:15.243Z"
   },
   {
    "duration": 4,
    "start_time": "2025-01-19T01:07:04.691Z"
   },
   {
    "duration": 11,
    "start_time": "2025-01-19T01:07:06.549Z"
   },
   {
    "duration": 150,
    "start_time": "2025-01-19T01:14:43.490Z"
   },
   {
    "duration": 2,
    "start_time": "2025-01-19T01:14:59.567Z"
   },
   {
    "duration": 128,
    "start_time": "2025-01-19T01:15:01.824Z"
   },
   {
    "duration": 42,
    "start_time": "2025-01-19T01:15:03.340Z"
   },
   {
    "duration": 721,
    "start_time": "2025-01-19T01:15:04.316Z"
   },
   {
    "duration": 12,
    "start_time": "2025-01-19T01:15:05.751Z"
   },
   {
    "duration": 12,
    "start_time": "2025-01-19T01:15:06.864Z"
   },
   {
    "duration": 81,
    "start_time": "2025-01-19T01:15:41.915Z"
   },
   {
    "duration": 125,
    "start_time": "2025-01-19T01:16:40.384Z"
   },
   {
    "duration": 113,
    "start_time": "2025-01-19T01:18:05.266Z"
   },
   {
    "duration": 116,
    "start_time": "2025-01-19T01:18:22.916Z"
   },
   {
    "duration": 2175,
    "start_time": "2025-01-20T15:54:03.241Z"
   },
   {
    "duration": 159,
    "start_time": "2025-01-20T15:54:05.873Z"
   },
   {
    "duration": 60,
    "start_time": "2025-01-20T15:54:10.541Z"
   },
   {
    "duration": 802,
    "start_time": "2025-01-20T15:54:12.847Z"
   },
   {
    "duration": 14,
    "start_time": "2025-01-20T15:54:14.400Z"
   },
   {
    "duration": 14,
    "start_time": "2025-01-20T15:54:15.865Z"
   },
   {
    "duration": 232,
    "start_time": "2025-01-20T15:54:22.367Z"
   },
   {
    "duration": 624,
    "start_time": "2025-01-20T15:54:55.090Z"
   },
   {
    "duration": 769,
    "start_time": "2025-01-20T16:04:33.467Z"
   },
   {
    "duration": 770,
    "start_time": "2025-01-20T16:05:53.206Z"
   },
   {
    "duration": 770,
    "start_time": "2025-01-20T16:06:54.548Z"
   },
   {
    "duration": 783,
    "start_time": "2025-01-20T16:18:36.372Z"
   },
   {
    "duration": 835,
    "start_time": "2025-01-20T16:20:07.774Z"
   },
   {
    "duration": 157,
    "start_time": "2025-01-20T16:23:26.869Z"
   },
   {
    "duration": 475,
    "start_time": "2025-01-20T16:23:39.899Z"
   },
   {
    "duration": 180,
    "start_time": "2025-01-20T16:23:41.631Z"
   },
   {
    "duration": 60,
    "start_time": "2025-01-20T16:23:43.721Z"
   },
   {
    "duration": 883,
    "start_time": "2025-01-20T16:23:46.302Z"
   },
   {
    "duration": 16,
    "start_time": "2025-01-20T16:23:49.775Z"
   },
   {
    "duration": 420,
    "start_time": "2025-01-20T16:24:30.161Z"
   },
   {
    "duration": 196,
    "start_time": "2025-01-20T16:24:31.758Z"
   },
   {
    "duration": 59,
    "start_time": "2025-01-20T16:24:33.185Z"
   },
   {
    "duration": 844,
    "start_time": "2025-01-20T16:24:35.066Z"
   },
   {
    "duration": 14,
    "start_time": "2025-01-20T16:24:37.219Z"
   },
   {
    "duration": 12,
    "start_time": "2025-01-20T16:24:38.258Z"
   },
   {
    "duration": 155,
    "start_time": "2025-01-20T16:25:10.160Z"
   },
   {
    "duration": 492,
    "start_time": "2025-01-20T16:25:15.925Z"
   },
   {
    "duration": 160,
    "start_time": "2025-01-20T16:25:17.413Z"
   },
   {
    "duration": 59,
    "start_time": "2025-01-20T16:25:19.071Z"
   },
   {
    "duration": 807,
    "start_time": "2025-01-20T16:25:20.245Z"
   },
   {
    "duration": 12,
    "start_time": "2025-01-20T16:25:21.499Z"
   },
   {
    "duration": 11,
    "start_time": "2025-01-20T16:25:23.253Z"
   },
   {
    "duration": 647,
    "start_time": "2025-01-20T16:25:39.982Z"
   },
   {
    "duration": 161,
    "start_time": "2025-01-20T16:25:47.403Z"
   },
   {
    "duration": 446,
    "start_time": "2025-01-20T16:26:36.882Z"
   },
   {
    "duration": 165,
    "start_time": "2025-01-20T16:26:37.533Z"
   },
   {
    "duration": 61,
    "start_time": "2025-01-20T16:26:38.952Z"
   },
   {
    "duration": 877,
    "start_time": "2025-01-20T16:26:40.573Z"
   },
   {
    "duration": 12,
    "start_time": "2025-01-20T16:26:41.884Z"
   },
   {
    "duration": 15,
    "start_time": "2025-01-20T16:26:42.905Z"
   },
   {
    "duration": 663,
    "start_time": "2025-01-20T16:26:52.679Z"
   },
   {
    "duration": 408,
    "start_time": "2025-01-20T16:27:52.986Z"
   },
   {
    "duration": 193,
    "start_time": "2025-01-20T16:27:54.332Z"
   },
   {
    "duration": 59,
    "start_time": "2025-01-20T16:27:56.174Z"
   },
   {
    "duration": 831,
    "start_time": "2025-01-20T16:27:57.140Z"
   },
   {
    "duration": 12,
    "start_time": "2025-01-20T16:27:58.426Z"
   },
   {
    "duration": 12,
    "start_time": "2025-01-20T16:27:59.459Z"
   },
   {
    "duration": 646,
    "start_time": "2025-01-20T16:28:11.688Z"
   },
   {
    "duration": 164,
    "start_time": "2025-01-20T16:28:37.906Z"
   },
   {
    "duration": 465,
    "start_time": "2025-01-20T16:28:44.858Z"
   },
   {
    "duration": 161,
    "start_time": "2025-01-20T16:28:45.763Z"
   },
   {
    "duration": 61,
    "start_time": "2025-01-20T16:28:46.743Z"
   },
   {
    "duration": 799,
    "start_time": "2025-01-20T16:28:47.469Z"
   },
   {
    "duration": 12,
    "start_time": "2025-01-20T16:28:49.101Z"
   },
   {
    "duration": 13,
    "start_time": "2025-01-20T16:28:50.322Z"
   },
   {
    "duration": 655,
    "start_time": "2025-01-20T16:29:04.000Z"
   },
   {
    "duration": 161,
    "start_time": "2025-01-20T16:29:14.778Z"
   },
   {
    "duration": 15,
    "start_time": "2025-01-20T16:29:35.114Z"
   },
   {
    "duration": 481,
    "start_time": "2025-01-20T16:29:42.462Z"
   },
   {
    "duration": 165,
    "start_time": "2025-01-20T16:29:43.740Z"
   },
   {
    "duration": 58,
    "start_time": "2025-01-20T16:29:45.213Z"
   },
   {
    "duration": 823,
    "start_time": "2025-01-20T16:29:46.968Z"
   },
   {
    "duration": 14,
    "start_time": "2025-01-20T16:29:49.042Z"
   },
   {
    "duration": 12,
    "start_time": "2025-01-20T16:29:50.189Z"
   },
   {
    "duration": 160,
    "start_time": "2025-01-20T16:30:04.373Z"
   },
   {
    "duration": 520,
    "start_time": "2025-01-20T16:38:58.601Z"
   },
   {
    "duration": 161,
    "start_time": "2025-01-20T16:38:59.176Z"
   },
   {
    "duration": 60,
    "start_time": "2025-01-20T16:39:00.299Z"
   },
   {
    "duration": 810,
    "start_time": "2025-01-20T16:39:03.239Z"
   },
   {
    "duration": 14,
    "start_time": "2025-01-20T16:39:04.052Z"
   },
   {
    "duration": 12,
    "start_time": "2025-01-20T16:39:05.333Z"
   },
   {
    "duration": 134,
    "start_time": "2025-01-20T16:39:15.236Z"
   },
   {
    "duration": 158,
    "start_time": "2025-01-20T16:41:04.933Z"
   },
   {
    "duration": 480,
    "start_time": "2025-01-20T16:41:10.300Z"
   },
   {
    "duration": 163,
    "start_time": "2025-01-20T16:41:11.101Z"
   },
   {
    "duration": 60,
    "start_time": "2025-01-20T16:41:12.165Z"
   },
   {
    "duration": 820,
    "start_time": "2025-01-20T16:41:13.064Z"
   },
   {
    "duration": 19,
    "start_time": "2025-01-20T16:41:13.886Z"
   },
   {
    "duration": 18,
    "start_time": "2025-01-20T16:41:14.714Z"
   },
   {
    "duration": 54,
    "start_time": "2025-01-20T16:41:21.231Z"
   },
   {
    "duration": 18,
    "start_time": "2025-01-20T16:43:06.231Z"
   },
   {
    "duration": 18,
    "start_time": "2025-01-20T16:43:09.536Z"
   },
   {
    "duration": 3,
    "start_time": "2025-01-20T16:43:19.737Z"
   },
   {
    "duration": 129,
    "start_time": "2025-01-20T16:43:20.296Z"
   },
   {
    "duration": 45,
    "start_time": "2025-01-20T16:43:21.865Z"
   },
   {
    "duration": 725,
    "start_time": "2025-01-20T16:43:22.942Z"
   },
   {
    "duration": 11,
    "start_time": "2025-01-20T16:43:23.780Z"
   },
   {
    "duration": 11,
    "start_time": "2025-01-20T16:43:24.626Z"
   },
   {
    "duration": 24,
    "start_time": "2025-01-20T16:43:32.429Z"
   },
   {
    "duration": 21,
    "start_time": "2025-01-20T16:44:18.604Z"
   },
   {
    "duration": 19,
    "start_time": "2025-01-20T16:44:32.225Z"
   },
   {
    "duration": 19,
    "start_time": "2025-01-20T16:46:09.033Z"
   },
   {
    "duration": 85,
    "start_time": "2025-01-20T16:55:19.091Z"
   },
   {
    "duration": 740,
    "start_time": "2025-01-20T16:55:29.190Z"
   },
   {
    "duration": 298,
    "start_time": "2025-01-20T16:59:33.850Z"
   },
   {
    "duration": 99,
    "start_time": "2025-01-20T17:03:07.410Z"
   },
   {
    "duration": 102,
    "start_time": "2025-01-20T17:03:20.532Z"
   },
   {
    "duration": 191,
    "start_time": "2025-01-20T17:03:27.726Z"
   },
   {
    "duration": 206,
    "start_time": "2025-01-20T17:03:40.420Z"
   },
   {
    "duration": 217,
    "start_time": "2025-01-20T17:03:52.281Z"
   },
   {
    "duration": 201,
    "start_time": "2025-01-20T17:04:30.278Z"
   },
   {
    "duration": 183,
    "start_time": "2025-01-20T17:04:53.024Z"
   },
   {
    "duration": 199,
    "start_time": "2025-01-20T17:05:18.113Z"
   },
   {
    "duration": 519,
    "start_time": "2025-01-20T17:07:48.298Z"
   },
   {
    "duration": 222,
    "start_time": "2025-01-20T17:08:08.953Z"
   },
   {
    "duration": 764,
    "start_time": "2025-01-20T17:08:51.677Z"
   },
   {
    "duration": 231,
    "start_time": "2025-01-20T17:08:56.540Z"
   },
   {
    "duration": 219,
    "start_time": "2025-01-20T17:10:40.249Z"
   },
   {
    "duration": 186,
    "start_time": "2025-01-20T17:10:52.141Z"
   },
   {
    "duration": 726,
    "start_time": "2025-01-20T17:11:25.795Z"
   },
   {
    "duration": 732,
    "start_time": "2025-01-20T17:14:22.654Z"
   },
   {
    "duration": 176,
    "start_time": "2025-01-20T17:18:30.909Z"
   },
   {
    "duration": 224,
    "start_time": "2025-01-20T17:20:01.151Z"
   },
   {
    "duration": 182,
    "start_time": "2025-01-20T17:20:42.595Z"
   },
   {
    "duration": 184,
    "start_time": "2025-01-20T17:26:44.924Z"
   },
   {
    "duration": 623,
    "start_time": "2025-01-20T17:29:03.776Z"
   },
   {
    "duration": 638,
    "start_time": "2025-01-20T17:29:28.834Z"
   },
   {
    "duration": 661,
    "start_time": "2025-01-20T17:29:57.154Z"
   },
   {
    "duration": 2620,
    "start_time": "2025-01-20T17:32:09.629Z"
   },
   {
    "duration": 4041,
    "start_time": "2025-01-20T17:33:27.243Z"
   },
   {
    "duration": 3481,
    "start_time": "2025-01-20T17:33:33.097Z"
   },
   {
    "duration": 815,
    "start_time": "2025-01-20T17:34:28.178Z"
   },
   {
    "duration": 965,
    "start_time": "2025-01-20T17:35:06.387Z"
   },
   {
    "duration": 348,
    "start_time": "2025-01-20T17:40:50.741Z"
   },
   {
    "duration": 211,
    "start_time": "2025-01-20T17:42:08.741Z"
   },
   {
    "duration": 200,
    "start_time": "2025-01-20T17:42:18.754Z"
   },
   {
    "duration": 213,
    "start_time": "2025-01-20T17:43:38.624Z"
   },
   {
    "duration": 212,
    "start_time": "2025-01-20T17:43:46.770Z"
   },
   {
    "duration": 12,
    "start_time": "2025-01-20T17:45:34.306Z"
   },
   {
    "duration": 694,
    "start_time": "2025-01-20T17:45:38.177Z"
   },
   {
    "duration": 6,
    "start_time": "2025-01-20T17:45:42.724Z"
   },
   {
    "duration": 3,
    "start_time": "2025-01-20T18:14:43.966Z"
   },
   {
    "duration": 116,
    "start_time": "2025-01-20T18:18:15.441Z"
   },
   {
    "duration": 3,
    "start_time": "2025-01-20T18:31:51.673Z"
   },
   {
    "duration": 2,
    "start_time": "2025-01-20T18:43:00.365Z"
   },
   {
    "duration": 722,
    "start_time": "2025-01-20T18:46:08.437Z"
   },
   {
    "duration": 16,
    "start_time": "2025-01-20T18:52:09.835Z"
   },
   {
    "duration": 13,
    "start_time": "2025-01-20T18:55:16.383Z"
   },
   {
    "duration": 68,
    "start_time": "2025-01-20T19:04:46.966Z"
   },
   {
    "duration": 66,
    "start_time": "2025-01-20T19:05:01.745Z"
   },
   {
    "duration": 68,
    "start_time": "2025-01-20T19:05:17.349Z"
   },
   {
    "duration": 19,
    "start_time": "2025-01-20T19:18:14.299Z"
   },
   {
    "duration": 21,
    "start_time": "2025-01-20T19:18:30.114Z"
   },
   {
    "duration": 27,
    "start_time": "2025-01-20T22:47:51.664Z"
   },
   {
    "duration": 38,
    "start_time": "2025-01-20T22:50:09.763Z"
   },
   {
    "duration": 27,
    "start_time": "2025-01-20T22:50:30.433Z"
   },
   {
    "duration": 24,
    "start_time": "2025-01-20T22:50:43.628Z"
   },
   {
    "duration": 19,
    "start_time": "2025-01-20T22:51:10.158Z"
   },
   {
    "duration": 124,
    "start_time": "2025-01-20T22:52:01.583Z"
   },
   {
    "duration": 2,
    "start_time": "2025-01-20T22:52:03.193Z"
   },
   {
    "duration": 5,
    "start_time": "2025-01-20T22:52:04.014Z"
   },
   {
    "duration": 6,
    "start_time": "2025-01-20T22:52:54.965Z"
   },
   {
    "duration": 5,
    "start_time": "2025-01-20T22:53:15.888Z"
   },
   {
    "duration": 6,
    "start_time": "2025-01-20T22:53:37.447Z"
   },
   {
    "duration": 6,
    "start_time": "2025-01-20T22:53:45.405Z"
   },
   {
    "duration": 132,
    "start_time": "2025-01-20T22:53:53.009Z"
   },
   {
    "duration": 3,
    "start_time": "2025-01-20T22:53:54.457Z"
   },
   {
    "duration": 4,
    "start_time": "2025-01-20T22:53:55.122Z"
   },
   {
    "duration": 39,
    "start_time": "2025-01-20T22:54:07.772Z"
   },
   {
    "duration": 714,
    "start_time": "2025-01-20T22:54:12.880Z"
   },
   {
    "duration": 14,
    "start_time": "2025-01-20T22:54:23.685Z"
   },
   {
    "duration": 3,
    "start_time": "2025-01-20T22:54:24.364Z"
   },
   {
    "duration": 2,
    "start_time": "2025-01-20T22:54:25.725Z"
   },
   {
    "duration": 20,
    "start_time": "2025-01-20T22:54:26.319Z"
   },
   {
    "duration": 3,
    "start_time": "2025-01-20T22:54:27.419Z"
   },
   {
    "duration": 22,
    "start_time": "2025-01-20T22:54:28.072Z"
   },
   {
    "duration": 22,
    "start_time": "2025-01-20T22:54:35.719Z"
   },
   {
    "duration": 959,
    "start_time": "2025-01-20T22:54:45.400Z"
   },
   {
    "duration": 5,
    "start_time": "2025-01-20T22:54:46.361Z"
   },
   {
    "duration": 4,
    "start_time": "2025-01-20T22:54:46.723Z"
   },
   {
    "duration": 5,
    "start_time": "2025-01-20T23:06:22.846Z"
   },
   {
    "duration": 4,
    "start_time": "2025-01-20T23:07:46.792Z"
   },
   {
    "duration": 3,
    "start_time": "2025-01-20T23:07:50.773Z"
   },
   {
    "duration": 6,
    "start_time": "2025-01-20T23:08:06.582Z"
   },
   {
    "duration": 3,
    "start_time": "2025-01-20T23:11:12.985Z"
   },
   {
    "duration": 32,
    "start_time": "2025-01-20T23:29:19.686Z"
   },
   {
    "duration": 6,
    "start_time": "2025-01-20T23:53:59.372Z"
   },
   {
    "duration": 7,
    "start_time": "2025-01-20T23:56:06.607Z"
   },
   {
    "duration": 6,
    "start_time": "2025-01-20T23:58:41.817Z"
   },
   {
    "duration": 7,
    "start_time": "2025-01-20T23:58:53.579Z"
   },
   {
    "duration": 4,
    "start_time": "2025-01-21T00:04:18.766Z"
   },
   {
    "duration": 4,
    "start_time": "2025-01-21T00:04:37.378Z"
   },
   {
    "duration": 6,
    "start_time": "2025-01-21T00:05:22.366Z"
   },
   {
    "duration": 9,
    "start_time": "2025-01-21T00:07:28.144Z"
   },
   {
    "duration": 13,
    "start_time": "2025-01-21T00:07:29.324Z"
   },
   {
    "duration": 4,
    "start_time": "2025-01-21T00:07:30.051Z"
   },
   {
    "duration": 3,
    "start_time": "2025-01-21T00:07:38.110Z"
   },
   {
    "duration": 116,
    "start_time": "2025-01-21T00:07:40.850Z"
   },
   {
    "duration": 39,
    "start_time": "2025-01-21T00:07:45.427Z"
   },
   {
    "duration": 10,
    "start_time": "2025-01-21T00:08:00.552Z"
   },
   {
    "duration": 14,
    "start_time": "2025-01-21T00:08:01.333Z"
   },
   {
    "duration": 4,
    "start_time": "2025-01-21T00:08:02.091Z"
   },
   {
    "duration": 4,
    "start_time": "2025-01-21T00:10:26.396Z"
   },
   {
    "duration": 4,
    "start_time": "2025-01-21T00:10:36.682Z"
   },
   {
    "duration": 2,
    "start_time": "2025-01-21T00:10:48.655Z"
   },
   {
    "duration": 3,
    "start_time": "2025-01-21T00:11:03.114Z"
   },
   {
    "duration": 213,
    "start_time": "2025-01-21T00:11:07.414Z"
   },
   {
    "duration": 15,
    "start_time": "2025-01-21T00:11:34.942Z"
   },
   {
    "duration": 295,
    "start_time": "2025-01-21T00:14:20.783Z"
   },
   {
    "duration": 107,
    "start_time": "2025-01-21T00:14:34.549Z"
   },
   {
    "duration": 170,
    "start_time": "2025-01-21T00:14:53.817Z"
   },
   {
    "duration": 204,
    "start_time": "2025-01-21T00:15:58.267Z"
   },
   {
    "duration": 688,
    "start_time": "2025-01-21T00:17:49.368Z"
   },
   {
    "duration": 216,
    "start_time": "2025-01-21T00:18:34.450Z"
   },
   {
    "duration": 420,
    "start_time": "2025-01-21T00:19:12.688Z"
   },
   {
    "duration": 5,
    "start_time": "2025-01-21T00:21:06.831Z"
   },
   {
    "duration": 193,
    "start_time": "2025-01-21T00:21:20.602Z"
   },
   {
    "duration": 189,
    "start_time": "2025-01-21T00:21:38.846Z"
   },
   {
    "duration": 195,
    "start_time": "2025-01-21T00:22:06.542Z"
   },
   {
    "duration": 176,
    "start_time": "2025-01-21T00:22:42.697Z"
   },
   {
    "duration": 161,
    "start_time": "2025-01-21T00:23:06.279Z"
   },
   {
    "duration": 158,
    "start_time": "2025-01-21T00:23:17.121Z"
   },
   {
    "duration": 180,
    "start_time": "2025-01-21T00:23:46.605Z"
   },
   {
    "duration": 442,
    "start_time": "2025-01-21T00:26:17.792Z"
   },
   {
    "duration": 183,
    "start_time": "2025-01-21T00:26:23.860Z"
   },
   {
    "duration": 44,
    "start_time": "2025-01-21T00:26:27.569Z"
   },
   {
    "duration": 771,
    "start_time": "2025-01-21T00:26:31.712Z"
   },
   {
    "duration": 13,
    "start_time": "2025-01-21T00:26:36.533Z"
   },
   {
    "duration": 11,
    "start_time": "2025-01-21T00:26:42.045Z"
   },
   {
    "duration": 12,
    "start_time": "2025-01-21T00:26:54.428Z"
   },
   {
    "duration": 17,
    "start_time": "2025-01-21T00:26:55.145Z"
   },
   {
    "duration": 180,
    "start_time": "2025-01-21T00:26:58.688Z"
   },
   {
    "duration": 156,
    "start_time": "2025-01-21T00:27:09.293Z"
   },
   {
    "duration": 175,
    "start_time": "2025-01-21T00:27:20.787Z"
   },
   {
    "duration": 14,
    "start_time": "2025-01-21T00:28:30.807Z"
   },
   {
    "duration": 12,
    "start_time": "2025-01-21T00:29:01.200Z"
   },
   {
    "duration": 17,
    "start_time": "2025-01-21T00:29:03.031Z"
   },
   {
    "duration": 154,
    "start_time": "2025-01-21T00:29:03.876Z"
   },
   {
    "duration": 10,
    "start_time": "2025-01-21T00:29:21.551Z"
   },
   {
    "duration": 14,
    "start_time": "2025-01-21T00:29:22.142Z"
   },
   {
    "duration": 162,
    "start_time": "2025-01-21T00:29:22.682Z"
   },
   {
    "duration": 163,
    "start_time": "2025-01-21T00:30:49.619Z"
   },
   {
    "duration": 188,
    "start_time": "2025-01-21T00:31:05.899Z"
   },
   {
    "duration": 191,
    "start_time": "2025-01-21T00:31:13.777Z"
   },
   {
    "duration": 166,
    "start_time": "2025-01-21T00:31:26.908Z"
   },
   {
    "duration": 174,
    "start_time": "2025-01-21T00:31:35.794Z"
   },
   {
    "duration": 240,
    "start_time": "2025-01-21T00:31:53.181Z"
   },
   {
    "duration": 42,
    "start_time": "2025-01-21T00:42:14.557Z"
   },
   {
    "duration": 44,
    "start_time": "2025-01-21T00:42:18.166Z"
   },
   {
    "duration": 137,
    "start_time": "2025-01-21T00:42:19.126Z"
   },
   {
    "duration": 42,
    "start_time": "2025-01-21T00:42:41.454Z"
   },
   {
    "duration": 178,
    "start_time": "2025-01-21T00:42:42.191Z"
   },
   {
    "duration": 2128,
    "start_time": "2025-01-21T15:25:23.071Z"
   },
   {
    "duration": 188,
    "start_time": "2025-01-21T15:25:26.403Z"
   },
   {
    "duration": 61,
    "start_time": "2025-01-21T15:25:37.995Z"
   },
   {
    "duration": 796,
    "start_time": "2025-01-21T15:25:41.396Z"
   },
   {
    "duration": 14,
    "start_time": "2025-01-21T15:25:46.185Z"
   },
   {
    "duration": 14,
    "start_time": "2025-01-21T15:25:53.003Z"
   },
   {
    "duration": 5,
    "start_time": "2025-01-21T15:25:56.589Z"
   },
   {
    "duration": 498,
    "start_time": "2025-01-21T15:32:32.036Z"
   },
   {
    "duration": 257,
    "start_time": "2025-01-21T15:32:40.013Z"
   },
   {
    "duration": 263,
    "start_time": "2025-01-21T15:33:32.417Z"
   },
   {
    "duration": 255,
    "start_time": "2025-01-21T15:33:42.159Z"
   },
   {
    "duration": 10,
    "start_time": "2025-01-21T15:34:45.152Z"
   },
   {
    "duration": 3,
    "start_time": "2025-01-21T15:40:38.939Z"
   },
   {
    "duration": 4,
    "start_time": "2025-01-21T15:41:42.815Z"
   },
   {
    "duration": 13,
    "start_time": "2025-01-21T15:46:41.500Z"
   },
   {
    "duration": 19,
    "start_time": "2025-01-21T15:47:03.691Z"
   },
   {
    "duration": 14,
    "start_time": "2025-01-21T15:47:10.135Z"
   },
   {
    "duration": 436,
    "start_time": "2025-01-21T15:47:14.327Z"
   },
   {
    "duration": 200,
    "start_time": "2025-01-21T15:47:15.041Z"
   },
   {
    "duration": 7,
    "start_time": "2025-01-21T15:47:15.819Z"
   },
   {
    "duration": 409,
    "start_time": "2025-01-21T15:50:08.512Z"
   },
   {
    "duration": 166,
    "start_time": "2025-01-21T15:50:11.533Z"
   },
   {
    "duration": 45,
    "start_time": "2025-01-21T15:50:14.595Z"
   },
   {
    "duration": 737,
    "start_time": "2025-01-21T15:50:18.677Z"
   },
   {
    "duration": 12,
    "start_time": "2025-01-21T15:50:23.357Z"
   },
   {
    "duration": 15,
    "start_time": "2025-01-21T15:50:26.546Z"
   },
   {
    "duration": 405,
    "start_time": "2025-01-21T15:50:44.565Z"
   },
   {
    "duration": 195,
    "start_time": "2025-01-21T15:50:45.964Z"
   },
   {
    "duration": 6,
    "start_time": "2025-01-21T15:50:47.400Z"
   },
   {
    "duration": 132,
    "start_time": "2025-01-21T15:50:50.675Z"
   },
   {
    "duration": 968,
    "start_time": "2025-01-21T15:53:40.585Z"
   },
   {
    "duration": 9,
    "start_time": "2025-01-21T15:53:46.149Z"
   },
   {
    "duration": 190,
    "start_time": "2025-01-21T15:54:01.503Z"
   },
   {
    "duration": 968,
    "start_time": "2025-01-21T15:54:22.316Z"
   },
   {
    "duration": 10,
    "start_time": "2025-01-21T15:54:26.913Z"
   },
   {
    "duration": 929,
    "start_time": "2025-01-21T15:56:39.304Z"
   },
   {
    "duration": 8,
    "start_time": "2025-01-21T15:56:41.804Z"
   },
   {
    "duration": 925,
    "start_time": "2025-01-21T15:57:37.978Z"
   },
   {
    "duration": 1200,
    "start_time": "2025-01-21T16:00:03.130Z"
   },
   {
    "duration": 8,
    "start_time": "2025-01-21T16:00:04.988Z"
   },
   {
    "duration": 5,
    "start_time": "2025-01-21T16:01:09.383Z"
   },
   {
    "duration": 1152,
    "start_time": "2025-01-21T16:01:12.744Z"
   },
   {
    "duration": 4,
    "start_time": "2025-01-21T16:01:16.517Z"
   },
   {
    "duration": 20,
    "start_time": "2025-01-21T16:11:22.579Z"
   },
   {
    "duration": 13,
    "start_time": "2025-01-21T16:11:27.760Z"
   },
   {
    "duration": 3,
    "start_time": "2025-01-21T16:11:34.820Z"
   },
   {
    "duration": 111,
    "start_time": "2025-01-21T16:11:37.260Z"
   },
   {
    "duration": 39,
    "start_time": "2025-01-21T16:11:42.327Z"
   },
   {
    "duration": 729,
    "start_time": "2025-01-21T16:11:45.385Z"
   },
   {
    "duration": 12,
    "start_time": "2025-01-21T16:11:48.015Z"
   },
   {
    "duration": 12,
    "start_time": "2025-01-21T16:11:51.320Z"
   },
   {
    "duration": 19,
    "start_time": "2025-01-21T16:11:57.273Z"
   },
   {
    "duration": 95,
    "start_time": "2025-01-21T16:12:30.488Z"
   },
   {
    "duration": 9,
    "start_time": "2025-01-21T16:12:34.419Z"
   },
   {
    "duration": 118,
    "start_time": "2025-01-21T16:12:38.666Z"
   },
   {
    "duration": 76,
    "start_time": "2025-01-21T16:12:43.611Z"
   },
   {
    "duration": 31,
    "start_time": "2025-01-21T16:12:45.809Z"
   },
   {
    "duration": 714,
    "start_time": "2025-01-21T16:12:53.656Z"
   },
   {
    "duration": 194,
    "start_time": "2025-01-21T16:12:56.848Z"
   },
   {
    "duration": 207,
    "start_time": "2025-01-21T16:14:08.377Z"
   },
   {
    "duration": 733,
    "start_time": "2025-01-21T16:14:59.451Z"
   },
   {
    "duration": 705,
    "start_time": "2025-01-21T16:18:41.939Z"
   },
   {
    "duration": 717,
    "start_time": "2025-01-21T16:19:05.034Z"
   },
   {
    "duration": 182,
    "start_time": "2025-01-21T16:19:47.021Z"
   },
   {
    "duration": 2,
    "start_time": "2025-01-21T16:33:16.395Z"
   },
   {
    "duration": 444,
    "start_time": "2025-01-21T16:33:37.292Z"
   },
   {
    "duration": 167,
    "start_time": "2025-01-21T16:33:42.336Z"
   },
   {
    "duration": 44,
    "start_time": "2025-01-21T16:33:49.280Z"
   },
   {
    "duration": 725,
    "start_time": "2025-01-21T16:33:54.045Z"
   },
   {
    "duration": 13,
    "start_time": "2025-01-21T16:34:00.328Z"
   },
   {
    "duration": 14,
    "start_time": "2025-01-21T16:34:05.235Z"
   },
   {
    "duration": 85,
    "start_time": "2025-01-21T16:34:15.011Z"
   },
   {
    "duration": 9,
    "start_time": "2025-01-21T16:34:21.204Z"
   },
   {
    "duration": 95,
    "start_time": "2025-01-21T16:34:26.237Z"
   },
   {
    "duration": 85,
    "start_time": "2025-01-21T16:34:29.994Z"
   },
   {
    "duration": 13,
    "start_time": "2025-01-21T16:34:37.036Z"
   },
   {
    "duration": 3,
    "start_time": "2025-01-21T16:34:40.769Z"
   },
   {
    "duration": 20,
    "start_time": "2025-01-21T16:34:43.651Z"
   },
   {
    "duration": 22,
    "start_time": "2025-01-21T16:35:02.461Z"
   },
   {
    "duration": 4,
    "start_time": "2025-01-21T16:35:10.175Z"
   },
   {
    "duration": 5,
    "start_time": "2025-01-21T16:35:13.326Z"
   },
   {
    "duration": 3,
    "start_time": "2025-01-21T16:35:17.873Z"
   },
   {
    "duration": 4,
    "start_time": "2025-01-21T16:35:18.969Z"
   },
   {
    "duration": 778,
    "start_time": "2025-01-21T16:35:22.520Z"
   },
   {
    "duration": 788,
    "start_time": "2025-01-21T16:35:27.266Z"
   },
   {
    "duration": 6,
    "start_time": "2025-01-21T16:35:32.671Z"
   },
   {
    "duration": 6,
    "start_time": "2025-01-21T16:35:38.351Z"
   },
   {
    "duration": 3,
    "start_time": "2025-01-21T16:35:41.627Z"
   },
   {
    "duration": 4,
    "start_time": "2025-01-21T16:35:45.483Z"
   },
   {
    "duration": 6,
    "start_time": "2025-01-21T16:35:48.841Z"
   },
   {
    "duration": 6,
    "start_time": "2025-01-21T16:35:53.733Z"
   },
   {
    "duration": 17,
    "start_time": "2025-01-21T16:35:58.788Z"
   },
   {
    "duration": 20,
    "start_time": "2025-01-21T16:36:03.414Z"
   },
   {
    "duration": 29,
    "start_time": "2025-01-21T16:36:07.256Z"
   },
   {
    "duration": 12,
    "start_time": "2025-01-21T16:36:10.402Z"
   },
   {
    "duration": 7,
    "start_time": "2025-01-21T16:36:12.360Z"
   },
   {
    "duration": 41,
    "start_time": "2025-01-21T16:36:16.932Z"
   },
   {
    "duration": 26,
    "start_time": "2025-01-21T16:36:24.613Z"
   },
   {
    "duration": 22,
    "start_time": "2025-01-21T16:36:26.967Z"
   },
   {
    "duration": 192,
    "start_time": "2025-01-21T16:36:30.445Z"
   },
   {
    "duration": 124,
    "start_time": "2025-01-21T16:36:37.537Z"
   },
   {
    "duration": 209,
    "start_time": "2025-01-21T16:36:43.290Z"
   },
   {
    "duration": 7,
    "start_time": "2025-01-21T16:36:48.206Z"
   },
   {
    "duration": 8,
    "start_time": "2025-01-21T16:36:58.053Z"
   },
   {
    "duration": 14,
    "start_time": "2025-01-21T16:36:58.850Z"
   },
   {
    "duration": 178,
    "start_time": "2025-01-21T16:36:59.782Z"
   },
   {
    "duration": 43,
    "start_time": "2025-01-21T16:37:05.619Z"
   },
   {
    "duration": 117,
    "start_time": "2025-01-21T16:37:07.415Z"
   },
   {
    "duration": 1153,
    "start_time": "2025-01-21T16:37:12.348Z"
   },
   {
    "duration": 5,
    "start_time": "2025-01-21T16:37:13.503Z"
   },
   {
    "duration": 4,
    "start_time": "2025-01-21T16:37:13.778Z"
   },
   {
    "duration": 296,
    "start_time": "2025-01-21T16:37:19.535Z"
   },
   {
    "duration": 160,
    "start_time": "2025-01-21T16:37:24.549Z"
   },
   {
    "duration": 3,
    "start_time": "2025-01-21T16:37:35.903Z"
   },
   {
    "duration": 371,
    "start_time": "2025-01-21T16:37:41.060Z"
   },
   {
    "duration": 266,
    "start_time": "2025-01-21T16:37:42.052Z"
   },
   {
    "duration": 6,
    "start_time": "2025-01-21T16:37:42.776Z"
   },
   {
    "duration": 1307,
    "start_time": "2025-01-21T16:37:50.956Z"
   },
   {
    "duration": 9,
    "start_time": "2025-01-21T16:37:52.264Z"
   },
   {
    "duration": 512,
    "start_time": "2025-01-21T16:38:05.897Z"
   },
   {
    "duration": 425,
    "start_time": "2025-01-21T16:38:06.885Z"
   },
   {
    "duration": 191,
    "start_time": "2025-01-21T16:38:33.632Z"
   },
   {
    "duration": 123,
    "start_time": "2025-01-21T16:38:41.641Z"
   },
   {
    "duration": 2,
    "start_time": "2025-01-21T19:12:09.374Z"
   },
   {
    "duration": 2134,
    "start_time": "2025-01-21T19:12:09.390Z"
   },
   {
    "duration": 157,
    "start_time": "2025-01-21T19:12:11.526Z"
   },
   {
    "duration": 60,
    "start_time": "2025-01-21T19:12:11.684Z"
   },
   {
    "duration": 785,
    "start_time": "2025-01-21T19:12:11.746Z"
   },
   {
    "duration": 5,
    "start_time": "2025-01-21T19:12:12.535Z"
   },
   {
    "duration": 0,
    "start_time": "2025-01-21T19:12:12.544Z"
   },
   {
    "duration": 0,
    "start_time": "2025-01-21T19:12:12.545Z"
   },
   {
    "duration": 0,
    "start_time": "2025-01-21T19:12:12.546Z"
   },
   {
    "duration": 0,
    "start_time": "2025-01-21T19:12:12.547Z"
   },
   {
    "duration": 0,
    "start_time": "2025-01-21T19:12:12.548Z"
   },
   {
    "duration": 0,
    "start_time": "2025-01-21T19:12:12.549Z"
   },
   {
    "duration": 0,
    "start_time": "2025-01-21T19:12:12.550Z"
   },
   {
    "duration": 0,
    "start_time": "2025-01-21T19:12:12.552Z"
   },
   {
    "duration": 0,
    "start_time": "2025-01-21T19:12:12.552Z"
   },
   {
    "duration": 0,
    "start_time": "2025-01-21T19:12:12.553Z"
   },
   {
    "duration": 0,
    "start_time": "2025-01-21T19:12:12.554Z"
   },
   {
    "duration": 0,
    "start_time": "2025-01-21T19:12:12.556Z"
   },
   {
    "duration": 0,
    "start_time": "2025-01-21T19:12:12.557Z"
   },
   {
    "duration": 0,
    "start_time": "2025-01-21T19:12:12.558Z"
   },
   {
    "duration": 0,
    "start_time": "2025-01-21T19:12:12.559Z"
   },
   {
    "duration": 0,
    "start_time": "2025-01-21T19:12:12.561Z"
   },
   {
    "duration": 0,
    "start_time": "2025-01-21T19:12:12.562Z"
   },
   {
    "duration": 0,
    "start_time": "2025-01-21T19:12:12.564Z"
   },
   {
    "duration": 0,
    "start_time": "2025-01-21T19:12:12.565Z"
   },
   {
    "duration": 0,
    "start_time": "2025-01-21T19:12:12.566Z"
   },
   {
    "duration": 0,
    "start_time": "2025-01-21T19:12:12.568Z"
   },
   {
    "duration": 0,
    "start_time": "2025-01-21T19:12:12.569Z"
   },
   {
    "duration": 0,
    "start_time": "2025-01-21T19:12:12.570Z"
   },
   {
    "duration": 0,
    "start_time": "2025-01-21T19:12:12.572Z"
   },
   {
    "duration": 0,
    "start_time": "2025-01-21T19:12:12.573Z"
   },
   {
    "duration": 0,
    "start_time": "2025-01-21T19:12:12.575Z"
   },
   {
    "duration": 0,
    "start_time": "2025-01-21T19:12:12.625Z"
   },
   {
    "duration": 0,
    "start_time": "2025-01-21T19:12:12.626Z"
   },
   {
    "duration": 0,
    "start_time": "2025-01-21T19:12:12.628Z"
   },
   {
    "duration": 0,
    "start_time": "2025-01-21T19:12:12.629Z"
   },
   {
    "duration": 0,
    "start_time": "2025-01-21T19:12:12.631Z"
   },
   {
    "duration": 0,
    "start_time": "2025-01-21T19:12:12.632Z"
   },
   {
    "duration": 0,
    "start_time": "2025-01-21T19:12:12.634Z"
   },
   {
    "duration": 0,
    "start_time": "2025-01-21T19:12:12.635Z"
   },
   {
    "duration": 0,
    "start_time": "2025-01-21T19:12:12.640Z"
   },
   {
    "duration": 0,
    "start_time": "2025-01-21T19:12:12.641Z"
   },
   {
    "duration": 0,
    "start_time": "2025-01-21T19:12:12.642Z"
   },
   {
    "duration": 0,
    "start_time": "2025-01-21T19:12:12.644Z"
   },
   {
    "duration": 0,
    "start_time": "2025-01-21T19:12:12.645Z"
   },
   {
    "duration": 0,
    "start_time": "2025-01-21T19:12:12.646Z"
   },
   {
    "duration": 0,
    "start_time": "2025-01-21T19:12:12.648Z"
   },
   {
    "duration": 0,
    "start_time": "2025-01-21T19:12:12.650Z"
   },
   {
    "duration": 0,
    "start_time": "2025-01-21T19:12:12.651Z"
   },
   {
    "duration": 0,
    "start_time": "2025-01-21T19:12:12.653Z"
   },
   {
    "duration": 0,
    "start_time": "2025-01-21T19:12:12.654Z"
   },
   {
    "duration": 0,
    "start_time": "2025-01-21T19:12:12.656Z"
   },
   {
    "duration": 0,
    "start_time": "2025-01-21T19:12:12.657Z"
   },
   {
    "duration": 0,
    "start_time": "2025-01-21T19:12:12.659Z"
   },
   {
    "duration": 0,
    "start_time": "2025-01-21T19:12:12.660Z"
   },
   {
    "duration": 0,
    "start_time": "2025-01-21T19:12:12.662Z"
   },
   {
    "duration": 0,
    "start_time": "2025-01-21T19:12:12.663Z"
   },
   {
    "duration": 0,
    "start_time": "2025-01-21T19:12:12.724Z"
   },
   {
    "duration": 0,
    "start_time": "2025-01-21T19:12:12.725Z"
   },
   {
    "duration": 0,
    "start_time": "2025-01-21T19:12:12.727Z"
   },
   {
    "duration": 0,
    "start_time": "2025-01-21T19:12:12.728Z"
   },
   {
    "duration": 0,
    "start_time": "2025-01-21T19:12:12.729Z"
   },
   {
    "duration": 0,
    "start_time": "2025-01-21T19:12:12.730Z"
   },
   {
    "duration": 0,
    "start_time": "2025-01-21T19:12:12.731Z"
   },
   {
    "duration": 0,
    "start_time": "2025-01-21T19:12:12.732Z"
   },
   {
    "duration": 0,
    "start_time": "2025-01-21T19:12:12.733Z"
   },
   {
    "duration": 0,
    "start_time": "2025-01-21T19:12:12.735Z"
   },
   {
    "duration": 0,
    "start_time": "2025-01-21T19:12:12.736Z"
   },
   {
    "duration": 0,
    "start_time": "2025-01-21T19:12:12.738Z"
   },
   {
    "duration": 0,
    "start_time": "2025-01-21T19:12:12.739Z"
   },
   {
    "duration": 1,
    "start_time": "2025-01-21T19:12:12.741Z"
   },
   {
    "duration": 0,
    "start_time": "2025-01-21T19:12:12.744Z"
   },
   {
    "duration": 0,
    "start_time": "2025-01-21T19:12:12.745Z"
   },
   {
    "duration": 0,
    "start_time": "2025-01-21T19:12:12.747Z"
   },
   {
    "duration": 0,
    "start_time": "2025-01-21T19:12:12.748Z"
   },
   {
    "duration": 0,
    "start_time": "2025-01-21T19:12:12.749Z"
   },
   {
    "duration": 0,
    "start_time": "2025-01-21T19:12:12.751Z"
   },
   {
    "duration": 0,
    "start_time": "2025-01-21T19:12:12.753Z"
   },
   {
    "duration": 0,
    "start_time": "2025-01-21T19:12:12.755Z"
   },
   {
    "duration": 0,
    "start_time": "2025-01-21T19:12:12.756Z"
   },
   {
    "duration": 0,
    "start_time": "2025-01-21T19:12:12.757Z"
   },
   {
    "duration": 0,
    "start_time": "2025-01-21T19:12:12.758Z"
   },
   {
    "duration": 0,
    "start_time": "2025-01-21T19:12:12.759Z"
   },
   {
    "duration": 0,
    "start_time": "2025-01-21T19:12:12.760Z"
   },
   {
    "duration": 0,
    "start_time": "2025-01-21T19:12:12.761Z"
   },
   {
    "duration": 0,
    "start_time": "2025-01-21T19:12:12.762Z"
   },
   {
    "duration": 0,
    "start_time": "2025-01-21T19:12:12.824Z"
   },
   {
    "duration": 0,
    "start_time": "2025-01-21T19:12:12.825Z"
   },
   {
    "duration": 0,
    "start_time": "2025-01-21T19:12:12.826Z"
   },
   {
    "duration": 173,
    "start_time": "2025-01-21T20:10:58.785Z"
   },
   {
    "duration": 2207,
    "start_time": "2025-01-21T20:11:21.244Z"
   },
   {
    "duration": 193,
    "start_time": "2025-01-21T20:11:24.959Z"
   },
   {
    "duration": 59,
    "start_time": "2025-01-21T20:11:30.197Z"
   },
   {
    "duration": 848,
    "start_time": "2025-01-21T20:11:33.683Z"
   },
   {
    "duration": 12,
    "start_time": "2025-01-21T20:11:40.175Z"
   },
   {
    "duration": 13,
    "start_time": "2025-01-21T20:11:53.208Z"
   },
   {
    "duration": 89,
    "start_time": "2025-01-21T20:11:58.178Z"
   },
   {
    "duration": 13,
    "start_time": "2025-01-21T20:12:56.259Z"
   },
   {
    "duration": 95,
    "start_time": "2025-01-21T20:13:09.459Z"
   },
   {
    "duration": 86,
    "start_time": "2025-01-21T20:13:12.763Z"
   },
   {
    "duration": 24,
    "start_time": "2025-01-21T20:13:15.178Z"
   },
   {
    "duration": 13,
    "start_time": "2025-01-21T20:13:24.835Z"
   },
   {
    "duration": 4,
    "start_time": "2025-01-21T20:13:27.953Z"
   },
   {
    "duration": 19,
    "start_time": "2025-01-21T20:13:34.179Z"
   },
   {
    "duration": 23,
    "start_time": "2025-01-21T20:13:42.202Z"
   },
   {
    "duration": 4,
    "start_time": "2025-01-21T20:13:51.395Z"
   },
   {
    "duration": 4,
    "start_time": "2025-01-21T20:13:53.606Z"
   },
   {
    "duration": 3,
    "start_time": "2025-01-21T20:14:07.803Z"
   },
   {
    "duration": 4,
    "start_time": "2025-01-21T20:14:08.940Z"
   },
   {
    "duration": 819,
    "start_time": "2025-01-21T20:14:19.295Z"
   },
   {
    "duration": 833,
    "start_time": "2025-01-21T20:14:20.169Z"
   },
   {
    "duration": 6,
    "start_time": "2025-01-21T20:14:58.412Z"
   },
   {
    "duration": 6,
    "start_time": "2025-01-21T20:15:21.611Z"
   },
   {
    "duration": 4,
    "start_time": "2025-01-21T20:15:32.654Z"
   },
   {
    "duration": 8,
    "start_time": "2025-01-21T20:15:41.955Z"
   },
   {
    "duration": 8,
    "start_time": "2025-01-21T20:15:51.176Z"
   },
   {
    "duration": 6,
    "start_time": "2025-01-21T20:15:58.298Z"
   },
   {
    "duration": 18,
    "start_time": "2025-01-21T20:16:05.774Z"
   },
   {
    "duration": 21,
    "start_time": "2025-01-21T20:16:14.245Z"
   },
   {
    "duration": 31,
    "start_time": "2025-01-21T20:16:17.737Z"
   },
   {
    "duration": 12,
    "start_time": "2025-01-21T20:16:22.561Z"
   },
   {
    "duration": 8,
    "start_time": "2025-01-21T20:16:23.947Z"
   },
   {
    "duration": 43,
    "start_time": "2025-01-21T20:16:34.293Z"
   },
   {
    "duration": 26,
    "start_time": "2025-01-21T20:16:42.147Z"
   },
   {
    "duration": 22,
    "start_time": "2025-01-21T20:16:44.741Z"
   },
   {
    "duration": 189,
    "start_time": "2025-01-21T20:16:54.388Z"
   },
   {
    "duration": 124,
    "start_time": "2025-01-21T20:17:01.852Z"
   },
   {
    "duration": 209,
    "start_time": "2025-01-21T20:17:06.681Z"
   },
   {
    "duration": 7,
    "start_time": "2025-01-21T20:17:11.258Z"
   },
   {
    "duration": 9,
    "start_time": "2025-01-21T20:17:20.733Z"
   },
   {
    "duration": 14,
    "start_time": "2025-01-21T20:17:22.068Z"
   },
   {
    "duration": 175,
    "start_time": "2025-01-21T20:17:22.638Z"
   },
   {
    "duration": 291,
    "start_time": "2025-01-21T20:17:57.464Z"
   },
   {
    "duration": 133,
    "start_time": "2025-01-21T20:18:00.811Z"
   },
   {
    "duration": 4,
    "start_time": "2025-01-21T20:18:06.421Z"
   },
   {
    "duration": 366,
    "start_time": "2025-01-21T20:18:21.637Z"
   },
   {
    "duration": 266,
    "start_time": "2025-01-21T20:18:22.467Z"
   },
   {
    "duration": 7,
    "start_time": "2025-01-21T20:18:23.048Z"
   },
   {
    "duration": 1288,
    "start_time": "2025-01-21T20:18:27.811Z"
   },
   {
    "duration": 4,
    "start_time": "2025-01-21T20:18:29.101Z"
   },
   {
    "duration": 546,
    "start_time": "2025-01-21T20:18:34.462Z"
   },
   {
    "duration": 180,
    "start_time": "2025-01-21T20:18:35.097Z"
   },
   {
    "duration": 128,
    "start_time": "2025-01-21T20:18:56.242Z"
   },
   {
    "duration": 2258,
    "start_time": "2025-01-21T21:13:57.818Z"
   },
   {
    "duration": 219,
    "start_time": "2025-01-21T21:14:00.079Z"
   },
   {
    "duration": 74,
    "start_time": "2025-01-21T21:14:00.300Z"
   },
   {
    "duration": 1061,
    "start_time": "2025-01-21T21:14:00.377Z"
   },
   {
    "duration": 15,
    "start_time": "2025-01-21T21:14:01.443Z"
   },
   {
    "duration": 15,
    "start_time": "2025-01-21T21:14:01.462Z"
   },
   {
    "duration": 118,
    "start_time": "2025-01-21T21:14:01.480Z"
   },
   {
    "duration": 10,
    "start_time": "2025-01-21T21:14:01.600Z"
   },
   {
    "duration": 120,
    "start_time": "2025-01-21T21:14:01.612Z"
   },
   {
    "duration": 117,
    "start_time": "2025-01-21T21:14:01.736Z"
   },
   {
    "duration": 34,
    "start_time": "2025-01-21T21:14:01.855Z"
   },
   {
    "duration": 18,
    "start_time": "2025-01-21T21:14:01.891Z"
   },
   {
    "duration": 3,
    "start_time": "2025-01-21T21:14:01.912Z"
   },
   {
    "duration": 28,
    "start_time": "2025-01-21T21:14:01.942Z"
   },
   {
    "duration": 25,
    "start_time": "2025-01-21T21:14:01.972Z"
   },
   {
    "duration": 4,
    "start_time": "2025-01-21T21:14:02.002Z"
   },
   {
    "duration": 4,
    "start_time": "2025-01-21T21:14:02.009Z"
   },
   {
    "duration": 30,
    "start_time": "2025-01-21T21:14:02.015Z"
   },
   {
    "duration": 5,
    "start_time": "2025-01-21T21:14:02.048Z"
   },
   {
    "duration": 895,
    "start_time": "2025-01-21T21:14:02.055Z"
   },
   {
    "duration": 961,
    "start_time": "2025-01-21T21:14:02.953Z"
   },
   {
    "duration": 8,
    "start_time": "2025-01-21T21:14:03.917Z"
   },
   {
    "duration": 7,
    "start_time": "2025-01-21T21:14:03.928Z"
   },
   {
    "duration": 4,
    "start_time": "2025-01-21T21:14:03.943Z"
   },
   {
    "duration": 6,
    "start_time": "2025-01-21T21:14:03.949Z"
   },
   {
    "duration": 7,
    "start_time": "2025-01-21T21:14:03.958Z"
   },
   {
    "duration": 8,
    "start_time": "2025-01-21T21:14:03.970Z"
   },
   {
    "duration": 22,
    "start_time": "2025-01-21T21:14:03.980Z"
   },
   {
    "duration": 52,
    "start_time": "2025-01-21T21:14:04.005Z"
   },
   {
    "duration": 31,
    "start_time": "2025-01-21T21:14:04.059Z"
   },
   {
    "duration": 14,
    "start_time": "2025-01-21T21:14:04.092Z"
   },
   {
    "duration": 10,
    "start_time": "2025-01-21T21:14:04.108Z"
   },
   {
    "duration": 61,
    "start_time": "2025-01-21T21:14:04.119Z"
   },
   {
    "duration": 26,
    "start_time": "2025-01-21T21:14:04.182Z"
   },
   {
    "duration": 41,
    "start_time": "2025-01-21T21:14:04.211Z"
   },
   {
    "duration": 229,
    "start_time": "2025-01-21T21:14:04.254Z"
   },
   {
    "duration": 235,
    "start_time": "2025-01-21T21:14:04.485Z"
   },
   {
    "duration": 240,
    "start_time": "2025-01-21T21:14:04.722Z"
   },
   {
    "duration": 8,
    "start_time": "2025-01-21T21:14:04.964Z"
   },
   {
    "duration": 10,
    "start_time": "2025-01-21T21:14:04.974Z"
   },
   {
    "duration": 17,
    "start_time": "2025-01-21T21:14:04.989Z"
   },
   {
    "duration": 247,
    "start_time": "2025-01-21T21:14:05.008Z"
   },
   {
    "duration": 58,
    "start_time": "2025-01-21T21:14:05.257Z"
   },
   {
    "duration": 132,
    "start_time": "2025-01-21T21:14:05.317Z"
   },
   {
    "duration": 1214,
    "start_time": "2025-01-21T21:14:05.451Z"
   },
   {
    "duration": 6,
    "start_time": "2025-01-21T21:14:06.667Z"
   },
   {
    "duration": 4,
    "start_time": "2025-01-21T21:14:06.675Z"
   },
   {
    "duration": 310,
    "start_time": "2025-01-21T21:14:06.681Z"
   },
   {
    "duration": 177,
    "start_time": "2025-01-21T21:14:06.994Z"
   },
   {
    "duration": 5,
    "start_time": "2025-01-21T21:14:07.173Z"
   },
   {
    "duration": 410,
    "start_time": "2025-01-21T21:14:07.181Z"
   },
   {
    "duration": 294,
    "start_time": "2025-01-21T21:14:07.593Z"
   },
   {
    "duration": 8,
    "start_time": "2025-01-21T21:14:07.888Z"
   },
   {
    "duration": 1378,
    "start_time": "2025-01-21T21:14:07.898Z"
   },
   {
    "duration": 6,
    "start_time": "2025-01-21T21:14:09.277Z"
   },
   {
    "duration": 684,
    "start_time": "2025-01-21T21:14:09.285Z"
   },
   {
    "duration": 201,
    "start_time": "2025-01-21T21:14:09.971Z"
   },
   {
    "duration": 153,
    "start_time": "2025-01-21T21:14:10.173Z"
   },
   {
    "duration": 2267,
    "start_time": "2025-01-21T22:57:13.633Z"
   },
   {
    "duration": 171,
    "start_time": "2025-01-21T22:57:27.465Z"
   },
   {
    "duration": 75,
    "start_time": "2025-01-21T22:57:46.378Z"
   },
   {
    "duration": 905,
    "start_time": "2025-01-21T22:58:00.881Z"
   },
   {
    "duration": 20,
    "start_time": "2025-01-21T22:58:18.599Z"
   },
   {
    "duration": 17,
    "start_time": "2025-01-21T22:58:23.488Z"
   },
   {
    "duration": 90,
    "start_time": "2025-01-21T22:59:14.987Z"
   },
   {
    "duration": 69,
    "start_time": "2025-01-21T23:13:04.386Z"
   },
   {
    "duration": 185,
    "start_time": "2025-01-21T23:31:43.721Z"
   },
   {
    "duration": 25,
    "start_time": "2025-01-21T23:32:06.700Z"
   },
   {
    "duration": 217,
    "start_time": "2025-01-21T23:32:37.070Z"
   },
   {
    "duration": 28,
    "start_time": "2025-01-21T23:32:58.781Z"
   },
   {
    "duration": 402,
    "start_time": "2025-01-21T23:34:45.883Z"
   },
   {
    "duration": 299,
    "start_time": "2025-01-21T23:35:30.266Z"
   },
   {
    "duration": 384,
    "start_time": "2025-01-21T23:38:40.329Z"
   },
   {
    "duration": 293,
    "start_time": "2025-01-21T23:38:55.594Z"
   },
   {
    "duration": 472,
    "start_time": "2025-01-21T23:39:56.252Z"
   },
   {
    "duration": 301,
    "start_time": "2025-01-21T23:41:03.281Z"
   },
   {
    "duration": 1749,
    "start_time": "2025-01-21T23:57:48.902Z"
   },
   {
    "duration": 2106,
    "start_time": "2025-01-21T23:57:51.092Z"
   },
   {
    "duration": 1032,
    "start_time": "2025-01-21T23:58:41.241Z"
   },
   {
    "duration": 4,
    "start_time": "2025-01-21T23:58:43.145Z"
   },
   {
    "duration": 1043,
    "start_time": "2025-01-21T23:58:46.826Z"
   },
   {
    "duration": 4,
    "start_time": "2025-01-21T23:58:47.871Z"
   },
   {
    "duration": 143,
    "start_time": "2025-01-21T23:59:58.599Z"
   },
   {
    "duration": 17,
    "start_time": "2025-01-22T00:00:10.444Z"
   },
   {
    "duration": 9,
    "start_time": "2025-01-22T00:00:47.356Z"
   },
   {
    "duration": 132,
    "start_time": "2025-01-22T00:00:50.607Z"
   },
   {
    "duration": 117,
    "start_time": "2025-01-22T00:00:53.529Z"
   },
   {
    "duration": 40,
    "start_time": "2025-01-22T00:00:55.400Z"
   },
   {
    "duration": 1174,
    "start_time": "2025-01-22T00:01:00.732Z"
   },
   {
    "duration": 118,
    "start_time": "2025-01-22T00:02:22.155Z"
   },
   {
    "duration": 289,
    "start_time": "2025-01-22T00:04:39.005Z"
   },
   {
    "duration": 340,
    "start_time": "2025-01-22T00:04:47.711Z"
   },
   {
    "duration": 319,
    "start_time": "2025-01-22T00:04:57.276Z"
   },
   {
    "duration": 509,
    "start_time": "2025-01-22T00:06:50.205Z"
   },
   {
    "duration": 271,
    "start_time": "2025-01-22T00:07:44.695Z"
   },
   {
    "duration": 287,
    "start_time": "2025-01-22T00:09:25.284Z"
   },
   {
    "duration": 327,
    "start_time": "2025-01-22T00:15:03.721Z"
   },
   {
    "duration": 276,
    "start_time": "2025-01-22T00:15:21.579Z"
   },
   {
    "duration": 14,
    "start_time": "2025-01-22T00:20:09.390Z"
   },
   {
    "duration": 439,
    "start_time": "2025-01-22T00:21:37.793Z"
   },
   {
    "duration": 370,
    "start_time": "2025-01-22T00:24:29.312Z"
   },
   {
    "duration": 382,
    "start_time": "2025-01-22T00:33:48.228Z"
   },
   {
    "duration": 344,
    "start_time": "2025-01-22T00:33:56.830Z"
   },
   {
    "duration": 393,
    "start_time": "2025-01-22T00:34:19.678Z"
   },
   {
    "duration": 449,
    "start_time": "2025-01-22T00:35:14.427Z"
   },
   {
    "duration": 304,
    "start_time": "2025-01-22T00:35:26.077Z"
   },
   {
    "duration": 651,
    "start_time": "2025-01-22T00:37:07.175Z"
   },
   {
    "duration": 315,
    "start_time": "2025-01-22T00:37:40.578Z"
   },
   {
    "duration": 2222,
    "start_time": "2025-01-22T02:46:10.150Z"
   },
   {
    "duration": 182,
    "start_time": "2025-01-22T02:46:12.375Z"
   },
   {
    "duration": 71,
    "start_time": "2025-01-22T02:46:16.801Z"
   },
   {
    "duration": 861,
    "start_time": "2025-01-22T02:46:20.447Z"
   },
   {
    "duration": 19,
    "start_time": "2025-01-22T02:46:24.338Z"
   },
   {
    "duration": 16,
    "start_time": "2025-01-22T02:46:27.009Z"
   },
   {
    "duration": 92,
    "start_time": "2025-01-22T02:46:32.121Z"
   },
   {
    "duration": 9,
    "start_time": "2025-01-22T02:46:35.105Z"
   },
   {
    "duration": 103,
    "start_time": "2025-01-22T02:46:38.628Z"
   },
   {
    "duration": 6,
    "start_time": "2025-01-22T02:46:47.758Z"
   },
   {
    "duration": 233,
    "start_time": "2025-01-22T02:46:57.550Z"
   },
   {
    "duration": 30,
    "start_time": "2025-01-22T02:47:40.123Z"
   },
   {
    "duration": 25,
    "start_time": "2025-01-22T02:48:34.496Z"
   },
   {
    "duration": 25,
    "start_time": "2025-01-22T02:49:12.743Z"
   },
   {
    "duration": 24,
    "start_time": "2025-01-22T02:49:44.325Z"
   },
   {
    "duration": 25,
    "start_time": "2025-01-22T02:49:59.641Z"
   },
   {
    "duration": 25,
    "start_time": "2025-01-22T02:50:19.811Z"
   },
   {
    "duration": 18,
    "start_time": "2025-01-22T02:51:04.693Z"
   },
   {
    "duration": 7,
    "start_time": "2025-01-22T02:51:10.088Z"
   },
   {
    "duration": 65,
    "start_time": "2025-01-22T02:51:12.242Z"
   },
   {
    "duration": 65,
    "start_time": "2025-01-22T02:51:23.499Z"
   },
   {
    "duration": 65,
    "start_time": "2025-01-22T02:53:20.106Z"
   },
   {
    "duration": 64,
    "start_time": "2025-01-22T02:55:37.471Z"
   },
   {
    "duration": 63,
    "start_time": "2025-01-22T02:55:51.051Z"
   },
   {
    "duration": 3,
    "start_time": "2025-01-22T03:00:10.510Z"
   },
   {
    "duration": 128,
    "start_time": "2025-01-22T03:00:13.024Z"
   },
   {
    "duration": 387,
    "start_time": "2025-01-22T03:00:30.090Z"
   },
   {
    "duration": 176,
    "start_time": "2025-01-22T03:00:32.565Z"
   },
   {
    "duration": 46,
    "start_time": "2025-01-22T03:00:36.182Z"
   },
   {
    "duration": 742,
    "start_time": "2025-01-22T03:00:42.361Z"
   },
   {
    "duration": 14,
    "start_time": "2025-01-22T03:00:47.559Z"
   },
   {
    "duration": 14,
    "start_time": "2025-01-22T03:00:49.891Z"
   },
   {
    "duration": 85,
    "start_time": "2025-01-22T03:00:53.784Z"
   },
   {
    "duration": 9,
    "start_time": "2025-01-22T03:00:56.628Z"
   },
   {
    "duration": 93,
    "start_time": "2025-01-22T03:00:59.936Z"
   },
   {
    "duration": 85,
    "start_time": "2025-01-22T03:01:02.570Z"
   },
   {
    "duration": 26,
    "start_time": "2025-01-22T03:01:03.766Z"
   },
   {
    "duration": 16,
    "start_time": "2025-01-22T03:01:05.829Z"
   },
   {
    "duration": 4,
    "start_time": "2025-01-22T03:01:07.309Z"
   },
   {
    "duration": 18,
    "start_time": "2025-01-22T03:01:10.436Z"
   },
   {
    "duration": 22,
    "start_time": "2025-01-22T03:01:13.512Z"
   },
   {
    "duration": 4,
    "start_time": "2025-01-22T03:01:17.243Z"
   },
   {
    "duration": 4,
    "start_time": "2025-01-22T03:01:18.825Z"
   },
   {
    "duration": 3,
    "start_time": "2025-01-22T03:01:21.251Z"
   },
   {
    "duration": 4,
    "start_time": "2025-01-22T03:01:22.580Z"
   },
   {
    "duration": 1189,
    "start_time": "2025-01-22T03:01:25.208Z"
   },
   {
    "duration": 1066,
    "start_time": "2025-01-22T03:01:27.147Z"
   },
   {
    "duration": 7,
    "start_time": "2025-01-22T03:01:31.404Z"
   },
   {
    "duration": 7,
    "start_time": "2025-01-22T03:01:34.339Z"
   },
   {
    "duration": 4,
    "start_time": "2025-01-22T03:01:37.069Z"
   },
   {
    "duration": 5,
    "start_time": "2025-01-22T03:01:40.127Z"
   },
   {
    "duration": 6,
    "start_time": "2025-01-22T03:01:42.835Z"
   },
   {
    "duration": 7,
    "start_time": "2025-01-22T03:01:45.796Z"
   },
   {
    "duration": 18,
    "start_time": "2025-01-22T03:01:48.364Z"
   },
   {
    "duration": 20,
    "start_time": "2025-01-22T03:01:52.396Z"
   },
   {
    "duration": 31,
    "start_time": "2025-01-22T03:01:54.804Z"
   },
   {
    "duration": 12,
    "start_time": "2025-01-22T03:01:58.450Z"
   },
   {
    "duration": 63,
    "start_time": "2025-01-22T03:02:04.576Z"
   },
   {
    "duration": 37,
    "start_time": "2025-01-22T03:02:08.550Z"
   },
   {
    "duration": 33,
    "start_time": "2025-01-22T03:02:11.986Z"
   },
   {
    "duration": 20,
    "start_time": "2025-01-22T03:02:12.693Z"
   },
   {
    "duration": 194,
    "start_time": "2025-01-22T03:02:15.627Z"
   },
   {
    "duration": 119,
    "start_time": "2025-01-22T03:02:18.681Z"
   },
   {
    "duration": 200,
    "start_time": "2025-01-22T03:02:21.559Z"
   },
   {
    "duration": 6,
    "start_time": "2025-01-22T03:02:25.310Z"
   },
   {
    "duration": 12,
    "start_time": "2025-01-22T03:02:27.745Z"
   },
   {
    "duration": 16,
    "start_time": "2025-01-22T03:02:28.549Z"
   },
   {
    "duration": 45,
    "start_time": "2025-01-22T03:02:32.706Z"
   },
   {
    "duration": 119,
    "start_time": "2025-01-22T03:02:33.390Z"
   },
   {
    "duration": 1195,
    "start_time": "2025-01-22T03:02:36.936Z"
   },
   {
    "duration": 5,
    "start_time": "2025-01-22T03:02:38.133Z"
   },
   {
    "duration": 4,
    "start_time": "2025-01-22T03:02:38.662Z"
   },
   {
    "duration": 245,
    "start_time": "2025-01-22T03:02:42.347Z"
   },
   {
    "duration": 133,
    "start_time": "2025-01-22T03:02:44.171Z"
   },
   {
    "duration": 3,
    "start_time": "2025-01-22T03:02:49.996Z"
   },
   {
    "duration": 373,
    "start_time": "2025-01-22T03:02:53.587Z"
   },
   {
    "duration": 276,
    "start_time": "2025-01-22T03:02:55.458Z"
   },
   {
    "duration": 7,
    "start_time": "2025-01-22T03:02:56.202Z"
   },
   {
    "duration": 909,
    "start_time": "2025-01-22T03:02:59.277Z"
   },
   {
    "duration": 4,
    "start_time": "2025-01-22T03:03:00.704Z"
   },
   {
    "duration": 545,
    "start_time": "2025-01-22T03:03:05.801Z"
   },
   {
    "duration": 107,
    "start_time": "2025-01-22T03:03:15.160Z"
   },
   {
    "duration": 126,
    "start_time": "2025-01-22T03:03:26.476Z"
   },
   {
    "duration": 2238,
    "start_time": "2025-01-22T05:19:58.632Z"
   },
   {
    "duration": 164,
    "start_time": "2025-01-22T05:20:00.872Z"
   },
   {
    "duration": 65,
    "start_time": "2025-01-22T05:20:01.038Z"
   },
   {
    "duration": 848,
    "start_time": "2025-01-22T05:20:01.105Z"
   },
   {
    "duration": 46,
    "start_time": "2025-01-22T05:20:01.957Z"
   },
   {
    "duration": 19,
    "start_time": "2025-01-22T05:20:02.006Z"
   },
   {
    "duration": 86,
    "start_time": "2025-01-22T05:20:02.026Z"
   },
   {
    "duration": 8,
    "start_time": "2025-01-22T05:20:02.114Z"
   },
   {
    "duration": 106,
    "start_time": "2025-01-22T05:20:02.124Z"
   },
   {
    "duration": 94,
    "start_time": "2025-01-22T05:20:02.232Z"
   },
   {
    "duration": 25,
    "start_time": "2025-01-22T05:20:02.328Z"
   },
   {
    "duration": 25,
    "start_time": "2025-01-22T05:20:02.355Z"
   },
   {
    "duration": 3,
    "start_time": "2025-01-22T05:20:02.381Z"
   },
   {
    "duration": 18,
    "start_time": "2025-01-22T05:20:02.388Z"
   },
   {
    "duration": 19,
    "start_time": "2025-01-22T05:20:02.408Z"
   },
   {
    "duration": 4,
    "start_time": "2025-01-22T05:20:02.429Z"
   },
   {
    "duration": 4,
    "start_time": "2025-01-22T05:20:02.434Z"
   },
   {
    "duration": 4,
    "start_time": "2025-01-22T05:20:02.470Z"
   },
   {
    "duration": 4,
    "start_time": "2025-01-22T05:20:02.476Z"
   },
   {
    "duration": 848,
    "start_time": "2025-01-22T05:20:02.482Z"
   },
   {
    "duration": 830,
    "start_time": "2025-01-22T05:20:03.332Z"
   },
   {
    "duration": 7,
    "start_time": "2025-01-22T05:20:04.169Z"
   },
   {
    "duration": 6,
    "start_time": "2025-01-22T05:20:04.179Z"
   },
   {
    "duration": 2,
    "start_time": "2025-01-22T05:20:04.187Z"
   },
   {
    "duration": 4,
    "start_time": "2025-01-22T05:20:04.191Z"
   },
   {
    "duration": 6,
    "start_time": "2025-01-22T05:20:04.197Z"
   },
   {
    "duration": 5,
    "start_time": "2025-01-22T05:20:04.204Z"
   },
   {
    "duration": 17,
    "start_time": "2025-01-22T05:20:04.211Z"
   },
   {
    "duration": 55,
    "start_time": "2025-01-22T05:20:04.230Z"
   },
   {
    "duration": 31,
    "start_time": "2025-01-22T05:20:04.288Z"
   },
   {
    "duration": 12,
    "start_time": "2025-01-22T05:20:04.321Z"
   },
   {
    "duration": 85,
    "start_time": "2025-01-22T05:20:04.335Z"
   },
   {
    "duration": 52,
    "start_time": "2025-01-22T05:20:04.423Z"
   },
   {
    "duration": 28,
    "start_time": "2025-01-22T05:20:04.477Z"
   },
   {
    "duration": 21,
    "start_time": "2025-01-22T05:20:04.507Z"
   },
   {
    "duration": 217,
    "start_time": "2025-01-22T05:20:04.530Z"
   },
   {
    "duration": 136,
    "start_time": "2025-01-22T05:20:04.748Z"
   },
   {
    "duration": 227,
    "start_time": "2025-01-22T05:20:04.886Z"
   },
   {
    "duration": 6,
    "start_time": "2025-01-22T05:20:05.115Z"
   },
   {
    "duration": 9,
    "start_time": "2025-01-22T05:20:05.123Z"
   },
   {
    "duration": 40,
    "start_time": "2025-01-22T05:20:05.137Z"
   },
   {
    "duration": 234,
    "start_time": "2025-01-22T05:20:05.178Z"
   },
   {
    "duration": 45,
    "start_time": "2025-01-22T05:20:05.414Z"
   },
   {
    "duration": 129,
    "start_time": "2025-01-22T05:20:05.470Z"
   },
   {
    "duration": 1191,
    "start_time": "2025-01-22T05:20:05.602Z"
   },
   {
    "duration": 5,
    "start_time": "2025-01-22T05:20:06.796Z"
   },
   {
    "duration": 4,
    "start_time": "2025-01-22T05:20:06.803Z"
   },
   {
    "duration": 296,
    "start_time": "2025-01-22T05:20:06.808Z"
   },
   {
    "duration": 155,
    "start_time": "2025-01-22T05:20:07.107Z"
   },
   {
    "duration": 6,
    "start_time": "2025-01-22T05:20:07.264Z"
   },
   {
    "duration": 376,
    "start_time": "2025-01-22T05:20:07.272Z"
   },
   {
    "duration": 290,
    "start_time": "2025-01-22T05:20:07.650Z"
   },
   {
    "duration": 6,
    "start_time": "2025-01-22T05:20:07.943Z"
   },
   {
    "duration": 923,
    "start_time": "2025-01-22T05:20:07.950Z"
   },
   {
    "duration": 4,
    "start_time": "2025-01-22T05:20:08.874Z"
   },
   {
    "duration": 586,
    "start_time": "2025-01-22T05:20:08.880Z"
   },
   {
    "duration": 103,
    "start_time": "2025-01-22T05:20:09.470Z"
   },
   {
    "duration": 138,
    "start_time": "2025-01-22T05:20:09.575Z"
   }
  ],
  "kernelspec": {
   "display_name": "Python 3 (ipykernel)",
   "language": "python",
   "name": "python3"
  },
  "language_info": {
   "codemirror_mode": {
    "name": "ipython",
    "version": 3
   },
   "file_extension": ".py",
   "mimetype": "text/x-python",
   "name": "python",
   "nbconvert_exporter": "python",
   "pygments_lexer": "ipython3",
   "version": "3.12.7"
  },
  "toc": {
   "base_numbering": 1,
   "nav_menu": {},
   "number_sections": true,
   "sideBar": true,
   "skip_h1_title": true,
   "title_cell": "Table of Contents",
   "title_sidebar": "Contents",
   "toc_cell": false,
   "toc_position": {
    "height": "calc(100% - 180px)",
    "left": "10px",
    "top": "150px",
    "width": "165px"
   },
   "toc_section_display": true,
   "toc_window_display": true
  },
  "vscode": {
   "interpreter": {
    "hash": "01a7be9ec63e704a62cefc5fe7a4756944464ee731be31632bdf42a4cb4688cf"
   }
  }
 },
 "nbformat": 4,
 "nbformat_minor": 5
}
