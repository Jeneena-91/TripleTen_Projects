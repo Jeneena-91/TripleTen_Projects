{
 "cells": [
  {
   "cell_type": "markdown",
   "metadata": {},
   "source": [
    "### Title : Customer Churn Prediction for Beta Bank"
   ]
  },
  {
   "cell_type": "markdown",
   "metadata": {},
   "source": [
    "## Introduction: \n",
    "\n",
    "In this project we are going to develop a predictive model to check whether a customer will leave the bank soon based on the data of clients’ past behavior and termination of contracts with the bank. The bankers figured out it’s cheaper to save the existing customers rather than to attract new ones.\n",
    "Our aims are \n",
    "- Build a model with the maximum possible F1 score.(Atleast 0.59)\n",
    "- Measure the AUC-ROC metric and compare it with the F1\n",
    "\n",
    "This project consists of following steps\n",
    "* Data loading and initialization\n",
    "* Data preprocessing\n",
    "* Split the source data into a training set, a validation set, and a test set.\n",
    "* Examine the balance of classes with different models\n",
    "* Improve the quality models and train different models and find the best model "
   ]
  },
  {
   "cell_type": "markdown",
   "metadata": {},
   "source": [
    "### First stage: Data loading and initialization\n",
    "In this stage, load all the important libraries and load the content of data in csv file"
   ]
  },
  {
   "cell_type": "code",
   "execution_count": 46,
   "metadata": {},
   "outputs": [],
   "source": [
    "# Import all libraries\n",
    "import pandas as pd\n",
    "import re\n",
    "import numpy as np\n",
    "from sklearn.model_selection import train_test_split\n",
    "from sklearn.tree import DecisionTreeClassifier\n",
    "from sklearn.model_selection import GridSearchCV\n",
    "from sklearn.preprocessing import StandardScaler\n",
    "from sklearn.linear_model import LogisticRegression\n",
    "from sklearn.ensemble import RandomForestClassifier\n",
    "from sklearn.utils import shuffle\n",
    "from sklearn.metrics import f1_score, roc_auc_score, confusion_matrix, classification_report\n",
    "from matplotlib import pyplot as plt\n",
    "import seaborn as sns\n"
   ]
  },
  {
   "cell_type": "code",
   "execution_count": 47,
   "metadata": {},
   "outputs": [
    {
     "data": {
      "text/html": [
       "<div>\n",
       "<style scoped>\n",
       "    .dataframe tbody tr th:only-of-type {\n",
       "        vertical-align: middle;\n",
       "    }\n",
       "\n",
       "    .dataframe tbody tr th {\n",
       "        vertical-align: top;\n",
       "    }\n",
       "\n",
       "    .dataframe thead th {\n",
       "        text-align: right;\n",
       "    }\n",
       "</style>\n",
       "<table border=\"1\" class=\"dataframe\">\n",
       "  <thead>\n",
       "    <tr style=\"text-align: right;\">\n",
       "      <th></th>\n",
       "      <th>RowNumber</th>\n",
       "      <th>CustomerId</th>\n",
       "      <th>Surname</th>\n",
       "      <th>CreditScore</th>\n",
       "      <th>Geography</th>\n",
       "      <th>Gender</th>\n",
       "      <th>Age</th>\n",
       "      <th>Tenure</th>\n",
       "      <th>Balance</th>\n",
       "      <th>NumOfProducts</th>\n",
       "      <th>HasCrCard</th>\n",
       "      <th>IsActiveMember</th>\n",
       "      <th>EstimatedSalary</th>\n",
       "      <th>Exited</th>\n",
       "    </tr>\n",
       "  </thead>\n",
       "  <tbody>\n",
       "    <tr>\n",
       "      <th>0</th>\n",
       "      <td>1</td>\n",
       "      <td>15634602</td>\n",
       "      <td>Hargrave</td>\n",
       "      <td>619</td>\n",
       "      <td>France</td>\n",
       "      <td>Female</td>\n",
       "      <td>42</td>\n",
       "      <td>2.0</td>\n",
       "      <td>0.00</td>\n",
       "      <td>1</td>\n",
       "      <td>1</td>\n",
       "      <td>1</td>\n",
       "      <td>101348.88</td>\n",
       "      <td>1</td>\n",
       "    </tr>\n",
       "    <tr>\n",
       "      <th>1</th>\n",
       "      <td>2</td>\n",
       "      <td>15647311</td>\n",
       "      <td>Hill</td>\n",
       "      <td>608</td>\n",
       "      <td>Spain</td>\n",
       "      <td>Female</td>\n",
       "      <td>41</td>\n",
       "      <td>1.0</td>\n",
       "      <td>83807.86</td>\n",
       "      <td>1</td>\n",
       "      <td>0</td>\n",
       "      <td>1</td>\n",
       "      <td>112542.58</td>\n",
       "      <td>0</td>\n",
       "    </tr>\n",
       "    <tr>\n",
       "      <th>2</th>\n",
       "      <td>3</td>\n",
       "      <td>15619304</td>\n",
       "      <td>Onio</td>\n",
       "      <td>502</td>\n",
       "      <td>France</td>\n",
       "      <td>Female</td>\n",
       "      <td>42</td>\n",
       "      <td>8.0</td>\n",
       "      <td>159660.80</td>\n",
       "      <td>3</td>\n",
       "      <td>1</td>\n",
       "      <td>0</td>\n",
       "      <td>113931.57</td>\n",
       "      <td>1</td>\n",
       "    </tr>\n",
       "    <tr>\n",
       "      <th>3</th>\n",
       "      <td>4</td>\n",
       "      <td>15701354</td>\n",
       "      <td>Boni</td>\n",
       "      <td>699</td>\n",
       "      <td>France</td>\n",
       "      <td>Female</td>\n",
       "      <td>39</td>\n",
       "      <td>1.0</td>\n",
       "      <td>0.00</td>\n",
       "      <td>2</td>\n",
       "      <td>0</td>\n",
       "      <td>0</td>\n",
       "      <td>93826.63</td>\n",
       "      <td>0</td>\n",
       "    </tr>\n",
       "    <tr>\n",
       "      <th>4</th>\n",
       "      <td>5</td>\n",
       "      <td>15737888</td>\n",
       "      <td>Mitchell</td>\n",
       "      <td>850</td>\n",
       "      <td>Spain</td>\n",
       "      <td>Female</td>\n",
       "      <td>43</td>\n",
       "      <td>2.0</td>\n",
       "      <td>125510.82</td>\n",
       "      <td>1</td>\n",
       "      <td>1</td>\n",
       "      <td>1</td>\n",
       "      <td>79084.10</td>\n",
       "      <td>0</td>\n",
       "    </tr>\n",
       "    <tr>\n",
       "      <th>...</th>\n",
       "      <td>...</td>\n",
       "      <td>...</td>\n",
       "      <td>...</td>\n",
       "      <td>...</td>\n",
       "      <td>...</td>\n",
       "      <td>...</td>\n",
       "      <td>...</td>\n",
       "      <td>...</td>\n",
       "      <td>...</td>\n",
       "      <td>...</td>\n",
       "      <td>...</td>\n",
       "      <td>...</td>\n",
       "      <td>...</td>\n",
       "      <td>...</td>\n",
       "    </tr>\n",
       "    <tr>\n",
       "      <th>9995</th>\n",
       "      <td>9996</td>\n",
       "      <td>15606229</td>\n",
       "      <td>Obijiaku</td>\n",
       "      <td>771</td>\n",
       "      <td>France</td>\n",
       "      <td>Male</td>\n",
       "      <td>39</td>\n",
       "      <td>5.0</td>\n",
       "      <td>0.00</td>\n",
       "      <td>2</td>\n",
       "      <td>1</td>\n",
       "      <td>0</td>\n",
       "      <td>96270.64</td>\n",
       "      <td>0</td>\n",
       "    </tr>\n",
       "    <tr>\n",
       "      <th>9996</th>\n",
       "      <td>9997</td>\n",
       "      <td>15569892</td>\n",
       "      <td>Johnstone</td>\n",
       "      <td>516</td>\n",
       "      <td>France</td>\n",
       "      <td>Male</td>\n",
       "      <td>35</td>\n",
       "      <td>10.0</td>\n",
       "      <td>57369.61</td>\n",
       "      <td>1</td>\n",
       "      <td>1</td>\n",
       "      <td>1</td>\n",
       "      <td>101699.77</td>\n",
       "      <td>0</td>\n",
       "    </tr>\n",
       "    <tr>\n",
       "      <th>9997</th>\n",
       "      <td>9998</td>\n",
       "      <td>15584532</td>\n",
       "      <td>Liu</td>\n",
       "      <td>709</td>\n",
       "      <td>France</td>\n",
       "      <td>Female</td>\n",
       "      <td>36</td>\n",
       "      <td>7.0</td>\n",
       "      <td>0.00</td>\n",
       "      <td>1</td>\n",
       "      <td>0</td>\n",
       "      <td>1</td>\n",
       "      <td>42085.58</td>\n",
       "      <td>1</td>\n",
       "    </tr>\n",
       "    <tr>\n",
       "      <th>9998</th>\n",
       "      <td>9999</td>\n",
       "      <td>15682355</td>\n",
       "      <td>Sabbatini</td>\n",
       "      <td>772</td>\n",
       "      <td>Germany</td>\n",
       "      <td>Male</td>\n",
       "      <td>42</td>\n",
       "      <td>3.0</td>\n",
       "      <td>75075.31</td>\n",
       "      <td>2</td>\n",
       "      <td>1</td>\n",
       "      <td>0</td>\n",
       "      <td>92888.52</td>\n",
       "      <td>1</td>\n",
       "    </tr>\n",
       "    <tr>\n",
       "      <th>9999</th>\n",
       "      <td>10000</td>\n",
       "      <td>15628319</td>\n",
       "      <td>Walker</td>\n",
       "      <td>792</td>\n",
       "      <td>France</td>\n",
       "      <td>Female</td>\n",
       "      <td>28</td>\n",
       "      <td>NaN</td>\n",
       "      <td>130142.79</td>\n",
       "      <td>1</td>\n",
       "      <td>1</td>\n",
       "      <td>0</td>\n",
       "      <td>38190.78</td>\n",
       "      <td>0</td>\n",
       "    </tr>\n",
       "  </tbody>\n",
       "</table>\n",
       "<p>10000 rows × 14 columns</p>\n",
       "</div>"
      ],
      "text/plain": [
       "      RowNumber  CustomerId    Surname  CreditScore Geography  Gender  Age  \\\n",
       "0             1    15634602   Hargrave          619    France  Female   42   \n",
       "1             2    15647311       Hill          608     Spain  Female   41   \n",
       "2             3    15619304       Onio          502    France  Female   42   \n",
       "3             4    15701354       Boni          699    France  Female   39   \n",
       "4             5    15737888   Mitchell          850     Spain  Female   43   \n",
       "...         ...         ...        ...          ...       ...     ...  ...   \n",
       "9995       9996    15606229   Obijiaku          771    France    Male   39   \n",
       "9996       9997    15569892  Johnstone          516    France    Male   35   \n",
       "9997       9998    15584532        Liu          709    France  Female   36   \n",
       "9998       9999    15682355  Sabbatini          772   Germany    Male   42   \n",
       "9999      10000    15628319     Walker          792    France  Female   28   \n",
       "\n",
       "      Tenure    Balance  NumOfProducts  HasCrCard  IsActiveMember  \\\n",
       "0        2.0       0.00              1          1               1   \n",
       "1        1.0   83807.86              1          0               1   \n",
       "2        8.0  159660.80              3          1               0   \n",
       "3        1.0       0.00              2          0               0   \n",
       "4        2.0  125510.82              1          1               1   \n",
       "...      ...        ...            ...        ...             ...   \n",
       "9995     5.0       0.00              2          1               0   \n",
       "9996    10.0   57369.61              1          1               1   \n",
       "9997     7.0       0.00              1          0               1   \n",
       "9998     3.0   75075.31              2          1               0   \n",
       "9999     NaN  130142.79              1          1               0   \n",
       "\n",
       "      EstimatedSalary  Exited  \n",
       "0           101348.88       1  \n",
       "1           112542.58       0  \n",
       "2           113931.57       1  \n",
       "3            93826.63       0  \n",
       "4            79084.10       0  \n",
       "...               ...     ...  \n",
       "9995         96270.64       0  \n",
       "9996        101699.77       0  \n",
       "9997         42085.58       1  \n",
       "9998         92888.52       1  \n",
       "9999         38190.78       0  \n",
       "\n",
       "[10000 rows x 14 columns]"
      ]
     },
     "metadata": {},
     "output_type": "display_data"
    }
   ],
   "source": [
    "# Load the data into a variable df\n",
    "df=pd.read_csv('/datasets/Churn.csv')\n",
    "display(df)"
   ]
  },
  {
   "cell_type": "markdown",
   "metadata": {},
   "source": [
    "The dataframe consists of 10000 rows and 14 columns.  The columns are \n",
    "- RowNumber — data string index\n",
    "- CustomerId — unique customer identifier\n",
    "- Surname — surname\n",
    "- CreditScore — credit score\n",
    "- Geography — country of residence\n",
    "- Gender — gender\n",
    "- Age — age\n",
    "- Tenure — period of maturation for a customer’s fixed deposit (years)\n",
    "- Balance — account balance\n",
    "- NumOfProducts — number of banking products used by the customer\n",
    "- HasCrCard — customer has a credit card\n",
    "- IsActiveMember — customer’s activeness\n",
    "- EstimatedSalary — estimated salary\n",
    "- Exited — сustomer has left"
   ]
  },
  {
   "cell_type": "markdown",
   "metadata": {},
   "source": [
    "### Second Stage: Data preprocessing\n",
    "\n",
    "In this stage, check whether there are any duplicates in the data. Also check if there is any missing values and check the data types are appropriate for each column."
   ]
  },
  {
   "cell_type": "code",
   "execution_count": 48,
   "metadata": {},
   "outputs": [
    {
     "name": "stdout",
     "output_type": "stream",
     "text": [
      "<class 'pandas.core.frame.DataFrame'>\n",
      "RangeIndex: 10000 entries, 0 to 9999\n",
      "Data columns (total 14 columns):\n",
      " #   Column           Non-Null Count  Dtype  \n",
      "---  ------           --------------  -----  \n",
      " 0   RowNumber        10000 non-null  int64  \n",
      " 1   CustomerId       10000 non-null  int64  \n",
      " 2   Surname          10000 non-null  object \n",
      " 3   CreditScore      10000 non-null  int64  \n",
      " 4   Geography        10000 non-null  object \n",
      " 5   Gender           10000 non-null  object \n",
      " 6   Age              10000 non-null  int64  \n",
      " 7   Tenure           9091 non-null   float64\n",
      " 8   Balance          10000 non-null  float64\n",
      " 9   NumOfProducts    10000 non-null  int64  \n",
      " 10  HasCrCard        10000 non-null  int64  \n",
      " 11  IsActiveMember   10000 non-null  int64  \n",
      " 12  EstimatedSalary  10000 non-null  float64\n",
      " 13  Exited           10000 non-null  int64  \n",
      "dtypes: float64(3), int64(8), object(3)\n",
      "memory usage: 1.1+ MB\n"
     ]
    }
   ],
   "source": [
    "df.info()"
   ]
  },
  {
   "cell_type": "markdown",
   "metadata": {},
   "source": [
    "The above information shows the non null count in each column and the datatypes. The dtypes are appropriate for further analysis."
   ]
  },
  {
   "cell_type": "code",
   "execution_count": 49,
   "metadata": {},
   "outputs": [
    {
     "name": "stdout",
     "output_type": "stream",
     "text": [
      "Index(['row_number', 'customer_id', 'surname', 'credit_score', 'geography',\n",
      "       'gender', 'age', 'tenure', 'balance', 'num_of_products', 'has_cr_card',\n",
      "       'is_active_member', 'estimated_salary', 'exited'],\n",
      "      dtype='object')\n"
     ]
    }
   ],
   "source": [
    "# Convert the name of columns into appropriate form\n",
    "df.columns = [re.sub(r'(?<!^)(?=[A-Z])', '_', column).lower().replace(' ', '_') for column in df.columns]\n",
    "print(df.columns)"
   ]
  },
  {
   "cell_type": "code",
   "execution_count": 50,
   "metadata": {},
   "outputs": [
    {
     "data": {
      "text/plain": [
       "row_number            0\n",
       "customer_id           0\n",
       "surname               0\n",
       "credit_score          0\n",
       "geography             0\n",
       "gender                0\n",
       "age                   0\n",
       "tenure              909\n",
       "balance               0\n",
       "num_of_products       0\n",
       "has_cr_card           0\n",
       "is_active_member      0\n",
       "estimated_salary      0\n",
       "exited                0\n",
       "dtype: int64"
      ]
     },
     "execution_count": 50,
     "metadata": {},
     "output_type": "execute_result"
    }
   ],
   "source": [
    "#Check for missing values\n",
    "df.isnull().sum()"
   ]
  },
  {
   "cell_type": "code",
   "execution_count": 51,
   "metadata": {},
   "outputs": [
    {
     "data": {
      "text/plain": [
       "1.0     952\n",
       "2.0     950\n",
       "8.0     933\n",
       "3.0     928\n",
       "5.0     927\n",
       "7.0     925\n",
       "4.0     885\n",
       "9.0     882\n",
       "6.0     881\n",
       "10.0    446\n",
       "0.0     382\n",
       "Name: tenure, dtype: int64"
      ]
     },
     "execution_count": 51,
     "metadata": {},
     "output_type": "execute_result"
    }
   ],
   "source": [
    "df['tenure'].value_counts()"
   ]
  },
  {
   "cell_type": "markdown",
   "metadata": {},
   "source": [
    "From the above data, it is clear that the number of counts in extreme ends are less compared to others, i.e,it is not affected by extreme values. So we can choose median value to replace the missing values."
   ]
  },
  {
   "cell_type": "code",
   "execution_count": 52,
   "metadata": {},
   "outputs": [],
   "source": [
    "#Fill missing value with the median\n",
    "df['tenure'].fillna(df['tenure'].median(), inplace=True)"
   ]
  },
  {
   "cell_type": "code",
   "execution_count": 53,
   "metadata": {},
   "outputs": [
    {
     "data": {
      "text/plain": [
       "row_number          0\n",
       "customer_id         0\n",
       "surname             0\n",
       "credit_score        0\n",
       "geography           0\n",
       "gender              0\n",
       "age                 0\n",
       "tenure              0\n",
       "balance             0\n",
       "num_of_products     0\n",
       "has_cr_card         0\n",
       "is_active_member    0\n",
       "estimated_salary    0\n",
       "exited              0\n",
       "dtype: int64"
      ]
     },
     "execution_count": 53,
     "metadata": {},
     "output_type": "execute_result"
    }
   ],
   "source": [
    "#Recheck for missing values\n",
    "df.isnull().sum()"
   ]
  },
  {
   "cell_type": "code",
   "execution_count": 54,
   "metadata": {},
   "outputs": [
    {
     "data": {
      "text/plain": [
       "0"
      ]
     },
     "execution_count": 54,
     "metadata": {},
     "output_type": "execute_result"
    }
   ],
   "source": [
    "#Check for duplicates\n",
    "df.duplicated().sum()"
   ]
  },
  {
   "cell_type": "code",
   "execution_count": 55,
   "metadata": {},
   "outputs": [],
   "source": [
    "#Drop the colums containing personal details\n",
    "df=df.drop(columns=['row_number', 'customer_id','surname'])"
   ]
  },
  {
   "cell_type": "code",
   "execution_count": 56,
   "metadata": {},
   "outputs": [
    {
     "data": {
      "text/plain": [
       "0"
      ]
     },
     "execution_count": 56,
     "metadata": {},
     "output_type": "execute_result"
    }
   ],
   "source": [
    "#Check for duplicates\n",
    "df.duplicated().sum()"
   ]
  },
  {
   "cell_type": "markdown",
   "metadata": {},
   "source": [
    "<div class=\"alert alert-success\" style=\"border-radius: 15px; box-shadow: 4px 4px 4px; border: 1px solid \">\n",
    "<h2>   Reviewer's comment 2 </h2>\n",
    "    \n",
    "Good! Deleting columns may introduce new duplicates, so it's better to look for the duplicates after we delete columns :) \n",
    "    \n",
    "</div>"
   ]
  },
  {
   "cell_type": "code",
   "execution_count": 57,
   "metadata": {},
   "outputs": [
    {
     "data": {
      "image/png": "[encoded data removed]",
      "text/plain": [
       "<Figure size 1200x1000 with 9 Axes>"
      ]
     },
     "metadata": {},
     "output_type": "display_data"
    }
   ],
   "source": [
    "# Histogram to show the distribution of numerical features\n",
    "df.hist(figsize=(12,10),bins=30)\n",
    "plt.show()"
   ]
  },
  {
   "cell_type": "code",
   "execution_count": 58,
   "metadata": {},
   "outputs": [
    {
     "data": {
      "image/png": "[encoded data removed]",
      "text/plain": [
       "<Figure size 640x480 with 1 Axes>"
      ]
     },
     "metadata": {},
     "output_type": "display_data"
    }
   ],
   "source": [
    "#Bar plot to show the customers in each region\n",
    "sns.countplot(data=df, x='geography')\n",
    "plt.xlabel('Geography')\n",
    "plt.ylabel('Number of customers')\n",
    "plt.title('Number of customers in each region')\n",
    "plt.show()"
   ]
  },
  {
   "cell_type": "code",
   "execution_count": 59,
   "metadata": {},
   "outputs": [
    {
     "data": {
      "image/png": "[encoded data removed]",
      "text/plain": [
       "<Figure size 1200x1000 with 2 Axes>"
      ]
     },
     "metadata": {},
     "output_type": "display_data"
    }
   ],
   "source": [
    "#Corelation heatmap displays corelation between quantitative features:\n",
    "plt.figure(figsize=(12,10))\n",
    "sns.heatmap(df.corr(), annot=True, fmt=\".2f\", cmap='coolwarm')\n",
    "plt.show()"
   ]
  },
  {
   "cell_type": "markdown",
   "metadata": {},
   "source": [
    "The above figures shows the distribution of numerical features, heatmap and categorical feature geography. The distribution of numerical features like age, salary, credit score etc are shown in the figure. Number of customers in France is higher than Spain and Germany.The heatmap visually represents the relationships between variables in the df, making it easy to identify potential dependencies or correlations."
   ]
  },
  {
   "cell_type": "code",
   "execution_count": 60,
   "metadata": {},
   "outputs": [],
   "source": [
    "#Convert categorical variables into numerical data\n",
    "data=pd.get_dummies(df, drop_first=True)"
   ]
  },
  {
   "cell_type": "markdown",
   "metadata": {},
   "source": [
    "Encode the categorical variables like geography, gender into numerical form using pd.get_dummies() before splitting the data."
   ]
  },
  {
   "cell_type": "code",
   "execution_count": 61,
   "metadata": {},
   "outputs": [],
   "source": [
    "# Features and target\n",
    "features = data.drop(columns=['exited'])\n",
    "target = data['exited']"
   ]
  },
  {
   "cell_type": "markdown",
   "metadata": {},
   "source": [
    "### Third Stage: Split the source data into a training set, a validation set, and a test set.\n",
    "\n",
    "In this stage, the source data is divided into 3:1:1 ratio. i.e, Source data is divided into training dataset, validating dataset and testdataset. 60% of source data is training set, 20% for validating set and remaining 20% for test set."
   ]
  },
  {
   "cell_type": "code",
   "execution_count": 62,
   "metadata": {},
   "outputs": [],
   "source": [
    "# Splitting the data into two\n",
    "data_train, data_remaining =train_test_split(data, test_size=0.40, random_state=12345, stratify=data['exited'])"
   ]
  },
  {
   "cell_type": "code",
   "execution_count": 63,
   "metadata": {},
   "outputs": [],
   "source": [
    "# Split the data into validating and test set\n",
    "data_valid, data_test=train_test_split(data_remaining, test_size=0.50, random_state=12345, stratify=data_remaining['exited'])"
   ]
  },
  {
   "cell_type": "markdown",
   "metadata": {},
   "source": [
    "Split the data into three parts: training set (to train the model), validation set (to tune hyperparameters and select the best model), and test set (to evaluate the final model's performance). 60% of total data considers as training data and remaining 40% as validation and test sets."
   ]
  },
  {
   "cell_type": "code",
   "execution_count": 64,
   "metadata": {},
   "outputs": [],
   "source": [
    "# Split the data into 3 sets\n",
    "features_train=data_train.drop(columns=['exited'])\n",
    "target_train = data_train['exited']\n",
    "features_valid=data_valid.drop(columns=['exited'])\n",
    "target_valid = data_valid['exited']\n",
    "features_test=data_test.drop(columns=['exited'])\n",
    "target_test = data_test['exited']"
   ]
  },
  {
   "cell_type": "code",
   "execution_count": 65,
   "metadata": {},
   "outputs": [
    {
     "name": "stdout",
     "output_type": "stream",
     "text": [
      "The training set shape is (6000, 11) for features and (6000,) for targets\n",
      "The validation set shape is (2000, 11) for features and (2000,) for targets\n",
      "The test set shape is (2000, 11) for features and (2000,) for targets\n"
     ]
    }
   ],
   "source": [
    "print(f'The training set shape is {features_train.shape} for features and {target_train.shape} for targets')\n",
    "print(f'The validation set shape is {features_valid.shape} for features and {target_valid.shape} for targets')\n",
    "print(f'The test set shape is {features_test.shape} for features and {target_test.shape} for targets')"
   ]
  },
  {
   "cell_type": "markdown",
   "metadata": {},
   "source": [
    "In this stage split the data into three sets training, validating and test sets in 3:1:1 ratio."
   ]
  },
  {
   "cell_type": "markdown",
   "metadata": {},
   "source": [
    "### Fourth Stage: Examine the balance of classes with different models\n",
    "\n",
    "In this stage compare different classification models like\n",
    "\n",
    "- DecisionTreeClassifier\n",
    "- RandomForestClassifier\n",
    "- Linear Regression\n",
    "Examine the balances of classes with different models"
   ]
  },
  {
   "cell_type": "code",
   "execution_count": 66,
   "metadata": {},
   "outputs": [],
   "source": [
    "#Modelling using DecisionTreeClassifier\n",
    "# Tune the hyperparameters using gridsearch\n",
    "param_grid = {\n",
    "        'criterion': ['gini', 'entropy'],\n",
    "        'max_depth': [None, 5, 10, 15],\n",
    "        'min_samples_split': [2, 5, 10],\n",
    "        'min_samples_leaf': [1, 2, 4]\n",
    "    }\n",
    "grid_search = GridSearchCV(estimator=DecisionTreeClassifier(random_state=12345),param_grid = param_grid, cv = 2, scoring='f1')"
   ]
  },
  {
   "cell_type": "code",
   "execution_count": 67,
   "metadata": {},
   "outputs": [
    {
     "data": {
      "text/plain": [
       "GridSearchCV(cv=2, estimator=DecisionTreeClassifier(random_state=12345),\n",
       "             param_grid={'criterion': ['gini', 'entropy'],\n",
       "                         'max_depth': [None, 5, 10, 15],\n",
       "                         'min_samples_leaf': [1, 2, 4],\n",
       "                         'min_samples_split': [2, 5, 10]},\n",
       "             scoring='f1')"
      ]
     },
     "execution_count": 67,
     "metadata": {},
     "output_type": "execute_result"
    }
   ],
   "source": [
    "grid_search.fit(features_train,target_train)"
   ]
  },
  {
   "cell_type": "code",
   "execution_count": 68,
   "metadata": {},
   "outputs": [
    {
     "data": {
      "text/plain": [
       "DecisionTreeClassifier(criterion='entropy', max_depth=5, min_samples_split=5,\n",
       "                       random_state=12345)"
      ]
     },
     "execution_count": 68,
     "metadata": {},
     "output_type": "execute_result"
    }
   ],
   "source": [
    "#Train the model using best parameters\n",
    "best_params1 = grid_search.best_params_\n",
    "best_model_0 = DecisionTreeClassifier(**best_params1, random_state=12345)\n",
    "best_model_0.fit(features_train, target_train)\n",
    "best_model_0.fit(features_valid, target_valid)"
   ]
  },
  {
   "cell_type": "code",
   "execution_count": 69,
   "metadata": {},
   "outputs": [],
   "source": [
    "#Predict valid features\n",
    "valid_predictions=best_model_0.predict(features_valid)"
   ]
  },
  {
   "cell_type": "code",
   "execution_count": 70,
   "metadata": {},
   "outputs": [
    {
     "name": "stdout",
     "output_type": "stream",
     "text": [
      "[[1545   47]\n",
      " [ 229  179]]\n"
     ]
    }
   ],
   "source": [
    "print(confusion_matrix(target_valid, valid_predictions))"
   ]
  },
  {
   "cell_type": "code",
   "execution_count": 71,
   "metadata": {},
   "outputs": [
    {
     "name": "stdout",
     "output_type": "stream",
     "text": [
      "0.5646687697160884\n"
     ]
    }
   ],
   "source": [
    "print(f1_score(target_valid, valid_predictions))"
   ]
  },
  {
   "cell_type": "code",
   "execution_count": 72,
   "metadata": {},
   "outputs": [],
   "source": [
    "# Modelling using LogisticRegression\n",
    "# Tune the hyperparameters using gridsearch\n",
    "param_grid = [\n",
    "    {'penalty':['l1','l2'],\n",
    "    'C' : np.logspace(-4,4,20),\n",
    "    'solver': ['liblinear']\n",
    "    \n",
    "}\n",
    "]\n",
    "grid_search= GridSearchCV(estimator=LogisticRegression(random_state=12345),param_grid = param_grid, cv = 5, scoring='f1')"
   ]
  },
  {
   "cell_type": "code",
   "execution_count": 73,
   "metadata": {},
   "outputs": [
    {
     "data": {
      "text/plain": [
       "GridSearchCV(cv=5, estimator=LogisticRegression(random_state=12345),\n",
       "             param_grid=[{'C': array([1.00000000e-04, 2.63665090e-04, 6.95192796e-04, 1.83298071e-03,\n",
       "       4.83293024e-03, 1.27427499e-02, 3.35981829e-02, 8.85866790e-02,\n",
       "       2.33572147e-01, 6.15848211e-01, 1.62377674e+00, 4.28133240e+00,\n",
       "       1.12883789e+01, 2.97635144e+01, 7.84759970e+01, 2.06913808e+02,\n",
       "       5.45559478e+02, 1.43844989e+03, 3.79269019e+03, 1.00000000e+04]),\n",
       "                          'penalty': ['l1', 'l2'], 'solver': ['liblinear']}],\n",
       "             scoring='f1')"
      ]
     },
     "execution_count": 73,
     "metadata": {},
     "output_type": "execute_result"
    }
   ],
   "source": [
    "grid_search.fit(features_train,target_train)"
   ]
  },
  {
   "cell_type": "code",
   "execution_count": 74,
   "metadata": {},
   "outputs": [
    {
     "data": {
      "text/plain": [
       "LogisticRegression(C=4.281332398719396, penalty='l1', random_state=12345,\n",
       "                   solver='liblinear')"
      ]
     },
     "execution_count": 74,
     "metadata": {},
     "output_type": "execute_result"
    }
   ],
   "source": [
    "#Train the model using best parameters\n",
    "best_params2 =grid_search.best_params_\n",
    "best_model_1 = LogisticRegression(**best_params2, random_state=12345)\n",
    "best_model_1.fit(features_train, target_train)\n",
    "best_model_1.fit(features_valid, target_valid)"
   ]
  },
  {
   "cell_type": "code",
   "execution_count": 75,
   "metadata": {},
   "outputs": [],
   "source": [
    "#Predict test features\n",
    "valid_predictions=best_model_1.predict(features_valid)"
   ]
  },
  {
   "cell_type": "code",
   "execution_count": 76,
   "metadata": {},
   "outputs": [
    {
     "name": "stdout",
     "output_type": "stream",
     "text": [
      "[[1516   76]\n",
      " [ 310   98]]\n"
     ]
    }
   ],
   "source": [
    "print(confusion_matrix(target_valid, valid_predictions))"
   ]
  },
  {
   "cell_type": "code",
   "execution_count": 77,
   "metadata": {},
   "outputs": [
    {
     "name": "stdout",
     "output_type": "stream",
     "text": [
      "0.3367697594501718\n"
     ]
    }
   ],
   "source": [
    "print(f1_score(target_valid, valid_predictions))"
   ]
  },
  {
   "cell_type": "code",
   "execution_count": 78,
   "metadata": {},
   "outputs": [],
   "source": [
    "# Modelling using RandomForestClassifier\n",
    "# Tune the hyperparameters using gridsearch\n",
    "\n",
    "param_grid = {\n",
    "    'n_estimators': [50, 100, 150],\n",
    "    'max_depth': [None, 10, 20, 30],\n",
    "    'min_samples_split': [2, 5, 10],\n",
    "    'min_samples_leaf': [1, 2, 4],\n",
    "    'criterion': ['gini', 'entropy']\n",
    "}\n",
    "\n",
    "grid_search = GridSearchCV(\n",
    "    estimator=RandomForestClassifier(random_state=12345),\n",
    "    param_grid=param_grid,\n",
    "    cv=3,  \n",
    "    n_jobs=-1, \n",
    "    verbose=2,\n",
    "    scoring='f1'\n",
    ")"
   ]
  },
  {
   "cell_type": "code",
   "execution_count": 79,
   "metadata": {},
   "outputs": [
    {
     "name": "stdout",
     "output_type": "stream",
     "text": [
      "Fitting 3 folds for each of 216 candidates, totalling 648 fits\n",
      "[CV] END criterion=gini, max_depth=None, min_samples_leaf=1, min_samples_split=2, n_estimators=50; total time=   0.3s\n",
      "[CV] END criterion=gini, max_depth=None, min_samples_leaf=1, min_samples_split=2, n_estimators=50; total time=   0.2s\n",
      "[CV] END criterion=gini, max_depth=None, min_samples_leaf=1, min_samples_split=2, n_estimators=50; total time=   0.2s\n",
      "[CV] END criterion=gini, max_depth=None, min_samples_leaf=1, min_samples_split=2, n_estimators=100; total time=   0.4s\n",
      "[CV] END criterion=gini, max_depth=None, min_samples_leaf=1, min_samples_split=2, n_estimators=100; total time=   0.4s\n",
      "[CV] END criterion=gini, max_depth=None, min_samples_leaf=1, min_samples_split=2, n_estimators=100; total time=   0.4s\n",
      "[CV] END criterion=gini, max_depth=None, min_samples_leaf=1, min_samples_split=2, n_estimators=150; total time=   0.6s\n",
      "[CV] END criterion=gini, max_depth=None, min_samples_leaf=1, min_samples_split=2, n_estimators=150; total time=   0.6s\n",
      "[CV] END criterion=gini, max_depth=None, min_samples_leaf=1, min_samples_split=2, n_estimators=150; total time=   0.6s\n",
      "[CV] END criterion=gini, max_depth=None, min_samples_leaf=1, min_samples_split=5, n_estimators=50; total time=   0.2s\n",
      "[CV] END criterion=gini, max_depth=None, min_samples_leaf=1, min_samples_split=5, n_estimators=50; total time=   0.2s\n",
      "[CV] END criterion=gini, max_depth=None, min_samples_leaf=1, min_samples_split=5, n_estimators=50; total time=   0.2s\n",
      "[CV] END criterion=gini, max_depth=None, min_samples_leaf=1, min_samples_split=5, n_estimators=100; total time=   0.4s\n",
      "[CV] END criterion=gini, max_depth=None, min_samples_leaf=1, min_samples_split=5, n_estimators=100; total time=   0.4s\n",
      "[CV] END criterion=gini, max_depth=None, min_samples_leaf=1, min_samples_split=5, n_estimators=100; total time=   0.4s\n",
      "[CV] END criterion=gini, max_depth=None, min_samples_leaf=1, min_samples_split=5, n_estimators=150; total time=   0.6s\n",
      "[CV] END criterion=gini, max_depth=None, min_samples_leaf=1, min_samples_split=5, n_estimators=150; total time=   0.6s\n",
      "[CV] END criterion=gini, max_depth=None, min_samples_leaf=1, min_samples_split=5, n_estimators=150; total time=   0.6s\n",
      "[CV] END criterion=gini, max_depth=None, min_samples_leaf=1, min_samples_split=10, n_estimators=50; total time=   0.2s\n",
      "[CV] END criterion=gini, max_depth=None, min_samples_leaf=1, min_samples_split=10, n_estimators=50; total time=   0.2s\n",
      "[CV] END criterion=gini, max_depth=None, min_samples_leaf=1, min_samples_split=10, n_estimators=50; total time=   0.2s\n",
      "[CV] END criterion=gini, max_depth=None, min_samples_leaf=1, min_samples_split=10, n_estimators=100; total time=   0.4s\n",
      "[CV] END criterion=gini, max_depth=None, min_samples_leaf=1, min_samples_split=10, n_estimators=100; total time=   0.4s\n",
      "[CV] END criterion=gini, max_depth=None, min_samples_leaf=1, min_samples_split=10, n_estimators=100; total time=   0.4s\n",
      "[CV] END criterion=gini, max_depth=None, min_samples_leaf=1, min_samples_split=10, n_estimators=150; total time=   0.6s\n",
      "[CV] END criterion=gini, max_depth=None, min_samples_leaf=1, min_samples_split=10, n_estimators=150; total time=   0.6s\n",
      "[CV] END criterion=gini, max_depth=None, min_samples_leaf=1, min_samples_split=10, n_estimators=150; total time=   0.6s\n",
      "[CV] END criterion=gini, max_depth=None, min_samples_leaf=2, min_samples_split=2, n_estimators=50; total time=   0.2s\n",
      "[CV] END criterion=gini, max_depth=None, min_samples_leaf=2, min_samples_split=2, n_estimators=50; total time=   0.2s\n",
      "[CV] END criterion=gini, max_depth=None, min_samples_leaf=2, min_samples_split=2, n_estimators=50; total time=   0.2s\n",
      "[CV] END criterion=gini, max_depth=None, min_samples_leaf=2, min_samples_split=2, n_estimators=100; total time=   0.4s\n",
      "[CV] END criterion=gini, max_depth=None, min_samples_leaf=2, min_samples_split=2, n_estimators=100; total time=   0.4s\n",
      "[CV] END criterion=gini, max_depth=None, min_samples_leaf=2, min_samples_split=2, n_estimators=100; total time=   0.4s\n",
      "[CV] END criterion=gini, max_depth=None, min_samples_leaf=2, min_samples_split=2, n_estimators=150; total time=   0.6s\n",
      "[CV] END criterion=gini, max_depth=None, min_samples_leaf=2, min_samples_split=2, n_estimators=150; total time=   0.6s\n",
      "[CV] END criterion=gini, max_depth=None, min_samples_leaf=2, min_samples_split=2, n_estimators=150; total time=   0.6s\n",
      "[CV] END criterion=gini, max_depth=None, min_samples_leaf=2, min_samples_split=5, n_estimators=50; total time=   0.2s\n",
      "[CV] END criterion=gini, max_depth=None, min_samples_leaf=2, min_samples_split=5, n_estimators=50; total time=   0.2s\n",
      "[CV] END criterion=gini, max_depth=None, min_samples_leaf=2, min_samples_split=5, n_estimators=50; total time=   0.2s\n",
      "[CV] END criterion=gini, max_depth=None, min_samples_leaf=2, min_samples_split=5, n_estimators=100; total time=   0.4s\n",
      "[CV] END criterion=gini, max_depth=None, min_samples_leaf=2, min_samples_split=5, n_estimators=100; total time=   0.4s\n",
      "[CV] END criterion=gini, max_depth=None, min_samples_leaf=2, min_samples_split=5, n_estimators=100; total time=   0.4s\n",
      "[CV] END criterion=gini, max_depth=None, min_samples_leaf=2, min_samples_split=5, n_estimators=150; total time=   0.6s\n",
      "[CV] END criterion=gini, max_depth=None, min_samples_leaf=2, min_samples_split=5, n_estimators=150; total time=   0.6s\n",
      "[CV] END criterion=gini, max_depth=None, min_samples_leaf=2, min_samples_split=5, n_estimators=150; total time=   0.6s\n",
      "[CV] END criterion=gini, max_depth=None, min_samples_leaf=2, min_samples_split=10, n_estimators=50; total time=   0.2s\n",
      "[CV] END criterion=gini, max_depth=None, min_samples_leaf=2, min_samples_split=10, n_estimators=50; total time=   0.2s\n",
      "[CV] END criterion=gini, max_depth=None, min_samples_leaf=2, min_samples_split=10, n_estimators=50; total time=   0.2s\n",
      "[CV] END criterion=gini, max_depth=None, min_samples_leaf=2, min_samples_split=10, n_estimators=100; total time=   0.4s\n",
      "[CV] END criterion=gini, max_depth=None, min_samples_leaf=2, min_samples_split=10, n_estimators=100; total time=   0.4s\n",
      "[CV] END criterion=gini, max_depth=None, min_samples_leaf=2, min_samples_split=10, n_estimators=100; total time=   0.4s\n",
      "[CV] END criterion=gini, max_depth=None, min_samples_leaf=2, min_samples_split=10, n_estimators=150; total time=   0.5s\n",
      "[CV] END criterion=gini, max_depth=None, min_samples_leaf=2, min_samples_split=10, n_estimators=150; total time=   0.5s\n",
      "[CV] END criterion=gini, max_depth=None, min_samples_leaf=2, min_samples_split=10, n_estimators=150; total time=   0.6s\n",
      "[CV] END criterion=gini, max_depth=None, min_samples_leaf=4, min_samples_split=2, n_estimators=50; total time=   0.2s\n",
      "[CV] END criterion=gini, max_depth=None, min_samples_leaf=4, min_samples_split=2, n_estimators=50; total time=   0.2s\n",
      "[CV] END criterion=gini, max_depth=None, min_samples_leaf=4, min_samples_split=2, n_estimators=50; total time=   0.2s\n",
      "[CV] END criterion=gini, max_depth=None, min_samples_leaf=4, min_samples_split=2, n_estimators=100; total time=   0.4s\n",
      "[CV] END criterion=gini, max_depth=None, min_samples_leaf=4, min_samples_split=2, n_estimators=100; total time=   0.4s\n",
      "[CV] END criterion=gini, max_depth=None, min_samples_leaf=4, min_samples_split=2, n_estimators=100; total time=   0.4s\n",
      "[CV] END criterion=gini, max_depth=None, min_samples_leaf=4, min_samples_split=2, n_estimators=150; total time=   0.5s\n",
      "[CV] END criterion=gini, max_depth=None, min_samples_leaf=4, min_samples_split=2, n_estimators=150; total time=   0.5s\n",
      "[CV] END criterion=gini, max_depth=None, min_samples_leaf=4, min_samples_split=2, n_estimators=150; total time=   0.5s\n",
      "[CV] END criterion=gini, max_depth=None, min_samples_leaf=4, min_samples_split=5, n_estimators=50; total time=   0.2s\n",
      "[CV] END criterion=gini, max_depth=None, min_samples_leaf=4, min_samples_split=5, n_estimators=50; total time=   0.2s\n",
      "[CV] END criterion=gini, max_depth=None, min_samples_leaf=4, min_samples_split=5, n_estimators=50; total time=   0.2s\n",
      "[CV] END criterion=gini, max_depth=None, min_samples_leaf=4, min_samples_split=5, n_estimators=100; total time=   0.4s\n",
      "[CV] END criterion=gini, max_depth=None, min_samples_leaf=4, min_samples_split=5, n_estimators=100; total time=   0.4s\n",
      "[CV] END criterion=gini, max_depth=None, min_samples_leaf=4, min_samples_split=5, n_estimators=100; total time=   0.4s\n"
     ]
    },
    {
     "name": "stdout",
     "output_type": "stream",
     "text": [
      "[CV] END criterion=gini, max_depth=None, min_samples_leaf=4, min_samples_split=5, n_estimators=150; total time=   0.5s\n",
      "[CV] END criterion=gini, max_depth=None, min_samples_leaf=4, min_samples_split=5, n_estimators=150; total time=   0.5s\n",
      "[CV] END criterion=gini, max_depth=None, min_samples_leaf=4, min_samples_split=5, n_estimators=150; total time=   0.5s\n",
      "[CV] END criterion=gini, max_depth=None, min_samples_leaf=4, min_samples_split=10, n_estimators=50; total time=   0.2s\n",
      "[CV] END criterion=gini, max_depth=None, min_samples_leaf=4, min_samples_split=10, n_estimators=50; total time=   0.2s\n",
      "[CV] END criterion=gini, max_depth=None, min_samples_leaf=4, min_samples_split=10, n_estimators=50; total time=   0.2s\n",
      "[CV] END criterion=gini, max_depth=None, min_samples_leaf=4, min_samples_split=10, n_estimators=100; total time=   0.4s\n",
      "[CV] END criterion=gini, max_depth=None, min_samples_leaf=4, min_samples_split=10, n_estimators=100; total time=   0.4s\n",
      "[CV] END criterion=gini, max_depth=None, min_samples_leaf=4, min_samples_split=10, n_estimators=100; total time=   0.4s\n",
      "[CV] END criterion=gini, max_depth=None, min_samples_leaf=4, min_samples_split=10, n_estimators=150; total time=   0.5s\n",
      "[CV] END criterion=gini, max_depth=None, min_samples_leaf=4, min_samples_split=10, n_estimators=150; total time=   0.5s\n",
      "[CV] END criterion=gini, max_depth=None, min_samples_leaf=4, min_samples_split=10, n_estimators=150; total time=   0.5s\n",
      "[CV] END criterion=gini, max_depth=10, min_samples_leaf=1, min_samples_split=2, n_estimators=50; total time=   0.2s\n",
      "[CV] END criterion=gini, max_depth=10, min_samples_leaf=1, min_samples_split=2, n_estimators=50; total time=   0.2s\n",
      "[CV] END criterion=gini, max_depth=10, min_samples_leaf=1, min_samples_split=2, n_estimators=50; total time=   0.2s\n",
      "[CV] END criterion=gini, max_depth=10, min_samples_leaf=1, min_samples_split=2, n_estimators=100; total time=   0.4s\n",
      "[CV] END criterion=gini, max_depth=10, min_samples_leaf=1, min_samples_split=2, n_estimators=100; total time=   0.4s\n",
      "[CV] END criterion=gini, max_depth=10, min_samples_leaf=1, min_samples_split=2, n_estimators=100; total time=   0.4s\n",
      "[CV] END criterion=gini, max_depth=10, min_samples_leaf=1, min_samples_split=2, n_estimators=150; total time=   0.5s\n",
      "[CV] END criterion=gini, max_depth=10, min_samples_leaf=1, min_samples_split=2, n_estimators=150; total time=   0.5s\n",
      "[CV] END criterion=gini, max_depth=10, min_samples_leaf=1, min_samples_split=2, n_estimators=150; total time=   0.5s\n",
      "[CV] END criterion=gini, max_depth=10, min_samples_leaf=1, min_samples_split=5, n_estimators=50; total time=   0.2s\n",
      "[CV] END criterion=gini, max_depth=10, min_samples_leaf=1, min_samples_split=5, n_estimators=50; total time=   0.2s\n",
      "[CV] END criterion=gini, max_depth=10, min_samples_leaf=1, min_samples_split=5, n_estimators=50; total time=   0.2s\n",
      "[CV] END criterion=gini, max_depth=10, min_samples_leaf=1, min_samples_split=5, n_estimators=100; total time=   0.3s\n",
      "[CV] END criterion=gini, max_depth=10, min_samples_leaf=1, min_samples_split=5, n_estimators=100; total time=   0.3s\n",
      "[CV] END criterion=gini, max_depth=10, min_samples_leaf=1, min_samples_split=5, n_estimators=100; total time=   0.3s\n",
      "[CV] END criterion=gini, max_depth=10, min_samples_leaf=1, min_samples_split=5, n_estimators=150; total time=   0.5s\n",
      "[CV] END criterion=gini, max_depth=10, min_samples_leaf=1, min_samples_split=5, n_estimators=150; total time=   0.5s\n",
      "[CV] END criterion=gini, max_depth=10, min_samples_leaf=1, min_samples_split=5, n_estimators=150; total time=   0.5s\n",
      "[CV] END criterion=gini, max_depth=10, min_samples_leaf=1, min_samples_split=10, n_estimators=50; total time=   0.2s\n",
      "[CV] END criterion=gini, max_depth=10, min_samples_leaf=1, min_samples_split=10, n_estimators=50; total time=   0.2s\n",
      "[CV] END criterion=gini, max_depth=10, min_samples_leaf=1, min_samples_split=10, n_estimators=50; total time=   0.2s\n",
      "[CV] END criterion=gini, max_depth=10, min_samples_leaf=1, min_samples_split=10, n_estimators=100; total time=   0.4s\n",
      "[CV] END criterion=gini, max_depth=10, min_samples_leaf=1, min_samples_split=10, n_estimators=100; total time=   0.4s\n",
      "[CV] END criterion=gini, max_depth=10, min_samples_leaf=1, min_samples_split=10, n_estimators=100; total time=   0.4s\n",
      "[CV] END criterion=gini, max_depth=10, min_samples_leaf=1, min_samples_split=10, n_estimators=150; total time=   0.5s\n",
      "[CV] END criterion=gini, max_depth=10, min_samples_leaf=1, min_samples_split=10, n_estimators=150; total time=   0.5s\n",
      "[CV] END criterion=gini, max_depth=10, min_samples_leaf=1, min_samples_split=10, n_estimators=150; total time=   0.5s\n",
      "[CV] END criterion=gini, max_depth=10, min_samples_leaf=2, min_samples_split=2, n_estimators=50; total time=   0.2s\n",
      "[CV] END criterion=gini, max_depth=10, min_samples_leaf=2, min_samples_split=2, n_estimators=50; total time=   0.2s\n",
      "[CV] END criterion=gini, max_depth=10, min_samples_leaf=2, min_samples_split=2, n_estimators=50; total time=   0.2s\n",
      "[CV] END criterion=gini, max_depth=10, min_samples_leaf=2, min_samples_split=2, n_estimators=100; total time=   0.3s\n",
      "[CV] END criterion=gini, max_depth=10, min_samples_leaf=2, min_samples_split=2, n_estimators=100; total time=   0.3s\n",
      "[CV] END criterion=gini, max_depth=10, min_samples_leaf=2, min_samples_split=2, n_estimators=100; total time=   0.3s\n",
      "[CV] END criterion=gini, max_depth=10, min_samples_leaf=2, min_samples_split=2, n_estimators=150; total time=   0.5s\n",
      "[CV] END criterion=gini, max_depth=10, min_samples_leaf=2, min_samples_split=2, n_estimators=150; total time=   0.5s\n",
      "[CV] END criterion=gini, max_depth=10, min_samples_leaf=2, min_samples_split=2, n_estimators=150; total time=   0.5s\n",
      "[CV] END criterion=gini, max_depth=10, min_samples_leaf=2, min_samples_split=5, n_estimators=50; total time=   0.2s\n",
      "[CV] END criterion=gini, max_depth=10, min_samples_leaf=2, min_samples_split=5, n_estimators=50; total time=   0.2s\n",
      "[CV] END criterion=gini, max_depth=10, min_samples_leaf=2, min_samples_split=5, n_estimators=50; total time=   0.2s\n",
      "[CV] END criterion=gini, max_depth=10, min_samples_leaf=2, min_samples_split=5, n_estimators=100; total time=   0.3s\n",
      "[CV] END criterion=gini, max_depth=10, min_samples_leaf=2, min_samples_split=5, n_estimators=100; total time=   0.3s\n",
      "[CV] END criterion=gini, max_depth=10, min_samples_leaf=2, min_samples_split=5, n_estimators=100; total time=   0.3s\n",
      "[CV] END criterion=gini, max_depth=10, min_samples_leaf=2, min_samples_split=5, n_estimators=150; total time=   0.5s\n",
      "[CV] END criterion=gini, max_depth=10, min_samples_leaf=2, min_samples_split=5, n_estimators=150; total time=   0.5s\n",
      "[CV] END criterion=gini, max_depth=10, min_samples_leaf=2, min_samples_split=5, n_estimators=150; total time=   0.5s\n",
      "[CV] END criterion=gini, max_depth=10, min_samples_leaf=2, min_samples_split=10, n_estimators=50; total time=   0.2s\n",
      "[CV] END criterion=gini, max_depth=10, min_samples_leaf=2, min_samples_split=10, n_estimators=50; total time=   0.2s\n",
      "[CV] END criterion=gini, max_depth=10, min_samples_leaf=2, min_samples_split=10, n_estimators=50; total time=   0.2s\n",
      "[CV] END criterion=gini, max_depth=10, min_samples_leaf=2, min_samples_split=10, n_estimators=100; total time=   0.3s\n",
      "[CV] END criterion=gini, max_depth=10, min_samples_leaf=2, min_samples_split=10, n_estimators=100; total time=   0.3s\n",
      "[CV] END criterion=gini, max_depth=10, min_samples_leaf=2, min_samples_split=10, n_estimators=100; total time=   0.3s\n",
      "[CV] END criterion=gini, max_depth=10, min_samples_leaf=2, min_samples_split=10, n_estimators=150; total time=   0.5s\n",
      "[CV] END criterion=gini, max_depth=10, min_samples_leaf=2, min_samples_split=10, n_estimators=150; total time=   0.5s\n",
      "[CV] END criterion=gini, max_depth=10, min_samples_leaf=2, min_samples_split=10, n_estimators=150; total time=   0.5s\n",
      "[CV] END criterion=gini, max_depth=10, min_samples_leaf=4, min_samples_split=2, n_estimators=50; total time=   0.2s\n",
      "[CV] END criterion=gini, max_depth=10, min_samples_leaf=4, min_samples_split=2, n_estimators=50; total time=   0.2s\n",
      "[CV] END criterion=gini, max_depth=10, min_samples_leaf=4, min_samples_split=2, n_estimators=50; total time=   0.2s\n",
      "[CV] END criterion=gini, max_depth=10, min_samples_leaf=4, min_samples_split=2, n_estimators=100; total time=   0.3s\n"
     ]
    },
    {
     "name": "stdout",
     "output_type": "stream",
     "text": [
      "[CV] END criterion=gini, max_depth=10, min_samples_leaf=4, min_samples_split=2, n_estimators=100; total time=   0.3s\n",
      "[CV] END criterion=gini, max_depth=10, min_samples_leaf=4, min_samples_split=2, n_estimators=100; total time=   0.3s\n",
      "[CV] END criterion=gini, max_depth=10, min_samples_leaf=4, min_samples_split=2, n_estimators=150; total time=   0.5s\n",
      "[CV] END criterion=gini, max_depth=10, min_samples_leaf=4, min_samples_split=2, n_estimators=150; total time=   0.5s\n",
      "[CV] END criterion=gini, max_depth=10, min_samples_leaf=4, min_samples_split=2, n_estimators=150; total time=   0.5s\n",
      "[CV] END criterion=gini, max_depth=10, min_samples_leaf=4, min_samples_split=5, n_estimators=50; total time=   0.2s\n",
      "[CV] END criterion=gini, max_depth=10, min_samples_leaf=4, min_samples_split=5, n_estimators=50; total time=   0.2s\n",
      "[CV] END criterion=gini, max_depth=10, min_samples_leaf=4, min_samples_split=5, n_estimators=50; total time=   0.2s\n",
      "[CV] END criterion=gini, max_depth=10, min_samples_leaf=4, min_samples_split=5, n_estimators=100; total time=   0.3s\n",
      "[CV] END criterion=gini, max_depth=10, min_samples_leaf=4, min_samples_split=5, n_estimators=100; total time=   0.3s\n",
      "[CV] END criterion=gini, max_depth=10, min_samples_leaf=4, min_samples_split=5, n_estimators=100; total time=   0.3s\n",
      "[CV] END criterion=gini, max_depth=10, min_samples_leaf=4, min_samples_split=5, n_estimators=150; total time=   0.5s\n",
      "[CV] END criterion=gini, max_depth=10, min_samples_leaf=4, min_samples_split=5, n_estimators=150; total time=   0.5s\n",
      "[CV] END criterion=gini, max_depth=10, min_samples_leaf=4, min_samples_split=5, n_estimators=150; total time=   0.5s\n",
      "[CV] END criterion=gini, max_depth=10, min_samples_leaf=4, min_samples_split=10, n_estimators=50; total time=   0.2s\n",
      "[CV] END criterion=gini, max_depth=10, min_samples_leaf=4, min_samples_split=10, n_estimators=50; total time=   0.2s\n",
      "[CV] END criterion=gini, max_depth=10, min_samples_leaf=4, min_samples_split=10, n_estimators=50; total time=   0.2s\n",
      "[CV] END criterion=gini, max_depth=10, min_samples_leaf=4, min_samples_split=10, n_estimators=100; total time=   0.3s\n",
      "[CV] END criterion=gini, max_depth=10, min_samples_leaf=4, min_samples_split=10, n_estimators=100; total time=   0.3s\n",
      "[CV] END criterion=gini, max_depth=10, min_samples_leaf=4, min_samples_split=10, n_estimators=100; total time=   0.3s\n",
      "[CV] END criterion=gini, max_depth=10, min_samples_leaf=4, min_samples_split=10, n_estimators=150; total time=   0.5s\n",
      "[CV] END criterion=gini, max_depth=10, min_samples_leaf=4, min_samples_split=10, n_estimators=150; total time=   0.5s\n",
      "[CV] END criterion=gini, max_depth=10, min_samples_leaf=4, min_samples_split=10, n_estimators=150; total time=   0.5s\n",
      "[CV] END criterion=gini, max_depth=20, min_samples_leaf=1, min_samples_split=2, n_estimators=50; total time=   0.2s\n",
      "[CV] END criterion=gini, max_depth=20, min_samples_leaf=1, min_samples_split=2, n_estimators=50; total time=   0.2s\n",
      "[CV] END criterion=gini, max_depth=20, min_samples_leaf=1, min_samples_split=2, n_estimators=50; total time=   0.2s\n",
      "[CV] END criterion=gini, max_depth=20, min_samples_leaf=1, min_samples_split=2, n_estimators=100; total time=   0.4s\n",
      "[CV] END criterion=gini, max_depth=20, min_samples_leaf=1, min_samples_split=2, n_estimators=100; total time=   0.4s\n",
      "[CV] END criterion=gini, max_depth=20, min_samples_leaf=1, min_samples_split=2, n_estimators=100; total time=   0.4s\n",
      "[CV] END criterion=gini, max_depth=20, min_samples_leaf=1, min_samples_split=2, n_estimators=150; total time=   0.6s\n",
      "[CV] END criterion=gini, max_depth=20, min_samples_leaf=1, min_samples_split=2, n_estimators=150; total time=   0.6s\n",
      "[CV] END criterion=gini, max_depth=20, min_samples_leaf=1, min_samples_split=2, n_estimators=150; total time=   0.6s\n",
      "[CV] END criterion=gini, max_depth=20, min_samples_leaf=1, min_samples_split=5, n_estimators=50; total time=   0.2s\n",
      "[CV] END criterion=gini, max_depth=20, min_samples_leaf=1, min_samples_split=5, n_estimators=50; total time=   0.2s\n",
      "[CV] END criterion=gini, max_depth=20, min_samples_leaf=1, min_samples_split=5, n_estimators=50; total time=   0.2s\n",
      "[CV] END criterion=gini, max_depth=20, min_samples_leaf=1, min_samples_split=5, n_estimators=100; total time=   0.4s\n",
      "[CV] END criterion=gini, max_depth=20, min_samples_leaf=1, min_samples_split=5, n_estimators=100; total time=   0.4s\n",
      "[CV] END criterion=gini, max_depth=20, min_samples_leaf=1, min_samples_split=5, n_estimators=100; total time=   0.4s\n",
      "[CV] END criterion=gini, max_depth=20, min_samples_leaf=1, min_samples_split=5, n_estimators=150; total time=   0.6s\n",
      "[CV] END criterion=gini, max_depth=20, min_samples_leaf=1, min_samples_split=5, n_estimators=150; total time=   0.6s\n",
      "[CV] END criterion=gini, max_depth=20, min_samples_leaf=1, min_samples_split=5, n_estimators=150; total time=   0.6s\n",
      "[CV] END criterion=gini, max_depth=20, min_samples_leaf=1, min_samples_split=10, n_estimators=50; total time=   0.2s\n",
      "[CV] END criterion=gini, max_depth=20, min_samples_leaf=1, min_samples_split=10, n_estimators=50; total time=   0.2s\n",
      "[CV] END criterion=gini, max_depth=20, min_samples_leaf=1, min_samples_split=10, n_estimators=50; total time=   0.2s\n",
      "[CV] END criterion=gini, max_depth=20, min_samples_leaf=1, min_samples_split=10, n_estimators=100; total time=   0.4s\n",
      "[CV] END criterion=gini, max_depth=20, min_samples_leaf=1, min_samples_split=10, n_estimators=100; total time=   0.4s\n",
      "[CV] END criterion=gini, max_depth=20, min_samples_leaf=1, min_samples_split=10, n_estimators=100; total time=   0.4s\n",
      "[CV] END criterion=gini, max_depth=20, min_samples_leaf=1, min_samples_split=10, n_estimators=150; total time=   0.6s\n",
      "[CV] END criterion=gini, max_depth=20, min_samples_leaf=1, min_samples_split=10, n_estimators=150; total time=   0.6s\n",
      "[CV] END criterion=gini, max_depth=20, min_samples_leaf=1, min_samples_split=10, n_estimators=150; total time=   0.6s\n",
      "[CV] END criterion=gini, max_depth=20, min_samples_leaf=2, min_samples_split=2, n_estimators=50; total time=   0.2s\n",
      "[CV] END criterion=gini, max_depth=20, min_samples_leaf=2, min_samples_split=2, n_estimators=50; total time=   0.2s\n",
      "[CV] END criterion=gini, max_depth=20, min_samples_leaf=2, min_samples_split=2, n_estimators=50; total time=   0.2s\n",
      "[CV] END criterion=gini, max_depth=20, min_samples_leaf=2, min_samples_split=2, n_estimators=100; total time=   0.4s\n",
      "[CV] END criterion=gini, max_depth=20, min_samples_leaf=2, min_samples_split=2, n_estimators=100; total time=   0.4s\n",
      "[CV] END criterion=gini, max_depth=20, min_samples_leaf=2, min_samples_split=2, n_estimators=100; total time=   0.4s\n",
      "[CV] END criterion=gini, max_depth=20, min_samples_leaf=2, min_samples_split=2, n_estimators=150; total time=   0.6s\n",
      "[CV] END criterion=gini, max_depth=20, min_samples_leaf=2, min_samples_split=2, n_estimators=150; total time=   0.6s\n",
      "[CV] END criterion=gini, max_depth=20, min_samples_leaf=2, min_samples_split=2, n_estimators=150; total time=   0.6s\n",
      "[CV] END criterion=gini, max_depth=20, min_samples_leaf=2, min_samples_split=5, n_estimators=50; total time=   0.2s\n",
      "[CV] END criterion=gini, max_depth=20, min_samples_leaf=2, min_samples_split=5, n_estimators=50; total time=   0.2s\n",
      "[CV] END criterion=gini, max_depth=20, min_samples_leaf=2, min_samples_split=5, n_estimators=50; total time=   0.2s\n",
      "[CV] END criterion=gini, max_depth=20, min_samples_leaf=2, min_samples_split=5, n_estimators=100; total time=   0.4s\n",
      "[CV] END criterion=gini, max_depth=20, min_samples_leaf=2, min_samples_split=5, n_estimators=100; total time=   0.4s\n",
      "[CV] END criterion=gini, max_depth=20, min_samples_leaf=2, min_samples_split=5, n_estimators=100; total time=   0.4s\n",
      "[CV] END criterion=gini, max_depth=20, min_samples_leaf=2, min_samples_split=5, n_estimators=150; total time=   0.6s\n",
      "[CV] END criterion=gini, max_depth=20, min_samples_leaf=2, min_samples_split=5, n_estimators=150; total time=   0.6s\n",
      "[CV] END criterion=gini, max_depth=20, min_samples_leaf=2, min_samples_split=5, n_estimators=150; total time=   0.6s\n",
      "[CV] END criterion=gini, max_depth=20, min_samples_leaf=2, min_samples_split=10, n_estimators=50; total time=   0.2s\n",
      "[CV] END criterion=gini, max_depth=20, min_samples_leaf=2, min_samples_split=10, n_estimators=50; total time=   0.2s\n",
      "[CV] END criterion=gini, max_depth=20, min_samples_leaf=2, min_samples_split=10, n_estimators=50; total time=   0.2s\n"
     ]
    },
    {
     "name": "stdout",
     "output_type": "stream",
     "text": [
      "[CV] END criterion=gini, max_depth=20, min_samples_leaf=2, min_samples_split=10, n_estimators=100; total time=   0.4s\n",
      "[CV] END criterion=gini, max_depth=20, min_samples_leaf=2, min_samples_split=10, n_estimators=100; total time=   0.4s\n",
      "[CV] END criterion=gini, max_depth=20, min_samples_leaf=2, min_samples_split=10, n_estimators=100; total time=   0.4s\n",
      "[CV] END criterion=gini, max_depth=20, min_samples_leaf=2, min_samples_split=10, n_estimators=150; total time=   0.5s\n",
      "[CV] END criterion=gini, max_depth=20, min_samples_leaf=2, min_samples_split=10, n_estimators=150; total time=   0.5s\n",
      "[CV] END criterion=gini, max_depth=20, min_samples_leaf=2, min_samples_split=10, n_estimators=150; total time=   0.6s\n",
      "[CV] END criterion=gini, max_depth=20, min_samples_leaf=4, min_samples_split=2, n_estimators=50; total time=   0.2s\n",
      "[CV] END criterion=gini, max_depth=20, min_samples_leaf=4, min_samples_split=2, n_estimators=50; total time=   0.2s\n",
      "[CV] END criterion=gini, max_depth=20, min_samples_leaf=4, min_samples_split=2, n_estimators=50; total time=   0.2s\n",
      "[CV] END criterion=gini, max_depth=20, min_samples_leaf=4, min_samples_split=2, n_estimators=100; total time=   0.4s\n",
      "[CV] END criterion=gini, max_depth=20, min_samples_leaf=4, min_samples_split=2, n_estimators=100; total time=   0.4s\n",
      "[CV] END criterion=gini, max_depth=20, min_samples_leaf=4, min_samples_split=2, n_estimators=100; total time=   0.4s\n",
      "[CV] END criterion=gini, max_depth=20, min_samples_leaf=4, min_samples_split=2, n_estimators=150; total time=   0.5s\n",
      "[CV] END criterion=gini, max_depth=20, min_samples_leaf=4, min_samples_split=2, n_estimators=150; total time=   0.5s\n",
      "[CV] END criterion=gini, max_depth=20, min_samples_leaf=4, min_samples_split=2, n_estimators=150; total time=   0.5s\n",
      "[CV] END criterion=gini, max_depth=20, min_samples_leaf=4, min_samples_split=5, n_estimators=50; total time=   0.2s\n",
      "[CV] END criterion=gini, max_depth=20, min_samples_leaf=4, min_samples_split=5, n_estimators=50; total time=   0.2s\n",
      "[CV] END criterion=gini, max_depth=20, min_samples_leaf=4, min_samples_split=5, n_estimators=50; total time=   0.2s\n",
      "[CV] END criterion=gini, max_depth=20, min_samples_leaf=4, min_samples_split=5, n_estimators=100; total time=   0.4s\n",
      "[CV] END criterion=gini, max_depth=20, min_samples_leaf=4, min_samples_split=5, n_estimators=100; total time=   0.4s\n",
      "[CV] END criterion=gini, max_depth=20, min_samples_leaf=4, min_samples_split=5, n_estimators=100; total time=   0.4s\n",
      "[CV] END criterion=gini, max_depth=20, min_samples_leaf=4, min_samples_split=5, n_estimators=150; total time=   0.5s\n",
      "[CV] END criterion=gini, max_depth=20, min_samples_leaf=4, min_samples_split=5, n_estimators=150; total time=   0.5s\n",
      "[CV] END criterion=gini, max_depth=20, min_samples_leaf=4, min_samples_split=5, n_estimators=150; total time=   0.5s\n",
      "[CV] END criterion=gini, max_depth=20, min_samples_leaf=4, min_samples_split=10, n_estimators=50; total time=   0.2s\n",
      "[CV] END criterion=gini, max_depth=20, min_samples_leaf=4, min_samples_split=10, n_estimators=50; total time=   0.2s\n",
      "[CV] END criterion=gini, max_depth=20, min_samples_leaf=4, min_samples_split=10, n_estimators=50; total time=   0.2s\n",
      "[CV] END criterion=gini, max_depth=20, min_samples_leaf=4, min_samples_split=10, n_estimators=100; total time=   0.4s\n",
      "[CV] END criterion=gini, max_depth=20, min_samples_leaf=4, min_samples_split=10, n_estimators=100; total time=   0.4s\n",
      "[CV] END criterion=gini, max_depth=20, min_samples_leaf=4, min_samples_split=10, n_estimators=100; total time=   0.4s\n",
      "[CV] END criterion=gini, max_depth=20, min_samples_leaf=4, min_samples_split=10, n_estimators=150; total time=   0.5s\n",
      "[CV] END criterion=gini, max_depth=20, min_samples_leaf=4, min_samples_split=10, n_estimators=150; total time=   0.5s\n",
      "[CV] END criterion=gini, max_depth=20, min_samples_leaf=4, min_samples_split=10, n_estimators=150; total time=   0.5s\n",
      "[CV] END criterion=gini, max_depth=30, min_samples_leaf=1, min_samples_split=2, n_estimators=50; total time=   0.2s\n",
      "[CV] END criterion=gini, max_depth=30, min_samples_leaf=1, min_samples_split=2, n_estimators=50; total time=   0.2s\n",
      "[CV] END criterion=gini, max_depth=30, min_samples_leaf=1, min_samples_split=2, n_estimators=50; total time=   0.2s\n",
      "[CV] END criterion=gini, max_depth=30, min_samples_leaf=1, min_samples_split=2, n_estimators=100; total time=   0.4s\n",
      "[CV] END criterion=gini, max_depth=30, min_samples_leaf=1, min_samples_split=2, n_estimators=100; total time=   0.4s\n",
      "[CV] END criterion=gini, max_depth=30, min_samples_leaf=1, min_samples_split=2, n_estimators=100; total time=   0.4s\n",
      "[CV] END criterion=gini, max_depth=30, min_samples_leaf=1, min_samples_split=2, n_estimators=150; total time=   0.6s\n",
      "[CV] END criterion=gini, max_depth=30, min_samples_leaf=1, min_samples_split=2, n_estimators=150; total time=   0.6s\n",
      "[CV] END criterion=gini, max_depth=30, min_samples_leaf=1, min_samples_split=2, n_estimators=150; total time=   0.6s\n",
      "[CV] END criterion=gini, max_depth=30, min_samples_leaf=1, min_samples_split=5, n_estimators=50; total time=   0.2s\n",
      "[CV] END criterion=gini, max_depth=30, min_samples_leaf=1, min_samples_split=5, n_estimators=50; total time=   0.2s\n",
      "[CV] END criterion=gini, max_depth=30, min_samples_leaf=1, min_samples_split=5, n_estimators=50; total time=   0.2s\n",
      "[CV] END criterion=gini, max_depth=30, min_samples_leaf=1, min_samples_split=5, n_estimators=100; total time=   0.4s\n",
      "[CV] END criterion=gini, max_depth=30, min_samples_leaf=1, min_samples_split=5, n_estimators=100; total time=   0.4s\n",
      "[CV] END criterion=gini, max_depth=30, min_samples_leaf=1, min_samples_split=5, n_estimators=100; total time=   0.4s\n",
      "[CV] END criterion=gini, max_depth=30, min_samples_leaf=1, min_samples_split=5, n_estimators=150; total time=   0.6s\n",
      "[CV] END criterion=gini, max_depth=30, min_samples_leaf=1, min_samples_split=5, n_estimators=150; total time=   0.6s\n",
      "[CV] END criterion=gini, max_depth=30, min_samples_leaf=1, min_samples_split=5, n_estimators=150; total time=   0.6s\n",
      "[CV] END criterion=gini, max_depth=30, min_samples_leaf=1, min_samples_split=10, n_estimators=50; total time=   0.2s\n",
      "[CV] END criterion=gini, max_depth=30, min_samples_leaf=1, min_samples_split=10, n_estimators=50; total time=   0.2s\n",
      "[CV] END criterion=gini, max_depth=30, min_samples_leaf=1, min_samples_split=10, n_estimators=50; total time=   0.2s\n",
      "[CV] END criterion=gini, max_depth=30, min_samples_leaf=1, min_samples_split=10, n_estimators=100; total time=   0.4s\n",
      "[CV] END criterion=gini, max_depth=30, min_samples_leaf=1, min_samples_split=10, n_estimators=100; total time=   0.4s\n",
      "[CV] END criterion=gini, max_depth=30, min_samples_leaf=1, min_samples_split=10, n_estimators=100; total time=   0.4s\n",
      "[CV] END criterion=gini, max_depth=30, min_samples_leaf=1, min_samples_split=10, n_estimators=150; total time=   0.6s\n",
      "[CV] END criterion=gini, max_depth=30, min_samples_leaf=1, min_samples_split=10, n_estimators=150; total time=   0.6s\n",
      "[CV] END criterion=gini, max_depth=30, min_samples_leaf=1, min_samples_split=10, n_estimators=150; total time=   0.6s\n",
      "[CV] END criterion=gini, max_depth=30, min_samples_leaf=2, min_samples_split=2, n_estimators=50; total time=   0.2s\n",
      "[CV] END criterion=gini, max_depth=30, min_samples_leaf=2, min_samples_split=2, n_estimators=50; total time=   0.2s\n",
      "[CV] END criterion=gini, max_depth=30, min_samples_leaf=2, min_samples_split=2, n_estimators=50; total time=   0.2s\n",
      "[CV] END criterion=gini, max_depth=30, min_samples_leaf=2, min_samples_split=2, n_estimators=100; total time=   0.4s\n",
      "[CV] END criterion=gini, max_depth=30, min_samples_leaf=2, min_samples_split=2, n_estimators=100; total time=   0.4s\n",
      "[CV] END criterion=gini, max_depth=30, min_samples_leaf=2, min_samples_split=2, n_estimators=100; total time=   0.4s\n",
      "[CV] END criterion=gini, max_depth=30, min_samples_leaf=2, min_samples_split=2, n_estimators=150; total time=   0.6s\n",
      "[CV] END criterion=gini, max_depth=30, min_samples_leaf=2, min_samples_split=2, n_estimators=150; total time=   0.6s\n",
      "[CV] END criterion=gini, max_depth=30, min_samples_leaf=2, min_samples_split=2, n_estimators=150; total time=   0.6s\n",
      "[CV] END criterion=gini, max_depth=30, min_samples_leaf=2, min_samples_split=5, n_estimators=50; total time=   0.2s\n",
      "[CV] END criterion=gini, max_depth=30, min_samples_leaf=2, min_samples_split=5, n_estimators=50; total time=   0.2s\n",
      "[CV] END criterion=gini, max_depth=30, min_samples_leaf=2, min_samples_split=5, n_estimators=50; total time=   0.2s\n"
     ]
    },
    {
     "name": "stdout",
     "output_type": "stream",
     "text": [
      "[CV] END criterion=gini, max_depth=30, min_samples_leaf=2, min_samples_split=5, n_estimators=100; total time=   0.4s\n",
      "[CV] END criterion=gini, max_depth=30, min_samples_leaf=2, min_samples_split=5, n_estimators=100; total time=   0.4s\n",
      "[CV] END criterion=gini, max_depth=30, min_samples_leaf=2, min_samples_split=5, n_estimators=100; total time=   0.4s\n",
      "[CV] END criterion=gini, max_depth=30, min_samples_leaf=2, min_samples_split=5, n_estimators=150; total time=   0.6s\n",
      "[CV] END criterion=gini, max_depth=30, min_samples_leaf=2, min_samples_split=5, n_estimators=150; total time=   0.6s\n",
      "[CV] END criterion=gini, max_depth=30, min_samples_leaf=2, min_samples_split=5, n_estimators=150; total time=   0.6s\n",
      "[CV] END criterion=gini, max_depth=30, min_samples_leaf=2, min_samples_split=10, n_estimators=50; total time=   0.2s\n",
      "[CV] END criterion=gini, max_depth=30, min_samples_leaf=2, min_samples_split=10, n_estimators=50; total time=   0.2s\n",
      "[CV] END criterion=gini, max_depth=30, min_samples_leaf=2, min_samples_split=10, n_estimators=50; total time=   0.2s\n",
      "[CV] END criterion=gini, max_depth=30, min_samples_leaf=2, min_samples_split=10, n_estimators=100; total time=   0.4s\n",
      "[CV] END criterion=gini, max_depth=30, min_samples_leaf=2, min_samples_split=10, n_estimators=100; total time=   0.4s\n",
      "[CV] END criterion=gini, max_depth=30, min_samples_leaf=2, min_samples_split=10, n_estimators=100; total time=   0.4s\n",
      "[CV] END criterion=gini, max_depth=30, min_samples_leaf=2, min_samples_split=10, n_estimators=150; total time=   0.5s\n",
      "[CV] END criterion=gini, max_depth=30, min_samples_leaf=2, min_samples_split=10, n_estimators=150; total time=   0.6s\n",
      "[CV] END criterion=gini, max_depth=30, min_samples_leaf=2, min_samples_split=10, n_estimators=150; total time=   0.6s\n",
      "[CV] END criterion=gini, max_depth=30, min_samples_leaf=4, min_samples_split=2, n_estimators=50; total time=   0.2s\n",
      "[CV] END criterion=gini, max_depth=30, min_samples_leaf=4, min_samples_split=2, n_estimators=50; total time=   0.2s\n",
      "[CV] END criterion=gini, max_depth=30, min_samples_leaf=4, min_samples_split=2, n_estimators=50; total time=   0.2s\n",
      "[CV] END criterion=gini, max_depth=30, min_samples_leaf=4, min_samples_split=2, n_estimators=100; total time=   0.4s\n",
      "[CV] END criterion=gini, max_depth=30, min_samples_leaf=4, min_samples_split=2, n_estimators=100; total time=   0.4s\n",
      "[CV] END criterion=gini, max_depth=30, min_samples_leaf=4, min_samples_split=2, n_estimators=100; total time=   0.4s\n",
      "[CV] END criterion=gini, max_depth=30, min_samples_leaf=4, min_samples_split=2, n_estimators=150; total time=   0.5s\n",
      "[CV] END criterion=gini, max_depth=30, min_samples_leaf=4, min_samples_split=2, n_estimators=150; total time=   0.5s\n",
      "[CV] END criterion=gini, max_depth=30, min_samples_leaf=4, min_samples_split=2, n_estimators=150; total time=   0.5s\n",
      "[CV] END criterion=gini, max_depth=30, min_samples_leaf=4, min_samples_split=5, n_estimators=50; total time=   0.2s\n",
      "[CV] END criterion=gini, max_depth=30, min_samples_leaf=4, min_samples_split=5, n_estimators=50; total time=   0.2s\n",
      "[CV] END criterion=gini, max_depth=30, min_samples_leaf=4, min_samples_split=5, n_estimators=50; total time=   0.2s\n",
      "[CV] END criterion=gini, max_depth=30, min_samples_leaf=4, min_samples_split=5, n_estimators=100; total time=   0.4s\n",
      "[CV] END criterion=gini, max_depth=30, min_samples_leaf=4, min_samples_split=5, n_estimators=100; total time=   0.4s\n",
      "[CV] END criterion=gini, max_depth=30, min_samples_leaf=4, min_samples_split=5, n_estimators=100; total time=   0.4s\n",
      "[CV] END criterion=gini, max_depth=30, min_samples_leaf=4, min_samples_split=5, n_estimators=150; total time=   0.5s\n",
      "[CV] END criterion=gini, max_depth=30, min_samples_leaf=4, min_samples_split=5, n_estimators=150; total time=   0.5s\n",
      "[CV] END criterion=gini, max_depth=30, min_samples_leaf=4, min_samples_split=5, n_estimators=150; total time=   0.5s\n",
      "[CV] END criterion=gini, max_depth=30, min_samples_leaf=4, min_samples_split=10, n_estimators=50; total time=   0.2s\n",
      "[CV] END criterion=gini, max_depth=30, min_samples_leaf=4, min_samples_split=10, n_estimators=50; total time=   0.2s\n",
      "[CV] END criterion=gini, max_depth=30, min_samples_leaf=4, min_samples_split=10, n_estimators=50; total time=   0.2s\n",
      "[CV] END criterion=gini, max_depth=30, min_samples_leaf=4, min_samples_split=10, n_estimators=100; total time=   0.3s\n",
      "[CV] END criterion=gini, max_depth=30, min_samples_leaf=4, min_samples_split=10, n_estimators=100; total time=   0.4s\n",
      "[CV] END criterion=gini, max_depth=30, min_samples_leaf=4, min_samples_split=10, n_estimators=100; total time=   0.4s\n",
      "[CV] END criterion=gini, max_depth=30, min_samples_leaf=4, min_samples_split=10, n_estimators=150; total time=   0.5s\n",
      "[CV] END criterion=gini, max_depth=30, min_samples_leaf=4, min_samples_split=10, n_estimators=150; total time=   0.5s\n",
      "[CV] END criterion=gini, max_depth=30, min_samples_leaf=4, min_samples_split=10, n_estimators=150; total time=   0.5s\n",
      "[CV] END criterion=entropy, max_depth=None, min_samples_leaf=1, min_samples_split=2, n_estimators=50; total time=   0.2s\n",
      "[CV] END criterion=entropy, max_depth=None, min_samples_leaf=1, min_samples_split=2, n_estimators=50; total time=   0.2s\n",
      "[CV] END criterion=entropy, max_depth=None, min_samples_leaf=1, min_samples_split=2, n_estimators=50; total time=   0.2s\n",
      "[CV] END criterion=entropy, max_depth=None, min_samples_leaf=1, min_samples_split=2, n_estimators=100; total time=   0.4s\n",
      "[CV] END criterion=entropy, max_depth=None, min_samples_leaf=1, min_samples_split=2, n_estimators=100; total time=   0.4s\n",
      "[CV] END criterion=entropy, max_depth=None, min_samples_leaf=1, min_samples_split=2, n_estimators=100; total time=   0.4s\n",
      "[CV] END criterion=entropy, max_depth=None, min_samples_leaf=1, min_samples_split=2, n_estimators=150; total time=   0.6s\n",
      "[CV] END criterion=entropy, max_depth=None, min_samples_leaf=1, min_samples_split=2, n_estimators=150; total time=   0.6s\n",
      "[CV] END criterion=entropy, max_depth=None, min_samples_leaf=1, min_samples_split=2, n_estimators=150; total time=   0.7s\n",
      "[CV] END criterion=entropy, max_depth=None, min_samples_leaf=1, min_samples_split=5, n_estimators=50; total time=   0.2s\n",
      "[CV] END criterion=entropy, max_depth=None, min_samples_leaf=1, min_samples_split=5, n_estimators=50; total time=   0.2s\n",
      "[CV] END criterion=entropy, max_depth=None, min_samples_leaf=1, min_samples_split=5, n_estimators=50; total time=   0.2s\n",
      "[CV] END criterion=entropy, max_depth=None, min_samples_leaf=1, min_samples_split=5, n_estimators=100; total time=   0.4s\n",
      "[CV] END criterion=entropy, max_depth=None, min_samples_leaf=1, min_samples_split=5, n_estimators=100; total time=   0.4s\n",
      "[CV] END criterion=entropy, max_depth=None, min_samples_leaf=1, min_samples_split=5, n_estimators=100; total time=   0.4s\n",
      "[CV] END criterion=entropy, max_depth=None, min_samples_leaf=1, min_samples_split=5, n_estimators=150; total time=   0.6s\n",
      "[CV] END criterion=entropy, max_depth=None, min_samples_leaf=1, min_samples_split=5, n_estimators=150; total time=   0.6s\n",
      "[CV] END criterion=entropy, max_depth=None, min_samples_leaf=1, min_samples_split=5, n_estimators=150; total time=   0.7s\n",
      "[CV] END criterion=entropy, max_depth=None, min_samples_leaf=1, min_samples_split=10, n_estimators=50; total time=   0.2s\n",
      "[CV] END criterion=entropy, max_depth=None, min_samples_leaf=1, min_samples_split=10, n_estimators=50; total time=   0.2s\n",
      "[CV] END criterion=entropy, max_depth=None, min_samples_leaf=1, min_samples_split=10, n_estimators=50; total time=   0.2s\n",
      "[CV] END criterion=entropy, max_depth=None, min_samples_leaf=1, min_samples_split=10, n_estimators=100; total time=   0.4s\n",
      "[CV] END criterion=entropy, max_depth=None, min_samples_leaf=1, min_samples_split=10, n_estimators=100; total time=   0.4s\n",
      "[CV] END criterion=entropy, max_depth=None, min_samples_leaf=1, min_samples_split=10, n_estimators=100; total time=   0.4s\n",
      "[CV] END criterion=entropy, max_depth=None, min_samples_leaf=1, min_samples_split=10, n_estimators=150; total time=   0.6s\n",
      "[CV] END criterion=entropy, max_depth=None, min_samples_leaf=1, min_samples_split=10, n_estimators=150; total time=   0.6s\n",
      "[CV] END criterion=entropy, max_depth=None, min_samples_leaf=1, min_samples_split=10, n_estimators=150; total time=   0.6s\n"
     ]
    },
    {
     "name": "stdout",
     "output_type": "stream",
     "text": [
      "[CV] END criterion=entropy, max_depth=None, min_samples_leaf=2, min_samples_split=2, n_estimators=50; total time=   0.2s\n",
      "[CV] END criterion=entropy, max_depth=None, min_samples_leaf=2, min_samples_split=2, n_estimators=50; total time=   0.2s\n",
      "[CV] END criterion=entropy, max_depth=None, min_samples_leaf=2, min_samples_split=2, n_estimators=50; total time=   0.2s\n",
      "[CV] END criterion=entropy, max_depth=None, min_samples_leaf=2, min_samples_split=2, n_estimators=100; total time=   0.4s\n",
      "[CV] END criterion=entropy, max_depth=None, min_samples_leaf=2, min_samples_split=2, n_estimators=100; total time=   0.4s\n",
      "[CV] END criterion=entropy, max_depth=None, min_samples_leaf=2, min_samples_split=2, n_estimators=100; total time=   0.4s\n",
      "[CV] END criterion=entropy, max_depth=None, min_samples_leaf=2, min_samples_split=2, n_estimators=150; total time=   0.6s\n",
      "[CV] END criterion=entropy, max_depth=None, min_samples_leaf=2, min_samples_split=2, n_estimators=150; total time=   0.6s\n",
      "[CV] END criterion=entropy, max_depth=None, min_samples_leaf=2, min_samples_split=2, n_estimators=150; total time=   0.6s\n",
      "[CV] END criterion=entropy, max_depth=None, min_samples_leaf=2, min_samples_split=5, n_estimators=50; total time=   0.2s\n",
      "[CV] END criterion=entropy, max_depth=None, min_samples_leaf=2, min_samples_split=5, n_estimators=50; total time=   0.2s\n",
      "[CV] END criterion=entropy, max_depth=None, min_samples_leaf=2, min_samples_split=5, n_estimators=50; total time=   0.2s\n",
      "[CV] END criterion=entropy, max_depth=None, min_samples_leaf=2, min_samples_split=5, n_estimators=100; total time=   0.4s\n",
      "[CV] END criterion=entropy, max_depth=None, min_samples_leaf=2, min_samples_split=5, n_estimators=100; total time=   0.4s\n",
      "[CV] END criterion=entropy, max_depth=None, min_samples_leaf=2, min_samples_split=5, n_estimators=100; total time=   0.4s\n",
      "[CV] END criterion=entropy, max_depth=None, min_samples_leaf=2, min_samples_split=5, n_estimators=150; total time=   0.6s\n",
      "[CV] END criterion=entropy, max_depth=None, min_samples_leaf=2, min_samples_split=5, n_estimators=150; total time=   0.6s\n",
      "[CV] END criterion=entropy, max_depth=None, min_samples_leaf=2, min_samples_split=5, n_estimators=150; total time=   0.6s\n",
      "[CV] END criterion=entropy, max_depth=None, min_samples_leaf=2, min_samples_split=10, n_estimators=50; total time=   0.2s\n",
      "[CV] END criterion=entropy, max_depth=None, min_samples_leaf=2, min_samples_split=10, n_estimators=50; total time=   0.2s\n",
      "[CV] END criterion=entropy, max_depth=None, min_samples_leaf=2, min_samples_split=10, n_estimators=50; total time=   0.2s\n",
      "[CV] END criterion=entropy, max_depth=None, min_samples_leaf=2, min_samples_split=10, n_estimators=100; total time=   0.4s\n",
      "[CV] END criterion=entropy, max_depth=None, min_samples_leaf=2, min_samples_split=10, n_estimators=100; total time=   0.4s\n",
      "[CV] END criterion=entropy, max_depth=None, min_samples_leaf=2, min_samples_split=10, n_estimators=100; total time=   0.4s\n",
      "[CV] END criterion=entropy, max_depth=None, min_samples_leaf=2, min_samples_split=10, n_estimators=150; total time=   0.6s\n",
      "[CV] END criterion=entropy, max_depth=None, min_samples_leaf=2, min_samples_split=10, n_estimators=150; total time=   0.6s\n",
      "[CV] END criterion=entropy, max_depth=None, min_samples_leaf=2, min_samples_split=10, n_estimators=150; total time=   0.6s\n",
      "[CV] END criterion=entropy, max_depth=None, min_samples_leaf=4, min_samples_split=2, n_estimators=50; total time=   0.2s\n",
      "[CV] END criterion=entropy, max_depth=None, min_samples_leaf=4, min_samples_split=2, n_estimators=50; total time=   0.2s\n",
      "[CV] END criterion=entropy, max_depth=None, min_samples_leaf=4, min_samples_split=2, n_estimators=50; total time=   0.2s\n",
      "[CV] END criterion=entropy, max_depth=None, min_samples_leaf=4, min_samples_split=2, n_estimators=100; total time=   0.4s\n",
      "[CV] END criterion=entropy, max_depth=None, min_samples_leaf=4, min_samples_split=2, n_estimators=100; total time=   0.4s\n",
      "[CV] END criterion=entropy, max_depth=None, min_samples_leaf=4, min_samples_split=2, n_estimators=100; total time=   0.4s\n",
      "[CV] END criterion=entropy, max_depth=None, min_samples_leaf=4, min_samples_split=2, n_estimators=150; total time=   0.6s\n",
      "[CV] END criterion=entropy, max_depth=None, min_samples_leaf=4, min_samples_split=2, n_estimators=150; total time=   0.6s\n",
      "[CV] END criterion=entropy, max_depth=None, min_samples_leaf=4, min_samples_split=2, n_estimators=150; total time=   0.6s\n",
      "[CV] END criterion=entropy, max_depth=None, min_samples_leaf=4, min_samples_split=5, n_estimators=50; total time=   0.2s\n",
      "[CV] END criterion=entropy, max_depth=None, min_samples_leaf=4, min_samples_split=5, n_estimators=50; total time=   0.2s\n",
      "[CV] END criterion=entropy, max_depth=None, min_samples_leaf=4, min_samples_split=5, n_estimators=50; total time=   0.2s\n",
      "[CV] END criterion=entropy, max_depth=None, min_samples_leaf=4, min_samples_split=5, n_estimators=100; total time=   0.4s\n",
      "[CV] END criterion=entropy, max_depth=None, min_samples_leaf=4, min_samples_split=5, n_estimators=100; total time=   0.4s\n",
      "[CV] END criterion=entropy, max_depth=None, min_samples_leaf=4, min_samples_split=5, n_estimators=100; total time=   0.4s\n",
      "[CV] END criterion=entropy, max_depth=None, min_samples_leaf=4, min_samples_split=5, n_estimators=150; total time=   0.6s\n",
      "[CV] END criterion=entropy, max_depth=None, min_samples_leaf=4, min_samples_split=5, n_estimators=150; total time=   0.6s\n",
      "[CV] END criterion=entropy, max_depth=None, min_samples_leaf=4, min_samples_split=5, n_estimators=150; total time=   0.6s\n",
      "[CV] END criterion=entropy, max_depth=None, min_samples_leaf=4, min_samples_split=10, n_estimators=50; total time=   0.2s\n",
      "[CV] END criterion=entropy, max_depth=None, min_samples_leaf=4, min_samples_split=10, n_estimators=50; total time=   0.2s\n",
      "[CV] END criterion=entropy, max_depth=None, min_samples_leaf=4, min_samples_split=10, n_estimators=50; total time=   0.2s\n",
      "[CV] END criterion=entropy, max_depth=None, min_samples_leaf=4, min_samples_split=10, n_estimators=100; total time=   0.4s\n",
      "[CV] END criterion=entropy, max_depth=None, min_samples_leaf=4, min_samples_split=10, n_estimators=100; total time=   0.4s\n",
      "[CV] END criterion=entropy, max_depth=None, min_samples_leaf=4, min_samples_split=10, n_estimators=100; total time=   0.4s\n",
      "[CV] END criterion=entropy, max_depth=None, min_samples_leaf=4, min_samples_split=10, n_estimators=150; total time=   0.6s\n",
      "[CV] END criterion=entropy, max_depth=None, min_samples_leaf=4, min_samples_split=10, n_estimators=150; total time=   0.6s\n",
      "[CV] END criterion=entropy, max_depth=None, min_samples_leaf=4, min_samples_split=10, n_estimators=150; total time=   0.6s\n",
      "[CV] END criterion=entropy, max_depth=10, min_samples_leaf=1, min_samples_split=2, n_estimators=50; total time=   0.2s\n",
      "[CV] END criterion=entropy, max_depth=10, min_samples_leaf=1, min_samples_split=2, n_estimators=50; total time=   0.2s\n",
      "[CV] END criterion=entropy, max_depth=10, min_samples_leaf=1, min_samples_split=2, n_estimators=50; total time=   0.2s\n",
      "[CV] END criterion=entropy, max_depth=10, min_samples_leaf=1, min_samples_split=2, n_estimators=100; total time=   0.4s\n",
      "[CV] END criterion=entropy, max_depth=10, min_samples_leaf=1, min_samples_split=2, n_estimators=100; total time=   0.4s\n",
      "[CV] END criterion=entropy, max_depth=10, min_samples_leaf=1, min_samples_split=2, n_estimators=100; total time=   0.4s\n",
      "[CV] END criterion=entropy, max_depth=10, min_samples_leaf=1, min_samples_split=2, n_estimators=150; total time=   0.6s\n",
      "[CV] END criterion=entropy, max_depth=10, min_samples_leaf=1, min_samples_split=2, n_estimators=150; total time=   0.6s\n",
      "[CV] END criterion=entropy, max_depth=10, min_samples_leaf=1, min_samples_split=2, n_estimators=150; total time=   0.6s\n",
      "[CV] END criterion=entropy, max_depth=10, min_samples_leaf=1, min_samples_split=5, n_estimators=50; total time=   0.2s\n",
      "[CV] END criterion=entropy, max_depth=10, min_samples_leaf=1, min_samples_split=5, n_estimators=50; total time=   0.2s\n",
      "[CV] END criterion=entropy, max_depth=10, min_samples_leaf=1, min_samples_split=5, n_estimators=50; total time=   0.2s\n",
      "[CV] END criterion=entropy, max_depth=10, min_samples_leaf=1, min_samples_split=5, n_estimators=100; total time=   0.4s\n",
      "[CV] END criterion=entropy, max_depth=10, min_samples_leaf=1, min_samples_split=5, n_estimators=100; total time=   0.4s\n"
     ]
    },
    {
     "name": "stdout",
     "output_type": "stream",
     "text": [
      "[CV] END criterion=entropy, max_depth=10, min_samples_leaf=1, min_samples_split=5, n_estimators=100; total time=   0.4s\n",
      "[CV] END criterion=entropy, max_depth=10, min_samples_leaf=1, min_samples_split=5, n_estimators=150; total time=   0.6s\n",
      "[CV] END criterion=entropy, max_depth=10, min_samples_leaf=1, min_samples_split=5, n_estimators=150; total time=   0.6s\n",
      "[CV] END criterion=entropy, max_depth=10, min_samples_leaf=1, min_samples_split=5, n_estimators=150; total time=   0.6s\n",
      "[CV] END criterion=entropy, max_depth=10, min_samples_leaf=1, min_samples_split=10, n_estimators=50; total time=   0.2s\n",
      "[CV] END criterion=entropy, max_depth=10, min_samples_leaf=1, min_samples_split=10, n_estimators=50; total time=   0.2s\n",
      "[CV] END criterion=entropy, max_depth=10, min_samples_leaf=1, min_samples_split=10, n_estimators=50; total time=   0.2s\n",
      "[CV] END criterion=entropy, max_depth=10, min_samples_leaf=1, min_samples_split=10, n_estimators=100; total time=   0.4s\n",
      "[CV] END criterion=entropy, max_depth=10, min_samples_leaf=1, min_samples_split=10, n_estimators=100; total time=   0.4s\n",
      "[CV] END criterion=entropy, max_depth=10, min_samples_leaf=1, min_samples_split=10, n_estimators=100; total time=   0.4s\n",
      "[CV] END criterion=entropy, max_depth=10, min_samples_leaf=1, min_samples_split=10, n_estimators=150; total time=   0.6s\n",
      "[CV] END criterion=entropy, max_depth=10, min_samples_leaf=1, min_samples_split=10, n_estimators=150; total time=   0.5s\n",
      "[CV] END criterion=entropy, max_depth=10, min_samples_leaf=1, min_samples_split=10, n_estimators=150; total time=   0.5s\n",
      "[CV] END criterion=entropy, max_depth=10, min_samples_leaf=2, min_samples_split=2, n_estimators=50; total time=   0.2s\n",
      "[CV] END criterion=entropy, max_depth=10, min_samples_leaf=2, min_samples_split=2, n_estimators=50; total time=   0.2s\n",
      "[CV] END criterion=entropy, max_depth=10, min_samples_leaf=2, min_samples_split=2, n_estimators=50; total time=   0.2s\n",
      "[CV] END criterion=entropy, max_depth=10, min_samples_leaf=2, min_samples_split=2, n_estimators=100; total time=   0.4s\n",
      "[CV] END criterion=entropy, max_depth=10, min_samples_leaf=2, min_samples_split=2, n_estimators=100; total time=   0.4s\n",
      "[CV] END criterion=entropy, max_depth=10, min_samples_leaf=2, min_samples_split=2, n_estimators=100; total time=   0.4s\n",
      "[CV] END criterion=entropy, max_depth=10, min_samples_leaf=2, min_samples_split=2, n_estimators=150; total time=   0.5s\n",
      "[CV] END criterion=entropy, max_depth=10, min_samples_leaf=2, min_samples_split=2, n_estimators=150; total time=   0.6s\n",
      "[CV] END criterion=entropy, max_depth=10, min_samples_leaf=2, min_samples_split=2, n_estimators=150; total time=   0.6s\n",
      "[CV] END criterion=entropy, max_depth=10, min_samples_leaf=2, min_samples_split=5, n_estimators=50; total time=   0.2s\n",
      "[CV] END criterion=entropy, max_depth=10, min_samples_leaf=2, min_samples_split=5, n_estimators=50; total time=   0.2s\n",
      "[CV] END criterion=entropy, max_depth=10, min_samples_leaf=2, min_samples_split=5, n_estimators=50; total time=   0.2s\n",
      "[CV] END criterion=entropy, max_depth=10, min_samples_leaf=2, min_samples_split=5, n_estimators=100; total time=   0.4s\n",
      "[CV] END criterion=entropy, max_depth=10, min_samples_leaf=2, min_samples_split=5, n_estimators=100; total time=   0.4s\n",
      "[CV] END criterion=entropy, max_depth=10, min_samples_leaf=2, min_samples_split=5, n_estimators=100; total time=   0.4s\n",
      "[CV] END criterion=entropy, max_depth=10, min_samples_leaf=2, min_samples_split=5, n_estimators=150; total time=   0.6s\n",
      "[CV] END criterion=entropy, max_depth=10, min_samples_leaf=2, min_samples_split=5, n_estimators=150; total time=   0.6s\n",
      "[CV] END criterion=entropy, max_depth=10, min_samples_leaf=2, min_samples_split=5, n_estimators=150; total time=   0.6s\n",
      "[CV] END criterion=entropy, max_depth=10, min_samples_leaf=2, min_samples_split=10, n_estimators=50; total time=   0.2s\n",
      "[CV] END criterion=entropy, max_depth=10, min_samples_leaf=2, min_samples_split=10, n_estimators=50; total time=   0.2s\n",
      "[CV] END criterion=entropy, max_depth=10, min_samples_leaf=2, min_samples_split=10, n_estimators=50; total time=   0.2s\n",
      "[CV] END criterion=entropy, max_depth=10, min_samples_leaf=2, min_samples_split=10, n_estimators=100; total time=   0.4s\n",
      "[CV] END criterion=entropy, max_depth=10, min_samples_leaf=2, min_samples_split=10, n_estimators=100; total time=   0.4s\n",
      "[CV] END criterion=entropy, max_depth=10, min_samples_leaf=2, min_samples_split=10, n_estimators=100; total time=   0.4s\n",
      "[CV] END criterion=entropy, max_depth=10, min_samples_leaf=2, min_samples_split=10, n_estimators=150; total time=   0.5s\n",
      "[CV] END criterion=entropy, max_depth=10, min_samples_leaf=2, min_samples_split=10, n_estimators=150; total time=   0.5s\n",
      "[CV] END criterion=entropy, max_depth=10, min_samples_leaf=2, min_samples_split=10, n_estimators=150; total time=   0.5s\n",
      "[CV] END criterion=entropy, max_depth=10, min_samples_leaf=4, min_samples_split=2, n_estimators=50; total time=   0.2s\n",
      "[CV] END criterion=entropy, max_depth=10, min_samples_leaf=4, min_samples_split=2, n_estimators=50; total time=   0.2s\n",
      "[CV] END criterion=entropy, max_depth=10, min_samples_leaf=4, min_samples_split=2, n_estimators=50; total time=   0.2s\n",
      "[CV] END criterion=entropy, max_depth=10, min_samples_leaf=4, min_samples_split=2, n_estimators=100; total time=   0.4s\n",
      "[CV] END criterion=entropy, max_depth=10, min_samples_leaf=4, min_samples_split=2, n_estimators=100; total time=   0.4s\n",
      "[CV] END criterion=entropy, max_depth=10, min_samples_leaf=4, min_samples_split=2, n_estimators=100; total time=   0.4s\n",
      "[CV] END criterion=entropy, max_depth=10, min_samples_leaf=4, min_samples_split=2, n_estimators=150; total time=   0.5s\n",
      "[CV] END criterion=entropy, max_depth=10, min_samples_leaf=4, min_samples_split=2, n_estimators=150; total time=   0.5s\n",
      "[CV] END criterion=entropy, max_depth=10, min_samples_leaf=4, min_samples_split=2, n_estimators=150; total time=   0.5s\n",
      "[CV] END criterion=entropy, max_depth=10, min_samples_leaf=4, min_samples_split=5, n_estimators=50; total time=   0.2s\n",
      "[CV] END criterion=entropy, max_depth=10, min_samples_leaf=4, min_samples_split=5, n_estimators=50; total time=   0.2s\n",
      "[CV] END criterion=entropy, max_depth=10, min_samples_leaf=4, min_samples_split=5, n_estimators=50; total time=   0.2s\n",
      "[CV] END criterion=entropy, max_depth=10, min_samples_leaf=4, min_samples_split=5, n_estimators=100; total time=   0.4s\n",
      "[CV] END criterion=entropy, max_depth=10, min_samples_leaf=4, min_samples_split=5, n_estimators=100; total time=   0.4s\n",
      "[CV] END criterion=entropy, max_depth=10, min_samples_leaf=4, min_samples_split=5, n_estimators=100; total time=   0.4s\n",
      "[CV] END criterion=entropy, max_depth=10, min_samples_leaf=4, min_samples_split=5, n_estimators=150; total time=   0.5s\n",
      "[CV] END criterion=entropy, max_depth=10, min_samples_leaf=4, min_samples_split=5, n_estimators=150; total time=   0.5s\n",
      "[CV] END criterion=entropy, max_depth=10, min_samples_leaf=4, min_samples_split=5, n_estimators=150; total time=   0.5s\n",
      "[CV] END criterion=entropy, max_depth=10, min_samples_leaf=4, min_samples_split=10, n_estimators=50; total time=   0.2s\n",
      "[CV] END criterion=entropy, max_depth=10, min_samples_leaf=4, min_samples_split=10, n_estimators=50; total time=   0.2s\n",
      "[CV] END criterion=entropy, max_depth=10, min_samples_leaf=4, min_samples_split=10, n_estimators=50; total time=   0.2s\n",
      "[CV] END criterion=entropy, max_depth=10, min_samples_leaf=4, min_samples_split=10, n_estimators=100; total time=   0.4s\n",
      "[CV] END criterion=entropy, max_depth=10, min_samples_leaf=4, min_samples_split=10, n_estimators=100; total time=   0.4s\n",
      "[CV] END criterion=entropy, max_depth=10, min_samples_leaf=4, min_samples_split=10, n_estimators=100; total time=   0.4s\n",
      "[CV] END criterion=entropy, max_depth=10, min_samples_leaf=4, min_samples_split=10, n_estimators=150; total time=   0.5s\n",
      "[CV] END criterion=entropy, max_depth=10, min_samples_leaf=4, min_samples_split=10, n_estimators=150; total time=   0.5s\n",
      "[CV] END criterion=entropy, max_depth=10, min_samples_leaf=4, min_samples_split=10, n_estimators=150; total time=   0.5s\n",
      "[CV] END criterion=entropy, max_depth=20, min_samples_leaf=1, min_samples_split=2, n_estimators=50; total time=   0.2s\n",
      "[CV] END criterion=entropy, max_depth=20, min_samples_leaf=1, min_samples_split=2, n_estimators=50; total time=   0.2s\n"
     ]
    },
    {
     "name": "stdout",
     "output_type": "stream",
     "text": [
      "[CV] END criterion=entropy, max_depth=20, min_samples_leaf=1, min_samples_split=2, n_estimators=50; total time=   0.2s\n",
      "[CV] END criterion=entropy, max_depth=20, min_samples_leaf=1, min_samples_split=2, n_estimators=100; total time=   0.4s\n",
      "[CV] END criterion=entropy, max_depth=20, min_samples_leaf=1, min_samples_split=2, n_estimators=100; total time=   0.4s\n",
      "[CV] END criterion=entropy, max_depth=20, min_samples_leaf=1, min_samples_split=2, n_estimators=100; total time=   0.5s\n",
      "[CV] END criterion=entropy, max_depth=20, min_samples_leaf=1, min_samples_split=2, n_estimators=150; total time=   0.6s\n",
      "[CV] END criterion=entropy, max_depth=20, min_samples_leaf=1, min_samples_split=2, n_estimators=150; total time=   0.7s\n",
      "[CV] END criterion=entropy, max_depth=20, min_samples_leaf=1, min_samples_split=2, n_estimators=150; total time=   0.7s\n",
      "[CV] END criterion=entropy, max_depth=20, min_samples_leaf=1, min_samples_split=5, n_estimators=50; total time=   0.2s\n",
      "[CV] END criterion=entropy, max_depth=20, min_samples_leaf=1, min_samples_split=5, n_estimators=50; total time=   0.2s\n",
      "[CV] END criterion=entropy, max_depth=20, min_samples_leaf=1, min_samples_split=5, n_estimators=50; total time=   0.2s\n",
      "[CV] END criterion=entropy, max_depth=20, min_samples_leaf=1, min_samples_split=5, n_estimators=100; total time=   0.4s\n",
      "[CV] END criterion=entropy, max_depth=20, min_samples_leaf=1, min_samples_split=5, n_estimators=100; total time=   0.4s\n",
      "[CV] END criterion=entropy, max_depth=20, min_samples_leaf=1, min_samples_split=5, n_estimators=100; total time=   0.4s\n",
      "[CV] END criterion=entropy, max_depth=20, min_samples_leaf=1, min_samples_split=5, n_estimators=150; total time=   0.6s\n",
      "[CV] END criterion=entropy, max_depth=20, min_samples_leaf=1, min_samples_split=5, n_estimators=150; total time=   0.6s\n",
      "[CV] END criterion=entropy, max_depth=20, min_samples_leaf=1, min_samples_split=5, n_estimators=150; total time=   0.6s\n",
      "[CV] END criterion=entropy, max_depth=20, min_samples_leaf=1, min_samples_split=10, n_estimators=50; total time=   0.2s\n",
      "[CV] END criterion=entropy, max_depth=20, min_samples_leaf=1, min_samples_split=10, n_estimators=50; total time=   0.2s\n",
      "[CV] END criterion=entropy, max_depth=20, min_samples_leaf=1, min_samples_split=10, n_estimators=50; total time=   0.2s\n",
      "[CV] END criterion=entropy, max_depth=20, min_samples_leaf=1, min_samples_split=10, n_estimators=100; total time=   0.4s\n",
      "[CV] END criterion=entropy, max_depth=20, min_samples_leaf=1, min_samples_split=10, n_estimators=100; total time=   0.4s\n",
      "[CV] END criterion=entropy, max_depth=20, min_samples_leaf=1, min_samples_split=10, n_estimators=100; total time=   0.4s\n",
      "[CV] END criterion=entropy, max_depth=20, min_samples_leaf=1, min_samples_split=10, n_estimators=150; total time=   0.6s\n",
      "[CV] END criterion=entropy, max_depth=20, min_samples_leaf=1, min_samples_split=10, n_estimators=150; total time=   0.6s\n",
      "[CV] END criterion=entropy, max_depth=20, min_samples_leaf=1, min_samples_split=10, n_estimators=150; total time=   0.6s\n",
      "[CV] END criterion=entropy, max_depth=20, min_samples_leaf=2, min_samples_split=2, n_estimators=50; total time=   0.2s\n",
      "[CV] END criterion=entropy, max_depth=20, min_samples_leaf=2, min_samples_split=2, n_estimators=50; total time=   0.2s\n",
      "[CV] END criterion=entropy, max_depth=20, min_samples_leaf=2, min_samples_split=2, n_estimators=50; total time=   0.2s\n",
      "[CV] END criterion=entropy, max_depth=20, min_samples_leaf=2, min_samples_split=2, n_estimators=100; total time=   0.4s\n",
      "[CV] END criterion=entropy, max_depth=20, min_samples_leaf=2, min_samples_split=2, n_estimators=100; total time=   0.4s\n",
      "[CV] END criterion=entropy, max_depth=20, min_samples_leaf=2, min_samples_split=2, n_estimators=100; total time=   0.4s\n",
      "[CV] END criterion=entropy, max_depth=20, min_samples_leaf=2, min_samples_split=2, n_estimators=150; total time=   0.6s\n",
      "[CV] END criterion=entropy, max_depth=20, min_samples_leaf=2, min_samples_split=2, n_estimators=150; total time=   0.6s\n",
      "[CV] END criterion=entropy, max_depth=20, min_samples_leaf=2, min_samples_split=2, n_estimators=150; total time=   0.6s\n",
      "[CV] END criterion=entropy, max_depth=20, min_samples_leaf=2, min_samples_split=5, n_estimators=50; total time=   0.2s\n",
      "[CV] END criterion=entropy, max_depth=20, min_samples_leaf=2, min_samples_split=5, n_estimators=50; total time=   0.2s\n",
      "[CV] END criterion=entropy, max_depth=20, min_samples_leaf=2, min_samples_split=5, n_estimators=50; total time=   0.2s\n",
      "[CV] END criterion=entropy, max_depth=20, min_samples_leaf=2, min_samples_split=5, n_estimators=100; total time=   0.4s\n",
      "[CV] END criterion=entropy, max_depth=20, min_samples_leaf=2, min_samples_split=5, n_estimators=100; total time=   0.4s\n",
      "[CV] END criterion=entropy, max_depth=20, min_samples_leaf=2, min_samples_split=5, n_estimators=100; total time=   0.5s\n",
      "[CV] END criterion=entropy, max_depth=20, min_samples_leaf=2, min_samples_split=5, n_estimators=150; total time=   0.6s\n",
      "[CV] END criterion=entropy, max_depth=20, min_samples_leaf=2, min_samples_split=5, n_estimators=150; total time=   0.6s\n",
      "[CV] END criterion=entropy, max_depth=20, min_samples_leaf=2, min_samples_split=5, n_estimators=150; total time=   0.6s\n",
      "[CV] END criterion=entropy, max_depth=20, min_samples_leaf=2, min_samples_split=10, n_estimators=50; total time=   0.2s\n",
      "[CV] END criterion=entropy, max_depth=20, min_samples_leaf=2, min_samples_split=10, n_estimators=50; total time=   0.2s\n",
      "[CV] END criterion=entropy, max_depth=20, min_samples_leaf=2, min_samples_split=10, n_estimators=50; total time=   0.2s\n",
      "[CV] END criterion=entropy, max_depth=20, min_samples_leaf=2, min_samples_split=10, n_estimators=100; total time=   0.4s\n",
      "[CV] END criterion=entropy, max_depth=20, min_samples_leaf=2, min_samples_split=10, n_estimators=100; total time=   0.4s\n",
      "[CV] END criterion=entropy, max_depth=20, min_samples_leaf=2, min_samples_split=10, n_estimators=100; total time=   0.4s\n",
      "[CV] END criterion=entropy, max_depth=20, min_samples_leaf=2, min_samples_split=10, n_estimators=150; total time=   0.6s\n",
      "[CV] END criterion=entropy, max_depth=20, min_samples_leaf=2, min_samples_split=10, n_estimators=150; total time=   0.6s\n",
      "[CV] END criterion=entropy, max_depth=20, min_samples_leaf=2, min_samples_split=10, n_estimators=150; total time=   0.6s\n",
      "[CV] END criterion=entropy, max_depth=20, min_samples_leaf=4, min_samples_split=2, n_estimators=50; total time=   0.2s\n",
      "[CV] END criterion=entropy, max_depth=20, min_samples_leaf=4, min_samples_split=2, n_estimators=50; total time=   0.2s\n",
      "[CV] END criterion=entropy, max_depth=20, min_samples_leaf=4, min_samples_split=2, n_estimators=50; total time=   0.2s\n",
      "[CV] END criterion=entropy, max_depth=20, min_samples_leaf=4, min_samples_split=2, n_estimators=100; total time=   0.4s\n",
      "[CV] END criterion=entropy, max_depth=20, min_samples_leaf=4, min_samples_split=2, n_estimators=100; total time=   0.4s\n",
      "[CV] END criterion=entropy, max_depth=20, min_samples_leaf=4, min_samples_split=2, n_estimators=100; total time=   0.4s\n",
      "[CV] END criterion=entropy, max_depth=20, min_samples_leaf=4, min_samples_split=2, n_estimators=150; total time=   0.6s\n",
      "[CV] END criterion=entropy, max_depth=20, min_samples_leaf=4, min_samples_split=2, n_estimators=150; total time=   0.6s\n",
      "[CV] END criterion=entropy, max_depth=20, min_samples_leaf=4, min_samples_split=2, n_estimators=150; total time=   0.6s\n",
      "[CV] END criterion=entropy, max_depth=20, min_samples_leaf=4, min_samples_split=5, n_estimators=50; total time=   0.2s\n",
      "[CV] END criterion=entropy, max_depth=20, min_samples_leaf=4, min_samples_split=5, n_estimators=50; total time=   0.2s\n",
      "[CV] END criterion=entropy, max_depth=20, min_samples_leaf=4, min_samples_split=5, n_estimators=50; total time=   0.2s\n",
      "[CV] END criterion=entropy, max_depth=20, min_samples_leaf=4, min_samples_split=5, n_estimators=100; total time=   0.4s\n",
      "[CV] END criterion=entropy, max_depth=20, min_samples_leaf=4, min_samples_split=5, n_estimators=100; total time=   0.4s\n",
      "[CV] END criterion=entropy, max_depth=20, min_samples_leaf=4, min_samples_split=5, n_estimators=100; total time=   0.4s\n",
      "[CV] END criterion=entropy, max_depth=20, min_samples_leaf=4, min_samples_split=5, n_estimators=150; total time=   0.6s\n",
      "[CV] END criterion=entropy, max_depth=20, min_samples_leaf=4, min_samples_split=5, n_estimators=150; total time=   0.6s\n"
     ]
    },
    {
     "name": "stdout",
     "output_type": "stream",
     "text": [
      "[CV] END criterion=entropy, max_depth=20, min_samples_leaf=4, min_samples_split=5, n_estimators=150; total time=   0.6s\n",
      "[CV] END criterion=entropy, max_depth=20, min_samples_leaf=4, min_samples_split=10, n_estimators=50; total time=   0.2s\n",
      "[CV] END criterion=entropy, max_depth=20, min_samples_leaf=4, min_samples_split=10, n_estimators=50; total time=   0.2s\n",
      "[CV] END criterion=entropy, max_depth=20, min_samples_leaf=4, min_samples_split=10, n_estimators=50; total time=   0.2s\n",
      "[CV] END criterion=entropy, max_depth=20, min_samples_leaf=4, min_samples_split=10, n_estimators=100; total time=   0.4s\n",
      "[CV] END criterion=entropy, max_depth=20, min_samples_leaf=4, min_samples_split=10, n_estimators=100; total time=   0.4s\n",
      "[CV] END criterion=entropy, max_depth=20, min_samples_leaf=4, min_samples_split=10, n_estimators=100; total time=   0.4s\n",
      "[CV] END criterion=entropy, max_depth=20, min_samples_leaf=4, min_samples_split=10, n_estimators=150; total time=   0.6s\n",
      "[CV] END criterion=entropy, max_depth=20, min_samples_leaf=4, min_samples_split=10, n_estimators=150; total time=   0.6s\n",
      "[CV] END criterion=entropy, max_depth=20, min_samples_leaf=4, min_samples_split=10, n_estimators=150; total time=   0.6s\n",
      "[CV] END criterion=entropy, max_depth=30, min_samples_leaf=1, min_samples_split=2, n_estimators=50; total time=   0.2s\n",
      "[CV] END criterion=entropy, max_depth=30, min_samples_leaf=1, min_samples_split=2, n_estimators=50; total time=   0.2s\n",
      "[CV] END criterion=entropy, max_depth=30, min_samples_leaf=1, min_samples_split=2, n_estimators=50; total time=   0.2s\n",
      "[CV] END criterion=entropy, max_depth=30, min_samples_leaf=1, min_samples_split=2, n_estimators=100; total time=   0.4s\n",
      "[CV] END criterion=entropy, max_depth=30, min_samples_leaf=1, min_samples_split=2, n_estimators=100; total time=   0.4s\n",
      "[CV] END criterion=entropy, max_depth=30, min_samples_leaf=1, min_samples_split=2, n_estimators=100; total time=   0.5s\n",
      "[CV] END criterion=entropy, max_depth=30, min_samples_leaf=1, min_samples_split=2, n_estimators=150; total time=   0.7s\n",
      "[CV] END criterion=entropy, max_depth=30, min_samples_leaf=1, min_samples_split=2, n_estimators=150; total time=   0.6s\n",
      "[CV] END criterion=entropy, max_depth=30, min_samples_leaf=1, min_samples_split=2, n_estimators=150; total time=   0.7s\n",
      "[CV] END criterion=entropy, max_depth=30, min_samples_leaf=1, min_samples_split=5, n_estimators=50; total time=   0.2s\n",
      "[CV] END criterion=entropy, max_depth=30, min_samples_leaf=1, min_samples_split=5, n_estimators=50; total time=   0.2s\n",
      "[CV] END criterion=entropy, max_depth=30, min_samples_leaf=1, min_samples_split=5, n_estimators=50; total time=   0.2s\n",
      "[CV] END criterion=entropy, max_depth=30, min_samples_leaf=1, min_samples_split=5, n_estimators=100; total time=   0.4s\n",
      "[CV] END criterion=entropy, max_depth=30, min_samples_leaf=1, min_samples_split=5, n_estimators=100; total time=   0.4s\n",
      "[CV] END criterion=entropy, max_depth=30, min_samples_leaf=1, min_samples_split=5, n_estimators=100; total time=   0.4s\n",
      "[CV] END criterion=entropy, max_depth=30, min_samples_leaf=1, min_samples_split=5, n_estimators=150; total time=   0.6s\n",
      "[CV] END criterion=entropy, max_depth=30, min_samples_leaf=1, min_samples_split=5, n_estimators=150; total time=   0.6s\n",
      "[CV] END criterion=entropy, max_depth=30, min_samples_leaf=1, min_samples_split=5, n_estimators=150; total time=   0.7s\n",
      "[CV] END criterion=entropy, max_depth=30, min_samples_leaf=1, min_samples_split=10, n_estimators=50; total time=   0.2s\n",
      "[CV] END criterion=entropy, max_depth=30, min_samples_leaf=1, min_samples_split=10, n_estimators=50; total time=   0.2s\n",
      "[CV] END criterion=entropy, max_depth=30, min_samples_leaf=1, min_samples_split=10, n_estimators=50; total time=   0.2s\n",
      "[CV] END criterion=entropy, max_depth=30, min_samples_leaf=1, min_samples_split=10, n_estimators=100; total time=   0.4s\n",
      "[CV] END criterion=entropy, max_depth=30, min_samples_leaf=1, min_samples_split=10, n_estimators=100; total time=   0.4s\n",
      "[CV] END criterion=entropy, max_depth=30, min_samples_leaf=1, min_samples_split=10, n_estimators=100; total time=   0.4s\n",
      "[CV] END criterion=entropy, max_depth=30, min_samples_leaf=1, min_samples_split=10, n_estimators=150; total time=   0.6s\n",
      "[CV] END criterion=entropy, max_depth=30, min_samples_leaf=1, min_samples_split=10, n_estimators=150; total time=   0.6s\n",
      "[CV] END criterion=entropy, max_depth=30, min_samples_leaf=1, min_samples_split=10, n_estimators=150; total time=   0.6s\n",
      "[CV] END criterion=entropy, max_depth=30, min_samples_leaf=2, min_samples_split=2, n_estimators=50; total time=   0.2s\n",
      "[CV] END criterion=entropy, max_depth=30, min_samples_leaf=2, min_samples_split=2, n_estimators=50; total time=   0.2s\n",
      "[CV] END criterion=entropy, max_depth=30, min_samples_leaf=2, min_samples_split=2, n_estimators=50; total time=   0.2s\n",
      "[CV] END criterion=entropy, max_depth=30, min_samples_leaf=2, min_samples_split=2, n_estimators=100; total time=   0.4s\n",
      "[CV] END criterion=entropy, max_depth=30, min_samples_leaf=2, min_samples_split=2, n_estimators=100; total time=   0.4s\n",
      "[CV] END criterion=entropy, max_depth=30, min_samples_leaf=2, min_samples_split=2, n_estimators=100; total time=   0.4s\n",
      "[CV] END criterion=entropy, max_depth=30, min_samples_leaf=2, min_samples_split=2, n_estimators=150; total time=   0.6s\n",
      "[CV] END criterion=entropy, max_depth=30, min_samples_leaf=2, min_samples_split=2, n_estimators=150; total time=   0.6s\n",
      "[CV] END criterion=entropy, max_depth=30, min_samples_leaf=2, min_samples_split=2, n_estimators=150; total time=   0.6s\n",
      "[CV] END criterion=entropy, max_depth=30, min_samples_leaf=2, min_samples_split=5, n_estimators=50; total time=   0.2s\n",
      "[CV] END criterion=entropy, max_depth=30, min_samples_leaf=2, min_samples_split=5, n_estimators=50; total time=   0.2s\n",
      "[CV] END criterion=entropy, max_depth=30, min_samples_leaf=2, min_samples_split=5, n_estimators=50; total time=   0.2s\n",
      "[CV] END criterion=entropy, max_depth=30, min_samples_leaf=2, min_samples_split=5, n_estimators=100; total time=   0.4s\n",
      "[CV] END criterion=entropy, max_depth=30, min_samples_leaf=2, min_samples_split=5, n_estimators=100; total time=   0.4s\n",
      "[CV] END criterion=entropy, max_depth=30, min_samples_leaf=2, min_samples_split=5, n_estimators=100; total time=   0.4s\n",
      "[CV] END criterion=entropy, max_depth=30, min_samples_leaf=2, min_samples_split=5, n_estimators=150; total time=   0.6s\n",
      "[CV] END criterion=entropy, max_depth=30, min_samples_leaf=2, min_samples_split=5, n_estimators=150; total time=   0.6s\n",
      "[CV] END criterion=entropy, max_depth=30, min_samples_leaf=2, min_samples_split=5, n_estimators=150; total time=   0.6s\n",
      "[CV] END criterion=entropy, max_depth=30, min_samples_leaf=2, min_samples_split=10, n_estimators=50; total time=   0.2s\n",
      "[CV] END criterion=entropy, max_depth=30, min_samples_leaf=2, min_samples_split=10, n_estimators=50; total time=   0.2s\n",
      "[CV] END criterion=entropy, max_depth=30, min_samples_leaf=2, min_samples_split=10, n_estimators=50; total time=   0.2s\n",
      "[CV] END criterion=entropy, max_depth=30, min_samples_leaf=2, min_samples_split=10, n_estimators=100; total time=   0.4s\n",
      "[CV] END criterion=entropy, max_depth=30, min_samples_leaf=2, min_samples_split=10, n_estimators=100; total time=   0.4s\n",
      "[CV] END criterion=entropy, max_depth=30, min_samples_leaf=2, min_samples_split=10, n_estimators=100; total time=   0.4s\n",
      "[CV] END criterion=entropy, max_depth=30, min_samples_leaf=2, min_samples_split=10, n_estimators=150; total time=   0.6s\n",
      "[CV] END criterion=entropy, max_depth=30, min_samples_leaf=2, min_samples_split=10, n_estimators=150; total time=   0.6s\n",
      "[CV] END criterion=entropy, max_depth=30, min_samples_leaf=2, min_samples_split=10, n_estimators=150; total time=   0.6s\n",
      "[CV] END criterion=entropy, max_depth=30, min_samples_leaf=4, min_samples_split=2, n_estimators=50; total time=   0.2s\n",
      "[CV] END criterion=entropy, max_depth=30, min_samples_leaf=4, min_samples_split=2, n_estimators=50; total time=   0.2s\n",
      "[CV] END criterion=entropy, max_depth=30, min_samples_leaf=4, min_samples_split=2, n_estimators=50; total time=   0.2s\n",
      "[CV] END criterion=entropy, max_depth=30, min_samples_leaf=4, min_samples_split=2, n_estimators=100; total time=   0.4s\n",
      "[CV] END criterion=entropy, max_depth=30, min_samples_leaf=4, min_samples_split=2, n_estimators=100; total time=   0.4s\n"
     ]
    },
    {
     "name": "stdout",
     "output_type": "stream",
     "text": [
      "[CV] END criterion=entropy, max_depth=30, min_samples_leaf=4, min_samples_split=2, n_estimators=100; total time=   0.4s\n",
      "[CV] END criterion=entropy, max_depth=30, min_samples_leaf=4, min_samples_split=2, n_estimators=150; total time=   0.6s\n",
      "[CV] END criterion=entropy, max_depth=30, min_samples_leaf=4, min_samples_split=2, n_estimators=150; total time=   0.6s\n",
      "[CV] END criterion=entropy, max_depth=30, min_samples_leaf=4, min_samples_split=2, n_estimators=150; total time=   0.6s\n",
      "[CV] END criterion=entropy, max_depth=30, min_samples_leaf=4, min_samples_split=5, n_estimators=50; total time=   0.2s\n",
      "[CV] END criterion=entropy, max_depth=30, min_samples_leaf=4, min_samples_split=5, n_estimators=50; total time=   0.2s\n",
      "[CV] END criterion=entropy, max_depth=30, min_samples_leaf=4, min_samples_split=5, n_estimators=50; total time=   0.2s\n",
      "[CV] END criterion=entropy, max_depth=30, min_samples_leaf=4, min_samples_split=5, n_estimators=100; total time=   0.4s\n",
      "[CV] END criterion=entropy, max_depth=30, min_samples_leaf=4, min_samples_split=5, n_estimators=100; total time=   0.4s\n",
      "[CV] END criterion=entropy, max_depth=30, min_samples_leaf=4, min_samples_split=5, n_estimators=100; total time=   0.4s\n",
      "[CV] END criterion=entropy, max_depth=30, min_samples_leaf=4, min_samples_split=5, n_estimators=150; total time=   0.6s\n",
      "[CV] END criterion=entropy, max_depth=30, min_samples_leaf=4, min_samples_split=5, n_estimators=150; total time=   0.6s\n",
      "[CV] END criterion=entropy, max_depth=30, min_samples_leaf=4, min_samples_split=5, n_estimators=150; total time=   0.6s\n",
      "[CV] END criterion=entropy, max_depth=30, min_samples_leaf=4, min_samples_split=10, n_estimators=50; total time=   0.2s\n",
      "[CV] END criterion=entropy, max_depth=30, min_samples_leaf=4, min_samples_split=10, n_estimators=50; total time=   0.2s\n",
      "[CV] END criterion=entropy, max_depth=30, min_samples_leaf=4, min_samples_split=10, n_estimators=50; total time=   0.2s\n",
      "[CV] END criterion=entropy, max_depth=30, min_samples_leaf=4, min_samples_split=10, n_estimators=100; total time=   0.4s\n",
      "[CV] END criterion=entropy, max_depth=30, min_samples_leaf=4, min_samples_split=10, n_estimators=100; total time=   0.4s\n",
      "[CV] END criterion=entropy, max_depth=30, min_samples_leaf=4, min_samples_split=10, n_estimators=100; total time=   0.4s\n",
      "[CV] END criterion=entropy, max_depth=30, min_samples_leaf=4, min_samples_split=10, n_estimators=150; total time=   0.6s\n",
      "[CV] END criterion=entropy, max_depth=30, min_samples_leaf=4, min_samples_split=10, n_estimators=150; total time=   0.6s\n",
      "[CV] END criterion=entropy, max_depth=30, min_samples_leaf=4, min_samples_split=10, n_estimators=150; total time=   0.6s\n"
     ]
    },
    {
     "data": {
      "text/plain": [
       "GridSearchCV(cv=3, estimator=RandomForestClassifier(random_state=12345),\n",
       "             n_jobs=-1,\n",
       "             param_grid={'criterion': ['gini', 'entropy'],\n",
       "                         'max_depth': [None, 10, 20, 30],\n",
       "                         'min_samples_leaf': [1, 2, 4],\n",
       "                         'min_samples_split': [2, 5, 10],\n",
       "                         'n_estimators': [50, 100, 150]},\n",
       "             scoring='f1', verbose=2)"
      ]
     },
     "execution_count": 79,
     "metadata": {},
     "output_type": "execute_result"
    }
   ],
   "source": [
    "grid_search.fit(features_train,target_train)"
   ]
  },
  {
   "cell_type": "code",
   "execution_count": 80,
   "metadata": {},
   "outputs": [
    {
     "data": {
      "text/plain": [
       "RandomForestClassifier(max_depth=20, min_samples_split=10, random_state=12345)"
      ]
     },
     "execution_count": 80,
     "metadata": {},
     "output_type": "execute_result"
    }
   ],
   "source": [
    "#Train the model using best parameters\n",
    "best_params = grid_search.best_params_\n",
    "best_model_2 = RandomForestClassifier(**best_params, random_state=12345)\n",
    "best_model_2.fit(features_train, target_train)\n",
    "best_model_2.fit(features_valid, target_valid)"
   ]
  },
  {
   "cell_type": "code",
   "execution_count": 81,
   "metadata": {},
   "outputs": [],
   "source": [
    "#Predict valid features\n",
    "valid_predictions=best_model_2.predict(features_valid)"
   ]
  },
  {
   "cell_type": "code",
   "execution_count": 82,
   "metadata": {},
   "outputs": [
    {
     "name": "stdout",
     "output_type": "stream",
     "text": [
      "[[1579   13]\n",
      " [ 115  293]]\n"
     ]
    }
   ],
   "source": [
    "print(confusion_matrix(target_valid, valid_predictions))"
   ]
  },
  {
   "cell_type": "markdown",
   "metadata": {},
   "source": [
    "From the above matrix it is clear that,\n",
    "- 1579 elements are true negative, i.e, the predicted and actual values are negatives\n",
    "- 293 elements are true positive, i.e, the predicted and actual values are positives\n",
    "- 13 elements are false positives, i.e, model predicted 1, but the actual value of class is 0\n",
    "- 115 elements are false negatives, i.e, model predicts 0, but the actual value is 1"
   ]
  },
  {
   "cell_type": "markdown",
   "metadata": {},
   "source": [
    "The above analyses shows the TP, FP, TN, FN of different models and next step we want to improve the model by fixing class imbalances. From the analyses, it is clear that the f1 score is smaller for linearregression compared to decisiontree classifier and randomforestclassifier. So for further comparison choose DecisionTreeclassifier and RandomForestClassifier."
   ]
  },
  {
   "cell_type": "markdown",
   "metadata": {},
   "source": [
    "### Fifth Stage:Improve the quality models and train different models. Also find the best model.\n",
    "In this stage we want to improve the models and compare F1, AUC-ROC of different models."
   ]
  },
  {
   "cell_type": "code",
   "execution_count": 109,
   "metadata": {},
   "outputs": [],
   "source": [
    "# Upsampling function\n",
    "def upsample(features, target, repeat):\n",
    "    features_zeros = features[target == 0]\n",
    "    features_ones = features[target == 1]\n",
    "    target_zeros = target[target == 0]\n",
    "    target_ones = target[target == 1]\n",
    "\n",
    "    features_upsampled = pd.concat([features_zeros] + [features_ones] * repeat)\n",
    "    target_upsampled = pd.concat([target_zeros] + [target_ones] * repeat)\n",
    "\n",
    "    features_upsampled, target_upsampled = shuffle(\n",
    "        features_upsampled, target_upsampled, random_state=12345\n",
    "    )\n",
    "\n",
    "    return features_upsampled, target_upsampled\n",
    "\n",
    "\n",
    "features_upsampled, target_upsampled = upsample(\n",
    "    features_train, target_train, 3\n",
    ")"
   ]
  },
  {
   "cell_type": "code",
   "execution_count": 123,
   "metadata": {},
   "outputs": [
    {
     "name": "stdout",
     "output_type": "stream",
     "text": [
      "The confusion matrix for DecisionTreeClassifier \n",
      "[[1328  264]\n",
      " [ 114  294]]\n",
      "The f1 score for DecisionTreeClassifier is 0.61\n"
     ]
    }
   ],
   "source": [
    "#Modelling using DecisionTreeClassifier and upsampling\n",
    "best_model_0 = DecisionTreeClassifier(**best_params1, random_state=12345)\n",
    "best_model_0.fit(features_upsampled, target_upsampled)\n",
    "valid_predictions=best_model_0.predict(features_valid)\n",
    "print(f'The confusion matrix for DecisionTreeClassifier \\n{confusion_matrix(target_valid, valid_predictions)}')\n",
    "print(f'The f1 score for DecisionTreeClassifier is {f1_score(target_valid, valid_predictions):.2f}')"
   ]
  },
  {
   "cell_type": "code",
   "execution_count": 122,
   "metadata": {},
   "outputs": [
    {
     "name": "stdout",
     "output_type": "stream",
     "text": [
      "The confusion matrix for DecisionTreeClassifier \n",
      "[[1174  418]\n",
      " [  74  334]]\n",
      "The f1 score for DecisionTreeClassifier is 0.58\n"
     ]
    }
   ],
   "source": [
    "#Modelling using DecisionTreeClassifier and class_weight is balanced\n",
    "best_model_0 = DecisionTreeClassifier(**best_params1, random_state=12345, class_weight='balanced')\n",
    "best_model_0.fit(features_train, target_train)\n",
    "valid_predictions=best_model_0.predict(features_valid)\n",
    "print(f'The confusion matrix for DecisionTreeClassifier \\n{confusion_matrix(target_valid, valid_predictions)}')\n",
    "print(f'The f1 score for DecisionTreeClassifier is {f1_score(target_valid, valid_predictions):.2f}')"
   ]
  },
  {
   "cell_type": "code",
   "execution_count": 121,
   "metadata": {},
   "outputs": [
    {
     "name": "stdout",
     "output_type": "stream",
     "text": [
      "The confusion matrix for RandomForesClassifier \n",
      "[[1462  130]\n",
      " [ 158  250]]\n",
      "The f1 score for  RandomForesClassifier is 0.63\n"
     ]
    }
   ],
   "source": [
    "# Modelling using RandomForesClassifier and upsampling\n",
    "best_model_2 = RandomForestClassifier(**best_params, random_state=12345)\n",
    "best_model_2.fit(features_upsampled, target_upsampled)\n",
    "valid_predictions=best_model_2.predict(features_valid)\n",
    "print(f'The confusion matrix for RandomForesClassifier \\n{confusion_matrix(target_valid, valid_predictions)}')\n",
    "print(f'The f1 score for  RandomForesClassifier is {f1_score(target_valid, valid_predictions):.2f}')"
   ]
  },
  {
   "cell_type": "code",
   "execution_count": 113,
   "metadata": {},
   "outputs": [
    {
     "name": "stdout",
     "output_type": "stream",
     "text": [
      "The AUC-ROC for RandomForesClassifier is 0.8670966659276778\n"
     ]
    }
   ],
   "source": [
    "# To find auc_roc\n",
    "probabilities_valid = best_model_2.predict_proba(features_valid)\n",
    "probabilities_one_valid = probabilities_valid[:, 1]\n",
    "auc_roc=roc_auc_score(target_valid, probabilities_one_valid)\n",
    "print(f'The AUC-ROC for RandomForesClassifier is {auc_roc}')"
   ]
  },
  {
   "cell_type": "code",
   "execution_count": 120,
   "metadata": {},
   "outputs": [
    {
     "name": "stdout",
     "output_type": "stream",
     "text": [
      "The confusion matrix for RandomForesClassifier \n",
      "[[1462  130]\n",
      " [ 158  250]]\n",
      "The f1 score for  RandomForesClassifier is 0.63\n",
      "              precision    recall  f1-score   support\n",
      "\n",
      "           0       0.90      0.92      0.91      1592\n",
      "           1       0.66      0.61      0.63       408\n",
      "\n",
      "    accuracy                           0.86      2000\n",
      "   macro avg       0.78      0.77      0.77      2000\n",
      "weighted avg       0.85      0.86      0.85      2000\n",
      "\n"
     ]
    }
   ],
   "source": [
    "# Modelling using RandomForesClassifier and class_weight is balanced\n",
    "best_model_3 = RandomForestClassifier(**best_params, random_state=12345, class_weight='balanced')\n",
    "best_model_3.fit(features_train, target_train)\n",
    "valid_predictions=best_model_2.predict(features_valid)\n",
    "print(f'The confusion matrix for RandomForesClassifier \\n{confusion_matrix(target_valid, valid_predictions)}')\n",
    "print(f'The f1 score for  RandomForesClassifier is {f1_score(target_valid, valid_predictions):.2f}')\n",
    "print(classification_report(target_valid, valid_predictions))"
   ]
  },
  {
   "cell_type": "code",
   "execution_count": 115,
   "metadata": {},
   "outputs": [
    {
     "name": "stdout",
     "output_type": "stream",
     "text": [
      "The AUC-ROC for RandomForesClassifier is 0.8688694698985123\n"
     ]
    }
   ],
   "source": [
    "# To find auc_roc\n",
    "probabilities_valid = best_model_3.predict_proba(features_valid)\n",
    "probabilities_one_valid = probabilities_valid[:, 1]\n",
    "auc_roc=roc_auc_score(target_valid, probabilities_one_valid)\n",
    "print(f'The AUC-ROC for RandomForesClassifier is {auc_roc}')"
   ]
  },
  {
   "cell_type": "markdown",
   "metadata": {},
   "source": [
    "The RandomForestClassifier with class_weight is balanced is choosen as the best model and f1_score is 0.63. "
   ]
  },
  {
   "cell_type": "code",
   "execution_count": 119,
   "metadata": {},
   "outputs": [
    {
     "name": "stdout",
     "output_type": "stream",
     "text": [
      "The confusion matrix for RandomForesClassifier \n",
      "[[1461  132]\n",
      " [ 183  224]]\n",
      "The f1 score for  RandomForesClassifier is 0.59\n",
      "              precision    recall  f1-score   support\n",
      "\n",
      "           0       0.89      0.92      0.90      1593\n",
      "           1       0.63      0.55      0.59       407\n",
      "\n",
      "    accuracy                           0.84      2000\n",
      "   macro avg       0.76      0.73      0.74      2000\n",
      "weighted avg       0.84      0.84      0.84      2000\n",
      "\n"
     ]
    }
   ],
   "source": [
    "# Testing the best model\n",
    "test_predictions=best_model_2.predict(features_test)\n",
    "print(f'The confusion matrix for RandomForesClassifier \\n{confusion_matrix(target_test, test_predictions)}')\n",
    "print(f'The f1 score for  RandomForesClassifier is {f1_score(target_test, test_predictions):.2f}')\n",
    "print(classification_report(target_test, test_predictions))"
   ]
  },
  {
   "cell_type": "markdown",
   "metadata": {},
   "source": [
    "Classification_report shows the summary of calculated metrics in each class.\n",
    "\n",
    "Precision: The ratio of correctly predicted positive observations to the total predicted positives. It indicates how many of the predicted positives are actually correct.\n",
    "Recall: The ratio of correctly predicted positive observations to all the actual positives. It indicates how many of the actual positives the model captures through its predictions.\n",
    "F1-score: The weighted average of precision and recall. It balances both metrics, providing a single score that accounts for both false positives and false negatives.\n",
    "Support: The number of actual occurrences of the class in the specified dataset. In the data testset 1593 is class 0 and 407 is class 1.\n",
    "Macro average: Calculates the average of the metrics independently for each class and then averages those values, treating all classes equally.\n",
    "Weighted average: Calculates the average of the metrics for each class, weighting them by the number of true instances for each class.\n",
    "Accuracy: The ratio of correctly predicted observations to the total observations."
   ]
  },
  {
   "cell_type": "code",
   "execution_count": 91,
   "metadata": {},
   "outputs": [
    {
     "name": "stdout",
     "output_type": "stream",
     "text": [
      "The AUC-ROC for RandomForesClassifier is 0.8508230881112236\n"
     ]
    }
   ],
   "source": [
    "# To find auc_roc\n",
    "probabilities_test = best_model_3.predict_proba(features_test)\n",
    "probabilities_one_test = probabilities_test[:, 1]\n",
    "auc_roc=roc_auc_score(target_test, probabilities_one_test)\n",
    "print(f'The AUC-ROC for RandomForesClassifier is {auc_roc}')"
   ]
  },
  {
   "cell_type": "markdown",
   "metadata": {},
   "source": [
    "AUC-ROC (Area Under the Receiver Operating Characteristic curve) is a metric used to evaluate the performance of binary classification models, plotting the True Positive Rate (TPR) against the False Positive Rate (FPR) at various thresholds, with AUC summarizing the model's ability to distinguish between positive and negative classes. Comparing the metrics the best model for the analysis is RandomForestClassifier."
   ]
  },
  {
   "cell_type": "markdown",
   "metadata": {},
   "source": [
    "##  Conclusion:\n",
    "\n",
    "In this project our aim isto develop a predictive model to check whether a customer will leave the bank soon based on the data of clients’ past behavior and termination of contracts with the bank. The bankers figured out it’s cheaper to save the existing customers rather than to attract new ones.\n",
    "Our aims are \n",
    "- Build a model with the maximum possible F1 score.(Atleast 0.59)\n",
    "- Measure the AUC-ROC metric and compare it with the F1\n",
    "This project is divided into following steps:\n",
    "\n",
    "*  Data loading and initialization\n",
    "* Data preprocessing\n",
    "* Split the source data into a training set, a validation set, and a test set.\n",
    "* Examine the balance of classes with different models\n",
    "* Improve the quality models and train different models and find the best model \n",
    "\n",
    "In the first stage, we initialize the data and load all the libraries to perform the task. Second stage, we preprocess the data and check whether any duplicates or missing values. In the third stage, split the source data into a training set, a validation set, and a test set. Next step is to develop different models like:\n",
    "- DecisionTreeClassifier\n",
    "- RandomForestClassifier\n",
    "- Linear Regression and examine the balance of classes with different models.\n",
    "In last stage, we want to improve the quality of the model.Train different models on training and validation sets and find the best model. From the above analysis for the prediction the best model can be used is RandomForestClassifier with class weight balanced.F1 score is a measure of the harmonic mean of precision and recall. AUC-ROC is a valuable tool for evaluating binary classification models, providing a comprehensive overview of their performance and ability to distinguish between classes. \n",
    "- The f1 score for the best model is 0.63 and AUC-ROC is 0.8688694698985123"
   ]
  },
  {
   "cell_type": "code",
   "execution_count": null,
   "metadata": {},
   "outputs": [],
   "source": []
  }
 ],
 "metadata": {
  "ExecuteTimeLog": [
   {
    "duration": 2,
    "start_time": "2025-03-28T18:22:00.966Z"
   },
   {
    "duration": 42,
    "start_time": "2025-03-28T18:22:01.629Z"
   },
   {
    "duration": 10,
    "start_time": "2025-03-28T18:22:26.671Z"
   },
   {
    "duration": 165,
    "start_time": "2025-03-28T21:33:38.229Z"
   },
   {
    "duration": 271,
    "start_time": "2025-03-28T21:33:43.515Z"
   },
   {
    "duration": 36,
    "start_time": "2025-03-28T21:33:44.045Z"
   },
   {
    "duration": 11,
    "start_time": "2025-03-28T21:33:46.326Z"
   },
   {
    "duration": 4,
    "start_time": "2025-03-28T21:33:49.758Z"
   },
   {
    "duration": 10,
    "start_time": "2025-03-28T21:34:01.999Z"
   },
   {
    "duration": 4,
    "start_time": "2025-03-28T21:34:50.129Z"
   },
   {
    "duration": 7,
    "start_time": "2025-03-28T21:35:44.775Z"
   },
   {
    "duration": 4,
    "start_time": "2025-03-28T21:36:11.705Z"
   },
   {
    "duration": 4,
    "start_time": "2025-03-28T21:50:56.656Z"
   },
   {
    "duration": 7,
    "start_time": "2025-03-28T21:51:07.362Z"
   },
   {
    "duration": 9,
    "start_time": "2025-03-28T21:51:20.476Z"
   },
   {
    "duration": 6,
    "start_time": "2025-03-28T21:51:21.112Z"
   },
   {
    "duration": 13,
    "start_time": "2025-03-28T21:51:55.433Z"
   },
   {
    "duration": 36,
    "start_time": "2025-03-28T21:51:55.962Z"
   },
   {
    "duration": 11,
    "start_time": "2025-03-28T21:52:10.371Z"
   },
   {
    "duration": 12,
    "start_time": "2025-03-28T21:52:32.553Z"
   },
   {
    "duration": 16,
    "start_time": "2025-03-28T21:58:53.793Z"
   },
   {
    "duration": 12,
    "start_time": "2025-03-28T22:00:10.583Z"
   },
   {
    "duration": 21,
    "start_time": "2025-03-28T22:00:25.156Z"
   },
   {
    "duration": 12,
    "start_time": "2025-03-28T22:00:41.840Z"
   },
   {
    "duration": 11,
    "start_time": "2025-03-28T22:00:44.966Z"
   },
   {
    "duration": 13,
    "start_time": "2025-03-28T22:00:54.775Z"
   },
   {
    "duration": 3,
    "start_time": "2025-03-28T22:01:06.477Z"
   },
   {
    "duration": 27,
    "start_time": "2025-03-28T22:01:06.950Z"
   },
   {
    "duration": 10,
    "start_time": "2025-03-28T22:01:08.004Z"
   },
   {
    "duration": 3,
    "start_time": "2025-03-28T22:01:11.143Z"
   },
   {
    "duration": 6,
    "start_time": "2025-03-28T22:01:11.735Z"
   },
   {
    "duration": 4,
    "start_time": "2025-03-28T22:01:14.040Z"
   },
   {
    "duration": 3,
    "start_time": "2025-03-28T22:01:14.949Z"
   },
   {
    "duration": 7,
    "start_time": "2025-03-28T22:01:16.173Z"
   },
   {
    "duration": 10,
    "start_time": "2025-03-28T22:03:09.900Z"
   },
   {
    "duration": 294,
    "start_time": "2025-03-31T13:30:55.001Z"
   },
   {
    "duration": 41,
    "start_time": "2025-03-31T13:30:55.381Z"
   },
   {
    "duration": 10,
    "start_time": "2025-03-31T13:30:58.088Z"
   },
   {
    "duration": 4,
    "start_time": "2025-03-31T13:30:59.329Z"
   },
   {
    "duration": 7,
    "start_time": "2025-03-31T13:31:00.613Z"
   },
   {
    "duration": 4,
    "start_time": "2025-03-31T13:31:04.099Z"
   },
   {
    "duration": 4,
    "start_time": "2025-03-31T13:31:04.701Z"
   },
   {
    "duration": 7,
    "start_time": "2025-03-31T13:31:05.295Z"
   },
   {
    "duration": 9,
    "start_time": "2025-03-31T13:31:10.823Z"
   },
   {
    "duration": 4,
    "start_time": "2025-03-31T13:31:12.078Z"
   },
   {
    "duration": 493,
    "start_time": "2025-03-31T13:35:33.634Z"
   },
   {
    "duration": 213,
    "start_time": "2025-03-31T13:35:43.484Z"
   },
   {
    "duration": 15,
    "start_time": "2025-03-31T13:36:06.717Z"
   },
   {
    "duration": 5,
    "start_time": "2025-03-31T13:36:13.104Z"
   },
   {
    "duration": 4,
    "start_time": "2025-03-31T13:36:49.871Z"
   },
   {
    "duration": 653,
    "start_time": "2025-03-31T13:36:57.087Z"
   },
   {
    "duration": 3,
    "start_time": "2025-03-31T13:37:07.132Z"
   },
   {
    "duration": 26,
    "start_time": "2025-03-31T13:37:07.387Z"
   },
   {
    "duration": 9,
    "start_time": "2025-03-31T13:37:09.430Z"
   },
   {
    "duration": 4,
    "start_time": "2025-03-31T13:37:10.010Z"
   },
   {
    "duration": 6,
    "start_time": "2025-03-31T13:37:12.030Z"
   },
   {
    "duration": 4,
    "start_time": "2025-03-31T13:37:14.078Z"
   },
   {
    "duration": 4,
    "start_time": "2025-03-31T13:37:14.541Z"
   },
   {
    "duration": 7,
    "start_time": "2025-03-31T13:37:14.924Z"
   },
   {
    "duration": 9,
    "start_time": "2025-03-31T13:37:19.053Z"
   },
   {
    "duration": 4,
    "start_time": "2025-03-31T13:37:22.812Z"
   },
   {
    "duration": 13,
    "start_time": "2025-03-31T13:37:24.344Z"
   },
   {
    "duration": 11,
    "start_time": "2025-03-31T13:38:17.276Z"
   },
   {
    "duration": 4,
    "start_time": "2025-03-31T13:39:58.381Z"
   },
   {
    "duration": 13,
    "start_time": "2025-03-31T13:44:43.600Z"
   },
   {
    "duration": 4,
    "start_time": "2025-03-31T13:46:44.559Z"
   },
   {
    "duration": 14,
    "start_time": "2025-03-31T15:20:22.413Z"
   },
   {
    "duration": 8,
    "start_time": "2025-03-31T15:20:30.931Z"
   },
   {
    "duration": 5,
    "start_time": "2025-03-31T15:21:50.715Z"
   },
   {
    "duration": 13,
    "start_time": "2025-03-31T15:24:15.992Z"
   },
   {
    "duration": 3,
    "start_time": "2025-03-31T15:24:54.529Z"
   },
   {
    "duration": 29,
    "start_time": "2025-03-31T15:29:10.689Z"
   },
   {
    "duration": 19,
    "start_time": "2025-03-31T15:29:18.293Z"
   },
   {
    "duration": 2,
    "start_time": "2025-03-31T15:29:41.917Z"
   },
   {
    "duration": 3,
    "start_time": "2025-03-31T15:29:47.365Z"
   },
   {
    "duration": 3381,
    "start_time": "2025-03-31T15:30:06.087Z"
   },
   {
    "duration": 22,
    "start_time": "2025-03-31T15:30:11.510Z"
   },
   {
    "duration": 13,
    "start_time": "2025-03-31T15:30:18.778Z"
   },
   {
    "duration": 4,
    "start_time": "2025-03-31T15:32:35.200Z"
   },
   {
    "duration": 9,
    "start_time": "2025-03-31T15:32:35.942Z"
   },
   {
    "duration": 7,
    "start_time": "2025-03-31T15:32:40.678Z"
   },
   {
    "duration": 29,
    "start_time": "2025-03-31T15:39:24.075Z"
   },
   {
    "duration": 3,
    "start_time": "2025-03-31T15:43:21.945Z"
   },
   {
    "duration": 63,
    "start_time": "2025-03-31T15:45:40.301Z"
   },
   {
    "duration": 55,
    "start_time": "2025-03-31T15:46:00.942Z"
   },
   {
    "duration": 52,
    "start_time": "2025-03-31T15:46:14.469Z"
   },
   {
    "duration": 3,
    "start_time": "2025-03-31T15:46:42.854Z"
   },
   {
    "duration": 52,
    "start_time": "2025-03-31T15:46:47.661Z"
   },
   {
    "duration": 53,
    "start_time": "2025-03-31T15:47:03.678Z"
   },
   {
    "duration": 27,
    "start_time": "2025-03-31T15:48:58.893Z"
   },
   {
    "duration": 28,
    "start_time": "2025-03-31T15:50:03.744Z"
   },
   {
    "duration": 35,
    "start_time": "2025-03-31T15:50:13.173Z"
   },
   {
    "duration": 22,
    "start_time": "2025-03-31T15:50:26.618Z"
   },
   {
    "duration": 14,
    "start_time": "2025-03-31T15:52:36.540Z"
   },
   {
    "duration": 3,
    "start_time": "2025-03-31T15:52:41.161Z"
   },
   {
    "duration": 5,
    "start_time": "2025-03-31T15:52:46.883Z"
   },
   {
    "duration": 32,
    "start_time": "2025-03-31T15:53:13.362Z"
   },
   {
    "duration": 30,
    "start_time": "2025-03-31T15:53:26.090Z"
   },
   {
    "duration": 23,
    "start_time": "2025-03-31T15:53:35.916Z"
   },
   {
    "duration": 62,
    "start_time": "2025-03-31T15:54:10.501Z"
   },
   {
    "duration": 78,
    "start_time": "2025-03-31T15:54:20.747Z"
   },
   {
    "duration": 133,
    "start_time": "2025-03-31T15:54:29.360Z"
   },
   {
    "duration": 228,
    "start_time": "2025-03-31T15:54:38.426Z"
   },
   {
    "duration": 53,
    "start_time": "2025-03-31T15:54:57.736Z"
   },
   {
    "duration": 55,
    "start_time": "2025-03-31T15:55:04.832Z"
   },
   {
    "duration": 54,
    "start_time": "2025-03-31T15:59:45.798Z"
   },
   {
    "duration": 21,
    "start_time": "2025-03-31T16:02:28.156Z"
   },
   {
    "duration": 20,
    "start_time": "2025-03-31T16:02:34.264Z"
   },
   {
    "duration": 63,
    "start_time": "2025-03-31T16:02:56.609Z"
   },
   {
    "duration": 3,
    "start_time": "2025-03-31T16:03:37.717Z"
   },
   {
    "duration": 7330,
    "start_time": "2025-03-31T16:03:40.058Z"
   },
   {
    "duration": 22,
    "start_time": "2025-03-31T16:03:47.856Z"
   },
   {
    "duration": 4,
    "start_time": "2025-03-31T16:03:51.245Z"
   },
   {
    "duration": 8,
    "start_time": "2025-03-31T16:03:51.918Z"
   },
   {
    "duration": 6,
    "start_time": "2025-03-31T16:03:56.774Z"
   },
   {
    "duration": 4,
    "start_time": "2025-03-31T16:03:57.306Z"
   },
   {
    "duration": 43,
    "start_time": "2025-03-31T16:03:58.734Z"
   },
   {
    "duration": 54,
    "start_time": "2025-03-31T16:04:04.948Z"
   },
   {
    "duration": 5,
    "start_time": "2025-03-31T16:04:16.275Z"
   },
   {
    "duration": 985,
    "start_time": "2025-03-31T16:04:17.286Z"
   },
   {
    "duration": 21,
    "start_time": "2025-03-31T16:04:18.924Z"
   },
   {
    "duration": 8,
    "start_time": "2025-03-31T16:04:19.941Z"
   },
   {
    "duration": 9,
    "start_time": "2025-03-31T16:04:20.950Z"
   },
   {
    "duration": 5,
    "start_time": "2025-03-31T16:04:21.862Z"
   },
   {
    "duration": 7,
    "start_time": "2025-03-31T16:04:23.194Z"
   },
   {
    "duration": 5,
    "start_time": "2025-03-31T16:04:37.916Z"
   },
   {
    "duration": 3373,
    "start_time": "2025-03-31T16:04:38.607Z"
   },
   {
    "duration": 20,
    "start_time": "2025-03-31T16:04:41.983Z"
   },
   {
    "duration": 4,
    "start_time": "2025-03-31T16:04:42.005Z"
   },
   {
    "duration": 7,
    "start_time": "2025-03-31T16:04:42.011Z"
   },
   {
    "duration": 5,
    "start_time": "2025-03-31T16:04:44.921Z"
   },
   {
    "duration": 6,
    "start_time": "2025-03-31T16:04:47.010Z"
   },
   {
    "duration": 29,
    "start_time": "2025-03-31T16:04:54.010Z"
   },
   {
    "duration": 57,
    "start_time": "2025-03-31T16:04:55.656Z"
   },
   {
    "duration": 3,
    "start_time": "2025-03-31T16:05:04.784Z"
   },
   {
    "duration": 1002,
    "start_time": "2025-03-31T16:05:05.436Z"
   },
   {
    "duration": 22,
    "start_time": "2025-03-31T16:05:08.568Z"
   },
   {
    "duration": 4,
    "start_time": "2025-03-31T16:05:11.582Z"
   },
   {
    "duration": 8,
    "start_time": "2025-03-31T16:05:15.279Z"
   },
   {
    "duration": 4,
    "start_time": "2025-03-31T16:05:19.366Z"
   },
   {
    "duration": 5,
    "start_time": "2025-03-31T16:05:20.272Z"
   },
   {
    "duration": 30,
    "start_time": "2025-03-31T16:05:23.120Z"
   },
   {
    "duration": 55,
    "start_time": "2025-03-31T16:05:25.369Z"
   },
   {
    "duration": 13,
    "start_time": "2025-03-31T16:12:27.900Z"
   },
   {
    "duration": 9,
    "start_time": "2025-03-31T16:12:31.044Z"
   },
   {
    "duration": 5,
    "start_time": "2025-03-31T16:12:33.686Z"
   },
   {
    "duration": 5,
    "start_time": "2025-03-31T16:12:34.222Z"
   },
   {
    "duration": 5,
    "start_time": "2025-03-31T16:12:34.700Z"
   },
   {
    "duration": 3,
    "start_time": "2025-03-31T16:12:35.308Z"
   },
   {
    "duration": 3,
    "start_time": "2025-03-31T16:12:39.688Z"
   },
   {
    "duration": 972,
    "start_time": "2025-03-31T16:12:40.227Z"
   },
   {
    "duration": 21,
    "start_time": "2025-03-31T16:12:42.774Z"
   },
   {
    "duration": 4,
    "start_time": "2025-03-31T16:12:44.760Z"
   },
   {
    "duration": 8,
    "start_time": "2025-03-31T16:12:46.498Z"
   },
   {
    "duration": 5,
    "start_time": "2025-03-31T16:12:51.119Z"
   },
   {
    "duration": 4,
    "start_time": "2025-03-31T16:12:51.746Z"
   },
   {
    "duration": 29,
    "start_time": "2025-03-31T16:12:52.768Z"
   },
   {
    "duration": 53,
    "start_time": "2025-03-31T16:12:57.925Z"
   },
   {
    "duration": 16,
    "start_time": "2025-03-31T16:17:34.604Z"
   },
   {
    "duration": 2,
    "start_time": "2025-03-31T16:17:41.485Z"
   },
   {
    "duration": 41,
    "start_time": "2025-03-31T16:17:46.801Z"
   },
   {
    "duration": 39,
    "start_time": "2025-03-31T16:19:42.767Z"
   },
   {
    "duration": 5,
    "start_time": "2025-03-31T16:22:39.221Z"
   },
   {
    "duration": 6,
    "start_time": "2025-03-31T16:22:50.447Z"
   },
   {
    "duration": 1029,
    "start_time": "2025-03-31T16:23:42.152Z"
   },
   {
    "duration": 1028,
    "start_time": "2025-03-31T16:24:31.104Z"
   },
   {
    "duration": 1026,
    "start_time": "2025-03-31T16:25:08.221Z"
   },
   {
    "duration": 24,
    "start_time": "2025-03-31T16:26:17.330Z"
   },
   {
    "duration": 3,
    "start_time": "2025-03-31T16:27:03.778Z"
   },
   {
    "duration": 14,
    "start_time": "2025-03-31T16:27:53.877Z"
   },
   {
    "duration": 3,
    "start_time": "2025-03-31T16:27:59.244Z"
   },
   {
    "duration": 12,
    "start_time": "2025-03-31T16:28:05.312Z"
   },
   {
    "duration": 6,
    "start_time": "2025-03-31T16:28:24.665Z"
   },
   {
    "duration": 17,
    "start_time": "2025-03-31T16:28:45.976Z"
   },
   {
    "duration": 10,
    "start_time": "2025-03-31T16:28:49.844Z"
   },
   {
    "duration": 4,
    "start_time": "2025-03-31T16:28:51.792Z"
   },
   {
    "duration": 6,
    "start_time": "2025-03-31T16:28:52.354Z"
   },
   {
    "duration": 5,
    "start_time": "2025-03-31T16:28:52.858Z"
   },
   {
    "duration": 3,
    "start_time": "2025-03-31T16:28:53.390Z"
   },
   {
    "duration": 4,
    "start_time": "2025-03-31T16:28:54.706Z"
   },
   {
    "duration": 1015,
    "start_time": "2025-03-31T16:28:56.996Z"
   },
   {
    "duration": 34,
    "start_time": "2025-03-31T16:28:58.014Z"
   },
   {
    "duration": 4,
    "start_time": "2025-03-31T16:28:59.390Z"
   },
   {
    "duration": 9,
    "start_time": "2025-03-31T16:29:00.062Z"
   },
   {
    "duration": 5,
    "start_time": "2025-03-31T16:29:02.032Z"
   },
   {
    "duration": 5,
    "start_time": "2025-03-31T16:29:03.523Z"
   },
   {
    "duration": 33,
    "start_time": "2025-03-31T16:29:08.638Z"
   },
   {
    "duration": 41,
    "start_time": "2025-03-31T16:29:12.738Z"
   },
   {
    "duration": 60,
    "start_time": "2025-03-31T16:29:23.541Z"
   },
   {
    "duration": 4,
    "start_time": "2025-03-31T16:29:28.608Z"
   },
   {
    "duration": 1076,
    "start_time": "2025-03-31T16:29:29.545Z"
   },
   {
    "duration": 7,
    "start_time": "2025-03-31T16:29:34.776Z"
   },
   {
    "duration": 23,
    "start_time": "2025-03-31T16:30:05.989Z"
   },
   {
    "duration": 4,
    "start_time": "2025-03-31T16:30:06.682Z"
   },
   {
    "duration": 8,
    "start_time": "2025-03-31T16:30:07.194Z"
   },
   {
    "duration": 13,
    "start_time": "2025-03-31T16:30:27.852Z"
   },
   {
    "duration": 10,
    "start_time": "2025-03-31T16:30:30.747Z"
   },
   {
    "duration": 5,
    "start_time": "2025-03-31T16:30:31.935Z"
   },
   {
    "duration": 5,
    "start_time": "2025-03-31T16:30:32.492Z"
   },
   {
    "duration": 8,
    "start_time": "2025-03-31T16:30:32.960Z"
   },
   {
    "duration": 3,
    "start_time": "2025-03-31T16:30:34.399Z"
   },
   {
    "duration": 3,
    "start_time": "2025-03-31T16:30:37.311Z"
   },
   {
    "duration": 987,
    "start_time": "2025-03-31T16:30:37.932Z"
   },
   {
    "duration": 22,
    "start_time": "2025-03-31T16:30:39.263Z"
   },
   {
    "duration": 4,
    "start_time": "2025-03-31T16:30:40.448Z"
   },
   {
    "duration": 8,
    "start_time": "2025-03-31T16:30:41.904Z"
   },
   {
    "duration": 5,
    "start_time": "2025-03-31T16:30:51.749Z"
   },
   {
    "duration": 6,
    "start_time": "2025-03-31T16:30:52.477Z"
   },
   {
    "duration": 29,
    "start_time": "2025-03-31T16:30:57.784Z"
   },
   {
    "duration": 11,
    "start_time": "2025-03-31T16:30:59.203Z"
   },
   {
    "duration": 2191,
    "start_time": "2025-03-31T16:33:25.755Z"
   },
   {
    "duration": 20,
    "start_time": "2025-03-31T16:33:32.526Z"
   },
   {
    "duration": 5,
    "start_time": "2025-03-31T16:33:39.331Z"
   },
   {
    "duration": 9,
    "start_time": "2025-03-31T16:33:42.286Z"
   },
   {
    "duration": 5,
    "start_time": "2025-03-31T16:33:47.553Z"
   },
   {
    "duration": 5,
    "start_time": "2025-03-31T16:33:50.188Z"
   },
   {
    "duration": 28,
    "start_time": "2025-03-31T16:33:53.696Z"
   },
   {
    "duration": 7,
    "start_time": "2025-03-31T16:33:58.163Z"
   },
   {
    "duration": 38,
    "start_time": "2025-03-31T16:34:04.737Z"
   },
   {
    "duration": 50,
    "start_time": "2025-03-31T16:34:06.247Z"
   },
   {
    "duration": 2297,
    "start_time": "2025-03-31T16:34:26.975Z"
   },
   {
    "duration": 6,
    "start_time": "2025-03-31T16:34:35.691Z"
   },
   {
    "duration": 27,
    "start_time": "2025-03-31T16:43:32.162Z"
   },
   {
    "duration": 3,
    "start_time": "2025-03-31T16:43:55.636Z"
   },
   {
    "duration": 2332,
    "start_time": "2025-03-31T16:43:57.767Z"
   },
   {
    "duration": 7,
    "start_time": "2025-03-31T16:44:10.586Z"
   },
   {
    "duration": 3,
    "start_time": "2025-03-31T16:45:17.322Z"
   },
   {
    "duration": 2385,
    "start_time": "2025-03-31T16:45:20.882Z"
   },
   {
    "duration": 7,
    "start_time": "2025-03-31T16:45:25.663Z"
   },
   {
    "duration": 3,
    "start_time": "2025-03-31T16:45:50.079Z"
   },
   {
    "duration": 2219,
    "start_time": "2025-03-31T16:45:57.172Z"
   },
   {
    "duration": 15,
    "start_time": "2025-03-31T16:46:05.857Z"
   },
   {
    "duration": 3,
    "start_time": "2025-03-31T16:46:18.558Z"
   },
   {
    "duration": 2196,
    "start_time": "2025-03-31T16:46:21.948Z"
   },
   {
    "duration": 19,
    "start_time": "2025-03-31T16:46:24.506Z"
   },
   {
    "duration": 4,
    "start_time": "2025-03-31T16:46:25.669Z"
   },
   {
    "duration": 5,
    "start_time": "2025-03-31T16:46:27.057Z"
   },
   {
    "duration": 5,
    "start_time": "2025-03-31T16:46:32.567Z"
   },
   {
    "duration": 28,
    "start_time": "2025-03-31T16:46:35.931Z"
   },
   {
    "duration": 53,
    "start_time": "2025-03-31T16:46:58.332Z"
   },
   {
    "duration": 6,
    "start_time": "2025-03-31T16:47:19.426Z"
   },
   {
    "duration": 69,
    "start_time": "2025-03-31T16:47:47.443Z"
   },
   {
    "duration": 7,
    "start_time": "2025-03-31T16:47:52.016Z"
   },
   {
    "duration": 116,
    "start_time": "2025-03-31T16:48:01.334Z"
   },
   {
    "duration": 7,
    "start_time": "2025-03-31T16:48:04.863Z"
   },
   {
    "duration": 69,
    "start_time": "2025-03-31T16:48:12.457Z"
   },
   {
    "duration": 7,
    "start_time": "2025-03-31T16:48:13.803Z"
   },
   {
    "duration": 7,
    "start_time": "2025-03-31T16:50:40.487Z"
   },
   {
    "duration": 3,
    "start_time": "2025-03-31T16:51:56.708Z"
   },
   {
    "duration": 15,
    "start_time": "2025-03-31T16:52:02.278Z"
   },
   {
    "duration": 5,
    "start_time": "2025-03-31T16:52:26.423Z"
   },
   {
    "duration": 3,
    "start_time": "2025-03-31T16:52:32.377Z"
   },
   {
    "duration": 12865,
    "start_time": "2025-03-31T16:52:33.501Z"
   },
   {
    "duration": 94,
    "start_time": "2025-03-31T16:52:46.368Z"
   },
   {
    "duration": 5,
    "start_time": "2025-03-31T16:52:46.464Z"
   },
   {
    "duration": 9,
    "start_time": "2025-03-31T16:52:46.471Z"
   },
   {
    "duration": 63,
    "start_time": "2025-03-31T16:52:46.481Z"
   },
   {
    "duration": 45,
    "start_time": "2025-03-31T16:54:14.415Z"
   },
   {
    "duration": 46,
    "start_time": "2025-03-31T16:54:28.797Z"
   },
   {
    "duration": 58,
    "start_time": "2025-03-31T16:54:40.318Z"
   },
   {
    "duration": 10,
    "start_time": "2025-03-31T16:55:44.293Z"
   },
   {
    "duration": 17,
    "start_time": "2025-03-31T16:56:35.117Z"
   },
   {
    "duration": 3,
    "start_time": "2025-03-31T16:58:27.055Z"
   },
   {
    "duration": 15,
    "start_time": "2025-03-31T16:58:28.897Z"
   },
   {
    "duration": 4,
    "start_time": "2025-03-31T16:59:03.922Z"
   },
   {
    "duration": 310622,
    "start_time": "2025-03-31T16:59:05.200Z"
   },
   {
    "duration": 654,
    "start_time": "2025-03-31T17:04:15.825Z"
   },
   {
    "duration": 611,
    "start_time": "2025-03-31T17:16:56.445Z"
   },
   {
    "duration": 640,
    "start_time": "2025-03-31T17:17:09.005Z"
   },
   {
    "duration": 631,
    "start_time": "2025-03-31T17:17:22.125Z"
   },
   {
    "duration": 671,
    "start_time": "2025-03-31T17:17:43.252Z"
   },
   {
    "duration": 662,
    "start_time": "2025-03-31T17:17:59.236Z"
   },
   {
    "duration": 7,
    "start_time": "2025-03-31T17:18:56.281Z"
   },
   {
    "duration": 658,
    "start_time": "2025-03-31T17:18:59.513Z"
   },
   {
    "duration": 38,
    "start_time": "2025-03-31T17:19:08.393Z"
   },
   {
    "duration": 674,
    "start_time": "2025-03-31T17:20:24.266Z"
   },
   {
    "duration": 657,
    "start_time": "2025-03-31T17:20:32.198Z"
   },
   {
    "duration": 675,
    "start_time": "2025-03-31T17:21:00.208Z"
   },
   {
    "duration": 1463,
    "start_time": "2025-03-31T17:21:51.069Z"
   },
   {
    "duration": 45,
    "start_time": "2025-03-31T17:21:59.265Z"
   },
   {
    "duration": 5,
    "start_time": "2025-03-31T17:22:23.395Z"
   },
   {
    "duration": 241,
    "start_time": "2025-03-31T17:22:30.738Z"
   },
   {
    "duration": 53,
    "start_time": "2025-03-31T17:23:15.030Z"
   },
   {
    "duration": 52,
    "start_time": "2025-03-31T17:25:40.153Z"
   },
   {
    "duration": 52,
    "start_time": "2025-03-31T17:26:40.708Z"
   },
   {
    "duration": 51,
    "start_time": "2025-03-31T17:26:50.257Z"
   },
   {
    "duration": 4,
    "start_time": "2025-03-31T17:27:00.389Z"
   },
   {
    "duration": 18,
    "start_time": "2025-03-31T17:27:30.615Z"
   },
   {
    "duration": 3,
    "start_time": "2025-03-31T17:27:34.355Z"
   },
   {
    "duration": 12779,
    "start_time": "2025-03-31T17:27:35.969Z"
   },
   {
    "duration": 19,
    "start_time": "2025-03-31T17:27:48.750Z"
   },
   {
    "duration": 5,
    "start_time": "2025-03-31T17:27:48.770Z"
   },
   {
    "duration": 66,
    "start_time": "2025-03-31T17:27:48.778Z"
   },
   {
    "duration": 6,
    "start_time": "2025-03-31T17:28:01.990Z"
   },
   {
    "duration": 45,
    "start_time": "2025-03-31T17:28:07.568Z"
   },
   {
    "duration": 474,
    "start_time": "2025-03-31T17:28:19.870Z"
   },
   {
    "duration": 506,
    "start_time": "2025-03-31T17:28:35.964Z"
   },
   {
    "duration": 81,
    "start_time": "2025-03-31T17:28:46.804Z"
   },
   {
    "duration": 24,
    "start_time": "2025-03-31T17:29:42.886Z"
   },
   {
    "duration": 33,
    "start_time": "2025-03-31T17:29:52.879Z"
   },
   {
    "duration": 24,
    "start_time": "2025-03-31T17:30:01.180Z"
   },
   {
    "duration": 33,
    "start_time": "2025-03-31T17:30:09.011Z"
   },
   {
    "duration": 34,
    "start_time": "2025-03-31T17:30:26.903Z"
   },
   {
    "duration": 6,
    "start_time": "2025-03-31T17:30:34.321Z"
   },
   {
    "duration": 34,
    "start_time": "2025-03-31T17:30:39.997Z"
   },
   {
    "duration": 37,
    "start_time": "2025-03-31T17:31:08.988Z"
   },
   {
    "duration": 24,
    "start_time": "2025-03-31T17:31:16.876Z"
   },
   {
    "duration": 29,
    "start_time": "2025-03-31T17:33:28.511Z"
   },
   {
    "duration": 7317,
    "start_time": "2025-03-31T18:20:43.880Z"
   },
   {
    "duration": 27,
    "start_time": "2025-03-31T18:22:03.183Z"
   },
   {
    "duration": 107,
    "start_time": "2025-03-31T18:28:38.240Z"
   },
   {
    "duration": 4,
    "start_time": "2025-03-31T18:28:47.702Z"
   },
   {
    "duration": 26,
    "start_time": "2025-03-31T18:28:48.225Z"
   },
   {
    "duration": 12,
    "start_time": "2025-03-31T18:28:52.398Z"
   },
   {
    "duration": 4,
    "start_time": "2025-03-31T18:28:56.174Z"
   },
   {
    "duration": 7,
    "start_time": "2025-03-31T18:28:57.028Z"
   },
   {
    "duration": 6,
    "start_time": "2025-03-31T18:28:58.041Z"
   },
   {
    "duration": 776,
    "start_time": "2025-03-31T20:17:21.303Z"
   },
   {
    "duration": 35,
    "start_time": "2025-03-31T20:17:22.081Z"
   },
   {
    "duration": 10,
    "start_time": "2025-03-31T20:17:26.731Z"
   },
   {
    "duration": 4,
    "start_time": "2025-03-31T20:17:30.227Z"
   },
   {
    "duration": 6,
    "start_time": "2025-03-31T20:17:30.937Z"
   },
   {
    "duration": 6,
    "start_time": "2025-03-31T20:17:33.554Z"
   },
   {
    "duration": 9,
    "start_time": "2025-03-31T20:21:18.378Z"
   },
   {
    "duration": 4,
    "start_time": "2025-03-31T20:21:21.159Z"
   },
   {
    "duration": 9,
    "start_time": "2025-03-31T20:21:25.288Z"
   },
   {
    "duration": 3,
    "start_time": "2025-03-31T20:26:47.359Z"
   },
   {
    "duration": 27,
    "start_time": "2025-03-31T20:26:48.049Z"
   },
   {
    "duration": 11,
    "start_time": "2025-03-31T20:26:52.312Z"
   },
   {
    "duration": 4,
    "start_time": "2025-03-31T20:26:55.677Z"
   },
   {
    "duration": 7,
    "start_time": "2025-03-31T20:26:57.071Z"
   },
   {
    "duration": 5,
    "start_time": "2025-03-31T20:26:59.529Z"
   },
   {
    "duration": 4,
    "start_time": "2025-03-31T20:27:03.633Z"
   },
   {
    "duration": 7,
    "start_time": "2025-03-31T20:27:04.157Z"
   },
   {
    "duration": 9,
    "start_time": "2025-03-31T20:27:07.132Z"
   },
   {
    "duration": 4,
    "start_time": "2025-03-31T20:27:07.811Z"
   },
   {
    "duration": 8,
    "start_time": "2025-03-31T20:27:08.391Z"
   },
   {
    "duration": 4,
    "start_time": "2025-03-31T20:27:11.813Z"
   },
   {
    "duration": 5,
    "start_time": "2025-03-31T20:27:12.374Z"
   },
   {
    "duration": 4,
    "start_time": "2025-03-31T20:27:14.067Z"
   },
   {
    "duration": 6,
    "start_time": "2025-03-31T20:27:14.998Z"
   },
   {
    "duration": 3,
    "start_time": "2025-03-31T20:27:15.699Z"
   },
   {
    "duration": 3,
    "start_time": "2025-03-31T20:27:38.148Z"
   },
   {
    "duration": 3,
    "start_time": "2025-03-31T20:31:38.164Z"
   },
   {
    "duration": 1811,
    "start_time": "2025-03-31T20:31:40.031Z"
   },
   {
    "duration": 17,
    "start_time": "2025-03-31T20:31:45.137Z"
   },
   {
    "duration": 4,
    "start_time": "2025-03-31T20:31:49.416Z"
   },
   {
    "duration": 5,
    "start_time": "2025-03-31T20:31:50.201Z"
   },
   {
    "duration": 4,
    "start_time": "2025-03-31T20:31:54.705Z"
   },
   {
    "duration": 6,
    "start_time": "2025-03-31T20:31:56.604Z"
   },
   {
    "duration": 65,
    "start_time": "2025-03-31T20:31:59.673Z"
   },
   {
    "duration": 7,
    "start_time": "2025-03-31T20:32:04.532Z"
   },
   {
    "duration": 3,
    "start_time": "2025-03-31T20:32:08.754Z"
   },
   {
    "duration": 19648,
    "start_time": "2025-03-31T20:32:09.875Z"
   },
   {
    "duration": 41,
    "start_time": "2025-03-31T20:32:29.525Z"
   },
   {
    "duration": 6,
    "start_time": "2025-03-31T20:32:29.567Z"
   },
   {
    "duration": 34,
    "start_time": "2025-03-31T20:32:29.575Z"
   },
   {
    "duration": 6,
    "start_time": "2025-03-31T20:32:29.611Z"
   },
   {
    "duration": 33921,
    "start_time": "2025-03-31T20:32:29.619Z"
   },
   {
    "duration": 7,
    "start_time": "2025-03-31T20:33:03.542Z"
   },
   {
    "duration": 248945,
    "start_time": "2025-03-31T20:33:03.552Z"
   },
   {
    "duration": 542,
    "start_time": "2025-03-31T20:37:12.500Z"
   },
   {
    "duration": 1130,
    "start_time": "2025-03-31T20:37:13.045Z"
   },
   {
    "duration": 44,
    "start_time": "2025-03-31T20:37:14.177Z"
   },
   {
    "duration": 0,
    "start_time": "2025-03-31T20:37:14.497Z"
   },
   {
    "duration": 5,
    "start_time": "2025-03-31T20:39:37.556Z"
   },
   {
    "duration": 5,
    "start_time": "2025-03-31T20:40:07.368Z"
   },
   {
    "duration": 4,
    "start_time": "2025-03-31T20:40:12.297Z"
   },
   {
    "duration": 2,
    "start_time": "2025-03-31T20:41:20.702Z"
   },
   {
    "duration": 31,
    "start_time": "2025-03-31T20:41:37.501Z"
   },
   {
    "duration": 5,
    "start_time": "2025-03-31T20:41:48.910Z"
   },
   {
    "duration": 1796,
    "start_time": "2025-03-31T20:41:51.694Z"
   },
   {
    "duration": 16,
    "start_time": "2025-03-31T20:42:02.480Z"
   },
   {
    "duration": 5,
    "start_time": "2025-03-31T20:42:03.716Z"
   },
   {
    "duration": 5,
    "start_time": "2025-03-31T20:42:04.881Z"
   },
   {
    "duration": 5,
    "start_time": "2025-03-31T20:42:11.486Z"
   },
   {
    "duration": 7,
    "start_time": "2025-03-31T20:42:12.264Z"
   },
   {
    "duration": 57,
    "start_time": "2025-03-31T20:42:14.734Z"
   },
   {
    "duration": 21,
    "start_time": "2025-03-31T20:46:31.596Z"
   },
   {
    "duration": 12,
    "start_time": "2025-03-31T20:47:01.502Z"
   },
   {
    "duration": 21,
    "start_time": "2025-03-31T20:47:07.012Z"
   },
   {
    "duration": 4,
    "start_time": "2025-03-31T20:47:07.954Z"
   },
   {
    "duration": 5,
    "start_time": "2025-03-31T20:47:08.577Z"
   },
   {
    "duration": 5,
    "start_time": "2025-03-31T20:47:13.346Z"
   },
   {
    "duration": 6,
    "start_time": "2025-03-31T20:47:15.759Z"
   },
   {
    "duration": 56,
    "start_time": "2025-03-31T20:48:22.382Z"
   },
   {
    "duration": 7,
    "start_time": "2025-03-31T20:48:39.329Z"
   },
   {
    "duration": 56,
    "start_time": "2025-03-31T20:48:45.022Z"
   },
   {
    "duration": 6,
    "start_time": "2025-03-31T20:49:10.190Z"
   },
   {
    "duration": 4,
    "start_time": "2025-03-31T20:50:47.083Z"
   },
   {
    "duration": 22,
    "start_time": "2025-03-31T20:53:22.112Z"
   },
   {
    "duration": 4,
    "start_time": "2025-03-31T20:53:50.955Z"
   },
   {
    "duration": 4,
    "start_time": "2025-03-31T20:53:54.287Z"
   },
   {
    "duration": 3,
    "start_time": "2025-03-31T20:55:24.631Z"
   },
   {
    "duration": 19307,
    "start_time": "2025-03-31T20:55:34.227Z"
   },
   {
    "duration": 3,
    "start_time": "2025-03-31T20:57:22.283Z"
   },
   {
    "duration": 19804,
    "start_time": "2025-03-31T20:57:22.815Z"
   },
   {
    "duration": 47,
    "start_time": "2025-03-31T20:57:42.621Z"
   },
   {
    "duration": 5,
    "start_time": "2025-03-31T20:57:42.669Z"
   },
   {
    "duration": 35,
    "start_time": "2025-03-31T20:57:42.676Z"
   },
   {
    "duration": 6,
    "start_time": "2025-03-31T20:58:06.656Z"
   },
   {
    "duration": 3,
    "start_time": "2025-03-31T20:59:35.483Z"
   },
   {
    "duration": 247417,
    "start_time": "2025-03-31T20:59:36.039Z"
   },
   {
    "duration": 754,
    "start_time": "2025-03-31T21:03:43.458Z"
   },
   {
    "duration": 24,
    "start_time": "2025-03-31T21:03:44.214Z"
   },
   {
    "duration": 5,
    "start_time": "2025-03-31T21:03:44.240Z"
   },
   {
    "duration": 12,
    "start_time": "2025-03-31T21:11:17.689Z"
   },
   {
    "duration": 20,
    "start_time": "2025-03-31T21:11:37.883Z"
   },
   {
    "duration": 13,
    "start_time": "2025-03-31T21:11:41.049Z"
   },
   {
    "duration": 19,
    "start_time": "2025-03-31T21:11:41.780Z"
   },
   {
    "duration": 20,
    "start_time": "2025-03-31T21:12:33.258Z"
   },
   {
    "duration": 2,
    "start_time": "2025-03-31T21:16:45.113Z"
   },
   {
    "duration": 1852,
    "start_time": "2025-03-31T21:16:45.117Z"
   },
   {
    "duration": 20,
    "start_time": "2025-03-31T21:16:46.972Z"
   },
   {
    "duration": 14,
    "start_time": "2025-03-31T21:16:46.995Z"
   },
   {
    "duration": 4,
    "start_time": "2025-03-31T21:16:47.011Z"
   },
   {
    "duration": 4,
    "start_time": "2025-03-31T21:16:47.065Z"
   },
   {
    "duration": 19564,
    "start_time": "2025-03-31T21:16:47.071Z"
   },
   {
    "duration": 47,
    "start_time": "2025-03-31T21:17:06.638Z"
   },
   {
    "duration": 23,
    "start_time": "2025-03-31T21:17:06.687Z"
   },
   {
    "duration": 16,
    "start_time": "2025-03-31T21:17:06.712Z"
   },
   {
    "duration": 122,
    "start_time": "2025-03-31T21:17:06.730Z"
   },
   {
    "duration": 4,
    "start_time": "2025-03-31T21:17:06.854Z"
   },
   {
    "duration": 24,
    "start_time": "2025-03-31T21:17:06.860Z"
   },
   {
    "duration": 25,
    "start_time": "2025-03-31T21:17:06.885Z"
   },
   {
    "duration": 44,
    "start_time": "2025-03-31T21:17:10.161Z"
   },
   {
    "duration": 7,
    "start_time": "2025-03-31T21:17:16.230Z"
   },
   {
    "duration": 256,
    "start_time": "2025-03-31T21:19:00.516Z"
   },
   {
    "duration": 1612,
    "start_time": "2025-03-31T21:20:01.788Z"
   },
   {
    "duration": 1669,
    "start_time": "2025-03-31T21:25:53.117Z"
   },
   {
    "duration": 1651,
    "start_time": "2025-03-31T21:26:50.027Z"
   },
   {
    "duration": 1615,
    "start_time": "2025-03-31T21:27:50.240Z"
   },
   {
    "duration": 1639,
    "start_time": "2025-03-31T21:28:06.089Z"
   },
   {
    "duration": 1625,
    "start_time": "2025-03-31T21:28:14.810Z"
   },
   {
    "duration": 1613,
    "start_time": "2025-03-31T21:28:24.475Z"
   },
   {
    "duration": 35,
    "start_time": "2025-03-31T21:32:38.315Z"
   },
   {
    "duration": 37,
    "start_time": "2025-03-31T21:33:14.640Z"
   },
   {
    "duration": 36,
    "start_time": "2025-03-31T21:33:42.537Z"
   },
   {
    "duration": 36,
    "start_time": "2025-03-31T21:34:29.681Z"
   },
   {
    "duration": 7,
    "start_time": "2025-03-31T21:35:05.134Z"
   },
   {
    "duration": 861,
    "start_time": "2025-03-31T23:18:01.822Z"
   },
   {
    "duration": 3,
    "start_time": "2025-03-31T23:18:44.724Z"
   },
   {
    "duration": 45,
    "start_time": "2025-03-31T23:18:46.280Z"
   },
   {
    "duration": 13,
    "start_time": "2025-03-31T23:18:50.609Z"
   },
   {
    "duration": 4,
    "start_time": "2025-03-31T23:18:53.961Z"
   },
   {
    "duration": 7,
    "start_time": "2025-03-31T23:18:55.129Z"
   },
   {
    "duration": 6,
    "start_time": "2025-03-31T23:18:55.670Z"
   },
   {
    "duration": 4,
    "start_time": "2025-03-31T23:18:59.736Z"
   },
   {
    "duration": 7,
    "start_time": "2025-03-31T23:19:00.424Z"
   },
   {
    "duration": 9,
    "start_time": "2025-03-31T23:19:02.925Z"
   },
   {
    "duration": 7,
    "start_time": "2025-03-31T23:19:03.705Z"
   },
   {
    "duration": 11,
    "start_time": "2025-03-31T23:19:04.299Z"
   },
   {
    "duration": 5,
    "start_time": "2025-03-31T23:19:07.549Z"
   },
   {
    "duration": 6,
    "start_time": "2025-03-31T23:19:10.614Z"
   },
   {
    "duration": 7,
    "start_time": "2025-03-31T23:19:13.986Z"
   },
   {
    "duration": 6,
    "start_time": "2025-03-31T23:19:18.174Z"
   },
   {
    "duration": 4,
    "start_time": "2025-03-31T23:19:18.773Z"
   },
   {
    "duration": 3,
    "start_time": "2025-03-31T23:19:23.053Z"
   },
   {
    "duration": 2175,
    "start_time": "2025-03-31T23:19:23.641Z"
   },
   {
    "duration": 25,
    "start_time": "2025-03-31T23:19:28.574Z"
   },
   {
    "duration": 5,
    "start_time": "2025-03-31T23:19:29.506Z"
   },
   {
    "duration": 5,
    "start_time": "2025-03-31T23:19:30.375Z"
   },
   {
    "duration": 3,
    "start_time": "2025-03-31T23:19:35.054Z"
   },
   {
    "duration": 17855,
    "start_time": "2025-03-31T23:19:36.359Z"
   },
   {
    "duration": 79,
    "start_time": "2025-03-31T23:19:54.217Z"
   },
   {
    "duration": 11,
    "start_time": "2025-03-31T23:19:54.298Z"
   },
   {
    "duration": 6,
    "start_time": "2025-03-31T23:19:54.311Z"
   },
   {
    "duration": 3,
    "start_time": "2025-03-31T23:20:50.462Z"
   },
   {
    "duration": 250428,
    "start_time": "2025-03-31T23:20:52.002Z"
   },
   {
    "duration": 406,
    "start_time": "2025-03-31T23:25:02.432Z"
   },
   {
    "duration": 15,
    "start_time": "2025-03-31T23:25:02.840Z"
   },
   {
    "duration": 18,
    "start_time": "2025-03-31T23:25:02.856Z"
   },
   {
    "duration": 16,
    "start_time": "2025-03-31T23:25:54.480Z"
   },
   {
    "duration": 41,
    "start_time": "2025-03-31T23:25:56.794Z"
   },
   {
    "duration": 7,
    "start_time": "2025-03-31T23:26:16.271Z"
   },
   {
    "duration": 625,
    "start_time": "2025-03-31T23:26:17.996Z"
   },
   {
    "duration": 21,
    "start_time": "2025-03-31T23:26:22.694Z"
   },
   {
    "duration": 623,
    "start_time": "2025-03-31T23:29:16.965Z"
   },
   {
    "duration": 15,
    "start_time": "2025-03-31T23:29:43.559Z"
   },
   {
    "duration": 49,
    "start_time": "2025-03-31T23:29:45.059Z"
   },
   {
    "duration": 6,
    "start_time": "2025-03-31T23:29:50.679Z"
   },
   {
    "duration": 940,
    "start_time": "2025-03-31T23:29:51.514Z"
   },
   {
    "duration": 23,
    "start_time": "2025-03-31T23:29:57.515Z"
   },
   {
    "duration": 867,
    "start_time": "2025-04-01T10:23:09.471Z"
   },
   {
    "duration": 55,
    "start_time": "2025-04-01T10:23:11.146Z"
   },
   {
    "duration": 17,
    "start_time": "2025-04-01T10:23:18.134Z"
   },
   {
    "duration": 11,
    "start_time": "2025-04-01T10:23:21.244Z"
   },
   {
    "duration": 7,
    "start_time": "2025-04-01T10:23:21.991Z"
   },
   {
    "duration": 5,
    "start_time": "2025-04-01T10:23:24.788Z"
   },
   {
    "duration": 5,
    "start_time": "2025-04-01T10:23:27.972Z"
   },
   {
    "duration": 6,
    "start_time": "2025-04-01T10:23:34.373Z"
   },
   {
    "duration": 11,
    "start_time": "2025-04-01T10:23:36.132Z"
   },
   {
    "duration": 4,
    "start_time": "2025-04-01T10:23:40.138Z"
   },
   {
    "duration": 8,
    "start_time": "2025-04-01T10:23:40.866Z"
   },
   {
    "duration": 13,
    "start_time": "2025-04-01T10:24:01.757Z"
   },
   {
    "duration": 279,
    "start_time": "2025-04-01T10:26:59.936Z"
   },
   {
    "duration": 7,
    "start_time": "2025-04-01T10:27:16.723Z"
   },
   {
    "duration": 12,
    "start_time": "2025-04-01T10:27:20.255Z"
   },
   {
    "duration": 6,
    "start_time": "2025-04-01T10:27:21.012Z"
   },
   {
    "duration": 3,
    "start_time": "2025-04-01T10:27:25.190Z"
   },
   {
    "duration": 14,
    "start_time": "2025-04-01T10:27:28.856Z"
   },
   {
    "duration": 785,
    "start_time": "2025-04-01T10:27:32.081Z"
   },
   {
    "duration": 3,
    "start_time": "2025-04-01T10:27:49.100Z"
   },
   {
    "duration": 33,
    "start_time": "2025-04-01T10:27:50.316Z"
   },
   {
    "duration": 21,
    "start_time": "2025-04-01T10:27:53.949Z"
   },
   {
    "duration": 5,
    "start_time": "2025-04-01T10:27:56.483Z"
   },
   {
    "duration": 6,
    "start_time": "2025-04-01T10:27:57.608Z"
   },
   {
    "duration": 5,
    "start_time": "2025-04-01T10:28:01.680Z"
   },
   {
    "duration": 3,
    "start_time": "2025-04-01T10:28:04.884Z"
   },
   {
    "duration": 7,
    "start_time": "2025-04-01T10:28:08.313Z"
   },
   {
    "duration": 9,
    "start_time": "2025-04-01T10:28:10.711Z"
   },
   {
    "duration": 5,
    "start_time": "2025-04-01T10:28:13.768Z"
   },
   {
    "duration": 17,
    "start_time": "2025-04-01T10:28:16.354Z"
   },
   {
    "duration": 15,
    "start_time": "2025-04-01T10:28:19.441Z"
   },
   {
    "duration": 9,
    "start_time": "2025-04-01T10:28:22.461Z"
   },
   {
    "duration": 5,
    "start_time": "2025-04-01T10:28:26.035Z"
   },
   {
    "duration": 4,
    "start_time": "2025-04-01T10:28:26.668Z"
   },
   {
    "duration": 6,
    "start_time": "2025-04-01T10:28:30.211Z"
   },
   {
    "duration": 13,
    "start_time": "2025-04-01T10:28:30.753Z"
   },
   {
    "duration": 3,
    "start_time": "2025-04-01T10:28:35.550Z"
   },
   {
    "duration": 167,
    "start_time": "2025-04-01T10:28:43.703Z"
   },
   {
    "duration": 3,
    "start_time": "2025-04-01T10:30:44.880Z"
   },
   {
    "duration": 2154,
    "start_time": "2025-04-01T10:30:48.955Z"
   },
   {
    "duration": 40,
    "start_time": "2025-04-01T10:30:51.453Z"
   },
   {
    "duration": 5,
    "start_time": "2025-04-01T10:30:53.523Z"
   },
   {
    "duration": 6,
    "start_time": "2025-04-01T10:32:01.654Z"
   },
   {
    "duration": 5,
    "start_time": "2025-04-01T10:32:04.011Z"
   },
   {
    "duration": 4,
    "start_time": "2025-04-01T10:32:35.110Z"
   },
   {
    "duration": 31,
    "start_time": "2025-04-01T10:32:44.179Z"
   },
   {
    "duration": 4,
    "start_time": "2025-04-01T10:32:44.919Z"
   },
   {
    "duration": 24,
    "start_time": "2025-04-01T10:32:45.640Z"
   },
   {
    "duration": 6,
    "start_time": "2025-04-01T10:32:46.451Z"
   },
   {
    "duration": 4,
    "start_time": "2025-04-01T10:34:35.230Z"
   },
   {
    "duration": 19416,
    "start_time": "2025-04-01T10:34:39.034Z"
   },
   {
    "duration": 57,
    "start_time": "2025-04-01T10:35:34.967Z"
   },
   {
    "duration": 18,
    "start_time": "2025-04-01T10:35:35.855Z"
   },
   {
    "duration": 25,
    "start_time": "2025-04-01T10:35:36.949Z"
   },
   {
    "duration": 21,
    "start_time": "2025-04-01T10:35:56.741Z"
   },
   {
    "duration": 5,
    "start_time": "2025-04-01T10:36:15.031Z"
   },
   {
    "duration": 3,
    "start_time": "2025-04-01T10:38:21.123Z"
   },
   {
    "duration": 251455,
    "start_time": "2025-04-01T10:38:22.704Z"
   },
   {
    "duration": 399,
    "start_time": "2025-04-01T10:42:34.161Z"
   },
   {
    "duration": 16,
    "start_time": "2025-04-01T10:42:34.561Z"
   },
   {
    "duration": 5,
    "start_time": "2025-04-01T10:42:34.578Z"
   },
   {
    "duration": 5,
    "start_time": "2025-04-01T10:45:50.413Z"
   },
   {
    "duration": 22,
    "start_time": "2025-04-01T10:46:59.199Z"
   },
   {
    "duration": 71,
    "start_time": "2025-04-01T10:47:02.419Z"
   },
   {
    "duration": 32,
    "start_time": "2025-04-01T10:47:15.157Z"
   },
   {
    "duration": 11,
    "start_time": "2025-04-01T10:48:26.588Z"
   },
   {
    "duration": 12,
    "start_time": "2025-04-01T10:48:28.996Z"
   },
   {
    "duration": 52,
    "start_time": "2025-04-01T10:48:31.840Z"
   },
   {
    "duration": 28,
    "start_time": "2025-04-01T10:48:34.676Z"
   },
   {
    "duration": 9,
    "start_time": "2025-04-01T10:48:48.516Z"
   },
   {
    "duration": 35,
    "start_time": "2025-04-01T10:48:51.596Z"
   },
   {
    "duration": 44,
    "start_time": "2025-04-01T10:48:54.629Z"
   },
   {
    "duration": 53,
    "start_time": "2025-04-01T10:49:02.714Z"
   },
   {
    "duration": 224,
    "start_time": "2025-04-01T10:49:05.179Z"
   },
   {
    "duration": 19,
    "start_time": "2025-04-01T10:49:12.343Z"
   },
   {
    "duration": 60,
    "start_time": "2025-04-01T10:49:14.915Z"
   },
   {
    "duration": 46,
    "start_time": "2025-04-01T10:49:16.120Z"
   },
   {
    "duration": 19,
    "start_time": "2025-04-01T10:50:38.917Z"
   },
   {
    "duration": 2139,
    "start_time": "2025-04-01T10:55:23.428Z"
   },
   {
    "duration": 40,
    "start_time": "2025-04-01T10:55:25.569Z"
   },
   {
    "duration": 3,
    "start_time": "2025-04-01T10:55:25.611Z"
   },
   {
    "duration": 5,
    "start_time": "2025-04-01T10:55:25.616Z"
   },
   {
    "duration": 21,
    "start_time": "2025-04-01T10:55:25.623Z"
   },
   {
    "duration": 3,
    "start_time": "2025-04-01T10:55:25.646Z"
   },
   {
    "duration": 33,
    "start_time": "2025-04-01T10:56:39.948Z"
   },
   {
    "duration": 44,
    "start_time": "2025-04-01T10:56:42.780Z"
   },
   {
    "duration": 28,
    "start_time": "2025-04-01T10:56:44.305Z"
   },
   {
    "duration": 11,
    "start_time": "2025-04-01T10:57:49.293Z"
   },
   {
    "duration": 59,
    "start_time": "2025-04-01T10:57:54.026Z"
   },
   {
    "duration": 27,
    "start_time": "2025-04-01T10:57:54.874Z"
   },
   {
    "duration": 7,
    "start_time": "2025-04-01T10:58:48.090Z"
   },
   {
    "duration": 674,
    "start_time": "2025-04-01T10:59:02.355Z"
   },
   {
    "duration": 345,
    "start_time": "2025-04-01T10:59:05.327Z"
   },
   {
    "duration": 352,
    "start_time": "2025-04-01T10:59:36.912Z"
   },
   {
    "duration": 716,
    "start_time": "2025-04-01T10:59:49.417Z"
   },
   {
    "duration": 7,
    "start_time": "2025-04-01T11:06:51.789Z"
   },
   {
    "duration": 657,
    "start_time": "2025-04-01T11:06:52.563Z"
   },
   {
    "duration": 343,
    "start_time": "2025-04-01T11:06:57.791Z"
   },
   {
    "duration": 2724,
    "start_time": "2025-04-01T13:49:45.561Z"
   },
   {
    "duration": 42,
    "start_time": "2025-04-01T13:49:48.287Z"
   },
   {
    "duration": 11,
    "start_time": "2025-04-01T13:49:51.697Z"
   },
   {
    "duration": 4,
    "start_time": "2025-04-01T13:49:54.163Z"
   },
   {
    "duration": 6,
    "start_time": "2025-04-01T13:49:56.798Z"
   },
   {
    "duration": 7,
    "start_time": "2025-04-01T13:49:57.550Z"
   },
   {
    "duration": 4,
    "start_time": "2025-04-01T13:50:00.204Z"
   },
   {
    "duration": 7,
    "start_time": "2025-04-01T13:50:03.284Z"
   },
   {
    "duration": 3,
    "start_time": "2025-04-01T13:50:07.306Z"
   },
   {
    "duration": 7,
    "start_time": "2025-04-01T13:50:09.846Z"
   },
   {
    "duration": 8,
    "start_time": "2025-04-01T13:50:12.750Z"
   },
   {
    "duration": 4,
    "start_time": "2025-04-01T13:50:16.160Z"
   },
   {
    "duration": 5,
    "start_time": "2025-04-01T13:50:20.399Z"
   },
   {
    "duration": 4,
    "start_time": "2025-04-01T13:50:20.835Z"
   },
   {
    "duration": 6,
    "start_time": "2025-04-01T13:50:24.056Z"
   },
   {
    "duration": 3,
    "start_time": "2025-04-01T13:50:26.237Z"
   },
   {
    "duration": 3,
    "start_time": "2025-04-01T13:50:29.179Z"
   },
   {
    "duration": 1922,
    "start_time": "2025-04-01T13:50:33.151Z"
   },
   {
    "duration": 33,
    "start_time": "2025-04-01T13:50:36.219Z"
   },
   {
    "duration": 5,
    "start_time": "2025-04-01T13:50:37.260Z"
   },
   {
    "duration": 6,
    "start_time": "2025-04-01T13:50:37.876Z"
   },
   {
    "duration": 5,
    "start_time": "2025-04-01T13:50:38.406Z"
   },
   {
    "duration": 5,
    "start_time": "2025-04-01T13:50:42.826Z"
   },
   {
    "duration": 20144,
    "start_time": "2025-04-01T13:50:45.900Z"
   },
   {
    "duration": 89,
    "start_time": "2025-04-01T13:51:06.046Z"
   },
   {
    "duration": 8,
    "start_time": "2025-04-01T13:51:06.137Z"
   },
   {
    "duration": 5,
    "start_time": "2025-04-01T13:51:06.147Z"
   },
   {
    "duration": 57,
    "start_time": "2025-04-01T13:51:06.153Z"
   },
   {
    "duration": 7,
    "start_time": "2025-04-01T13:51:06.211Z"
   },
   {
    "duration": 249263,
    "start_time": "2025-04-01T13:51:06.219Z"
   },
   {
    "duration": 777,
    "start_time": "2025-04-01T13:55:15.484Z"
   },
   {
    "duration": 29,
    "start_time": "2025-04-01T13:55:16.262Z"
   },
   {
    "duration": 17,
    "start_time": "2025-04-01T13:55:16.293Z"
   },
   {
    "duration": 5,
    "start_time": "2025-04-01T13:55:16.311Z"
   },
   {
    "duration": 18,
    "start_time": "2025-04-01T13:55:16.318Z"
   },
   {
    "duration": 45,
    "start_time": "2025-04-01T13:55:16.337Z"
   },
   {
    "duration": 47,
    "start_time": "2025-04-01T13:55:16.384Z"
   },
   {
    "duration": 6,
    "start_time": "2025-04-01T13:55:16.433Z"
   },
   {
    "duration": 1215,
    "start_time": "2025-04-01T13:55:16.442Z"
   },
   {
    "duration": 574,
    "start_time": "2025-04-01T13:55:17.659Z"
   },
   {
    "duration": 4,
    "start_time": "2025-04-01T13:58:21.456Z"
   },
   {
    "duration": 8,
    "start_time": "2025-04-01T13:58:40.104Z"
   },
   {
    "duration": 444,
    "start_time": "2025-04-01T13:58:50.332Z"
   },
   {
    "duration": 10,
    "start_time": "2025-04-01T13:59:06.899Z"
   },
   {
    "duration": 5,
    "start_time": "2025-04-01T13:59:23.156Z"
   },
   {
    "duration": 118,
    "start_time": "2025-04-01T14:04:28.072Z"
   },
   {
    "duration": 113,
    "start_time": "2025-04-01T14:04:49.401Z"
   },
   {
    "duration": 113,
    "start_time": "2025-04-01T14:05:14.092Z"
   },
   {
    "duration": 119,
    "start_time": "2025-04-01T14:05:46.773Z"
   },
   {
    "duration": 19,
    "start_time": "2025-04-01T14:06:49.747Z"
   },
   {
    "duration": 15,
    "start_time": "2025-04-01T14:07:07.961Z"
   },
   {
    "duration": 15,
    "start_time": "2025-04-01T14:07:14.241Z"
   },
   {
    "duration": 1127,
    "start_time": "2025-04-01T14:10:43.858Z"
   },
   {
    "duration": 1154,
    "start_time": "2025-04-01T14:11:46.894Z"
   },
   {
    "duration": 4,
    "start_time": "2025-04-01T14:11:58.579Z"
   },
   {
    "duration": 26,
    "start_time": "2025-04-01T14:11:59.081Z"
   },
   {
    "duration": 10,
    "start_time": "2025-04-01T14:12:02.570Z"
   },
   {
    "duration": 4,
    "start_time": "2025-04-01T14:12:04.922Z"
   },
   {
    "duration": 7,
    "start_time": "2025-04-01T14:12:05.447Z"
   },
   {
    "duration": 5,
    "start_time": "2025-04-01T14:12:07.789Z"
   },
   {
    "duration": 3,
    "start_time": "2025-04-01T14:12:10.641Z"
   },
   {
    "duration": 7,
    "start_time": "2025-04-01T14:12:12.987Z"
   },
   {
    "duration": 8,
    "start_time": "2025-04-01T14:12:13.754Z"
   },
   {
    "duration": 6,
    "start_time": "2025-04-01T14:12:17.583Z"
   },
   {
    "duration": 10,
    "start_time": "2025-04-01T14:12:20.383Z"
   },
   {
    "duration": 1134,
    "start_time": "2025-04-01T14:12:22.740Z"
   },
   {
    "duration": 8,
    "start_time": "2025-04-01T14:12:33.986Z"
   },
   {
    "duration": 1024,
    "start_time": "2025-04-01T14:12:40.200Z"
   },
   {
    "duration": 302,
    "start_time": "2025-04-01T14:15:45.060Z"
   },
   {
    "duration": 836,
    "start_time": "2025-04-01T14:16:43.590Z"
   },
   {
    "duration": 44,
    "start_time": "2025-04-01T14:16:53.045Z"
   },
   {
    "duration": 89,
    "start_time": "2025-04-01T14:17:09.545Z"
   },
   {
    "duration": 775,
    "start_time": "2025-04-01T14:19:51.171Z"
   },
   {
    "duration": 659,
    "start_time": "2025-04-01T14:21:54.912Z"
   },
   {
    "duration": 26818,
    "start_time": "2025-04-01T14:25:32.156Z"
   },
   {
    "duration": 87,
    "start_time": "2025-04-01T14:28:03.556Z"
   },
   {
    "duration": 90,
    "start_time": "2025-04-01T14:28:15.926Z"
   },
   {
    "duration": 166,
    "start_time": "2025-04-01T15:51:18.680Z"
   },
   {
    "duration": 2760,
    "start_time": "2025-04-01T15:51:27.032Z"
   },
   {
    "duration": 37,
    "start_time": "2025-04-01T15:51:29.795Z"
   },
   {
    "duration": 11,
    "start_time": "2025-04-01T15:51:30.821Z"
   },
   {
    "duration": 4,
    "start_time": "2025-04-01T15:51:34.707Z"
   },
   {
    "duration": 8,
    "start_time": "2025-04-01T15:51:36.916Z"
   },
   {
    "duration": 7,
    "start_time": "2025-04-01T15:51:37.586Z"
   },
   {
    "duration": 5,
    "start_time": "2025-04-01T15:51:40.521Z"
   },
   {
    "duration": 7,
    "start_time": "2025-04-01T15:51:43.121Z"
   },
   {
    "duration": 10,
    "start_time": "2025-04-01T15:51:45.580Z"
   },
   {
    "duration": 3,
    "start_time": "2025-04-01T15:51:47.828Z"
   },
   {
    "duration": 10,
    "start_time": "2025-04-01T15:51:50.071Z"
   },
   {
    "duration": 906,
    "start_time": "2025-04-01T15:51:53.162Z"
   },
   {
    "duration": 162,
    "start_time": "2025-04-01T15:51:56.976Z"
   },
   {
    "duration": 673,
    "start_time": "2025-04-01T15:51:58.407Z"
   },
   {
    "duration": 9,
    "start_time": "2025-04-01T15:52:02.292Z"
   },
   {
    "duration": 5,
    "start_time": "2025-04-01T15:52:05.090Z"
   },
   {
    "duration": 6,
    "start_time": "2025-04-01T15:52:08.048Z"
   },
   {
    "duration": 5,
    "start_time": "2025-04-01T15:52:09.834Z"
   },
   {
    "duration": 6,
    "start_time": "2025-04-01T15:52:12.493Z"
   },
   {
    "duration": 3,
    "start_time": "2025-04-01T15:52:15.548Z"
   },
   {
    "duration": 3,
    "start_time": "2025-04-01T15:52:18.948Z"
   },
   {
    "duration": 1981,
    "start_time": "2025-04-01T15:52:22.120Z"
   },
   {
    "duration": 40,
    "start_time": "2025-04-01T15:52:24.103Z"
   },
   {
    "duration": 4,
    "start_time": "2025-04-01T15:52:24.145Z"
   },
   {
    "duration": 5,
    "start_time": "2025-04-01T15:52:24.394Z"
   },
   {
    "duration": 4,
    "start_time": "2025-04-01T15:52:25.439Z"
   },
   {
    "duration": 3,
    "start_time": "2025-04-01T15:52:28.421Z"
   },
   {
    "duration": 20094,
    "start_time": "2025-04-01T15:52:30.362Z"
   },
   {
    "duration": 85,
    "start_time": "2025-04-01T15:52:50.458Z"
   },
   {
    "duration": 4,
    "start_time": "2025-04-01T15:52:50.544Z"
   },
   {
    "duration": 4,
    "start_time": "2025-04-01T15:52:50.550Z"
   },
   {
    "duration": 5,
    "start_time": "2025-04-01T15:52:50.556Z"
   },
   {
    "duration": 3,
    "start_time": "2025-04-01T15:52:50.562Z"
   },
   {
    "duration": 251074,
    "start_time": "2025-04-01T15:52:50.567Z"
   },
   {
    "duration": 724,
    "start_time": "2025-04-01T15:57:01.643Z"
   },
   {
    "duration": 26,
    "start_time": "2025-04-01T15:57:02.368Z"
   },
   {
    "duration": 4,
    "start_time": "2025-04-01T15:57:02.397Z"
   },
   {
    "duration": 22,
    "start_time": "2025-04-01T15:57:02.402Z"
   },
   {
    "duration": 61,
    "start_time": "2025-04-01T15:57:02.425Z"
   },
   {
    "duration": 43,
    "start_time": "2025-04-01T15:57:02.488Z"
   },
   {
    "duration": 27,
    "start_time": "2025-04-01T15:57:02.533Z"
   },
   {
    "duration": 6,
    "start_time": "2025-04-01T15:57:02.561Z"
   },
   {
    "duration": 1129,
    "start_time": "2025-04-01T15:57:02.568Z"
   },
   {
    "duration": 554,
    "start_time": "2025-04-01T15:57:03.698Z"
   },
   {
    "duration": 32,
    "start_time": "2025-04-01T15:57:04.254Z"
   },
   {
    "duration": 2,
    "start_time": "2025-04-01T15:57:04.288Z"
   },
   {
    "duration": 2005,
    "start_time": "2025-04-01T15:57:04.292Z"
   },
   {
    "duration": 9,
    "start_time": "2025-04-01T16:25:21.875Z"
   },
   {
    "duration": 7,
    "start_time": "2025-04-01T16:25:39.312Z"
   },
   {
    "duration": 192,
    "start_time": "2025-04-01T16:25:39.919Z"
   },
   {
    "duration": 4,
    "start_time": "2025-04-01T16:25:59.467Z"
   },
   {
    "duration": 6,
    "start_time": "2025-04-01T16:26:11.352Z"
   },
   {
    "duration": 4,
    "start_time": "2025-04-01T16:26:13.578Z"
   },
   {
    "duration": 59,
    "start_time": "2025-04-01T16:26:50.981Z"
   },
   {
    "duration": 77,
    "start_time": "2025-04-01T16:27:00.944Z"
   },
   {
    "duration": 6,
    "start_time": "2025-04-01T16:27:24.563Z"
   },
   {
    "duration": 7,
    "start_time": "2025-04-01T16:27:28.977Z"
   },
   {
    "duration": 3,
    "start_time": "2025-04-01T16:27:30.245Z"
   },
   {
    "duration": 3,
    "start_time": "2025-04-01T16:27:33.901Z"
   },
   {
    "duration": 1954,
    "start_time": "2025-04-01T16:27:36.834Z"
   },
   {
    "duration": 23,
    "start_time": "2025-04-01T16:27:39.234Z"
   },
   {
    "duration": 5,
    "start_time": "2025-04-01T16:27:41.417Z"
   },
   {
    "duration": 5,
    "start_time": "2025-04-01T16:27:43.028Z"
   },
   {
    "duration": 15,
    "start_time": "2025-04-01T16:28:07.233Z"
   },
   {
    "duration": 35,
    "start_time": "2025-04-01T16:28:09.514Z"
   },
   {
    "duration": 25,
    "start_time": "2025-04-01T16:28:13.732Z"
   },
   {
    "duration": 3,
    "start_time": "2025-04-01T16:28:44.807Z"
   },
   {
    "duration": 19808,
    "start_time": "2025-04-01T16:28:45.641Z"
   },
   {
    "duration": 46,
    "start_time": "2025-04-01T16:29:05.451Z"
   },
   {
    "duration": 25,
    "start_time": "2025-04-01T16:29:05.499Z"
   },
   {
    "duration": 6,
    "start_time": "2025-04-01T16:29:05.526Z"
   },
   {
    "duration": 4,
    "start_time": "2025-04-01T16:29:05.533Z"
   },
   {
    "duration": 4,
    "start_time": "2025-04-01T16:29:07.720Z"
   },
   {
    "duration": 3,
    "start_time": "2025-04-01T16:29:44.130Z"
   },
   {
    "duration": 255146,
    "start_time": "2025-04-01T16:29:44.761Z"
   },
   {
    "duration": 395,
    "start_time": "2025-04-01T16:33:59.910Z"
   },
   {
    "duration": 20,
    "start_time": "2025-04-01T16:34:00.307Z"
   },
   {
    "duration": 6,
    "start_time": "2025-04-01T16:34:00.329Z"
   },
   {
    "duration": 4,
    "start_time": "2025-04-01T16:34:00.337Z"
   },
   {
    "duration": 214,
    "start_time": "2025-04-01T16:38:07.468Z"
   },
   {
    "duration": 7,
    "start_time": "2025-04-01T16:38:38.075Z"
   },
   {
    "duration": 3,
    "start_time": "2025-04-01T16:39:04.646Z"
   },
   {
    "duration": 6,
    "start_time": "2025-04-01T16:39:16.844Z"
   },
   {
    "duration": 6,
    "start_time": "2025-04-01T16:42:57.709Z"
   },
   {
    "duration": 6,
    "start_time": "2025-04-01T16:45:13.016Z"
   },
   {
    "duration": 3,
    "start_time": "2025-04-01T16:45:41.005Z"
   },
   {
    "duration": 1968,
    "start_time": "2025-04-01T16:45:43.886Z"
   },
   {
    "duration": 22,
    "start_time": "2025-04-01T16:45:45.856Z"
   },
   {
    "duration": 7,
    "start_time": "2025-04-01T16:45:46.048Z"
   },
   {
    "duration": 5,
    "start_time": "2025-04-01T16:45:47.384Z"
   },
   {
    "duration": 5,
    "start_time": "2025-04-01T16:45:48.202Z"
   },
   {
    "duration": 5,
    "start_time": "2025-04-01T16:46:35.271Z"
   },
   {
    "duration": 3,
    "start_time": "2025-04-01T16:46:41.447Z"
   },
   {
    "duration": 255516,
    "start_time": "2025-04-01T16:46:44.272Z"
   },
   {
    "duration": 1215,
    "start_time": "2025-04-01T16:50:59.790Z"
   },
   {
    "duration": 40,
    "start_time": "2025-04-01T16:51:01.007Z"
   },
   {
    "duration": 4,
    "start_time": "2025-04-01T16:51:01.049Z"
   },
   {
    "duration": 5,
    "start_time": "2025-04-01T16:51:01.055Z"
   },
   {
    "duration": 6,
    "start_time": "2025-04-01T16:51:56.747Z"
   },
   {
    "duration": 4,
    "start_time": "2025-04-01T16:51:58.162Z"
   },
   {
    "duration": 5,
    "start_time": "2025-04-01T16:52:01.425Z"
   },
   {
    "duration": 7,
    "start_time": "2025-04-01T16:52:11.414Z"
   },
   {
    "duration": 3,
    "start_time": "2025-04-01T16:55:40.271Z"
   },
   {
    "duration": 25,
    "start_time": "2025-04-01T16:55:41.324Z"
   },
   {
    "duration": 10,
    "start_time": "2025-04-01T16:55:45.146Z"
   },
   {
    "duration": 3,
    "start_time": "2025-04-01T16:55:47.853Z"
   },
   {
    "duration": 7,
    "start_time": "2025-04-01T16:55:48.520Z"
   },
   {
    "duration": 6,
    "start_time": "2025-04-01T16:55:50.032Z"
   },
   {
    "duration": 4,
    "start_time": "2025-04-01T16:55:53.978Z"
   },
   {
    "duration": 8,
    "start_time": "2025-04-01T16:55:56.592Z"
   },
   {
    "duration": 10,
    "start_time": "2025-04-01T16:55:58.202Z"
   },
   {
    "duration": 4,
    "start_time": "2025-04-01T16:56:01.327Z"
   },
   {
    "duration": 9,
    "start_time": "2025-04-01T16:56:04.101Z"
   },
   {
    "duration": 861,
    "start_time": "2025-04-01T16:56:07.477Z"
   },
   {
    "duration": 96,
    "start_time": "2025-04-01T16:56:10.974Z"
   },
   {
    "duration": 755,
    "start_time": "2025-04-01T16:56:12.820Z"
   },
   {
    "duration": 10,
    "start_time": "2025-04-01T16:56:16.872Z"
   },
   {
    "duration": 5,
    "start_time": "2025-04-01T16:56:20.342Z"
   },
   {
    "duration": 9,
    "start_time": "2025-04-01T16:56:23.326Z"
   },
   {
    "duration": 7,
    "start_time": "2025-04-01T16:56:24.143Z"
   },
   {
    "duration": 6,
    "start_time": "2025-04-01T16:56:26.659Z"
   },
   {
    "duration": 3,
    "start_time": "2025-04-01T16:56:27.344Z"
   },
   {
    "duration": 3,
    "start_time": "2025-04-01T16:56:31.622Z"
   },
   {
    "duration": 2115,
    "start_time": "2025-04-01T16:56:34.929Z"
   },
   {
    "duration": 25,
    "start_time": "2025-04-01T16:56:37.047Z"
   },
   {
    "duration": 4,
    "start_time": "2025-04-01T16:56:37.075Z"
   },
   {
    "duration": 5,
    "start_time": "2025-04-01T16:56:37.082Z"
   },
   {
    "duration": 4,
    "start_time": "2025-04-01T16:56:39.191Z"
   },
   {
    "duration": 12,
    "start_time": "2025-04-01T16:56:53.763Z"
   },
   {
    "duration": 33,
    "start_time": "2025-04-01T16:56:56.312Z"
   },
   {
    "duration": 23,
    "start_time": "2025-04-01T16:56:59.811Z"
   },
   {
    "duration": 14,
    "start_time": "2025-04-01T16:57:36.401Z"
   },
   {
    "duration": 43,
    "start_time": "2025-04-01T16:57:39.137Z"
   },
   {
    "duration": 23,
    "start_time": "2025-04-01T16:57:41.730Z"
   },
   {
    "duration": 10,
    "start_time": "2025-04-01T16:57:50.332Z"
   },
   {
    "duration": 27,
    "start_time": "2025-04-01T16:57:53.742Z"
   },
   {
    "duration": 23,
    "start_time": "2025-04-01T16:57:55.593Z"
   },
   {
    "duration": 12,
    "start_time": "2025-04-01T16:58:03.577Z"
   },
   {
    "duration": 30,
    "start_time": "2025-04-01T16:58:07.911Z"
   },
   {
    "duration": 25,
    "start_time": "2025-04-01T16:58:09.100Z"
   },
   {
    "duration": 39,
    "start_time": "2025-04-01T17:03:25.906Z"
   },
   {
    "duration": 39,
    "start_time": "2025-04-01T17:03:29.861Z"
   },
   {
    "duration": 979,
    "start_time": "2025-04-01T17:04:31.009Z"
   },
   {
    "duration": 35,
    "start_time": "2025-04-01T17:04:31.990Z"
   },
   {
    "duration": 11,
    "start_time": "2025-04-01T17:04:35.499Z"
   },
   {
    "duration": 4,
    "start_time": "2025-04-01T17:04:38.493Z"
   },
   {
    "duration": 7,
    "start_time": "2025-04-01T17:04:39.138Z"
   },
   {
    "duration": 5,
    "start_time": "2025-04-01T17:04:41.880Z"
   },
   {
    "duration": 4,
    "start_time": "2025-04-01T17:04:44.826Z"
   },
   {
    "duration": 8,
    "start_time": "2025-04-01T17:04:47.806Z"
   },
   {
    "duration": 10,
    "start_time": "2025-04-01T17:04:48.709Z"
   },
   {
    "duration": 5,
    "start_time": "2025-04-01T17:04:51.975Z"
   },
   {
    "duration": 9,
    "start_time": "2025-04-01T17:04:54.653Z"
   },
   {
    "duration": 898,
    "start_time": "2025-04-01T17:04:57.201Z"
   },
   {
    "duration": 96,
    "start_time": "2025-04-01T17:04:59.480Z"
   },
   {
    "duration": 9,
    "start_time": "2025-04-01T17:05:02.941Z"
   },
   {
    "duration": 5,
    "start_time": "2025-04-01T17:05:06.303Z"
   },
   {
    "duration": 7,
    "start_time": "2025-04-01T17:05:08.716Z"
   },
   {
    "duration": 5,
    "start_time": "2025-04-01T17:05:09.131Z"
   },
   {
    "duration": 5,
    "start_time": "2025-04-01T17:05:11.345Z"
   },
   {
    "duration": 4,
    "start_time": "2025-04-01T17:05:12.271Z"
   },
   {
    "duration": 4,
    "start_time": "2025-04-01T17:05:15.587Z"
   },
   {
    "duration": 1972,
    "start_time": "2025-04-01T17:05:19.853Z"
   },
   {
    "duration": 23,
    "start_time": "2025-04-01T17:05:21.827Z"
   },
   {
    "duration": 4,
    "start_time": "2025-04-01T17:05:21.851Z"
   },
   {
    "duration": 4,
    "start_time": "2025-04-01T17:05:22.074Z"
   },
   {
    "duration": 6,
    "start_time": "2025-04-01T17:05:29.281Z"
   },
   {
    "duration": 20022,
    "start_time": "2025-04-01T17:05:30.339Z"
   },
   {
    "duration": 95,
    "start_time": "2025-04-01T17:05:50.363Z"
   },
   {
    "duration": 6,
    "start_time": "2025-04-01T17:05:50.460Z"
   },
   {
    "duration": 8,
    "start_time": "2025-04-01T17:05:50.469Z"
   },
   {
    "duration": 49,
    "start_time": "2025-04-01T17:05:50.478Z"
   },
   {
    "duration": 4,
    "start_time": "2025-04-01T17:05:50.529Z"
   },
   {
    "duration": 254874,
    "start_time": "2025-04-01T17:05:50.535Z"
   },
   {
    "duration": 1072,
    "start_time": "2025-04-01T17:10:05.411Z"
   },
   {
    "duration": 44,
    "start_time": "2025-04-01T17:10:06.485Z"
   },
   {
    "duration": 5,
    "start_time": "2025-04-01T17:10:06.531Z"
   },
   {
    "duration": 5,
    "start_time": "2025-04-01T17:10:06.537Z"
   },
   {
    "duration": 17,
    "start_time": "2025-04-01T17:10:06.543Z"
   },
   {
    "duration": 30,
    "start_time": "2025-04-01T17:10:06.561Z"
   },
   {
    "duration": 42,
    "start_time": "2025-04-01T17:10:06.592Z"
   },
   {
    "duration": 6,
    "start_time": "2025-04-01T17:10:06.635Z"
   },
   {
    "duration": 1522,
    "start_time": "2025-04-01T17:10:06.643Z"
   },
   {
    "duration": 805,
    "start_time": "2025-04-01T17:10:08.167Z"
   },
   {
    "duration": 53,
    "start_time": "2025-04-01T17:10:08.974Z"
   },
   {
    "duration": 3,
    "start_time": "2025-04-01T17:12:13.384Z"
   },
   {
    "duration": 254768,
    "start_time": "2025-04-01T17:12:19.311Z"
   },
   {
    "duration": 1062,
    "start_time": "2025-04-01T17:16:34.081Z"
   },
   {
    "duration": 35,
    "start_time": "2025-04-01T17:16:35.145Z"
   },
   {
    "duration": 5,
    "start_time": "2025-04-01T17:16:35.182Z"
   },
   {
    "duration": 4,
    "start_time": "2025-04-01T17:16:35.189Z"
   },
   {
    "duration": 3,
    "start_time": "2025-04-01T17:24:24.634Z"
   },
   {
    "duration": 21078,
    "start_time": "2025-04-01T17:24:26.616Z"
   },
   {
    "duration": 1545,
    "start_time": "2025-04-01T17:26:13.864Z"
   },
   {
    "duration": 58,
    "start_time": "2025-04-01T17:26:15.411Z"
   },
   {
    "duration": 5,
    "start_time": "2025-04-01T17:26:15.470Z"
   },
   {
    "duration": 6,
    "start_time": "2025-04-01T17:26:16.400Z"
   },
   {
    "duration": 59,
    "start_time": "2025-04-01T17:26:38.151Z"
   },
   {
    "duration": 5,
    "start_time": "2025-04-01T17:26:38.705Z"
   },
   {
    "duration": 5,
    "start_time": "2025-04-01T17:26:39.688Z"
   },
   {
    "duration": 3,
    "start_time": "2025-04-01T17:27:38.524Z"
   },
   {
    "duration": 20617,
    "start_time": "2025-04-01T17:27:39.680Z"
   },
   {
    "duration": 767,
    "start_time": "2025-04-01T17:28:45.769Z"
   },
   {
    "duration": 28,
    "start_time": "2025-04-01T17:28:46.788Z"
   },
   {
    "duration": 6,
    "start_time": "2025-04-01T17:28:49.105Z"
   },
   {
    "duration": 5,
    "start_time": "2025-04-01T17:28:50.354Z"
   },
   {
    "duration": 1062,
    "start_time": "2025-04-01T17:31:02.928Z"
   },
   {
    "duration": 33,
    "start_time": "2025-04-01T17:31:03.993Z"
   },
   {
    "duration": 14,
    "start_time": "2025-04-01T17:31:07.953Z"
   },
   {
    "duration": 4,
    "start_time": "2025-04-01T17:31:11.001Z"
   },
   {
    "duration": 7,
    "start_time": "2025-04-01T17:31:11.676Z"
   },
   {
    "duration": 6,
    "start_time": "2025-04-01T17:31:13.971Z"
   },
   {
    "duration": 5,
    "start_time": "2025-04-01T17:31:16.907Z"
   },
   {
    "duration": 7,
    "start_time": "2025-04-01T17:31:19.802Z"
   },
   {
    "duration": 11,
    "start_time": "2025-04-01T17:31:21.962Z"
   },
   {
    "duration": 4,
    "start_time": "2025-04-01T17:31:25.584Z"
   },
   {
    "duration": 9,
    "start_time": "2025-04-01T17:31:27.526Z"
   },
   {
    "duration": 923,
    "start_time": "2025-04-01T17:31:28.939Z"
   },
   {
    "duration": 106,
    "start_time": "2025-04-01T17:31:31.154Z"
   },
   {
    "duration": 669,
    "start_time": "2025-04-01T17:31:32.119Z"
   },
   {
    "duration": 9,
    "start_time": "2025-04-01T17:31:35.718Z"
   },
   {
    "duration": 4,
    "start_time": "2025-04-01T17:31:38.909Z"
   },
   {
    "duration": 8,
    "start_time": "2025-04-01T17:31:42.273Z"
   },
   {
    "duration": 6,
    "start_time": "2025-04-01T17:31:42.727Z"
   },
   {
    "duration": 5,
    "start_time": "2025-04-01T17:31:45.565Z"
   },
   {
    "duration": 3,
    "start_time": "2025-04-01T17:31:46.210Z"
   },
   {
    "duration": 4,
    "start_time": "2025-04-01T17:31:55.624Z"
   },
   {
    "duration": 2056,
    "start_time": "2025-04-01T17:31:58.568Z"
   },
   {
    "duration": 23,
    "start_time": "2025-04-01T17:32:00.626Z"
   },
   {
    "duration": 4,
    "start_time": "2025-04-01T17:32:00.650Z"
   },
   {
    "duration": 6,
    "start_time": "2025-04-01T17:32:00.856Z"
   },
   {
    "duration": 3,
    "start_time": "2025-04-01T17:32:12.837Z"
   },
   {
    "duration": 20438,
    "start_time": "2025-04-01T17:32:13.504Z"
   },
   {
    "duration": 49,
    "start_time": "2025-04-01T17:32:33.944Z"
   },
   {
    "duration": 30,
    "start_time": "2025-04-01T17:32:33.995Z"
   },
   {
    "duration": 5,
    "start_time": "2025-04-01T17:32:34.028Z"
   },
   {
    "duration": 4,
    "start_time": "2025-04-01T17:32:34.035Z"
   },
   {
    "duration": 6,
    "start_time": "2025-04-01T17:33:11.217Z"
   },
   {
    "duration": 3,
    "start_time": "2025-04-01T17:33:17.450Z"
   },
   {
    "duration": 20342,
    "start_time": "2025-04-01T17:33:18.552Z"
   },
   {
    "duration": 769,
    "start_time": "2025-04-01T17:33:38.896Z"
   },
   {
    "duration": 26,
    "start_time": "2025-04-01T17:33:39.667Z"
   },
   {
    "duration": 4,
    "start_time": "2025-04-01T17:33:39.696Z"
   },
   {
    "duration": 24,
    "start_time": "2025-04-01T17:33:39.702Z"
   },
   {
    "duration": 22,
    "start_time": "2025-04-01T17:34:49.585Z"
   },
   {
    "duration": 31,
    "start_time": "2025-04-01T17:34:52.937Z"
   },
   {
    "duration": 22,
    "start_time": "2025-04-01T17:34:54.396Z"
   },
   {
    "duration": 7,
    "start_time": "2025-04-01T17:35:00.767Z"
   },
   {
    "duration": 1040,
    "start_time": "2025-04-01T17:35:01.394Z"
   },
   {
    "duration": 575,
    "start_time": "2025-04-01T17:35:02.436Z"
   },
   {
    "duration": 3,
    "start_time": "2025-04-01T17:36:52.017Z"
   },
   {
    "duration": 253849,
    "start_time": "2025-04-01T17:36:53.971Z"
   },
   {
    "duration": 715,
    "start_time": "2025-04-01T17:41:07.824Z"
   },
   {
    "duration": 25,
    "start_time": "2025-04-01T17:41:08.541Z"
   },
   {
    "duration": 5,
    "start_time": "2025-04-01T17:41:08.569Z"
   },
   {
    "duration": 4,
    "start_time": "2025-04-01T17:41:08.576Z"
   },
   {
    "duration": 12,
    "start_time": "2025-04-01T17:42:34.193Z"
   },
   {
    "duration": 38,
    "start_time": "2025-04-01T17:42:37.016Z"
   },
   {
    "duration": 22,
    "start_time": "2025-04-01T17:42:40.916Z"
   },
   {
    "duration": 7,
    "start_time": "2025-04-01T17:42:51.541Z"
   },
   {
    "duration": 1144,
    "start_time": "2025-04-01T17:42:55.197Z"
   },
   {
    "duration": 552,
    "start_time": "2025-04-01T17:42:58.314Z"
   },
   {
    "duration": 4,
    "start_time": "2025-04-01T17:45:15.000Z"
   },
   {
    "duration": 9,
    "start_time": "2025-04-01T17:45:21.299Z"
   },
   {
    "duration": 5,
    "start_time": "2025-04-01T17:45:28.636Z"
   },
   {
    "duration": 1022,
    "start_time": "2025-04-01T17:49:17.027Z"
   },
   {
    "duration": 4,
    "start_time": "2025-04-01T17:49:33.522Z"
   },
   {
    "duration": 29,
    "start_time": "2025-04-01T17:49:34.067Z"
   },
   {
    "duration": 10,
    "start_time": "2025-04-01T17:49:38.692Z"
   },
   {
    "duration": 4,
    "start_time": "2025-04-01T17:49:40.448Z"
   },
   {
    "duration": 7,
    "start_time": "2025-04-01T17:49:42.185Z"
   },
   {
    "duration": 7,
    "start_time": "2025-04-01T17:49:44.343Z"
   },
   {
    "duration": 4,
    "start_time": "2025-04-01T17:49:47.136Z"
   },
   {
    "duration": 9,
    "start_time": "2025-04-01T17:49:50.132Z"
   },
   {
    "duration": 13,
    "start_time": "2025-04-01T17:49:50.885Z"
   },
   {
    "duration": 4,
    "start_time": "2025-04-01T17:49:53.546Z"
   },
   {
    "duration": 14,
    "start_time": "2025-04-01T17:49:56.815Z"
   },
   {
    "duration": 15,
    "start_time": "2025-04-01T17:49:57.675Z"
   },
   {
    "duration": 14,
    "start_time": "2025-04-01T17:50:22.136Z"
   },
   {
    "duration": 3,
    "start_time": "2025-04-01T17:50:31.439Z"
   },
   {
    "duration": 27,
    "start_time": "2025-04-01T17:50:31.864Z"
   },
   {
    "duration": 10,
    "start_time": "2025-04-01T17:50:35.649Z"
   },
   {
    "duration": 4,
    "start_time": "2025-04-01T17:50:38.966Z"
   },
   {
    "duration": 7,
    "start_time": "2025-04-01T17:50:40.170Z"
   },
   {
    "duration": 4,
    "start_time": "2025-04-01T17:50:43.184Z"
   },
   {
    "duration": 7,
    "start_time": "2025-04-01T17:50:45.780Z"
   },
   {
    "duration": 10,
    "start_time": "2025-04-01T17:50:46.597Z"
   },
   {
    "duration": 5,
    "start_time": "2025-04-01T17:50:49.165Z"
   },
   {
    "duration": 9,
    "start_time": "2025-04-01T17:50:51.651Z"
   },
   {
    "duration": 859,
    "start_time": "2025-04-01T17:50:52.385Z"
   },
   {
    "duration": 33,
    "start_time": "2025-04-01T17:54:53.357Z"
   },
   {
    "duration": 567,
    "start_time": "2025-04-01T17:57:50.118Z"
   },
   {
    "duration": 1178,
    "start_time": "2025-04-01T17:58:44.560Z"
   },
   {
    "duration": 1184,
    "start_time": "2025-04-01T18:00:56.917Z"
   },
   {
    "duration": 38,
    "start_time": "2025-04-01T18:00:58.103Z"
   },
   {
    "duration": 11,
    "start_time": "2025-04-01T18:01:02.053Z"
   },
   {
    "duration": 4,
    "start_time": "2025-04-01T18:01:04.573Z"
   },
   {
    "duration": 7,
    "start_time": "2025-04-01T18:01:05.171Z"
   },
   {
    "duration": 5,
    "start_time": "2025-04-01T18:01:07.357Z"
   },
   {
    "duration": 4,
    "start_time": "2025-04-01T18:01:09.980Z"
   },
   {
    "duration": 8,
    "start_time": "2025-04-01T18:01:12.621Z"
   },
   {
    "duration": 9,
    "start_time": "2025-04-01T18:01:15.980Z"
   },
   {
    "duration": 5,
    "start_time": "2025-04-01T18:01:19.185Z"
   },
   {
    "duration": 9,
    "start_time": "2025-04-01T18:01:21.474Z"
   },
   {
    "duration": 107,
    "start_time": "2025-04-01T18:01:24.470Z"
   },
   {
    "duration": 715,
    "start_time": "2025-04-01T18:01:27.617Z"
   },
   {
    "duration": 11,
    "start_time": "2025-04-01T18:01:31.785Z"
   },
   {
    "duration": 5,
    "start_time": "2025-04-01T18:01:35.096Z"
   },
   {
    "duration": 8,
    "start_time": "2025-04-01T18:01:37.851Z"
   },
   {
    "duration": 6,
    "start_time": "2025-04-01T18:01:38.393Z"
   },
   {
    "duration": 6,
    "start_time": "2025-04-01T18:01:40.954Z"
   },
   {
    "duration": 3,
    "start_time": "2025-04-01T18:01:41.520Z"
   },
   {
    "duration": 243,
    "start_time": "2025-04-01T18:01:45.376Z"
   },
   {
    "duration": 15,
    "start_time": "2025-04-01T18:02:04.595Z"
   },
   {
    "duration": 3,
    "start_time": "2025-04-01T18:02:07.249Z"
   },
   {
    "duration": 1956,
    "start_time": "2025-04-01T18:02:11.042Z"
   },
   {
    "duration": 31,
    "start_time": "2025-04-01T18:02:13.000Z"
   },
   {
    "duration": 4,
    "start_time": "2025-04-01T18:02:13.050Z"
   },
   {
    "duration": 5,
    "start_time": "2025-04-01T18:02:14.442Z"
   },
   {
    "duration": 5,
    "start_time": "2025-04-01T18:02:15.413Z"
   },
   {
    "duration": 4,
    "start_time": "2025-04-01T18:02:18.574Z"
   },
   {
    "duration": 10280,
    "start_time": "2025-04-01T18:02:19.143Z"
   },
   {
    "duration": 26,
    "start_time": "2025-04-01T18:02:29.425Z"
   },
   {
    "duration": 4,
    "start_time": "2025-04-01T18:02:29.452Z"
   },
   {
    "duration": 5,
    "start_time": "2025-04-01T18:02:29.459Z"
   },
   {
    "duration": 59,
    "start_time": "2025-04-01T18:02:29.466Z"
   },
   {
    "duration": 5,
    "start_time": "2025-04-01T18:02:29.527Z"
   },
   {
    "duration": 15,
    "start_time": "2025-04-01T18:02:29.534Z"
   },
   {
    "duration": 0,
    "start_time": "2025-04-01T18:02:29.626Z"
   },
   {
    "duration": 6,
    "start_time": "2025-04-01T18:02:29.629Z"
   },
   {
    "duration": 258287,
    "start_time": "2025-04-01T18:02:44.223Z"
   },
   {
    "duration": 740,
    "start_time": "2025-04-01T18:07:02.511Z"
   },
   {
    "duration": 25,
    "start_time": "2025-04-01T18:07:03.253Z"
   },
   {
    "duration": 4,
    "start_time": "2025-04-01T18:07:03.281Z"
   },
   {
    "duration": 5,
    "start_time": "2025-04-01T18:07:03.287Z"
   },
   {
    "duration": 42,
    "start_time": "2025-04-01T18:07:03.293Z"
   },
   {
    "duration": 33,
    "start_time": "2025-04-01T18:07:03.348Z"
   },
   {
    "duration": 21,
    "start_time": "2025-04-01T18:07:03.384Z"
   },
   {
    "duration": 7,
    "start_time": "2025-04-01T18:07:03.407Z"
   },
   {
    "duration": 1168,
    "start_time": "2025-04-01T18:07:03.418Z"
   },
   {
    "duration": 551,
    "start_time": "2025-04-01T18:07:04.588Z"
   },
   {
    "duration": 23,
    "start_time": "2025-04-01T18:07:05.152Z"
   },
   {
    "duration": 568,
    "start_time": "2025-04-01T18:07:05.177Z"
   },
   {
    "duration": 1148,
    "start_time": "2025-04-01T18:07:05.746Z"
   },
   {
    "duration": 17,
    "start_time": "2025-04-01T18:07:37.697Z"
   },
   {
    "duration": 43,
    "start_time": "2025-04-01T18:07:40.751Z"
   },
   {
    "duration": 1005,
    "start_time": "2025-04-01T18:08:44.280Z"
   },
   {
    "duration": 30,
    "start_time": "2025-04-01T18:08:45.287Z"
   },
   {
    "duration": 11,
    "start_time": "2025-04-01T18:08:47.327Z"
   },
   {
    "duration": 3,
    "start_time": "2025-04-01T18:08:49.696Z"
   },
   {
    "duration": 7,
    "start_time": "2025-04-01T18:08:50.311Z"
   },
   {
    "duration": 6,
    "start_time": "2025-04-01T18:08:52.719Z"
   },
   {
    "duration": 4,
    "start_time": "2025-04-01T18:08:55.501Z"
   },
   {
    "duration": 7,
    "start_time": "2025-04-01T18:08:57.584Z"
   },
   {
    "duration": 9,
    "start_time": "2025-04-01T18:08:59.887Z"
   },
   {
    "duration": 4,
    "start_time": "2025-04-01T18:09:02.633Z"
   },
   {
    "duration": 9,
    "start_time": "2025-04-01T18:09:04.826Z"
   },
   {
    "duration": 925,
    "start_time": "2025-04-01T18:09:08.384Z"
   },
   {
    "duration": 92,
    "start_time": "2025-04-01T18:09:14.066Z"
   },
   {
    "duration": 623,
    "start_time": "2025-04-01T18:09:15.985Z"
   },
   {
    "duration": 8,
    "start_time": "2025-04-01T18:09:18.596Z"
   },
   {
    "duration": 5,
    "start_time": "2025-04-01T18:09:21.301Z"
   },
   {
    "duration": 8,
    "start_time": "2025-04-01T18:09:23.760Z"
   },
   {
    "duration": 5,
    "start_time": "2025-04-01T18:09:25.012Z"
   },
   {
    "duration": 6,
    "start_time": "2025-04-01T18:09:27.617Z"
   },
   {
    "duration": 4,
    "start_time": "2025-04-01T18:09:28.065Z"
   },
   {
    "duration": 4,
    "start_time": "2025-04-01T18:09:30.638Z"
   },
   {
    "duration": 2112,
    "start_time": "2025-04-01T18:09:33.647Z"
   },
   {
    "duration": 23,
    "start_time": "2025-04-01T18:09:35.762Z"
   },
   {
    "duration": 5,
    "start_time": "2025-04-01T18:09:35.787Z"
   },
   {
    "duration": 4,
    "start_time": "2025-04-01T18:09:35.795Z"
   },
   {
    "duration": 3,
    "start_time": "2025-04-01T18:09:41.713Z"
   },
   {
    "duration": 18705,
    "start_time": "2025-04-01T18:09:42.560Z"
   },
   {
    "duration": 71,
    "start_time": "2025-04-01T18:10:01.267Z"
   },
   {
    "duration": 6,
    "start_time": "2025-04-01T18:10:01.342Z"
   },
   {
    "duration": 7,
    "start_time": "2025-04-01T18:10:01.353Z"
   },
   {
    "duration": 3,
    "start_time": "2025-04-01T18:10:07.755Z"
   },
   {
    "duration": 265402,
    "start_time": "2025-04-01T18:10:08.299Z"
   },
   {
    "duration": 749,
    "start_time": "2025-04-01T18:14:33.703Z"
   },
   {
    "duration": 29,
    "start_time": "2025-04-01T18:14:34.453Z"
   },
   {
    "duration": 4,
    "start_time": "2025-04-01T18:14:34.484Z"
   },
   {
    "duration": 4,
    "start_time": "2025-04-01T18:14:34.490Z"
   },
   {
    "duration": 17,
    "start_time": "2025-04-01T18:14:34.496Z"
   },
   {
    "duration": 49,
    "start_time": "2025-04-01T18:14:34.514Z"
   },
   {
    "duration": 22,
    "start_time": "2025-04-01T18:14:34.565Z"
   },
   {
    "duration": 6,
    "start_time": "2025-04-01T18:14:34.588Z"
   },
   {
    "duration": 1209,
    "start_time": "2025-04-01T18:14:34.597Z"
   },
   {
    "duration": 561,
    "start_time": "2025-04-01T18:14:35.808Z"
   },
   {
    "duration": 32,
    "start_time": "2025-04-01T18:14:36.370Z"
   },
   {
    "duration": 567,
    "start_time": "2025-04-01T18:14:36.404Z"
   },
   {
    "duration": 1171,
    "start_time": "2025-04-01T18:14:36.972Z"
   },
   {
    "duration": 249,
    "start_time": "2025-04-01T18:17:11.080Z"
   },
   {
    "duration": 4,
    "start_time": "2025-04-01T18:17:20.233Z"
   },
   {
    "duration": 11,
    "start_time": "2025-04-01T18:18:19.089Z"
   },
   {
    "duration": 61,
    "start_time": "2025-04-01T18:18:29.290Z"
   },
   {
    "duration": 22,
    "start_time": "2025-04-01T18:18:31.248Z"
   },
   {
    "duration": 7,
    "start_time": "2025-04-01T18:18:58.458Z"
   },
   {
    "duration": 1278,
    "start_time": "2025-04-01T18:19:06.611Z"
   },
   {
    "duration": 618,
    "start_time": "2025-04-01T18:19:07.892Z"
   },
   {
    "duration": 602,
    "start_time": "2025-04-01T18:20:08.069Z"
   },
   {
    "duration": 35,
    "start_time": "2025-04-01T18:22:11.216Z"
   },
   {
    "duration": 34,
    "start_time": "2025-04-01T18:22:15.290Z"
   },
   {
    "duration": 34,
    "start_time": "2025-04-01T18:23:54.441Z"
   },
   {
    "duration": 38,
    "start_time": "2025-04-01T18:24:24.558Z"
   },
   {
    "duration": 1358,
    "start_time": "2025-04-01T18:25:40.566Z"
   },
   {
    "duration": 41,
    "start_time": "2025-04-01T18:25:41.980Z"
   },
   {
    "duration": 632,
    "start_time": "2025-04-01T18:25:44.243Z"
   },
   {
    "duration": 38,
    "start_time": "2025-04-01T18:26:24.265Z"
   },
   {
    "duration": 36,
    "start_time": "2025-04-01T18:28:45.501Z"
   },
   {
    "duration": 612,
    "start_time": "2025-04-01T18:30:03.336Z"
   },
   {
    "duration": 41,
    "start_time": "2025-04-01T18:31:01.273Z"
   },
   {
    "duration": 563,
    "start_time": "2025-04-01T18:36:35.661Z"
   },
   {
    "duration": 2886,
    "start_time": "2025-04-02T04:01:03.477Z"
   },
   {
    "duration": 40,
    "start_time": "2025-04-02T04:01:06.369Z"
   },
   {
    "duration": 10,
    "start_time": "2025-04-02T04:01:06.411Z"
   },
   {
    "duration": 3,
    "start_time": "2025-04-02T04:01:06.423Z"
   },
   {
    "duration": 6,
    "start_time": "2025-04-02T04:01:06.428Z"
   },
   {
    "duration": 4,
    "start_time": "2025-04-02T04:01:06.436Z"
   },
   {
    "duration": 4,
    "start_time": "2025-04-02T04:01:06.442Z"
   },
   {
    "duration": 27,
    "start_time": "2025-04-02T04:01:06.447Z"
   },
   {
    "duration": 9,
    "start_time": "2025-04-02T04:01:06.476Z"
   },
   {
    "duration": 3,
    "start_time": "2025-04-02T04:01:06.486Z"
   },
   {
    "duration": 7,
    "start_time": "2025-04-02T04:01:06.491Z"
   },
   {
    "duration": 992,
    "start_time": "2025-04-02T04:01:06.499Z"
   },
   {
    "duration": 91,
    "start_time": "2025-04-02T04:01:07.492Z"
   },
   {
    "duration": 691,
    "start_time": "2025-04-02T04:01:07.587Z"
   },
   {
    "duration": 11,
    "start_time": "2025-04-02T04:01:08.280Z"
   },
   {
    "duration": 5,
    "start_time": "2025-04-02T04:01:08.293Z"
   },
   {
    "duration": 8,
    "start_time": "2025-04-02T04:01:08.300Z"
   },
   {
    "duration": 6,
    "start_time": "2025-04-02T04:01:08.310Z"
   },
   {
    "duration": 7,
    "start_time": "2025-04-02T04:01:08.319Z"
   },
   {
    "duration": 4,
    "start_time": "2025-04-02T04:01:08.329Z"
   },
   {
    "duration": 38,
    "start_time": "2025-04-02T04:01:08.335Z"
   },
   {
    "duration": 1939,
    "start_time": "2025-04-02T04:01:08.375Z"
   },
   {
    "duration": 22,
    "start_time": "2025-04-02T04:01:10.316Z"
   },
   {
    "duration": 4,
    "start_time": "2025-04-02T04:01:10.340Z"
   },
   {
    "duration": 4,
    "start_time": "2025-04-02T04:01:10.346Z"
   },
   {
    "duration": 21,
    "start_time": "2025-04-02T04:01:10.351Z"
   },
   {
    "duration": 3,
    "start_time": "2025-04-02T04:01:10.374Z"
   },
   {
    "duration": 20023,
    "start_time": "2025-04-02T04:01:10.379Z"
   },
   {
    "duration": 102,
    "start_time": "2025-04-02T04:01:30.403Z"
   },
   {
    "duration": 10,
    "start_time": "2025-04-02T04:01:30.506Z"
   },
   {
    "duration": 51,
    "start_time": "2025-04-02T04:01:30.519Z"
   },
   {
    "duration": 5,
    "start_time": "2025-04-02T04:01:30.571Z"
   },
   {
    "duration": 4,
    "start_time": "2025-04-02T04:01:30.577Z"
   },
   {
    "duration": 257902,
    "start_time": "2025-04-02T04:01:30.582Z"
   },
   {
    "duration": 749,
    "start_time": "2025-04-02T04:05:48.486Z"
   },
   {
    "duration": 35,
    "start_time": "2025-04-02T04:05:49.237Z"
   },
   {
    "duration": 5,
    "start_time": "2025-04-02T04:05:49.273Z"
   },
   {
    "duration": 14,
    "start_time": "2025-04-02T04:05:49.280Z"
   },
   {
    "duration": 33,
    "start_time": "2025-04-02T04:05:49.295Z"
   },
   {
    "duration": 42,
    "start_time": "2025-04-02T04:05:49.330Z"
   },
   {
    "duration": 1159,
    "start_time": "2025-04-02T04:05:49.378Z"
   },
   {
    "duration": 49,
    "start_time": "2025-04-02T04:05:50.538Z"
   },
   {
    "duration": 596,
    "start_time": "2025-04-02T04:05:50.589Z"
   },
   {
    "duration": 34,
    "start_time": "2025-04-02T04:05:51.186Z"
   },
   {
    "duration": 50,
    "start_time": "2025-04-02T04:05:51.221Z"
   },
   {
    "duration": 33,
    "start_time": "2025-04-02T04:05:51.272Z"
   },
   {
    "duration": 2722,
    "start_time": "2025-04-02T13:19:16.958Z"
   },
   {
    "duration": 37,
    "start_time": "2025-04-02T13:19:19.682Z"
   },
   {
    "duration": 11,
    "start_time": "2025-04-02T13:19:21.816Z"
   },
   {
    "duration": 4,
    "start_time": "2025-04-02T13:19:26.513Z"
   },
   {
    "duration": 7,
    "start_time": "2025-04-02T13:19:27.179Z"
   },
   {
    "duration": 6,
    "start_time": "2025-04-02T13:19:29.505Z"
   },
   {
    "duration": 4,
    "start_time": "2025-04-02T13:19:32.242Z"
   },
   {
    "duration": 7,
    "start_time": "2025-04-02T13:19:35.255Z"
   },
   {
    "duration": 9,
    "start_time": "2025-04-02T13:19:37.663Z"
   },
   {
    "duration": 4,
    "start_time": "2025-04-02T13:19:44.524Z"
   },
   {
    "duration": 8,
    "start_time": "2025-04-02T13:19:47.495Z"
   },
   {
    "duration": 101,
    "start_time": "2025-04-02T13:19:51.878Z"
   },
   {
    "duration": 715,
    "start_time": "2025-04-02T13:19:54.546Z"
   },
   {
    "duration": 8,
    "start_time": "2025-04-02T13:20:02.340Z"
   },
   {
    "duration": 4,
    "start_time": "2025-04-02T13:20:06.329Z"
   },
   {
    "duration": 6,
    "start_time": "2025-04-02T13:20:09.073Z"
   },
   {
    "duration": 5,
    "start_time": "2025-04-02T13:20:10.579Z"
   },
   {
    "duration": 5,
    "start_time": "2025-04-02T13:20:15.985Z"
   },
   {
    "duration": 3,
    "start_time": "2025-04-02T13:20:16.516Z"
   },
   {
    "duration": 3,
    "start_time": "2025-04-02T13:20:19.342Z"
   },
   {
    "duration": 1932,
    "start_time": "2025-04-02T13:20:23.610Z"
   },
   {
    "duration": 23,
    "start_time": "2025-04-02T13:20:25.545Z"
   },
   {
    "duration": 4,
    "start_time": "2025-04-02T13:20:25.569Z"
   },
   {
    "duration": 4,
    "start_time": "2025-04-02T13:20:26.067Z"
   },
   {
    "duration": 5,
    "start_time": "2025-04-02T13:20:28.701Z"
   },
   {
    "duration": 3,
    "start_time": "2025-04-02T13:20:32.648Z"
   },
   {
    "duration": 19640,
    "start_time": "2025-04-02T13:20:33.186Z"
   },
   {
    "duration": 43,
    "start_time": "2025-04-02T13:20:52.829Z"
   },
   {
    "duration": 36,
    "start_time": "2025-04-02T13:20:52.873Z"
   },
   {
    "duration": 4,
    "start_time": "2025-04-02T13:20:52.912Z"
   },
   {
    "duration": 3,
    "start_time": "2025-04-02T13:20:52.918Z"
   },
   {
    "duration": 3,
    "start_time": "2025-04-02T13:20:52.923Z"
   },
   {
    "duration": 252152,
    "start_time": "2025-04-02T13:20:52.928Z"
   },
   {
    "duration": 707,
    "start_time": "2025-04-02T13:25:05.081Z"
   },
   {
    "duration": 33,
    "start_time": "2025-04-02T13:25:05.789Z"
   },
   {
    "duration": 6,
    "start_time": "2025-04-02T13:25:05.824Z"
   },
   {
    "duration": 17,
    "start_time": "2025-04-02T13:25:05.832Z"
   },
   {
    "duration": 31,
    "start_time": "2025-04-02T13:25:05.850Z"
   },
   {
    "duration": 34,
    "start_time": "2025-04-02T13:25:05.883Z"
   },
   {
    "duration": 1128,
    "start_time": "2025-04-02T13:25:05.919Z"
   },
   {
    "duration": 34,
    "start_time": "2025-04-02T13:25:07.049Z"
   },
   {
    "duration": 556,
    "start_time": "2025-04-02T13:25:07.085Z"
   },
   {
    "duration": 32,
    "start_time": "2025-04-02T13:25:07.643Z"
   },
   {
    "duration": 52,
    "start_time": "2025-04-02T13:25:07.676Z"
   },
   {
    "duration": 32,
    "start_time": "2025-04-02T13:25:07.730Z"
   },
   {
    "duration": 3,
    "start_time": "2025-04-02T13:25:46.792Z"
   },
   {
    "duration": 26,
    "start_time": "2025-04-02T13:25:47.522Z"
   },
   {
    "duration": 10,
    "start_time": "2025-04-02T13:25:52.533Z"
   },
   {
    "duration": 4,
    "start_time": "2025-04-02T13:25:56.169Z"
   },
   {
    "duration": 6,
    "start_time": "2025-04-02T13:25:56.742Z"
   },
   {
    "duration": 6,
    "start_time": "2025-04-02T13:25:58.968Z"
   },
   {
    "duration": 4,
    "start_time": "2025-04-02T13:26:01.690Z"
   },
   {
    "duration": 6,
    "start_time": "2025-04-02T13:26:05.294Z"
   },
   {
    "duration": 9,
    "start_time": "2025-04-02T13:26:07.289Z"
   },
   {
    "duration": 5,
    "start_time": "2025-04-02T13:26:09.884Z"
   },
   {
    "duration": 8,
    "start_time": "2025-04-02T13:26:12.315Z"
   },
   {
    "duration": 902,
    "start_time": "2025-04-02T13:26:15.162Z"
   },
   {
    "duration": 90,
    "start_time": "2025-04-02T13:26:30.393Z"
   },
   {
    "duration": 616,
    "start_time": "2025-04-02T13:26:32.357Z"
   },
   {
    "duration": 8,
    "start_time": "2025-04-02T13:26:36.741Z"
   },
   {
    "duration": 5,
    "start_time": "2025-04-02T13:26:39.778Z"
   },
   {
    "duration": 7,
    "start_time": "2025-04-02T13:26:42.916Z"
   },
   {
    "duration": 5,
    "start_time": "2025-04-02T13:26:43.355Z"
   },
   {
    "duration": 6,
    "start_time": "2025-04-02T13:26:45.920Z"
   },
   {
    "duration": 4,
    "start_time": "2025-04-02T13:26:46.436Z"
   },
   {
    "duration": 4,
    "start_time": "2025-04-02T13:26:49.368Z"
   },
   {
    "duration": 1939,
    "start_time": "2025-04-02T13:26:53.063Z"
   },
   {
    "duration": 23,
    "start_time": "2025-04-02T13:26:55.009Z"
   },
   {
    "duration": 4,
    "start_time": "2025-04-02T13:26:55.033Z"
   },
   {
    "duration": 5,
    "start_time": "2025-04-02T13:26:55.138Z"
   },
   {
    "duration": 4,
    "start_time": "2025-04-02T13:26:55.648Z"
   },
   {
    "duration": 3,
    "start_time": "2025-04-02T13:27:01.194Z"
   },
   {
    "duration": 19452,
    "start_time": "2025-04-02T13:27:01.676Z"
   },
   {
    "duration": 44,
    "start_time": "2025-04-02T13:27:21.130Z"
   },
   {
    "duration": 33,
    "start_time": "2025-04-02T13:27:21.176Z"
   },
   {
    "duration": 4,
    "start_time": "2025-04-02T13:27:21.212Z"
   },
   {
    "duration": 4,
    "start_time": "2025-04-02T13:27:21.217Z"
   },
   {
    "duration": 4,
    "start_time": "2025-04-02T13:27:21.223Z"
   },
   {
    "duration": 249634,
    "start_time": "2025-04-02T13:27:21.228Z"
   },
   {
    "duration": 715,
    "start_time": "2025-04-02T13:31:30.864Z"
   },
   {
    "duration": 33,
    "start_time": "2025-04-02T13:31:31.582Z"
   },
   {
    "duration": 6,
    "start_time": "2025-04-02T13:31:31.616Z"
   },
   {
    "duration": 10,
    "start_time": "2025-04-02T13:31:31.624Z"
   },
   {
    "duration": 31,
    "start_time": "2025-04-02T13:31:31.636Z"
   },
   {
    "duration": 41,
    "start_time": "2025-04-02T13:31:31.669Z"
   },
   {
    "duration": 1119,
    "start_time": "2025-04-02T13:31:31.712Z"
   },
   {
    "duration": 34,
    "start_time": "2025-04-02T13:31:32.833Z"
   },
   {
    "duration": 558,
    "start_time": "2025-04-02T13:31:32.870Z"
   },
   {
    "duration": 31,
    "start_time": "2025-04-02T13:31:33.431Z"
   },
   {
    "duration": 53,
    "start_time": "2025-04-02T13:31:33.464Z"
   },
   {
    "duration": 31,
    "start_time": "2025-04-02T13:31:33.518Z"
   },
   {
    "duration": 41,
    "start_time": "2025-04-02T13:33:54.972Z"
   },
   {
    "duration": 19,
    "start_time": "2025-04-02T13:34:15.328Z"
   },
   {
    "duration": 44,
    "start_time": "2025-04-02T13:34:20.489Z"
   },
   {
    "duration": 22,
    "start_time": "2025-04-02T13:34:23.654Z"
   },
   {
    "duration": 1673,
    "start_time": "2025-04-02T13:34:27.582Z"
   },
   {
    "duration": 38,
    "start_time": "2025-04-02T13:34:30.975Z"
   },
   {
    "duration": 542,
    "start_time": "2025-04-02T13:34:32.701Z"
   },
   {
    "duration": 36,
    "start_time": "2025-04-02T13:34:36.497Z"
   },
   {
    "duration": 43,
    "start_time": "2025-04-02T13:34:40.276Z"
   },
   {
    "duration": 10,
    "start_time": "2025-04-02T13:34:50.203Z"
   },
   {
    "duration": 27,
    "start_time": "2025-04-02T13:34:53.279Z"
   },
   {
    "duration": 22,
    "start_time": "2025-04-02T13:34:56.082Z"
   },
   {
    "duration": 844,
    "start_time": "2025-04-02T13:34:59.619Z"
   },
   {
    "duration": 35,
    "start_time": "2025-04-02T13:35:02.492Z"
   },
   {
    "duration": 542,
    "start_time": "2025-04-02T13:35:04.898Z"
   },
   {
    "duration": 32,
    "start_time": "2025-04-02T13:35:10.649Z"
   },
   {
    "duration": 40,
    "start_time": "2025-04-02T13:35:20.915Z"
   },
   {
    "duration": 9,
    "start_time": "2025-04-02T13:35:42.278Z"
   },
   {
    "duration": 25,
    "start_time": "2025-04-02T13:35:45.599Z"
   },
   {
    "duration": 23,
    "start_time": "2025-04-02T13:35:49.930Z"
   },
   {
    "duration": 714,
    "start_time": "2025-04-02T13:35:55.484Z"
   },
   {
    "duration": 34,
    "start_time": "2025-04-02T13:36:01.434Z"
   },
   {
    "duration": 539,
    "start_time": "2025-04-02T13:36:07.159Z"
   },
   {
    "duration": 32,
    "start_time": "2025-04-02T13:36:23.463Z"
   },
   {
    "duration": 39,
    "start_time": "2025-04-02T13:36:26.383Z"
   },
   {
    "duration": 7,
    "start_time": "2025-04-02T13:38:27.802Z"
   },
   {
    "duration": 40,
    "start_time": "2025-04-02T13:38:39.258Z"
   },
   {
    "duration": 39,
    "start_time": "2025-04-02T13:39:30.279Z"
   },
   {
    "duration": 541,
    "start_time": "2025-04-02T13:39:45.138Z"
   },
   {
    "duration": 712,
    "start_time": "2025-04-02T13:40:01.751Z"
   },
   {
    "duration": 27,
    "start_time": "2025-04-02T13:40:27.420Z"
   },
   {
    "duration": 25,
    "start_time": "2025-04-02T13:40:47.385Z"
   },
   {
    "duration": 33,
    "start_time": "2025-04-02T13:41:25.593Z"
   }
  ],
  "kernelspec": {
   "display_name": "Python 3 (ipykernel)",
   "language": "python",
   "name": "python3"
  },
  "language_info": {
   "codemirror_mode": {
    "name": "ipython",
    "version": 3
   },
   "file_extension": ".py",
   "mimetype": "text/x-python",
   "name": "python",
   "nbconvert_exporter": "python",
   "pygments_lexer": "ipython3",
   "version": "3.12.7"
  },
  "toc": {
   "base_numbering": 1,
   "nav_menu": {},
   "number_sections": true,
   "sideBar": true,
   "skip_h1_title": true,
   "title_cell": "Table of Contents",
   "title_sidebar": "Contents",
   "toc_cell": false,
   "toc_position": {
    "height": "calc(100% - 180px)",
    "left": "10px",
    "top": "150px",
    "width": "250px"
   },
   "toc_section_display": true,
   "toc_window_display": true
  }
 },
 "nbformat": 4,
 "nbformat_minor": 4
}
