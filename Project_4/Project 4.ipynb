{
 "cells": [
  {
   "cell_type": "markdown",
   "metadata": {},
   "source": [
    "# Title : Video game success analysis "
   ]
  },
  {
   "cell_type": "markdown",
   "metadata": {},
   "source": [
    "##  Introduction of the project:\n",
    "    In this project our aim is to analyze the trends in the marketing pattern for selling video games and get insights for the pattern. Our work is for the online store Ice, which sells video games all over the world. User and expert reviews, genres, platforms (e.g. Xbox or PlayStation), and historical data on game sales are available from open sources. We need to identify patterns that determine whether a game succeeds or not. This will allow us to spot potential big winners and plan advertising campaigns. This project consists of following parts:\n",
    "    - Data initialization and loading\n",
    "    - Data preprocessing\n",
    "    - Analysis of data\n",
    "    - Create a user profile for each region\n",
    "    - Testing the hypothesis"
   ]
  },
  {
   "cell_type": "markdown",
   "metadata": {},
   "source": [
    "##  First stage:\n",
    "In this stage import all the libraries needed for the analysis and also load the dataframe and identify the contents in the dataframe."
   ]
  },
  {
   "cell_type": "code",
   "execution_count": 1,
   "metadata": {},
   "outputs": [],
   "source": [
    "# Import all libraries\n",
    "import pandas as pd\n",
    "import numpy as np\n",
    "from matplotlib import pyplot as plt\n",
    "import seaborn as sns\n",
    "from scipy import stats as st"
   ]
  },
  {
   "cell_type": "code",
   "execution_count": 2,
   "metadata": {},
   "outputs": [
    {
     "data": {
      "text/html": [
       "<div>\n",
       "<style scoped>\n",
       "    .dataframe tbody tr th:only-of-type {\n",
       "        vertical-align: middle;\n",
       "    }\n",
       "\n",
       "    .dataframe tbody tr th {\n",
       "        vertical-align: top;\n",
       "    }\n",
       "\n",
       "    .dataframe thead th {\n",
       "        text-align: right;\n",
       "    }\n",
       "</style>\n",
       "<table border=\"1\" class=\"dataframe\">\n",
       "  <thead>\n",
       "    <tr style=\"text-align: right;\">\n",
       "      <th></th>\n",
       "      <th>Name</th>\n",
       "      <th>Platform</th>\n",
       "      <th>Year_of_Release</th>\n",
       "      <th>Genre</th>\n",
       "      <th>NA_sales</th>\n",
       "      <th>EU_sales</th>\n",
       "      <th>JP_sales</th>\n",
       "      <th>Other_sales</th>\n",
       "      <th>Critic_Score</th>\n",
       "      <th>User_Score</th>\n",
       "      <th>Rating</th>\n",
       "    </tr>\n",
       "  </thead>\n",
       "  <tbody>\n",
       "    <tr>\n",
       "      <th>0</th>\n",
       "      <td>Wii Sports</td>\n",
       "      <td>Wii</td>\n",
       "      <td>2006.0</td>\n",
       "      <td>Sports</td>\n",
       "      <td>41.36</td>\n",
       "      <td>28.96</td>\n",
       "      <td>3.77</td>\n",
       "      <td>8.45</td>\n",
       "      <td>76.0</td>\n",
       "      <td>8</td>\n",
       "      <td>E</td>\n",
       "    </tr>\n",
       "    <tr>\n",
       "      <th>1</th>\n",
       "      <td>Super Mario Bros.</td>\n",
       "      <td>NES</td>\n",
       "      <td>1985.0</td>\n",
       "      <td>Platform</td>\n",
       "      <td>29.08</td>\n",
       "      <td>3.58</td>\n",
       "      <td>6.81</td>\n",
       "      <td>0.77</td>\n",
       "      <td>NaN</td>\n",
       "      <td>NaN</td>\n",
       "      <td>NaN</td>\n",
       "    </tr>\n",
       "    <tr>\n",
       "      <th>2</th>\n",
       "      <td>Mario Kart Wii</td>\n",
       "      <td>Wii</td>\n",
       "      <td>2008.0</td>\n",
       "      <td>Racing</td>\n",
       "      <td>15.68</td>\n",
       "      <td>12.76</td>\n",
       "      <td>3.79</td>\n",
       "      <td>3.29</td>\n",
       "      <td>82.0</td>\n",
       "      <td>8.3</td>\n",
       "      <td>E</td>\n",
       "    </tr>\n",
       "    <tr>\n",
       "      <th>3</th>\n",
       "      <td>Wii Sports Resort</td>\n",
       "      <td>Wii</td>\n",
       "      <td>2009.0</td>\n",
       "      <td>Sports</td>\n",
       "      <td>15.61</td>\n",
       "      <td>10.93</td>\n",
       "      <td>3.28</td>\n",
       "      <td>2.95</td>\n",
       "      <td>80.0</td>\n",
       "      <td>8</td>\n",
       "      <td>E</td>\n",
       "    </tr>\n",
       "    <tr>\n",
       "      <th>4</th>\n",
       "      <td>Pokemon Red/Pokemon Blue</td>\n",
       "      <td>GB</td>\n",
       "      <td>1996.0</td>\n",
       "      <td>Role-Playing</td>\n",
       "      <td>11.27</td>\n",
       "      <td>8.89</td>\n",
       "      <td>10.22</td>\n",
       "      <td>1.00</td>\n",
       "      <td>NaN</td>\n",
       "      <td>NaN</td>\n",
       "      <td>NaN</td>\n",
       "    </tr>\n",
       "    <tr>\n",
       "      <th>...</th>\n",
       "      <td>...</td>\n",
       "      <td>...</td>\n",
       "      <td>...</td>\n",
       "      <td>...</td>\n",
       "      <td>...</td>\n",
       "      <td>...</td>\n",
       "      <td>...</td>\n",
       "      <td>...</td>\n",
       "      <td>...</td>\n",
       "      <td>...</td>\n",
       "      <td>...</td>\n",
       "    </tr>\n",
       "    <tr>\n",
       "      <th>16710</th>\n",
       "      <td>Samurai Warriors: Sanada Maru</td>\n",
       "      <td>PS3</td>\n",
       "      <td>2016.0</td>\n",
       "      <td>Action</td>\n",
       "      <td>0.00</td>\n",
       "      <td>0.00</td>\n",
       "      <td>0.01</td>\n",
       "      <td>0.00</td>\n",
       "      <td>NaN</td>\n",
       "      <td>NaN</td>\n",
       "      <td>NaN</td>\n",
       "    </tr>\n",
       "    <tr>\n",
       "      <th>16711</th>\n",
       "      <td>LMA Manager 2007</td>\n",
       "      <td>X360</td>\n",
       "      <td>2006.0</td>\n",
       "      <td>Sports</td>\n",
       "      <td>0.00</td>\n",
       "      <td>0.01</td>\n",
       "      <td>0.00</td>\n",
       "      <td>0.00</td>\n",
       "      <td>NaN</td>\n",
       "      <td>NaN</td>\n",
       "      <td>NaN</td>\n",
       "    </tr>\n",
       "    <tr>\n",
       "      <th>16712</th>\n",
       "      <td>Haitaka no Psychedelica</td>\n",
       "      <td>PSV</td>\n",
       "      <td>2016.0</td>\n",
       "      <td>Adventure</td>\n",
       "      <td>0.00</td>\n",
       "      <td>0.00</td>\n",
       "      <td>0.01</td>\n",
       "      <td>0.00</td>\n",
       "      <td>NaN</td>\n",
       "      <td>NaN</td>\n",
       "      <td>NaN</td>\n",
       "    </tr>\n",
       "    <tr>\n",
       "      <th>16713</th>\n",
       "      <td>Spirits &amp; Spells</td>\n",
       "      <td>GBA</td>\n",
       "      <td>2003.0</td>\n",
       "      <td>Platform</td>\n",
       "      <td>0.01</td>\n",
       "      <td>0.00</td>\n",
       "      <td>0.00</td>\n",
       "      <td>0.00</td>\n",
       "      <td>NaN</td>\n",
       "      <td>NaN</td>\n",
       "      <td>NaN</td>\n",
       "    </tr>\n",
       "    <tr>\n",
       "      <th>16714</th>\n",
       "      <td>Winning Post 8 2016</td>\n",
       "      <td>PSV</td>\n",
       "      <td>2016.0</td>\n",
       "      <td>Simulation</td>\n",
       "      <td>0.00</td>\n",
       "      <td>0.00</td>\n",
       "      <td>0.01</td>\n",
       "      <td>0.00</td>\n",
       "      <td>NaN</td>\n",
       "      <td>NaN</td>\n",
       "      <td>NaN</td>\n",
       "    </tr>\n",
       "  </tbody>\n",
       "</table>\n",
       "<p>16715 rows × 11 columns</p>\n",
       "</div>"
      ],
      "text/plain": [
       "                                Name Platform  Year_of_Release         Genre  \\\n",
       "0                         Wii Sports      Wii           2006.0        Sports   \n",
       "1                  Super Mario Bros.      NES           1985.0      Platform   \n",
       "2                     Mario Kart Wii      Wii           2008.0        Racing   \n",
       "3                  Wii Sports Resort      Wii           2009.0        Sports   \n",
       "4           Pokemon Red/Pokemon Blue       GB           1996.0  Role-Playing   \n",
       "...                              ...      ...              ...           ...   \n",
       "16710  Samurai Warriors: Sanada Maru      PS3           2016.0        Action   \n",
       "16711               LMA Manager 2007     X360           2006.0        Sports   \n",
       "16712        Haitaka no Psychedelica      PSV           2016.0     Adventure   \n",
       "16713               Spirits & Spells      GBA           2003.0      Platform   \n",
       "16714            Winning Post 8 2016      PSV           2016.0    Simulation   \n",
       "\n",
       "       NA_sales  EU_sales  JP_sales  Other_sales  Critic_Score User_Score  \\\n",
       "0         41.36     28.96      3.77         8.45          76.0          8   \n",
       "1         29.08      3.58      6.81         0.77           NaN        NaN   \n",
       "2         15.68     12.76      3.79         3.29          82.0        8.3   \n",
       "3         15.61     10.93      3.28         2.95          80.0          8   \n",
       "4         11.27      8.89     10.22         1.00           NaN        NaN   \n",
       "...         ...       ...       ...          ...           ...        ...   \n",
       "16710      0.00      0.00      0.01         0.00           NaN        NaN   \n",
       "16711      0.00      0.01      0.00         0.00           NaN        NaN   \n",
       "16712      0.00      0.00      0.01         0.00           NaN        NaN   \n",
       "16713      0.01      0.00      0.00         0.00           NaN        NaN   \n",
       "16714      0.00      0.00      0.01         0.00           NaN        NaN   \n",
       "\n",
       "      Rating  \n",
       "0          E  \n",
       "1        NaN  \n",
       "2          E  \n",
       "3          E  \n",
       "4        NaN  \n",
       "...      ...  \n",
       "16710    NaN  \n",
       "16711    NaN  \n",
       "16712    NaN  \n",
       "16713    NaN  \n",
       "16714    NaN  \n",
       "\n",
       "[16715 rows x 11 columns]"
      ]
     },
     "metadata": {},
     "output_type": "display_data"
    }
   ],
   "source": [
    "# Load the dataframe into a variable named df and identify the contents.\n",
    "df = pd.read_csv('/datasets/games.csv')\n",
    "display(df)"
   ]
  },
  {
   "cell_type": "markdown",
   "metadata": {},
   "source": [
    "The data frame df consists of 16715 rows and 11 columns. Each column consists of\n",
    "- Name : Name of the video game\n",
    "- Platform : Platform\n",
    "- Year_of_Release :Release year\n",
    "- Genre : Genre\n",
    "- NA_sales : North American sales in USD million\n",
    "- EU_sales :sales in Europe in USD million\n",
    "- JP_sales :sales in Japan in USD million\n",
    "- Other_sales :sales in other countries in USD million\n",
    "- Critic_Score : critic score maximum of 100\n",
    "- User_Score : user score maximum of 10\n",
    "- Rating : ESRB rating\n"
   ]
  },
  {
   "cell_type": "code",
   "execution_count": 3,
   "metadata": {},
   "outputs": [
    {
     "name": "stdout",
     "output_type": "stream",
     "text": [
      "<class 'pandas.core.frame.DataFrame'>\n",
      "RangeIndex: 16715 entries, 0 to 16714\n",
      "Data columns (total 11 columns):\n",
      " #   Column           Non-Null Count  Dtype  \n",
      "---  ------           --------------  -----  \n",
      " 0   Name             16713 non-null  object \n",
      " 1   Platform         16715 non-null  object \n",
      " 2   Year_of_Release  16446 non-null  float64\n",
      " 3   Genre            16713 non-null  object \n",
      " 4   NA_sales         16715 non-null  float64\n",
      " 5   EU_sales         16715 non-null  float64\n",
      " 6   JP_sales         16715 non-null  float64\n",
      " 7   Other_sales      16715 non-null  float64\n",
      " 8   Critic_Score     8137 non-null   float64\n",
      " 9   User_Score       10014 non-null  object \n",
      " 10  Rating           9949 non-null   object \n",
      "dtypes: float64(6), object(5)\n",
      "memory usage: 1.4+ MB\n"
     ]
    }
   ],
   "source": [
    "df.info()"
   ]
  },
  {
   "cell_type": "markdown",
   "metadata": {},
   "source": [
    "From the above information all the datas are stored as object or float type which means there is inappropriate numeric format are present in the datatype. For eg. release year is stored as float64 type. Six columns have missing values. Also some column names are uppercase, while others are lower case."
   ]
  },
  {
   "cell_type": "markdown",
   "metadata": {},
   "source": [
    "### Conclusion\n",
    "In this stage we import all the libraries and also load the dataframe into a variable called df. The dataframe consists of 16715 rows and 11 columns. Each row represents different videogames and each column represents the genre, platform, release year, critic score, user score etc. of corresponding games. Some issues found in the dataframe are listed below:\n",
    "- Inappropriate datatype\n",
    "- Missing values\n",
    "- Some column names are uppercase, while others are lower case\n",
    "So we want to preprocess the data before the analysis."
   ]
  },
  {
   "cell_type": "markdown",
   "metadata": {},
   "source": [
    "## Second Stage :\n",
    "    In this stage correct the formatting in the column headers and deal with the missing values. Then,check whether there are duplicates in the data."
   ]
  },
  {
   "cell_type": "code",
   "execution_count": 4,
   "metadata": {},
   "outputs": [
    {
     "data": {
      "text/plain": [
       "Index(['Name', 'Platform', 'Year_of_Release', 'Genre', 'NA_sales', 'EU_sales',\n",
       "       'JP_sales', 'Other_sales', 'Critic_Score', 'User_Score', 'Rating'],\n",
       "      dtype='object')"
      ]
     },
     "execution_count": 4,
     "metadata": {},
     "output_type": "execute_result"
    }
   ],
   "source": [
    "# List of column names in the df table\n",
    "df.columns"
   ]
  },
  {
   "cell_type": "code",
   "execution_count": 5,
   "metadata": {},
   "outputs": [],
   "source": [
    "# Renaming columns\n",
    "df.rename(str.lower, axis='columns', inplace =True)"
   ]
  },
  {
   "cell_type": "code",
   "execution_count": 6,
   "metadata": {},
   "outputs": [
    {
     "data": {
      "text/plain": [
       "Index(['name', 'platform', 'year_of_release', 'genre', 'na_sales', 'eu_sales',\n",
       "       'jp_sales', 'other_sales', 'critic_score', 'user_score', 'rating'],\n",
       "      dtype='object')"
      ]
     },
     "execution_count": 6,
     "metadata": {},
     "output_type": "execute_result"
    }
   ],
   "source": [
    "# Recheck column name:\n",
    "df.columns"
   ]
  },
  {
   "cell_type": "code",
   "execution_count": 7,
   "metadata": {},
   "outputs": [
    {
     "name": "stdout",
     "output_type": "stream",
     "text": [
      "0\n"
     ]
    }
   ],
   "source": [
    "# Checking duplicates\n",
    "print(df.duplicated().sum())"
   ]
  },
  {
   "cell_type": "markdown",
   "metadata": {},
   "source": [
    "The above result shows no duplicated rows in the dataframe."
   ]
  },
  {
   "cell_type": "code",
   "execution_count": 8,
   "metadata": {},
   "outputs": [
    {
     "data": {
      "text/html": [
       "<div>\n",
       "<style scoped>\n",
       "    .dataframe tbody tr th:only-of-type {\n",
       "        vertical-align: middle;\n",
       "    }\n",
       "\n",
       "    .dataframe tbody tr th {\n",
       "        vertical-align: top;\n",
       "    }\n",
       "\n",
       "    .dataframe thead th {\n",
       "        text-align: right;\n",
       "    }\n",
       "</style>\n",
       "<table border=\"1\" class=\"dataframe\">\n",
       "  <thead>\n",
       "    <tr style=\"text-align: right;\">\n",
       "      <th></th>\n",
       "      <th>name</th>\n",
       "      <th>platform</th>\n",
       "      <th>year_of_release</th>\n",
       "      <th>genre</th>\n",
       "      <th>na_sales</th>\n",
       "      <th>eu_sales</th>\n",
       "      <th>jp_sales</th>\n",
       "      <th>other_sales</th>\n",
       "      <th>critic_score</th>\n",
       "      <th>user_score</th>\n",
       "      <th>rating</th>\n",
       "    </tr>\n",
       "  </thead>\n",
       "  <tbody>\n",
       "    <tr>\n",
       "      <th>14244</th>\n",
       "      <td>NaN</td>\n",
       "      <td>GEN</td>\n",
       "      <td>1993.0</td>\n",
       "      <td>NaN</td>\n",
       "      <td>0.0</td>\n",
       "      <td>0.00</td>\n",
       "      <td>0.03</td>\n",
       "      <td>0.0</td>\n",
       "      <td>NaN</td>\n",
       "      <td>NaN</td>\n",
       "      <td>NaN</td>\n",
       "    </tr>\n",
       "    <tr>\n",
       "      <th>16230</th>\n",
       "      <td>Madden NFL 13</td>\n",
       "      <td>PS3</td>\n",
       "      <td>2012.0</td>\n",
       "      <td>Sports</td>\n",
       "      <td>0.0</td>\n",
       "      <td>0.01</td>\n",
       "      <td>0.00</td>\n",
       "      <td>0.0</td>\n",
       "      <td>83.0</td>\n",
       "      <td>5.5</td>\n",
       "      <td>E</td>\n",
       "    </tr>\n",
       "  </tbody>\n",
       "</table>\n",
       "</div>"
      ],
      "text/plain": [
       "                name platform  year_of_release   genre  na_sales  eu_sales  \\\n",
       "14244            NaN      GEN           1993.0     NaN       0.0      0.00   \n",
       "16230  Madden NFL 13      PS3           2012.0  Sports       0.0      0.01   \n",
       "\n",
       "       jp_sales  other_sales  critic_score user_score rating  \n",
       "14244      0.03          0.0           NaN        NaN    NaN  \n",
       "16230      0.00          0.0          83.0        5.5      E  "
      ]
     },
     "metadata": {},
     "output_type": "display_data"
    }
   ],
   "source": [
    "duplicates =df[df.duplicated(subset=['name','platform','year_of_release'])]\n",
    "display(duplicates)\n",
    "df=df.drop_duplicates(subset=['name','platform','year_of_release'])"
   ]
  },
  {
   "cell_type": "markdown",
   "metadata": {},
   "source": [
    "One of the row is same as row with the missing name. So we should drop that rows."
   ]
  },
  {
   "cell_type": "markdown",
   "metadata": {},
   "source": [
    "#### Convert datatypes as needed"
   ]
  },
  {
   "cell_type": "code",
   "execution_count": 9,
   "metadata": {},
   "outputs": [],
   "source": [
    "# Convert release year to integer value for discrete years.\n",
    "df['year_of_release']=df['year_of_release'].astype('Int64')"
   ]
  },
  {
   "cell_type": "code",
   "execution_count": 10,
   "metadata": {},
   "outputs": [
    {
     "data": {
      "text/plain": [
       "array(['8', nan, '8.3', '8.5', '6.6', '8.4', '8.6', '7.7', '6.3', '7.4',\n",
       "       '8.2', '9', '7.9', '8.1', '8.7', '7.1', '3.4', '5.3', '4.8', '3.2',\n",
       "       '8.9', '6.4', '7.8', '7.5', '2.6', '7.2', '9.2', '7', '7.3', '4.3',\n",
       "       '7.6', '5.7', '5', '9.1', '6.5', 'tbd', '8.8', '6.9', '9.4', '6.8',\n",
       "       '6.1', '6.7', '5.4', '4', '4.9', '4.5', '9.3', '6.2', '4.2', '6',\n",
       "       '3.7', '4.1', '5.8', '5.6', '5.5', '4.4', '4.6', '5.9', '3.9',\n",
       "       '3.1', '2.9', '5.2', '3.3', '4.7', '5.1', '3.5', '2.5', '1.9', '3',\n",
       "       '2.7', '2.2', '2', '9.5', '2.1', '3.6', '2.8', '1.8', '3.8', '0',\n",
       "       '1.6', '9.6', '2.4', '1.7', '1.1', '0.3', '1.5', '0.7', '1.2',\n",
       "       '2.3', '0.5', '1.3', '0.2', '0.6', '1.4', '0.9', '1', '9.7'],\n",
       "      dtype=object)"
      ]
     },
     "execution_count": 10,
     "metadata": {},
     "output_type": "execute_result"
    }
   ],
   "source": [
    "# Check for non numeric values\n",
    "df['user_score'].unique()"
   ]
  },
  {
   "cell_type": "code",
   "execution_count": 11,
   "metadata": {},
   "outputs": [],
   "source": [
    "#Replace user score to numeric values\n",
    "df['user_score'] = pd.to_numeric(df['user_score'], errors='coerce')"
   ]
  },
  {
   "cell_type": "code",
   "execution_count": 12,
   "metadata": {},
   "outputs": [],
   "source": [
    "# Convert user scores to float type\n",
    "df['user_score'] = df['user_score'].astype('float')"
   ]
  },
  {
   "cell_type": "code",
   "execution_count": 13,
   "metadata": {},
   "outputs": [
    {
     "name": "stdout",
     "output_type": "stream",
     "text": [
      "<class 'pandas.core.frame.DataFrame'>\n",
      "RangeIndex: 16715 entries, 0 to 16714\n",
      "Data columns (total 11 columns):\n",
      " #   Column           Non-Null Count  Dtype  \n",
      "---  ------           --------------  -----  \n",
      " 0   name             16713 non-null  object \n",
      " 1   platform         16715 non-null  object \n",
      " 2   year_of_release  16446 non-null  Int64  \n",
      " 3   genre            16713 non-null  object \n",
      " 4   na_sales         16715 non-null  float64\n",
      " 5   eu_sales         16715 non-null  float64\n",
      " 6   jp_sales         16715 non-null  float64\n",
      " 7   other_sales      16715 non-null  float64\n",
      " 8   critic_score     8137 non-null   float64\n",
      " 9   user_score       7590 non-null   float64\n",
      " 10  rating           9949 non-null   object \n",
      "dtypes: Int64(1), float64(6), object(4)\n",
      "memory usage: 1.4+ MB\n"
     ]
    }
   ],
   "source": [
    "df.info()"
   ]
  },
  {
   "cell_type": "markdown",
   "metadata": {},
   "source": [
    "Here, we convert all columns to appropriate datat types."
   ]
  },
  {
   "cell_type": "markdown",
   "metadata": {},
   "source": [
    "#### Check for missing values"
   ]
  },
  {
   "cell_type": "code",
   "execution_count": 14,
   "metadata": {},
   "outputs": [
    {
     "data": {
      "text/plain": [
       "name                  2\n",
       "platform              0\n",
       "year_of_release     269\n",
       "genre                 2\n",
       "na_sales              0\n",
       "eu_sales              0\n",
       "jp_sales              0\n",
       "other_sales           0\n",
       "critic_score       8578\n",
       "user_score         9125\n",
       "rating             6766\n",
       "dtype: int64"
      ]
     },
     "execution_count": 14,
     "metadata": {},
     "output_type": "execute_result"
    }
   ],
   "source": [
    "# Count missing values\n",
    "df.isnull().sum()"
   ]
  },
  {
   "cell_type": "markdown",
   "metadata": {},
   "source": [
    "From the above counts, we can see there two values are  missing in name and genre columns, 269 values are missing in year of release, 8578 in critic score, 9125 in user score and 6766 in rating colum."
   ]
  },
  {
   "cell_type": "code",
   "execution_count": 15,
   "metadata": {},
   "outputs": [
    {
     "data": {
      "text/html": [
       "<div>\n",
       "<style scoped>\n",
       "    .dataframe tbody tr th:only-of-type {\n",
       "        vertical-align: middle;\n",
       "    }\n",
       "\n",
       "    .dataframe tbody tr th {\n",
       "        vertical-align: top;\n",
       "    }\n",
       "\n",
       "    .dataframe thead th {\n",
       "        text-align: right;\n",
       "    }\n",
       "</style>\n",
       "<table border=\"1\" class=\"dataframe\">\n",
       "  <thead>\n",
       "    <tr style=\"text-align: right;\">\n",
       "      <th></th>\n",
       "      <th>name</th>\n",
       "      <th>platform</th>\n",
       "      <th>year_of_release</th>\n",
       "      <th>genre</th>\n",
       "      <th>na_sales</th>\n",
       "      <th>eu_sales</th>\n",
       "      <th>jp_sales</th>\n",
       "      <th>other_sales</th>\n",
       "      <th>critic_score</th>\n",
       "      <th>user_score</th>\n",
       "      <th>rating</th>\n",
       "    </tr>\n",
       "  </thead>\n",
       "  <tbody>\n",
       "    <tr>\n",
       "      <th>659</th>\n",
       "      <td>NaN</td>\n",
       "      <td>GEN</td>\n",
       "      <td>1993</td>\n",
       "      <td>NaN</td>\n",
       "      <td>1.78</td>\n",
       "      <td>0.53</td>\n",
       "      <td>0.00</td>\n",
       "      <td>0.08</td>\n",
       "      <td>NaN</td>\n",
       "      <td>NaN</td>\n",
       "      <td>NaN</td>\n",
       "    </tr>\n",
       "    <tr>\n",
       "      <th>14244</th>\n",
       "      <td>NaN</td>\n",
       "      <td>GEN</td>\n",
       "      <td>1993</td>\n",
       "      <td>NaN</td>\n",
       "      <td>0.00</td>\n",
       "      <td>0.00</td>\n",
       "      <td>0.03</td>\n",
       "      <td>0.00</td>\n",
       "      <td>NaN</td>\n",
       "      <td>NaN</td>\n",
       "      <td>NaN</td>\n",
       "    </tr>\n",
       "  </tbody>\n",
       "</table>\n",
       "</div>"
      ],
      "text/plain": [
       "      name platform  year_of_release genre  na_sales  eu_sales  jp_sales  \\\n",
       "659    NaN      GEN             1993   NaN      1.78      0.53      0.00   \n",
       "14244  NaN      GEN             1993   NaN      0.00      0.00      0.03   \n",
       "\n",
       "       other_sales  critic_score  user_score rating  \n",
       "659           0.08           NaN         NaN    NaN  \n",
       "14244         0.00           NaN         NaN    NaN  "
      ]
     },
     "metadata": {},
     "output_type": "display_data"
    }
   ],
   "source": [
    "# Check for missing names\n",
    "missing_name =df[df['name'].isna()]\n",
    "display(missing_name)"
   ]
  },
  {
   "cell_type": "code",
   "execution_count": 16,
   "metadata": {},
   "outputs": [
    {
     "data": {
      "text/html": [
       "<div>\n",
       "<style scoped>\n",
       "    .dataframe tbody tr th:only-of-type {\n",
       "        vertical-align: middle;\n",
       "    }\n",
       "\n",
       "    .dataframe tbody tr th {\n",
       "        vertical-align: top;\n",
       "    }\n",
       "\n",
       "    .dataframe thead th {\n",
       "        text-align: right;\n",
       "    }\n",
       "</style>\n",
       "<table border=\"1\" class=\"dataframe\">\n",
       "  <thead>\n",
       "    <tr style=\"text-align: right;\">\n",
       "      <th></th>\n",
       "      <th>name</th>\n",
       "      <th>platform</th>\n",
       "      <th>year_of_release</th>\n",
       "      <th>genre</th>\n",
       "      <th>na_sales</th>\n",
       "      <th>eu_sales</th>\n",
       "      <th>jp_sales</th>\n",
       "      <th>other_sales</th>\n",
       "      <th>critic_score</th>\n",
       "      <th>user_score</th>\n",
       "      <th>rating</th>\n",
       "    </tr>\n",
       "  </thead>\n",
       "  <tbody>\n",
       "    <tr>\n",
       "      <th>0</th>\n",
       "      <td>Wii Sports</td>\n",
       "      <td>Wii</td>\n",
       "      <td>2006</td>\n",
       "      <td>Sports</td>\n",
       "      <td>41.36</td>\n",
       "      <td>28.96</td>\n",
       "      <td>3.77</td>\n",
       "      <td>8.45</td>\n",
       "      <td>76.0</td>\n",
       "      <td>8.0</td>\n",
       "      <td>E</td>\n",
       "    </tr>\n",
       "    <tr>\n",
       "      <th>1</th>\n",
       "      <td>Super Mario Bros.</td>\n",
       "      <td>NES</td>\n",
       "      <td>1985</td>\n",
       "      <td>Platform</td>\n",
       "      <td>29.08</td>\n",
       "      <td>3.58</td>\n",
       "      <td>6.81</td>\n",
       "      <td>0.77</td>\n",
       "      <td>NaN</td>\n",
       "      <td>NaN</td>\n",
       "      <td>NaN</td>\n",
       "    </tr>\n",
       "    <tr>\n",
       "      <th>2</th>\n",
       "      <td>Mario Kart Wii</td>\n",
       "      <td>Wii</td>\n",
       "      <td>2008</td>\n",
       "      <td>Racing</td>\n",
       "      <td>15.68</td>\n",
       "      <td>12.76</td>\n",
       "      <td>3.79</td>\n",
       "      <td>3.29</td>\n",
       "      <td>82.0</td>\n",
       "      <td>8.3</td>\n",
       "      <td>E</td>\n",
       "    </tr>\n",
       "  </tbody>\n",
       "</table>\n",
       "</div>"
      ],
      "text/plain": [
       "                name platform  year_of_release     genre  na_sales  eu_sales  \\\n",
       "0         Wii Sports      Wii             2006    Sports     41.36     28.96   \n",
       "1  Super Mario Bros.      NES             1985  Platform     29.08      3.58   \n",
       "2     Mario Kart Wii      Wii             2008    Racing     15.68     12.76   \n",
       "\n",
       "   jp_sales  other_sales  critic_score  user_score rating  \n",
       "0      3.77         8.45          76.0         8.0      E  \n",
       "1      6.81         0.77           NaN         NaN    NaN  \n",
       "2      3.79         3.29          82.0         8.3      E  "
      ]
     },
     "metadata": {},
     "output_type": "display_data"
    },
    {
     "data": {
      "text/html": [
       "<div>\n",
       "<style scoped>\n",
       "    .dataframe tbody tr th:only-of-type {\n",
       "        vertical-align: middle;\n",
       "    }\n",
       "\n",
       "    .dataframe tbody tr th {\n",
       "        vertical-align: top;\n",
       "    }\n",
       "\n",
       "    .dataframe thead th {\n",
       "        text-align: right;\n",
       "    }\n",
       "</style>\n",
       "<table border=\"1\" class=\"dataframe\">\n",
       "  <thead>\n",
       "    <tr style=\"text-align: right;\">\n",
       "      <th></th>\n",
       "      <th>name</th>\n",
       "      <th>platform</th>\n",
       "      <th>year_of_release</th>\n",
       "      <th>genre</th>\n",
       "      <th>na_sales</th>\n",
       "      <th>eu_sales</th>\n",
       "      <th>jp_sales</th>\n",
       "      <th>other_sales</th>\n",
       "      <th>critic_score</th>\n",
       "      <th>user_score</th>\n",
       "      <th>rating</th>\n",
       "    </tr>\n",
       "  </thead>\n",
       "  <tbody>\n",
       "    <tr>\n",
       "      <th>16712</th>\n",
       "      <td>Haitaka no Psychedelica</td>\n",
       "      <td>PSV</td>\n",
       "      <td>2016</td>\n",
       "      <td>Adventure</td>\n",
       "      <td>0.00</td>\n",
       "      <td>0.0</td>\n",
       "      <td>0.01</td>\n",
       "      <td>0.0</td>\n",
       "      <td>NaN</td>\n",
       "      <td>NaN</td>\n",
       "      <td>NaN</td>\n",
       "    </tr>\n",
       "    <tr>\n",
       "      <th>16713</th>\n",
       "      <td>Spirits &amp; Spells</td>\n",
       "      <td>GBA</td>\n",
       "      <td>2003</td>\n",
       "      <td>Platform</td>\n",
       "      <td>0.01</td>\n",
       "      <td>0.0</td>\n",
       "      <td>0.00</td>\n",
       "      <td>0.0</td>\n",
       "      <td>NaN</td>\n",
       "      <td>NaN</td>\n",
       "      <td>NaN</td>\n",
       "    </tr>\n",
       "    <tr>\n",
       "      <th>16714</th>\n",
       "      <td>Winning Post 8 2016</td>\n",
       "      <td>PSV</td>\n",
       "      <td>2016</td>\n",
       "      <td>Simulation</td>\n",
       "      <td>0.00</td>\n",
       "      <td>0.0</td>\n",
       "      <td>0.01</td>\n",
       "      <td>0.0</td>\n",
       "      <td>NaN</td>\n",
       "      <td>NaN</td>\n",
       "      <td>NaN</td>\n",
       "    </tr>\n",
       "  </tbody>\n",
       "</table>\n",
       "</div>"
      ],
      "text/plain": [
       "                          name platform  year_of_release       genre  \\\n",
       "16712  Haitaka no Psychedelica      PSV             2016   Adventure   \n",
       "16713         Spirits & Spells      GBA             2003    Platform   \n",
       "16714      Winning Post 8 2016      PSV             2016  Simulation   \n",
       "\n",
       "       na_sales  eu_sales  jp_sales  other_sales  critic_score  user_score  \\\n",
       "16712      0.00       0.0      0.01          0.0           NaN         NaN   \n",
       "16713      0.01       0.0      0.00          0.0           NaN         NaN   \n",
       "16714      0.00       0.0      0.01          0.0           NaN         NaN   \n",
       "\n",
       "      rating  \n",
       "16712    NaN  \n",
       "16713    NaN  \n",
       "16714    NaN  "
      ]
     },
     "execution_count": 16,
     "metadata": {},
     "output_type": "execute_result"
    }
   ],
   "source": [
    "# Reviewer's code\n",
    "\n",
    "display(df.head(3))\n",
    "\n",
    "df.tail(3)"
   ]
  },
  {
   "cell_type": "markdown",
   "metadata": {},
   "source": [
    "The above result shows two missing rows with names and in the result we can see the datas are missing in genre, critic-score, user score and rating columns too. So we can remove this two rows, which can't affect the integrity of the data."
   ]
  },
  {
   "cell_type": "code",
   "execution_count": 17,
   "metadata": {},
   "outputs": [
    {
     "name": "stdout",
     "output_type": "stream",
     "text": [
      "<class 'pandas.core.frame.DataFrame'>\n",
      "Int64Index: 16713 entries, 0 to 16714\n",
      "Data columns (total 11 columns):\n",
      " #   Column           Non-Null Count  Dtype  \n",
      "---  ------           --------------  -----  \n",
      " 0   name             16713 non-null  object \n",
      " 1   platform         16713 non-null  object \n",
      " 2   year_of_release  16444 non-null  Int64  \n",
      " 3   genre            16713 non-null  object \n",
      " 4   na_sales         16713 non-null  float64\n",
      " 5   eu_sales         16713 non-null  float64\n",
      " 6   jp_sales         16713 non-null  float64\n",
      " 7   other_sales      16713 non-null  float64\n",
      " 8   critic_score     8137 non-null   float64\n",
      " 9   user_score       7590 non-null   float64\n",
      " 10  rating           9949 non-null   object \n",
      "dtypes: Int64(1), float64(6), object(4)\n",
      "memory usage: 1.5+ MB\n"
     ]
    }
   ],
   "source": [
    "# Dropping the columns with missing names\n",
    "df= df.dropna(subset =['name'])\n",
    "df.info()"
   ]
  },
  {
   "cell_type": "markdown",
   "metadata": {},
   "source": [
    "Ther are 269 rows are missing in the year of release and we can't remove this rows.  Because it may affect the total sales. So we are going to fill the year with the median of each console. "
   ]
  },
  {
   "cell_type": "code",
   "execution_count": 18,
   "metadata": {},
   "outputs": [],
   "source": [
    "# Fill the missing years with median\n",
    "df['year_of_release'] = df.groupby('platform')['year_of_release'].transform(lambda x:x.fillna(x.median()))"
   ]
  },
  {
   "cell_type": "markdown",
   "metadata": {},
   "source": [
    "More than 50 percent of values are missing in user_score and critic_score. We can't remove this columns because we remove this may affect the data integrity. So I decide to keep these two columns as such."
   ]
  },
  {
   "cell_type": "code",
   "execution_count": 19,
   "metadata": {},
   "outputs": [
    {
     "data": {
      "text/plain": [
       "array(['E', nan, 'M', 'T', 'E10+', 'K-A', 'AO', 'EC', 'RP'], dtype=object)"
      ]
     },
     "execution_count": 19,
     "metadata": {},
     "output_type": "execute_result"
    }
   ],
   "source": [
    "# Check for rating values\n",
    "df['rating'].unique()"
   ]
  },
  {
   "cell_type": "code",
   "execution_count": 20,
   "metadata": {},
   "outputs": [],
   "source": [
    "df['rating'] =df['rating'].fillna('unknown')"
   ]
  },
  {
   "cell_type": "markdown",
   "metadata": {},
   "source": [
    "The missing rating column is filled as unknown"
   ]
  },
  {
   "cell_type": "code",
   "execution_count": 21,
   "metadata": {},
   "outputs": [
    {
     "data": {
      "text/html": [
       "<div>\n",
       "<style scoped>\n",
       "    .dataframe tbody tr th:only-of-type {\n",
       "        vertical-align: middle;\n",
       "    }\n",
       "\n",
       "    .dataframe tbody tr th {\n",
       "        vertical-align: top;\n",
       "    }\n",
       "\n",
       "    .dataframe thead th {\n",
       "        text-align: right;\n",
       "    }\n",
       "</style>\n",
       "<table border=\"1\" class=\"dataframe\">\n",
       "  <thead>\n",
       "    <tr style=\"text-align: right;\">\n",
       "      <th></th>\n",
       "      <th>name</th>\n",
       "      <th>platform</th>\n",
       "      <th>year_of_release</th>\n",
       "      <th>genre</th>\n",
       "      <th>na_sales</th>\n",
       "      <th>eu_sales</th>\n",
       "      <th>jp_sales</th>\n",
       "      <th>other_sales</th>\n",
       "      <th>critic_score</th>\n",
       "      <th>user_score</th>\n",
       "      <th>rating</th>\n",
       "      <th>total_sales</th>\n",
       "    </tr>\n",
       "  </thead>\n",
       "  <tbody>\n",
       "    <tr>\n",
       "      <th>0</th>\n",
       "      <td>Wii Sports</td>\n",
       "      <td>Wii</td>\n",
       "      <td>2006</td>\n",
       "      <td>Sports</td>\n",
       "      <td>41.36</td>\n",
       "      <td>28.96</td>\n",
       "      <td>3.77</td>\n",
       "      <td>8.45</td>\n",
       "      <td>76.0</td>\n",
       "      <td>8.0</td>\n",
       "      <td>E</td>\n",
       "      <td>82.54</td>\n",
       "    </tr>\n",
       "    <tr>\n",
       "      <th>1</th>\n",
       "      <td>Super Mario Bros.</td>\n",
       "      <td>NES</td>\n",
       "      <td>1985</td>\n",
       "      <td>Platform</td>\n",
       "      <td>29.08</td>\n",
       "      <td>3.58</td>\n",
       "      <td>6.81</td>\n",
       "      <td>0.77</td>\n",
       "      <td>NaN</td>\n",
       "      <td>NaN</td>\n",
       "      <td>unknown</td>\n",
       "      <td>40.24</td>\n",
       "    </tr>\n",
       "    <tr>\n",
       "      <th>2</th>\n",
       "      <td>Mario Kart Wii</td>\n",
       "      <td>Wii</td>\n",
       "      <td>2008</td>\n",
       "      <td>Racing</td>\n",
       "      <td>15.68</td>\n",
       "      <td>12.76</td>\n",
       "      <td>3.79</td>\n",
       "      <td>3.29</td>\n",
       "      <td>82.0</td>\n",
       "      <td>8.3</td>\n",
       "      <td>E</td>\n",
       "      <td>35.52</td>\n",
       "    </tr>\n",
       "    <tr>\n",
       "      <th>3</th>\n",
       "      <td>Wii Sports Resort</td>\n",
       "      <td>Wii</td>\n",
       "      <td>2009</td>\n",
       "      <td>Sports</td>\n",
       "      <td>15.61</td>\n",
       "      <td>10.93</td>\n",
       "      <td>3.28</td>\n",
       "      <td>2.95</td>\n",
       "      <td>80.0</td>\n",
       "      <td>8.0</td>\n",
       "      <td>E</td>\n",
       "      <td>32.77</td>\n",
       "    </tr>\n",
       "    <tr>\n",
       "      <th>4</th>\n",
       "      <td>Pokemon Red/Pokemon Blue</td>\n",
       "      <td>GB</td>\n",
       "      <td>1996</td>\n",
       "      <td>Role-Playing</td>\n",
       "      <td>11.27</td>\n",
       "      <td>8.89</td>\n",
       "      <td>10.22</td>\n",
       "      <td>1.00</td>\n",
       "      <td>NaN</td>\n",
       "      <td>NaN</td>\n",
       "      <td>unknown</td>\n",
       "      <td>31.38</td>\n",
       "    </tr>\n",
       "    <tr>\n",
       "      <th>...</th>\n",
       "      <td>...</td>\n",
       "      <td>...</td>\n",
       "      <td>...</td>\n",
       "      <td>...</td>\n",
       "      <td>...</td>\n",
       "      <td>...</td>\n",
       "      <td>...</td>\n",
       "      <td>...</td>\n",
       "      <td>...</td>\n",
       "      <td>...</td>\n",
       "      <td>...</td>\n",
       "      <td>...</td>\n",
       "    </tr>\n",
       "    <tr>\n",
       "      <th>16710</th>\n",
       "      <td>Samurai Warriors: Sanada Maru</td>\n",
       "      <td>PS3</td>\n",
       "      <td>2016</td>\n",
       "      <td>Action</td>\n",
       "      <td>0.00</td>\n",
       "      <td>0.00</td>\n",
       "      <td>0.01</td>\n",
       "      <td>0.00</td>\n",
       "      <td>NaN</td>\n",
       "      <td>NaN</td>\n",
       "      <td>unknown</td>\n",
       "      <td>0.01</td>\n",
       "    </tr>\n",
       "    <tr>\n",
       "      <th>16711</th>\n",
       "      <td>LMA Manager 2007</td>\n",
       "      <td>X360</td>\n",
       "      <td>2006</td>\n",
       "      <td>Sports</td>\n",
       "      <td>0.00</td>\n",
       "      <td>0.01</td>\n",
       "      <td>0.00</td>\n",
       "      <td>0.00</td>\n",
       "      <td>NaN</td>\n",
       "      <td>NaN</td>\n",
       "      <td>unknown</td>\n",
       "      <td>0.01</td>\n",
       "    </tr>\n",
       "    <tr>\n",
       "      <th>16712</th>\n",
       "      <td>Haitaka no Psychedelica</td>\n",
       "      <td>PSV</td>\n",
       "      <td>2016</td>\n",
       "      <td>Adventure</td>\n",
       "      <td>0.00</td>\n",
       "      <td>0.00</td>\n",
       "      <td>0.01</td>\n",
       "      <td>0.00</td>\n",
       "      <td>NaN</td>\n",
       "      <td>NaN</td>\n",
       "      <td>unknown</td>\n",
       "      <td>0.01</td>\n",
       "    </tr>\n",
       "    <tr>\n",
       "      <th>16713</th>\n",
       "      <td>Spirits &amp; Spells</td>\n",
       "      <td>GBA</td>\n",
       "      <td>2003</td>\n",
       "      <td>Platform</td>\n",
       "      <td>0.01</td>\n",
       "      <td>0.00</td>\n",
       "      <td>0.00</td>\n",
       "      <td>0.00</td>\n",
       "      <td>NaN</td>\n",
       "      <td>NaN</td>\n",
       "      <td>unknown</td>\n",
       "      <td>0.01</td>\n",
       "    </tr>\n",
       "    <tr>\n",
       "      <th>16714</th>\n",
       "      <td>Winning Post 8 2016</td>\n",
       "      <td>PSV</td>\n",
       "      <td>2016</td>\n",
       "      <td>Simulation</td>\n",
       "      <td>0.00</td>\n",
       "      <td>0.00</td>\n",
       "      <td>0.01</td>\n",
       "      <td>0.00</td>\n",
       "      <td>NaN</td>\n",
       "      <td>NaN</td>\n",
       "      <td>unknown</td>\n",
       "      <td>0.01</td>\n",
       "    </tr>\n",
       "  </tbody>\n",
       "</table>\n",
       "<p>16713 rows × 12 columns</p>\n",
       "</div>"
      ],
      "text/plain": [
       "                                name platform  year_of_release         genre  \\\n",
       "0                         Wii Sports      Wii             2006        Sports   \n",
       "1                  Super Mario Bros.      NES             1985      Platform   \n",
       "2                     Mario Kart Wii      Wii             2008        Racing   \n",
       "3                  Wii Sports Resort      Wii             2009        Sports   \n",
       "4           Pokemon Red/Pokemon Blue       GB             1996  Role-Playing   \n",
       "...                              ...      ...              ...           ...   \n",
       "16710  Samurai Warriors: Sanada Maru      PS3             2016        Action   \n",
       "16711               LMA Manager 2007     X360             2006        Sports   \n",
       "16712        Haitaka no Psychedelica      PSV             2016     Adventure   \n",
       "16713               Spirits & Spells      GBA             2003      Platform   \n",
       "16714            Winning Post 8 2016      PSV             2016    Simulation   \n",
       "\n",
       "       na_sales  eu_sales  jp_sales  other_sales  critic_score  user_score  \\\n",
       "0         41.36     28.96      3.77         8.45          76.0         8.0   \n",
       "1         29.08      3.58      6.81         0.77           NaN         NaN   \n",
       "2         15.68     12.76      3.79         3.29          82.0         8.3   \n",
       "3         15.61     10.93      3.28         2.95          80.0         8.0   \n",
       "4         11.27      8.89     10.22         1.00           NaN         NaN   \n",
       "...         ...       ...       ...          ...           ...         ...   \n",
       "16710      0.00      0.00      0.01         0.00           NaN         NaN   \n",
       "16711      0.00      0.01      0.00         0.00           NaN         NaN   \n",
       "16712      0.00      0.00      0.01         0.00           NaN         NaN   \n",
       "16713      0.01      0.00      0.00         0.00           NaN         NaN   \n",
       "16714      0.00      0.00      0.01         0.00           NaN         NaN   \n",
       "\n",
       "        rating  total_sales  \n",
       "0            E        82.54  \n",
       "1      unknown        40.24  \n",
       "2            E        35.52  \n",
       "3            E        32.77  \n",
       "4      unknown        31.38  \n",
       "...        ...          ...  \n",
       "16710  unknown         0.01  \n",
       "16711  unknown         0.01  \n",
       "16712  unknown         0.01  \n",
       "16713  unknown         0.01  \n",
       "16714  unknown         0.01  \n",
       "\n",
       "[16713 rows x 12 columns]"
      ]
     },
     "metadata": {},
     "output_type": "display_data"
    }
   ],
   "source": [
    "# Calculate total sales for each game\n",
    "df['total_sales'] = df['na_sales'] +  df['eu_sales'] + df['jp_sales'] + df['other_sales'] \n",
    "display(df)"
   ]
  },
  {
   "cell_type": "code",
   "execution_count": 22,
   "metadata": {},
   "outputs": [
    {
     "name": "stdout",
     "output_type": "stream",
     "text": [
      "<class 'pandas.core.frame.DataFrame'>\n",
      "Int64Index: 16713 entries, 0 to 16714\n",
      "Data columns (total 12 columns):\n",
      " #   Column           Non-Null Count  Dtype  \n",
      "---  ------           --------------  -----  \n",
      " 0   name             16713 non-null  object \n",
      " 1   platform         16713 non-null  object \n",
      " 2   year_of_release  16713 non-null  Int64  \n",
      " 3   genre            16713 non-null  object \n",
      " 4   na_sales         16713 non-null  float64\n",
      " 5   eu_sales         16713 non-null  float64\n",
      " 6   jp_sales         16713 non-null  float64\n",
      " 7   other_sales      16713 non-null  float64\n",
      " 8   critic_score     8137 non-null   float64\n",
      " 9   user_score       7590 non-null   float64\n",
      " 10  rating           16713 non-null  object \n",
      " 11  total_sales      16713 non-null  float64\n",
      "dtypes: Int64(1), float64(7), object(4)\n",
      "memory usage: 1.7+ MB\n"
     ]
    }
   ],
   "source": [
    "df.info()"
   ]
  },
  {
   "cell_type": "markdown",
   "metadata": {},
   "source": [
    "From the above information, all the missing datas are removed from name, genre, year and rating columns and keep the critic score and user score as same for the analysis. Also calculate total sales for each game."
   ]
  },
  {
   "cell_type": "markdown",
   "metadata": {},
   "source": [
    "### Conclusion:\n",
    "    In this stage, we preprocess the data for analysis. We change the datatypes to appropriate form, check whether any duplicated values, any missing values etc. In this stage we calculate the total sales for each game also. "
   ]
  },
  {
   "cell_type": "markdown",
   "metadata": {},
   "source": [
    "## Third Stage :\n",
    "    In this stage, we are going to analyze the preprocessed data and also plot some relationships. Here, we analyze the number of games released per year, how sales varies from platform to platform insights about global sales, corelation between reviews and sales, genres with high and low sales etc."
   ]
  },
  {
   "cell_type": "markdown",
   "metadata": {},
   "source": [
    "###  Our aim is to find number of games released by each year."
   ]
  },
  {
   "cell_type": "code",
   "execution_count": 61,
   "metadata": {},
   "outputs": [
    {
     "data": {
      "image/png": "[encoded data removed]",
      "text/plain": [
       "<Figure size 1000x800 with 1 Axes>"
      ]
     },
     "metadata": {},
     "output_type": "display_data"
    }
   ],
   "source": [
    "# To find the number of games per year\n",
    "number_of_games = df.pivot_table(index ='year_of_release', values ='name', aggfunc ='count')\n",
    "number_of_games = number_of_games.rename(columns = {'name':'count'})\n",
    "# Plot barplot \n",
    "number_of_games.plot(kind='bar', title ='Year Vs Number of games', xlabel ='Year', ylabel ='Total Count', figsize = (10,8), color ='plum', legend =False)\n",
    "plt.xticks(rotation=50)\n",
    "plt.show()"
   ]
  },
  {
   "cell_type": "markdown",
   "metadata": {},
   "source": [
    "The above bar chart shows the number of games released from 1980 to 2016. From the bar chart, it is clear that the number of games released  is increasing  every year upto 2011 and after that there is a decrease. The maximum number of games are released in 2008-2009."
   ]
  },
  {
   "cell_type": "markdown",
   "metadata": {},
   "source": [
    "####  Our aim is to find how sales varied from platform to platform. Also find the  platforms with the greatest total sales and build a distribution based on data for each year. Find platforms that used to be popular but now have zero sales. Also evaluvate how long does it generally take for new platforms to appear and old ones to fade."
   ]
  },
  {
   "cell_type": "code",
   "execution_count": 54,
   "metadata": {},
   "outputs": [
    {
     "data": {
      "image/png": "[encoded data removed]",
      "text/plain": [
       "<Figure size 1000x800 with 1 Axes>"
      ]
     },
     "metadata": {},
     "output_type": "display_data"
    }
   ],
   "source": [
    "# To find sales for each year and plot linechart\n",
    "sales_platform =df.groupby(['year_of_release', 'platform'])['total_sales'].sum().unstack()\n",
    "sales_platform.plot(title ='Sales of different platforms', xlabel = 'Year', ylabel =\"Total sales\", figsize =(10,8))\n",
    "plt.legend(loc='upper left', bbox_to_anchor=(1.05, 1))\n",
    "plt.show()"
   ]
  },
  {
   "cell_type": "code",
   "execution_count": 23,
   "metadata": {},
   "outputs": [
    {
     "data": {
      "text/plain": [
       "platform\n",
       "PS2     1255.77\n",
       "X360     971.42\n",
       "PS3      939.65\n",
       "Wii      907.51\n",
       "DS       806.12\n",
       "Name: total_sales, dtype: float64"
      ]
     },
     "execution_count": 23,
     "metadata": {},
     "output_type": "execute_result"
    }
   ],
   "source": [
    "# To find the platform with greatest total sales\n",
    "df.groupby(['platform'])['total_sales'].sum().nlargest()"
   ]
  },
  {
   "cell_type": "markdown",
   "metadata": {},
   "source": [
    "The line chart shows the distribution of each platform based on sales for each year. The top 5 platforms having greatest sales are PS2, X360, PS3, Wii and DS respectively. The popular platforms which now have zero sales are PS2, NES, PS3, GB, GBA, DS etc. The average life cycle for a platform is bout 5 to 6 years and in early years, more than 5 years will take for generally new platform and to fade old ones. But when we analyze after 2008, for new platform will generally take less than 5 years and old platforms are gradually decreasing.   "
   ]
  },
  {
   "cell_type": "markdown",
   "metadata": {},
   "source": [
    "###  Our aim is to build a model for 2017, determine the period you should take for data. For this purpose analyse the data for last 3-4 years. i.e, to build a model for 2017 we analyze the data for recently used platforms"
   ]
  },
  {
   "cell_type": "code",
   "execution_count": 75,
   "metadata": {},
   "outputs": [
    {
     "data": {
      "text/html": [
       "<div>\n",
       "<style scoped>\n",
       "    .dataframe tbody tr th:only-of-type {\n",
       "        vertical-align: middle;\n",
       "    }\n",
       "\n",
       "    .dataframe tbody tr th {\n",
       "        vertical-align: top;\n",
       "    }\n",
       "\n",
       "    .dataframe thead th {\n",
       "        text-align: right;\n",
       "    }\n",
       "</style>\n",
       "<table border=\"1\" class=\"dataframe\">\n",
       "  <thead>\n",
       "    <tr style=\"text-align: right;\">\n",
       "      <th></th>\n",
       "      <th>name</th>\n",
       "      <th>platform</th>\n",
       "      <th>year_of_release</th>\n",
       "      <th>genre</th>\n",
       "      <th>na_sales</th>\n",
       "      <th>eu_sales</th>\n",
       "      <th>jp_sales</th>\n",
       "      <th>other_sales</th>\n",
       "      <th>critic_score</th>\n",
       "      <th>user_score</th>\n",
       "      <th>rating</th>\n",
       "      <th>total_sales</th>\n",
       "    </tr>\n",
       "  </thead>\n",
       "  <tbody>\n",
       "    <tr>\n",
       "      <th>31</th>\n",
       "      <td>Call of Duty: Black Ops 3</td>\n",
       "      <td>PS4</td>\n",
       "      <td>2015</td>\n",
       "      <td>Shooter</td>\n",
       "      <td>6.03</td>\n",
       "      <td>5.86</td>\n",
       "      <td>0.36</td>\n",
       "      <td>2.38</td>\n",
       "      <td>NaN</td>\n",
       "      <td>NaN</td>\n",
       "      <td>NaN</td>\n",
       "      <td>14.63</td>\n",
       "    </tr>\n",
       "    <tr>\n",
       "      <th>42</th>\n",
       "      <td>Grand Theft Auto V</td>\n",
       "      <td>PS4</td>\n",
       "      <td>2014</td>\n",
       "      <td>Action</td>\n",
       "      <td>3.96</td>\n",
       "      <td>6.31</td>\n",
       "      <td>0.38</td>\n",
       "      <td>1.97</td>\n",
       "      <td>97.0</td>\n",
       "      <td>8.3</td>\n",
       "      <td>M</td>\n",
       "      <td>12.62</td>\n",
       "    </tr>\n",
       "    <tr>\n",
       "      <th>47</th>\n",
       "      <td>Pokemon Omega Ruby/Pokemon Alpha Sapphire</td>\n",
       "      <td>3DS</td>\n",
       "      <td>2014</td>\n",
       "      <td>Role-Playing</td>\n",
       "      <td>4.35</td>\n",
       "      <td>3.49</td>\n",
       "      <td>3.10</td>\n",
       "      <td>0.74</td>\n",
       "      <td>NaN</td>\n",
       "      <td>NaN</td>\n",
       "      <td>NaN</td>\n",
       "      <td>11.68</td>\n",
       "    </tr>\n",
       "    <tr>\n",
       "      <th>77</th>\n",
       "      <td>FIFA 16</td>\n",
       "      <td>PS4</td>\n",
       "      <td>2015</td>\n",
       "      <td>Sports</td>\n",
       "      <td>1.12</td>\n",
       "      <td>6.12</td>\n",
       "      <td>0.06</td>\n",
       "      <td>1.28</td>\n",
       "      <td>82.0</td>\n",
       "      <td>4.3</td>\n",
       "      <td>E</td>\n",
       "      <td>8.58</td>\n",
       "    </tr>\n",
       "    <tr>\n",
       "      <th>87</th>\n",
       "      <td>Star Wars Battlefront (2015)</td>\n",
       "      <td>PS4</td>\n",
       "      <td>2015</td>\n",
       "      <td>Shooter</td>\n",
       "      <td>2.99</td>\n",
       "      <td>3.49</td>\n",
       "      <td>0.22</td>\n",
       "      <td>1.28</td>\n",
       "      <td>NaN</td>\n",
       "      <td>NaN</td>\n",
       "      <td>NaN</td>\n",
       "      <td>7.98</td>\n",
       "    </tr>\n",
       "    <tr>\n",
       "      <th>...</th>\n",
       "      <td>...</td>\n",
       "      <td>...</td>\n",
       "      <td>...</td>\n",
       "      <td>...</td>\n",
       "      <td>...</td>\n",
       "      <td>...</td>\n",
       "      <td>...</td>\n",
       "      <td>...</td>\n",
       "      <td>...</td>\n",
       "      <td>...</td>\n",
       "      <td>...</td>\n",
       "      <td>...</td>\n",
       "    </tr>\n",
       "    <tr>\n",
       "      <th>16703</th>\n",
       "      <td>Strawberry Nauts</td>\n",
       "      <td>PSV</td>\n",
       "      <td>2016</td>\n",
       "      <td>Adventure</td>\n",
       "      <td>0.00</td>\n",
       "      <td>0.00</td>\n",
       "      <td>0.01</td>\n",
       "      <td>0.00</td>\n",
       "      <td>NaN</td>\n",
       "      <td>NaN</td>\n",
       "      <td>NaN</td>\n",
       "      <td>0.01</td>\n",
       "    </tr>\n",
       "    <tr>\n",
       "      <th>16707</th>\n",
       "      <td>Aiyoku no Eustia</td>\n",
       "      <td>PSV</td>\n",
       "      <td>2014</td>\n",
       "      <td>Misc</td>\n",
       "      <td>0.00</td>\n",
       "      <td>0.00</td>\n",
       "      <td>0.01</td>\n",
       "      <td>0.00</td>\n",
       "      <td>NaN</td>\n",
       "      <td>NaN</td>\n",
       "      <td>NaN</td>\n",
       "      <td>0.01</td>\n",
       "    </tr>\n",
       "    <tr>\n",
       "      <th>16710</th>\n",
       "      <td>Samurai Warriors: Sanada Maru</td>\n",
       "      <td>PS3</td>\n",
       "      <td>2016</td>\n",
       "      <td>Action</td>\n",
       "      <td>0.00</td>\n",
       "      <td>0.00</td>\n",
       "      <td>0.01</td>\n",
       "      <td>0.00</td>\n",
       "      <td>NaN</td>\n",
       "      <td>NaN</td>\n",
       "      <td>NaN</td>\n",
       "      <td>0.01</td>\n",
       "    </tr>\n",
       "    <tr>\n",
       "      <th>16712</th>\n",
       "      <td>Haitaka no Psychedelica</td>\n",
       "      <td>PSV</td>\n",
       "      <td>2016</td>\n",
       "      <td>Adventure</td>\n",
       "      <td>0.00</td>\n",
       "      <td>0.00</td>\n",
       "      <td>0.01</td>\n",
       "      <td>0.00</td>\n",
       "      <td>NaN</td>\n",
       "      <td>NaN</td>\n",
       "      <td>NaN</td>\n",
       "      <td>0.01</td>\n",
       "    </tr>\n",
       "    <tr>\n",
       "      <th>16714</th>\n",
       "      <td>Winning Post 8 2016</td>\n",
       "      <td>PSV</td>\n",
       "      <td>2016</td>\n",
       "      <td>Simulation</td>\n",
       "      <td>0.00</td>\n",
       "      <td>0.00</td>\n",
       "      <td>0.01</td>\n",
       "      <td>0.00</td>\n",
       "      <td>NaN</td>\n",
       "      <td>NaN</td>\n",
       "      <td>NaN</td>\n",
       "      <td>0.01</td>\n",
       "    </tr>\n",
       "  </tbody>\n",
       "</table>\n",
       "<p>1690 rows × 12 columns</p>\n",
       "</div>"
      ],
      "text/plain": [
       "                                            name platform  year_of_release  \\\n",
       "31                     Call of Duty: Black Ops 3      PS4             2015   \n",
       "42                            Grand Theft Auto V      PS4             2014   \n",
       "47     Pokemon Omega Ruby/Pokemon Alpha Sapphire      3DS             2014   \n",
       "77                                       FIFA 16      PS4             2015   \n",
       "87                  Star Wars Battlefront (2015)      PS4             2015   \n",
       "...                                          ...      ...              ...   \n",
       "16703                           Strawberry Nauts      PSV             2016   \n",
       "16707                           Aiyoku no Eustia      PSV             2014   \n",
       "16710              Samurai Warriors: Sanada Maru      PS3             2016   \n",
       "16712                    Haitaka no Psychedelica      PSV             2016   \n",
       "16714                        Winning Post 8 2016      PSV             2016   \n",
       "\n",
       "              genre  na_sales  eu_sales  jp_sales  other_sales  critic_score  \\\n",
       "31          Shooter      6.03      5.86      0.36         2.38           NaN   \n",
       "42           Action      3.96      6.31      0.38         1.97          97.0   \n",
       "47     Role-Playing      4.35      3.49      3.10         0.74           NaN   \n",
       "77           Sports      1.12      6.12      0.06         1.28          82.0   \n",
       "87          Shooter      2.99      3.49      0.22         1.28           NaN   \n",
       "...             ...       ...       ...       ...          ...           ...   \n",
       "16703     Adventure      0.00      0.00      0.01         0.00           NaN   \n",
       "16707          Misc      0.00      0.00      0.01         0.00           NaN   \n",
       "16710        Action      0.00      0.00      0.01         0.00           NaN   \n",
       "16712     Adventure      0.00      0.00      0.01         0.00           NaN   \n",
       "16714    Simulation      0.00      0.00      0.01         0.00           NaN   \n",
       "\n",
       "       user_score rating  total_sales  \n",
       "31            NaN    NaN        14.63  \n",
       "42            8.3      M        12.62  \n",
       "47            NaN    NaN        11.68  \n",
       "77            4.3      E         8.58  \n",
       "87            NaN    NaN         7.98  \n",
       "...           ...    ...          ...  \n",
       "16703         NaN    NaN         0.01  \n",
       "16707         NaN    NaN         0.01  \n",
       "16710         NaN    NaN         0.01  \n",
       "16712         NaN    NaN         0.01  \n",
       "16714         NaN    NaN         0.01  \n",
       "\n",
       "[1690 rows x 12 columns]"
      ]
     },
     "metadata": {},
     "output_type": "display_data"
    }
   ],
   "source": [
    "# To find recent year dat to build a model for 2017\n",
    "recent_df =df[df['year_of_release']>=2014]\n",
    "display(recent_df)"
   ]
  },
  {
   "cell_type": "code",
   "execution_count": 76,
   "metadata": {},
   "outputs": [
    {
     "data": {
      "text/plain": [
       "array(['PS4', '3DS', 'XOne', 'WiiU', 'PS3', 'X360', 'PC', 'Wii', 'PSV',\n",
       "       'PSP'], dtype=object)"
      ]
     },
     "execution_count": 76,
     "metadata": {},
     "output_type": "execute_result"
    }
   ],
   "source": [
    "# Check for recent platforms\n",
    "recent_df['platform'].unique()"
   ]
  },
  {
   "cell_type": "markdown",
   "metadata": {},
   "source": [
    "Here, to build a model for 2017, we select last 3 years data and disregard the previous years. Because the market is dynamic and trends are changing every year. The platforms used in last 3 years are PS4, 3DS, XOne, WiiU, PS3 X360, PC, Wii, PSV and PSP."
   ]
  },
  {
   "cell_type": "markdown",
   "metadata": {},
   "source": [
    "###  Our aim is to find the platforms are leading in sales recently. Also find growing and shrinking platforms in recent years and potentially profitable platforms."
   ]
  },
  {
   "cell_type": "code",
   "execution_count": 77,
   "metadata": {},
   "outputs": [
    {
     "name": "stdout",
     "output_type": "stream",
     "text": [
      "platform\n",
      "PS4     288.15\n",
      "XOne    140.36\n",
      "3DS      86.68\n",
      "PS3      68.18\n",
      "X360     48.22\n",
      "Name: total_sales, dtype: float64\n"
     ]
    }
   ],
   "source": [
    "# To find recent leading sales platform\n",
    "recent_platform = recent_df.groupby('platform')['total_sales'].sum()\n",
    "print(recent_platform.sort_values(ascending =False).head())"
   ]
  },
  {
   "cell_type": "code",
   "execution_count": 78,
   "metadata": {},
   "outputs": [
    {
     "data": {
      "text/html": [
       "<div>\n",
       "<style scoped>\n",
       "    .dataframe tbody tr th:only-of-type {\n",
       "        vertical-align: middle;\n",
       "    }\n",
       "\n",
       "    .dataframe tbody tr th {\n",
       "        vertical-align: top;\n",
       "    }\n",
       "\n",
       "    .dataframe thead th {\n",
       "        text-align: right;\n",
       "    }\n",
       "</style>\n",
       "<table border=\"1\" class=\"dataframe\">\n",
       "  <thead>\n",
       "    <tr style=\"text-align: right;\">\n",
       "      <th>platform</th>\n",
       "      <th>3DS</th>\n",
       "      <th>PC</th>\n",
       "      <th>PS3</th>\n",
       "      <th>PS4</th>\n",
       "      <th>PSP</th>\n",
       "      <th>PSV</th>\n",
       "      <th>Wii</th>\n",
       "      <th>WiiU</th>\n",
       "      <th>X360</th>\n",
       "      <th>XOne</th>\n",
       "    </tr>\n",
       "    <tr>\n",
       "      <th>year_of_release</th>\n",
       "      <th></th>\n",
       "      <th></th>\n",
       "      <th></th>\n",
       "      <th></th>\n",
       "      <th></th>\n",
       "      <th></th>\n",
       "      <th></th>\n",
       "      <th></th>\n",
       "      <th></th>\n",
       "      <th></th>\n",
       "    </tr>\n",
       "  </thead>\n",
       "  <tbody>\n",
       "    <tr>\n",
       "      <th>2014</th>\n",
       "      <td>43.76</td>\n",
       "      <td>13.28</td>\n",
       "      <td>47.76</td>\n",
       "      <td>100.00</td>\n",
       "      <td>0.24</td>\n",
       "      <td>12.16</td>\n",
       "      <td>3.75</td>\n",
       "      <td>22.03</td>\n",
       "      <td>34.74</td>\n",
       "      <td>54.07</td>\n",
       "    </tr>\n",
       "    <tr>\n",
       "      <th>2015</th>\n",
       "      <td>27.78</td>\n",
       "      <td>8.52</td>\n",
       "      <td>16.82</td>\n",
       "      <td>118.90</td>\n",
       "      <td>0.12</td>\n",
       "      <td>6.25</td>\n",
       "      <td>1.14</td>\n",
       "      <td>16.35</td>\n",
       "      <td>11.96</td>\n",
       "      <td>60.14</td>\n",
       "    </tr>\n",
       "    <tr>\n",
       "      <th>2016</th>\n",
       "      <td>15.14</td>\n",
       "      <td>5.25</td>\n",
       "      <td>3.60</td>\n",
       "      <td>69.25</td>\n",
       "      <td>NaN</td>\n",
       "      <td>4.25</td>\n",
       "      <td>0.18</td>\n",
       "      <td>4.60</td>\n",
       "      <td>1.52</td>\n",
       "      <td>26.15</td>\n",
       "    </tr>\n",
       "  </tbody>\n",
       "</table>\n",
       "</div>"
      ],
      "text/plain": [
       "platform           3DS     PC    PS3     PS4   PSP    PSV   Wii   WiiU   X360  \\\n",
       "year_of_release                                                                 \n",
       "2014             43.76  13.28  47.76  100.00  0.24  12.16  3.75  22.03  34.74   \n",
       "2015             27.78   8.52  16.82  118.90  0.12   6.25  1.14  16.35  11.96   \n",
       "2016             15.14   5.25   3.60   69.25   NaN   4.25  0.18   4.60   1.52   \n",
       "\n",
       "platform          XOne  \n",
       "year_of_release         \n",
       "2014             54.07  \n",
       "2015             60.14  \n",
       "2016             26.15  "
      ]
     },
     "metadata": {},
     "output_type": "display_data"
    }
   ],
   "source": [
    "# To find recent sales for each year\n",
    "recent_sales_platform =recent_df.groupby(['year_of_release', 'platform'])['total_sales'].sum().unstack()\n",
    "display(recent_sales_platform)"
   ]
  },
  {
   "cell_type": "markdown",
   "metadata": {},
   "source": [
    "The top 5 leading sales platforms are PS4, XOne, 3DS, PS3 and X360 respectively. The profitable platform in the recent years are mainly PS4, XOne and 3DS respectively. The PSP platform is fade to zero and Wii, WiiU, X360 platforms are shrinking. Highest sales in last year was on PS4 platform. "
   ]
  },
  {
   "cell_type": "markdown",
   "metadata": {},
   "source": [
    "###  Our aim is to build a box plot for the global sales of all games, broken down by platform and are the differences in sales significant or not. Also calculate, the average sales on various platforms."
   ]
  },
  {
   "cell_type": "code",
   "execution_count": 83,
   "metadata": {},
   "outputs": [
    {
     "data": {
      "image/png": "[encoded data removed]",
      "text/plain": [
       "<Figure size 640x480 with 1 Axes>"
      ]
     },
     "metadata": {},
     "output_type": "display_data"
    }
   ],
   "source": [
    "# Plot boxplot for global sales by platform\n",
    "sns.boxplot(data =recent_df, x='platform', y='total_sales')\n",
    "plt.title('Global Sales by Platform ')\n",
    "plt.ylim(0,2)\n",
    "plt.xlabel('Platform')\n",
    "plt.ylabel('Total Sales (in USD million)')\n",
    "plt.show()"
   ]
  },
  {
   "cell_type": "code",
   "execution_count": 30,
   "metadata": {},
   "outputs": [
    {
     "name": "stdout",
     "output_type": "stream",
     "text": [
      "              mean       std       var\n",
      "platform                              \n",
      "3DS       0.408868  1.188368  1.412219\n",
      "PC        0.179139  0.329359  0.108477\n",
      "PS3       0.311324  0.633059  0.400764\n",
      "PS4       0.766356  1.614969  2.608124\n",
      "PSP       0.027692  0.027735  0.000769\n",
      "PSV       0.076554  0.141755  0.020095\n",
      "Wii       0.460909  0.625451  0.391189\n",
      "WiiU      0.588767  1.161467  1.349005\n",
      "X360      0.434414  0.628967  0.395599\n",
      "XOne      0.615614  1.046513  1.095189\n"
     ]
    }
   ],
   "source": [
    "# Calculate the statistics for sales by platform\n",
    "platform_sales_stat =recent_df.groupby('platform')['total_sales'].agg(['mean','std','var'])\n",
    "print(platform_sales_stat)"
   ]
  },
  {
   "cell_type": "markdown",
   "metadata": {},
   "source": [
    "Here we plot the boxplot for the global sales of all games by platform and PS4 is leading in sales. PS4 is more spreaded in sales and PSP is least spreaded. From the boxplot, it is clear that difference in sales is significant."
   ]
  },
  {
   "cell_type": "markdown",
   "metadata": {},
   "source": [
    "###  Our aim is to find how user and professional reviews affect sales for  popular platform. For this analysis we choose top 3 platforms recently having leading sales. i.e,PS4, XOne, 3DS.Also build a scatter plot and calculate the correlation between reviews and sales. "
   ]
  },
  {
   "cell_type": "code",
   "execution_count": 31,
   "metadata": {},
   "outputs": [
    {
     "name": "stdout",
     "output_type": "stream",
     "text": [
      " Correlation coefficient for PS4: -0.040131589472697356\n",
      " Correlation coefficient for XOne: -0.0703839280647581\n",
      " Correlation coefficient for 3DS: 0.2151932718527028\n"
     ]
    },
    {
     "data": {
      "image/png": "[encoded data removed]",
      "text/plain": [
       "<Figure size 640x480 with 1 Axes>"
      ]
     },
     "metadata": {},
     "output_type": "display_data"
    }
   ],
   "source": [
    "# Plot scatter plot for popular platforms and find corelation between user score and total sales\n",
    "platforms = ['PS4', 'XOne', '3DS']\n",
    "for platform in platforms:\n",
    "    platform_subset = recent_df[recent_df['platform']==platform]\n",
    "    plt.scatter(platform_subset['user_score'],platform_subset['total_sales'],label=platform, marker='^')\n",
    "    correlation =platform_subset['user_score']. corr(platform_subset['total_sales'])\n",
    "    print(f\" Correlation coefficient for {platform}: {correlation}\")\n",
    " \n",
    "plt.xlabel('User Score')\n",
    "plt.ylabel('Total_sales')\n",
    "plt.ylim(0,16)\n",
    "plt.xlim(0,10)\n",
    "plt.title('Correlation between user score and total sales for platforms PS4, XOne, 3DS')\n",
    "plt.legend(loc='upper left', bbox_to_anchor=(1.05, 1))\n",
    "plt.show()\n",
    "\n"
   ]
  },
  {
   "cell_type": "markdown",
   "metadata": {},
   "source": [
    "To find the correlation between user score and sales we choose three popular platforms and plot scatterplot.  The coorelation coefficent for PS4 and XOne are negative and corelation coefficent for 3DS is positive. Positive coefficent means if one value increases together with other, i.e, if user score increases total sales also increases. From the above plot, we can infer that user_score is not a main factor to increase total sales."
   ]
  },
  {
   "cell_type": "code",
   "execution_count": 32,
   "metadata": {},
   "outputs": [
    {
     "name": "stdout",
     "output_type": "stream",
     "text": [
      " Correlation coefficient for PS4: 0.40266141068104083\n",
      " Correlation coefficient for XOne: 0.42867694370333226\n",
      " Correlation coefficient for 3DS: 0.314117492869051\n"
     ]
    },
    {
     "data": {
      "image/png": "[encoded data removed]",
      "text/plain": [
       "<Figure size 640x480 with 1 Axes>"
      ]
     },
     "metadata": {},
     "output_type": "display_data"
    }
   ],
   "source": [
    "# Plot scatter plot for popular platforms and find corelation between critic score and total sales\n",
    "platforms = ['PS4', 'XOne', '3DS']\n",
    "for platform in platforms:\n",
    "    platform_subset = recent_df[recent_df['platform']==platform]\n",
    "    plt.scatter(platform_subset['critic_score'],platform_subset['total_sales'],label=platform, marker='o')\n",
    "    correlation =platform_subset['critic_score']. corr(platform_subset['total_sales'])\n",
    "    print(f\" Correlation coefficient for {platform}: {correlation}\")\n",
    " \n",
    "plt.xlabel('Critic Score')\n",
    "plt.ylabel('Total_sales')\n",
    "plt.title('Correlation between critic score and total sales for platforms PS4, XOne, 3DS')\n",
    "plt.legend(loc='upper left', bbox_to_anchor=(1.05, 1))\n",
    "plt.show()"
   ]
  },
  {
   "cell_type": "markdown",
   "metadata": {},
   "source": [
    "To find the correlation between critic score and sales we choose three popular platforms and plot scatterplot.  The coorelation coefficent for PS4, XOne and 3DS is positive. Positive coefficent means if one value increases together with other, i.e, if critic score increases total sales also increases. From the above plot, we can infer that professional review is high, sales will increase."
   ]
  },
  {
   "cell_type": "markdown",
   "metadata": {},
   "source": [
    "###  Our aim is to find the general distribution of games by genre.Also comment about the most profitable genres and is it possible to  generalize about genres with high and low sales."
   ]
  },
  {
   "cell_type": "code",
   "execution_count": 33,
   "metadata": {},
   "outputs": [
    {
     "name": "stdout",
     "output_type": "stream",
     "text": [
      "                  mean       std       var\n",
      "genre                                     \n",
      "Action        0.322068  0.798181  0.637093\n",
      "Adventure     0.094865  0.203147  0.041269\n",
      "Fighting      0.470333  1.188053  1.411471\n",
      "Misc          0.332301  0.736999  0.543168\n",
      "Platform      0.476053  0.722561  0.522095\n",
      "Puzzle        0.157857  0.320629  0.102803\n",
      "Racing        0.398841  0.963716  0.928749\n",
      "Role-Playing  0.458108  1.174693  1.379904\n",
      "Shooter       1.335469  2.050567  4.204827\n",
      "Simulation    0.298409  0.646925  0.418511\n",
      "Sports        0.680000  1.239736  1.536946\n",
      "Strategy      0.107027  0.118412  0.014021\n"
     ]
    }
   ],
   "source": [
    "# Calculate the statistics for sales by genre\n",
    "genre_sales_stat =recent_df.groupby('genre')['total_sales'].agg(['mean','std','var'])\n",
    "print(genre_sales_stat)"
   ]
  },
  {
   "cell_type": "code",
   "execution_count": 34,
   "metadata": {},
   "outputs": [
    {
     "data": {
      "image/png": "[encoded data removed]",
      "text/plain": [
       "<Figure size 640x480 with 1 Axes>"
      ]
     },
     "metadata": {},
     "output_type": "display_data"
    }
   ],
   "source": [
    "# Plot boxplot for global sales by genre\n",
    "sns.boxplot(data =recent_df, x='genre', y='total_sales')\n",
    "plt.title('Global Sales by Genre')\n",
    "plt.ylim(0,4)\n",
    "plt.xlabel('Genre')\n",
    "plt.ylabel('Total Sales (in USD million)')\n",
    "plt.xticks(rotation=45)\n",
    "plt.show()"
   ]
  },
  {
   "cell_type": "code",
   "execution_count": 35,
   "metadata": {},
   "outputs": [
    {
     "name": "stdout",
     "output_type": "stream",
     "text": [
      "genre\n",
      "Action          199.36\n",
      "Shooter         170.94\n",
      "Sports          109.48\n",
      "Role-Playing    101.70\n",
      "Misc             37.55\n",
      "Fighting         28.22\n",
      "Racing           27.52\n",
      "Platform         18.09\n",
      "Adventure        17.55\n",
      "Simulation       13.13\n",
      "Strategy          3.96\n",
      "Puzzle            2.21\n",
      "Name: total_sales, dtype: float64\n"
     ]
    }
   ],
   "source": [
    "# To calculate most profitable genres\n",
    "genre_sales =recent_df.groupby('genre')['total_sales'].sum()\n",
    "print(genre_sales.sort_values(ascending=False))"
   ]
  },
  {
   "cell_type": "markdown",
   "metadata": {},
   "source": [
    "From the above result top five profitable genres are action, shooter, sports, role playing, misc respectively. The median of shooter is higher than others and larger spread is also for genre shooter. Genres with low sales includes puzzle, strategy etc"
   ]
  },
  {
   "cell_type": "markdown",
   "metadata": {},
   "source": [
    "## Conclusion:\n",
    "    In this stage we analyze the data and find top platforms, top genres, how sales varied from platform to platform etc.  The top 5 platforms having greatest sales are PS2, X360, PS3, Wii and DS respectively.The platforms used in last 3 years are PS4, 3DS, XOne, WiiU, PS3 X360, PC, Wii, PSV and PSP.The top 5 leading sales platforms recently are PS4, XOne, 3DS, PS3 and X360 respectively. Top five profitable genres are action, shooter, sports, role playing, misc respectively."
   ]
  },
  {
   "cell_type": "markdown",
   "metadata": {},
   "source": [
    "## Fourth Stage:\n",
    " In this stage, create a user profile for each region. For each region (NA, EU, JP), determine:\n",
    " - The top five platforms. Describe variations in their market shares from region to region.\n",
    " - The top five genres. Explain the difference.\n",
    " - Do ESRB ratings affect sales in individual regions"
   ]
  },
  {
   "cell_type": "markdown",
   "metadata": {},
   "source": [
    "### Top five platforms of each region"
   ]
  },
  {
   "cell_type": "code",
   "execution_count": 84,
   "metadata": {},
   "outputs": [
    {
     "name": "stdout",
     "output_type": "stream",
     "text": [
      "  platform  na_sales\n",
      "0      PS4     98.61\n",
      "1     XOne     81.27\n",
      "2     X360     28.30\n",
      "3      3DS     22.64\n",
      "4      PS3     22.05\n"
     ]
    },
    {
     "data": {
      "image/png": "[encoded data removed]",
      "text/plain": [
       "<Figure size 640x480 with 1 Axes>"
      ]
     },
     "metadata": {},
     "output_type": "display_data"
    }
   ],
   "source": [
    "# Top five platforms in NA region\n",
    "na_sales_platform =recent_df.groupby('platform')['na_sales'].sum().sort_values(ascending=False).reset_index()\n",
    "print(na_sales_platform.head())\n",
    "plt.bar(na_sales_platform['platform'][:5],na_sales_platform['na_sales'][:5])\n",
    "plt.title('Top five platforms in NA region')\n",
    "plt.xlabel('Platform')\n",
    "plt.ylabel('NA sales(in USD million)')\n",
    "plt.show()"
   ]
  },
  {
   "cell_type": "markdown",
   "metadata": {},
   "source": [
    "Top five platforms in North American region are PS4, XOne, X360, 3DS and PS3."
   ]
  },
  {
   "cell_type": "code",
   "execution_count": 85,
   "metadata": {},
   "outputs": [
    {
     "name": "stdout",
     "output_type": "stream",
     "text": [
      "  platform  eu_sales\n",
      "0      PS4    130.04\n",
      "1     XOne     46.25\n",
      "2      PS3     25.54\n",
      "3       PC     17.97\n",
      "4      3DS     16.12\n"
     ]
    },
    {
     "data": {
      "image/png": "[encoded data removed]",
      "text/plain": [
       "<Figure size 640x480 with 1 Axes>"
      ]
     },
     "metadata": {},
     "output_type": "display_data"
    }
   ],
   "source": [
    "# Top five platforms in EU region\n",
    "eu_sales_platform =recent_df.groupby('platform')['eu_sales'].sum().sort_values(ascending=False).reset_index()\n",
    "print(eu_sales_platform.head())\n",
    "plt.bar(eu_sales_platform['platform'][:5],eu_sales_platform['eu_sales'][:5], color='forestgreen')\n",
    "plt.title('Top five platforms in EU region')\n",
    "plt.xlabel('Platform')\n",
    "plt.ylabel('EU sales(in USD million)')\n",
    "plt.show()"
   ]
  },
  {
   "cell_type": "markdown",
   "metadata": {},
   "source": [
    "Top five platforms in Europe region are PS4, XONE, PS3, PC and 3DS."
   ]
  },
  {
   "cell_type": "code",
   "execution_count": 87,
   "metadata": {},
   "outputs": [
    {
     "name": "stdout",
     "output_type": "stream",
     "text": [
      "  platform  jp_sales\n",
      "0      3DS     44.24\n",
      "1      PS4     15.02\n",
      "2      PSV     14.61\n",
      "3      PS3     11.22\n",
      "4     WiiU      7.31\n"
     ]
    },
    {
     "data": {
      "image/png": "[encoded data removed]",
      "text/plain": [
       "<Figure size 640x480 with 1 Axes>"
      ]
     },
     "metadata": {},
     "output_type": "display_data"
    }
   ],
   "source": [
    "# Top five platforms in JP region\n",
    "jp_sales_platform =recent_df.groupby('platform')['jp_sales'].sum().sort_values(ascending=False).reset_index()\n",
    "print(jp_sales_platform.head())\n",
    "plt.bar(jp_sales_platform['platform'][:5],jp_sales_platform['jp_sales'][:5], color='purple')\n",
    "plt.title('Top five platforms in JP region')\n",
    "plt.xlabel('Platform')\n",
    "plt.ylabel('JP sales(in USD million)')\n",
    "plt.show()"
   ]
  },
  {
   "cell_type": "markdown",
   "metadata": {},
   "source": [
    "Top five platforms in Japan region are 3DS, PS4, PSV, PS3 and WiiU"
   ]
  },
  {
   "cell_type": "markdown",
   "metadata": {},
   "source": [
    "Top five platforms in NA, EU and JP region are different which means people in different region have their own interests based on there culture, country etc. In North America and Europe PS4 and XOne ocuupys among first three positions whereas in Japan XOne is not in first five. The XOne is a home video game console that was developed by Microsoft and more NA people prefer Microsoft console than other. 3DS occupys first position in Japan, fifth position in Europe and fourth position in North America."
   ]
  },
  {
   "cell_type": "markdown",
   "metadata": {},
   "source": [
    "### Top five genres of each region"
   ]
  },
  {
   "cell_type": "code",
   "execution_count": 88,
   "metadata": {},
   "outputs": [
    {
     "name": "stdout",
     "output_type": "stream",
     "text": [
      "          genre  na_sales\n",
      "0       Shooter     79.02\n",
      "1        Action     72.53\n",
      "2        Sports     46.13\n",
      "3  Role-Playing     33.58\n",
      "4          Misc     15.05\n"
     ]
    },
    {
     "data": {
      "image/png": "[encoded data removed]",
      "text/plain": [
       "<Figure size 640x480 with 1 Axes>"
      ]
     },
     "metadata": {},
     "output_type": "display_data"
    }
   ],
   "source": [
    "# Top five genres in NA region\n",
    "na_sales_genre = recent_df.groupby('genre')['na_sales'].sum().sort_values(ascending=False).reset_index()\n",
    "print(na_sales_genre.head())\n",
    "plt.bar(na_sales_genre['genre'][:5],na_sales_genre['na_sales'][:5])\n",
    "plt.title('Top five genres in NA region')\n",
    "plt.xlabel('Genres')\n",
    "plt.ylabel('NA sales(in USD million)')\n",
    "plt.show()"
   ]
  },
  {
   "cell_type": "markdown",
   "metadata": {},
   "source": [
    "The top genres in NA region are shooter, action, sports, roleplaying"
   ]
  },
  {
   "cell_type": "code",
   "execution_count": 90,
   "metadata": {},
   "outputs": [
    {
     "name": "stdout",
     "output_type": "stream",
     "text": [
      "          genre  eu_sales\n",
      "0        Action     74.68\n",
      "1       Shooter     65.52\n",
      "2        Sports     45.73\n",
      "3  Role-Playing     28.22\n",
      "4        Racing     14.13\n"
     ]
    },
    {
     "data": {
      "image/png": "[encoded data removed]",
      "text/plain": [
       "<Figure size 640x480 with 1 Axes>"
      ]
     },
     "metadata": {},
     "output_type": "display_data"
    }
   ],
   "source": [
    "# Top five genres in eu region\n",
    "eu_sales_genre = recent_df.groupby('genre')['eu_sales'].sum().sort_values(ascending=False).reset_index()\n",
    "print(eu_sales_genre.head())\n",
    "plt.bar(eu_sales_genre['genre'][:5],eu_sales_genre['eu_sales'][:5],color='forestgreen')\n",
    "plt.title('Top five genres in EU region')\n",
    "plt.xlabel('Genres')\n",
    "plt.ylabel('EU sales(in USD million)')\n",
    "plt.show()"
   ]
  },
  {
   "cell_type": "raw",
   "metadata": {},
   "source": [
    "The top genres in EU region are action, sports, shooter, racing."
   ]
  },
  {
   "cell_type": "code",
   "execution_count": 44,
   "metadata": {},
   "outputs": [
    {
     "name": "stdout",
     "output_type": "stream",
     "text": [
      "          genre  jp_sales\n",
      "0  Role-Playing     31.23\n",
      "1        Action     29.58\n",
      "2      Fighting      6.37\n",
      "3          Misc      5.61\n",
      "4       Shooter      4.87\n"
     ]
    },
    {
     "data": {
      "image/png": "[encoded data removed]",
      "text/plain": [
       "<Figure size 640x480 with 1 Axes>"
      ]
     },
     "metadata": {},
     "output_type": "display_data"
    }
   ],
   "source": [
    "# Top five genres in jp region\n",
    "jp_sales_genre = recent_df.groupby('genre')['jp_sales'].sum().sort_values(ascending=False).reset_index()\n",
    "print(jp_sales_genre.head())\n",
    "plt.bar(jp_sales_genre['genre'][:5],jp_sales_genre['jp_sales'][:5],color='purple')\n",
    "plt.title('Top five genres in JP region')\n",
    "plt.xlabel('Genres')\n",
    "plt.ylabel('JP sales(in USD million)')\n",
    "plt.show()"
   ]
  },
  {
   "cell_type": "markdown",
   "metadata": {},
   "source": [
    "The top genres in JP region are role playing, action, fighting,shooter"
   ]
  },
  {
   "cell_type": "markdown",
   "metadata": {},
   "source": [
    "The first three genres in North America and Europe are action, sports and shooter whereas Japan people like roleplaying genre than any other genres. "
   ]
  },
  {
   "cell_type": "markdown",
   "metadata": {},
   "source": [
    "### Sales in each region by ESRB rating"
   ]
  },
  {
   "cell_type": "code",
   "execution_count": 93,
   "metadata": {},
   "outputs": [
    {
     "name": "stdout",
     "output_type": "stream",
     "text": [
      "  rating  na_sales\n",
      "0      E   1292.99\n",
      "1      T    759.75\n",
      "2      M    748.48\n",
      "3   E10+    353.32\n",
      "4    K-A      2.56\n"
     ]
    }
   ],
   "source": [
    "# Sales by rating\n",
    "na_sales_rating = df.groupby('rating')['na_sales'].sum().sort_values(ascending=False).reset_index()\n",
    "print(na_sales_rating.head())\n"
   ]
  },
  {
   "cell_type": "code",
   "execution_count": 94,
   "metadata": {},
   "outputs": [
    {
     "name": "stdout",
     "output_type": "stream",
     "text": [
      "  rating  eu_sales\n",
      "0      E    710.25\n",
      "1      M    483.97\n",
      "2      T    427.03\n",
      "3   E10+    188.52\n",
      "4     AO      0.61\n"
     ]
    }
   ],
   "source": [
    "# Sales by rating\n",
    "eu_sales_rating = df.groupby('rating')['eu_sales'].sum().sort_values(ascending=False).reset_index()\n",
    "print(eu_sales_rating.head())\n"
   ]
  },
  {
   "cell_type": "code",
   "execution_count": 95,
   "metadata": {},
   "outputs": [
    {
     "name": "stdout",
     "output_type": "stream",
     "text": [
      "  rating  jp_sales\n",
      "0      E    198.11\n",
      "1      T    151.40\n",
      "2      M     64.24\n",
      "3   E10+     40.20\n",
      "4    K-A      1.46\n"
     ]
    }
   ],
   "source": [
    "# Sales by rating\n",
    "jp_sales_rating = df.groupby('rating')['jp_sales'].sum().sort_values(ascending=False).reset_index()\n",
    "print(jp_sales_rating.head())"
   ]
  },
  {
   "cell_type": "code",
   "execution_count": 96,
   "metadata": {},
   "outputs": [
    {
     "data": {
      "image/png": "[encoded data removed]",
      "text/plain": [
       "<Figure size 640x480 with 1 Axes>"
      ]
     },
     "metadata": {},
     "output_type": "display_data"
    }
   ],
   "source": [
    "# Plot by rating\n",
    "plt.plot(na_sales_rating['rating'], na_sales_rating['na_sales'], label = 'NA sales')\n",
    "plt.plot(eu_sales_rating['rating'], eu_sales_rating['eu_sales'], label = 'EU sales')\n",
    "plt.plot(jp_sales_rating['rating'], jp_sales_rating['jp_sales'], label = 'JP sales')\n",
    "plt.title('Sales in each region by ESRB rating')\n",
    "plt.xlabel('ESRB rating')\n",
    "plt.ylabel('Sales(in USD million)')\n",
    "plt.legend()\n",
    "plt.show()"
   ]
  },
  {
   "cell_type": "markdown",
   "metadata": {},
   "source": [
    "The Entertainment Software Rating Board(ESRB) evaluates a game's content and assigns an age rating such as Teen or Mature. In Japan ESBR rating is not affected for sales because maximum sales is for unknown rating. In EU and NA also large amount of sales for unknown ESBR. So ESBR is not an important factor for increasing  the sale."
   ]
  },
  {
   "cell_type": "markdown",
   "metadata": {},
   "source": [
    "## Fifth Stage :\n",
    "In this stage test the following hypotheses:\n",
    "— Average user ratings of the Xbox One and PC platforms are the same. \n",
    "— Average user ratings for the Action and Sports genres are different.\n",
    "Set the alpha threshold value. "
   ]
  },
  {
   "cell_type": "markdown",
   "metadata": {},
   "source": [
    "Formulate the null and alternate hypothesis.\n",
    "- H0 :Average user ratings of the Xbox One and PC platforms are the same. \n",
    "- H1 :Average user ratings of the Xbox One and PC platforms are the different.\n",
    "\n",
    "Choose alpha = 0.05"
   ]
  },
  {
   "cell_type": "code",
   "execution_count": 97,
   "metadata": {},
   "outputs": [
    {
     "name": "stdout",
     "output_type": "stream",
     "text": [
      "p-value: 0.10450507919348415\n",
      "We can't reject the null hypothesis\n"
     ]
    }
   ],
   "source": [
    "# Check the hypothesis\n",
    "xbox_user_ratings =recent_df[recent_df['platform']=='XOne']['user_score']\n",
    "pc_user_ratings =recent_df[recent_df['platform']=='PC']['user_score']\n",
    "alpha = 0.05\n",
    "results=st.ttest_ind(xbox_user_ratings.dropna(),pc_user_ratings.dropna())\n",
    "print('p-value:', results.pvalue)\n",
    "if results.pvalue < alpha:\n",
    "    print('We reject the null hypothesis')\n",
    "else:\n",
    "    print(\"We can't reject the null hypothesis\")"
   ]
  },
  {
   "cell_type": "markdown",
   "metadata": {},
   "source": [
    "We test the hypothesis using t test and we can't reject the null hypothesis that means average user ratings of the Xbox One and PC platforms are same. "
   ]
  },
  {
   "cell_type": "markdown",
   "metadata": {},
   "source": [
    "Formulate the null and alternate hypothesis.\n",
    "- H0 :Average user ratings of the Action and Sports genres are the same. \n",
    "- H1 :Average user ratings of the Action and Sports genres are the different. \n",
    "\n",
    "Choose alpha = 0.05"
   ]
  },
  {
   "cell_type": "code",
   "execution_count": 98,
   "metadata": {},
   "outputs": [
    {
     "name": "stdout",
     "output_type": "stream",
     "text": [
      "p-value: 2.8711147985105864e-19\n",
      "We reject the null hypothesis\n"
     ]
    }
   ],
   "source": [
    "# Check the hypothesis\n",
    "action_user_ratings =recent_df[recent_df['genre']=='Action']['user_score']\n",
    "sports_user_ratings =recent_df[recent_df['genre']=='Sports']['user_score']\n",
    "results=st.ttest_ind(action_user_ratings.dropna(),sports_user_ratings.dropna())\n",
    "print('p-value:', results.pvalue)\n",
    "if results.pvalue < alpha:\n",
    "    print('We reject the null hypothesis')\n",
    "else:\n",
    "    print(\"We can't reject the null hypothesis\")"
   ]
  },
  {
   "cell_type": "markdown",
   "metadata": {},
   "source": [
    "We test the hypothesis using t test and we reject the null hypothesis that means average user ratings of the Action and Sports genres are different."
   ]
  },
  {
   "cell_type": "markdown",
   "metadata": {},
   "source": [
    "## Conclusion:\n",
    " In this project our aim is to analyze the  marketing trends for selling video games and get insights for the pattern. The project consists of different parts like:\n",
    "- Data initialization and loading\n",
    "- Data preprocessing\n",
    "- Analysis of data\n",
    "- Create a user profile for each region\n",
    "- Testing the hypothesis\n",
    "In the first stage, we import all the important libraries and intialize the data. In the second stage we preprocess the data like convert the datatypes to appropriate form, check for missing and duplicated values, rename columns etc. After this stage our data is clean and we can use it for further analysis. Some assumptions made in this stage are:\n",
    "\n",
    "Year of release missing is filled with median value\n",
    "Missing rating is filled as unknown\n",
    "No changes in missing values of columns critic score and user score to keep the integrity of data.\n",
    "In the third stage we analyze our data and find that:\n",
    "\n",
    "The old platforms are fade out and new ones are developed\n",
    "The maximum number of games are released in 2008-2009.\n",
    "The top 5 platforms having greatest sales are PS2, X360, PS3, Wii and DS respectively.\n",
    "The popular platforms which now have zero sales are PS2, NES, PS3, GB, GBA, DS etc.\n",
    "The average life cycle for a platform is almost 5 to 6 years\n",
    "The platforms used in last 3 years are PS4, 3DS, XOne, WiiU, PS3 X360, PC, Wii, PSV and PSP.\n",
    "The top 5 leading and profitable recently sales platforms are PS4, XOne, 3DS\n",
    "Top profitable genres are action, shooter, sports, role playing.\n",
    "In the fourth stage we create a user profile for each region.\n",
    "\n",
    "NA region Top platforms : PS4, XOne, X360, 3DS and PS3. Top genres :shooter, action, sports, roleplaying\n",
    "\n",
    "EU region Top platforms :PS4, XONE, PS3, PC and 3DS. Top genres :action, sports, shooter, racing.\n",
    "\n",
    "JP region Top platforms :3DS, PS4, PSV, PS3 and WiiU Top genres :role playing, action, fighting,shooter\n",
    "\n",
    "In the last stage we formulate two hypothesis and found that:\n",
    "\n",
    "Average user ratings of the Xbox One and PC platforms are the same.\n",
    "Average user ratings of the Action and Sports genres are the different.\n",
    "Total sales of videogames are different in different regions and new games are evolving each year and old ones are faded out. Peoples selection of games based on different factors and peoples in Japan like role playing or action genres where as people in NA prefers shooter games. So development of games corresponding to region increases the sales.\n",
    "\n",
    "\n"
   ]
  },
  {
   "cell_type": "code",
   "execution_count": null,
   "metadata": {},
   "outputs": [],
   "source": []
  }
 ],
 "metadata": {
  "ExecuteTimeLog": [
   {
    "duration": 2402,
    "start_time": "2025-02-18T17:50:05.103Z"
   },
   {
    "duration": 600,
    "start_time": "2025-02-18T17:50:07.507Z"
   },
   {
    "duration": 6,
    "start_time": "2025-02-18T17:53:43.076Z"
   },
   {
    "duration": 4,
    "start_time": "2025-02-18T17:53:59.870Z"
   },
   {
    "duration": 4,
    "start_time": "2025-02-18T17:54:23.184Z"
   },
   {
    "duration": 62,
    "start_time": "2025-02-18T17:55:56.066Z"
   },
   {
    "duration": 71,
    "start_time": "2025-02-18T17:56:23.908Z"
   },
   {
    "duration": 61,
    "start_time": "2025-02-18T17:56:43.689Z"
   },
   {
    "duration": 62,
    "start_time": "2025-02-18T17:57:01.110Z"
   },
   {
    "duration": 3,
    "start_time": "2025-02-18T17:57:03.854Z"
   },
   {
    "duration": 62,
    "start_time": "2025-02-18T17:57:04.692Z"
   },
   {
    "duration": 48,
    "start_time": "2025-02-18T18:01:13.340Z"
   },
   {
    "duration": 12,
    "start_time": "2025-02-18T18:09:03.563Z"
   },
   {
    "duration": 2566,
    "start_time": "2025-02-19T00:47:44.555Z"
   },
   {
    "duration": 77,
    "start_time": "2025-02-19T00:47:47.124Z"
   },
   {
    "duration": 13,
    "start_time": "2025-02-19T00:47:53.323Z"
   },
   {
    "duration": 4,
    "start_time": "2025-02-19T01:05:29.686Z"
   },
   {
    "duration": 3,
    "start_time": "2025-02-19T01:06:59.588Z"
   },
   {
    "duration": 6,
    "start_time": "2025-02-19T01:07:14.200Z"
   },
   {
    "duration": 13,
    "start_time": "2025-02-19T01:07:45.165Z"
   },
   {
    "duration": 18,
    "start_time": "2025-02-19T01:10:29.311Z"
   },
   {
    "duration": 4,
    "start_time": "2025-02-19T01:16:53.085Z"
   },
   {
    "duration": 787,
    "start_time": "2025-02-19T01:18:49.778Z"
   },
   {
    "duration": 77,
    "start_time": "2025-02-19T01:18:50.601Z"
   },
   {
    "duration": 130,
    "start_time": "2025-02-19T01:19:21.085Z"
   },
   {
    "duration": 49,
    "start_time": "2025-02-19T01:20:03.070Z"
   },
   {
    "duration": 8,
    "start_time": "2025-02-19T01:21:37.912Z"
   },
   {
    "duration": 9,
    "start_time": "2025-02-19T01:22:26.570Z"
   },
   {
    "duration": 14,
    "start_time": "2025-02-19T01:22:40.267Z"
   },
   {
    "duration": 14,
    "start_time": "2025-02-19T01:25:21.762Z"
   },
   {
    "duration": 4,
    "start_time": "2025-02-19T01:25:52.863Z"
   },
   {
    "duration": 5,
    "start_time": "2025-02-19T01:29:48.905Z"
   },
   {
    "duration": 9,
    "start_time": "2025-02-19T01:32:04.232Z"
   },
   {
    "duration": 7,
    "start_time": "2025-02-19T01:32:13.451Z"
   },
   {
    "duration": 4,
    "start_time": "2025-02-19T01:34:08.020Z"
   },
   {
    "duration": 11,
    "start_time": "2025-02-19T01:34:30.854Z"
   },
   {
    "duration": 9,
    "start_time": "2025-02-19T01:34:45.103Z"
   },
   {
    "duration": 17,
    "start_time": "2025-02-19T01:37:23.027Z"
   },
   {
    "duration": 8,
    "start_time": "2025-02-19T01:37:34.772Z"
   },
   {
    "duration": 10,
    "start_time": "2025-02-19T01:37:59.202Z"
   },
   {
    "duration": 2391,
    "start_time": "2025-02-19T17:18:18.647Z"
   },
   {
    "duration": 48,
    "start_time": "2025-02-19T17:18:21.041Z"
   },
   {
    "duration": 11,
    "start_time": "2025-02-19T17:18:24.390Z"
   },
   {
    "duration": 3,
    "start_time": "2025-02-19T17:18:28.893Z"
   },
   {
    "duration": 3,
    "start_time": "2025-02-19T17:18:31.152Z"
   },
   {
    "duration": 3,
    "start_time": "2025-02-19T17:18:35.129Z"
   },
   {
    "duration": 11,
    "start_time": "2025-02-19T17:18:35.929Z"
   },
   {
    "duration": 4,
    "start_time": "2025-02-19T17:18:41.072Z"
   },
   {
    "duration": 5,
    "start_time": "2025-02-19T17:18:41.739Z"
   },
   {
    "duration": 6,
    "start_time": "2025-02-19T17:18:49.920Z"
   },
   {
    "duration": 3,
    "start_time": "2025-02-19T17:18:50.424Z"
   },
   {
    "duration": 11,
    "start_time": "2025-02-19T17:18:53.047Z"
   },
   {
    "duration": 8,
    "start_time": "2025-02-19T17:19:17.267Z"
   },
   {
    "duration": 7,
    "start_time": "2025-02-19T17:19:42.734Z"
   },
   {
    "duration": 3,
    "start_time": "2025-02-19T17:19:52.049Z"
   },
   {
    "duration": 34,
    "start_time": "2025-02-19T17:19:52.611Z"
   },
   {
    "duration": 11,
    "start_time": "2025-02-19T17:19:57.677Z"
   },
   {
    "duration": 5,
    "start_time": "2025-02-19T17:20:00.736Z"
   },
   {
    "duration": 3,
    "start_time": "2025-02-19T17:20:01.352Z"
   },
   {
    "duration": 4,
    "start_time": "2025-02-19T17:20:01.893Z"
   },
   {
    "duration": 10,
    "start_time": "2025-02-19T17:20:02.679Z"
   },
   {
    "duration": 9,
    "start_time": "2025-02-19T17:20:03.363Z"
   },
   {
    "duration": 8,
    "start_time": "2025-02-19T17:20:21.533Z"
   },
   {
    "duration": 273,
    "start_time": "2025-02-19T17:21:33.546Z"
   },
   {
    "duration": 11,
    "start_time": "2025-02-19T17:23:58.797Z"
   },
   {
    "duration": 420,
    "start_time": "2025-02-19T17:24:36.954Z"
   },
   {
    "duration": 10,
    "start_time": "2025-02-19T17:24:43.577Z"
   },
   {
    "duration": 17,
    "start_time": "2025-02-19T17:25:07.257Z"
   },
   {
    "duration": 6,
    "start_time": "2025-02-19T17:27:54.457Z"
   },
   {
    "duration": 11,
    "start_time": "2025-02-19T17:28:23.713Z"
   },
   {
    "duration": 22,
    "start_time": "2025-02-19T17:28:55.583Z"
   },
   {
    "duration": 128,
    "start_time": "2025-02-19T17:29:06.992Z"
   },
   {
    "duration": 14,
    "start_time": "2025-02-19T17:30:42.956Z"
   },
   {
    "duration": 12,
    "start_time": "2025-02-19T17:32:04.936Z"
   },
   {
    "duration": 14,
    "start_time": "2025-02-19T17:32:29.707Z"
   },
   {
    "duration": 3,
    "start_time": "2025-02-19T17:50:38.799Z"
   },
   {
    "duration": 50,
    "start_time": "2025-02-19T17:50:39.784Z"
   },
   {
    "duration": 183,
    "start_time": "2025-02-19T17:50:46.610Z"
   },
   {
    "duration": 31,
    "start_time": "2025-02-19T17:51:07.046Z"
   },
   {
    "duration": 29,
    "start_time": "2025-02-19T17:51:43.363Z"
   },
   {
    "duration": 43,
    "start_time": "2025-02-19T17:52:27.647Z"
   },
   {
    "duration": 3,
    "start_time": "2025-02-19T17:52:44.831Z"
   },
   {
    "duration": 13,
    "start_time": "2025-02-19T17:53:21.769Z"
   },
   {
    "duration": 14,
    "start_time": "2025-02-19T17:53:36.177Z"
   },
   {
    "duration": 3,
    "start_time": "2025-02-19T17:53:59.782Z"
   },
   {
    "duration": 35,
    "start_time": "2025-02-19T17:54:00.532Z"
   },
   {
    "duration": 11,
    "start_time": "2025-02-19T17:54:05.633Z"
   },
   {
    "duration": 720,
    "start_time": "2025-02-19T17:54:22.444Z"
   },
   {
    "duration": 59,
    "start_time": "2025-02-19T17:54:23.187Z"
   },
   {
    "duration": 11,
    "start_time": "2025-02-19T17:54:29.071Z"
   },
   {
    "duration": 4,
    "start_time": "2025-02-19T17:54:35.785Z"
   },
   {
    "duration": 3,
    "start_time": "2025-02-19T17:54:38.566Z"
   },
   {
    "duration": 4,
    "start_time": "2025-02-19T17:54:39.477Z"
   },
   {
    "duration": 13,
    "start_time": "2025-02-19T17:54:40.564Z"
   },
   {
    "duration": 8,
    "start_time": "2025-02-19T17:54:41.593Z"
   },
   {
    "duration": 4,
    "start_time": "2025-02-19T17:54:45.198Z"
   },
   {
    "duration": 4,
    "start_time": "2025-02-19T17:54:45.700Z"
   },
   {
    "duration": 10,
    "start_time": "2025-02-19T17:54:49.393Z"
   },
   {
    "duration": 4,
    "start_time": "2025-02-19T17:54:49.884Z"
   },
   {
    "duration": 9,
    "start_time": "2025-02-19T17:54:50.286Z"
   },
   {
    "duration": 7,
    "start_time": "2025-02-19T17:54:54.444Z"
   },
   {
    "duration": 12,
    "start_time": "2025-02-19T17:54:57.639Z"
   },
   {
    "duration": 220,
    "start_time": "2025-02-19T17:55:02.695Z"
   },
   {
    "duration": 34,
    "start_time": "2025-02-19T17:55:31.000Z"
   },
   {
    "duration": 35,
    "start_time": "2025-02-19T17:56:11.698Z"
   },
   {
    "duration": 14,
    "start_time": "2025-02-19T18:00:37.891Z"
   },
   {
    "duration": 3,
    "start_time": "2025-02-19T18:01:10.590Z"
   },
   {
    "duration": 34,
    "start_time": "2025-02-19T18:01:11.216Z"
   },
   {
    "duration": 10,
    "start_time": "2025-02-19T18:01:17.618Z"
   },
   {
    "duration": 4,
    "start_time": "2025-02-19T18:01:21.984Z"
   },
   {
    "duration": 2,
    "start_time": "2025-02-19T18:01:22.636Z"
   },
   {
    "duration": 3,
    "start_time": "2025-02-19T18:01:23.180Z"
   },
   {
    "duration": 12,
    "start_time": "2025-02-19T18:01:23.761Z"
   },
   {
    "duration": 8,
    "start_time": "2025-02-19T18:01:25.329Z"
   },
   {
    "duration": 3,
    "start_time": "2025-02-19T18:01:28.069Z"
   },
   {
    "duration": 5,
    "start_time": "2025-02-19T18:01:28.643Z"
   },
   {
    "duration": 7,
    "start_time": "2025-02-19T18:01:29.549Z"
   },
   {
    "duration": 3,
    "start_time": "2025-02-19T18:01:30.735Z"
   },
   {
    "duration": 10,
    "start_time": "2025-02-19T18:01:31.662Z"
   },
   {
    "duration": 7,
    "start_time": "2025-02-19T18:01:35.248Z"
   },
   {
    "duration": 12,
    "start_time": "2025-02-19T18:01:35.820Z"
   },
   {
    "duration": 18,
    "start_time": "2025-02-19T18:01:58.276Z"
   },
   {
    "duration": 19,
    "start_time": "2025-02-19T18:02:39.954Z"
   },
   {
    "duration": 396,
    "start_time": "2025-02-19T18:06:35.688Z"
   },
   {
    "duration": 4,
    "start_time": "2025-02-19T18:08:05.278Z"
   },
   {
    "duration": 2,
    "start_time": "2025-02-19T18:08:13.532Z"
   },
   {
    "duration": 34,
    "start_time": "2025-02-19T18:08:14.182Z"
   },
   {
    "duration": 11,
    "start_time": "2025-02-19T18:08:19.646Z"
   },
   {
    "duration": 7,
    "start_time": "2025-02-19T18:08:23.611Z"
   },
   {
    "duration": 3,
    "start_time": "2025-02-19T18:08:24.069Z"
   },
   {
    "duration": 4,
    "start_time": "2025-02-19T18:08:24.542Z"
   },
   {
    "duration": 11,
    "start_time": "2025-02-19T18:08:25.188Z"
   },
   {
    "duration": 8,
    "start_time": "2025-02-19T18:08:25.781Z"
   },
   {
    "duration": 4,
    "start_time": "2025-02-19T18:08:38.672Z"
   },
   {
    "duration": 4,
    "start_time": "2025-02-19T18:08:39.165Z"
   },
   {
    "duration": 7,
    "start_time": "2025-02-19T18:08:41.502Z"
   },
   {
    "duration": 3,
    "start_time": "2025-02-19T18:08:42.035Z"
   },
   {
    "duration": 7,
    "start_time": "2025-02-19T18:08:49.093Z"
   },
   {
    "duration": 10,
    "start_time": "2025-02-19T18:08:53.642Z"
   },
   {
    "duration": 7,
    "start_time": "2025-02-19T18:09:34.830Z"
   },
   {
    "duration": 41,
    "start_time": "2025-02-19T18:10:01.406Z"
   },
   {
    "duration": 8,
    "start_time": "2025-02-19T18:10:22.585Z"
   },
   {
    "duration": 17,
    "start_time": "2025-02-19T18:10:44.428Z"
   },
   {
    "duration": 4,
    "start_time": "2025-02-19T18:12:58.051Z"
   },
   {
    "duration": 2,
    "start_time": "2025-02-19T18:13:06.653Z"
   },
   {
    "duration": 41,
    "start_time": "2025-02-19T18:13:07.160Z"
   },
   {
    "duration": 3,
    "start_time": "2025-02-19T18:13:14.434Z"
   },
   {
    "duration": 3,
    "start_time": "2025-02-19T18:13:14.901Z"
   },
   {
    "duration": 3,
    "start_time": "2025-02-19T18:13:15.534Z"
   },
   {
    "duration": 11,
    "start_time": "2025-02-19T18:13:16.292Z"
   },
   {
    "duration": 4,
    "start_time": "2025-02-19T18:13:19.121Z"
   },
   {
    "duration": 4,
    "start_time": "2025-02-19T18:13:19.627Z"
   },
   {
    "duration": 6,
    "start_time": "2025-02-19T18:13:20.568Z"
   },
   {
    "duration": 3,
    "start_time": "2025-02-19T18:13:21.062Z"
   },
   {
    "duration": 11,
    "start_time": "2025-02-19T18:13:23.239Z"
   },
   {
    "duration": 7,
    "start_time": "2025-02-19T18:13:26.701Z"
   },
   {
    "duration": 9,
    "start_time": "2025-02-19T18:13:30.250Z"
   },
   {
    "duration": 18,
    "start_time": "2025-02-19T18:15:51.132Z"
   },
   {
    "duration": 2468,
    "start_time": "2025-02-20T16:07:08.240Z"
   },
   {
    "duration": 51,
    "start_time": "2025-02-20T16:07:10.710Z"
   },
   {
    "duration": 13,
    "start_time": "2025-02-20T16:07:15.550Z"
   },
   {
    "duration": 4,
    "start_time": "2025-02-20T16:07:31.729Z"
   },
   {
    "duration": 3,
    "start_time": "2025-02-20T16:07:32.340Z"
   },
   {
    "duration": 4,
    "start_time": "2025-02-20T16:07:33.710Z"
   },
   {
    "duration": 14,
    "start_time": "2025-02-20T16:07:34.618Z"
   },
   {
    "duration": 3,
    "start_time": "2025-02-20T16:07:38.159Z"
   },
   {
    "duration": 5,
    "start_time": "2025-02-20T16:07:38.646Z"
   },
   {
    "duration": 6,
    "start_time": "2025-02-20T16:07:44.088Z"
   },
   {
    "duration": 3,
    "start_time": "2025-02-20T16:07:44.579Z"
   },
   {
    "duration": 10,
    "start_time": "2025-02-20T16:07:44.933Z"
   },
   {
    "duration": 8,
    "start_time": "2025-02-20T16:07:48.107Z"
   },
   {
    "duration": 8,
    "start_time": "2025-02-20T16:07:52.049Z"
   },
   {
    "duration": 14,
    "start_time": "2025-02-20T16:07:55.364Z"
   },
   {
    "duration": 211,
    "start_time": "2025-02-20T16:13:50.597Z"
   },
   {
    "duration": 5,
    "start_time": "2025-02-20T16:14:02.686Z"
   },
   {
    "duration": 6,
    "start_time": "2025-02-20T16:14:19.697Z"
   },
   {
    "duration": 35,
    "start_time": "2025-02-20T16:16:07.203Z"
   },
   {
    "duration": 33,
    "start_time": "2025-02-20T16:16:42.487Z"
   },
   {
    "duration": 5,
    "start_time": "2025-02-20T16:16:47.687Z"
   },
   {
    "duration": 4,
    "start_time": "2025-02-20T16:16:48.060Z"
   },
   {
    "duration": 4,
    "start_time": "2025-02-20T16:16:48.652Z"
   },
   {
    "duration": 12,
    "start_time": "2025-02-20T16:16:49.306Z"
   },
   {
    "duration": 4,
    "start_time": "2025-02-20T16:16:53.306Z"
   },
   {
    "duration": 6,
    "start_time": "2025-02-20T16:16:53.703Z"
   },
   {
    "duration": 7,
    "start_time": "2025-02-20T16:16:55.973Z"
   },
   {
    "duration": 4,
    "start_time": "2025-02-20T16:16:56.280Z"
   },
   {
    "duration": 11,
    "start_time": "2025-02-20T16:16:56.629Z"
   },
   {
    "duration": 8,
    "start_time": "2025-02-20T16:16:59.502Z"
   },
   {
    "duration": 9,
    "start_time": "2025-02-20T16:17:02.161Z"
   },
   {
    "duration": 17,
    "start_time": "2025-02-20T16:21:18.776Z"
   },
   {
    "duration": 5,
    "start_time": "2025-02-20T16:21:21.588Z"
   },
   {
    "duration": 21,
    "start_time": "2025-02-20T16:21:35.577Z"
   },
   {
    "duration": 4,
    "start_time": "2025-02-20T16:21:56.594Z"
   },
   {
    "duration": 5,
    "start_time": "2025-02-20T16:21:56.990Z"
   },
   {
    "duration": 4,
    "start_time": "2025-02-20T16:21:57.781Z"
   },
   {
    "duration": 3,
    "start_time": "2025-02-20T16:21:58.207Z"
   },
   {
    "duration": 10,
    "start_time": "2025-02-20T16:21:59.054Z"
   },
   {
    "duration": 7,
    "start_time": "2025-02-20T16:22:02.627Z"
   },
   {
    "duration": 7,
    "start_time": "2025-02-20T16:22:05.649Z"
   },
   {
    "duration": 14,
    "start_time": "2025-02-20T16:22:10.546Z"
   },
   {
    "duration": 15,
    "start_time": "2025-02-20T16:22:13.956Z"
   },
   {
    "duration": 14,
    "start_time": "2025-02-20T16:22:25.605Z"
   },
   {
    "duration": 5,
    "start_time": "2025-02-20T16:26:42.291Z"
   },
   {
    "duration": 4,
    "start_time": "2025-02-20T16:28:19.539Z"
   },
   {
    "duration": 12,
    "start_time": "2025-02-20T16:28:26.513Z"
   },
   {
    "duration": 4,
    "start_time": "2025-02-20T16:34:40.224Z"
   },
   {
    "duration": 11,
    "start_time": "2025-02-20T16:35:09.544Z"
   },
   {
    "duration": 17,
    "start_time": "2025-02-20T16:35:39.135Z"
   },
   {
    "duration": 11,
    "start_time": "2025-02-20T16:37:52.595Z"
   },
   {
    "duration": 4,
    "start_time": "2025-02-20T16:39:45.693Z"
   },
   {
    "duration": 17,
    "start_time": "2025-02-20T16:40:00.901Z"
   },
   {
    "duration": 13,
    "start_time": "2025-02-20T16:40:06.889Z"
   },
   {
    "duration": 403,
    "start_time": "2025-02-20T17:01:14.787Z"
   },
   {
    "duration": 4,
    "start_time": "2025-02-20T17:01:30.257Z"
   },
   {
    "duration": 5,
    "start_time": "2025-02-20T17:01:46.407Z"
   },
   {
    "duration": 5,
    "start_time": "2025-02-20T17:02:06.732Z"
   },
   {
    "duration": 334,
    "start_time": "2025-02-20T17:08:30.298Z"
   },
   {
    "duration": 10,
    "start_time": "2025-02-20T17:08:51.748Z"
   },
   {
    "duration": 42,
    "start_time": "2025-02-20T17:10:05.440Z"
   },
   {
    "duration": 8,
    "start_time": "2025-02-20T17:10:20.772Z"
   },
   {
    "duration": 12,
    "start_time": "2025-02-20T17:15:10.112Z"
   },
   {
    "duration": 11,
    "start_time": "2025-02-20T17:16:12.329Z"
   },
   {
    "duration": 338,
    "start_time": "2025-02-20T17:20:20.888Z"
   },
   {
    "duration": 245,
    "start_time": "2025-02-20T17:21:10.377Z"
   },
   {
    "duration": 240,
    "start_time": "2025-02-20T17:25:56.665Z"
   },
   {
    "duration": 237,
    "start_time": "2025-02-20T17:26:06.264Z"
   },
   {
    "duration": 241,
    "start_time": "2025-02-20T17:26:14.564Z"
   },
   {
    "duration": 247,
    "start_time": "2025-02-20T17:26:26.037Z"
   },
   {
    "duration": 4,
    "start_time": "2025-02-20T17:28:11.976Z"
   },
   {
    "duration": 356,
    "start_time": "2025-02-20T17:28:19.949Z"
   },
   {
    "duration": 241,
    "start_time": "2025-02-20T17:29:31.384Z"
   },
   {
    "duration": 244,
    "start_time": "2025-02-20T17:30:16.060Z"
   },
   {
    "duration": 218,
    "start_time": "2025-02-20T17:30:49.642Z"
   },
   {
    "duration": 263,
    "start_time": "2025-02-20T17:31:27.288Z"
   },
   {
    "duration": 219,
    "start_time": "2025-02-20T17:32:59.098Z"
   },
   {
    "duration": 233,
    "start_time": "2025-02-20T17:33:45.171Z"
   },
   {
    "duration": 242,
    "start_time": "2025-02-20T17:34:13.698Z"
   },
   {
    "duration": 387,
    "start_time": "2025-02-20T17:38:32.831Z"
   },
   {
    "duration": 6,
    "start_time": "2025-02-20T17:45:42.948Z"
   },
   {
    "duration": 14,
    "start_time": "2025-02-20T17:45:58.023Z"
   },
   {
    "duration": 51,
    "start_time": "2025-02-20T17:46:14.504Z"
   },
   {
    "duration": 400,
    "start_time": "2025-02-20T17:49:06.132Z"
   },
   {
    "duration": 329,
    "start_time": "2025-02-20T17:50:09.593Z"
   },
   {
    "duration": 8,
    "start_time": "2025-02-20T17:52:43.149Z"
   },
   {
    "duration": 387,
    "start_time": "2025-02-20T17:52:54.224Z"
   },
   {
    "duration": 361,
    "start_time": "2025-02-20T17:53:18.388Z"
   },
   {
    "duration": 348,
    "start_time": "2025-02-20T17:53:38.923Z"
   },
   {
    "duration": 25,
    "start_time": "2025-02-20T17:57:49.109Z"
   },
   {
    "duration": 1998,
    "start_time": "2025-02-20T17:58:24.266Z"
   },
   {
    "duration": 1955,
    "start_time": "2025-02-20T17:58:33.991Z"
   },
   {
    "duration": 525,
    "start_time": "2025-02-20T17:59:03.149Z"
   },
   {
    "duration": 2601,
    "start_time": "2025-02-20T23:32:14.492Z"
   },
   {
    "duration": 53,
    "start_time": "2025-02-20T23:32:17.095Z"
   },
   {
    "duration": 11,
    "start_time": "2025-02-20T23:32:20.137Z"
   },
   {
    "duration": 4,
    "start_time": "2025-02-20T23:32:24.292Z"
   },
   {
    "duration": 3,
    "start_time": "2025-02-20T23:32:24.847Z"
   },
   {
    "duration": 4,
    "start_time": "2025-02-20T23:32:25.274Z"
   },
   {
    "duration": 11,
    "start_time": "2025-02-20T23:32:25.882Z"
   },
   {
    "duration": 4,
    "start_time": "2025-02-20T23:32:29.052Z"
   },
   {
    "duration": 6,
    "start_time": "2025-02-20T23:32:32.205Z"
   },
   {
    "duration": 8,
    "start_time": "2025-02-20T23:32:33.105Z"
   },
   {
    "duration": 3,
    "start_time": "2025-02-20T23:32:33.633Z"
   },
   {
    "duration": 11,
    "start_time": "2025-02-20T23:32:34.217Z"
   },
   {
    "duration": 8,
    "start_time": "2025-02-20T23:32:45.125Z"
   },
   {
    "duration": 8,
    "start_time": "2025-02-20T23:32:46.481Z"
   },
   {
    "duration": 16,
    "start_time": "2025-02-20T23:32:49.530Z"
   },
   {
    "duration": 17,
    "start_time": "2025-02-20T23:32:52.514Z"
   },
   {
    "duration": 5,
    "start_time": "2025-02-20T23:32:55.301Z"
   },
   {
    "duration": 4,
    "start_time": "2025-02-20T23:32:56.155Z"
   },
   {
    "duration": 19,
    "start_time": "2025-02-20T23:32:59.493Z"
   },
   {
    "duration": 11,
    "start_time": "2025-02-20T23:33:02.326Z"
   },
   {
    "duration": 247,
    "start_time": "2025-02-20T23:33:07.080Z"
   },
   {
    "duration": 373,
    "start_time": "2025-02-20T23:33:14.243Z"
   },
   {
    "duration": 24,
    "start_time": "2025-02-20T23:33:39.152Z"
   },
   {
    "duration": 38,
    "start_time": "2025-02-20T23:34:09.346Z"
   },
   {
    "duration": 6,
    "start_time": "2025-02-20T23:36:33.400Z"
   },
   {
    "duration": 330,
    "start_time": "2025-02-20T23:36:51.956Z"
   },
   {
    "duration": 17,
    "start_time": "2025-02-20T23:37:07.561Z"
   },
   {
    "duration": 7,
    "start_time": "2025-02-20T23:37:15.153Z"
   },
   {
    "duration": 6,
    "start_time": "2025-02-20T23:38:42.815Z"
   },
   {
    "duration": 7,
    "start_time": "2025-02-20T23:38:53.339Z"
   },
   {
    "duration": 6,
    "start_time": "2025-02-20T23:39:04.415Z"
   },
   {
    "duration": 6,
    "start_time": "2025-02-20T23:41:10.603Z"
   },
   {
    "duration": 7,
    "start_time": "2025-02-20T23:41:15.504Z"
   },
   {
    "duration": 26,
    "start_time": "2025-02-21T00:20:20.894Z"
   },
   {
    "duration": 39,
    "start_time": "2025-02-21T00:21:02.254Z"
   },
   {
    "duration": 377,
    "start_time": "2025-02-21T00:39:47.073Z"
   },
   {
    "duration": 395,
    "start_time": "2025-02-21T00:40:07.398Z"
   },
   {
    "duration": 4,
    "start_time": "2025-02-21T00:41:17.094Z"
   },
   {
    "duration": 10,
    "start_time": "2025-02-21T00:41:28.281Z"
   },
   {
    "duration": 17,
    "start_time": "2025-02-21T00:41:39.902Z"
   },
   {
    "duration": 4,
    "start_time": "2025-02-21T00:42:43.686Z"
   },
   {
    "duration": 17,
    "start_time": "2025-02-21T00:46:25.321Z"
   },
   {
    "duration": 21,
    "start_time": "2025-02-21T00:46:35.716Z"
   },
   {
    "duration": 3,
    "start_time": "2025-02-21T00:53:24.838Z"
   },
   {
    "duration": 5,
    "start_time": "2025-02-21T00:53:35.447Z"
   },
   {
    "duration": 17,
    "start_time": "2025-02-21T00:54:09.336Z"
   },
   {
    "duration": 5,
    "start_time": "2025-02-21T00:54:40.208Z"
   },
   {
    "duration": 5,
    "start_time": "2025-02-21T00:54:51.160Z"
   },
   {
    "duration": 5,
    "start_time": "2025-02-21T00:55:43.277Z"
   },
   {
    "duration": 218,
    "start_time": "2025-02-21T01:01:16.072Z"
   },
   {
    "duration": 247,
    "start_time": "2025-02-21T01:01:43.092Z"
   },
   {
    "duration": 139,
    "start_time": "2025-02-21T01:02:15.973Z"
   },
   {
    "duration": 208,
    "start_time": "2025-02-21T01:02:30.357Z"
   },
   {
    "duration": 192,
    "start_time": "2025-02-21T01:02:46.518Z"
   },
   {
    "duration": 195,
    "start_time": "2025-02-21T01:02:58.075Z"
   },
   {
    "duration": 196,
    "start_time": "2025-02-21T01:05:31.541Z"
   },
   {
    "duration": 13,
    "start_time": "2025-02-21T01:06:04.210Z"
   },
   {
    "duration": 361,
    "start_time": "2025-02-21T01:12:02.479Z"
   },
   {
    "duration": 2521,
    "start_time": "2025-02-21T01:48:21.275Z"
   },
   {
    "duration": 49,
    "start_time": "2025-02-21T01:48:23.799Z"
   },
   {
    "duration": 13,
    "start_time": "2025-02-21T01:48:27.822Z"
   },
   {
    "duration": 5,
    "start_time": "2025-02-21T01:48:32.286Z"
   },
   {
    "duration": 3,
    "start_time": "2025-02-21T01:48:33.356Z"
   },
   {
    "duration": 7,
    "start_time": "2025-02-21T01:48:33.813Z"
   },
   {
    "duration": 12,
    "start_time": "2025-02-21T01:48:34.357Z"
   },
   {
    "duration": 4,
    "start_time": "2025-02-21T01:48:39.336Z"
   },
   {
    "duration": 4,
    "start_time": "2025-02-21T01:48:40.035Z"
   },
   {
    "duration": 6,
    "start_time": "2025-02-21T01:48:42.334Z"
   },
   {
    "duration": 3,
    "start_time": "2025-02-21T01:48:42.850Z"
   },
   {
    "duration": 8,
    "start_time": "2025-02-21T01:48:47.228Z"
   },
   {
    "duration": 10,
    "start_time": "2025-02-21T01:48:51.095Z"
   },
   {
    "duration": 19,
    "start_time": "2025-02-21T01:48:54.995Z"
   },
   {
    "duration": 16,
    "start_time": "2025-02-21T01:48:58.626Z"
   },
   {
    "duration": 7,
    "start_time": "2025-02-21T01:49:01.389Z"
   },
   {
    "duration": 4,
    "start_time": "2025-02-21T01:49:02.156Z"
   },
   {
    "duration": 18,
    "start_time": "2025-02-21T01:49:04.942Z"
   },
   {
    "duration": 239,
    "start_time": "2025-02-21T01:49:10.012Z"
   },
   {
    "duration": 372,
    "start_time": "2025-02-21T01:49:16.992Z"
   },
   {
    "duration": 7,
    "start_time": "2025-02-21T01:49:21.225Z"
   },
   {
    "duration": 17,
    "start_time": "2025-02-21T01:49:24.569Z"
   },
   {
    "duration": 8,
    "start_time": "2025-02-21T01:49:28.194Z"
   },
   {
    "duration": 5,
    "start_time": "2025-02-21T01:49:31.120Z"
   },
   {
    "duration": 18,
    "start_time": "2025-02-21T01:49:34.653Z"
   },
   {
    "duration": 319,
    "start_time": "2025-02-21T02:00:41.156Z"
   },
   {
    "duration": 429,
    "start_time": "2025-02-21T02:05:51.620Z"
   },
   {
    "duration": 11,
    "start_time": "2025-02-21T02:07:53.070Z"
   },
   {
    "duration": 11,
    "start_time": "2025-02-21T02:08:36.169Z"
   },
   {
    "duration": 16,
    "start_time": "2025-02-21T02:09:34.095Z"
   },
   {
    "duration": 21,
    "start_time": "2025-02-21T02:10:46.609Z"
   },
   {
    "duration": 2723,
    "start_time": "2025-02-21T02:40:46.423Z"
   },
   {
    "duration": 52,
    "start_time": "2025-02-21T02:40:49.149Z"
   },
   {
    "duration": 5,
    "start_time": "2025-02-21T02:40:51.527Z"
   },
   {
    "duration": 3,
    "start_time": "2025-02-21T02:40:52.292Z"
   },
   {
    "duration": 4,
    "start_time": "2025-02-21T02:40:52.826Z"
   },
   {
    "duration": 15,
    "start_time": "2025-02-21T02:40:54.905Z"
   },
   {
    "duration": 4,
    "start_time": "2025-02-21T02:40:58.180Z"
   },
   {
    "duration": 4,
    "start_time": "2025-02-21T02:40:58.713Z"
   },
   {
    "duration": 6,
    "start_time": "2025-02-21T02:41:01.940Z"
   },
   {
    "duration": 3,
    "start_time": "2025-02-21T02:41:02.407Z"
   },
   {
    "duration": 11,
    "start_time": "2025-02-21T02:41:05.642Z"
   },
   {
    "duration": 8,
    "start_time": "2025-02-21T02:41:08.463Z"
   },
   {
    "duration": 15,
    "start_time": "2025-02-21T02:41:11.252Z"
   },
   {
    "duration": 16,
    "start_time": "2025-02-21T02:41:18.329Z"
   },
   {
    "duration": 5,
    "start_time": "2025-02-21T02:41:21.407Z"
   },
   {
    "duration": 3,
    "start_time": "2025-02-21T02:41:22.629Z"
   },
   {
    "duration": 19,
    "start_time": "2025-02-21T02:41:25.466Z"
   },
   {
    "duration": 232,
    "start_time": "2025-02-21T02:41:30.835Z"
   },
   {
    "duration": 381,
    "start_time": "2025-02-21T02:41:34.280Z"
   },
   {
    "duration": 7,
    "start_time": "2025-02-21T02:41:38.489Z"
   },
   {
    "duration": 17,
    "start_time": "2025-02-21T02:41:42.156Z"
   },
   {
    "duration": 4,
    "start_time": "2025-02-21T02:41:44.314Z"
   },
   {
    "duration": 6,
    "start_time": "2025-02-21T02:41:47.276Z"
   },
   {
    "duration": 17,
    "start_time": "2025-02-21T02:41:49.731Z"
   },
   {
    "duration": 15,
    "start_time": "2025-02-21T02:42:02.999Z"
   },
   {
    "duration": 17,
    "start_time": "2025-02-21T02:42:57.063Z"
   },
   {
    "duration": 17,
    "start_time": "2025-02-21T02:43:13.474Z"
   },
   {
    "duration": 16,
    "start_time": "2025-02-21T02:43:33.990Z"
   },
   {
    "duration": 18,
    "start_time": "2025-02-21T02:46:55.920Z"
   },
   {
    "duration": 15,
    "start_time": "2025-02-21T02:48:01.386Z"
   },
   {
    "duration": 563,
    "start_time": "2025-02-21T02:48:34.301Z"
   },
   {
    "duration": 15,
    "start_time": "2025-02-21T02:48:45.592Z"
   },
   {
    "duration": 12,
    "start_time": "2025-02-21T02:49:23.352Z"
   },
   {
    "duration": 17,
    "start_time": "2025-02-21T02:52:55.205Z"
   },
   {
    "duration": 16,
    "start_time": "2025-02-21T02:53:08.038Z"
   },
   {
    "duration": 39,
    "start_time": "2025-02-21T02:53:32.026Z"
   },
   {
    "duration": 129,
    "start_time": "2025-02-21T02:59:16.440Z"
   },
   {
    "duration": 171,
    "start_time": "2025-02-21T03:00:51.519Z"
   },
   {
    "duration": 165,
    "start_time": "2025-02-21T03:02:02.951Z"
   },
   {
    "duration": 203,
    "start_time": "2025-02-21T03:07:22.969Z"
   },
   {
    "duration": 119,
    "start_time": "2025-02-21T03:07:37.649Z"
   },
   {
    "duration": 264,
    "start_time": "2025-02-21T03:07:44.499Z"
   },
   {
    "duration": 171,
    "start_time": "2025-02-21T03:08:59.429Z"
   },
   {
    "duration": 171,
    "start_time": "2025-02-21T03:09:13.884Z"
   },
   {
    "duration": 171,
    "start_time": "2025-02-21T03:09:26.790Z"
   },
   {
    "duration": 308,
    "start_time": "2025-02-21T03:10:17.381Z"
   },
   {
    "duration": 158,
    "start_time": "2025-02-21T03:10:26.721Z"
   },
   {
    "duration": 176,
    "start_time": "2025-02-21T03:10:57.908Z"
   },
   {
    "duration": 176,
    "start_time": "2025-02-21T03:11:07.920Z"
   },
   {
    "duration": 170,
    "start_time": "2025-02-21T03:11:23.718Z"
   },
   {
    "duration": 274,
    "start_time": "2025-02-21T03:11:45.375Z"
   },
   {
    "duration": 162,
    "start_time": "2025-02-21T03:12:03.393Z"
   },
   {
    "duration": 194,
    "start_time": "2025-02-21T03:12:17.319Z"
   },
   {
    "duration": 161,
    "start_time": "2025-02-21T03:12:46.980Z"
   },
   {
    "duration": 157,
    "start_time": "2025-02-21T03:12:58.436Z"
   },
   {
    "duration": 168,
    "start_time": "2025-02-21T03:13:09.621Z"
   },
   {
    "duration": 123,
    "start_time": "2025-02-21T03:14:41.480Z"
   },
   {
    "duration": 212,
    "start_time": "2025-02-21T03:15:14.691Z"
   },
   {
    "duration": 177,
    "start_time": "2025-02-21T03:17:30.607Z"
   },
   {
    "duration": 5,
    "start_time": "2025-02-21T03:18:46.304Z"
   },
   {
    "duration": 172,
    "start_time": "2025-02-21T03:19:05.949Z"
   },
   {
    "duration": 4,
    "start_time": "2025-02-21T03:22:36.753Z"
   },
   {
    "duration": 7,
    "start_time": "2025-02-21T03:22:54.296Z"
   },
   {
    "duration": 178,
    "start_time": "2025-02-21T16:01:23.946Z"
   },
   {
    "duration": 2680,
    "start_time": "2025-02-21T16:01:29.395Z"
   },
   {
    "duration": 94,
    "start_time": "2025-02-21T16:01:32.078Z"
   },
   {
    "duration": 5,
    "start_time": "2025-02-21T16:01:34.655Z"
   },
   {
    "duration": 3,
    "start_time": "2025-02-21T16:01:35.180Z"
   },
   {
    "duration": 4,
    "start_time": "2025-02-21T16:01:35.598Z"
   },
   {
    "duration": 13,
    "start_time": "2025-02-21T16:01:36.033Z"
   },
   {
    "duration": 5,
    "start_time": "2025-02-21T16:01:39.053Z"
   },
   {
    "duration": 7,
    "start_time": "2025-02-21T16:01:39.540Z"
   },
   {
    "duration": 9,
    "start_time": "2025-02-21T16:01:40.193Z"
   },
   {
    "duration": 4,
    "start_time": "2025-02-21T16:01:40.674Z"
   },
   {
    "duration": 11,
    "start_time": "2025-02-21T16:01:44.382Z"
   },
   {
    "duration": 11,
    "start_time": "2025-02-21T16:01:47.956Z"
   },
   {
    "duration": 18,
    "start_time": "2025-02-21T16:01:51.121Z"
   },
   {
    "duration": 22,
    "start_time": "2025-02-21T16:01:53.925Z"
   },
   {
    "duration": 6,
    "start_time": "2025-02-21T16:01:57.770Z"
   },
   {
    "duration": 4,
    "start_time": "2025-02-21T16:01:58.404Z"
   },
   {
    "duration": 24,
    "start_time": "2025-02-21T16:02:01.882Z"
   },
   {
    "duration": 249,
    "start_time": "2025-02-21T16:02:05.777Z"
   },
   {
    "duration": 414,
    "start_time": "2025-02-21T16:02:10.087Z"
   },
   {
    "duration": 22,
    "start_time": "2025-02-21T16:02:16.165Z"
   },
   {
    "duration": 4,
    "start_time": "2025-02-21T16:02:19.004Z"
   },
   {
    "duration": 6,
    "start_time": "2025-02-21T16:02:22.107Z"
   },
   {
    "duration": 14,
    "start_time": "2025-02-21T16:02:23.681Z"
   },
   {
    "duration": 262,
    "start_time": "2025-02-21T16:02:27.168Z"
   },
   {
    "duration": 7,
    "start_time": "2025-02-21T16:02:32.061Z"
   },
   {
    "duration": 81,
    "start_time": "2025-02-21T16:18:32.240Z"
   },
   {
    "duration": 16,
    "start_time": "2025-02-21T16:18:50.270Z"
   },
   {
    "duration": 24,
    "start_time": "2025-02-21T16:19:41.397Z"
   },
   {
    "duration": 28,
    "start_time": "2025-02-21T16:19:52.471Z"
   },
   {
    "duration": 450,
    "start_time": "2025-02-21T16:22:33.925Z"
   },
   {
    "duration": 204,
    "start_time": "2025-02-21T16:22:46.769Z"
   },
   {
    "duration": 172,
    "start_time": "2025-02-21T16:25:13.996Z"
   },
   {
    "duration": 171,
    "start_time": "2025-02-21T16:25:59.402Z"
   },
   {
    "duration": 760,
    "start_time": "2025-02-21T16:27:20.698Z"
   },
   {
    "duration": 175,
    "start_time": "2025-02-21T16:27:50.403Z"
   },
   {
    "duration": 175,
    "start_time": "2025-02-21T16:31:40.475Z"
   },
   {
    "duration": 286,
    "start_time": "2025-02-21T16:33:41.035Z"
   },
   {
    "duration": 173,
    "start_time": "2025-02-21T16:34:31.113Z"
   },
   {
    "duration": 154,
    "start_time": "2025-02-21T16:34:45.230Z"
   },
   {
    "duration": 152,
    "start_time": "2025-02-21T16:35:03.915Z"
   },
   {
    "duration": 140,
    "start_time": "2025-02-21T16:36:26.552Z"
   },
   {
    "duration": 236,
    "start_time": "2025-02-21T16:36:35.258Z"
   },
   {
    "duration": 315,
    "start_time": "2025-02-21T16:37:01.161Z"
   },
   {
    "duration": 160,
    "start_time": "2025-02-21T16:37:10.371Z"
   },
   {
    "duration": 189,
    "start_time": "2025-02-21T16:37:24.123Z"
   },
   {
    "duration": 153,
    "start_time": "2025-02-21T16:37:36.288Z"
   },
   {
    "duration": 160,
    "start_time": "2025-02-21T16:37:44.699Z"
   },
   {
    "duration": 172,
    "start_time": "2025-02-21T16:37:50.982Z"
   },
   {
    "duration": 197,
    "start_time": "2025-02-21T16:40:04.369Z"
   },
   {
    "duration": 170,
    "start_time": "2025-02-21T16:40:28.715Z"
   },
   {
    "duration": 181,
    "start_time": "2025-02-21T16:40:51.849Z"
   },
   {
    "duration": 157,
    "start_time": "2025-02-21T16:41:23.517Z"
   },
   {
    "duration": 154,
    "start_time": "2025-02-21T16:41:39.537Z"
   },
   {
    "duration": 131,
    "start_time": "2025-02-21T16:42:10.032Z"
   },
   {
    "duration": 158,
    "start_time": "2025-02-21T16:43:15.334Z"
   },
   {
    "duration": 182,
    "start_time": "2025-02-21T16:43:39.352Z"
   },
   {
    "duration": 147,
    "start_time": "2025-02-21T16:43:58.053Z"
   },
   {
    "duration": 191,
    "start_time": "2025-02-21T16:44:13.037Z"
   },
   {
    "duration": 185,
    "start_time": "2025-02-21T16:44:35.561Z"
   },
   {
    "duration": 142,
    "start_time": "2025-02-21T16:45:03.870Z"
   },
   {
    "duration": 7,
    "start_time": "2025-02-21T16:48:01.602Z"
   },
   {
    "duration": 4,
    "start_time": "2025-02-21T16:48:27.839Z"
   },
   {
    "duration": 145,
    "start_time": "2025-02-21T16:48:49.155Z"
   },
   {
    "duration": 324,
    "start_time": "2025-02-21T16:49:01.175Z"
   },
   {
    "duration": 134,
    "start_time": "2025-02-21T16:50:45.502Z"
   },
   {
    "duration": 143,
    "start_time": "2025-02-21T16:51:04.436Z"
   },
   {
    "duration": 172,
    "start_time": "2025-02-21T16:53:23.475Z"
   },
   {
    "duration": 202,
    "start_time": "2025-02-21T16:53:44.461Z"
   },
   {
    "duration": 142,
    "start_time": "2025-02-21T16:57:09.048Z"
   },
   {
    "duration": 142,
    "start_time": "2025-02-21T16:57:28.231Z"
   },
   {
    "duration": 172,
    "start_time": "2025-02-21T17:02:50.705Z"
   },
   {
    "duration": 7,
    "start_time": "2025-02-21T17:17:22.214Z"
   },
   {
    "duration": 7,
    "start_time": "2025-02-21T17:18:19.472Z"
   },
   {
    "duration": 195,
    "start_time": "2025-02-21T17:19:48.516Z"
   },
   {
    "duration": 206,
    "start_time": "2025-02-21T17:20:18.402Z"
   },
   {
    "duration": 203,
    "start_time": "2025-02-21T17:20:26.204Z"
   },
   {
    "duration": 212,
    "start_time": "2025-02-21T17:20:36.182Z"
   },
   {
    "duration": 338,
    "start_time": "2025-02-21T17:21:38.387Z"
   },
   {
    "duration": 356,
    "start_time": "2025-02-21T17:21:56.251Z"
   },
   {
    "duration": 397,
    "start_time": "2025-02-21T17:22:07.548Z"
   },
   {
    "duration": 342,
    "start_time": "2025-02-21T17:23:30.258Z"
   },
   {
    "duration": 323,
    "start_time": "2025-02-21T17:23:45.562Z"
   },
   {
    "duration": 205,
    "start_time": "2025-02-21T17:24:32.793Z"
   },
   {
    "duration": 209,
    "start_time": "2025-02-21T17:24:48.290Z"
   },
   {
    "duration": 206,
    "start_time": "2025-02-21T17:27:38.492Z"
   },
   {
    "duration": 197,
    "start_time": "2025-02-21T17:27:55.290Z"
   },
   {
    "duration": 195,
    "start_time": "2025-02-21T17:28:16.830Z"
   },
   {
    "duration": 4,
    "start_time": "2025-02-21T17:31:17.625Z"
   },
   {
    "duration": 7,
    "start_time": "2025-02-21T17:31:30.694Z"
   },
   {
    "duration": 5,
    "start_time": "2025-02-21T17:32:00.738Z"
   },
   {
    "duration": 2628,
    "start_time": "2025-02-21T21:21:14.581Z"
   },
   {
    "duration": 53,
    "start_time": "2025-02-21T21:21:17.260Z"
   },
   {
    "duration": 3,
    "start_time": "2025-02-21T21:21:21.424Z"
   },
   {
    "duration": 3,
    "start_time": "2025-02-21T21:21:21.934Z"
   },
   {
    "duration": 4,
    "start_time": "2025-02-21T21:21:22.408Z"
   },
   {
    "duration": 12,
    "start_time": "2025-02-21T21:21:22.976Z"
   },
   {
    "duration": 4,
    "start_time": "2025-02-21T21:21:26.198Z"
   },
   {
    "duration": 4,
    "start_time": "2025-02-21T21:21:26.697Z"
   },
   {
    "duration": 7,
    "start_time": "2025-02-21T21:21:30.068Z"
   },
   {
    "duration": 4,
    "start_time": "2025-02-21T21:21:30.517Z"
   },
   {
    "duration": 7,
    "start_time": "2025-02-21T21:21:34.755Z"
   },
   {
    "duration": 10,
    "start_time": "2025-02-21T21:21:39.049Z"
   },
   {
    "duration": 14,
    "start_time": "2025-02-21T21:21:41.781Z"
   },
   {
    "duration": 20,
    "start_time": "2025-02-21T21:21:47.569Z"
   },
   {
    "duration": 4,
    "start_time": "2025-02-21T21:21:49.903Z"
   },
   {
    "duration": 4,
    "start_time": "2025-02-21T21:21:50.480Z"
   },
   {
    "duration": 19,
    "start_time": "2025-02-21T21:21:53.191Z"
   },
   {
    "duration": 11,
    "start_time": "2025-02-21T21:21:56.421Z"
   },
   {
    "duration": 237,
    "start_time": "2025-02-21T21:22:01.383Z"
   },
   {
    "duration": 370,
    "start_time": "2025-02-21T21:22:04.164Z"
   },
   {
    "duration": 7,
    "start_time": "2025-02-21T21:22:07.466Z"
   },
   {
    "duration": 22,
    "start_time": "2025-02-21T21:22:11.935Z"
   },
   {
    "duration": 4,
    "start_time": "2025-02-21T21:22:14.558Z"
   },
   {
    "duration": 5,
    "start_time": "2025-02-21T21:22:16.894Z"
   },
   {
    "duration": 13,
    "start_time": "2025-02-21T21:22:19.307Z"
   },
   {
    "duration": 176,
    "start_time": "2025-02-21T21:22:23.075Z"
   },
   {
    "duration": 8,
    "start_time": "2025-02-21T21:22:26.589Z"
   },
   {
    "duration": 196,
    "start_time": "2025-02-21T21:22:29.342Z"
   },
   {
    "duration": 165,
    "start_time": "2025-02-21T21:22:32.973Z"
   },
   {
    "duration": 8,
    "start_time": "2025-02-21T21:22:39.335Z"
   },
   {
    "duration": 188,
    "start_time": "2025-02-21T21:22:42.536Z"
   },
   {
    "duration": 6,
    "start_time": "2025-02-21T21:22:45.696Z"
   },
   {
    "duration": 6,
    "start_time": "2025-02-21T21:29:13.145Z"
   },
   {
    "duration": 7,
    "start_time": "2025-02-21T21:29:35.026Z"
   },
   {
    "duration": 6,
    "start_time": "2025-02-21T21:29:44.204Z"
   },
   {
    "duration": 6,
    "start_time": "2025-02-21T21:31:13.677Z"
   },
   {
    "duration": 6,
    "start_time": "2025-02-21T21:33:00.252Z"
   },
   {
    "duration": 5,
    "start_time": "2025-02-21T21:34:45.513Z"
   },
   {
    "duration": 13,
    "start_time": "2025-02-21T21:34:59.244Z"
   },
   {
    "duration": 6,
    "start_time": "2025-02-21T21:40:48.435Z"
   },
   {
    "duration": 6,
    "start_time": "2025-02-21T21:40:58.150Z"
   },
   {
    "duration": 6,
    "start_time": "2025-02-21T21:41:29.548Z"
   },
   {
    "duration": 5,
    "start_time": "2025-02-21T21:43:03.679Z"
   },
   {
    "duration": 6,
    "start_time": "2025-02-21T21:43:37.534Z"
   },
   {
    "duration": 6,
    "start_time": "2025-02-21T21:44:41.464Z"
   },
   {
    "duration": 6,
    "start_time": "2025-02-21T21:45:08.474Z"
   },
   {
    "duration": 552,
    "start_time": "2025-02-21T21:55:52.911Z"
   },
   {
    "duration": 43,
    "start_time": "2025-02-21T21:57:06.683Z"
   },
   {
    "duration": 48,
    "start_time": "2025-02-21T21:57:49.950Z"
   },
   {
    "duration": 6,
    "start_time": "2025-02-21T21:58:06.908Z"
   },
   {
    "duration": 7,
    "start_time": "2025-02-21T21:58:32.956Z"
   },
   {
    "duration": 103,
    "start_time": "2025-02-21T21:58:56.284Z"
   },
   {
    "duration": 7,
    "start_time": "2025-02-21T21:59:02.924Z"
   },
   {
    "duration": 10,
    "start_time": "2025-02-21T21:59:16.347Z"
   },
   {
    "duration": 6,
    "start_time": "2025-02-21T21:59:16.844Z"
   },
   {
    "duration": 98,
    "start_time": "2025-02-21T21:59:18.917Z"
   },
   {
    "duration": 123,
    "start_time": "2025-02-21T21:59:46.063Z"
   },
   {
    "duration": 134,
    "start_time": "2025-02-21T22:01:55.246Z"
   },
   {
    "duration": 122,
    "start_time": "2025-02-21T22:14:48.366Z"
   },
   {
    "duration": 18,
    "start_time": "2025-02-21T22:15:12.820Z"
   },
   {
    "duration": 488,
    "start_time": "2025-02-21T22:15:20.758Z"
   },
   {
    "duration": 101,
    "start_time": "2025-02-21T22:15:44.227Z"
   },
   {
    "duration": 196,
    "start_time": "2025-02-21T22:15:59.699Z"
   },
   {
    "duration": 125,
    "start_time": "2025-02-21T22:16:05.672Z"
   },
   {
    "duration": 119,
    "start_time": "2025-02-21T22:16:15.469Z"
   },
   {
    "duration": 114,
    "start_time": "2025-02-21T22:17:49.908Z"
   },
   {
    "duration": 118,
    "start_time": "2025-02-21T22:30:25.578Z"
   },
   {
    "duration": 254,
    "start_time": "2025-02-21T22:30:43.136Z"
   },
   {
    "duration": 48,
    "start_time": "2025-02-21T22:31:52.316Z"
   },
   {
    "duration": 98,
    "start_time": "2025-02-21T22:32:09.143Z"
   },
   {
    "duration": 45,
    "start_time": "2025-02-21T22:32:35.992Z"
   },
   {
    "duration": 302,
    "start_time": "2025-02-21T22:33:22.705Z"
   },
   {
    "duration": 6,
    "start_time": "2025-02-21T22:33:37.375Z"
   },
   {
    "duration": 88,
    "start_time": "2025-02-21T22:33:44.428Z"
   },
   {
    "duration": 103,
    "start_time": "2025-02-21T22:34:03.511Z"
   },
   {
    "duration": 113,
    "start_time": "2025-02-21T22:34:22.125Z"
   },
   {
    "duration": 6,
    "start_time": "2025-02-21T22:34:34.078Z"
   },
   {
    "duration": 45,
    "start_time": "2025-02-21T22:35:38.088Z"
   },
   {
    "duration": 7,
    "start_time": "2025-02-21T22:35:58.619Z"
   },
   {
    "duration": 7,
    "start_time": "2025-02-21T22:36:12.161Z"
   },
   {
    "duration": 7,
    "start_time": "2025-02-21T22:37:50.321Z"
   },
   {
    "duration": 6,
    "start_time": "2025-02-21T22:38:00.236Z"
   },
   {
    "duration": 46,
    "start_time": "2025-02-21T22:40:11.386Z"
   },
   {
    "duration": 44,
    "start_time": "2025-02-21T22:40:20.712Z"
   },
   {
    "duration": 25,
    "start_time": "2025-02-21T22:41:13.102Z"
   },
   {
    "duration": 17,
    "start_time": "2025-02-21T22:41:23.653Z"
   },
   {
    "duration": 70,
    "start_time": "2025-02-21T22:43:17.070Z"
   },
   {
    "duration": 28,
    "start_time": "2025-02-21T22:43:26.182Z"
   },
   {
    "duration": 7,
    "start_time": "2025-02-21T22:43:40.648Z"
   },
   {
    "duration": 18,
    "start_time": "2025-02-21T22:44:14.123Z"
   },
   {
    "duration": 179,
    "start_time": "2025-02-21T22:44:47.215Z"
   },
   {
    "duration": 97,
    "start_time": "2025-02-21T22:45:33.392Z"
   },
   {
    "duration": 96,
    "start_time": "2025-02-21T22:47:42.467Z"
   },
   {
    "duration": 99,
    "start_time": "2025-02-21T22:49:59.787Z"
   },
   {
    "duration": 117,
    "start_time": "2025-02-21T22:52:34.207Z"
   },
   {
    "duration": 103,
    "start_time": "2025-02-21T22:53:00.080Z"
   },
   {
    "duration": 237,
    "start_time": "2025-02-21T22:53:32.292Z"
   },
   {
    "duration": 98,
    "start_time": "2025-02-21T22:53:44.823Z"
   },
   {
    "duration": 227,
    "start_time": "2025-02-21T22:54:55.928Z"
   },
   {
    "duration": 104,
    "start_time": "2025-02-21T22:55:08.234Z"
   },
   {
    "duration": 16,
    "start_time": "2025-02-21T22:55:43.167Z"
   },
   {
    "duration": 178,
    "start_time": "2025-02-21T22:55:54.415Z"
   },
   {
    "duration": 51,
    "start_time": "2025-02-21T22:56:44.428Z"
   },
   {
    "duration": 47,
    "start_time": "2025-02-21T22:56:54.543Z"
   },
   {
    "duration": 97,
    "start_time": "2025-02-21T22:57:14.723Z"
   },
   {
    "duration": 100,
    "start_time": "2025-02-21T22:57:23.572Z"
   },
   {
    "duration": 47,
    "start_time": "2025-02-21T22:57:31.866Z"
   },
   {
    "duration": 92,
    "start_time": "2025-02-21T22:57:38.956Z"
   },
   {
    "duration": 125,
    "start_time": "2025-02-21T23:02:34.707Z"
   },
   {
    "duration": 92,
    "start_time": "2025-02-21T23:03:07.445Z"
   },
   {
    "duration": 50,
    "start_time": "2025-02-21T23:03:52.141Z"
   },
   {
    "duration": 7,
    "start_time": "2025-02-21T23:04:11.483Z"
   },
   {
    "duration": 95,
    "start_time": "2025-02-21T23:04:30.038Z"
   },
   {
    "duration": 96,
    "start_time": "2025-02-21T23:04:54.645Z"
   },
   {
    "duration": 180,
    "start_time": "2025-02-21T23:06:16.342Z"
   },
   {
    "duration": 102,
    "start_time": "2025-02-21T23:06:29.350Z"
   },
   {
    "duration": 6,
    "start_time": "2025-02-21T23:14:48.595Z"
   },
   {
    "duration": 19,
    "start_time": "2025-02-21T23:21:37.999Z"
   },
   {
    "duration": 19,
    "start_time": "2025-02-21T23:22:03.347Z"
   },
   {
    "duration": 9,
    "start_time": "2025-02-21T23:22:22.406Z"
   },
   {
    "duration": 8,
    "start_time": "2025-02-21T23:23:16.933Z"
   },
   {
    "duration": 41,
    "start_time": "2025-02-21T23:27:20.596Z"
   },
   {
    "duration": 5,
    "start_time": "2025-02-21T23:27:29.097Z"
   },
   {
    "duration": 9,
    "start_time": "2025-02-21T23:28:13.150Z"
   },
   {
    "duration": 10,
    "start_time": "2025-02-21T23:28:31.412Z"
   },
   {
    "duration": 10,
    "start_time": "2025-02-21T23:28:51.348Z"
   },
   {
    "duration": 9,
    "start_time": "2025-02-21T23:29:46.893Z"
   },
   {
    "duration": 4,
    "start_time": "2025-02-21T23:32:14.099Z"
   },
   {
    "duration": 8,
    "start_time": "2025-02-21T23:33:13.828Z"
   },
   {
    "duration": 4,
    "start_time": "2025-02-21T23:34:19.888Z"
   },
   {
    "duration": 4,
    "start_time": "2025-02-21T23:34:32.523Z"
   },
   {
    "duration": 4,
    "start_time": "2025-02-21T23:34:46.806Z"
   },
   {
    "duration": 4,
    "start_time": "2025-02-21T23:35:21.752Z"
   },
   {
    "duration": 3,
    "start_time": "2025-02-21T23:35:24.444Z"
   },
   {
    "duration": 9,
    "start_time": "2025-02-21T23:37:32.062Z"
   },
   {
    "duration": 164,
    "start_time": "2025-02-21T23:48:47.856Z"
   },
   {
    "duration": 185,
    "start_time": "2025-02-21T23:49:08.171Z"
   },
   {
    "duration": 224,
    "start_time": "2025-02-21T23:57:19.850Z"
   },
   {
    "duration": 212,
    "start_time": "2025-02-21T23:57:38.079Z"
   },
   {
    "duration": 99,
    "start_time": "2025-02-22T00:13:58.897Z"
   },
   {
    "duration": 104,
    "start_time": "2025-02-22T00:14:06.888Z"
   },
   {
    "duration": 353,
    "start_time": "2025-02-22T00:14:21.475Z"
   },
   {
    "duration": 109,
    "start_time": "2025-02-22T00:14:30.243Z"
   },
   {
    "duration": 101,
    "start_time": "2025-02-22T00:14:45.294Z"
   },
   {
    "duration": 791,
    "start_time": "2025-02-22T00:55:38.272Z"
   },
   {
    "duration": 40,
    "start_time": "2025-02-22T00:55:39.065Z"
   },
   {
    "duration": 12,
    "start_time": "2025-02-22T00:55:43.493Z"
   },
   {
    "duration": 4,
    "start_time": "2025-02-22T00:55:47.792Z"
   },
   {
    "duration": 3,
    "start_time": "2025-02-22T00:55:49.294Z"
   },
   {
    "duration": 4,
    "start_time": "2025-02-22T00:55:49.804Z"
   },
   {
    "duration": 16,
    "start_time": "2025-02-22T00:55:51.366Z"
   },
   {
    "duration": 4,
    "start_time": "2025-02-22T00:55:54.663Z"
   },
   {
    "duration": 5,
    "start_time": "2025-02-22T00:55:55.226Z"
   },
   {
    "duration": 6,
    "start_time": "2025-02-22T00:55:57.675Z"
   },
   {
    "duration": 3,
    "start_time": "2025-02-22T00:55:58.153Z"
   },
   {
    "duration": 12,
    "start_time": "2025-02-22T00:55:59.895Z"
   },
   {
    "duration": 9,
    "start_time": "2025-02-22T00:56:03.130Z"
   },
   {
    "duration": 8,
    "start_time": "2025-02-22T00:56:06.161Z"
   },
   {
    "duration": 14,
    "start_time": "2025-02-22T00:56:09.264Z"
   },
   {
    "duration": 17,
    "start_time": "2025-02-22T00:56:13.795Z"
   },
   {
    "duration": 4,
    "start_time": "2025-02-22T00:56:16.794Z"
   },
   {
    "duration": 4,
    "start_time": "2025-02-22T00:56:17.483Z"
   },
   {
    "duration": 16,
    "start_time": "2025-02-22T00:56:20.610Z"
   },
   {
    "duration": 10,
    "start_time": "2025-02-22T00:56:23.057Z"
   },
   {
    "duration": 233,
    "start_time": "2025-02-22T00:56:27.488Z"
   },
   {
    "duration": 414,
    "start_time": "2025-02-22T00:56:31.769Z"
   },
   {
    "duration": 7,
    "start_time": "2025-02-22T00:56:35.906Z"
   },
   {
    "duration": 17,
    "start_time": "2025-02-22T00:56:39.081Z"
   },
   {
    "duration": 4,
    "start_time": "2025-02-22T00:56:41.721Z"
   },
   {
    "duration": 5,
    "start_time": "2025-02-22T00:56:44.409Z"
   },
   {
    "duration": 13,
    "start_time": "2025-02-22T00:56:45.075Z"
   },
   {
    "duration": 222,
    "start_time": "2025-02-22T00:56:47.730Z"
   },
   {
    "duration": 7,
    "start_time": "2025-02-22T00:56:50.396Z"
   },
   {
    "duration": 144,
    "start_time": "2025-02-22T00:56:53.841Z"
   },
   {
    "duration": 168,
    "start_time": "2025-02-22T00:56:57.715Z"
   },
   {
    "duration": 8,
    "start_time": "2025-02-22T00:57:01.881Z"
   },
   {
    "duration": 212,
    "start_time": "2025-02-22T00:57:04.205Z"
   },
   {
    "duration": 6,
    "start_time": "2025-02-22T00:57:07.299Z"
   },
   {
    "duration": 95,
    "start_time": "2025-02-22T00:57:10.383Z"
   },
   {
    "duration": 100,
    "start_time": "2025-02-22T00:57:13.387Z"
   },
   {
    "duration": 101,
    "start_time": "2025-02-22T00:57:16.356Z"
   },
   {
    "duration": 163,
    "start_time": "2025-02-22T00:57:19.828Z"
   },
   {
    "duration": 94,
    "start_time": "2025-02-22T00:57:22.778Z"
   },
   {
    "duration": 101,
    "start_time": "2025-02-22T00:57:25.741Z"
   },
   {
    "duration": 7,
    "start_time": "2025-02-22T00:57:29.359Z"
   },
   {
    "duration": 8,
    "start_time": "2025-02-22T00:57:31.289Z"
   },
   {
    "duration": 8,
    "start_time": "2025-02-22T00:57:31.883Z"
   },
   {
    "duration": 129,
    "start_time": "2025-02-22T00:57:32.460Z"
   },
   {
    "duration": 8,
    "start_time": "2025-02-22T00:57:57.492Z"
   },
   {
    "duration": 9,
    "start_time": "2025-02-22T00:58:02.819Z"
   },
   {
    "duration": 156,
    "start_time": "2025-02-22T15:47:45.737Z"
   },
   {
    "duration": 2533,
    "start_time": "2025-02-22T15:47:58.024Z"
   },
   {
    "duration": 46,
    "start_time": "2025-02-22T15:48:00.559Z"
   },
   {
    "duration": 11,
    "start_time": "2025-02-22T15:48:03.658Z"
   },
   {
    "duration": 4,
    "start_time": "2025-02-22T15:48:07.744Z"
   },
   {
    "duration": 3,
    "start_time": "2025-02-22T15:48:08.391Z"
   },
   {
    "duration": 4,
    "start_time": "2025-02-22T15:48:08.909Z"
   },
   {
    "duration": 12,
    "start_time": "2025-02-22T15:48:09.586Z"
   },
   {
    "duration": 4,
    "start_time": "2025-02-22T15:48:14.093Z"
   },
   {
    "duration": 4,
    "start_time": "2025-02-22T15:48:14.605Z"
   },
   {
    "duration": 7,
    "start_time": "2025-02-22T15:48:15.211Z"
   },
   {
    "duration": 3,
    "start_time": "2025-02-22T15:48:15.735Z"
   },
   {
    "duration": 11,
    "start_time": "2025-02-22T15:48:16.551Z"
   },
   {
    "duration": 7,
    "start_time": "2025-02-22T15:48:22.628Z"
   },
   {
    "duration": 8,
    "start_time": "2025-02-22T15:48:26.984Z"
   },
   {
    "duration": 19,
    "start_time": "2025-02-22T15:48:29.874Z"
   },
   {
    "duration": 18,
    "start_time": "2025-02-22T15:48:32.446Z"
   },
   {
    "duration": 17,
    "start_time": "2025-02-22T15:48:36.665Z"
   },
   {
    "duration": 5,
    "start_time": "2025-02-22T15:48:40.768Z"
   },
   {
    "duration": 3,
    "start_time": "2025-02-22T15:48:41.489Z"
   },
   {
    "duration": 18,
    "start_time": "2025-02-22T15:48:44.180Z"
   },
   {
    "duration": 10,
    "start_time": "2025-02-22T15:48:48.343Z"
   },
   {
    "duration": 231,
    "start_time": "2025-02-22T15:48:54.436Z"
   },
   {
    "duration": 417,
    "start_time": "2025-02-22T15:48:58.489Z"
   },
   {
    "duration": 17,
    "start_time": "2025-02-22T15:49:04.659Z"
   },
   {
    "duration": 4,
    "start_time": "2025-02-22T15:49:10.050Z"
   },
   {
    "duration": 5,
    "start_time": "2025-02-22T15:49:12.575Z"
   },
   {
    "duration": 12,
    "start_time": "2025-02-22T15:49:17.161Z"
   },
   {
    "duration": 175,
    "start_time": "2025-02-22T15:49:20.363Z"
   },
   {
    "duration": 8,
    "start_time": "2025-02-22T15:49:23.370Z"
   },
   {
    "duration": 147,
    "start_time": "2025-02-22T15:49:26.309Z"
   },
   {
    "duration": 167,
    "start_time": "2025-02-22T15:49:30.240Z"
   },
   {
    "duration": 7,
    "start_time": "2025-02-22T15:49:34.902Z"
   },
   {
    "duration": 196,
    "start_time": "2025-02-22T15:49:37.131Z"
   },
   {
    "duration": 5,
    "start_time": "2025-02-22T15:49:40.385Z"
   },
   {
    "duration": 95,
    "start_time": "2025-02-22T15:49:44.464Z"
   },
   {
    "duration": 9,
    "start_time": "2025-02-22T15:59:15.154Z"
   },
   {
    "duration": 6,
    "start_time": "2025-02-22T15:59:56.455Z"
   },
   {
    "duration": 6,
    "start_time": "2025-02-22T16:01:18.968Z"
   },
   {
    "duration": 100,
    "start_time": "2025-02-22T16:02:13.056Z"
   },
   {
    "duration": 92,
    "start_time": "2025-02-22T16:02:26.242Z"
   },
   {
    "duration": 198,
    "start_time": "2025-02-22T16:02:39.570Z"
   },
   {
    "duration": 101,
    "start_time": "2025-02-22T16:02:53.592Z"
   },
   {
    "duration": 98,
    "start_time": "2025-02-22T16:03:05.322Z"
   },
   {
    "duration": 228,
    "start_time": "2025-02-22T16:04:33.514Z"
   },
   {
    "duration": 224,
    "start_time": "2025-02-22T16:04:46.292Z"
   },
   {
    "duration": 222,
    "start_time": "2025-02-22T16:04:56.447Z"
   },
   {
    "duration": 232,
    "start_time": "2025-02-22T16:05:12.896Z"
   },
   {
    "duration": 364,
    "start_time": "2025-02-22T16:06:21.377Z"
   },
   {
    "duration": 244,
    "start_time": "2025-02-22T16:06:38.868Z"
   },
   {
    "duration": 245,
    "start_time": "2025-02-22T16:08:25.589Z"
   },
   {
    "duration": 346,
    "start_time": "2025-02-22T16:09:14.552Z"
   },
   {
    "duration": 820,
    "start_time": "2025-02-22T16:09:57.164Z"
   },
   {
    "duration": 351,
    "start_time": "2025-02-22T16:10:14.868Z"
   },
   {
    "duration": 2623,
    "start_time": "2025-02-24T16:47:13.745Z"
   },
   {
    "duration": 47,
    "start_time": "2025-02-24T16:47:16.370Z"
   },
   {
    "duration": 12,
    "start_time": "2025-02-24T16:47:19.753Z"
   },
   {
    "duration": 4,
    "start_time": "2025-02-24T16:47:24.068Z"
   },
   {
    "duration": 3,
    "start_time": "2025-02-24T16:47:24.672Z"
   },
   {
    "duration": 4,
    "start_time": "2025-02-24T16:47:25.156Z"
   },
   {
    "duration": 13,
    "start_time": "2025-02-24T16:47:25.739Z"
   },
   {
    "duration": 216,
    "start_time": "2025-02-24T16:48:22.309Z"
   },
   {
    "duration": 14,
    "start_time": "2025-02-24T16:48:45.845Z"
   },
   {
    "duration": 14,
    "start_time": "2025-02-24T16:49:00.244Z"
   },
   {
    "duration": 479,
    "start_time": "2025-02-24T16:49:14.189Z"
   },
   {
    "duration": 11,
    "start_time": "2025-02-24T16:51:52.623Z"
   },
   {
    "duration": 13,
    "start_time": "2025-02-24T16:52:32.261Z"
   },
   {
    "duration": 10,
    "start_time": "2025-02-24T16:54:39.756Z"
   },
   {
    "duration": 22,
    "start_time": "2025-02-24T17:03:53.285Z"
   },
   {
    "duration": 25,
    "start_time": "2025-02-24T17:04:06.334Z"
   },
   {
    "duration": 11,
    "start_time": "2025-02-24T17:04:47.989Z"
   },
   {
    "duration": 26,
    "start_time": "2025-02-24T17:04:49.897Z"
   },
   {
    "duration": 4,
    "start_time": "2025-02-24T17:05:08.661Z"
   },
   {
    "duration": 4,
    "start_time": "2025-02-24T17:05:09.636Z"
   },
   {
    "duration": 7,
    "start_time": "2025-02-24T17:05:13.295Z"
   },
   {
    "duration": 3,
    "start_time": "2025-02-24T17:05:13.806Z"
   },
   {
    "duration": 10,
    "start_time": "2025-02-24T17:05:14.348Z"
   },
   {
    "duration": 7,
    "start_time": "2025-02-24T17:05:17.891Z"
   },
   {
    "duration": 12,
    "start_time": "2025-02-24T17:05:21.035Z"
   },
   {
    "duration": 20,
    "start_time": "2025-02-24T17:05:39.759Z"
   },
   {
    "duration": 15,
    "start_time": "2025-02-24T17:05:49.570Z"
   },
   {
    "duration": 16,
    "start_time": "2025-02-24T17:05:58.453Z"
   },
   {
    "duration": 24,
    "start_time": "2025-02-24T17:06:26.217Z"
   },
   {
    "duration": 18,
    "start_time": "2025-02-24T17:06:58.640Z"
   },
   {
    "duration": 30,
    "start_time": "2025-02-24T17:07:22.727Z"
   },
   {
    "duration": 22,
    "start_time": "2025-02-24T17:07:37.493Z"
   },
   {
    "duration": 4,
    "start_time": "2025-02-24T17:07:40.635Z"
   },
   {
    "duration": 6,
    "start_time": "2025-02-24T17:07:41.082Z"
   },
   {
    "duration": 3,
    "start_time": "2025-02-24T17:07:41.869Z"
   },
   {
    "duration": 3,
    "start_time": "2025-02-24T17:07:42.375Z"
   },
   {
    "duration": 10,
    "start_time": "2025-02-24T17:07:43.079Z"
   },
   {
    "duration": 7,
    "start_time": "2025-02-24T17:07:48.905Z"
   },
   {
    "duration": 8,
    "start_time": "2025-02-24T17:07:51.824Z"
   },
   {
    "duration": 12,
    "start_time": "2025-02-24T17:09:07.436Z"
   },
   {
    "duration": 3,
    "start_time": "2025-02-24T17:09:14.173Z"
   },
   {
    "duration": 34,
    "start_time": "2025-02-24T17:09:14.749Z"
   },
   {
    "duration": 11,
    "start_time": "2025-02-24T17:09:18.708Z"
   },
   {
    "duration": 4,
    "start_time": "2025-02-24T17:09:23.690Z"
   },
   {
    "duration": 2,
    "start_time": "2025-02-24T17:09:24.298Z"
   },
   {
    "duration": 3,
    "start_time": "2025-02-24T17:09:24.820Z"
   },
   {
    "duration": 12,
    "start_time": "2025-02-24T17:09:26.931Z"
   },
   {
    "duration": 13,
    "start_time": "2025-02-24T17:09:30.511Z"
   },
   {
    "duration": 4,
    "start_time": "2025-02-24T17:09:42.312Z"
   },
   {
    "duration": 7,
    "start_time": "2025-02-24T17:09:46.012Z"
   },
   {
    "duration": 4,
    "start_time": "2025-02-24T17:09:46.585Z"
   },
   {
    "duration": 10,
    "start_time": "2025-02-24T17:09:48.678Z"
   },
   {
    "duration": 8,
    "start_time": "2025-02-24T17:09:52.054Z"
   },
   {
    "duration": 12,
    "start_time": "2025-02-24T17:09:55.329Z"
   },
   {
    "duration": 13,
    "start_time": "2025-02-24T17:10:03.098Z"
   },
   {
    "duration": 17,
    "start_time": "2025-02-24T17:10:12.625Z"
   },
   {
    "duration": 8,
    "start_time": "2025-02-24T17:14:53.257Z"
   },
   {
    "duration": 3,
    "start_time": "2025-02-24T17:15:10.212Z"
   },
   {
    "duration": 5,
    "start_time": "2025-02-24T17:15:32.461Z"
   },
   {
    "duration": 7,
    "start_time": "2025-02-24T17:26:08.743Z"
   },
   {
    "duration": 262,
    "start_time": "2025-02-24T17:38:01.552Z"
   },
   {
    "duration": 4,
    "start_time": "2025-02-24T17:40:19.262Z"
   },
   {
    "duration": 5,
    "start_time": "2025-02-24T17:40:34.152Z"
   },
   {
    "duration": 31,
    "start_time": "2025-02-24T17:43:50.614Z"
   },
   {
    "duration": 17,
    "start_time": "2025-02-24T18:01:30.058Z"
   },
   {
    "duration": 14,
    "start_time": "2025-02-24T18:01:37.831Z"
   },
   {
    "duration": 16,
    "start_time": "2025-02-24T18:01:44.731Z"
   },
   {
    "duration": 4,
    "start_time": "2025-02-24T18:01:47.428Z"
   },
   {
    "duration": 201,
    "start_time": "2025-02-24T18:01:50.057Z"
   },
   {
    "duration": 25,
    "start_time": "2025-02-24T18:01:53.376Z"
   },
   {
    "duration": 4,
    "start_time": "2025-02-24T18:01:58.485Z"
   },
   {
    "duration": 19,
    "start_time": "2025-02-24T18:02:19.997Z"
   },
   {
    "duration": 26,
    "start_time": "2025-02-24T18:02:26.399Z"
   },
   {
    "duration": 23,
    "start_time": "2025-02-24T18:02:28.070Z"
   },
   {
    "duration": 18,
    "start_time": "2025-02-24T18:02:38.230Z"
   },
   {
    "duration": 7,
    "start_time": "2025-02-24T18:02:41.909Z"
   },
   {
    "duration": 5,
    "start_time": "2025-02-24T18:02:45.023Z"
   },
   {
    "duration": 12,
    "start_time": "2025-02-24T18:02:45.832Z"
   },
   {
    "duration": 174,
    "start_time": "2025-02-24T18:02:49.224Z"
   },
   {
    "duration": 177,
    "start_time": "2025-02-24T18:02:58.510Z"
   },
   {
    "duration": 179,
    "start_time": "2025-02-24T18:03:06.080Z"
   },
   {
    "duration": 188,
    "start_time": "2025-02-24T18:03:13.925Z"
   },
   {
    "duration": 175,
    "start_time": "2025-02-24T18:03:25.019Z"
   },
   {
    "duration": 98,
    "start_time": "2025-02-24T18:07:51.976Z"
   },
   {
    "duration": 101,
    "start_time": "2025-02-24T18:07:55.385Z"
   },
   {
    "duration": 209,
    "start_time": "2025-02-24T18:07:58.664Z"
   },
   {
    "duration": 96,
    "start_time": "2025-02-24T18:08:33.494Z"
   },
   {
    "duration": 117,
    "start_time": "2025-02-24T18:12:45.444Z"
   },
   {
    "duration": 105,
    "start_time": "2025-02-24T18:14:51.791Z"
   },
   {
    "duration": 103,
    "start_time": "2025-02-24T18:15:19.478Z"
   },
   {
    "duration": 7,
    "start_time": "2025-02-24T18:16:57.836Z"
   },
   {
    "duration": 18,
    "start_time": "2025-02-24T18:17:30.904Z"
   },
   {
    "duration": 8,
    "start_time": "2025-02-24T18:17:39.484Z"
   },
   {
    "duration": 7,
    "start_time": "2025-02-24T18:17:40.073Z"
   },
   {
    "duration": 8,
    "start_time": "2025-02-24T18:17:40.482Z"
   },
   {
    "duration": 128,
    "start_time": "2025-02-24T18:17:40.939Z"
   },
   {
    "duration": 6,
    "start_time": "2025-02-24T18:17:50.621Z"
   },
   {
    "duration": 8,
    "start_time": "2025-02-24T18:19:17.481Z"
   },
   {
    "duration": 3,
    "start_time": "2025-02-24T18:26:40.023Z"
   },
   {
    "duration": 33,
    "start_time": "2025-02-24T18:26:40.472Z"
   },
   {
    "duration": 4,
    "start_time": "2025-02-24T18:26:48.381Z"
   },
   {
    "duration": 3,
    "start_time": "2025-02-24T18:26:48.863Z"
   },
   {
    "duration": 4,
    "start_time": "2025-02-24T18:26:49.397Z"
   },
   {
    "duration": 11,
    "start_time": "2025-02-24T18:26:54.921Z"
   },
   {
    "duration": 14,
    "start_time": "2025-02-24T18:26:58.042Z"
   },
   {
    "duration": 161,
    "start_time": "2025-02-25T03:37:47.471Z"
   },
   {
    "duration": 2479,
    "start_time": "2025-02-25T03:37:59.134Z"
   },
   {
    "duration": 46,
    "start_time": "2025-02-25T03:38:01.615Z"
   },
   {
    "duration": 3,
    "start_time": "2025-02-25T03:38:05.990Z"
   },
   {
    "duration": 3,
    "start_time": "2025-02-25T03:38:06.569Z"
   },
   {
    "duration": 4,
    "start_time": "2025-02-25T03:38:07.018Z"
   },
   {
    "duration": 13,
    "start_time": "2025-02-25T03:38:07.544Z"
   },
   {
    "duration": 83,
    "start_time": "2025-02-25T03:38:11.322Z"
   },
   {
    "duration": 23,
    "start_time": "2025-02-25T03:39:32.918Z"
   },
   {
    "duration": 23,
    "start_time": "2025-02-25T03:40:38.324Z"
   },
   {
    "duration": 3,
    "start_time": "2025-02-25T03:40:43.629Z"
   },
   {
    "duration": 5,
    "start_time": "2025-02-25T03:40:44.238Z"
   },
   {
    "duration": 6,
    "start_time": "2025-02-25T03:40:47.010Z"
   },
   {
    "duration": 4,
    "start_time": "2025-02-25T03:40:47.528Z"
   },
   {
    "duration": 12,
    "start_time": "2025-02-25T03:40:48.028Z"
   },
   {
    "duration": 8,
    "start_time": "2025-02-25T03:40:58.236Z"
   },
   {
    "duration": 9,
    "start_time": "2025-02-25T03:41:01.639Z"
   },
   {
    "duration": 18,
    "start_time": "2025-02-25T03:41:06.495Z"
   },
   {
    "duration": 15,
    "start_time": "2025-02-25T03:41:18.400Z"
   },
   {
    "duration": 3,
    "start_time": "2025-02-25T03:41:25.527Z"
   },
   {
    "duration": 34,
    "start_time": "2025-02-25T03:41:26.030Z"
   },
   {
    "duration": 16,
    "start_time": "2025-02-25T03:41:29.816Z"
   },
   {
    "duration": 4,
    "start_time": "2025-02-25T03:41:33.545Z"
   },
   {
    "duration": 4,
    "start_time": "2025-02-25T03:41:35.265Z"
   },
   {
    "duration": 4,
    "start_time": "2025-02-25T03:41:35.919Z"
   },
   {
    "duration": 11,
    "start_time": "2025-02-25T03:41:38.767Z"
   },
   {
    "duration": 13,
    "start_time": "2025-02-25T03:41:41.576Z"
   },
   {
    "duration": 11,
    "start_time": "2025-02-25T03:42:19.276Z"
   },
   {
    "duration": 19,
    "start_time": "2025-02-25T03:43:53.466Z"
   },
   {
    "duration": 14,
    "start_time": "2025-02-25T03:45:01.756Z"
   },
   {
    "duration": 2633,
    "start_time": "2025-02-25T06:27:12.199Z"
   },
   {
    "duration": 47,
    "start_time": "2025-02-25T06:27:14.834Z"
   },
   {
    "duration": 12,
    "start_time": "2025-02-25T06:27:14.882Z"
   },
   {
    "duration": 4,
    "start_time": "2025-02-25T06:27:14.895Z"
   },
   {
    "duration": 5,
    "start_time": "2025-02-25T06:27:14.901Z"
   },
   {
    "duration": 4,
    "start_time": "2025-02-25T06:27:14.908Z"
   },
   {
    "duration": 11,
    "start_time": "2025-02-25T06:27:14.914Z"
   },
   {
    "duration": 12,
    "start_time": "2025-02-25T06:27:14.926Z"
   },
   {
    "duration": 4,
    "start_time": "2025-02-25T06:27:14.940Z"
   },
   {
    "duration": 4,
    "start_time": "2025-02-25T06:27:14.947Z"
   },
   {
    "duration": 7,
    "start_time": "2025-02-25T06:27:14.952Z"
   },
   {
    "duration": 45,
    "start_time": "2025-02-25T06:27:14.960Z"
   },
   {
    "duration": 10,
    "start_time": "2025-02-25T06:27:15.006Z"
   },
   {
    "duration": 7,
    "start_time": "2025-02-25T06:27:15.018Z"
   },
   {
    "duration": 10,
    "start_time": "2025-02-25T06:27:15.026Z"
   },
   {
    "duration": 16,
    "start_time": "2025-02-25T06:27:15.038Z"
   },
   {
    "duration": 13,
    "start_time": "2025-02-25T06:27:15.055Z"
   },
   {
    "duration": 50,
    "start_time": "2025-02-25T06:27:15.070Z"
   },
   {
    "duration": 4,
    "start_time": "2025-02-25T06:27:15.122Z"
   },
   {
    "duration": 4,
    "start_time": "2025-02-25T06:27:15.127Z"
   },
   {
    "duration": 17,
    "start_time": "2025-02-25T06:27:15.132Z"
   },
   {
    "duration": 9,
    "start_time": "2025-02-25T06:27:15.151Z"
   },
   {
    "duration": 46,
    "start_time": "2025-02-25T06:27:15.162Z"
   },
   {
    "duration": 14,
    "start_time": "2025-02-25T06:28:23.799Z"
   }
  ],
  "kernelspec": {
   "display_name": "Python 3 (ipykernel)",
   "language": "python",
   "name": "python3"
  },
  "language_info": {
   "codemirror_mode": {
    "name": "ipython",
    "version": 3
   },
   "file_extension": ".py",
   "mimetype": "text/x-python",
   "name": "python",
   "nbconvert_exporter": "python",
   "pygments_lexer": "ipython3",
   "version": "3.12.7"
  },
  "toc": {
   "base_numbering": 1,
   "nav_menu": {},
   "number_sections": true,
   "sideBar": true,
   "skip_h1_title": true,
   "title_cell": "Table of Contents",
   "title_sidebar": "Contents",
   "toc_cell": false,
   "toc_position": {
    "height": "calc(100% - 180px)",
    "left": "10px",
    "top": "150px",
    "width": "307.2px"
   },
   "toc_section_display": true,
   "toc_window_display": true
  }
 },
 "nbformat": 4,
 "nbformat_minor": 4
}
