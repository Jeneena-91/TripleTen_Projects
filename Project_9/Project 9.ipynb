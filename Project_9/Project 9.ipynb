{
 "cells": [
  {
   "cell_type": "markdown",
   "metadata": {},
   "source": [
    "# Title : Predict the market value of car"
   ]
  },
  {
   "cell_type": "markdown",
   "metadata": {},
   "source": [
    "##  Introduction\n",
    "\n",
    "Rusty Bargain used car sales service is developing an app to attract new customers. In this app, we can quickly find out the market value of our car. We have access to historical data: technical specifications, trim versions, and prices. We need to build the model to determine the value. \n",
    "\n",
    "Rusty Bargain is interested in:\n",
    "\n",
    "- the quality of the prediction;\n",
    "- the speed of the prediction;\n",
    "- the time required for training\n",
    "\n",
    "For this the project is divided into three steps.\n",
    "- Data preparation\n",
    "- Model training\n",
    "- Model analysis"
   ]
  },
  {
   "cell_type": "markdown",
   "metadata": {},
   "source": [
    "## Data preparation\n",
    "\n",
    "In this stage load all the important libraries needed and load the data to variable df. Check the dtypes and convert to appropriate form. check the missing values, duplicates in the data etc and prepare the data for model training."
   ]
  },
  {
   "cell_type": "code",
   "execution_count": 27,
   "metadata": {},
   "outputs": [],
   "source": [
    "#Load the libraries\n",
    "import pandas as pd\n",
    "import numpy as np\n",
    "import matplotlib.pyplot as plt\n",
    "import seaborn as sns\n",
    "import lightgbm as lgb\n",
    "import time\n",
    "\n",
    "from sklearn.model_selection import train_test_split\n",
    "from sklearn.metrics import mean_squared_error\n",
    "from sklearn.preprocessing import StandardScaler, OneHotEncoder\n",
    "from sklearn.compose import ColumnTransformer\n",
    "from sklearn.pipeline import Pipeline\n",
    "from sklearn.linear_model import LinearRegression\n",
    "from sklearn.ensemble import RandomForestRegressor\n",
    "from sklearn.tree import DecisionTreeRegressor\n",
    "from sklearn.model_selection import GridSearchCV\n",
    "from catboost import CatBoostRegressor, Pool\n",
    "import xgboost as xgb"
   ]
  },
  {
   "cell_type": "code",
   "execution_count": 2,
   "metadata": {},
   "outputs": [
    {
     "data": {
      "text/html": [
       "<div>\n",
       "<style scoped>\n",
       "    .dataframe tbody tr th:only-of-type {\n",
       "        vertical-align: middle;\n",
       "    }\n",
       "\n",
       "    .dataframe tbody tr th {\n",
       "        vertical-align: top;\n",
       "    }\n",
       "\n",
       "    .dataframe thead th {\n",
       "        text-align: right;\n",
       "    }\n",
       "</style>\n",
       "<table border=\"1\" class=\"dataframe\">\n",
       "  <thead>\n",
       "    <tr style=\"text-align: right;\">\n",
       "      <th></th>\n",
       "      <th>DateCrawled</th>\n",
       "      <th>Price</th>\n",
       "      <th>VehicleType</th>\n",
       "      <th>RegistrationYear</th>\n",
       "      <th>Gearbox</th>\n",
       "      <th>Power</th>\n",
       "      <th>Model</th>\n",
       "      <th>Mileage</th>\n",
       "      <th>RegistrationMonth</th>\n",
       "      <th>FuelType</th>\n",
       "      <th>Brand</th>\n",
       "      <th>NotRepaired</th>\n",
       "      <th>DateCreated</th>\n",
       "      <th>NumberOfPictures</th>\n",
       "      <th>PostalCode</th>\n",
       "      <th>LastSeen</th>\n",
       "    </tr>\n",
       "  </thead>\n",
       "  <tbody>\n",
       "    <tr>\n",
       "      <th>0</th>\n",
       "      <td>24/03/2016 11:52</td>\n",
       "      <td>480</td>\n",
       "      <td>NaN</td>\n",
       "      <td>1993</td>\n",
       "      <td>manual</td>\n",
       "      <td>0</td>\n",
       "      <td>golf</td>\n",
       "      <td>150000</td>\n",
       "      <td>0</td>\n",
       "      <td>petrol</td>\n",
       "      <td>volkswagen</td>\n",
       "      <td>NaN</td>\n",
       "      <td>24/03/2016 00:00</td>\n",
       "      <td>0</td>\n",
       "      <td>70435</td>\n",
       "      <td>07/04/2016 03:16</td>\n",
       "    </tr>\n",
       "    <tr>\n",
       "      <th>1</th>\n",
       "      <td>24/03/2016 10:58</td>\n",
       "      <td>18300</td>\n",
       "      <td>coupe</td>\n",
       "      <td>2011</td>\n",
       "      <td>manual</td>\n",
       "      <td>190</td>\n",
       "      <td>NaN</td>\n",
       "      <td>125000</td>\n",
       "      <td>5</td>\n",
       "      <td>gasoline</td>\n",
       "      <td>audi</td>\n",
       "      <td>yes</td>\n",
       "      <td>24/03/2016 00:00</td>\n",
       "      <td>0</td>\n",
       "      <td>66954</td>\n",
       "      <td>07/04/2016 01:46</td>\n",
       "    </tr>\n",
       "    <tr>\n",
       "      <th>2</th>\n",
       "      <td>14/03/2016 12:52</td>\n",
       "      <td>9800</td>\n",
       "      <td>suv</td>\n",
       "      <td>2004</td>\n",
       "      <td>auto</td>\n",
       "      <td>163</td>\n",
       "      <td>grand</td>\n",
       "      <td>125000</td>\n",
       "      <td>8</td>\n",
       "      <td>gasoline</td>\n",
       "      <td>jeep</td>\n",
       "      <td>NaN</td>\n",
       "      <td>14/03/2016 00:00</td>\n",
       "      <td>0</td>\n",
       "      <td>90480</td>\n",
       "      <td>05/04/2016 12:47</td>\n",
       "    </tr>\n",
       "    <tr>\n",
       "      <th>3</th>\n",
       "      <td>17/03/2016 16:54</td>\n",
       "      <td>1500</td>\n",
       "      <td>small</td>\n",
       "      <td>2001</td>\n",
       "      <td>manual</td>\n",
       "      <td>75</td>\n",
       "      <td>golf</td>\n",
       "      <td>150000</td>\n",
       "      <td>6</td>\n",
       "      <td>petrol</td>\n",
       "      <td>volkswagen</td>\n",
       "      <td>no</td>\n",
       "      <td>17/03/2016 00:00</td>\n",
       "      <td>0</td>\n",
       "      <td>91074</td>\n",
       "      <td>17/03/2016 17:40</td>\n",
       "    </tr>\n",
       "    <tr>\n",
       "      <th>4</th>\n",
       "      <td>31/03/2016 17:25</td>\n",
       "      <td>3600</td>\n",
       "      <td>small</td>\n",
       "      <td>2008</td>\n",
       "      <td>manual</td>\n",
       "      <td>69</td>\n",
       "      <td>fabia</td>\n",
       "      <td>90000</td>\n",
       "      <td>7</td>\n",
       "      <td>gasoline</td>\n",
       "      <td>skoda</td>\n",
       "      <td>no</td>\n",
       "      <td>31/03/2016 00:00</td>\n",
       "      <td>0</td>\n",
       "      <td>60437</td>\n",
       "      <td>06/04/2016 10:17</td>\n",
       "    </tr>\n",
       "    <tr>\n",
       "      <th>...</th>\n",
       "      <td>...</td>\n",
       "      <td>...</td>\n",
       "      <td>...</td>\n",
       "      <td>...</td>\n",
       "      <td>...</td>\n",
       "      <td>...</td>\n",
       "      <td>...</td>\n",
       "      <td>...</td>\n",
       "      <td>...</td>\n",
       "      <td>...</td>\n",
       "      <td>...</td>\n",
       "      <td>...</td>\n",
       "      <td>...</td>\n",
       "      <td>...</td>\n",
       "      <td>...</td>\n",
       "      <td>...</td>\n",
       "    </tr>\n",
       "    <tr>\n",
       "      <th>354364</th>\n",
       "      <td>21/03/2016 09:50</td>\n",
       "      <td>0</td>\n",
       "      <td>NaN</td>\n",
       "      <td>2005</td>\n",
       "      <td>manual</td>\n",
       "      <td>0</td>\n",
       "      <td>colt</td>\n",
       "      <td>150000</td>\n",
       "      <td>7</td>\n",
       "      <td>petrol</td>\n",
       "      <td>mitsubishi</td>\n",
       "      <td>yes</td>\n",
       "      <td>21/03/2016 00:00</td>\n",
       "      <td>0</td>\n",
       "      <td>2694</td>\n",
       "      <td>21/03/2016 10:42</td>\n",
       "    </tr>\n",
       "    <tr>\n",
       "      <th>354365</th>\n",
       "      <td>14/03/2016 17:48</td>\n",
       "      <td>2200</td>\n",
       "      <td>NaN</td>\n",
       "      <td>2005</td>\n",
       "      <td>NaN</td>\n",
       "      <td>0</td>\n",
       "      <td>NaN</td>\n",
       "      <td>20000</td>\n",
       "      <td>1</td>\n",
       "      <td>NaN</td>\n",
       "      <td>sonstige_autos</td>\n",
       "      <td>NaN</td>\n",
       "      <td>14/03/2016 00:00</td>\n",
       "      <td>0</td>\n",
       "      <td>39576</td>\n",
       "      <td>06/04/2016 00:46</td>\n",
       "    </tr>\n",
       "    <tr>\n",
       "      <th>354366</th>\n",
       "      <td>05/03/2016 19:56</td>\n",
       "      <td>1199</td>\n",
       "      <td>convertible</td>\n",
       "      <td>2000</td>\n",
       "      <td>auto</td>\n",
       "      <td>101</td>\n",
       "      <td>fortwo</td>\n",
       "      <td>125000</td>\n",
       "      <td>3</td>\n",
       "      <td>petrol</td>\n",
       "      <td>smart</td>\n",
       "      <td>no</td>\n",
       "      <td>05/03/2016 00:00</td>\n",
       "      <td>0</td>\n",
       "      <td>26135</td>\n",
       "      <td>11/03/2016 18:17</td>\n",
       "    </tr>\n",
       "    <tr>\n",
       "      <th>354367</th>\n",
       "      <td>19/03/2016 18:57</td>\n",
       "      <td>9200</td>\n",
       "      <td>bus</td>\n",
       "      <td>1996</td>\n",
       "      <td>manual</td>\n",
       "      <td>102</td>\n",
       "      <td>transporter</td>\n",
       "      <td>150000</td>\n",
       "      <td>3</td>\n",
       "      <td>gasoline</td>\n",
       "      <td>volkswagen</td>\n",
       "      <td>no</td>\n",
       "      <td>19/03/2016 00:00</td>\n",
       "      <td>0</td>\n",
       "      <td>87439</td>\n",
       "      <td>07/04/2016 07:15</td>\n",
       "    </tr>\n",
       "    <tr>\n",
       "      <th>354368</th>\n",
       "      <td>20/03/2016 19:41</td>\n",
       "      <td>3400</td>\n",
       "      <td>wagon</td>\n",
       "      <td>2002</td>\n",
       "      <td>manual</td>\n",
       "      <td>100</td>\n",
       "      <td>golf</td>\n",
       "      <td>150000</td>\n",
       "      <td>6</td>\n",
       "      <td>gasoline</td>\n",
       "      <td>volkswagen</td>\n",
       "      <td>NaN</td>\n",
       "      <td>20/03/2016 00:00</td>\n",
       "      <td>0</td>\n",
       "      <td>40764</td>\n",
       "      <td>24/03/2016 12:45</td>\n",
       "    </tr>\n",
       "  </tbody>\n",
       "</table>\n",
       "<p>354369 rows × 16 columns</p>\n",
       "</div>"
      ],
      "text/plain": [
       "             DateCrawled  Price  VehicleType  RegistrationYear Gearbox  Power  \\\n",
       "0       24/03/2016 11:52    480          NaN              1993  manual      0   \n",
       "1       24/03/2016 10:58  18300        coupe              2011  manual    190   \n",
       "2       14/03/2016 12:52   9800          suv              2004    auto    163   \n",
       "3       17/03/2016 16:54   1500        small              2001  manual     75   \n",
       "4       31/03/2016 17:25   3600        small              2008  manual     69   \n",
       "...                  ...    ...          ...               ...     ...    ...   \n",
       "354364  21/03/2016 09:50      0          NaN              2005  manual      0   \n",
       "354365  14/03/2016 17:48   2200          NaN              2005     NaN      0   \n",
       "354366  05/03/2016 19:56   1199  convertible              2000    auto    101   \n",
       "354367  19/03/2016 18:57   9200          bus              1996  manual    102   \n",
       "354368  20/03/2016 19:41   3400        wagon              2002  manual    100   \n",
       "\n",
       "              Model  Mileage  RegistrationMonth  FuelType           Brand  \\\n",
       "0              golf   150000                  0    petrol      volkswagen   \n",
       "1               NaN   125000                  5  gasoline            audi   \n",
       "2             grand   125000                  8  gasoline            jeep   \n",
       "3              golf   150000                  6    petrol      volkswagen   \n",
       "4             fabia    90000                  7  gasoline           skoda   \n",
       "...             ...      ...                ...       ...             ...   \n",
       "354364         colt   150000                  7    petrol      mitsubishi   \n",
       "354365          NaN    20000                  1       NaN  sonstige_autos   \n",
       "354366       fortwo   125000                  3    petrol           smart   \n",
       "354367  transporter   150000                  3  gasoline      volkswagen   \n",
       "354368         golf   150000                  6  gasoline      volkswagen   \n",
       "\n",
       "       NotRepaired       DateCreated  NumberOfPictures  PostalCode  \\\n",
       "0              NaN  24/03/2016 00:00                 0       70435   \n",
       "1              yes  24/03/2016 00:00                 0       66954   \n",
       "2              NaN  14/03/2016 00:00                 0       90480   \n",
       "3               no  17/03/2016 00:00                 0       91074   \n",
       "4               no  31/03/2016 00:00                 0       60437   \n",
       "...            ...               ...               ...         ...   \n",
       "354364         yes  21/03/2016 00:00                 0        2694   \n",
       "354365         NaN  14/03/2016 00:00                 0       39576   \n",
       "354366          no  05/03/2016 00:00                 0       26135   \n",
       "354367          no  19/03/2016 00:00                 0       87439   \n",
       "354368         NaN  20/03/2016 00:00                 0       40764   \n",
       "\n",
       "                LastSeen  \n",
       "0       07/04/2016 03:16  \n",
       "1       07/04/2016 01:46  \n",
       "2       05/04/2016 12:47  \n",
       "3       17/03/2016 17:40  \n",
       "4       06/04/2016 10:17  \n",
       "...                  ...  \n",
       "354364  21/03/2016 10:42  \n",
       "354365  06/04/2016 00:46  \n",
       "354366  11/03/2016 18:17  \n",
       "354367  07/04/2016 07:15  \n",
       "354368  24/03/2016 12:45  \n",
       "\n",
       "[354369 rows x 16 columns]"
      ]
     },
     "metadata": {},
     "output_type": "display_data"
    }
   ],
   "source": [
    "#Load the data\n",
    "df=pd.read_csv('/datasets/car_data.csv')\n",
    "display(df)"
   ]
  },
  {
   "cell_type": "markdown",
   "metadata": {},
   "source": [
    "The data consists of 354369 rows and 16 columns. The columns are\n",
    "- DateCrawled — date profile was downloaded from the database\n",
    "- VehicleType — vehicle body type\n",
    "- RegistrationYear — vehicle registration year\n",
    "- Gearbox — gearbox type\n",
    "- Power — power (hp)\n",
    "- Model — vehicle model\n",
    "- Mileage — mileage (measured in km due to dataset's regional specifics)\n",
    "- RegistrationMonth — vehicle registration month\n",
    "- FuelType — fuel type\n",
    "- Brand — vehicle brand\n",
    "- NotRepaired — vehicle repaired or not\n",
    "- DateCreated — date of profile creation\n",
    "- NumberOfPictures — number of vehicle pictures\n",
    "- PostalCode — postal code of profile owner (user)\n",
    "- LastSeen — date of the last activity of the user\n",
    "- Price — price (Euro)"
   ]
  },
  {
   "cell_type": "code",
   "execution_count": 3,
   "metadata": {},
   "outputs": [],
   "source": [
    "#Convert column names to snake case\n",
    "df.columns = df.columns.str.replace('([a-z])([A-Z])', r'\\1_\\2').str.lower()"
   ]
  },
  {
   "cell_type": "code",
   "execution_count": 4,
   "metadata": {},
   "outputs": [
    {
     "data": {
      "text/plain": [
       "Index(['date_crawled', 'price', 'vehicle_type', 'registration_year', 'gearbox',\n",
       "       'power', 'model', 'mileage', 'registration_month', 'fuel_type', 'brand',\n",
       "       'not_repaired', 'date_created', 'number_of_pictures', 'postal_code',\n",
       "       'last_seen'],\n",
       "      dtype='object')"
      ]
     },
     "execution_count": 4,
     "metadata": {},
     "output_type": "execute_result"
    }
   ],
   "source": [
    "#Check for column names\n",
    "df.columns"
   ]
  },
  {
   "cell_type": "code",
   "execution_count": 5,
   "metadata": {},
   "outputs": [
    {
     "name": "stdout",
     "output_type": "stream",
     "text": [
      "<class 'pandas.core.frame.DataFrame'>\n",
      "RangeIndex: 354369 entries, 0 to 354368\n",
      "Data columns (total 16 columns):\n",
      " #   Column              Non-Null Count   Dtype \n",
      "---  ------              --------------   ----- \n",
      " 0   date_crawled        354369 non-null  object\n",
      " 1   price               354369 non-null  int64 \n",
      " 2   vehicle_type        316879 non-null  object\n",
      " 3   registration_year   354369 non-null  int64 \n",
      " 4   gearbox             334536 non-null  object\n",
      " 5   power               354369 non-null  int64 \n",
      " 6   model               334664 non-null  object\n",
      " 7   mileage             354369 non-null  int64 \n",
      " 8   registration_month  354369 non-null  int64 \n",
      " 9   fuel_type           321474 non-null  object\n",
      " 10  brand               354369 non-null  object\n",
      " 11  not_repaired        283215 non-null  object\n",
      " 12  date_created        354369 non-null  object\n",
      " 13  number_of_pictures  354369 non-null  int64 \n",
      " 14  postal_code         354369 non-null  int64 \n",
      " 15  last_seen           354369 non-null  object\n",
      "dtypes: int64(7), object(9)\n",
      "memory usage: 43.3+ MB\n"
     ]
    }
   ],
   "source": [
    "#Check dtypes\n",
    "df.info()"
   ]
  },
  {
   "cell_type": "markdown",
   "metadata": {},
   "source": [
    "From the above information dates are object type and convert it into datetime type."
   ]
  },
  {
   "cell_type": "code",
   "execution_count": 6,
   "metadata": {},
   "outputs": [],
   "source": [
    "#Convert to datetime type.\n",
    "df['date_crawled'] = pd.to_datetime(df['date_crawled'])\n",
    "df['date_created'] = pd.to_datetime(df['date_created'])\n",
    "df['last_seen'] = pd.to_datetime(df['last_seen'])"
   ]
  },
  {
   "cell_type": "code",
   "execution_count": 7,
   "metadata": {},
   "outputs": [
    {
     "name": "stdout",
     "output_type": "stream",
     "text": [
      "<class 'pandas.core.frame.DataFrame'>\n",
      "RangeIndex: 354369 entries, 0 to 354368\n",
      "Data columns (total 16 columns):\n",
      " #   Column              Non-Null Count   Dtype         \n",
      "---  ------              --------------   -----         \n",
      " 0   date_crawled        354369 non-null  datetime64[ns]\n",
      " 1   price               354369 non-null  int64         \n",
      " 2   vehicle_type        316879 non-null  object        \n",
      " 3   registration_year   354369 non-null  int64         \n",
      " 4   gearbox             334536 non-null  object        \n",
      " 5   power               354369 non-null  int64         \n",
      " 6   model               334664 non-null  object        \n",
      " 7   mileage             354369 non-null  int64         \n",
      " 8   registration_month  354369 non-null  int64         \n",
      " 9   fuel_type           321474 non-null  object        \n",
      " 10  brand               354369 non-null  object        \n",
      " 11  not_repaired        283215 non-null  object        \n",
      " 12  date_created        354369 non-null  datetime64[ns]\n",
      " 13  number_of_pictures  354369 non-null  int64         \n",
      " 14  postal_code         354369 non-null  int64         \n",
      " 15  last_seen           354369 non-null  datetime64[ns]\n",
      "dtypes: datetime64[ns](3), int64(7), object(6)\n",
      "memory usage: 43.3+ MB\n"
     ]
    }
   ],
   "source": [
    "#recheck\n",
    "df.info()"
   ]
  },
  {
   "cell_type": "code",
   "execution_count": 6,
   "metadata": {},
   "outputs": [
    {
     "data": {
      "text/plain": [
       "date_crawled              0\n",
       "price                     0\n",
       "vehicle_type          37490\n",
       "registration_year         0\n",
       "gearbox               19833\n",
       "power                     0\n",
       "model                 19705\n",
       "mileage                   0\n",
       "registration_month        0\n",
       "fuel_type             32895\n",
       "brand                     0\n",
       "not_repaired          71154\n",
       "date_created              0\n",
       "number_of_pictures        0\n",
       "postal_code               0\n",
       "last_seen                 0\n",
       "dtype: int64"
      ]
     },
     "execution_count": 6,
     "metadata": {},
     "output_type": "execute_result"
    }
   ],
   "source": [
    "#Check for missing values\n",
    "df.isnull().sum()"
   ]
  },
  {
   "cell_type": "code",
   "execution_count": 7,
   "metadata": {},
   "outputs": [
    {
     "data": {
      "text/plain": [
       "262"
      ]
     },
     "execution_count": 7,
     "metadata": {},
     "output_type": "execute_result"
    }
   ],
   "source": [
    "#Check for duplicates\n",
    "df.duplicated().sum()"
   ]
  },
  {
   "cell_type": "code",
   "execution_count": 8,
   "metadata": {},
   "outputs": [],
   "source": [
    "#Remove duplicates\n",
    "df=df.drop_duplicates()"
   ]
  },
  {
   "cell_type": "markdown",
   "metadata": {},
   "source": [
    "There are missing values in the columns vehicle type, gearbox, model, fuel type, and notrepaired. In the prediction some columns like date crawled, date created, number of pictures, postal code, lastseen etc are not useful. So we can drop them."
   ]
  },
  {
   "cell_type": "code",
   "execution_count": 9,
   "metadata": {},
   "outputs": [],
   "source": [
    "#Drop the columns that are not useful for prediction\n",
    "df=df.drop(columns=['date_crawled','date_created','number_of_pictures','postal_code','last_seen'])"
   ]
  },
  {
   "cell_type": "code",
   "execution_count": 10,
   "metadata": {},
   "outputs": [
    {
     "data": {
      "text/html": [
       "<div>\n",
       "<style scoped>\n",
       "    .dataframe tbody tr th:only-of-type {\n",
       "        vertical-align: middle;\n",
       "    }\n",
       "\n",
       "    .dataframe tbody tr th {\n",
       "        vertical-align: top;\n",
       "    }\n",
       "\n",
       "    .dataframe thead th {\n",
       "        text-align: right;\n",
       "    }\n",
       "</style>\n",
       "<table border=\"1\" class=\"dataframe\">\n",
       "  <thead>\n",
       "    <tr style=\"text-align: right;\">\n",
       "      <th></th>\n",
       "      <th>price</th>\n",
       "      <th>registration_year</th>\n",
       "      <th>power</th>\n",
       "      <th>mileage</th>\n",
       "      <th>registration_month</th>\n",
       "    </tr>\n",
       "  </thead>\n",
       "  <tbody>\n",
       "    <tr>\n",
       "      <th>count</th>\n",
       "      <td>354107.000000</td>\n",
       "      <td>354107.000000</td>\n",
       "      <td>354107.000000</td>\n",
       "      <td>354107.000000</td>\n",
       "      <td>354107.000000</td>\n",
       "    </tr>\n",
       "    <tr>\n",
       "      <th>mean</th>\n",
       "      <td>4416.433287</td>\n",
       "      <td>2004.235355</td>\n",
       "      <td>110.089651</td>\n",
       "      <td>128211.811684</td>\n",
       "      <td>5.714182</td>\n",
       "    </tr>\n",
       "    <tr>\n",
       "      <th>std</th>\n",
       "      <td>4514.338584</td>\n",
       "      <td>90.261168</td>\n",
       "      <td>189.914972</td>\n",
       "      <td>37906.590101</td>\n",
       "      <td>3.726682</td>\n",
       "    </tr>\n",
       "    <tr>\n",
       "      <th>min</th>\n",
       "      <td>0.000000</td>\n",
       "      <td>1000.000000</td>\n",
       "      <td>0.000000</td>\n",
       "      <td>5000.000000</td>\n",
       "      <td>0.000000</td>\n",
       "    </tr>\n",
       "    <tr>\n",
       "      <th>25%</th>\n",
       "      <td>1050.000000</td>\n",
       "      <td>1999.000000</td>\n",
       "      <td>69.000000</td>\n",
       "      <td>125000.000000</td>\n",
       "      <td>3.000000</td>\n",
       "    </tr>\n",
       "    <tr>\n",
       "      <th>50%</th>\n",
       "      <td>2700.000000</td>\n",
       "      <td>2003.000000</td>\n",
       "      <td>105.000000</td>\n",
       "      <td>150000.000000</td>\n",
       "      <td>6.000000</td>\n",
       "    </tr>\n",
       "    <tr>\n",
       "      <th>75%</th>\n",
       "      <td>6400.000000</td>\n",
       "      <td>2008.000000</td>\n",
       "      <td>143.000000</td>\n",
       "      <td>150000.000000</td>\n",
       "      <td>9.000000</td>\n",
       "    </tr>\n",
       "    <tr>\n",
       "      <th>max</th>\n",
       "      <td>20000.000000</td>\n",
       "      <td>9999.000000</td>\n",
       "      <td>20000.000000</td>\n",
       "      <td>150000.000000</td>\n",
       "      <td>12.000000</td>\n",
       "    </tr>\n",
       "  </tbody>\n",
       "</table>\n",
       "</div>"
      ],
      "text/plain": [
       "               price  registration_year          power        mileage  \\\n",
       "count  354107.000000      354107.000000  354107.000000  354107.000000   \n",
       "mean     4416.433287        2004.235355     110.089651  128211.811684   \n",
       "std      4514.338584          90.261168     189.914972   37906.590101   \n",
       "min         0.000000        1000.000000       0.000000    5000.000000   \n",
       "25%      1050.000000        1999.000000      69.000000  125000.000000   \n",
       "50%      2700.000000        2003.000000     105.000000  150000.000000   \n",
       "75%      6400.000000        2008.000000     143.000000  150000.000000   \n",
       "max     20000.000000        9999.000000   20000.000000  150000.000000   \n",
       "\n",
       "       registration_month  \n",
       "count       354107.000000  \n",
       "mean             5.714182  \n",
       "std              3.726682  \n",
       "min              0.000000  \n",
       "25%              3.000000  \n",
       "50%              6.000000  \n",
       "75%              9.000000  \n",
       "max             12.000000  "
      ]
     },
     "execution_count": 10,
     "metadata": {},
     "output_type": "execute_result"
    }
   ],
   "source": [
    "#Check the minimum, maximum values\n",
    "df.describe()"
   ]
  },
  {
   "cell_type": "markdown",
   "metadata": {},
   "source": [
    "From the above table, we can find the maximum, minimum, mean etc of different columns. From the above the maximum registration year is 9999 may be an error. So remove the outliers in year, price, power etc. Maximum power is 20000 may be an error. A car with hp 20000 is not practically possible. So remove the ouliers and prepare the data for prediction."
   ]
  },
  {
   "cell_type": "code",
   "execution_count": 11,
   "metadata": {},
   "outputs": [],
   "source": [
    "# Handle unreasonable values\n",
    "df = df[(df['price'] > 100) & (df['price'] < 100000)]\n",
    "# Consider data for last 25 years\n",
    "df = df[(df['registration_year'] >= 2000) & (df['registration_year'] <= 2025)]\n",
    "df = df[(df['power'] >= 10) & (df['power'] < 10000)]"
   ]
  },
  {
   "cell_type": "code",
   "execution_count": 12,
   "metadata": {},
   "outputs": [
    {
     "data": {
      "text/html": [
       "<div>\n",
       "<style scoped>\n",
       "    .dataframe tbody tr th:only-of-type {\n",
       "        vertical-align: middle;\n",
       "    }\n",
       "\n",
       "    .dataframe tbody tr th {\n",
       "        vertical-align: top;\n",
       "    }\n",
       "\n",
       "    .dataframe thead th {\n",
       "        text-align: right;\n",
       "    }\n",
       "</style>\n",
       "<table border=\"1\" class=\"dataframe\">\n",
       "  <thead>\n",
       "    <tr style=\"text-align: right;\">\n",
       "      <th></th>\n",
       "      <th>price</th>\n",
       "      <th>vehicle_type</th>\n",
       "      <th>registration_year</th>\n",
       "      <th>gearbox</th>\n",
       "      <th>power</th>\n",
       "      <th>model</th>\n",
       "      <th>mileage</th>\n",
       "      <th>registration_month</th>\n",
       "      <th>fuel_type</th>\n",
       "      <th>brand</th>\n",
       "      <th>not_repaired</th>\n",
       "    </tr>\n",
       "  </thead>\n",
       "  <tbody>\n",
       "    <tr>\n",
       "      <th>1</th>\n",
       "      <td>18300</td>\n",
       "      <td>coupe</td>\n",
       "      <td>2011</td>\n",
       "      <td>manual</td>\n",
       "      <td>190</td>\n",
       "      <td>NaN</td>\n",
       "      <td>125000</td>\n",
       "      <td>5</td>\n",
       "      <td>gasoline</td>\n",
       "      <td>audi</td>\n",
       "      <td>yes</td>\n",
       "    </tr>\n",
       "    <tr>\n",
       "      <th>2</th>\n",
       "      <td>9800</td>\n",
       "      <td>suv</td>\n",
       "      <td>2004</td>\n",
       "      <td>auto</td>\n",
       "      <td>163</td>\n",
       "      <td>grand</td>\n",
       "      <td>125000</td>\n",
       "      <td>8</td>\n",
       "      <td>gasoline</td>\n",
       "      <td>jeep</td>\n",
       "      <td>NaN</td>\n",
       "    </tr>\n",
       "    <tr>\n",
       "      <th>3</th>\n",
       "      <td>1500</td>\n",
       "      <td>small</td>\n",
       "      <td>2001</td>\n",
       "      <td>manual</td>\n",
       "      <td>75</td>\n",
       "      <td>golf</td>\n",
       "      <td>150000</td>\n",
       "      <td>6</td>\n",
       "      <td>petrol</td>\n",
       "      <td>volkswagen</td>\n",
       "      <td>no</td>\n",
       "    </tr>\n",
       "    <tr>\n",
       "      <th>4</th>\n",
       "      <td>3600</td>\n",
       "      <td>small</td>\n",
       "      <td>2008</td>\n",
       "      <td>manual</td>\n",
       "      <td>69</td>\n",
       "      <td>fabia</td>\n",
       "      <td>90000</td>\n",
       "      <td>7</td>\n",
       "      <td>gasoline</td>\n",
       "      <td>skoda</td>\n",
       "      <td>no</td>\n",
       "    </tr>\n",
       "    <tr>\n",
       "      <th>6</th>\n",
       "      <td>2200</td>\n",
       "      <td>convertible</td>\n",
       "      <td>2004</td>\n",
       "      <td>manual</td>\n",
       "      <td>109</td>\n",
       "      <td>2_reihe</td>\n",
       "      <td>150000</td>\n",
       "      <td>8</td>\n",
       "      <td>petrol</td>\n",
       "      <td>peugeot</td>\n",
       "      <td>no</td>\n",
       "    </tr>\n",
       "    <tr>\n",
       "      <th>...</th>\n",
       "      <td>...</td>\n",
       "      <td>...</td>\n",
       "      <td>...</td>\n",
       "      <td>...</td>\n",
       "      <td>...</td>\n",
       "      <td>...</td>\n",
       "      <td>...</td>\n",
       "      <td>...</td>\n",
       "      <td>...</td>\n",
       "      <td>...</td>\n",
       "      <td>...</td>\n",
       "    </tr>\n",
       "    <tr>\n",
       "      <th>354359</th>\n",
       "      <td>7900</td>\n",
       "      <td>sedan</td>\n",
       "      <td>2010</td>\n",
       "      <td>manual</td>\n",
       "      <td>140</td>\n",
       "      <td>golf</td>\n",
       "      <td>150000</td>\n",
       "      <td>7</td>\n",
       "      <td>gasoline</td>\n",
       "      <td>volkswagen</td>\n",
       "      <td>no</td>\n",
       "    </tr>\n",
       "    <tr>\n",
       "      <th>354361</th>\n",
       "      <td>5250</td>\n",
       "      <td>NaN</td>\n",
       "      <td>2016</td>\n",
       "      <td>auto</td>\n",
       "      <td>150</td>\n",
       "      <td>159</td>\n",
       "      <td>150000</td>\n",
       "      <td>12</td>\n",
       "      <td>NaN</td>\n",
       "      <td>alfa_romeo</td>\n",
       "      <td>no</td>\n",
       "    </tr>\n",
       "    <tr>\n",
       "      <th>354362</th>\n",
       "      <td>3200</td>\n",
       "      <td>sedan</td>\n",
       "      <td>2004</td>\n",
       "      <td>manual</td>\n",
       "      <td>225</td>\n",
       "      <td>leon</td>\n",
       "      <td>150000</td>\n",
       "      <td>5</td>\n",
       "      <td>petrol</td>\n",
       "      <td>seat</td>\n",
       "      <td>yes</td>\n",
       "    </tr>\n",
       "    <tr>\n",
       "      <th>354366</th>\n",
       "      <td>1199</td>\n",
       "      <td>convertible</td>\n",
       "      <td>2000</td>\n",
       "      <td>auto</td>\n",
       "      <td>101</td>\n",
       "      <td>fortwo</td>\n",
       "      <td>125000</td>\n",
       "      <td>3</td>\n",
       "      <td>petrol</td>\n",
       "      <td>smart</td>\n",
       "      <td>no</td>\n",
       "    </tr>\n",
       "    <tr>\n",
       "      <th>354368</th>\n",
       "      <td>3400</td>\n",
       "      <td>wagon</td>\n",
       "      <td>2002</td>\n",
       "      <td>manual</td>\n",
       "      <td>100</td>\n",
       "      <td>golf</td>\n",
       "      <td>150000</td>\n",
       "      <td>6</td>\n",
       "      <td>gasoline</td>\n",
       "      <td>volkswagen</td>\n",
       "      <td>NaN</td>\n",
       "    </tr>\n",
       "  </tbody>\n",
       "</table>\n",
       "<p>221883 rows × 11 columns</p>\n",
       "</div>"
      ],
      "text/plain": [
       "        price vehicle_type  registration_year gearbox  power    model  \\\n",
       "1       18300        coupe               2011  manual    190      NaN   \n",
       "2        9800          suv               2004    auto    163    grand   \n",
       "3        1500        small               2001  manual     75     golf   \n",
       "4        3600        small               2008  manual     69    fabia   \n",
       "6        2200  convertible               2004  manual    109  2_reihe   \n",
       "...       ...          ...                ...     ...    ...      ...   \n",
       "354359   7900        sedan               2010  manual    140     golf   \n",
       "354361   5250          NaN               2016    auto    150      159   \n",
       "354362   3200        sedan               2004  manual    225     leon   \n",
       "354366   1199  convertible               2000    auto    101   fortwo   \n",
       "354368   3400        wagon               2002  manual    100     golf   \n",
       "\n",
       "        mileage  registration_month fuel_type       brand not_repaired  \n",
       "1        125000                   5  gasoline        audi          yes  \n",
       "2        125000                   8  gasoline        jeep          NaN  \n",
       "3        150000                   6    petrol  volkswagen           no  \n",
       "4         90000                   7  gasoline       skoda           no  \n",
       "6        150000                   8    petrol     peugeot           no  \n",
       "...         ...                 ...       ...         ...          ...  \n",
       "354359   150000                   7  gasoline  volkswagen           no  \n",
       "354361   150000                  12       NaN  alfa_romeo           no  \n",
       "354362   150000                   5    petrol        seat          yes  \n",
       "354366   125000                   3    petrol       smart           no  \n",
       "354368   150000                   6  gasoline  volkswagen          NaN  \n",
       "\n",
       "[221883 rows x 11 columns]"
      ]
     },
     "execution_count": 12,
     "metadata": {},
     "output_type": "execute_result"
    }
   ],
   "source": [
    "df"
   ]
  },
  {
   "cell_type": "code",
   "execution_count": 12,
   "metadata": {},
   "outputs": [
    {
     "data": {
      "text/plain": [
       "price                     0\n",
       "vehicle_type          19689\n",
       "registration_year         0\n",
       "gearbox                4237\n",
       "power                     0\n",
       "model                  7465\n",
       "mileage                   0\n",
       "registration_month        0\n",
       "fuel_type             13714\n",
       "brand                     0\n",
       "not_repaired          29541\n",
       "dtype: int64"
      ]
     },
     "execution_count": 12,
     "metadata": {},
     "output_type": "execute_result"
    }
   ],
   "source": [
    "#Check for missing values\n",
    "df.isnull().sum()"
   ]
  },
  {
   "cell_type": "code",
   "execution_count": 13,
   "metadata": {},
   "outputs": [],
   "source": [
    "# Fill missing values\n",
    "df['vehicle_type'].fillna('missing', inplace=True)\n",
    "df['gearbox'].fillna('missing', inplace=True)\n",
    "df['model'].fillna('missing', inplace=True)\n",
    "df['fuel_type'].fillna('missing', inplace=True)\n",
    "df['not_repaired'].fillna('missing', inplace=True)"
   ]
  },
  {
   "cell_type": "code",
   "execution_count": 14,
   "metadata": {},
   "outputs": [
    {
     "data": {
      "text/plain": [
       "price                 0\n",
       "vehicle_type          0\n",
       "registration_year     0\n",
       "gearbox               0\n",
       "power                 0\n",
       "model                 0\n",
       "mileage               0\n",
       "registration_month    0\n",
       "fuel_type             0\n",
       "brand                 0\n",
       "not_repaired          0\n",
       "dtype: int64"
      ]
     },
     "execution_count": 14,
     "metadata": {},
     "output_type": "execute_result"
    }
   ],
   "source": [
    "#Recheck for missing values\n",
    "df.isnull().sum()"
   ]
  },
  {
   "cell_type": "code",
   "execution_count": 16,
   "metadata": {},
   "outputs": [
    {
     "data": {
      "image/png": "[encoded data removed]",
      "text/plain": [
       "<Figure size 1200x1000 with 6 Axes>"
      ]
     },
     "metadata": {},
     "output_type": "display_data"
    }
   ],
   "source": [
    "# Histogram to show the distribution of numerical features\n",
    "df.hist(figsize=(12,10),bins=30)\n",
    "plt.show()"
   ]
  },
  {
   "cell_type": "code",
   "execution_count": 17,
   "metadata": {},
   "outputs": [
    {
     "data": {
      "image/png": "[encoded data removed]",
      "text/plain": [
       "<Figure size 1200x1000 with 2 Axes>"
      ]
     },
     "metadata": {},
     "output_type": "display_data"
    }
   ],
   "source": [
    "#Corelation heatmap displays corelation between quantitative features:\n",
    "plt.figure(figsize=(12,10))\n",
    "sns.heatmap(df.corr(), annot=True, fmt=\".2f\", cmap='coolwarm')\n",
    "plt.show()"
   ]
  },
  {
   "cell_type": "code",
   "execution_count": 18,
   "metadata": {},
   "outputs": [
    {
     "data": {
      "image/png": "[encoded data removed]",
      "text/plain": [
       "<Figure size 1200x1200 with 30 Axes>"
      ]
     },
     "metadata": {},
     "output_type": "display_data"
    }
   ],
   "source": [
    "g = sns.pairplot(df, kind='hist')\n",
    "g.fig.set_size_inches(12, 12)"
   ]
  },
  {
   "cell_type": "markdown",
   "metadata": {},
   "source": [
    "The above plot shows the relation between different numerical features."
   ]
  },
  {
   "cell_type": "markdown",
   "metadata": {},
   "source": [
    "## Model training"
   ]
  },
  {
   "cell_type": "code",
   "execution_count": 19,
   "metadata": {},
   "outputs": [],
   "source": [
    "#Find the car age \n",
    "df['car_age'] =2025 -df['registration_year']"
   ]
  },
  {
   "cell_type": "code",
   "execution_count": 20,
   "metadata": {},
   "outputs": [],
   "source": [
    "#Features and target\n",
    "features=df.drop(columns=['price', 'registration_year','registration_month'])\n",
    "target =df['price']"
   ]
  },
  {
   "cell_type": "code",
   "execution_count": 21,
   "metadata": {},
   "outputs": [],
   "source": [
    "#Numerical and categorical features\n",
    "numerical =['power', 'mileage','car_age']\n",
    "categorical = ['vehicle_type', 'gearbox', 'model','fuel_type', 'brand', 'not_repaired']"
   ]
  },
  {
   "cell_type": "code",
   "execution_count": 22,
   "metadata": {},
   "outputs": [],
   "source": [
    "#Split the data \n",
    "X_train, X_valid, y_train, y_valid = train_test_split(features, target, test_size=0.25, random_state=42)"
   ]
  },
  {
   "cell_type": "markdown",
   "metadata": {},
   "source": [
    "Column Transformer is handy for the case of datasets that contain heterogeneous data types, since we may want to scale the numeric features and one-hot encode the categorical ones.\n",
    "In this example, the numeric data is standard-scaled after mean-imputation. The categorical data is one-hot encoded via OneHotEncoder, which creates a new category for missing values."
   ]
  },
  {
   "cell_type": "code",
   "execution_count": 23,
   "metadata": {},
   "outputs": [],
   "source": [
    "# Preprocessing pipeline\n",
    "preprocessor = ColumnTransformer([\n",
    "    ('num', StandardScaler(), numerical),\n",
    "    ('cat', OneHotEncoder(handle_unknown='ignore'), categorical)\n",
    "])\n"
   ]
  },
  {
   "cell_type": "code",
   "execution_count": 32,
   "metadata": {},
   "outputs": [
    {
     "name": "stdout",
     "output_type": "stream",
     "text": [
      "Linear Regression RMSE: 2535.45\n",
      "Training time: 7.0466s\n",
      "Prediction time: 0.2082s\n"
     ]
    }
   ],
   "source": [
    "#Linear regression(Sanity check)\n",
    "# Define pipeline\n",
    "lr_pipeline = Pipeline([\n",
    "    ('preprocessor', preprocessor),\n",
    "    ('model', LinearRegression())\n",
    "])\n",
    "\n",
    "# Train \n",
    "start_time = time.time()\n",
    "lr_pipeline.fit(X_train, y_train)\n",
    "lr_train_time = time.time() - start_time\n",
    "# Evaluate\n",
    "start_time = time.time()\n",
    "preds = lr_pipeline.predict(X_valid)\n",
    "lr_predict_time = time.time() - start_time\n",
    "\n",
    "rmse = mean_squared_error(y_valid, preds, squared=False)\n",
    "print(f\"Linear Regression RMSE: {rmse:.2f}\")\n",
    "print(f\"Training time: {lr_train_time:.4f}s\")\n",
    "print(f\"Prediction time: {lr_predict_time:.4f}s\")"
   ]
  },
  {
   "cell_type": "markdown",
   "metadata": {},
   "source": [
    "The Root Mean Squared Error (RMSE) is one of the two main performance indicators for a regression model. It measures the average difference between values predicted by a model and the actual values. It provides an estimation of how well the model is able to predict the target value (accuracy). The lower the value of the Root Mean Squared Error, the better the model is. The RMSE of the above model is 2533.64. The time required for training is 7.0466s and time for prediction is 0.2082s."
   ]
  },
  {
   "cell_type": "code",
   "execution_count": 33,
   "metadata": {},
   "outputs": [
    {
     "name": "stdout",
     "output_type": "stream",
     "text": [
      "Fitting 3 folds for each of 9 candidates, totalling 27 fits\n",
      "[CV] END .....model__max_depth=5, model__min_samples_split=2; total time=   0.4s\n",
      "[CV] END .....model__max_depth=5, model__min_samples_split=2; total time=   0.4s\n",
      "[CV] END .....model__max_depth=5, model__min_samples_split=2; total time=   0.4s\n",
      "[CV] END .....model__max_depth=5, model__min_samples_split=5; total time=   0.4s\n",
      "[CV] END .....model__max_depth=5, model__min_samples_split=5; total time=   0.4s\n",
      "[CV] END .....model__max_depth=5, model__min_samples_split=5; total time=   0.4s\n",
      "[CV] END ....model__max_depth=5, model__min_samples_split=10; total time=   0.4s\n",
      "[CV] END ....model__max_depth=5, model__min_samples_split=10; total time=   0.4s\n",
      "[CV] END ....model__max_depth=5, model__min_samples_split=10; total time=   0.4s\n",
      "[CV] END ....model__max_depth=10, model__min_samples_split=2; total time=   1.4s\n",
      "[CV] END ....model__max_depth=10, model__min_samples_split=2; total time=   1.4s\n",
      "[CV] END ....model__max_depth=10, model__min_samples_split=2; total time=   1.4s\n",
      "[CV] END ....model__max_depth=10, model__min_samples_split=5; total time=   1.3s\n",
      "[CV] END ....model__max_depth=10, model__min_samples_split=5; total time=   1.4s\n",
      "[CV] END ....model__max_depth=10, model__min_samples_split=5; total time=   1.4s\n",
      "[CV] END ...model__max_depth=10, model__min_samples_split=10; total time=   1.3s\n",
      "[CV] END ...model__max_depth=10, model__min_samples_split=10; total time=   1.4s\n",
      "[CV] END ...model__max_depth=10, model__min_samples_split=10; total time=   1.4s\n",
      "[CV] END ....model__max_depth=20, model__min_samples_split=2; total time=   6.5s\n",
      "[CV] END ....model__max_depth=20, model__min_samples_split=2; total time=   6.5s\n",
      "[CV] END ....model__max_depth=20, model__min_samples_split=2; total time=   6.6s\n",
      "[CV] END ....model__max_depth=20, model__min_samples_split=5; total time=   4.9s\n",
      "[CV] END ....model__max_depth=20, model__min_samples_split=5; total time=   5.1s\n",
      "[CV] END ....model__max_depth=20, model__min_samples_split=5; total time=   5.0s\n",
      "[CV] END ...model__max_depth=20, model__min_samples_split=10; total time=   4.5s\n",
      "[CV] END ...model__max_depth=20, model__min_samples_split=10; total time=   4.5s\n",
      "[CV] END ...model__max_depth=20, model__min_samples_split=10; total time=   4.5s\n",
      "Decision Tree RMSE: 1847.72\n",
      "Training time: 7.2570s\n",
      "Prediction time: 0.0633s\n"
     ]
    }
   ],
   "source": [
    "#Decision Tree Regressor\n",
    "# Define pipeline\n",
    "dt_pipeline = Pipeline([\n",
    "    ('preprocessor', preprocessor),\n",
    "    ('model', DecisionTreeRegressor(random_state=42))\n",
    "])\n",
    "\n",
    "# Set up grid for basic tuning\n",
    "dt_params = {\n",
    "    'model__max_depth': [5, 10, 20],\n",
    "    'model__min_samples_split': [2, 5, 10]\n",
    "}\n",
    "\n",
    "# Grid Search with 3-fold CV\n",
    "grid_dt = GridSearchCV(dt_pipeline, dt_params, cv=3,\n",
    "                       scoring='neg_root_mean_squared_error',\n",
    "                       n_jobs=-1, verbose=2)\n",
    "grid_dt.fit(X_train, y_train)\n",
    "#Get the best model\n",
    "best_model = grid_dt.best_estimator_\n",
    "#Train the best model\n",
    "start_time = time.time()\n",
    "best_model.fit(X_train, y_train)\n",
    "dt_train_time = time.time() - start_time\n",
    "# Evaluate\n",
    "start_time = time.time()\n",
    "dt_preds = best_model.predict(X_valid)\n",
    "dt_predict_time =  time.time() - start_time\n",
    "dt_rmse = mean_squared_error(y_valid, dt_preds, squared=False)\n",
    "print(f\"Decision Tree RMSE: {dt_rmse:.2f}\")\n",
    "print(f\"Training time: {dt_train_time:.4f}s\")\n",
    "print(f\"Prediction time: {dt_predict_time:.4f}s\")"
   ]
  },
  {
   "cell_type": "markdown",
   "metadata": {},
   "source": [
    "The RMSE of the Decision Tree regressor model is 1847.72. The time required for training is 7.2325s and time for prediction is  0.0633s."
   ]
  },
  {
   "cell_type": "code",
   "execution_count": 31,
   "metadata": {},
   "outputs": [
    {
     "name": "stdout",
     "output_type": "stream",
     "text": [
      "Fitting 3 folds for each of 2 candidates, totalling 6 fits\n",
      "[CV] END ........model__max_depth=10, model__n_estimators=50; total time=  58.0s\n",
      "[CV] END ........model__max_depth=10, model__n_estimators=50; total time=  58.0s\n",
      "[CV] END ........model__max_depth=10, model__n_estimators=50; total time=  57.7s\n",
      "[CV] END ........model__max_depth=20, model__n_estimators=50; total time= 4.3min\n",
      "[CV] END ........model__max_depth=20, model__n_estimators=50; total time= 4.3min\n",
      "[CV] END ........model__max_depth=20, model__n_estimators=50; total time= 4.3min\n",
      "Random Forest RMSE: 1648.28\n",
      "Training time: 427.0709s\n",
      "Prediction time: 0.5051s\n"
     ]
    }
   ],
   "source": [
    "# For Random Forest Regressor\n",
    "# Define pipeline\n",
    "rf_pipeline = Pipeline([\n",
    "    ('preprocessor', preprocessor),\n",
    "    ('model', RandomForestRegressor(random_state=42, n_jobs=-1))\n",
    "])\n",
    "\n",
    "# Set up grid for basic tuning\n",
    "rf_params = {\n",
    "    'model__n_estimators': [50],\n",
    "    'model__max_depth': [10, 20]\n",
    "}\n",
    "\n",
    "# Grid Search with 3-fold CV\n",
    "grid_rf = GridSearchCV(rf_pipeline, rf_params, cv=3, scoring='neg_root_mean_squared_error', n_jobs=-1, verbose=2)\n",
    "grid_rf.fit(X_train, y_train)\n",
    "#Get the best model\n",
    "best_model = grid_rf.best_estimator_\n",
    "#Train the best model\n",
    "start_time = time.time()\n",
    "best_model.fit(X_train, y_train)\n",
    "training_time = time.time() - start_time\n",
    "# Best model evaluation\n",
    "start_time = time.time()\n",
    "rf_preds = best_model.predict(X_valid)\n",
    "predict_time_rf =  time.time() - start_time\n",
    "rf_rmse = mean_squared_error(y_valid, rf_preds, squared=False)\n",
    "print(f\"Random Forest RMSE: {rf_rmse:.2f}\")\n",
    "print(f\"Training time: {training_time:.4f}s\")\n",
    "print(f\"Prediction time: {predict_time_rf:.4f}s\")"
   ]
  },
  {
   "cell_type": "markdown",
   "metadata": {},
   "source": [
    "The RMSE of the Random Forest Regressor model is 1648.28. The time required for training is 427.0709s and time for prediction is 0.5051s."
   ]
  },
  {
   "cell_type": "code",
   "execution_count": 34,
   "metadata": {},
   "outputs": [
    {
     "name": "stderr",
     "output_type": "stream",
     "text": [
      "/opt/conda/envs/python3/lib/python3.9/site-packages/lightgbm/basic.py:2065: UserWarning: Using categorical_feature in Dataset.\n",
      "  _log_warning('Using categorical_feature in Dataset.')\n"
     ]
    },
    {
     "name": "stdout",
     "output_type": "stream",
     "text": [
      "LightGBM RMSE: 1660.89\n",
      "Training time: 2.1265s\n",
      "Prediction time: 0.3227s\n"
     ]
    }
   ],
   "source": [
    "#LightGBM model\n",
    "# Prepare categorical indices for LightGBM\n",
    "cat_features_lgb = [features.columns.get_loc(col) for col in categorical]\n",
    "\n",
    "# Prepare LightGBM Dataset\n",
    "X_train_lgb = X_train.copy()\n",
    "X_valid_lgb = X_valid.copy()\n",
    "\n",
    "# Convert string categories to \"category\" dtype for LightGBM\n",
    "for col in categorical:\n",
    "    X_train_lgb[col] = X_train_lgb[col].astype('category')\n",
    "    X_valid_lgb[col] = X_valid_lgb[col].astype('category')\n",
    "\n",
    "# Train LightGBM model\n",
    "lgb_model = lgb.LGBMRegressor(\n",
    "    learning_rate=0.1,\n",
    "    n_estimators=100,\n",
    "    max_depth=10,\n",
    "    random_state=42\n",
    ")\n",
    "\n",
    "start_time = time.time()\n",
    "lgb_model.fit(X_train_lgb, y_train, categorical_feature=categorical)\n",
    "lgb_train_time = time.time() - start_time\n",
    "# Predict and evaluate\n",
    "start_time = time.time()\n",
    "lgb_preds = lgb_model.predict(X_valid_lgb)\n",
    "lgb_predict_time = time.time() - start_time\n",
    "lgb_rmse = mean_squared_error(y_valid, lgb_preds, squared=False)\n",
    "print(f\"LightGBM RMSE: {lgb_rmse:.2f}\")\n",
    "print(f\"Training time: {lgb_train_time:.4f}s\")\n",
    "print(f\"Prediction time: {lgb_predict_time:.4f}s\")"
   ]
  },
  {
   "cell_type": "markdown",
   "metadata": {},
   "source": [
    "The RMSE of the LightGBM model is 1648.60. The time required for training is 2.1265s and time for prediction is 0.3227s."
   ]
  },
  {
   "cell_type": "code",
   "execution_count": 36,
   "metadata": {},
   "outputs": [
    {
     "name": "stdout",
     "output_type": "stream",
     "text": [
      "CatBoost RMSE: 1807.16\n",
      "Training time: 5.6607s\n",
      "Prediction time: 0.0384s\n"
     ]
    }
   ],
   "source": [
    "#Cat Boost regressor\n",
    "# Convert categorical columns to string (if needed)\n",
    "X_train_cb = X_train.copy()\n",
    "X_valid_cb = X_valid.copy()\n",
    "\n",
    "for col in categorical:\n",
    "    X_train_cb[col] = X_train_cb[col].astype(str)\n",
    "    X_valid_cb[col] = X_valid_cb[col].astype(str)\n",
    "\n",
    "# Initialize and train CatBoost\n",
    "cb_model = CatBoostRegressor(\n",
    "    iterations=100,\n",
    "    depth=6,\n",
    "    learning_rate=0.1,\n",
    "    loss_function='RMSE',\n",
    "    cat_features=categorical,\n",
    "    verbose=0,\n",
    "    random_seed=42\n",
    ")\n",
    "\n",
    "# Train\n",
    "start_time = time.time()\n",
    "cb_model.fit(X_train_cb, y_train)\n",
    "cb_train_time = time.time() - start_time\n",
    "# Predict and evaluate\n",
    "start_time = time.time()\n",
    "cb_preds = cb_model.predict(X_valid_cb)\n",
    "cb_predict_time=time.time() - start_time\n",
    "cb_rmse = mean_squared_error(y_valid, cb_preds, squared=False)\n",
    "print(f\"CatBoost RMSE: {cb_rmse:.2f}\")\n",
    "print(f\"Training time: {cb_train_time:.4f}s\")\n",
    "print(f\"Prediction time: {cb_predict_time:.4f}s\")"
   ]
  },
  {
   "cell_type": "markdown",
   "metadata": {},
   "source": [
    "The RMSE of the CatBoost regressor model is 1807.16. The time required for training is 5.6607s and time for prediction is 0.0384s"
   ]
  },
  {
   "cell_type": "code",
   "execution_count": 37,
   "metadata": {},
   "outputs": [
    {
     "name": "stdout",
     "output_type": "stream",
     "text": [
      "XGBoost RMSE: 1754.25\n",
      "Training time: 15.7943s\n",
      "Prediction time: 0.3633s\n"
     ]
    }
   ],
   "source": [
    "#XGB regressor\n",
    "# Build a pipeline for XGBoost\n",
    "xgb_pipeline = Pipeline([\n",
    "    ('preprocessor', preprocessor),\n",
    "    ('model', xgb.XGBRegressor(\n",
    "        n_estimators=100,\n",
    "        max_depth=6,\n",
    "        learning_rate=0.1,\n",
    "        objective='reg:squarederror',\n",
    "        n_jobs=-1,\n",
    "        random_state=42\n",
    "    ))\n",
    "])\n",
    "\n",
    "# Train\n",
    "start_time = time.time()\n",
    "xgb_pipeline.fit(X_train, y_train)\n",
    "xgb_train_time = time.time() - start_time\n",
    "# Predict and evaluate\n",
    "start_time = time.time()\n",
    "xgb_preds = xgb_pipeline.predict(X_valid)\n",
    "xgb_predict_time=time.time() - start_time\n",
    "xgb_rmse = mean_squared_error(y_valid, xgb_preds, squared=False)\n",
    "print(f\"XGBoost RMSE: {xgb_rmse:.2f}\")\n",
    "print(f\"Training time: {xgb_train_time:.4f}s\")\n",
    "print(f\"Prediction time: {xgb_predict_time:.4f}s\")"
   ]
  },
  {
   "cell_type": "markdown",
   "metadata": {},
   "source": [
    "The RMSE of the XGB regressor model is 1754.25 The time required for training is 15.7943s and time for prediction is 0.3633."
   ]
  },
  {
   "cell_type": "markdown",
   "metadata": {},
   "source": [
    "## Model analysis"
   ]
  },
  {
   "cell_type": "code",
   "execution_count": 38,
   "metadata": {},
   "outputs": [
    {
     "name": "stdout",
     "output_type": "stream",
     "text": [
      "               Model         RMSE  Training Time  Prediction Time\n",
      "2      Random Forest  1648.280230     427.070927         0.505127\n",
      "3           LightGBM  1660.890951       2.126513         0.322693\n",
      "5            XGBoost  1754.249303      15.794274         0.363253\n",
      "4           CatBoost  1807.156853       5.660737         0.038441\n",
      "1      Decision Tree  1847.721846       7.256966         0.063311\n",
      "0  Linear Regression  2535.453683       7.046596         0.208215\n"
     ]
    }
   ],
   "source": [
    "results = pd.DataFrame({\n",
    "    'Model': ['Linear Regression', 'Decision Tree', 'Random Forest', 'LightGBM', 'CatBoost', 'XGBoost'],\n",
    "    'RMSE': [rmse, dt_rmse, rf_rmse, lgb_rmse, cb_rmse, xgb_rmse],\n",
    "    'Training Time':[lr_train_time, dt_train_time, training_time, lgb_train_time, cb_train_time, xgb_train_time],\n",
    "    'Prediction Time':[lr_predict_time, dt_predict_time, predict_time_rf, lgb_predict_time, cb_predict_time, xgb_predict_time]\n",
    "} )\n",
    "print(results.sort_values(by='RMSE'))"
   ]
  },
  {
   "cell_type": "markdown",
   "metadata": {},
   "source": [
    "From the above different model RMSE Random Forest is better model for car prediction. But its training time is too long. LightGBM predicts faster than RandomForest Regressor."
   ]
  },
  {
   "cell_type": "markdown",
   "metadata": {},
   "source": [
    "## Conclusion:\n",
    "\n",
    "Rusty Bargain used car sales service is developing an app to attract new customers. In that app, we can quickly find out the market value of your car. We have access to historical data: technical specifications, trim versions, and prices.We need to build the model to determine the value. \n",
    "Rusty Bargain is interested in:\n",
    "* the quality of the prediction\n",
    "* the speed of the prediction\n",
    "* the time required for training\n",
    "This project is divided into 3 parts. The three steps are\n",
    "- Data preparation\n",
    "- Model training\n",
    "- Model analysis\n",
    "\n",
    "In the first stage, import the libraries and load the data. Check the data types, missing values and duplicates. Remove the outliers from the data. Conduct some exploratory analysis in the data.\n",
    "\n",
    "\n",
    "Second stage consists of model traiing. Compare different models and find the RMSE, time for training and speed of prediction. The obtained outputs for different models are \n",
    "\n",
    "- Linear Regression RMSE: 2535.453683\n",
    "- Random Forest RMSE: 1648.280230\n",
    "- Decision Tree RMSE: 1847.721846\n",
    "- LightGBM RMSE: 1660.890951\n",
    "- CatBoost RMSE: 1807.156853\n",
    "- XGBoost RMSE: 1754.249303\n",
    "   \n",
    "The time for training and prediction are:\n",
    "- Linear Regression : The time required for training is 7.046596   and time for prediction is 0.505127s\n",
    "- Decision Tree : The time required for training is  7.256966  and time for prediction is 63.3ms.\n",
    "- Random Forest : The time required for training is 21min 27s and time for prediction is 0.505127s.\n",
    "- LightGBM : The time required for training is 2.1265s and time for prediction is 0.3227s.\n",
    "- CatBoost : The time required for training is  5.660737  and time for prediction is 0.038441\n",
    "- XGBoost : The time required for training is 15.7943s and time for prediction is 0.3633.\n",
    "\n",
    "In the third stage choose the better model. From the above models, RandomForest can be used for model prediction. But its training time is too long. LightGBM can be used to predict in a faster rate."
   ]
  },
  {
   "cell_type": "markdown",
   "metadata": {},
   "source": [
    "# Checklist"
   ]
  },
  {
   "cell_type": "markdown",
   "metadata": {},
   "source": [
    "Type 'x' to check. Then press Shift+Enter."
   ]
  },
  {
   "cell_type": "code",
   "execution_count": null,
   "metadata": {},
   "outputs": [],
   "source": []
  }
 ],
 "metadata": {
  "ExecuteTimeLog": [
   {
    "duration": 290,
    "start_time": "2025-05-01T15:10:54.167Z"
   },
   {
    "duration": 451,
    "start_time": "2025-05-01T15:12:02.990Z"
   },
   {
    "duration": 288,
    "start_time": "2025-05-01T15:57:10.324Z"
   },
   {
    "duration": 472,
    "start_time": "2025-05-01T15:57:10.846Z"
   },
   {
    "duration": 4,
    "start_time": "2025-05-01T15:57:18.491Z"
   },
   {
    "duration": 11,
    "start_time": "2025-05-01T15:57:30.196Z"
   },
   {
    "duration": 4,
    "start_time": "2025-05-01T15:57:46.513Z"
   },
   {
    "duration": 95,
    "start_time": "2025-05-01T15:59:21.458Z"
   },
   {
    "duration": 18436,
    "start_time": "2025-05-01T16:01:26.153Z"
   },
   {
    "duration": 585,
    "start_time": "2025-05-01T16:03:37.492Z"
   },
   {
    "duration": 17993,
    "start_time": "2025-05-01T16:03:48.240Z"
   },
   {
    "duration": 308,
    "start_time": "2025-05-02T15:30:21.826Z"
   },
   {
    "duration": 467,
    "start_time": "2025-05-02T15:30:22.508Z"
   },
   {
    "duration": 4,
    "start_time": "2025-05-02T15:30:24.163Z"
   },
   {
    "duration": 3,
    "start_time": "2025-05-02T15:30:25.009Z"
   },
   {
    "duration": 92,
    "start_time": "2025-05-02T15:30:27.711Z"
   },
   {
    "duration": 36482,
    "start_time": "2025-05-02T15:30:28.469Z"
   },
   {
    "duration": 65,
    "start_time": "2025-05-02T15:31:04.953Z"
   },
   {
    "duration": 2648,
    "start_time": "2025-05-02T15:38:03.713Z"
   },
   {
    "duration": 63,
    "start_time": "2025-05-02T15:38:54.949Z"
   },
   {
    "duration": 23,
    "start_time": "2025-05-02T15:40:52.769Z"
   },
   {
    "duration": 4,
    "start_time": "2025-05-02T15:50:26.738Z"
   },
   {
    "duration": 5,
    "start_time": "2025-05-02T15:50:34.755Z"
   },
   {
    "duration": 4,
    "start_time": "2025-05-02T15:51:01.981Z"
   },
   {
    "duration": 5,
    "start_time": "2025-05-02T15:51:12.136Z"
   },
   {
    "duration": 138,
    "start_time": "2025-05-02T15:51:26.076Z"
   },
   {
    "duration": 7,
    "start_time": "2025-05-02T15:51:33.294Z"
   },
   {
    "duration": 5,
    "start_time": "2025-05-02T16:04:32.166Z"
   },
   {
    "duration": 3,
    "start_time": "2025-05-02T16:04:42.402Z"
   },
   {
    "duration": 36,
    "start_time": "2025-05-02T16:05:10.656Z"
   },
   {
    "duration": 26,
    "start_time": "2025-05-02T16:05:38.268Z"
   },
   {
    "duration": 190,
    "start_time": "2025-05-02T16:06:15.683Z"
   },
   {
    "duration": 128,
    "start_time": "2025-05-02T16:09:36.036Z"
   },
   {
    "duration": 11,
    "start_time": "2025-05-02T16:09:58.072Z"
   },
   {
    "duration": 4,
    "start_time": "2025-05-02T16:10:27.999Z"
   },
   {
    "duration": 5,
    "start_time": "2025-05-02T16:10:43.835Z"
   },
   {
    "duration": 4,
    "start_time": "2025-05-02T16:12:55.228Z"
   },
   {
    "duration": 4,
    "start_time": "2025-05-02T16:14:12.477Z"
   },
   {
    "duration": 4,
    "start_time": "2025-05-02T16:15:26.822Z"
   },
   {
    "duration": 4,
    "start_time": "2025-05-02T16:15:44.801Z"
   },
   {
    "duration": 4,
    "start_time": "2025-05-02T16:15:51.703Z"
   },
   {
    "duration": 31,
    "start_time": "2025-05-02T16:16:00.944Z"
   },
   {
    "duration": 14,
    "start_time": "2025-05-02T16:16:08.064Z"
   },
   {
    "duration": 43,
    "start_time": "2025-05-02T16:17:03.046Z"
   },
   {
    "duration": 41,
    "start_time": "2025-05-02T16:18:28.924Z"
   },
   {
    "duration": 44,
    "start_time": "2025-05-02T16:18:36.293Z"
   },
   {
    "duration": 4,
    "start_time": "2025-05-02T16:26:41.310Z"
   },
   {
    "duration": 9,
    "start_time": "2025-05-02T16:26:42.012Z"
   },
   {
    "duration": 3,
    "start_time": "2025-05-02T16:26:42.641Z"
   },
   {
    "duration": 49,
    "start_time": "2025-05-02T16:26:43.306Z"
   },
   {
    "duration": 8757,
    "start_time": "2025-05-02T16:26:44.012Z"
   },
   {
    "duration": 21,
    "start_time": "2025-05-02T16:27:31.596Z"
   },
   {
    "duration": 1200,
    "start_time": "2025-05-02T16:41:05.045Z"
   },
   {
    "duration": 442,
    "start_time": "2025-05-02T16:41:06.247Z"
   },
   {
    "duration": 3,
    "start_time": "2025-05-02T16:41:06.691Z"
   },
   {
    "duration": 6,
    "start_time": "2025-05-02T16:41:06.697Z"
   },
   {
    "duration": 92,
    "start_time": "2025-05-02T16:41:07.422Z"
   },
   {
    "duration": 1146,
    "start_time": "2025-05-02T16:41:46.351Z"
   },
   {
    "duration": 422,
    "start_time": "2025-05-02T16:41:47.500Z"
   },
   {
    "duration": 9,
    "start_time": "2025-05-02T16:41:47.923Z"
   },
   {
    "duration": 4,
    "start_time": "2025-05-02T16:41:47.984Z"
   },
   {
    "duration": 96,
    "start_time": "2025-05-02T16:41:48.836Z"
   },
   {
    "duration": 96,
    "start_time": "2025-05-02T16:41:52.696Z"
   },
   {
    "duration": 90,
    "start_time": "2025-05-02T16:41:53.330Z"
   },
   {
    "duration": 27,
    "start_time": "2025-05-02T16:41:54.082Z"
   },
   {
    "duration": 7,
    "start_time": "2025-05-02T16:41:58.059Z"
   },
   {
    "duration": 4,
    "start_time": "2025-05-02T16:41:58.362Z"
   },
   {
    "duration": 5,
    "start_time": "2025-05-02T16:41:58.623Z"
   },
   {
    "duration": 230,
    "start_time": "2025-05-02T16:41:58.875Z"
   },
   {
    "duration": 47,
    "start_time": "2025-05-02T16:41:59.117Z"
   },
   {
    "duration": 16,
    "start_time": "2025-05-02T16:41:59.928Z"
   },
   {
    "duration": 42,
    "start_time": "2025-05-02T16:42:00.858Z"
   },
   {
    "duration": 40,
    "start_time": "2025-05-02T16:42:05.881Z"
   },
   {
    "duration": 43,
    "start_time": "2025-05-02T16:42:06.285Z"
   },
   {
    "duration": 4,
    "start_time": "2025-05-02T16:42:09.484Z"
   },
   {
    "duration": 11,
    "start_time": "2025-05-02T16:42:09.912Z"
   },
   {
    "duration": 3,
    "start_time": "2025-05-02T16:42:10.431Z"
   },
   {
    "duration": 49,
    "start_time": "2025-05-02T16:42:11.322Z"
   },
   {
    "duration": 8606,
    "start_time": "2025-05-02T16:42:12.725Z"
   },
   {
    "duration": 2897,
    "start_time": "2025-05-02T16:42:21.334Z"
   },
   {
    "duration": 6887,
    "start_time": "2025-05-02T16:42:24.233Z"
   },
   {
    "duration": 18987,
    "start_time": "2025-05-02T16:42:50.154Z"
   },
   {
    "duration": 2688,
    "start_time": "2025-05-05T15:33:03.771Z"
   },
   {
    "duration": 461,
    "start_time": "2025-05-05T15:33:06.461Z"
   },
   {
    "duration": 3,
    "start_time": "2025-05-05T15:33:08.178Z"
   },
   {
    "duration": 4,
    "start_time": "2025-05-05T15:33:08.847Z"
   },
   {
    "duration": 90,
    "start_time": "2025-05-05T15:33:09.421Z"
   },
   {
    "duration": 35556,
    "start_time": "2025-05-05T15:33:10.001Z"
   },
   {
    "duration": 65,
    "start_time": "2025-05-05T15:33:45.559Z"
   },
   {
    "duration": 61,
    "start_time": "2025-05-05T15:33:45.626Z"
   },
   {
    "duration": 19,
    "start_time": "2025-05-05T15:33:45.708Z"
   },
   {
    "duration": 7,
    "start_time": "2025-05-05T15:33:45.729Z"
   },
   {
    "duration": 4,
    "start_time": "2025-05-05T15:33:45.737Z"
   },
   {
    "duration": 4,
    "start_time": "2025-05-05T15:33:45.742Z"
   },
   {
    "duration": 35,
    "start_time": "2025-05-05T15:33:45.748Z"
   },
   {
    "duration": 16,
    "start_time": "2025-05-05T15:33:45.809Z"
   },
   {
    "duration": 41,
    "start_time": "2025-05-05T15:33:45.828Z"
   },
   {
    "duration": 56,
    "start_time": "2025-05-05T15:33:45.871Z"
   },
   {
    "duration": 42,
    "start_time": "2025-05-05T15:33:45.928Z"
   },
   {
    "duration": 42,
    "start_time": "2025-05-05T15:47:06.497Z"
   },
   {
    "duration": 4,
    "start_time": "2025-05-05T15:47:56.723Z"
   },
   {
    "duration": 407,
    "start_time": "2025-05-05T15:47:57.418Z"
   },
   {
    "duration": 3,
    "start_time": "2025-05-05T15:48:02.780Z"
   },
   {
    "duration": 3,
    "start_time": "2025-05-05T15:48:03.503Z"
   },
   {
    "duration": 93,
    "start_time": "2025-05-05T15:48:04.829Z"
   },
   {
    "duration": 36292,
    "start_time": "2025-05-05T15:48:09.747Z"
   },
   {
    "duration": 65,
    "start_time": "2025-05-05T15:48:57.627Z"
   },
   {
    "duration": 65,
    "start_time": "2025-05-05T15:49:04.639Z"
   },
   {
    "duration": 14,
    "start_time": "2025-05-05T15:49:07.960Z"
   },
   {
    "duration": 45,
    "start_time": "2025-05-05T15:49:09.003Z"
   },
   {
    "duration": 324,
    "start_time": "2025-05-05T16:02:53.134Z"
   },
   {
    "duration": 29,
    "start_time": "2025-05-05T16:03:05.203Z"
   },
   {
    "duration": 4,
    "start_time": "2025-05-05T16:03:07.680Z"
   },
   {
    "duration": 363,
    "start_time": "2025-05-05T16:03:38.330Z"
   },
   {
    "duration": 5,
    "start_time": "2025-05-05T16:03:39.078Z"
   },
   {
    "duration": 47,
    "start_time": "2025-05-05T16:06:58.118Z"
   },
   {
    "duration": 3,
    "start_time": "2025-05-05T16:07:14.591Z"
   },
   {
    "duration": 7,
    "start_time": "2025-05-05T16:07:15.456Z"
   },
   {
    "duration": 4,
    "start_time": "2025-05-05T16:07:20.986Z"
   },
   {
    "duration": 388,
    "start_time": "2025-05-05T16:07:21.662Z"
   },
   {
    "duration": 3,
    "start_time": "2025-05-05T16:07:24.206Z"
   },
   {
    "duration": 3,
    "start_time": "2025-05-05T16:07:24.718Z"
   },
   {
    "duration": 92,
    "start_time": "2025-05-05T16:07:25.312Z"
   },
   {
    "duration": 36935,
    "start_time": "2025-05-05T16:07:26.581Z"
   },
   {
    "duration": 67,
    "start_time": "2025-05-05T16:08:03.518Z"
   },
   {
    "duration": 86,
    "start_time": "2025-05-05T16:08:03.587Z"
   },
   {
    "duration": 19,
    "start_time": "2025-05-05T16:08:03.678Z"
   },
   {
    "duration": 56,
    "start_time": "2025-05-05T16:08:03.699Z"
   },
   {
    "duration": 56,
    "start_time": "2025-05-05T16:09:23.129Z"
   },
   {
    "duration": 14,
    "start_time": "2025-05-05T16:09:24.681Z"
   },
   {
    "duration": 39,
    "start_time": "2025-05-05T16:09:38.260Z"
   },
   {
    "duration": 35,
    "start_time": "2025-05-05T16:10:08.833Z"
   },
   {
    "duration": 15,
    "start_time": "2025-05-05T16:11:15.684Z"
   },
   {
    "duration": 77,
    "start_time": "2025-05-05T16:11:22.464Z"
   },
   {
    "duration": 87,
    "start_time": "2025-05-05T16:13:27.530Z"
   },
   {
    "duration": 101,
    "start_time": "2025-05-05T16:13:34.081Z"
   },
   {
    "duration": 82,
    "start_time": "2025-05-05T16:13:47.511Z"
   },
   {
    "duration": 582,
    "start_time": "2025-05-05T16:15:45.071Z"
   },
   {
    "duration": 323,
    "start_time": "2025-05-05T16:16:17.368Z"
   },
   {
    "duration": 9694,
    "start_time": "2025-05-05T16:18:02.809Z"
   },
   {
    "duration": 3,
    "start_time": "2025-05-05T16:22:48.689Z"
   },
   {
    "duration": 13,
    "start_time": "2025-05-05T16:22:49.207Z"
   },
   {
    "duration": 3,
    "start_time": "2025-05-05T16:22:50.028Z"
   },
   {
    "duration": 38,
    "start_time": "2025-05-05T16:22:50.674Z"
   },
   {
    "duration": 6624,
    "start_time": "2025-05-05T16:27:17.625Z"
   },
   {
    "duration": 3,
    "start_time": "2025-05-05T16:31:04.805Z"
   },
   {
    "duration": 67671,
    "start_time": "2025-05-05T16:31:34.505Z"
   },
   {
    "duration": 1027,
    "start_time": "2025-05-05T16:52:39.777Z"
   },
   {
    "duration": 418,
    "start_time": "2025-05-05T16:52:41.563Z"
   },
   {
    "duration": 4,
    "start_time": "2025-05-05T16:52:43.745Z"
   },
   {
    "duration": 4,
    "start_time": "2025-05-05T16:52:44.160Z"
   },
   {
    "duration": 91,
    "start_time": "2025-05-05T16:52:44.531Z"
   },
   {
    "duration": 36490,
    "start_time": "2025-05-05T16:52:45.390Z"
   },
   {
    "duration": 70,
    "start_time": "2025-05-05T16:53:21.882Z"
   },
   {
    "duration": 71,
    "start_time": "2025-05-05T16:53:21.954Z"
   },
   {
    "duration": 21,
    "start_time": "2025-05-05T16:53:22.027Z"
   },
   {
    "duration": 60,
    "start_time": "2025-05-05T16:53:22.050Z"
   },
   {
    "duration": 52,
    "start_time": "2025-05-05T16:53:31.510Z"
   },
   {
    "duration": 14,
    "start_time": "2025-05-05T16:53:32.178Z"
   },
   {
    "duration": 38,
    "start_time": "2025-05-05T16:53:33.315Z"
   },
   {
    "duration": 36,
    "start_time": "2025-05-05T16:53:34.057Z"
   },
   {
    "duration": 38,
    "start_time": "2025-05-05T16:53:34.844Z"
   },
   {
    "duration": 81,
    "start_time": "2025-05-05T16:53:35.654Z"
   },
   {
    "duration": 84,
    "start_time": "2025-05-05T16:53:36.892Z"
   },
   {
    "duration": 631,
    "start_time": "2025-05-05T16:53:38.406Z"
   },
   {
    "duration": 341,
    "start_time": "2025-05-05T16:53:40.410Z"
   },
   {
    "duration": 9518,
    "start_time": "2025-05-05T16:53:41.610Z"
   },
   {
    "duration": 4,
    "start_time": "2025-05-05T16:53:55.522Z"
   },
   {
    "duration": 11,
    "start_time": "2025-05-05T16:53:58.094Z"
   },
   {
    "duration": 3,
    "start_time": "2025-05-05T16:54:04.835Z"
   },
   {
    "duration": 37,
    "start_time": "2025-05-05T16:54:08.019Z"
   },
   {
    "duration": 3,
    "start_time": "2025-05-05T16:54:10.300Z"
   },
   {
    "duration": 6777,
    "start_time": "2025-05-05T16:54:11.432Z"
   },
   {
    "duration": 66951,
    "start_time": "2025-05-05T16:54:24.215Z"
   },
   {
    "duration": 2417,
    "start_time": "2025-05-05T16:55:40.110Z"
   },
   {
    "duration": 5455,
    "start_time": "2025-05-05T16:55:48.449Z"
   },
   {
    "duration": 15511,
    "start_time": "2025-05-05T16:56:02.419Z"
   },
   {
    "duration": 1127,
    "start_time": "2025-05-05T17:04:13.133Z"
   },
   {
    "duration": 435,
    "start_time": "2025-05-05T17:04:14.264Z"
   },
   {
    "duration": 8,
    "start_time": "2025-05-05T17:04:14.701Z"
   },
   {
    "duration": 3,
    "start_time": "2025-05-05T17:04:14.932Z"
   },
   {
    "duration": 97,
    "start_time": "2025-05-05T17:04:15.257Z"
   },
   {
    "duration": 38104,
    "start_time": "2025-05-05T17:04:16.086Z"
   },
   {
    "duration": 69,
    "start_time": "2025-05-05T17:04:54.192Z"
   },
   {
    "duration": 69,
    "start_time": "2025-05-05T17:04:54.263Z"
   },
   {
    "duration": 21,
    "start_time": "2025-05-05T17:04:54.335Z"
   },
   {
    "duration": 62,
    "start_time": "2025-05-05T17:04:54.358Z"
   },
   {
    "duration": 49,
    "start_time": "2025-05-05T17:04:54.421Z"
   },
   {
    "duration": 14,
    "start_time": "2025-05-05T17:04:54.472Z"
   },
   {
    "duration": 59,
    "start_time": "2025-05-05T17:04:54.488Z"
   },
   {
    "duration": 36,
    "start_time": "2025-05-05T17:04:54.549Z"
   },
   {
    "duration": 52,
    "start_time": "2025-05-05T17:04:54.588Z"
   },
   {
    "duration": 85,
    "start_time": "2025-05-05T17:04:54.641Z"
   },
   {
    "duration": 88,
    "start_time": "2025-05-05T17:04:54.727Z"
   },
   {
    "duration": 595,
    "start_time": "2025-05-05T17:04:54.817Z"
   },
   {
    "duration": 351,
    "start_time": "2025-05-05T17:04:55.414Z"
   },
   {
    "duration": 9630,
    "start_time": "2025-05-05T17:04:55.768Z"
   },
   {
    "duration": 9,
    "start_time": "2025-05-05T17:05:05.402Z"
   },
   {
    "duration": 11,
    "start_time": "2025-05-05T17:05:05.415Z"
   },
   {
    "duration": 3,
    "start_time": "2025-05-05T17:05:05.428Z"
   },
   {
    "duration": 37,
    "start_time": "2025-05-05T17:05:05.433Z"
   },
   {
    "duration": 3,
    "start_time": "2025-05-05T17:05:05.472Z"
   },
   {
    "duration": 6661,
    "start_time": "2025-05-05T17:05:05.477Z"
   },
   {
    "duration": 67173,
    "start_time": "2025-05-05T17:05:12.140Z"
   },
   {
    "duration": 2406,
    "start_time": "2025-05-05T17:06:19.315Z"
   },
   {
    "duration": 5490,
    "start_time": "2025-05-05T17:06:21.723Z"
   },
   {
    "duration": 16003,
    "start_time": "2025-05-05T17:06:27.215Z"
   },
   {
    "duration": 1287550,
    "start_time": "2025-05-05T17:07:46.861Z"
   },
   {
    "duration": 6,
    "start_time": "2025-05-05T17:31:12.540Z"
   },
   {
    "duration": 9,
    "start_time": "2025-05-05T18:55:24.666Z"
   },
   {
    "duration": 5,
    "start_time": "2025-05-05T18:58:28.998Z"
   },
   {
    "duration": 2690,
    "start_time": "2025-05-05T20:22:12.488Z"
   },
   {
    "duration": 454,
    "start_time": "2025-05-05T20:22:15.180Z"
   },
   {
    "duration": 4,
    "start_time": "2025-05-05T20:22:15.635Z"
   },
   {
    "duration": 4,
    "start_time": "2025-05-05T20:22:15.641Z"
   },
   {
    "duration": 112,
    "start_time": "2025-05-05T20:22:15.647Z"
   },
   {
    "duration": 93,
    "start_time": "2025-05-05T20:22:27.552Z"
   },
   {
    "duration": 233,
    "start_time": "2025-05-05T20:22:28.606Z"
   },
   {
    "duration": 240,
    "start_time": "2025-05-05T20:23:05.345Z"
   },
   {
    "duration": 26,
    "start_time": "2025-05-05T20:23:08.137Z"
   },
   {
    "duration": 46,
    "start_time": "2025-05-05T20:23:08.428Z"
   },
   {
    "duration": 48,
    "start_time": "2025-05-05T20:23:14.350Z"
   },
   {
    "duration": 38,
    "start_time": "2025-05-05T20:23:17.504Z"
   },
   {
    "duration": 37,
    "start_time": "2025-05-05T20:23:19.167Z"
   },
   {
    "duration": 38,
    "start_time": "2025-05-05T20:23:19.757Z"
   },
   {
    "duration": 77,
    "start_time": "2025-05-05T20:23:43.940Z"
   },
   {
    "duration": 615,
    "start_time": "2025-05-05T20:23:51.133Z"
   },
   {
    "duration": 355,
    "start_time": "2025-05-05T20:23:52.128Z"
   },
   {
    "duration": 9712,
    "start_time": "2025-05-05T20:23:57.769Z"
   },
   {
    "duration": 4,
    "start_time": "2025-05-05T20:31:46.297Z"
   },
   {
    "duration": 13,
    "start_time": "2025-05-05T20:31:46.721Z"
   },
   {
    "duration": 3,
    "start_time": "2025-05-05T20:31:47.881Z"
   },
   {
    "duration": 40,
    "start_time": "2025-05-05T20:31:48.685Z"
   },
   {
    "duration": 2,
    "start_time": "2025-05-05T20:32:01.015Z"
   },
   {
    "duration": 7170,
    "start_time": "2025-05-05T20:32:03.764Z"
   },
   {
    "duration": 241,
    "start_time": "2025-05-05T20:32:14.614Z"
   },
   {
    "duration": 71820,
    "start_time": "2025-05-05T20:33:28.277Z"
   },
   {
    "duration": 4,
    "start_time": "2025-05-05T20:35:16.117Z"
   },
   {
    "duration": 78875,
    "start_time": "2025-05-05T20:35:22.144Z"
   },
   {
    "duration": 78639,
    "start_time": "2025-05-05T20:40:57.029Z"
   },
   {
    "duration": 78656,
    "start_time": "2025-05-05T20:43:07.813Z"
   },
   {
    "duration": 1805640,
    "start_time": "2025-05-05T20:46:55.026Z"
   },
   {
    "duration": 7260,
    "start_time": "2025-05-05T21:17:42.686Z"
   },
   {
    "duration": 78353,
    "start_time": "2025-05-05T21:18:23.688Z"
   },
   {
    "duration": 2601,
    "start_time": "2025-05-05T21:20:28.311Z"
   },
   {
    "duration": 5853,
    "start_time": "2025-05-05T21:20:31.587Z"
   },
   {
    "duration": 0,
    "start_time": "2025-05-05T21:20:37.441Z"
   },
   {
    "duration": 0,
    "start_time": "2025-05-05T21:20:37.442Z"
   },
   {
    "duration": 5728,
    "start_time": "2025-05-05T21:20:56.559Z"
   },
   {
    "duration": 16164,
    "start_time": "2025-05-05T21:22:56.251Z"
   },
   {
    "duration": 6,
    "start_time": "2025-05-05T21:23:12.417Z"
   }
  ],
  "kernelspec": {
   "display_name": "Python 3 (ipykernel)",
   "language": "python",
   "name": "python3"
  },
  "language_info": {
   "codemirror_mode": {
    "name": "ipython",
    "version": 3
   },
   "file_extension": ".py",
   "mimetype": "text/x-python",
   "name": "python",
   "nbconvert_exporter": "python",
   "pygments_lexer": "ipython3",
   "version": "3.12.7"
  },
  "toc": {
   "base_numbering": 1,
   "nav_menu": {},
   "number_sections": true,
   "sideBar": true,
   "skip_h1_title": true,
   "title_cell": "Table of Contents",
   "title_sidebar": "Contents",
   "toc_cell": false,
   "toc_position": {},
   "toc_section_display": true,
   "toc_window_display": false
  }
 },
 "nbformat": 4,
 "nbformat_minor": 4
}
