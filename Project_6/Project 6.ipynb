{
 "cells": [
  {
   "cell_type": "markdown",
   "metadata": {},
   "source": [
    "# Title: Predict the best region for a new well"
   ]
  },
  {
   "cell_type": "markdown",
   "metadata": {},
   "source": [
    "##  Introduction\n",
    "\n",
    "This project is for the OilyGiant mining company. Our task is to find the best place for a new well.\n",
    "Steps to choose the location:\n",
    "•\tCollect the oil well parameters in the selected region: oil quality and volume of reserves;\n",
    "•\tBuild a model for predicting the volume of reserves in the new wells;\n",
    "•\tPick the oil wells with the highest estimated values;\n",
    "•\tPick the region with the highest total profit for the selected oil wells.\n",
    "We have data on oil samples from three regions. Parameters of each oil well in the region are already known. Our aim is to build a model that will help to pick the region with the highest profit margin. Analyze potential profit and risks using the Bootstrapping technique.\n",
    " This project consists of following steps:\n",
    " - Data loading and preprocessing\n",
    " - Train and test the model\n",
    " - Calculate profit\n",
    " - Calculate profit from a set of selected oil wells and model predictions\n",
    " - Calculate risks and profit for each region"
   ]
  },
  {
   "cell_type": "markdown",
   "metadata": {},
   "source": [
    "### First Stage : Data loading and preprocessing\n",
    " In this stage import all the libraries needed for the analysis and also load the dataframe and identify the contents in the dataframe. Check whether there are any duplicates in the data or any missing values and check the data types are appropriate for each column."
   ]
  },
  {
   "cell_type": "code",
   "execution_count": 1,
   "metadata": {},
   "outputs": [],
   "source": [
    "#Import all libraries\n",
    "import pandas as pd\n",
    "import numpy as np\n",
    "from matplotlib import pyplot as plt\n",
    "import seaborn as sns\n",
    "from sklearn.model_selection import train_test_split\n",
    "from sklearn.linear_model import LinearRegression\n",
    "from sklearn.metrics import mean_squared_error\n",
    "from sklearn.metrics import r2_score\n",
    "from sklearn.preprocessing import StandardScaler\n",
    "from numpy.random import RandomState"
   ]
  },
  {
   "cell_type": "code",
   "execution_count": 2,
   "metadata": {},
   "outputs": [
    {
     "data": {
      "text/html": [
       "<div>\n",
       "<style scoped>\n",
       "    .dataframe tbody tr th:only-of-type {\n",
       "        vertical-align: middle;\n",
       "    }\n",
       "\n",
       "    .dataframe tbody tr th {\n",
       "        vertical-align: top;\n",
       "    }\n",
       "\n",
       "    .dataframe thead th {\n",
       "        text-align: right;\n",
       "    }\n",
       "</style>\n",
       "<table border=\"1\" class=\"dataframe\">\n",
       "  <thead>\n",
       "    <tr style=\"text-align: right;\">\n",
       "      <th></th>\n",
       "      <th>id</th>\n",
       "      <th>f0</th>\n",
       "      <th>f1</th>\n",
       "      <th>f2</th>\n",
       "      <th>product</th>\n",
       "    </tr>\n",
       "  </thead>\n",
       "  <tbody>\n",
       "    <tr>\n",
       "      <th>0</th>\n",
       "      <td>txEyH</td>\n",
       "      <td>0.705745</td>\n",
       "      <td>-0.497823</td>\n",
       "      <td>1.221170</td>\n",
       "      <td>105.280062</td>\n",
       "    </tr>\n",
       "    <tr>\n",
       "      <th>1</th>\n",
       "      <td>2acmU</td>\n",
       "      <td>1.334711</td>\n",
       "      <td>-0.340164</td>\n",
       "      <td>4.365080</td>\n",
       "      <td>73.037750</td>\n",
       "    </tr>\n",
       "    <tr>\n",
       "      <th>2</th>\n",
       "      <td>409Wp</td>\n",
       "      <td>1.022732</td>\n",
       "      <td>0.151990</td>\n",
       "      <td>1.419926</td>\n",
       "      <td>85.265647</td>\n",
       "    </tr>\n",
       "    <tr>\n",
       "      <th>3</th>\n",
       "      <td>iJLyR</td>\n",
       "      <td>-0.032172</td>\n",
       "      <td>0.139033</td>\n",
       "      <td>2.978566</td>\n",
       "      <td>168.620776</td>\n",
       "    </tr>\n",
       "    <tr>\n",
       "      <th>4</th>\n",
       "      <td>Xdl7t</td>\n",
       "      <td>1.988431</td>\n",
       "      <td>0.155413</td>\n",
       "      <td>4.751769</td>\n",
       "      <td>154.036647</td>\n",
       "    </tr>\n",
       "    <tr>\n",
       "      <th>...</th>\n",
       "      <td>...</td>\n",
       "      <td>...</td>\n",
       "      <td>...</td>\n",
       "      <td>...</td>\n",
       "      <td>...</td>\n",
       "    </tr>\n",
       "    <tr>\n",
       "      <th>99995</th>\n",
       "      <td>DLsed</td>\n",
       "      <td>0.971957</td>\n",
       "      <td>0.370953</td>\n",
       "      <td>6.075346</td>\n",
       "      <td>110.744026</td>\n",
       "    </tr>\n",
       "    <tr>\n",
       "      <th>99996</th>\n",
       "      <td>QKivN</td>\n",
       "      <td>1.392429</td>\n",
       "      <td>-0.382606</td>\n",
       "      <td>1.273912</td>\n",
       "      <td>122.346843</td>\n",
       "    </tr>\n",
       "    <tr>\n",
       "      <th>99997</th>\n",
       "      <td>3rnvd</td>\n",
       "      <td>1.029585</td>\n",
       "      <td>0.018787</td>\n",
       "      <td>-1.348308</td>\n",
       "      <td>64.375443</td>\n",
       "    </tr>\n",
       "    <tr>\n",
       "      <th>99998</th>\n",
       "      <td>7kl59</td>\n",
       "      <td>0.998163</td>\n",
       "      <td>-0.528582</td>\n",
       "      <td>1.583869</td>\n",
       "      <td>74.040764</td>\n",
       "    </tr>\n",
       "    <tr>\n",
       "      <th>99999</th>\n",
       "      <td>1CWhH</td>\n",
       "      <td>1.764754</td>\n",
       "      <td>-0.266417</td>\n",
       "      <td>5.722849</td>\n",
       "      <td>149.633246</td>\n",
       "    </tr>\n",
       "  </tbody>\n",
       "</table>\n",
       "<p>100000 rows × 5 columns</p>\n",
       "</div>"
      ],
      "text/plain": [
       "          id        f0        f1        f2     product\n",
       "0      txEyH  0.705745 -0.497823  1.221170  105.280062\n",
       "1      2acmU  1.334711 -0.340164  4.365080   73.037750\n",
       "2      409Wp  1.022732  0.151990  1.419926   85.265647\n",
       "3      iJLyR -0.032172  0.139033  2.978566  168.620776\n",
       "4      Xdl7t  1.988431  0.155413  4.751769  154.036647\n",
       "...      ...       ...       ...       ...         ...\n",
       "99995  DLsed  0.971957  0.370953  6.075346  110.744026\n",
       "99996  QKivN  1.392429 -0.382606  1.273912  122.346843\n",
       "99997  3rnvd  1.029585  0.018787 -1.348308   64.375443\n",
       "99998  7kl59  0.998163 -0.528582  1.583869   74.040764\n",
       "99999  1CWhH  1.764754 -0.266417  5.722849  149.633246\n",
       "\n",
       "[100000 rows x 5 columns]"
      ]
     },
     "metadata": {},
     "output_type": "display_data"
    }
   ],
   "source": [
    "#Load the data\n",
    "region_0=pd.read_csv('/datasets/geo_data_0.csv')\n",
    "display(region_0)"
   ]
  },
  {
   "cell_type": "code",
   "execution_count": 3,
   "metadata": {},
   "outputs": [
    {
     "data": {
      "text/html": [
       "<div>\n",
       "<style scoped>\n",
       "    .dataframe tbody tr th:only-of-type {\n",
       "        vertical-align: middle;\n",
       "    }\n",
       "\n",
       "    .dataframe tbody tr th {\n",
       "        vertical-align: top;\n",
       "    }\n",
       "\n",
       "    .dataframe thead th {\n",
       "        text-align: right;\n",
       "    }\n",
       "</style>\n",
       "<table border=\"1\" class=\"dataframe\">\n",
       "  <thead>\n",
       "    <tr style=\"text-align: right;\">\n",
       "      <th></th>\n",
       "      <th>id</th>\n",
       "      <th>f0</th>\n",
       "      <th>f1</th>\n",
       "      <th>f2</th>\n",
       "      <th>product</th>\n",
       "    </tr>\n",
       "  </thead>\n",
       "  <tbody>\n",
       "    <tr>\n",
       "      <th>0</th>\n",
       "      <td>kBEdx</td>\n",
       "      <td>-15.001348</td>\n",
       "      <td>-8.276000</td>\n",
       "      <td>-0.005876</td>\n",
       "      <td>3.179103</td>\n",
       "    </tr>\n",
       "    <tr>\n",
       "      <th>1</th>\n",
       "      <td>62mP7</td>\n",
       "      <td>14.272088</td>\n",
       "      <td>-3.475083</td>\n",
       "      <td>0.999183</td>\n",
       "      <td>26.953261</td>\n",
       "    </tr>\n",
       "    <tr>\n",
       "      <th>2</th>\n",
       "      <td>vyE1P</td>\n",
       "      <td>6.263187</td>\n",
       "      <td>-5.948386</td>\n",
       "      <td>5.001160</td>\n",
       "      <td>134.766305</td>\n",
       "    </tr>\n",
       "    <tr>\n",
       "      <th>3</th>\n",
       "      <td>KcrkZ</td>\n",
       "      <td>-13.081196</td>\n",
       "      <td>-11.506057</td>\n",
       "      <td>4.999415</td>\n",
       "      <td>137.945408</td>\n",
       "    </tr>\n",
       "    <tr>\n",
       "      <th>4</th>\n",
       "      <td>AHL4O</td>\n",
       "      <td>12.702195</td>\n",
       "      <td>-8.147433</td>\n",
       "      <td>5.004363</td>\n",
       "      <td>134.766305</td>\n",
       "    </tr>\n",
       "    <tr>\n",
       "      <th>...</th>\n",
       "      <td>...</td>\n",
       "      <td>...</td>\n",
       "      <td>...</td>\n",
       "      <td>...</td>\n",
       "      <td>...</td>\n",
       "    </tr>\n",
       "    <tr>\n",
       "      <th>99995</th>\n",
       "      <td>QywKC</td>\n",
       "      <td>9.535637</td>\n",
       "      <td>-6.878139</td>\n",
       "      <td>1.998296</td>\n",
       "      <td>53.906522</td>\n",
       "    </tr>\n",
       "    <tr>\n",
       "      <th>99996</th>\n",
       "      <td>ptvty</td>\n",
       "      <td>-10.160631</td>\n",
       "      <td>-12.558096</td>\n",
       "      <td>5.005581</td>\n",
       "      <td>137.945408</td>\n",
       "    </tr>\n",
       "    <tr>\n",
       "      <th>99997</th>\n",
       "      <td>09gWa</td>\n",
       "      <td>-7.378891</td>\n",
       "      <td>-3.084104</td>\n",
       "      <td>4.998651</td>\n",
       "      <td>137.945408</td>\n",
       "    </tr>\n",
       "    <tr>\n",
       "      <th>99998</th>\n",
       "      <td>rqwUm</td>\n",
       "      <td>0.665714</td>\n",
       "      <td>-6.152593</td>\n",
       "      <td>1.000146</td>\n",
       "      <td>30.132364</td>\n",
       "    </tr>\n",
       "    <tr>\n",
       "      <th>99999</th>\n",
       "      <td>relB0</td>\n",
       "      <td>-3.426139</td>\n",
       "      <td>-7.794274</td>\n",
       "      <td>-0.003299</td>\n",
       "      <td>3.179103</td>\n",
       "    </tr>\n",
       "  </tbody>\n",
       "</table>\n",
       "<p>100000 rows × 5 columns</p>\n",
       "</div>"
      ],
      "text/plain": [
       "          id         f0         f1        f2     product\n",
       "0      kBEdx -15.001348  -8.276000 -0.005876    3.179103\n",
       "1      62mP7  14.272088  -3.475083  0.999183   26.953261\n",
       "2      vyE1P   6.263187  -5.948386  5.001160  134.766305\n",
       "3      KcrkZ -13.081196 -11.506057  4.999415  137.945408\n",
       "4      AHL4O  12.702195  -8.147433  5.004363  134.766305\n",
       "...      ...        ...        ...       ...         ...\n",
       "99995  QywKC   9.535637  -6.878139  1.998296   53.906522\n",
       "99996  ptvty -10.160631 -12.558096  5.005581  137.945408\n",
       "99997  09gWa  -7.378891  -3.084104  4.998651  137.945408\n",
       "99998  rqwUm   0.665714  -6.152593  1.000146   30.132364\n",
       "99999  relB0  -3.426139  -7.794274 -0.003299    3.179103\n",
       "\n",
       "[100000 rows x 5 columns]"
      ]
     },
     "metadata": {},
     "output_type": "display_data"
    }
   ],
   "source": [
    "#Load the data\n",
    "region_1=pd.read_csv('/datasets/geo_data_1.csv')\n",
    "display(region_1)"
   ]
  },
  {
   "cell_type": "code",
   "execution_count": 4,
   "metadata": {},
   "outputs": [
    {
     "data": {
      "text/html": [
       "<div>\n",
       "<style scoped>\n",
       "    .dataframe tbody tr th:only-of-type {\n",
       "        vertical-align: middle;\n",
       "    }\n",
       "\n",
       "    .dataframe tbody tr th {\n",
       "        vertical-align: top;\n",
       "    }\n",
       "\n",
       "    .dataframe thead th {\n",
       "        text-align: right;\n",
       "    }\n",
       "</style>\n",
       "<table border=\"1\" class=\"dataframe\">\n",
       "  <thead>\n",
       "    <tr style=\"text-align: right;\">\n",
       "      <th></th>\n",
       "      <th>id</th>\n",
       "      <th>f0</th>\n",
       "      <th>f1</th>\n",
       "      <th>f2</th>\n",
       "      <th>product</th>\n",
       "    </tr>\n",
       "  </thead>\n",
       "  <tbody>\n",
       "    <tr>\n",
       "      <th>0</th>\n",
       "      <td>fwXo0</td>\n",
       "      <td>-1.146987</td>\n",
       "      <td>0.963328</td>\n",
       "      <td>-0.828965</td>\n",
       "      <td>27.758673</td>\n",
       "    </tr>\n",
       "    <tr>\n",
       "      <th>1</th>\n",
       "      <td>WJtFt</td>\n",
       "      <td>0.262778</td>\n",
       "      <td>0.269839</td>\n",
       "      <td>-2.530187</td>\n",
       "      <td>56.069697</td>\n",
       "    </tr>\n",
       "    <tr>\n",
       "      <th>2</th>\n",
       "      <td>ovLUW</td>\n",
       "      <td>0.194587</td>\n",
       "      <td>0.289035</td>\n",
       "      <td>-5.586433</td>\n",
       "      <td>62.871910</td>\n",
       "    </tr>\n",
       "    <tr>\n",
       "      <th>3</th>\n",
       "      <td>q6cA6</td>\n",
       "      <td>2.236060</td>\n",
       "      <td>-0.553760</td>\n",
       "      <td>0.930038</td>\n",
       "      <td>114.572842</td>\n",
       "    </tr>\n",
       "    <tr>\n",
       "      <th>4</th>\n",
       "      <td>WPMUX</td>\n",
       "      <td>-0.515993</td>\n",
       "      <td>1.716266</td>\n",
       "      <td>5.899011</td>\n",
       "      <td>149.600746</td>\n",
       "    </tr>\n",
       "    <tr>\n",
       "      <th>...</th>\n",
       "      <td>...</td>\n",
       "      <td>...</td>\n",
       "      <td>...</td>\n",
       "      <td>...</td>\n",
       "      <td>...</td>\n",
       "    </tr>\n",
       "    <tr>\n",
       "      <th>99995</th>\n",
       "      <td>4GxBu</td>\n",
       "      <td>-1.777037</td>\n",
       "      <td>1.125220</td>\n",
       "      <td>6.263374</td>\n",
       "      <td>172.327046</td>\n",
       "    </tr>\n",
       "    <tr>\n",
       "      <th>99996</th>\n",
       "      <td>YKFjq</td>\n",
       "      <td>-1.261523</td>\n",
       "      <td>-0.894828</td>\n",
       "      <td>2.524545</td>\n",
       "      <td>138.748846</td>\n",
       "    </tr>\n",
       "    <tr>\n",
       "      <th>99997</th>\n",
       "      <td>tKPY3</td>\n",
       "      <td>-1.199934</td>\n",
       "      <td>-2.957637</td>\n",
       "      <td>5.219411</td>\n",
       "      <td>157.080080</td>\n",
       "    </tr>\n",
       "    <tr>\n",
       "      <th>99998</th>\n",
       "      <td>nmxp2</td>\n",
       "      <td>-2.419896</td>\n",
       "      <td>2.417221</td>\n",
       "      <td>-5.548444</td>\n",
       "      <td>51.795253</td>\n",
       "    </tr>\n",
       "    <tr>\n",
       "      <th>99999</th>\n",
       "      <td>V9kWn</td>\n",
       "      <td>-2.551421</td>\n",
       "      <td>-2.025625</td>\n",
       "      <td>6.090891</td>\n",
       "      <td>102.775767</td>\n",
       "    </tr>\n",
       "  </tbody>\n",
       "</table>\n",
       "<p>100000 rows × 5 columns</p>\n",
       "</div>"
      ],
      "text/plain": [
       "          id        f0        f1        f2     product\n",
       "0      fwXo0 -1.146987  0.963328 -0.828965   27.758673\n",
       "1      WJtFt  0.262778  0.269839 -2.530187   56.069697\n",
       "2      ovLUW  0.194587  0.289035 -5.586433   62.871910\n",
       "3      q6cA6  2.236060 -0.553760  0.930038  114.572842\n",
       "4      WPMUX -0.515993  1.716266  5.899011  149.600746\n",
       "...      ...       ...       ...       ...         ...\n",
       "99995  4GxBu -1.777037  1.125220  6.263374  172.327046\n",
       "99996  YKFjq -1.261523 -0.894828  2.524545  138.748846\n",
       "99997  tKPY3 -1.199934 -2.957637  5.219411  157.080080\n",
       "99998  nmxp2 -2.419896  2.417221 -5.548444   51.795253\n",
       "99999  V9kWn -2.551421 -2.025625  6.090891  102.775767\n",
       "\n",
       "[100000 rows x 5 columns]"
      ]
     },
     "metadata": {},
     "output_type": "display_data"
    }
   ],
   "source": [
    "#Load the data\n",
    "region_2=pd.read_csv('/datasets/geo_data_2.csv')\n",
    "display(region_2)"
   ]
  },
  {
   "cell_type": "markdown",
   "metadata": {},
   "source": [
    "Load all the dataframes and named as region_1, region_2, region_3 and each dataframe consists of 100000 rows and 5 columns. The 5 columns are\n",
    "- id — unique oil well identifier\n",
    "- f0, f1, f2 — three features of points\n",
    "- product — volume of reserves in the oil well (thousand barrels)."
   ]
  },
  {
   "cell_type": "code",
   "execution_count": 5,
   "metadata": {},
   "outputs": [
    {
     "name": "stdout",
     "output_type": "stream",
     "text": [
      "<class 'pandas.core.frame.DataFrame'>\n",
      "RangeIndex: 100000 entries, 0 to 99999\n",
      "Data columns (total 5 columns):\n",
      " #   Column   Non-Null Count   Dtype  \n",
      "---  ------   --------------   -----  \n",
      " 0   id       100000 non-null  object \n",
      " 1   f0       100000 non-null  float64\n",
      " 2   f1       100000 non-null  float64\n",
      " 3   f2       100000 non-null  float64\n",
      " 4   product  100000 non-null  float64\n",
      "dtypes: float64(4), object(1)\n",
      "memory usage: 3.8+ MB\n"
     ]
    }
   ],
   "source": [
    "# Check for information for region 0\n",
    "region_0.info()"
   ]
  },
  {
   "cell_type": "code",
   "execution_count": 6,
   "metadata": {},
   "outputs": [
    {
     "name": "stdout",
     "output_type": "stream",
     "text": [
      "<class 'pandas.core.frame.DataFrame'>\n",
      "RangeIndex: 100000 entries, 0 to 99999\n",
      "Data columns (total 5 columns):\n",
      " #   Column   Non-Null Count   Dtype  \n",
      "---  ------   --------------   -----  \n",
      " 0   id       100000 non-null  object \n",
      " 1   f0       100000 non-null  float64\n",
      " 2   f1       100000 non-null  float64\n",
      " 3   f2       100000 non-null  float64\n",
      " 4   product  100000 non-null  float64\n",
      "dtypes: float64(4), object(1)\n",
      "memory usage: 3.8+ MB\n"
     ]
    }
   ],
   "source": [
    "# Check for information for region 1\n",
    "region_1.info()"
   ]
  },
  {
   "cell_type": "code",
   "execution_count": 7,
   "metadata": {},
   "outputs": [
    {
     "name": "stdout",
     "output_type": "stream",
     "text": [
      "<class 'pandas.core.frame.DataFrame'>\n",
      "RangeIndex: 100000 entries, 0 to 99999\n",
      "Data columns (total 5 columns):\n",
      " #   Column   Non-Null Count   Dtype  \n",
      "---  ------   --------------   -----  \n",
      " 0   id       100000 non-null  object \n",
      " 1   f0       100000 non-null  float64\n",
      " 2   f1       100000 non-null  float64\n",
      " 3   f2       100000 non-null  float64\n",
      " 4   product  100000 non-null  float64\n",
      "dtypes: float64(4), object(1)\n",
      "memory usage: 3.8+ MB\n"
     ]
    }
   ],
   "source": [
    "# Check for information for region 2\n",
    "region_2.info()"
   ]
  },
  {
   "cell_type": "code",
   "execution_count": 8,
   "metadata": {},
   "outputs": [
    {
     "data": {
      "text/plain": [
       "id         0\n",
       "f0         0\n",
       "f1         0\n",
       "f2         0\n",
       "product    0\n",
       "dtype: int64"
      ]
     },
     "execution_count": 8,
     "metadata": {},
     "output_type": "execute_result"
    }
   ],
   "source": [
    "#Check for missing values for region_0\n",
    "region_0.isnull().sum()"
   ]
  },
  {
   "cell_type": "code",
   "execution_count": 9,
   "metadata": {},
   "outputs": [
    {
     "data": {
      "text/plain": [
       "id         0\n",
       "f0         0\n",
       "f1         0\n",
       "f2         0\n",
       "product    0\n",
       "dtype: int64"
      ]
     },
     "execution_count": 9,
     "metadata": {},
     "output_type": "execute_result"
    }
   ],
   "source": [
    "#Check for missing values for region_1\n",
    "region_1.isnull().sum()"
   ]
  },
  {
   "cell_type": "code",
   "execution_count": 10,
   "metadata": {},
   "outputs": [
    {
     "data": {
      "text/plain": [
       "id         0\n",
       "f0         0\n",
       "f1         0\n",
       "f2         0\n",
       "product    0\n",
       "dtype: int64"
      ]
     },
     "execution_count": 10,
     "metadata": {},
     "output_type": "execute_result"
    }
   ],
   "source": [
    "#Check for missing values for region_2\n",
    "region_2.isnull().sum()"
   ]
  },
  {
   "cell_type": "code",
   "execution_count": 11,
   "metadata": {},
   "outputs": [
    {
     "data": {
      "text/plain": [
       "0"
      ]
     },
     "execution_count": 11,
     "metadata": {},
     "output_type": "execute_result"
    }
   ],
   "source": [
    "#Check for duplicates for region_0\n",
    "region_0.duplicated().sum()"
   ]
  },
  {
   "cell_type": "code",
   "execution_count": 12,
   "metadata": {},
   "outputs": [
    {
     "data": {
      "text/plain": [
       "0"
      ]
     },
     "execution_count": 12,
     "metadata": {},
     "output_type": "execute_result"
    }
   ],
   "source": [
    "#Check for duplicates for region_1\n",
    "region_1.duplicated().sum()"
   ]
  },
  {
   "cell_type": "code",
   "execution_count": 13,
   "metadata": {},
   "outputs": [
    {
     "data": {
      "text/plain": [
       "0"
      ]
     },
     "execution_count": 13,
     "metadata": {},
     "output_type": "execute_result"
    }
   ],
   "source": [
    "#Check for duplicates for region_2\n",
    "region_2.duplicated().sum()"
   ]
  },
  {
   "cell_type": "code",
   "execution_count": 14,
   "metadata": {},
   "outputs": [],
   "source": [
    "# Define function to plot histogram to show the distribution of numerical features\n",
    "def  hist(x):\n",
    "    x.hist(figsize=(20,15),bins=30)\n",
    "    plt.show()"
   ]
  },
  {
   "cell_type": "markdown",
   "metadata": {},
   "source": [
    "Histograms are used to identify the distribution of each feature and the product."
   ]
  },
  {
   "cell_type": "code",
   "execution_count": 15,
   "metadata": {},
   "outputs": [],
   "source": [
    "# Define function to plot boxplot to identify outliers\n",
    "def boxplot(y):\n",
    "    sns.boxplot(data=y[['f0','f1','f2','product']])\n",
    "    plt.title('Boxplot to identify outliers')\n",
    "    plt.ylabel('Values')\n",
    "    plt.show()"
   ]
  },
  {
   "cell_type": "markdown",
   "metadata": {},
   "source": [
    "Boxplots helps to identify the outliers and spread of data.  A boxplot is a standardized way of displaying the dataset based on the five-number summary: the minimum, the maximum, the sample median, and the first and third quartiles."
   ]
  },
  {
   "cell_type": "code",
   "execution_count": 16,
   "metadata": {},
   "outputs": [],
   "source": [
    "#Define function to plot corelation heatmap displays corelation between quantitative features:\n",
    "def heatmap(z):\n",
    "    plt.figure(figsize=(12,10))\n",
    "    sns.heatmap(z.corr(), annot=True, fmt=\".2f\", cmap='coolwarm')\n",
    "    plt.show()"
   ]
  },
  {
   "cell_type": "markdown",
   "metadata": {},
   "source": [
    "Visualize corelation betwwen different features."
   ]
  },
  {
   "cell_type": "code",
   "execution_count": 17,
   "metadata": {},
   "outputs": [
    {
     "data": {
      "image/png": "[encoded data removed]",
      "text/plain": [
       "<Figure size 2000x1500 with 4 Axes>"
      ]
     },
     "metadata": {},
     "output_type": "display_data"
    },
    {
     "data": {
      "image/png": "[encoded data removed]",
      "text/plain": [
       "<Figure size 640x480 with 1 Axes>"
      ]
     },
     "metadata": {},
     "output_type": "display_data"
    },
    {
     "data": {
      "image/png": "[encoded data removed]",
      "text/plain": [
       "<Figure size 1200x1000 with 2 Axes>"
      ]
     },
     "metadata": {},
     "output_type": "display_data"
    }
   ],
   "source": [
    "# Plot histogram, boxplot and heatmap for region_0\n",
    "hist(region_0)\n",
    "boxplot(region_0)\n",
    "heatmap(region_0)"
   ]
  },
  {
   "cell_type": "code",
   "execution_count": 18,
   "metadata": {},
   "outputs": [
    {
     "data": {
      "image/png": "[encoded data removed]",
      "text/plain": [
       "<Figure size 2000x1500 with 4 Axes>"
      ]
     },
     "metadata": {},
     "output_type": "display_data"
    },
    {
     "data": {
      "image/png": "[encoded data removed]",
      "text/plain": [
       "<Figure size 640x480 with 1 Axes>"
      ]
     },
     "metadata": {},
     "output_type": "display_data"
    },
    {
     "data": {
      "image/png": "[encoded data removed]",
      "text/plain": [
       "<Figure size 1200x1000 with 2 Axes>"
      ]
     },
     "metadata": {},
     "output_type": "display_data"
    }
   ],
   "source": [
    "# Plot histogram, boxplot and heatmap for region_1\n",
    "hist(region_1)\n",
    "boxplot(region_1)\n",
    "heatmap(region_1)"
   ]
  },
  {
   "cell_type": "code",
   "execution_count": 20,
   "metadata": {},
   "outputs": [
    {
     "data": {
      "image/png": "[encoded data removed]",
      "text/plain": [
       "<Figure size 2000x1500 with 4 Axes>"
      ]
     },
     "metadata": {},
     "output_type": "display_data"
    },
    {
     "data": {
      "image/png": "[encoded data removed]",
      "text/plain": [
       "<Figure size 640x480 with 1 Axes>"
      ]
     },
     "metadata": {},
     "output_type": "display_data"
    },
    {
     "data": {
      "image/png": "[encoded data removed]",
      "text/plain": [
       "<Figure size 1200x1000 with 2 Axes>"
      ]
     },
     "metadata": {},
     "output_type": "display_data"
    }
   ],
   "source": [
    "# Plot histogram, boxplot and heatmap for region_2\n",
    "hist(region_2)\n",
    "boxplot(region_2)\n",
    "heatmap(region_2)"
   ]
  },
  {
   "cell_type": "markdown",
   "metadata": {},
   "source": [
    "In this stage, load all the important libraries and load the data of all regions. Also check the datatypes, missing values and any duplicate values. After preprocessing, conduct exploratory analysis of the data. Plot histogram to find the distribution of the data and boxplot to find the outliers."
   ]
  },
  {
   "cell_type": "markdown",
   "metadata": {},
   "source": [
    "### Second Stage:Train and test the model\n",
    "\n",
    "In this stage, the source data is divided into training dataset(75%) and validation set(25%). Then train the model and predict the validation set. Also find the average volume of predicted reserves and model RMSE."
   ]
  },
  {
   "cell_type": "code",
   "execution_count": 21,
   "metadata": {},
   "outputs": [],
   "source": [
    "#Function to train and test the model\n",
    "def split_scale_train(region):\n",
    "    #Splitting data into training and validation sets\n",
    "    region_train, region_valid = train_test_split(region, test_size=0.25,  random_state=12345)\n",
    "    #Separating features and target variables\n",
    "    features_train = region_train.drop(['id','product'],axis=1)\n",
    "    target_train = region_train['product']\n",
    "    features_valid = region_valid.drop(['id','product'],axis=1)\n",
    "    target_valid = region_valid['product']\n",
    "    #Defininig numerical variables for scaling\n",
    "    numeric = ['f0', 'f1', 'f2']\n",
    "    #Scaling the numeric features\n",
    "    scaler=StandardScaler()\n",
    "    scaler.fit(features_train[numeric])\n",
    "    features_train[numeric] =scaler.transform(features_train[numeric])\n",
    "    features_valid[numeric] =scaler.transform(features_valid[numeric])\n",
    "    #Training the model\n",
    "    model = LinearRegression()\n",
    "    model.fit(features_train, target_train)\n",
    "    #Making predictions on the validation set\n",
    "    predictions=model.predict(features_valid)\n",
    "    #Save the predictions and correct answers for the validation set.\n",
    "    results =pd.DataFrame({'predictions':predictions, 'actual':target_valid})                  \n",
    "    rmse =mean_squared_error(target_valid, predictions)**0.5\n",
    "    avg =predictions.mean()\n",
    "    \n",
    "    #Printing the results\n",
    "    print(f'The predictions and correct answers for the validation set is \\n {results}')\n",
    "    print(f'The model RMSE is {rmse}')\n",
    "    print(f'The average volume of predicted reserves is {avg}')\n",
    "   \n",
    "    return results, rmse,avg\n"
   ]
  },
  {
   "cell_type": "code",
   "execution_count": 22,
   "metadata": {},
   "outputs": [
    {
     "name": "stdout",
     "output_type": "stream",
     "text": [
      "The predictions and correct answers for the validation set is \n",
      "        predictions      actual\n",
      "71751    95.894952   10.038645\n",
      "80493    77.572583  114.551489\n",
      "2655     77.892640  132.603635\n",
      "53233    90.175134  169.072125\n",
      "91141    70.510088  122.325180\n",
      "...            ...         ...\n",
      "12581   103.037104  170.116726\n",
      "18456    85.403255   93.632175\n",
      "73035    61.509833  127.352259\n",
      "63834   118.180397   99.782700\n",
      "43558   118.169392  177.821022\n",
      "\n",
      "[25000 rows x 2 columns]\n",
      "The model RMSE is 37.5794217150813\n",
      "The average volume of predicted reserves is 92.59256778438035\n"
     ]
    }
   ],
   "source": [
    "#For region_0\n",
    "results, rmse,avg = split_scale_train(region_0)"
   ]
  },
  {
   "cell_type": "code",
   "execution_count": 23,
   "metadata": {},
   "outputs": [],
   "source": [
    "#Save the predictions and correct answers for the validation set for region 0\n",
    "predictive_model_0=results"
   ]
  },
  {
   "cell_type": "code",
   "execution_count": 24,
   "metadata": {},
   "outputs": [
    {
     "name": "stdout",
     "output_type": "stream",
     "text": [
      "The predictions and correct answers for the validation set is \n",
      "        predictions      actual\n",
      "71751    82.663314   80.859783\n",
      "80493    54.431786   53.906522\n",
      "2655     29.748760   30.132364\n",
      "53233    53.552133   53.906522\n",
      "91141     1.243856    0.000000\n",
      "...            ...         ...\n",
      "12581   136.869211  137.945408\n",
      "18456   110.693465  110.992147\n",
      "73035   137.879341  137.945408\n",
      "63834    83.761966   84.038886\n",
      "43558    53.958466   53.906522\n",
      "\n",
      "[25000 rows x 2 columns]\n",
      "The model RMSE is 0.893099286775617\n",
      "The average volume of predicted reserves is 68.728546895446\n"
     ]
    }
   ],
   "source": [
    "#For region_1\n",
    "results, rmse,avg=split_scale_train(region_1)"
   ]
  },
  {
   "cell_type": "code",
   "execution_count": 25,
   "metadata": {},
   "outputs": [],
   "source": [
    "#Save the predictions and correct answers for the validation set for region 1\n",
    "predictive_model_1=results"
   ]
  },
  {
   "cell_type": "code",
   "execution_count": 26,
   "metadata": {},
   "outputs": [
    {
     "name": "stdout",
     "output_type": "stream",
     "text": [
      "The predictions and correct answers for the validation set is \n",
      "        predictions      actual\n",
      "71751    93.599633   61.212375\n",
      "80493    75.105159   41.850118\n",
      "2655     90.066809   57.776581\n",
      "53233   105.162375  100.053761\n",
      "91141   115.303310  109.897122\n",
      "...            ...         ...\n",
      "12581    78.765887   28.492402\n",
      "18456    95.603394   21.431303\n",
      "73035    99.407281  125.487229\n",
      "63834    77.779912   99.422903\n",
      "43558   129.032417  127.445075\n",
      "\n",
      "[25000 rows x 2 columns]\n",
      "The model RMSE is 40.02970873393434\n",
      "The average volume of predicted reserves is 94.96504596800489\n"
     ]
    }
   ],
   "source": [
    "#For region_2\n",
    "results, rmse,avg=split_scale_train(region_2)"
   ]
  },
  {
   "cell_type": "code",
   "execution_count": 27,
   "metadata": {},
   "outputs": [],
   "source": [
    "#Save the predictions and correct answers for the validation set for region 2\n",
    "predictive_model_2=results"
   ]
  },
  {
   "cell_type": "markdown",
   "metadata": {},
   "source": [
    "### Third Stage:Calculate profit"
   ]
  },
  {
   "cell_type": "markdown",
   "metadata": {},
   "source": [
    "In this stage store all key values for calculations in separate variables.Then calculate the volume of reserves sufficient for developing a new well without losses. Compare the obtained value with the average volume of reserves in each region.Provide the findings about the preparation for profit calculation step."
   ]
  },
  {
   "cell_type": "code",
   "execution_count": 28,
   "metadata": {},
   "outputs": [],
   "source": [
    "# Identify all key values for calculations \n",
    "budget = 100000000\n",
    "revenue_per_barrel = 4500\n",
    "wells =200"
   ]
  },
  {
   "cell_type": "code",
   "execution_count": 29,
   "metadata": {},
   "outputs": [
    {
     "name": "stdout",
     "output_type": "stream",
     "text": [
      "The volume of reserves sufficient for developing a new well without losses is 111.11111111111111\n"
     ]
    }
   ],
   "source": [
    "# Calculate the volume of reserves sufficient for developing a new well without losses.\n",
    "volume_of_reserves = budget/(revenue_per_barrel * wells)\n",
    "print(f'The volume of reserves sufficient for developing a new well without losses is {volume_of_reserves}')"
   ]
  },
  {
   "cell_type": "code",
   "execution_count": 30,
   "metadata": {},
   "outputs": [],
   "source": [
    "#Compare the obtained value with the average volume of reserves in each region.\n",
    "def avg_volume(region):\n",
    "    avg_volume=region['product'].mean()\n",
    "    print(f'The average volume for region is {avg_volume}')\n",
    "    if avg_volume > volume_of_reserves:\n",
    "        print('Meet the requirement')\n",
    "    else:\n",
    "        print('Not met the requirement')"
   ]
  },
  {
   "cell_type": "code",
   "execution_count": 31,
   "metadata": {},
   "outputs": [
    {
     "name": "stdout",
     "output_type": "stream",
     "text": [
      "The average volume for region is 92.50000000000001\n",
      "Not met the requirement\n"
     ]
    }
   ],
   "source": [
    "#For region_0\n",
    "avg_volume(region_0)"
   ]
  },
  {
   "cell_type": "code",
   "execution_count": 32,
   "metadata": {},
   "outputs": [
    {
     "name": "stdout",
     "output_type": "stream",
     "text": [
      "The average volume for region is 68.82500000000002\n",
      "Not met the requirement\n"
     ]
    }
   ],
   "source": [
    "#For region_1\n",
    "avg_volume(region_1)"
   ]
  },
  {
   "cell_type": "code",
   "execution_count": 33,
   "metadata": {},
   "outputs": [
    {
     "name": "stdout",
     "output_type": "stream",
     "text": [
      "The average volume for region is 95.00000000000004\n",
      "Not met the requirement\n"
     ]
    }
   ],
   "source": [
    "#For region_2\n",
    "avg_volume(region_2)"
   ]
  },
  {
   "cell_type": "markdown",
   "metadata": {},
   "source": [
    "Our comparison shown that none of the regions have an average reserves volume that meets or exceeds the required volume of reserves 111.11 thousand barrels. However, Region 2 has the closest average reserves 95 thousand barrels to the required volume.So region 2 is promising, but before finalizing we want to perform profit calculation and risk analysis."
   ]
  },
  {
   "cell_type": "markdown",
   "metadata": {},
   "source": [
    "### Fourth Stage:Calculate profit from a set of selected oil wells and model predictions"
   ]
  },
  {
   "cell_type": "markdown",
   "metadata": {},
   "source": [
    "In this stage Write a function to calculate profit from a set of selected oil wells and model predictions:\n",
    "- Pick the wells with the highest values of predictions. \n",
    "- Summarize the target volume of reserves in accordance with these predictions\n",
    "- Provide findings: suggest a region for oil wells' development and justify the choice. Calculate the profit for the obtained volume of reserves."
   ]
  },
  {
   "cell_type": "code",
   "execution_count": 34,
   "metadata": {},
   "outputs": [],
   "source": [
    "def profit(predictive_model):\n",
    "    #Top 200 from the model\n",
    "    top_200=predictive_model.sort_values(by='predictions', ascending=False).head(200)\n",
    "    #Calculate profit\n",
    "    total_reserves =top_200['actual'].sum()\n",
    "    profit=total_reserves*revenue_per_barrel - budget\n",
    "    \n",
    "    return profit"
   ]
  },
  {
   "cell_type": "code",
   "execution_count": 35,
   "metadata": {},
   "outputs": [
    {
     "name": "stdout",
     "output_type": "stream",
     "text": [
      "The profit for obtained volume of reserves 33208260.43139851\n"
     ]
    }
   ],
   "source": [
    "#For region_0\n",
    "print(f'The profit for obtained volume of reserves {profit(predictive_model_0)}')"
   ]
  },
  {
   "cell_type": "code",
   "execution_count": 36,
   "metadata": {},
   "outputs": [
    {
     "name": "stdout",
     "output_type": "stream",
     "text": [
      "The profit for obtained volume of reserves 24150866.966815114\n"
     ]
    }
   ],
   "source": [
    "#For region_1\n",
    "print(f'The profit for obtained volume of reserves {profit(predictive_model_1)}')"
   ]
  },
  {
   "cell_type": "code",
   "execution_count": 37,
   "metadata": {},
   "outputs": [
    {
     "name": "stdout",
     "output_type": "stream",
     "text": [
      "The profit for obtained volume of reserves 27103499.635998324\n"
     ]
    }
   ],
   "source": [
    "#For region_2\n",
    "print(f'The profit for obtained volume of reserves {profit(predictive_model_2)}')"
   ]
  },
  {
   "cell_type": "markdown",
   "metadata": {},
   "source": [
    "In this stage, we pick the wells with highest value of predictions and calculate the profit for each region. The obtained profit for volume of reserves is \n",
    "- For region 0 :33208260.43139851\n",
    "- For region 1 :24150866.966815114\n",
    "- For region 2 :27103499.635998324\n",
    "\n",
    "From the above values, region 0 obtains highest profit and we can select that region for well\"s development."
   ]
  },
  {
   "cell_type": "markdown",
   "metadata": {},
   "source": [
    "### Fifth stage:Calculate risks and profit for each region"
   ]
  },
  {
   "cell_type": "markdown",
   "metadata": {},
   "source": [
    "In this stage calculate risks and profit for each region:\n",
    "- Use the bootstrapping technique with 1000 samples to find the distribution of profit.\n",
    "- Find average profit, 95% confidence interval and risk of losses. Loss is negative profit, calculate it as a probability and then express as a percentage.\n",
    "- Provide findings: suggest a region for development of oil wells and justify the choice."
   ]
  },
  {
   "cell_type": "code",
   "execution_count": 42,
   "metadata": {},
   "outputs": [],
   "source": [
    "def bootstrap_profit(predictive_model, num_iterations=1000):\n",
    "    profits = []  # List to store profits from each iteration\n",
    "\n",
    "    for _ in range(num_iterations):\n",
    "        # Sample with replacement\n",
    "        bootstrap_sample = predictive_model.sample(\n",
    "            n=500,  # Sample the same size as the data\n",
    "            replace=True\n",
    "        )\n",
    "        \n",
    "        # Sort by predictions and select top 200 wells\n",
    "        top_200 = bootstrap_sample.sort_values(\n",
    "            by='predictions', \n",
    "            ascending=False\n",
    "        ).head(200)\n",
    "        \n",
    "        # Calculate total actual reserves from those top 200 wells\n",
    "        total_reserves = top_200['actual'].sum()\n",
    "      \n",
    "\n",
    "        # Calculate profit: reserves * price per unit - fixed costs\n",
    "        profit = total_reserves * 4500 - 100_000_000\n",
    "       \n",
    "        profits.append(profit)\n",
    "\n",
    "    # After collecting all profits, calculate the statistics:\n",
    "    mean_profit = np.mean(profits)  # Average profit\n",
    "    lower_bound = np.percentile(profits, 2.5)  # 2.5th percentile (lower bound of 95% CI)\n",
    "    upper_bound = np.percentile(profits, 97.5)  # 97.5th percentile (upper bound of 95% CI)\n",
    "\n",
    "    # Calculate risk of loss: proportion of negative profits\n",
    "    risk_of_loss = (np.array(profits) < 0).mean() * 100  # Expressed as a percentage\n",
    "\n",
    "    return mean_profit, lower_bound, upper_bound, risk_of_loss"
   ]
  },
  {
   "cell_type": "code",
   "execution_count": 43,
   "metadata": {},
   "outputs": [
    {
     "name": "stdout",
     "output_type": "stream",
     "text": [
      "Mean Profit: 3785654.40\n",
      "95% Confidence Interval: (-1259770.57, 8810359.37)\n",
      "Risk of Loss: 7.40%\n"
     ]
    }
   ],
   "source": [
    "predictive_model = predictive_model_0\n",
    "\n",
    "# Call the function to get profit distribution metrics\n",
    "mean_profit, lower_bound, upper_bound, risk_of_loss = bootstrap_profit(predictive_model, num_iterations=1000)\n",
    "\n",
    "# Output the results\n",
    "print(f\"Mean Profit: {mean_profit:.2f}\")\n",
    "print(f\"95% Confidence Interval: ({lower_bound:.2f}, {upper_bound:.2f})\")\n",
    "print(f\"Risk of Loss: {risk_of_loss:.2f}%\")"
   ]
  },
  {
   "cell_type": "code",
   "execution_count": 44,
   "metadata": {},
   "outputs": [
    {
     "name": "stdout",
     "output_type": "stream",
     "text": [
      "Mean Profit: 4544409.72\n",
      "95% Confidence Interval: (516889.66, 8494640.26)\n",
      "Risk of Loss: 1.10%\n"
     ]
    }
   ],
   "source": [
    "predictive_model = predictive_model_1\n",
    "# Call the function to get profit distribution metrics\n",
    "mean_profit, lower_bound, upper_bound, risk_of_loss = bootstrap_profit(predictive_model, num_iterations=1000)\n",
    "\n",
    "# Output the results\n",
    "print(f\"Mean Profit: {mean_profit:.2f}\")\n",
    "print(f\"95% Confidence Interval: ({lower_bound:.2f}, {upper_bound:.2f})\")\n",
    "print(f\"Risk of Loss: {risk_of_loss:.2f}%\")"
   ]
  },
  {
   "cell_type": "code",
   "execution_count": 45,
   "metadata": {},
   "outputs": [
    {
     "name": "stdout",
     "output_type": "stream",
     "text": [
      "Mean Profit: 3958374.99\n",
      "95% Confidence Interval: (-1329148.35, 8942343.32)\n",
      "Risk of Loss: 6.60%\n"
     ]
    }
   ],
   "source": [
    "predictive_model = predictive_model_2\n",
    "# Call the function to get profit distribution metrics\n",
    "mean_profit, lower_bound, upper_bound, risk_of_loss = bootstrap_profit(predictive_model, num_iterations=1000)\n",
    "\n",
    "# Output the results\n",
    "print(f\"Mean Profit: {mean_profit:.2f}\")\n",
    "print(f\"95% Confidence Interval: ({lower_bound:.2f}, {upper_bound:.2f})\")\n",
    "print(f\"Risk of Loss: {risk_of_loss:.2f}%\")"
   ]
  },
  {
   "cell_type": "markdown",
   "metadata": {},
   "source": [
    "\n",
    "In this stage we calculate risks and profit for each region:The obtained mean profit for each region is \n",
    "- For region 0 :3785654.40\n",
    "- For region 1 :4544409.72\n",
    "- For region 2 :3958374.99\n",
    "\n",
    "The risk of loss for each region is \n",
    "- For region 0 :7.4%\n",
    "- For region 1 :1.10%\n",
    "- For region 2 :6.60%\n",
    "\n",
    "From the above values, region 1 obtains highest profit and risk of loss less than 2.5% and we can select that region for well\"s development."
   ]
  },
  {
   "cell_type": "markdown",
   "metadata": {},
   "source": [
    "## Conclusion:\n",
    "\n",
    "Our project is for the OilyGiant mining company to find the best place for a new well.We have data on oil samples from three regions. Parameters of each oil well in the region are already known. Our aim is to build a model that will help to pick the region with the highest profit margin. Analyze potential profit and risks using the Bootstrapping technique.This project consists of following steps:\n",
    " - Data loading and preprocessing\n",
    " - Train and test the model\n",
    " - Calculate profit\n",
    " - Calculate profit from a set of selected oil wells and model predictions\n",
    " - Calculate risks and profit for each region\n",
    "\n",
    "In the first stage, we initialize the data and load all the libraries to perform the task. After that we preprocess the data and check whether any duplicates or missing values. Then conduct the exploratory data analysis and plot\n",
    " - Histograms  to identify the distribution of each feature and the product.\n",
    " - Boxplots to identify the outliers and spread of data.\n",
    " - Heatmaps to visualize corelation betwwen different features.\n",
    "\n",
    "In the second stage, the source data is divided into training dataset(75%) and validation set(25%). Then train the model and predict the validation set. Also find the average volume of predicted reserves and model RMSE.\n",
    " - For region_0\n",
    "     * The model RMSE is 37.5794217150813\n",
    "     * The average volume of predicted reserves is 92.59256778438035\n",
    " - For region_1 \n",
    "     * The model RMSE is 0.893099286775617\n",
    "     * The average volume of predicted reserves is 68.728546895446\n",
    " - For region_2\n",
    "     * The model RMSE is 40.02970873393434\n",
    "     * The average volume of predicted reserves is 94.96504596800489 \n",
    "   \n",
    "In the third stage, store all key values for calculations in separate variables.Then calculate the volume of reserves sufficient for developing a new well without losses. Compare the obtained value with the average volume of reserves in each region. Our comparison shown that none of the regions have an average reserves volume that meets or exceeds the required volume of reserves 111.11 thousand barrels. However, Region 2 has the closest average reserves 95 thousand barrels to the required volume.So region 2 is promising, but before finalizing we want to perform profit calculation and risk analysis.\n",
    "   \n",
    "In the fourth stage, calculate profit from a set of selected oil wells and model predictions. In this stage, we pick the wells with highest value of predictions and calculate the profit for each region. The obtained profit for volume of reserves is \n",
    "- For region 0 :33208260.43139851\n",
    "- For region 1 :24150866.966815114\n",
    "- For region 2 :27103499.635998324\n",
    "\n",
    "From the above values, region 0 obtains highest profit and we can select that region for well\"s development.\n",
    "\n",
    "In the fifth satge, calculate risks and profit for each region. For this, use the bootstrapping technique with 1000 samples to find the distribution of profit.Find average profit, 95% confidence interval and risk of losses. \n",
    "The obtained mean profit for each region is \n",
    "- For region 0 :3785654.40\n",
    "- For region 1 :4544409.72\n",
    "- For region 2 :3958374.99\n",
    "\n",
    "The risk of loss for each region is \n",
    "- For region 0 :7.4%\n",
    "- For region 1 :1.10%\n",
    "- For region 2 :6.60%\n",
    "\n",
    "From the above values, region 1 obtains highest profit and risk of loss less than 2.5% and we can select that region for well\"s development."
   ]
  },
  {
   "cell_type": "code",
   "execution_count": null,
   "metadata": {},
   "outputs": [],
   "source": []
  }
 ],
 "metadata": {
  "ExecuteTimeLog": [
   {
    "duration": 282,
    "start_time": "2025-04-04T17:44:49.589Z"
   },
   {
    "duration": 551,
    "start_time": "2025-04-04T17:44:50.284Z"
   },
   {
    "duration": 115,
    "start_time": "2025-04-04T17:45:00.515Z"
   },
   {
    "duration": 124,
    "start_time": "2025-04-04T17:45:40.637Z"
   },
   {
    "duration": 119,
    "start_time": "2025-04-04T17:46:04.009Z"
   },
   {
    "duration": 12,
    "start_time": "2025-04-04T18:12:03.269Z"
   },
   {
    "duration": 12,
    "start_time": "2025-04-04T18:12:45.278Z"
   },
   {
    "duration": 11,
    "start_time": "2025-04-04T18:12:54.467Z"
   },
   {
    "duration": 80,
    "start_time": "2025-04-04T18:12:58.054Z"
   },
   {
    "duration": 80,
    "start_time": "2025-04-04T18:13:01.214Z"
   },
   {
    "duration": 280,
    "start_time": "2025-04-04T18:13:18.176Z"
   },
   {
    "duration": 298,
    "start_time": "2025-04-04T18:13:19.062Z"
   },
   {
    "duration": 84,
    "start_time": "2025-04-04T18:13:26.785Z"
   },
   {
    "duration": 79,
    "start_time": "2025-04-04T18:13:29.712Z"
   },
   {
    "duration": 78,
    "start_time": "2025-04-04T18:13:34.622Z"
   },
   {
    "duration": 23,
    "start_time": "2025-04-04T18:13:38.071Z"
   },
   {
    "duration": 16,
    "start_time": "2025-04-04T18:13:43.058Z"
   },
   {
    "duration": 15,
    "start_time": "2025-04-04T18:13:58.682Z"
   },
   {
    "duration": 14,
    "start_time": "2025-04-04T18:15:09.967Z"
   },
   {
    "duration": 14,
    "start_time": "2025-04-04T18:15:32.855Z"
   },
   {
    "duration": 15,
    "start_time": "2025-04-04T18:16:12.874Z"
   },
   {
    "duration": 7,
    "start_time": "2025-04-04T18:16:45.250Z"
   },
   {
    "duration": 6,
    "start_time": "2025-04-04T18:17:08.792Z"
   },
   {
    "duration": 8,
    "start_time": "2025-04-04T18:17:09.715Z"
   },
   {
    "duration": 8,
    "start_time": "2025-04-04T18:17:30.609Z"
   },
   {
    "duration": 9,
    "start_time": "2025-04-04T18:17:31.609Z"
   },
   {
    "duration": 8,
    "start_time": "2025-04-04T18:17:34.517Z"
   },
   {
    "duration": 9,
    "start_time": "2025-04-04T18:18:51.819Z"
   },
   {
    "duration": 34,
    "start_time": "2025-04-04T18:19:29.110Z"
   },
   {
    "duration": 30,
    "start_time": "2025-04-04T18:19:41.680Z"
   },
   {
    "duration": 31,
    "start_time": "2025-04-04T18:19:56.211Z"
   },
   {
    "duration": 1815,
    "start_time": "2025-04-04T18:22:11.187Z"
   },
   {
    "duration": 503,
    "start_time": "2025-04-04T18:22:17.083Z"
   },
   {
    "duration": 26,
    "start_time": "2025-04-04T18:22:59.415Z"
   },
   {
    "duration": 471,
    "start_time": "2025-04-04T18:23:34.398Z"
   },
   {
    "duration": 337,
    "start_time": "2025-04-04T18:23:38.906Z"
   },
   {
    "duration": 410,
    "start_time": "2025-04-04T18:24:05.716Z"
   },
   {
    "duration": 285,
    "start_time": "2025-04-04T18:24:18.493Z"
   },
   {
    "duration": 6,
    "start_time": "2025-04-04T18:25:26.249Z"
   },
   {
    "duration": 121,
    "start_time": "2025-04-04T18:25:31.317Z"
   },
   {
    "duration": 138,
    "start_time": "2025-04-04T18:26:07.260Z"
   },
   {
    "duration": 131,
    "start_time": "2025-04-04T18:26:19.573Z"
   },
   {
    "duration": 2479,
    "start_time": "2025-04-04T22:51:12.278Z"
   },
   {
    "duration": 110,
    "start_time": "2025-04-04T22:51:14.761Z"
   },
   {
    "duration": 107,
    "start_time": "2025-04-04T22:51:14.873Z"
   },
   {
    "duration": 104,
    "start_time": "2025-04-04T22:51:16.547Z"
   },
   {
    "duration": 13,
    "start_time": "2025-04-04T22:51:20.686Z"
   },
   {
    "duration": 11,
    "start_time": "2025-04-04T22:51:21.350Z"
   },
   {
    "duration": 10,
    "start_time": "2025-04-04T22:51:22.077Z"
   },
   {
    "duration": 8,
    "start_time": "2025-04-04T22:51:24.622Z"
   },
   {
    "duration": 8,
    "start_time": "2025-04-04T22:51:25.211Z"
   },
   {
    "duration": 9,
    "start_time": "2025-04-04T22:51:26.008Z"
   },
   {
    "duration": 34,
    "start_time": "2025-04-04T22:51:28.820Z"
   },
   {
    "duration": 31,
    "start_time": "2025-04-04T22:51:30.428Z"
   },
   {
    "duration": 39,
    "start_time": "2025-04-04T22:51:31.599Z"
   },
   {
    "duration": 2,
    "start_time": "2025-04-04T22:52:35.606Z"
   },
   {
    "duration": 466,
    "start_time": "2025-04-04T22:52:37.076Z"
   },
   {
    "duration": 3,
    "start_time": "2025-04-04T22:54:15.111Z"
   },
   {
    "duration": 3,
    "start_time": "2025-04-04T22:54:20.503Z"
   },
   {
    "duration": 3,
    "start_time": "2025-04-04T22:54:27.967Z"
   },
   {
    "duration": 3,
    "start_time": "2025-04-04T22:55:48.105Z"
   },
   {
    "duration": 273,
    "start_time": "2025-04-04T22:56:07.775Z"
   },
   {
    "duration": 3,
    "start_time": "2025-04-04T22:59:17.427Z"
   },
   {
    "duration": 665,
    "start_time": "2025-04-04T22:59:36.585Z"
   },
   {
    "duration": 2,
    "start_time": "2025-04-04T22:59:48.829Z"
   },
   {
    "duration": 116,
    "start_time": "2025-04-04T22:59:51.425Z"
   },
   {
    "duration": 5,
    "start_time": "2025-04-04T23:01:41.987Z"
   },
   {
    "duration": 5,
    "start_time": "2025-04-04T23:03:31.763Z"
   },
   {
    "duration": 4,
    "start_time": "2025-04-04T23:04:56.505Z"
   },
   {
    "duration": 582,
    "start_time": "2025-04-04T23:05:02.991Z"
   },
   {
    "duration": 3,
    "start_time": "2025-04-04T23:05:25.006Z"
   },
   {
    "duration": 593,
    "start_time": "2025-04-04T23:05:31.911Z"
   },
   {
    "duration": 602,
    "start_time": "2025-04-04T23:05:59.834Z"
   },
   {
    "duration": 8,
    "start_time": "2025-04-04T23:06:32.034Z"
   },
   {
    "duration": 3,
    "start_time": "2025-04-04T23:08:26.200Z"
   },
   {
    "duration": 642,
    "start_time": "2025-04-04T23:08:29.196Z"
   },
   {
    "duration": 3,
    "start_time": "2025-04-04T23:09:43.468Z"
   },
   {
    "duration": 123,
    "start_time": "2025-04-04T23:09:46.508Z"
   },
   {
    "duration": 3,
    "start_time": "2025-04-04T23:09:53.719Z"
   },
   {
    "duration": 3,
    "start_time": "2025-04-04T23:19:59.863Z"
   },
   {
    "duration": 3,
    "start_time": "2025-04-04T23:20:02.502Z"
   },
   {
    "duration": 3,
    "start_time": "2025-04-04T23:20:05.356Z"
   },
   {
    "duration": 935,
    "start_time": "2025-04-04T23:20:08.500Z"
   },
   {
    "duration": 1020,
    "start_time": "2025-04-04T23:20:45.051Z"
   },
   {
    "duration": 906,
    "start_time": "2025-04-04T23:21:14.257Z"
   },
   {
    "duration": 133,
    "start_time": "2025-04-04T23:27:54.431Z"
   },
   {
    "duration": 25,
    "start_time": "2025-04-04T23:32:26.160Z"
   },
   {
    "duration": 191,
    "start_time": "2025-04-04T23:32:35.571Z"
   },
   {
    "duration": 11,
    "start_time": "2025-04-04T23:33:04.454Z"
   },
   {
    "duration": 45,
    "start_time": "2025-04-04T23:33:47.561Z"
   },
   {
    "duration": 11,
    "start_time": "2025-04-04T23:34:31.561Z"
   },
   {
    "duration": 5,
    "start_time": "2025-04-04T23:35:45.731Z"
   },
   {
    "duration": 17,
    "start_time": "2025-04-04T23:36:17.925Z"
   },
   {
    "duration": 55,
    "start_time": "2025-04-04T23:37:31.527Z"
   },
   {
    "duration": 19,
    "start_time": "2025-04-04T23:37:41.084Z"
   },
   {
    "duration": 9,
    "start_time": "2025-04-04T23:39:04.257Z"
   },
   {
    "duration": 4,
    "start_time": "2025-04-04T23:40:48.650Z"
   },
   {
    "duration": 14,
    "start_time": "2025-04-04T23:41:54.954Z"
   },
   {
    "duration": 3,
    "start_time": "2025-04-04T23:42:07.883Z"
   },
   {
    "duration": 4,
    "start_time": "2025-04-04T23:45:19.924Z"
   },
   {
    "duration": 4,
    "start_time": "2025-04-04T23:46:56.682Z"
   },
   {
    "duration": 6,
    "start_time": "2025-04-04T23:48:10.385Z"
   },
   {
    "duration": 4,
    "start_time": "2025-04-04T23:55:06.008Z"
   },
   {
    "duration": 4,
    "start_time": "2025-04-04T23:55:48.462Z"
   },
   {
    "duration": 16,
    "start_time": "2025-04-04T23:57:35.233Z"
   },
   {
    "duration": 16,
    "start_time": "2025-04-04T23:57:59.986Z"
   },
   {
    "duration": 15,
    "start_time": "2025-04-04T23:58:06.731Z"
   },
   {
    "duration": 3,
    "start_time": "2025-04-04T23:58:26.787Z"
   },
   {
    "duration": 5,
    "start_time": "2025-04-04T23:58:31.589Z"
   },
   {
    "duration": 2657,
    "start_time": "2025-04-07T15:55:38.209Z"
   },
   {
    "duration": 116,
    "start_time": "2025-04-07T15:55:40.868Z"
   },
   {
    "duration": 135,
    "start_time": "2025-04-07T15:55:42.957Z"
   },
   {
    "duration": 106,
    "start_time": "2025-04-07T15:55:45.763Z"
   },
   {
    "duration": 18,
    "start_time": "2025-04-07T15:55:50.144Z"
   },
   {
    "duration": 12,
    "start_time": "2025-04-07T15:55:50.876Z"
   },
   {
    "duration": 14,
    "start_time": "2025-04-07T15:55:51.846Z"
   },
   {
    "duration": 9,
    "start_time": "2025-04-07T15:55:55.011Z"
   },
   {
    "duration": 10,
    "start_time": "2025-04-07T15:55:55.653Z"
   },
   {
    "duration": 9,
    "start_time": "2025-04-07T15:55:56.166Z"
   },
   {
    "duration": 36,
    "start_time": "2025-04-07T15:55:57.777Z"
   },
   {
    "duration": 31,
    "start_time": "2025-04-07T15:56:01.373Z"
   },
   {
    "duration": 43,
    "start_time": "2025-04-07T15:56:01.848Z"
   },
   {
    "duration": 4,
    "start_time": "2025-04-07T15:56:04.119Z"
   },
   {
    "duration": 3,
    "start_time": "2025-04-07T15:56:06.776Z"
   },
   {
    "duration": 3,
    "start_time": "2025-04-07T15:56:09.161Z"
   },
   {
    "duration": 1027,
    "start_time": "2025-04-07T15:56:12.264Z"
   },
   {
    "duration": 1068,
    "start_time": "2025-04-07T15:56:18.090Z"
   },
   {
    "duration": 1023,
    "start_time": "2025-04-07T15:56:22.371Z"
   },
   {
    "duration": 10,
    "start_time": "2025-04-07T15:56:26.930Z"
   },
   {
    "duration": 15,
    "start_time": "2025-04-07T15:56:27.908Z"
   },
   {
    "duration": 12,
    "start_time": "2025-04-07T15:56:28.962Z"
   },
   {
    "duration": 6,
    "start_time": "2025-04-07T15:56:31.962Z"
   },
   {
    "duration": 3,
    "start_time": "2025-04-07T16:03:45.254Z"
   },
   {
    "duration": 239,
    "start_time": "2025-04-07T16:05:05.423Z"
   },
   {
    "duration": 112,
    "start_time": "2025-04-07T16:06:13.054Z"
   },
   {
    "duration": 8,
    "start_time": "2025-04-07T16:06:15.492Z"
   },
   {
    "duration": 4,
    "start_time": "2025-04-07T16:06:38.146Z"
   },
   {
    "duration": 205,
    "start_time": "2025-04-07T16:06:44.737Z"
   },
   {
    "duration": 9,
    "start_time": "2025-04-07T16:06:46.813Z"
   },
   {
    "duration": 282,
    "start_time": "2025-04-07T16:06:47.451Z"
   },
   {
    "duration": 22,
    "start_time": "2025-04-07T16:08:01.348Z"
   },
   {
    "duration": 4,
    "start_time": "2025-04-07T16:08:12.424Z"
   },
   {
    "duration": 99,
    "start_time": "2025-04-07T16:08:12.884Z"
   },
   {
    "duration": 98,
    "start_time": "2025-04-07T16:08:15.034Z"
   },
   {
    "duration": 102,
    "start_time": "2025-04-07T16:08:17.267Z"
   },
   {
    "duration": 12,
    "start_time": "2025-04-07T16:08:24.476Z"
   },
   {
    "duration": 16,
    "start_time": "2025-04-07T16:08:25.012Z"
   },
   {
    "duration": 6,
    "start_time": "2025-04-07T16:08:26.195Z"
   },
   {
    "duration": 23,
    "start_time": "2025-04-07T16:08:27.568Z"
   },
   {
    "duration": 20,
    "start_time": "2025-04-07T16:08:34.291Z"
   },
   {
    "duration": 7,
    "start_time": "2025-04-07T16:08:46.048Z"
   },
   {
    "duration": 101,
    "start_time": "2025-04-07T16:08:46.506Z"
   },
   {
    "duration": 96,
    "start_time": "2025-04-07T16:08:48.301Z"
   },
   {
    "duration": 117,
    "start_time": "2025-04-07T16:08:50.206Z"
   },
   {
    "duration": 11,
    "start_time": "2025-04-07T16:08:53.595Z"
   },
   {
    "duration": 11,
    "start_time": "2025-04-07T16:08:54.096Z"
   },
   {
    "duration": 14,
    "start_time": "2025-04-07T16:08:54.481Z"
   },
   {
    "duration": 8,
    "start_time": "2025-04-07T16:08:56.720Z"
   },
   {
    "duration": 11,
    "start_time": "2025-04-07T16:08:57.141Z"
   },
   {
    "duration": 8,
    "start_time": "2025-04-07T16:08:57.600Z"
   },
   {
    "duration": 51,
    "start_time": "2025-04-07T16:08:58.347Z"
   },
   {
    "duration": 50,
    "start_time": "2025-04-07T16:09:00.124Z"
   },
   {
    "duration": 44,
    "start_time": "2025-04-07T16:09:00.632Z"
   },
   {
    "duration": 6,
    "start_time": "2025-04-07T16:09:01.160Z"
   },
   {
    "duration": 7,
    "start_time": "2025-04-07T16:09:02.359Z"
   },
   {
    "duration": 3,
    "start_time": "2025-04-07T16:09:03.303Z"
   },
   {
    "duration": 12,
    "start_time": "2025-04-07T16:09:09.305Z"
   },
   {
    "duration": 18,
    "start_time": "2025-04-07T16:09:09.906Z"
   },
   {
    "duration": 6,
    "start_time": "2025-04-07T16:09:10.539Z"
   },
   {
    "duration": 4,
    "start_time": "2025-04-07T16:09:11.509Z"
   },
   {
    "duration": 12,
    "start_time": "2025-04-07T16:09:19.670Z"
   },
   {
    "duration": 15,
    "start_time": "2025-04-07T16:09:20.927Z"
   },
   {
    "duration": 3,
    "start_time": "2025-04-07T16:21:52.918Z"
   },
   {
    "duration": 5,
    "start_time": "2025-04-07T16:27:11.446Z"
   },
   {
    "duration": 59,
    "start_time": "2025-04-07T16:27:12.687Z"
   },
   {
    "duration": 4,
    "start_time": "2025-04-07T16:27:37.894Z"
   },
   {
    "duration": 40,
    "start_time": "2025-04-07T16:27:38.610Z"
   },
   {
    "duration": 37,
    "start_time": "2025-04-07T16:28:18.625Z"
   },
   {
    "duration": 37,
    "start_time": "2025-04-07T16:28:30.329Z"
   },
   {
    "duration": 4,
    "start_time": "2025-04-07T16:29:11.305Z"
   },
   {
    "duration": 6,
    "start_time": "2025-04-07T16:29:24.589Z"
   },
   {
    "duration": 88,
    "start_time": "2025-04-07T16:29:26.457Z"
   },
   {
    "duration": 5,
    "start_time": "2025-04-07T16:30:25.358Z"
   },
   {
    "duration": 34,
    "start_time": "2025-04-07T16:30:27.565Z"
   },
   {
    "duration": 5,
    "start_time": "2025-04-07T16:33:24.368Z"
   },
   {
    "duration": 35,
    "start_time": "2025-04-07T16:33:26.608Z"
   },
   {
    "duration": 7,
    "start_time": "2025-04-07T16:34:54.195Z"
   },
   {
    "duration": 5,
    "start_time": "2025-04-07T16:36:34.502Z"
   },
   {
    "duration": 70,
    "start_time": "2025-04-07T16:36:36.084Z"
   },
   {
    "duration": 7,
    "start_time": "2025-04-07T16:36:45.530Z"
   },
   {
    "duration": 32,
    "start_time": "2025-04-07T16:36:48.990Z"
   },
   {
    "duration": 33,
    "start_time": "2025-04-07T16:37:29.217Z"
   },
   {
    "duration": 32,
    "start_time": "2025-04-07T16:37:31.744Z"
   },
   {
    "duration": 10,
    "start_time": "2025-04-07T16:40:44.638Z"
   },
   {
    "duration": 5,
    "start_time": "2025-04-07T16:41:21.580Z"
   },
   {
    "duration": 6,
    "start_time": "2025-04-07T16:41:54.008Z"
   },
   {
    "duration": 5,
    "start_time": "2025-04-07T16:42:21.106Z"
   },
   {
    "duration": 47,
    "start_time": "2025-04-07T16:42:22.937Z"
   },
   {
    "duration": 5,
    "start_time": "2025-04-07T16:43:35.003Z"
   },
   {
    "duration": 5,
    "start_time": "2025-04-07T16:43:46.629Z"
   },
   {
    "duration": 7,
    "start_time": "2025-04-07T16:44:03.998Z"
   },
   {
    "duration": 6,
    "start_time": "2025-04-07T16:44:11.908Z"
   },
   {
    "duration": 5,
    "start_time": "2025-04-07T16:44:31.245Z"
   },
   {
    "duration": 7,
    "start_time": "2025-04-07T16:44:53.994Z"
   },
   {
    "duration": 4,
    "start_time": "2025-04-07T16:45:06.529Z"
   },
   {
    "duration": 5,
    "start_time": "2025-04-07T16:45:09.211Z"
   },
   {
    "duration": 5,
    "start_time": "2025-04-07T16:45:20.000Z"
   },
   {
    "duration": 7,
    "start_time": "2025-04-07T16:45:34.176Z"
   },
   {
    "duration": 999,
    "start_time": "2025-04-07T16:45:45.400Z"
   },
   {
    "duration": 92,
    "start_time": "2025-04-07T16:45:46.402Z"
   },
   {
    "duration": 78,
    "start_time": "2025-04-07T16:45:49.157Z"
   },
   {
    "duration": 80,
    "start_time": "2025-04-07T16:45:51.405Z"
   },
   {
    "duration": 12,
    "start_time": "2025-04-07T16:45:55.113Z"
   },
   {
    "duration": 11,
    "start_time": "2025-04-07T16:45:55.591Z"
   },
   {
    "duration": 10,
    "start_time": "2025-04-07T16:45:56.136Z"
   },
   {
    "duration": 9,
    "start_time": "2025-04-07T16:45:58.842Z"
   },
   {
    "duration": 11,
    "start_time": "2025-04-07T16:45:59.305Z"
   },
   {
    "duration": 10,
    "start_time": "2025-04-07T16:45:59.817Z"
   },
   {
    "duration": 34,
    "start_time": "2025-04-07T16:46:03.489Z"
   },
   {
    "duration": 36,
    "start_time": "2025-04-07T16:46:03.934Z"
   },
   {
    "duration": 42,
    "start_time": "2025-04-07T16:46:04.303Z"
   },
   {
    "duration": 4,
    "start_time": "2025-04-07T16:46:05.255Z"
   },
   {
    "duration": 5,
    "start_time": "2025-04-07T16:46:11.992Z"
   },
   {
    "duration": 221,
    "start_time": "2025-04-07T16:46:25.598Z"
   },
   {
    "duration": 5,
    "start_time": "2025-04-07T16:46:29.902Z"
   },
   {
    "duration": 5,
    "start_time": "2025-04-07T16:46:43.826Z"
   },
   {
    "duration": 4,
    "start_time": "2025-04-07T16:47:02.323Z"
   },
   {
    "duration": 42,
    "start_time": "2025-04-07T16:47:04.920Z"
   },
   {
    "duration": 4,
    "start_time": "2025-04-07T16:48:04.205Z"
   },
   {
    "duration": 60,
    "start_time": "2025-04-07T16:48:05.536Z"
   },
   {
    "duration": 5,
    "start_time": "2025-04-07T16:48:27.092Z"
   },
   {
    "duration": 40,
    "start_time": "2025-04-07T16:48:28.402Z"
   },
   {
    "duration": 5,
    "start_time": "2025-04-07T16:49:10.318Z"
   },
   {
    "duration": 33,
    "start_time": "2025-04-07T16:49:13.645Z"
   },
   {
    "duration": 6,
    "start_time": "2025-04-07T16:49:23.475Z"
   },
   {
    "duration": 34,
    "start_time": "2025-04-07T16:49:26.624Z"
   },
   {
    "duration": 5,
    "start_time": "2025-04-07T16:50:02.853Z"
   },
   {
    "duration": 5,
    "start_time": "2025-04-07T16:50:37.196Z"
   },
   {
    "duration": 36,
    "start_time": "2025-04-07T16:50:38.499Z"
   },
   {
    "duration": 7,
    "start_time": "2025-04-07T16:51:08.255Z"
   },
   {
    "duration": 59,
    "start_time": "2025-04-07T16:51:45.639Z"
   },
   {
    "duration": 5,
    "start_time": "2025-04-07T16:51:58.989Z"
   },
   {
    "duration": 36,
    "start_time": "2025-04-07T16:52:04.422Z"
   },
   {
    "duration": 37,
    "start_time": "2025-04-07T16:52:05.245Z"
   },
   {
    "duration": 37,
    "start_time": "2025-04-07T16:52:22.676Z"
   },
   {
    "duration": 5,
    "start_time": "2025-04-07T16:57:16.055Z"
   },
   {
    "duration": 82,
    "start_time": "2025-04-07T16:57:18.217Z"
   },
   {
    "duration": 5,
    "start_time": "2025-04-07T16:57:28.192Z"
   },
   {
    "duration": 49,
    "start_time": "2025-04-07T16:57:29.687Z"
   },
   {
    "duration": 5,
    "start_time": "2025-04-07T16:59:11.456Z"
   },
   {
    "duration": 45,
    "start_time": "2025-04-07T16:59:12.027Z"
   },
   {
    "duration": 15,
    "start_time": "2025-04-07T17:06:59.032Z"
   },
   {
    "duration": 2,
    "start_time": "2025-04-07T17:07:01.908Z"
   },
   {
    "duration": 2,
    "start_time": "2025-04-07T17:07:02.477Z"
   },
   {
    "duration": 4,
    "start_time": "2025-04-07T17:07:17.002Z"
   },
   {
    "duration": 3,
    "start_time": "2025-04-07T17:07:49.775Z"
   },
   {
    "duration": 3,
    "start_time": "2025-04-07T17:07:55.269Z"
   },
   {
    "duration": 4,
    "start_time": "2025-04-07T17:09:38.080Z"
   },
   {
    "duration": 3,
    "start_time": "2025-04-07T17:09:59.078Z"
   },
   {
    "duration": 4,
    "start_time": "2025-04-07T17:10:13.935Z"
   },
   {
    "duration": 4,
    "start_time": "2025-04-07T17:21:25.634Z"
   },
   {
    "duration": 639,
    "start_time": "2025-04-07T17:21:26.443Z"
   },
   {
    "duration": 4,
    "start_time": "2025-04-07T17:22:04.701Z"
   },
   {
    "duration": 33,
    "start_time": "2025-04-07T17:22:05.208Z"
   },
   {
    "duration": 3,
    "start_time": "2025-04-07T18:12:03.678Z"
   },
   {
    "duration": 4,
    "start_time": "2025-04-07T18:12:12.544Z"
   },
   {
    "duration": 3,
    "start_time": "2025-04-07T18:12:17.353Z"
   },
   {
    "duration": 14,
    "start_time": "2025-04-07T18:12:26.788Z"
   },
   {
    "duration": 4,
    "start_time": "2025-04-07T18:12:47.443Z"
   },
   {
    "duration": 3,
    "start_time": "2025-04-07T18:13:10.481Z"
   },
   {
    "duration": 3,
    "start_time": "2025-04-07T18:13:12.997Z"
   },
   {
    "duration": 13,
    "start_time": "2025-04-07T18:26:09.203Z"
   },
   {
    "duration": 39,
    "start_time": "2025-04-07T18:26:19.743Z"
   },
   {
    "duration": 33,
    "start_time": "2025-04-07T18:31:57.237Z"
   },
   {
    "duration": 4,
    "start_time": "2025-04-07T18:32:11.892Z"
   },
   {
    "duration": 45,
    "start_time": "2025-04-07T18:32:13.983Z"
   },
   {
    "duration": 20,
    "start_time": "2025-04-07T18:32:18.842Z"
   },
   {
    "duration": 2623,
    "start_time": "2025-04-07T21:25:49.343Z"
   },
   {
    "duration": 116,
    "start_time": "2025-04-07T21:25:53.127Z"
   },
   {
    "duration": 115,
    "start_time": "2025-04-07T21:25:56.317Z"
   },
   {
    "duration": 106,
    "start_time": "2025-04-07T21:25:57.264Z"
   },
   {
    "duration": 13,
    "start_time": "2025-04-07T21:26:00.612Z"
   },
   {
    "duration": 12,
    "start_time": "2025-04-07T21:26:01.608Z"
   },
   {
    "duration": 11,
    "start_time": "2025-04-07T21:26:03.459Z"
   },
   {
    "duration": 8,
    "start_time": "2025-04-07T21:26:04.346Z"
   },
   {
    "duration": 10,
    "start_time": "2025-04-07T21:26:07.305Z"
   },
   {
    "duration": 9,
    "start_time": "2025-04-07T21:26:08.228Z"
   },
   {
    "duration": 32,
    "start_time": "2025-04-07T21:26:08.952Z"
   },
   {
    "duration": 31,
    "start_time": "2025-04-07T21:26:10.862Z"
   },
   {
    "duration": 34,
    "start_time": "2025-04-07T21:26:11.441Z"
   },
   {
    "duration": 2,
    "start_time": "2025-04-07T21:26:11.966Z"
   },
   {
    "duration": 3,
    "start_time": "2025-04-07T21:26:14.940Z"
   },
   {
    "duration": 3,
    "start_time": "2025-04-07T21:26:18.846Z"
   },
   {
    "duration": 4,
    "start_time": "2025-04-07T21:26:30.358Z"
   },
   {
    "duration": 40,
    "start_time": "2025-04-07T21:26:31.518Z"
   },
   {
    "duration": 37,
    "start_time": "2025-04-07T21:26:36.053Z"
   },
   {
    "duration": 3,
    "start_time": "2025-04-07T21:26:44.988Z"
   },
   {
    "duration": 3,
    "start_time": "2025-04-07T21:26:45.492Z"
   },
   {
    "duration": 3,
    "start_time": "2025-04-07T21:26:46.135Z"
   },
   {
    "duration": 4,
    "start_time": "2025-04-07T21:26:48.049Z"
   },
   {
    "duration": 4,
    "start_time": "2025-04-07T21:26:48.334Z"
   },
   {
    "duration": 3,
    "start_time": "2025-04-07T21:26:49.030Z"
   },
   {
    "duration": 39,
    "start_time": "2025-04-07T21:46:38.011Z"
   },
   {
    "duration": 6,
    "start_time": "2025-04-07T21:50:50.169Z"
   },
   {
    "duration": 6,
    "start_time": "2025-04-07T21:50:50.824Z"
   },
   {
    "duration": 270,
    "start_time": "2025-04-07T21:51:13.486Z"
   },
   {
    "duration": 56,
    "start_time": "2025-04-07T21:51:26.328Z"
   },
   {
    "duration": 35,
    "start_time": "2025-04-07T21:51:29.879Z"
   },
   {
    "duration": 35,
    "start_time": "2025-04-07T21:59:03.839Z"
   },
   {
    "duration": 4,
    "start_time": "2025-04-07T21:59:19.521Z"
   },
   {
    "duration": 35,
    "start_time": "2025-04-07T21:59:25.086Z"
   },
   {
    "duration": 34,
    "start_time": "2025-04-07T21:59:37.117Z"
   },
   {
    "duration": 5,
    "start_time": "2025-04-07T22:06:30.225Z"
   },
   {
    "duration": 50,
    "start_time": "2025-04-07T22:06:31.701Z"
   },
   {
    "duration": 35,
    "start_time": "2025-04-07T22:06:40.870Z"
   },
   {
    "duration": 41,
    "start_time": "2025-04-07T22:06:44.697Z"
   },
   {
    "duration": 44,
    "start_time": "2025-04-07T22:07:11.015Z"
   },
   {
    "duration": 5,
    "start_time": "2025-04-07T22:07:40.927Z"
   },
   {
    "duration": 50,
    "start_time": "2025-04-07T22:07:41.582Z"
   },
   {
    "duration": 41,
    "start_time": "2025-04-07T22:07:51.001Z"
   },
   {
    "duration": 102,
    "start_time": "2025-04-07T22:07:54.913Z"
   },
   {
    "duration": 37,
    "start_time": "2025-04-07T22:08:02.317Z"
   },
   {
    "duration": 40,
    "start_time": "2025-04-07T22:08:05.885Z"
   },
   {
    "duration": 3,
    "start_time": "2025-04-07T22:13:39.390Z"
   },
   {
    "duration": 41,
    "start_time": "2025-04-07T22:13:51.775Z"
   },
   {
    "duration": 5,
    "start_time": "2025-04-07T22:19:32.480Z"
   },
   {
    "duration": 134,
    "start_time": "2025-04-07T22:19:38.376Z"
   },
   {
    "duration": 6,
    "start_time": "2025-04-07T22:26:42.579Z"
   },
   {
    "duration": 55,
    "start_time": "2025-04-07T22:26:43.470Z"
   },
   {
    "duration": 36,
    "start_time": "2025-04-07T22:30:02.075Z"
   },
   {
    "duration": 37,
    "start_time": "2025-04-07T22:30:24.602Z"
   },
   {
    "duration": 6,
    "start_time": "2025-04-07T22:30:28.111Z"
   },
   {
    "duration": 49,
    "start_time": "2025-04-07T22:30:28.723Z"
   },
   {
    "duration": 4,
    "start_time": "2025-04-07T22:30:45.941Z"
   },
   {
    "duration": 37,
    "start_time": "2025-04-07T22:30:46.604Z"
   },
   {
    "duration": 5,
    "start_time": "2025-04-07T22:32:01.120Z"
   },
   {
    "duration": 54,
    "start_time": "2025-04-07T22:32:02.085Z"
   },
   {
    "duration": 39,
    "start_time": "2025-04-07T22:32:17.886Z"
   },
   {
    "duration": 36,
    "start_time": "2025-04-07T22:32:34.276Z"
   },
   {
    "duration": 6,
    "start_time": "2025-04-07T22:33:08.044Z"
   },
   {
    "duration": 44,
    "start_time": "2025-04-07T22:33:27.945Z"
   },
   {
    "duration": 44,
    "start_time": "2025-04-07T22:33:44.466Z"
   },
   {
    "duration": 6,
    "start_time": "2025-04-07T22:33:46.832Z"
   },
   {
    "duration": 38,
    "start_time": "2025-04-07T22:34:27.120Z"
   },
   {
    "duration": 5,
    "start_time": "2025-04-07T22:34:44.432Z"
   },
   {
    "duration": 38,
    "start_time": "2025-04-07T22:34:58.374Z"
   },
   {
    "duration": 6,
    "start_time": "2025-04-07T22:35:28.915Z"
   },
   {
    "duration": 33,
    "start_time": "2025-04-07T22:35:31.840Z"
   },
   {
    "duration": 6,
    "start_time": "2025-04-07T22:35:38.235Z"
   },
   {
    "duration": 40,
    "start_time": "2025-04-07T22:35:40.708Z"
   },
   {
    "duration": 5,
    "start_time": "2025-04-07T22:35:41.984Z"
   },
   {
    "duration": 17,
    "start_time": "2025-04-07T22:36:06.781Z"
   },
   {
    "duration": 14,
    "start_time": "2025-04-07T22:36:14.536Z"
   },
   {
    "duration": 3,
    "start_time": "2025-04-07T22:36:42.813Z"
   },
   {
    "duration": 105,
    "start_time": "2025-04-07T22:37:52.750Z"
   },
   {
    "duration": 135,
    "start_time": "2025-04-07T22:38:18.482Z"
   },
   {
    "duration": 112,
    "start_time": "2025-04-07T22:38:27.145Z"
   },
   {
    "duration": 46,
    "start_time": "2025-04-07T22:39:32.413Z"
   },
   {
    "duration": 93,
    "start_time": "2025-04-07T22:39:40.547Z"
   },
   {
    "duration": 13,
    "start_time": "2025-04-07T22:40:00.116Z"
   },
   {
    "duration": 2,
    "start_time": "2025-04-07T22:40:20.982Z"
   },
   {
    "duration": 5,
    "start_time": "2025-04-07T22:40:39.203Z"
   },
   {
    "duration": 15,
    "start_time": "2025-04-07T22:50:44.685Z"
   },
   {
    "duration": 3,
    "start_time": "2025-04-07T22:50:49.624Z"
   },
   {
    "duration": 8,
    "start_time": "2025-04-07T22:50:50.259Z"
   },
   {
    "duration": 5,
    "start_time": "2025-04-07T22:51:16.544Z"
   },
   {
    "duration": 3,
    "start_time": "2025-04-07T22:51:41.120Z"
   },
   {
    "duration": 7,
    "start_time": "2025-04-07T22:52:00.271Z"
   },
   {
    "duration": 7,
    "start_time": "2025-04-07T22:52:10.409Z"
   },
   {
    "duration": 7,
    "start_time": "2025-04-07T22:52:15.561Z"
   },
   {
    "duration": 35,
    "start_time": "2025-04-07T22:52:17.385Z"
   },
   {
    "duration": 2,
    "start_time": "2025-04-07T22:52:18.397Z"
   },
   {
    "duration": 40,
    "start_time": "2025-04-07T22:52:20.303Z"
   },
   {
    "duration": 3,
    "start_time": "2025-04-07T22:52:22.813Z"
   },
   {
    "duration": 50,
    "start_time": "2025-04-07T22:52:25.430Z"
   },
   {
    "duration": 2,
    "start_time": "2025-04-07T22:52:26.708Z"
   },
   {
    "duration": 3,
    "start_time": "2025-04-07T22:52:29.339Z"
   },
   {
    "duration": 4,
    "start_time": "2025-04-07T22:52:32.682Z"
   },
   {
    "duration": 6,
    "start_time": "2025-04-07T22:52:33.831Z"
   },
   {
    "duration": 3,
    "start_time": "2025-04-07T22:52:34.804Z"
   },
   {
    "duration": 3,
    "start_time": "2025-04-07T22:52:35.489Z"
   },
   {
    "duration": 3,
    "start_time": "2025-04-07T22:52:36.090Z"
   },
   {
    "duration": 4,
    "start_time": "2025-04-07T22:52:41.985Z"
   },
   {
    "duration": 8,
    "start_time": "2025-04-07T22:52:42.879Z"
   },
   {
    "duration": 7,
    "start_time": "2025-04-07T22:52:43.644Z"
   },
   {
    "duration": 7,
    "start_time": "2025-04-07T22:52:44.672Z"
   },
   {
    "duration": 2756,
    "start_time": "2025-04-07T23:43:40.006Z"
   },
   {
    "duration": 110,
    "start_time": "2025-04-07T23:43:42.764Z"
   },
   {
    "duration": 105,
    "start_time": "2025-04-07T23:43:42.876Z"
   },
   {
    "duration": 105,
    "start_time": "2025-04-07T23:43:45.898Z"
   },
   {
    "duration": 12,
    "start_time": "2025-04-07T23:43:51.884Z"
   },
   {
    "duration": 12,
    "start_time": "2025-04-07T23:43:52.657Z"
   },
   {
    "duration": 12,
    "start_time": "2025-04-07T23:43:55.863Z"
   },
   {
    "duration": 4,
    "start_time": "2025-04-07T23:44:03.415Z"
   },
   {
    "duration": 34,
    "start_time": "2025-04-07T23:44:04.743Z"
   },
   {
    "duration": 3,
    "start_time": "2025-04-07T23:44:06.511Z"
   },
   {
    "duration": 34,
    "start_time": "2025-04-07T23:44:07.314Z"
   },
   {
    "duration": 3,
    "start_time": "2025-04-07T23:44:10.557Z"
   },
   {
    "duration": 33,
    "start_time": "2025-04-07T23:44:11.264Z"
   },
   {
    "duration": 2,
    "start_time": "2025-04-07T23:44:15.563Z"
   },
   {
    "duration": 3,
    "start_time": "2025-04-07T23:44:19.244Z"
   },
   {
    "duration": 3,
    "start_time": "2025-04-07T23:44:19.856Z"
   },
   {
    "duration": 3,
    "start_time": "2025-04-07T23:44:20.455Z"
   },
   {
    "duration": 3,
    "start_time": "2025-04-07T23:44:20.978Z"
   },
   {
    "duration": 4,
    "start_time": "2025-04-07T23:44:21.463Z"
   },
   {
    "duration": 5,
    "start_time": "2025-04-07T23:44:21.919Z"
   },
   {
    "duration": 3,
    "start_time": "2025-04-07T23:44:25.800Z"
   },
   {
    "duration": 7,
    "start_time": "2025-04-07T23:44:26.431Z"
   },
   {
    "duration": 7,
    "start_time": "2025-04-07T23:44:26.951Z"
   },
   {
    "duration": 7,
    "start_time": "2025-04-07T23:44:27.516Z"
   },
   {
    "duration": 7,
    "start_time": "2025-04-08T00:00:56.926Z"
   },
   {
    "duration": 3,
    "start_time": "2025-04-08T00:01:06.426Z"
   },
   {
    "duration": 546,
    "start_time": "2025-04-08T00:01:51.537Z"
   },
   {
    "duration": 3,
    "start_time": "2025-04-08T00:02:31.708Z"
   },
   {
    "duration": 39,
    "start_time": "2025-04-08T00:02:32.719Z"
   },
   {
    "duration": 3,
    "start_time": "2025-04-08T00:03:32.934Z"
   },
   {
    "duration": 17,
    "start_time": "2025-04-08T00:03:33.801Z"
   },
   {
    "duration": 3,
    "start_time": "2025-04-08T00:09:57.481Z"
   },
   {
    "duration": 3,
    "start_time": "2025-04-08T00:10:33.487Z"
   },
   {
    "duration": 4,
    "start_time": "2025-04-08T00:12:52.571Z"
   },
   {
    "duration": 13,
    "start_time": "2025-04-08T00:12:53.371Z"
   },
   {
    "duration": 23,
    "start_time": "2025-04-08T00:13:14.038Z"
   },
   {
    "duration": 4,
    "start_time": "2025-04-08T00:13:59.134Z"
   },
   {
    "duration": 22,
    "start_time": "2025-04-08T00:14:00.521Z"
   },
   {
    "duration": 3070,
    "start_time": "2025-04-08T02:38:34.500Z"
   },
   {
    "duration": 172,
    "start_time": "2025-04-08T02:38:37.573Z"
   },
   {
    "duration": 135,
    "start_time": "2025-04-08T02:38:37.748Z"
   },
   {
    "duration": 110,
    "start_time": "2025-04-08T02:38:37.886Z"
   },
   {
    "duration": 10,
    "start_time": "2025-04-08T02:38:47.419Z"
   },
   {
    "duration": 44,
    "start_time": "2025-04-08T02:38:49.139Z"
   },
   {
    "duration": 2,
    "start_time": "2025-04-08T02:38:49.849Z"
   },
   {
    "duration": 39,
    "start_time": "2025-04-08T02:38:50.461Z"
   },
   {
    "duration": 2,
    "start_time": "2025-04-08T02:38:51.136Z"
   },
   {
    "duration": 52,
    "start_time": "2025-04-08T02:38:52.209Z"
   },
   {
    "duration": 2,
    "start_time": "2025-04-08T02:38:52.988Z"
   },
   {
    "duration": 3,
    "start_time": "2025-04-08T02:38:56.343Z"
   },
   {
    "duration": 3,
    "start_time": "2025-04-08T02:38:56.965Z"
   },
   {
    "duration": 3,
    "start_time": "2025-04-08T02:38:57.647Z"
   },
   {
    "duration": 3,
    "start_time": "2025-04-08T02:38:58.234Z"
   },
   {
    "duration": 4,
    "start_time": "2025-04-08T02:38:58.699Z"
   },
   {
    "duration": 7,
    "start_time": "2025-04-08T02:38:59.146Z"
   },
   {
    "duration": 4,
    "start_time": "2025-04-08T02:39:01.780Z"
   },
   {
    "duration": 7,
    "start_time": "2025-04-08T02:39:02.927Z"
   },
   {
    "duration": 7,
    "start_time": "2025-04-08T02:39:03.769Z"
   },
   {
    "duration": 7,
    "start_time": "2025-04-08T02:39:04.408Z"
   },
   {
    "duration": 2,
    "start_time": "2025-04-08T02:39:05.129Z"
   },
   {
    "duration": 3,
    "start_time": "2025-04-08T02:39:09.256Z"
   },
   {
    "duration": 373,
    "start_time": "2025-04-08T02:39:10.459Z"
   },
   {
    "duration": 6,
    "start_time": "2025-04-08T02:41:55.121Z"
   },
   {
    "duration": 7,
    "start_time": "2025-04-08T02:42:14.781Z"
   },
   {
    "duration": 6,
    "start_time": "2025-04-08T02:42:30.433Z"
   },
   {
    "duration": 14,
    "start_time": "2025-04-08T02:42:42.108Z"
   },
   {
    "duration": 14,
    "start_time": "2025-04-08T02:42:53.189Z"
   },
   {
    "duration": 18,
    "start_time": "2025-04-08T02:45:14.222Z"
   },
   {
    "duration": 11,
    "start_time": "2025-04-08T02:45:51.951Z"
   },
   {
    "duration": 32,
    "start_time": "2025-04-08T02:46:42.367Z"
   },
   {
    "duration": 8,
    "start_time": "2025-04-08T03:00:19.813Z"
   },
   {
    "duration": 18,
    "start_time": "2025-04-08T03:01:51.856Z"
   },
   {
    "duration": 33,
    "start_time": "2025-04-08T03:01:53.932Z"
   },
   {
    "duration": 3,
    "start_time": "2025-04-08T03:03:58.132Z"
   },
   {
    "duration": 7,
    "start_time": "2025-04-08T03:03:58.859Z"
   },
   {
    "duration": 25,
    "start_time": "2025-04-08T03:03:59.444Z"
   },
   {
    "duration": 4,
    "start_time": "2025-04-08T03:04:41.487Z"
   },
   {
    "duration": 7,
    "start_time": "2025-04-08T03:04:42.559Z"
   },
   {
    "duration": 28,
    "start_time": "2025-04-08T03:04:43.564Z"
   },
   {
    "duration": 4,
    "start_time": "2025-04-08T03:16:17.250Z"
   },
   {
    "duration": 3,
    "start_time": "2025-04-08T03:16:17.851Z"
   },
   {
    "duration": 420,
    "start_time": "2025-04-08T03:16:58.077Z"
   },
   {
    "duration": 3,
    "start_time": "2025-04-08T03:22:38.890Z"
   },
   {
    "duration": 9,
    "start_time": "2025-04-08T03:22:40.258Z"
   },
   {
    "duration": 7,
    "start_time": "2025-04-08T03:22:41.896Z"
   },
   {
    "duration": 7,
    "start_time": "2025-04-08T03:22:43.261Z"
   },
   {
    "duration": 6,
    "start_time": "2025-04-08T03:27:12.421Z"
   },
   {
    "duration": 2991,
    "start_time": "2025-04-08T03:27:25.228Z"
   },
   {
    "duration": 3199,
    "start_time": "2025-04-08T03:31:01.868Z"
   },
   {
    "duration": 3350,
    "start_time": "2025-04-08T03:31:27.774Z"
   },
   {
    "duration": 3779,
    "start_time": "2025-04-08T03:31:56.791Z"
   },
   {
    "duration": 3347,
    "start_time": "2025-04-08T03:32:22.294Z"
   },
   {
    "duration": 3351,
    "start_time": "2025-04-08T03:32:31.555Z"
   },
   {
    "duration": 5,
    "start_time": "2025-04-08T03:33:56.775Z"
   },
   {
    "duration": 3426,
    "start_time": "2025-04-08T03:33:58.738Z"
   },
   {
    "duration": 3345,
    "start_time": "2025-04-08T03:34:02.166Z"
   },
   {
    "duration": 3479,
    "start_time": "2025-04-08T03:34:11.283Z"
   },
   {
    "duration": 3438,
    "start_time": "2025-04-08T03:34:14.768Z"
   },
   {
    "duration": 5,
    "start_time": "2025-04-08T03:35:08.184Z"
   },
   {
    "duration": 3346,
    "start_time": "2025-04-08T03:35:09.883Z"
   },
   {
    "duration": 3282,
    "start_time": "2025-04-08T03:35:13.231Z"
   },
   {
    "duration": 3316,
    "start_time": "2025-04-08T03:35:16.514Z"
   },
   {
    "duration": 3375,
    "start_time": "2025-04-08T03:35:19.842Z"
   },
   {
    "duration": 3303,
    "start_time": "2025-04-08T03:35:23.218Z"
   },
   {
    "duration": 3348,
    "start_time": "2025-04-08T03:35:26.523Z"
   },
   {
    "duration": 3335,
    "start_time": "2025-04-08T03:35:48.045Z"
   },
   {
    "duration": 3,
    "start_time": "2025-04-08T03:44:55.032Z"
   },
   {
    "duration": 3551,
    "start_time": "2025-04-08T03:45:34.768Z"
   },
   {
    "duration": 3534,
    "start_time": "2025-04-08T03:45:49.568Z"
   },
   {
    "duration": 4,
    "start_time": "2025-04-08T03:45:53.104Z"
   },
   {
    "duration": 6,
    "start_time": "2025-04-08T03:45:55.787Z"
   },
   {
    "duration": 5,
    "start_time": "2025-04-08T03:45:56.491Z"
   },
   {
    "duration": 4,
    "start_time": "2025-04-08T03:46:36.509Z"
   },
   {
    "duration": 4,
    "start_time": "2025-04-08T03:46:37.171Z"
   },
   {
    "duration": 3585,
    "start_time": "2025-04-08T03:46:38.001Z"
   },
   {
    "duration": 3534,
    "start_time": "2025-04-08T03:47:05.267Z"
   },
   {
    "duration": 3656,
    "start_time": "2025-04-08T03:47:11.626Z"
   },
   {
    "duration": 3,
    "start_time": "2025-04-08T03:47:45.488Z"
   },
   {
    "duration": 4,
    "start_time": "2025-04-08T03:48:49.430Z"
   },
   {
    "duration": 4,
    "start_time": "2025-04-08T03:48:50.067Z"
   },
   {
    "duration": 3552,
    "start_time": "2025-04-08T03:48:50.625Z"
   },
   {
    "duration": 35,
    "start_time": "2025-04-08T03:48:55.933Z"
   },
   {
    "duration": 14,
    "start_time": "2025-04-08T03:49:02.805Z"
   },
   {
    "duration": 12,
    "start_time": "2025-04-08T03:50:16.083Z"
   },
   {
    "duration": 4,
    "start_time": "2025-04-08T03:50:17.293Z"
   },
   {
    "duration": 3617,
    "start_time": "2025-04-08T03:50:27.008Z"
   },
   {
    "duration": 3515,
    "start_time": "2025-04-08T03:51:07.855Z"
   },
   {
    "duration": 4,
    "start_time": "2025-04-08T03:52:25.505Z"
   },
   {
    "duration": 3647,
    "start_time": "2025-04-08T03:52:26.140Z"
   },
   {
    "duration": 3613,
    "start_time": "2025-04-08T03:52:31.353Z"
   },
   {
    "duration": 3446,
    "start_time": "2025-04-08T03:52:41.312Z"
   },
   {
    "duration": 3543,
    "start_time": "2025-04-08T03:52:44.760Z"
   },
   {
    "duration": 3480,
    "start_time": "2025-04-08T03:52:55.610Z"
   },
   {
    "duration": 3695,
    "start_time": "2025-04-08T03:52:59.103Z"
   },
   {
    "duration": 5,
    "start_time": "2025-04-08T03:54:59.633Z"
   },
   {
    "duration": 7,
    "start_time": "2025-04-08T03:55:00.729Z"
   },
   {
    "duration": 13,
    "start_time": "2025-04-08T03:55:05.467Z"
   },
   {
    "duration": 8,
    "start_time": "2025-04-08T03:55:25.595Z"
   },
   {
    "duration": 7,
    "start_time": "2025-04-08T03:55:32.591Z"
   },
   {
    "duration": 4,
    "start_time": "2025-04-08T03:56:09.299Z"
   },
   {
    "duration": 25,
    "start_time": "2025-04-08T03:56:10.142Z"
   },
   {
    "duration": 19,
    "start_time": "2025-04-08T03:56:12.167Z"
   },
   {
    "duration": 20,
    "start_time": "2025-04-08T03:56:13.238Z"
   },
   {
    "duration": 10,
    "start_time": "2025-04-08T03:57:37.754Z"
   },
   {
    "duration": 18,
    "start_time": "2025-04-08T03:57:38.248Z"
   },
   {
    "duration": 9,
    "start_time": "2025-04-08T03:57:39.141Z"
   },
   {
    "duration": 3,
    "start_time": "2025-04-08T03:58:34.174Z"
   },
   {
    "duration": 7,
    "start_time": "2025-04-08T03:58:38.328Z"
   },
   {
    "duration": 3,
    "start_time": "2025-04-08T03:59:16.111Z"
   },
   {
    "duration": 20,
    "start_time": "2025-04-08T03:59:18.077Z"
   },
   {
    "duration": 3,
    "start_time": "2025-04-08T03:59:24.367Z"
   },
   {
    "duration": 4,
    "start_time": "2025-04-08T03:59:26.719Z"
   },
   {
    "duration": 5,
    "start_time": "2025-04-08T03:59:29.547Z"
   },
   {
    "duration": 17,
    "start_time": "2025-04-08T03:59:30.341Z"
   },
   {
    "duration": 3,
    "start_time": "2025-04-08T03:59:48.604Z"
   },
   {
    "duration": 28,
    "start_time": "2025-04-08T03:59:49.041Z"
   },
   {
    "duration": 6,
    "start_time": "2025-04-08T03:59:49.727Z"
   },
   {
    "duration": 17,
    "start_time": "2025-04-08T03:59:50.241Z"
   },
   {
    "duration": 5,
    "start_time": "2025-04-08T03:59:59.168Z"
   },
   {
    "duration": 13,
    "start_time": "2025-04-08T03:59:59.755Z"
   },
   {
    "duration": 7,
    "start_time": "2025-04-08T04:00:00.291Z"
   },
   {
    "duration": 10,
    "start_time": "2025-04-08T04:00:00.735Z"
   },
   {
    "duration": 2746,
    "start_time": "2025-04-08T16:25:39.343Z"
   },
   {
    "duration": 113,
    "start_time": "2025-04-08T16:25:42.091Z"
   },
   {
    "duration": 110,
    "start_time": "2025-04-08T16:25:42.205Z"
   },
   {
    "duration": 102,
    "start_time": "2025-04-08T16:25:42.318Z"
   },
   {
    "duration": 6,
    "start_time": "2025-04-08T16:25:48.084Z"
   },
   {
    "duration": 35,
    "start_time": "2025-04-08T16:25:48.828Z"
   },
   {
    "duration": 4,
    "start_time": "2025-04-08T16:25:52.178Z"
   },
   {
    "duration": 35,
    "start_time": "2025-04-08T16:25:52.661Z"
   },
   {
    "duration": 2,
    "start_time": "2025-04-08T16:25:53.161Z"
   },
   {
    "duration": 34,
    "start_time": "2025-04-08T16:25:53.730Z"
   },
   {
    "duration": 5,
    "start_time": "2025-04-08T16:25:54.976Z"
   },
   {
    "duration": 3,
    "start_time": "2025-04-08T16:25:58.841Z"
   },
   {
    "duration": 4,
    "start_time": "2025-04-08T16:25:59.334Z"
   },
   {
    "duration": 3,
    "start_time": "2025-04-08T16:26:00.067Z"
   },
   {
    "duration": 5,
    "start_time": "2025-04-08T16:26:03.392Z"
   },
   {
    "duration": 3,
    "start_time": "2025-04-08T16:26:16.048Z"
   },
   {
    "duration": 3,
    "start_time": "2025-04-08T16:26:17.509Z"
   },
   {
    "duration": 3,
    "start_time": "2025-04-08T16:26:22.120Z"
   },
   {
    "duration": 7,
    "start_time": "2025-04-08T16:26:23.074Z"
   },
   {
    "duration": 6,
    "start_time": "2025-04-08T16:27:52.044Z"
   },
   {
    "duration": 6,
    "start_time": "2025-04-08T16:28:11.350Z"
   },
   {
    "duration": 989,
    "start_time": "2025-04-08T16:48:20.811Z"
   },
   {
    "duration": 93,
    "start_time": "2025-04-08T16:48:21.802Z"
   },
   {
    "duration": 80,
    "start_time": "2025-04-08T16:48:23.868Z"
   },
   {
    "duration": 80,
    "start_time": "2025-04-08T16:48:24.829Z"
   },
   {
    "duration": 11,
    "start_time": "2025-04-08T16:48:27.173Z"
   },
   {
    "duration": 13,
    "start_time": "2025-04-08T16:48:28.061Z"
   },
   {
    "duration": 11,
    "start_time": "2025-04-08T16:48:28.853Z"
   },
   {
    "duration": 8,
    "start_time": "2025-04-08T16:48:29.644Z"
   },
   {
    "duration": 8,
    "start_time": "2025-04-08T16:48:30.307Z"
   },
   {
    "duration": 8,
    "start_time": "2025-04-08T16:48:31.030Z"
   },
   {
    "duration": 34,
    "start_time": "2025-04-08T16:48:31.673Z"
   },
   {
    "duration": 31,
    "start_time": "2025-04-08T16:48:32.328Z"
   },
   {
    "duration": 32,
    "start_time": "2025-04-08T16:48:33.069Z"
   },
   {
    "duration": 3,
    "start_time": "2025-04-08T16:48:33.845Z"
   },
   {
    "duration": 3,
    "start_time": "2025-04-08T16:48:36.675Z"
   },
   {
    "duration": 3,
    "start_time": "2025-04-08T16:48:38.274Z"
   },
   {
    "duration": 931,
    "start_time": "2025-04-08T16:48:40.034Z"
   },
   {
    "duration": 1014,
    "start_time": "2025-04-08T16:48:42.187Z"
   },
   {
    "duration": 935,
    "start_time": "2025-04-08T16:48:43.204Z"
   },
   {
    "duration": 5,
    "start_time": "2025-04-08T16:48:53.415Z"
   },
   {
    "duration": 33,
    "start_time": "2025-04-08T16:48:54.403Z"
   },
   {
    "duration": 3,
    "start_time": "2025-04-08T16:48:57.609Z"
   },
   {
    "duration": 43,
    "start_time": "2025-04-08T16:48:58.179Z"
   },
   {
    "duration": 3,
    "start_time": "2025-04-08T16:48:59.020Z"
   },
   {
    "duration": 47,
    "start_time": "2025-04-08T16:48:59.726Z"
   },
   {
    "duration": 2,
    "start_time": "2025-04-08T16:49:00.714Z"
   },
   {
    "duration": 3,
    "start_time": "2025-04-08T16:49:03.985Z"
   },
   {
    "duration": 3,
    "start_time": "2025-04-08T16:49:04.519Z"
   },
   {
    "duration": 3,
    "start_time": "2025-04-08T16:49:05.090Z"
   },
   {
    "duration": 3,
    "start_time": "2025-04-08T16:49:07.246Z"
   },
   {
    "duration": 3,
    "start_time": "2025-04-08T16:49:07.689Z"
   },
   {
    "duration": 3,
    "start_time": "2025-04-08T16:49:08.153Z"
   },
   {
    "duration": 3,
    "start_time": "2025-04-08T16:49:14.907Z"
   },
   {
    "duration": 7,
    "start_time": "2025-04-08T16:49:15.906Z"
   },
   {
    "duration": 6,
    "start_time": "2025-04-08T16:49:16.596Z"
   },
   {
    "duration": 6,
    "start_time": "2025-04-08T16:49:17.209Z"
   },
   {
    "duration": 5,
    "start_time": "2025-04-08T16:49:39.315Z"
   },
   {
    "duration": 7,
    "start_time": "2025-04-08T16:49:40.173Z"
   },
   {
    "duration": 8,
    "start_time": "2025-04-08T16:49:41.028Z"
   },
   {
    "duration": 9,
    "start_time": "2025-04-08T16:49:41.764Z"
   },
   {
    "duration": 1831,
    "start_time": "2025-04-08T17:03:22.547Z"
   },
   {
    "duration": 191,
    "start_time": "2025-04-08T17:03:24.380Z"
   },
   {
    "duration": 222,
    "start_time": "2025-04-08T17:03:24.573Z"
   },
   {
    "duration": 186,
    "start_time": "2025-04-08T17:03:24.799Z"
   },
   {
    "duration": 14,
    "start_time": "2025-04-08T17:03:24.987Z"
   },
   {
    "duration": 68,
    "start_time": "2025-04-08T17:03:25.003Z"
   },
   {
    "duration": 11,
    "start_time": "2025-04-08T17:03:25.072Z"
   },
   {
    "duration": 9,
    "start_time": "2025-04-08T17:03:25.086Z"
   },
   {
    "duration": 10,
    "start_time": "2025-04-08T17:03:25.096Z"
   },
   {
    "duration": 9,
    "start_time": "2025-04-08T17:03:25.173Z"
   },
   {
    "duration": 88,
    "start_time": "2025-04-08T17:03:25.184Z"
   },
   {
    "duration": 29,
    "start_time": "2025-04-08T17:03:25.274Z"
   },
   {
    "duration": 90,
    "start_time": "2025-04-08T17:03:25.305Z"
   },
   {
    "duration": 3,
    "start_time": "2025-04-08T17:03:25.397Z"
   },
   {
    "duration": 3,
    "start_time": "2025-04-08T17:03:25.403Z"
   },
   {
    "duration": 62,
    "start_time": "2025-04-08T17:03:25.409Z"
   },
   {
    "duration": 1801,
    "start_time": "2025-04-08T17:13:48.774Z"
   },
   {
    "duration": 137,
    "start_time": "2025-04-08T17:13:50.577Z"
   },
   {
    "duration": 190,
    "start_time": "2025-04-08T17:13:50.715Z"
   },
   {
    "duration": 180,
    "start_time": "2025-04-08T17:13:50.909Z"
   },
   {
    "duration": 13,
    "start_time": "2025-04-08T17:13:51.091Z"
   },
   {
    "duration": 65,
    "start_time": "2025-04-08T17:13:51.106Z"
   },
   {
    "duration": 11,
    "start_time": "2025-04-08T17:13:51.173Z"
   },
   {
    "duration": 9,
    "start_time": "2025-04-08T17:13:51.186Z"
   },
   {
    "duration": 9,
    "start_time": "2025-04-08T17:13:51.196Z"
   },
   {
    "duration": 10,
    "start_time": "2025-04-08T17:13:51.270Z"
   },
   {
    "duration": 31,
    "start_time": "2025-04-08T17:13:51.282Z"
   },
   {
    "duration": 90,
    "start_time": "2025-04-08T17:13:51.315Z"
   },
   {
    "duration": 95,
    "start_time": "2025-04-08T17:13:51.406Z"
   },
   {
    "duration": 9,
    "start_time": "2025-04-08T17:13:51.503Z"
   },
   {
    "duration": 7,
    "start_time": "2025-04-08T17:13:51.570Z"
   },
   {
    "duration": 4,
    "start_time": "2025-04-08T17:13:51.579Z"
   },
   {
    "duration": 1808,
    "start_time": "2025-04-08T17:13:51.585Z"
   },
   {
    "duration": 2210,
    "start_time": "2025-04-08T17:13:53.396Z"
   },
   {
    "duration": 1006,
    "start_time": "2025-04-08T17:27:53.727Z"
   },
   {
    "duration": 87,
    "start_time": "2025-04-08T17:27:54.735Z"
   },
   {
    "duration": 103,
    "start_time": "2025-04-08T17:27:54.824Z"
   },
   {
    "duration": 83,
    "start_time": "2025-04-08T17:27:54.928Z"
   },
   {
    "duration": 11,
    "start_time": "2025-04-08T17:27:55.014Z"
   },
   {
    "duration": 10,
    "start_time": "2025-04-08T17:27:55.026Z"
   },
   {
    "duration": 10,
    "start_time": "2025-04-08T17:27:55.038Z"
   },
   {
    "duration": 8,
    "start_time": "2025-04-08T17:27:55.070Z"
   },
   {
    "duration": 7,
    "start_time": "2025-04-08T17:27:55.079Z"
   },
   {
    "duration": 8,
    "start_time": "2025-04-08T17:27:55.088Z"
   },
   {
    "duration": 33,
    "start_time": "2025-04-08T17:27:55.098Z"
   },
   {
    "duration": 58,
    "start_time": "2025-04-08T17:27:55.132Z"
   },
   {
    "duration": 32,
    "start_time": "2025-04-08T17:27:55.192Z"
   },
   {
    "duration": 3,
    "start_time": "2025-04-08T17:27:55.227Z"
   },
   {
    "duration": 4,
    "start_time": "2025-04-08T17:27:55.231Z"
   },
   {
    "duration": 4,
    "start_time": "2025-04-08T17:27:55.236Z"
   },
   {
    "duration": 968,
    "start_time": "2025-04-08T17:27:55.241Z"
   },
   {
    "duration": 1011,
    "start_time": "2025-04-08T17:27:56.211Z"
   },
   {
    "duration": 948,
    "start_time": "2025-04-08T17:27:57.224Z"
   },
   {
    "duration": 5,
    "start_time": "2025-04-08T17:27:58.174Z"
   },
   {
    "duration": 30,
    "start_time": "2025-04-08T17:27:58.180Z"
   },
   {
    "duration": 3,
    "start_time": "2025-04-08T17:27:58.211Z"
   },
   {
    "duration": 160,
    "start_time": "2025-04-08T17:27:58.216Z"
   },
   {
    "duration": 2,
    "start_time": "2025-04-08T17:27:58.379Z"
   },
   {
    "duration": 106,
    "start_time": "2025-04-08T17:27:58.384Z"
   },
   {
    "duration": 3,
    "start_time": "2025-04-08T17:27:58.492Z"
   },
   {
    "duration": 4,
    "start_time": "2025-04-08T17:27:58.496Z"
   },
   {
    "duration": 72,
    "start_time": "2025-04-08T17:27:58.501Z"
   },
   {
    "duration": 3,
    "start_time": "2025-04-08T17:27:58.575Z"
   },
   {
    "duration": 3,
    "start_time": "2025-04-08T17:27:58.583Z"
   },
   {
    "duration": 3,
    "start_time": "2025-04-08T17:27:58.588Z"
   },
   {
    "duration": 3,
    "start_time": "2025-04-08T17:27:58.593Z"
   },
   {
    "duration": 3,
    "start_time": "2025-04-08T17:27:58.597Z"
   },
   {
    "duration": 6,
    "start_time": "2025-04-08T17:27:58.671Z"
   },
   {
    "duration": 5,
    "start_time": "2025-04-08T17:27:58.679Z"
   },
   {
    "duration": 6,
    "start_time": "2025-04-08T17:27:58.685Z"
   },
   {
    "duration": 4,
    "start_time": "2025-04-08T17:27:58.692Z"
   },
   {
    "duration": 8,
    "start_time": "2025-04-08T17:27:58.698Z"
   },
   {
    "duration": 7,
    "start_time": "2025-04-08T17:27:58.707Z"
   },
   {
    "duration": 7,
    "start_time": "2025-04-08T17:27:58.715Z"
   },
   {
    "duration": 2754,
    "start_time": "2025-04-08T17:48:44.389Z"
   },
   {
    "duration": 105,
    "start_time": "2025-04-08T17:48:47.145Z"
   },
   {
    "duration": 104,
    "start_time": "2025-04-08T17:48:47.252Z"
   },
   {
    "duration": 97,
    "start_time": "2025-04-08T17:48:47.358Z"
   },
   {
    "duration": 12,
    "start_time": "2025-04-08T17:48:47.457Z"
   },
   {
    "duration": 12,
    "start_time": "2025-04-08T17:48:47.470Z"
   },
   {
    "duration": 10,
    "start_time": "2025-04-08T17:48:47.483Z"
   },
   {
    "duration": 8,
    "start_time": "2025-04-08T17:48:47.495Z"
   },
   {
    "duration": 39,
    "start_time": "2025-04-08T17:48:47.505Z"
   },
   {
    "duration": 9,
    "start_time": "2025-04-08T17:48:47.704Z"
   },
   {
    "duration": 37,
    "start_time": "2025-04-08T17:48:47.969Z"
   },
   {
    "duration": 33,
    "start_time": "2025-04-08T17:48:48.248Z"
   },
   {
    "duration": 32,
    "start_time": "2025-04-08T17:48:48.502Z"
   },
   {
    "duration": 3,
    "start_time": "2025-04-08T17:48:48.751Z"
   },
   {
    "duration": 3,
    "start_time": "2025-04-08T17:48:49.288Z"
   },
   {
    "duration": 4,
    "start_time": "2025-04-08T17:48:49.779Z"
   },
   {
    "duration": 1035,
    "start_time": "2025-04-08T17:48:50.240Z"
   },
   {
    "duration": 977,
    "start_time": "2025-04-08T17:48:51.278Z"
   },
   {
    "duration": 934,
    "start_time": "2025-04-08T17:48:52.331Z"
   },
   {
    "duration": 86,
    "start_time": "2025-04-08T17:48:55.259Z"
   },
   {
    "duration": 30,
    "start_time": "2025-04-08T17:48:56.297Z"
   },
   {
    "duration": 2,
    "start_time": "2025-04-08T17:48:56.922Z"
   },
   {
    "duration": 28,
    "start_time": "2025-04-08T17:48:57.489Z"
   },
   {
    "duration": 2,
    "start_time": "2025-04-08T17:48:58.093Z"
   },
   {
    "duration": 31,
    "start_time": "2025-04-08T17:48:58.647Z"
   },
   {
    "duration": 2,
    "start_time": "2025-04-08T17:48:59.270Z"
   },
   {
    "duration": 3,
    "start_time": "2025-04-08T17:49:01.023Z"
   },
   {
    "duration": 3,
    "start_time": "2025-04-08T17:49:01.490Z"
   },
   {
    "duration": 3,
    "start_time": "2025-04-08T17:49:01.971Z"
   },
   {
    "duration": 3,
    "start_time": "2025-04-08T17:49:02.462Z"
   },
   {
    "duration": 3,
    "start_time": "2025-04-08T17:49:02.935Z"
   },
   {
    "duration": 4,
    "start_time": "2025-04-08T17:49:03.328Z"
   },
   {
    "duration": 3,
    "start_time": "2025-04-08T17:49:05.577Z"
   },
   {
    "duration": 6,
    "start_time": "2025-04-08T17:49:06.084Z"
   },
   {
    "duration": 8,
    "start_time": "2025-04-08T17:49:06.490Z"
   },
   {
    "duration": 6,
    "start_time": "2025-04-08T17:49:06.921Z"
   },
   {
    "duration": 7,
    "start_time": "2025-04-08T17:49:09.756Z"
   },
   {
    "duration": 6,
    "start_time": "2025-04-08T17:49:52.086Z"
   },
   {
    "duration": 5,
    "start_time": "2025-04-08T17:50:27.224Z"
   },
   {
    "duration": 5,
    "start_time": "2025-04-08T17:52:20.906Z"
   },
   {
    "duration": 10,
    "start_time": "2025-04-08T17:52:24.400Z"
   },
   {
    "duration": 9,
    "start_time": "2025-04-08T17:52:26.650Z"
   },
   {
    "duration": 9,
    "start_time": "2025-04-08T17:52:28.323Z"
   },
   {
    "duration": 5,
    "start_time": "2025-04-08T17:55:18.963Z"
   },
   {
    "duration": 5,
    "start_time": "2025-04-08T17:55:33.599Z"
   },
   {
    "duration": 3194,
    "start_time": "2025-04-08T17:55:37.349Z"
   },
   {
    "duration": 3161,
    "start_time": "2025-04-08T17:55:43.288Z"
   },
   {
    "duration": 3130,
    "start_time": "2025-04-08T17:55:48.191Z"
   },
   {
    "duration": 256,
    "start_time": "2025-04-08T17:56:34.926Z"
   },
   {
    "duration": 20,
    "start_time": "2025-04-08T17:57:16.823Z"
   },
   {
    "duration": 10,
    "start_time": "2025-04-08T17:57:34.261Z"
   },
   {
    "duration": 5,
    "start_time": "2025-04-08T17:58:05.011Z"
   },
   {
    "duration": 7,
    "start_time": "2025-04-08T17:58:47.423Z"
   },
   {
    "duration": 8,
    "start_time": "2025-04-08T17:59:03.279Z"
   },
   {
    "duration": 24,
    "start_time": "2025-04-08T17:59:13.777Z"
   },
   {
    "duration": 17,
    "start_time": "2025-04-08T17:59:32.818Z"
   },
   {
    "duration": 85,
    "start_time": "2025-04-08T17:59:40.453Z"
   },
   {
    "duration": 34,
    "start_time": "2025-04-08T17:59:48.754Z"
   },
   {
    "duration": 5,
    "start_time": "2025-04-08T18:21:21.910Z"
   },
   {
    "duration": 20,
    "start_time": "2025-04-08T18:21:46.681Z"
   },
   {
    "duration": 20,
    "start_time": "2025-04-08T18:22:46.902Z"
   },
   {
    "duration": 6,
    "start_time": "2025-04-08T18:23:15.961Z"
   },
   {
    "duration": 4243,
    "start_time": "2025-04-08T18:23:23.175Z"
   },
   {
    "duration": 5,
    "start_time": "2025-04-08T18:23:42.413Z"
   },
   {
    "duration": 5,
    "start_time": "2025-04-08T18:23:44.612Z"
   },
   {
    "duration": 3006,
    "start_time": "2025-04-08T20:29:31.799Z"
   },
   {
    "duration": 151,
    "start_time": "2025-04-08T20:29:34.807Z"
   },
   {
    "duration": 126,
    "start_time": "2025-04-08T20:29:34.961Z"
   },
   {
    "duration": 150,
    "start_time": "2025-04-08T20:29:35.089Z"
   },
   {
    "duration": 12,
    "start_time": "2025-04-08T20:29:40.314Z"
   },
   {
    "duration": 33,
    "start_time": "2025-04-08T20:29:40.618Z"
   },
   {
    "duration": 18,
    "start_time": "2025-04-08T20:29:41.179Z"
   },
   {
    "duration": 9,
    "start_time": "2025-04-08T20:29:41.767Z"
   },
   {
    "duration": 10,
    "start_time": "2025-04-08T20:29:42.252Z"
   },
   {
    "duration": 8,
    "start_time": "2025-04-08T20:29:42.878Z"
   },
   {
    "duration": 46,
    "start_time": "2025-04-08T20:29:43.529Z"
   },
   {
    "duration": 32,
    "start_time": "2025-04-08T20:29:44.383Z"
   },
   {
    "duration": 35,
    "start_time": "2025-04-08T20:29:44.946Z"
   },
   {
    "duration": 3,
    "start_time": "2025-04-08T20:29:45.544Z"
   },
   {
    "duration": 7,
    "start_time": "2025-04-08T20:29:46.936Z"
   },
   {
    "duration": 3,
    "start_time": "2025-04-08T20:29:48.265Z"
   },
   {
    "duration": 1234,
    "start_time": "2025-04-08T20:29:49.350Z"
   },
   {
    "duration": 1108,
    "start_time": "2025-04-08T20:29:50.587Z"
   },
   {
    "duration": 1180,
    "start_time": "2025-04-08T20:29:55.067Z"
   },
   {
    "duration": 5,
    "start_time": "2025-04-08T20:30:00.153Z"
   },
   {
    "duration": 49,
    "start_time": "2025-04-08T20:30:00.911Z"
   },
   {
    "duration": 4,
    "start_time": "2025-04-08T20:30:03.749Z"
   },
   {
    "duration": 30,
    "start_time": "2025-04-08T20:30:04.264Z"
   },
   {
    "duration": 2,
    "start_time": "2025-04-08T20:30:04.792Z"
   },
   {
    "duration": 40,
    "start_time": "2025-04-08T20:30:06.734Z"
   },
   {
    "duration": 2,
    "start_time": "2025-04-08T20:30:07.396Z"
   },
   {
    "duration": 2,
    "start_time": "2025-04-08T20:30:09.605Z"
   },
   {
    "duration": 5,
    "start_time": "2025-04-08T20:30:11.344Z"
   },
   {
    "duration": 4,
    "start_time": "2025-04-08T20:30:11.952Z"
   },
   {
    "duration": 20,
    "start_time": "2025-04-08T20:30:12.624Z"
   },
   {
    "duration": 3,
    "start_time": "2025-04-08T20:30:13.363Z"
   },
   {
    "duration": 3,
    "start_time": "2025-04-08T20:30:13.913Z"
   },
   {
    "duration": 4,
    "start_time": "2025-04-08T20:30:18.561Z"
   },
   {
    "duration": 7,
    "start_time": "2025-04-08T20:30:19.053Z"
   },
   {
    "duration": 7,
    "start_time": "2025-04-08T20:30:19.504Z"
   },
   {
    "duration": 6,
    "start_time": "2025-04-08T20:30:19.993Z"
   },
   {
    "duration": 4,
    "start_time": "2025-04-08T20:30:24.155Z"
   },
   {
    "duration": 3,
    "start_time": "2025-04-08T20:30:25.293Z"
   },
   {
    "duration": 9,
    "start_time": "2025-04-08T20:30:32.076Z"
   },
   {
    "duration": 9,
    "start_time": "2025-04-08T20:30:36.944Z"
   },
   {
    "duration": 7,
    "start_time": "2025-04-08T20:31:09.263Z"
   },
   {
    "duration": 261,
    "start_time": "2025-04-08T20:31:10.348Z"
   },
   {
    "duration": 24,
    "start_time": "2025-04-08T20:32:14.319Z"
   },
   {
    "duration": 103,
    "start_time": "2025-04-08T20:32:24.036Z"
   },
   {
    "duration": 8,
    "start_time": "2025-04-08T20:33:20.867Z"
   },
   {
    "duration": 19,
    "start_time": "2025-04-08T20:33:34.798Z"
   },
   {
    "duration": 29,
    "start_time": "2025-04-08T20:33:55.840Z"
   },
   {
    "duration": 4,
    "start_time": "2025-04-08T20:34:28.058Z"
   },
   {
    "duration": 3,
    "start_time": "2025-04-08T20:34:42.164Z"
   },
   {
    "duration": 3,
    "start_time": "2025-04-08T20:35:16.152Z"
   },
   {
    "duration": 37,
    "start_time": "2025-04-08T20:35:27.516Z"
   },
   {
    "duration": 3,
    "start_time": "2025-04-08T20:36:12.366Z"
   },
   {
    "duration": 7,
    "start_time": "2025-04-08T20:36:17.209Z"
   },
   {
    "duration": 5,
    "start_time": "2025-04-08T20:36:23.750Z"
   },
   {
    "duration": 3178,
    "start_time": "2025-04-08T20:36:40.502Z"
   },
   {
    "duration": 3111,
    "start_time": "2025-04-08T20:36:57.576Z"
   },
   {
    "duration": 3141,
    "start_time": "2025-04-08T20:37:10.702Z"
   },
   {
    "duration": 3,
    "start_time": "2025-04-08T20:38:15.309Z"
   },
   {
    "duration": 4,
    "start_time": "2025-04-08T20:38:22.738Z"
   },
   {
    "duration": 3,
    "start_time": "2025-04-08T20:38:25.169Z"
   },
   {
    "duration": 3005,
    "start_time": "2025-04-08T20:38:43.442Z"
   },
   {
    "duration": 3006,
    "start_time": "2025-04-08T20:39:12.468Z"
   },
   {
    "duration": 3,
    "start_time": "2025-04-08T20:39:17.325Z"
   },
   {
    "duration": 7,
    "start_time": "2025-04-08T20:39:39.294Z"
   },
   {
    "duration": 3005,
    "start_time": "2025-04-08T20:40:36.328Z"
   },
   {
    "duration": 3016,
    "start_time": "2025-04-08T20:40:39.335Z"
   },
   {
    "duration": 3004,
    "start_time": "2025-04-08T20:40:42.353Z"
   },
   {
    "duration": 4,
    "start_time": "2025-04-08T20:41:03.866Z"
   },
   {
    "duration": 5,
    "start_time": "2025-04-08T20:41:07.227Z"
   },
   {
    "duration": 5,
    "start_time": "2025-04-08T20:41:09.628Z"
   },
   {
    "duration": 4,
    "start_time": "2025-04-08T20:41:10.810Z"
   },
   {
    "duration": 3,
    "start_time": "2025-04-08T20:43:06.520Z"
   },
   {
    "duration": 3043,
    "start_time": "2025-04-08T20:43:08.223Z"
   },
   {
    "duration": 2996,
    "start_time": "2025-04-08T20:43:11.268Z"
   },
   {
    "duration": 2980,
    "start_time": "2025-04-08T20:43:14.266Z"
   },
   {
    "duration": 3,
    "start_time": "2025-04-08T20:43:17.248Z"
   },
   {
    "duration": 5,
    "start_time": "2025-04-08T20:43:17.253Z"
   },
   {
    "duration": 4,
    "start_time": "2025-04-08T20:43:17.260Z"
   },
   {
    "duration": 4,
    "start_time": "2025-04-08T20:43:17.266Z"
   },
   {
    "duration": 3085,
    "start_time": "2025-04-08T20:56:32.946Z"
   },
   {
    "duration": 3,
    "start_time": "2025-04-08T20:56:36.148Z"
   },
   {
    "duration": 3284,
    "start_time": "2025-04-08T20:56:36.980Z"
   },
   {
    "duration": 3089,
    "start_time": "2025-04-08T20:56:40.266Z"
   },
   {
    "duration": 3059,
    "start_time": "2025-04-08T20:56:43.357Z"
   },
   {
    "duration": 20,
    "start_time": "2025-04-08T20:56:46.419Z"
   },
   {
    "duration": 4,
    "start_time": "2025-04-08T20:56:46.452Z"
   },
   {
    "duration": 4,
    "start_time": "2025-04-08T20:56:48.164Z"
   },
   {
    "duration": 5,
    "start_time": "2025-04-08T20:56:49.248Z"
   },
   {
    "duration": 4,
    "start_time": "2025-04-08T20:57:06.387Z"
   },
   {
    "duration": 3398,
    "start_time": "2025-04-08T20:57:07.049Z"
   },
   {
    "duration": 3110,
    "start_time": "2025-04-08T20:57:10.461Z"
   },
   {
    "duration": 3194,
    "start_time": "2025-04-08T20:57:13.573Z"
   },
   {
    "duration": 3,
    "start_time": "2025-04-08T20:57:16.769Z"
   },
   {
    "duration": 5,
    "start_time": "2025-04-08T20:57:16.774Z"
   },
   {
    "duration": 4,
    "start_time": "2025-04-08T20:57:16.780Z"
   },
   {
    "duration": 4,
    "start_time": "2025-04-08T20:57:16.786Z"
   },
   {
    "duration": 4,
    "start_time": "2025-04-08T20:58:07.334Z"
   },
   {
    "duration": 4582,
    "start_time": "2025-04-08T20:58:19.325Z"
   },
   {
    "duration": 3,
    "start_time": "2025-04-08T21:00:03.676Z"
   },
   {
    "duration": 4561,
    "start_time": "2025-04-08T21:00:07.678Z"
   },
   {
    "duration": 3,
    "start_time": "2025-04-08T21:00:14.469Z"
   },
   {
    "duration": 4,
    "start_time": "2025-04-08T21:00:15.457Z"
   },
   {
    "duration": 4648,
    "start_time": "2025-04-08T21:00:19.457Z"
   },
   {
    "duration": 4617,
    "start_time": "2025-04-08T21:00:24.107Z"
   },
   {
    "duration": 3,
    "start_time": "2025-04-08T21:00:29.180Z"
   },
   {
    "duration": 5,
    "start_time": "2025-04-08T21:00:30.313Z"
   },
   {
    "duration": 5,
    "start_time": "2025-04-08T21:00:31.337Z"
   },
   {
    "duration": 5,
    "start_time": "2025-04-08T21:00:32.299Z"
   },
   {
    "duration": 4,
    "start_time": "2025-04-08T21:03:06.502Z"
   },
   {
    "duration": 3041,
    "start_time": "2025-04-08T21:03:08.229Z"
   },
   {
    "duration": 4,
    "start_time": "2025-04-08T21:03:48.396Z"
   },
   {
    "duration": 3057,
    "start_time": "2025-04-08T21:03:50.302Z"
   },
   {
    "duration": 17,
    "start_time": "2025-04-08T21:05:12.711Z"
   },
   {
    "duration": 4,
    "start_time": "2025-04-08T21:05:41.507Z"
   },
   {
    "duration": 4,
    "start_time": "2025-04-08T21:06:05.844Z"
   },
   {
    "duration": 17,
    "start_time": "2025-04-08T21:06:07.974Z"
   },
   {
    "duration": 15,
    "start_time": "2025-04-08T21:06:43.584Z"
   },
   {
    "duration": 4,
    "start_time": "2025-04-08T21:06:46.534Z"
   },
   {
    "duration": 13,
    "start_time": "2025-04-08T21:06:47.068Z"
   },
   {
    "duration": 3,
    "start_time": "2025-04-08T21:07:13.534Z"
   },
   {
    "duration": 14,
    "start_time": "2025-04-08T21:07:14.565Z"
   },
   {
    "duration": 4,
    "start_time": "2025-04-08T21:07:40.506Z"
   },
   {
    "duration": 4,
    "start_time": "2025-04-08T21:07:50.448Z"
   },
   {
    "duration": 27,
    "start_time": "2025-04-08T21:08:09.705Z"
   },
   {
    "duration": 3,
    "start_time": "2025-04-08T21:08:21.001Z"
   },
   {
    "duration": 8,
    "start_time": "2025-04-08T21:08:21.819Z"
   },
   {
    "duration": 15,
    "start_time": "2025-04-08T21:08:43.218Z"
   },
   {
    "duration": 8,
    "start_time": "2025-04-08T21:08:45.274Z"
   },
   {
    "duration": 4,
    "start_time": "2025-04-08T21:10:12.632Z"
   },
   {
    "duration": 3042,
    "start_time": "2025-04-08T21:10:32.726Z"
   },
   {
    "duration": 4,
    "start_time": "2025-04-08T21:11:29.500Z"
   },
   {
    "duration": 2988,
    "start_time": "2025-04-08T21:11:30.441Z"
   },
   {
    "duration": 4,
    "start_time": "2025-04-08T21:11:48.427Z"
   },
   {
    "duration": 3018,
    "start_time": "2025-04-08T21:11:49.477Z"
   },
   {
    "duration": 4,
    "start_time": "2025-04-08T21:12:02.721Z"
   },
   {
    "duration": 6,
    "start_time": "2025-04-08T21:12:09.454Z"
   },
   {
    "duration": 3036,
    "start_time": "2025-04-08T21:12:13.027Z"
   },
   {
    "duration": 5,
    "start_time": "2025-04-08T21:12:21.965Z"
   },
   {
    "duration": 993,
    "start_time": "2025-04-08T21:15:00.088Z"
   },
   {
    "duration": 94,
    "start_time": "2025-04-08T21:15:01.083Z"
   },
   {
    "duration": 89,
    "start_time": "2025-04-08T21:15:01.394Z"
   },
   {
    "duration": 80,
    "start_time": "2025-04-08T21:15:02.163Z"
   },
   {
    "duration": 11,
    "start_time": "2025-04-08T21:15:02.897Z"
   },
   {
    "duration": 11,
    "start_time": "2025-04-08T21:15:03.143Z"
   },
   {
    "duration": 11,
    "start_time": "2025-04-08T21:15:03.373Z"
   },
   {
    "duration": 8,
    "start_time": "2025-04-08T21:15:03.583Z"
   },
   {
    "duration": 8,
    "start_time": "2025-04-08T21:15:03.809Z"
   },
   {
    "duration": 8,
    "start_time": "2025-04-08T21:15:04.315Z"
   },
   {
    "duration": 33,
    "start_time": "2025-04-08T21:15:04.588Z"
   },
   {
    "duration": 29,
    "start_time": "2025-04-08T21:15:04.820Z"
   },
   {
    "duration": 34,
    "start_time": "2025-04-08T21:15:05.050Z"
   },
   {
    "duration": 3,
    "start_time": "2025-04-08T21:15:05.280Z"
   },
   {
    "duration": 3,
    "start_time": "2025-04-08T21:15:05.728Z"
   },
   {
    "duration": 3,
    "start_time": "2025-04-08T21:15:06.158Z"
   },
   {
    "duration": 944,
    "start_time": "2025-04-08T21:15:06.953Z"
   },
   {
    "duration": 1032,
    "start_time": "2025-04-08T21:15:07.900Z"
   },
   {
    "duration": 917,
    "start_time": "2025-04-08T21:15:08.934Z"
   },
   {
    "duration": 5,
    "start_time": "2025-04-08T21:15:09.853Z"
   },
   {
    "duration": 69,
    "start_time": "2025-04-08T21:15:09.860Z"
   },
   {
    "duration": 3,
    "start_time": "2025-04-08T21:15:09.931Z"
   },
   {
    "duration": 107,
    "start_time": "2025-04-08T21:15:09.936Z"
   },
   {
    "duration": 2,
    "start_time": "2025-04-08T21:15:10.733Z"
   },
   {
    "duration": 30,
    "start_time": "2025-04-08T21:15:11.448Z"
   },
   {
    "duration": 3,
    "start_time": "2025-04-08T21:15:12.413Z"
   },
   {
    "duration": 3,
    "start_time": "2025-04-08T21:15:14.526Z"
   },
   {
    "duration": 4,
    "start_time": "2025-04-08T21:15:15.224Z"
   },
   {
    "duration": 3,
    "start_time": "2025-04-08T21:15:15.793Z"
   },
   {
    "duration": 5,
    "start_time": "2025-04-08T21:15:16.982Z"
   },
   {
    "duration": 3,
    "start_time": "2025-04-08T21:15:17.760Z"
   },
   {
    "duration": 3,
    "start_time": "2025-04-08T21:15:18.287Z"
   },
   {
    "duration": 4,
    "start_time": "2025-04-08T21:15:19.666Z"
   },
   {
    "duration": 6,
    "start_time": "2025-04-08T21:15:20.143Z"
   },
   {
    "duration": 6,
    "start_time": "2025-04-08T21:15:20.424Z"
   },
   {
    "duration": 7,
    "start_time": "2025-04-08T21:15:20.755Z"
   },
   {
    "duration": 5,
    "start_time": "2025-04-08T21:15:24.315Z"
   },
   {
    "duration": 3070,
    "start_time": "2025-04-08T21:15:27.949Z"
   },
   {
    "duration": 4,
    "start_time": "2025-04-08T21:15:42.429Z"
   },
   {
    "duration": 2974,
    "start_time": "2025-04-08T21:15:43.256Z"
   },
   {
    "duration": 5,
    "start_time": "2025-04-08T21:17:52.951Z"
   },
   {
    "duration": 3048,
    "start_time": "2025-04-08T21:17:55.621Z"
   },
   {
    "duration": 5,
    "start_time": "2025-04-08T21:24:51.438Z"
   },
   {
    "duration": 3510,
    "start_time": "2025-04-08T21:24:53.997Z"
   },
   {
    "duration": 5,
    "start_time": "2025-04-08T21:26:10.307Z"
   },
   {
    "duration": 4,
    "start_time": "2025-04-08T21:35:08.499Z"
   },
   {
    "duration": 4,
    "start_time": "2025-04-08T21:35:18.485Z"
   },
   {
    "duration": 284,
    "start_time": "2025-04-08T21:35:25.789Z"
   },
   {
    "duration": 16,
    "start_time": "2025-04-08T21:35:34.699Z"
   },
   {
    "duration": 18,
    "start_time": "2025-04-08T21:35:42.595Z"
   },
   {
    "duration": 5,
    "start_time": "2025-04-08T21:41:12.944Z"
   },
   {
    "duration": 19,
    "start_time": "2025-04-08T21:41:30.346Z"
   },
   {
    "duration": 4,
    "start_time": "2025-04-08T21:41:40.460Z"
   },
   {
    "duration": 5,
    "start_time": "2025-04-08T21:41:50.354Z"
   },
   {
    "duration": 16,
    "start_time": "2025-04-08T21:42:00.432Z"
   },
   {
    "duration": 31,
    "start_time": "2025-04-08T21:43:01.322Z"
   },
   {
    "duration": 4,
    "start_time": "2025-04-08T21:48:52.071Z"
   },
   {
    "duration": 3179,
    "start_time": "2025-04-08T21:48:53.881Z"
   },
   {
    "duration": 5,
    "start_time": "2025-04-08T21:50:47.572Z"
   },
   {
    "duration": 3220,
    "start_time": "2025-04-08T21:50:48.201Z"
   },
   {
    "duration": 13,
    "start_time": "2025-04-08T21:51:29.520Z"
   },
   {
    "duration": 3178,
    "start_time": "2025-04-08T21:51:30.397Z"
   },
   {
    "duration": 6,
    "start_time": "2025-04-08T21:52:23.560Z"
   },
   {
    "duration": 43,
    "start_time": "2025-04-08T21:52:25.937Z"
   },
   {
    "duration": 3,
    "start_time": "2025-04-08T21:52:26.805Z"
   },
   {
    "duration": 4,
    "start_time": "2025-04-08T21:52:37.279Z"
   },
   {
    "duration": 4891,
    "start_time": "2025-04-08T21:52:38.181Z"
   },
   {
    "duration": 5,
    "start_time": "2025-04-08T21:54:13.352Z"
   },
   {
    "duration": 32,
    "start_time": "2025-04-08T21:54:14.651Z"
   },
   {
    "duration": 4,
    "start_time": "2025-04-08T21:54:32.877Z"
   },
   {
    "duration": 6108,
    "start_time": "2025-04-08T21:54:34.178Z"
   },
   {
    "duration": 4,
    "start_time": "2025-04-08T21:54:57.107Z"
   },
   {
    "duration": 4671,
    "start_time": "2025-04-08T21:54:58.717Z"
   },
   {
    "duration": 6,
    "start_time": "2025-04-08T21:56:49.845Z"
   },
   {
    "duration": 1971,
    "start_time": "2025-04-08T21:56:50.672Z"
   },
   {
    "duration": 2013,
    "start_time": "2025-04-08T21:57:08.047Z"
   },
   {
    "duration": 11,
    "start_time": "2025-04-08T22:00:29.232Z"
   },
   {
    "duration": 4705,
    "start_time": "2025-04-08T22:00:30.046Z"
   },
   {
    "duration": 5,
    "start_time": "2025-04-08T22:00:42.755Z"
   },
   {
    "duration": 3307,
    "start_time": "2025-04-08T22:00:43.632Z"
   },
   {
    "duration": 5,
    "start_time": "2025-04-08T22:11:44.027Z"
   },
   {
    "duration": 3250,
    "start_time": "2025-04-08T22:11:44.655Z"
   },
   {
    "duration": 3082,
    "start_time": "2025-04-08T22:12:32.035Z"
   },
   {
    "duration": 3078,
    "start_time": "2025-04-08T22:12:44.674Z"
   },
   {
    "duration": 4,
    "start_time": "2025-04-08T22:15:37.854Z"
   },
   {
    "duration": 46,
    "start_time": "2025-04-08T22:15:40.198Z"
   },
   {
    "duration": 6,
    "start_time": "2025-04-08T22:15:57.750Z"
   },
   {
    "duration": 3220,
    "start_time": "2025-04-08T22:15:58.432Z"
   },
   {
    "duration": 3281,
    "start_time": "2025-04-08T22:16:03.275Z"
   },
   {
    "duration": 5,
    "start_time": "2025-04-08T22:16:34.373Z"
   },
   {
    "duration": 3215,
    "start_time": "2025-04-08T22:16:35.028Z"
   },
   {
    "duration": 3232,
    "start_time": "2025-04-08T22:16:38.245Z"
   },
   {
    "duration": 3118,
    "start_time": "2025-04-08T22:16:41.479Z"
   },
   {
    "duration": 5,
    "start_time": "2025-04-08T22:16:53.519Z"
   },
   {
    "duration": 3187,
    "start_time": "2025-04-08T22:16:54.395Z"
   },
   {
    "duration": 3162,
    "start_time": "2025-04-08T22:16:57.584Z"
   },
   {
    "duration": 3139,
    "start_time": "2025-04-08T22:17:00.748Z"
   },
   {
    "duration": 2722,
    "start_time": "2025-04-09T14:35:06.449Z"
   },
   {
    "duration": 112,
    "start_time": "2025-04-09T14:35:09.173Z"
   },
   {
    "duration": 114,
    "start_time": "2025-04-09T14:35:09.287Z"
   },
   {
    "duration": 104,
    "start_time": "2025-04-09T14:35:13.437Z"
   },
   {
    "duration": 11,
    "start_time": "2025-04-09T14:35:21.442Z"
   },
   {
    "duration": 10,
    "start_time": "2025-04-09T14:35:22.061Z"
   },
   {
    "duration": 12,
    "start_time": "2025-04-09T14:35:22.751Z"
   },
   {
    "duration": 8,
    "start_time": "2025-04-09T14:35:27.645Z"
   },
   {
    "duration": 9,
    "start_time": "2025-04-09T14:35:29.033Z"
   },
   {
    "duration": 8,
    "start_time": "2025-04-09T14:35:29.757Z"
   },
   {
    "duration": 31,
    "start_time": "2025-04-09T14:35:33.719Z"
   },
   {
    "duration": 32,
    "start_time": "2025-04-09T14:35:34.355Z"
   },
   {
    "duration": 32,
    "start_time": "2025-04-09T14:35:34.924Z"
   },
   {
    "duration": 3,
    "start_time": "2025-04-09T14:35:35.563Z"
   },
   {
    "duration": 2,
    "start_time": "2025-04-09T14:35:40.999Z"
   },
   {
    "duration": 3,
    "start_time": "2025-04-09T14:35:47.339Z"
   },
   {
    "duration": 1047,
    "start_time": "2025-04-09T14:35:49.890Z"
   },
   {
    "duration": 955,
    "start_time": "2025-04-09T14:35:52.242Z"
   },
   {
    "duration": 1015,
    "start_time": "2025-04-09T14:35:55.209Z"
   },
   {
    "duration": 942,
    "start_time": "2025-04-09T14:35:58.578Z"
   },
   {
    "duration": 5,
    "start_time": "2025-04-09T14:36:04.107Z"
   },
   {
    "duration": 41,
    "start_time": "2025-04-09T14:36:05.687Z"
   },
   {
    "duration": 3,
    "start_time": "2025-04-09T14:36:08.873Z"
   },
   {
    "duration": 31,
    "start_time": "2025-04-09T14:36:09.624Z"
   },
   {
    "duration": 2,
    "start_time": "2025-04-09T14:36:13.722Z"
   },
   {
    "duration": 32,
    "start_time": "2025-04-09T14:36:14.669Z"
   },
   {
    "duration": 3,
    "start_time": "2025-04-09T14:36:18.167Z"
   },
   {
    "duration": 2,
    "start_time": "2025-04-09T14:36:21.468Z"
   },
   {
    "duration": 4,
    "start_time": "2025-04-09T14:36:22.259Z"
   },
   {
    "duration": 3,
    "start_time": "2025-04-09T14:36:23.156Z"
   },
   {
    "duration": 3,
    "start_time": "2025-04-09T14:36:23.885Z"
   },
   {
    "duration": 3,
    "start_time": "2025-04-09T14:36:24.603Z"
   },
   {
    "duration": 3,
    "start_time": "2025-04-09T14:36:25.319Z"
   },
   {
    "duration": 3,
    "start_time": "2025-04-09T14:36:30.712Z"
   },
   {
    "duration": 6,
    "start_time": "2025-04-09T14:36:31.361Z"
   },
   {
    "duration": 6,
    "start_time": "2025-04-09T14:36:32.058Z"
   },
   {
    "duration": 6,
    "start_time": "2025-04-09T14:36:34.194Z"
   },
   {
    "duration": 4,
    "start_time": "2025-04-09T14:36:37.712Z"
   },
   {
    "duration": 3007,
    "start_time": "2025-04-09T14:36:39.437Z"
   },
   {
    "duration": 3011,
    "start_time": "2025-04-09T14:36:42.446Z"
   },
   {
    "duration": 2964,
    "start_time": "2025-04-09T14:36:45.459Z"
   },
   {
    "duration": 6,
    "start_time": "2025-04-09T15:04:44.713Z"
   },
   {
    "duration": 426,
    "start_time": "2025-04-09T15:04:45.803Z"
   },
   {
    "duration": 431,
    "start_time": "2025-04-09T15:04:49.168Z"
   },
   {
    "duration": 442,
    "start_time": "2025-04-09T15:04:50.997Z"
   }
  ],
  "kernelspec": {
   "display_name": "Python 3 (ipykernel)",
   "language": "python",
   "name": "python3"
  },
  "language_info": {
   "codemirror_mode": {
    "name": "ipython",
    "version": 3
   },
   "file_extension": ".py",
   "mimetype": "text/x-python",
   "name": "python",
   "nbconvert_exporter": "python",
   "pygments_lexer": "ipython3",
   "version": "3.12.7"
  },
  "toc": {
   "base_numbering": 1,
   "nav_menu": {},
   "number_sections": true,
   "sideBar": true,
   "skip_h1_title": true,
   "title_cell": "Table of Contents",
   "title_sidebar": "Contents",
   "toc_cell": false,
   "toc_position": {},
   "toc_section_display": true,
   "toc_window_display": false
  }
 },
 "nbformat": 4,
 "nbformat_minor": 4
}
