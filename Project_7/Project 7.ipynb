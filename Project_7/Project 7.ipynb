{
 "cells": [
  {
   "cell_type": "markdown",
   "metadata": {},
   "source": [
    "# Title:Predict the amount of gold recovered from gold ore."
   ]
  },
  {
   "cell_type": "markdown",
   "metadata": {},
   "source": [
    "## Introduction:\n",
    "\n",
    "Our aim is to develop a machine learning model for Zyfra. The company develops efficiency solutions for heavy industry.The model should predict the amount of gold recovered from gold ore. We have the data on extraction and purification. The model will help to optimize the production and eliminate unprofitable parameters. This project consists of following steps:\n",
    "- Prepare the data\n",
    "- Perform data analysis\n",
    "- Develop and train a model."
   ]
  },
  {
   "cell_type": "markdown",
   "metadata": {},
   "source": [
    "### First stage: Prepare the data\n",
    "\n",
    "In this stage import all the libraries and data needed. Also find the missing values, duplicates, dtypes and process the data for analysis. The data is stored in three files and the source dataset contains the training and test sets with all the features. Data is indexed with the date and time of acquisition (date feature). Parameters that are next to each other in terms of time are often similar. Some parameters are not available because they were measured and/or calculated much later. That's why, some of the features that are present in the training set may be absent from the test set. The test set also doesn't contain targets. So merge the test set with targets and find features common to both training and test set.\n"
   ]
  },
  {
   "cell_type": "markdown",
   "metadata": {},
   "source": [
    "#### Load the libraries and import the data:"
   ]
  },
  {
   "cell_type": "code",
   "execution_count": 1,
   "metadata": {},
   "outputs": [],
   "source": [
    "# Import all the libraries\n",
    "import pandas as pd\n",
    "import numpy as np\n",
    "from sklearn.metrics import mean_squared_error, mean_absolute_error,make_scorer\n",
    "from matplotlib import pyplot as plt\n",
    "import seaborn as sns\n",
    "from sklearn.preprocessing import StandardScaler\n",
    "from sklearn.tree import DecisionTreeRegressor\n",
    "from sklearn.model_selection import cross_val_score\n",
    "from sklearn.linear_model import LinearRegression\n",
    "from sklearn.ensemble import RandomForestRegressor\n",
    "from sklearn.model_selection import GridSearchCV"
   ]
  },
  {
   "cell_type": "code",
   "execution_count": 2,
   "metadata": {},
   "outputs": [
    {
     "data": {
      "text/html": [
       "<div>\n",
       "<style scoped>\n",
       "    .dataframe tbody tr th:only-of-type {\n",
       "        vertical-align: middle;\n",
       "    }\n",
       "\n",
       "    .dataframe tbody tr th {\n",
       "        vertical-align: top;\n",
       "    }\n",
       "\n",
       "    .dataframe thead th {\n",
       "        text-align: right;\n",
       "    }\n",
       "</style>\n",
       "<table border=\"1\" class=\"dataframe\">\n",
       "  <thead>\n",
       "    <tr style=\"text-align: right;\">\n",
       "      <th></th>\n",
       "      <th>date</th>\n",
       "      <th>final.output.concentrate_ag</th>\n",
       "      <th>final.output.concentrate_pb</th>\n",
       "      <th>final.output.concentrate_sol</th>\n",
       "      <th>final.output.concentrate_au</th>\n",
       "      <th>final.output.recovery</th>\n",
       "      <th>final.output.tail_ag</th>\n",
       "      <th>final.output.tail_pb</th>\n",
       "      <th>final.output.tail_sol</th>\n",
       "      <th>final.output.tail_au</th>\n",
       "      <th>...</th>\n",
       "      <th>secondary_cleaner.state.floatbank4_a_air</th>\n",
       "      <th>secondary_cleaner.state.floatbank4_a_level</th>\n",
       "      <th>secondary_cleaner.state.floatbank4_b_air</th>\n",
       "      <th>secondary_cleaner.state.floatbank4_b_level</th>\n",
       "      <th>secondary_cleaner.state.floatbank5_a_air</th>\n",
       "      <th>secondary_cleaner.state.floatbank5_a_level</th>\n",
       "      <th>secondary_cleaner.state.floatbank5_b_air</th>\n",
       "      <th>secondary_cleaner.state.floatbank5_b_level</th>\n",
       "      <th>secondary_cleaner.state.floatbank6_a_air</th>\n",
       "      <th>secondary_cleaner.state.floatbank6_a_level</th>\n",
       "    </tr>\n",
       "  </thead>\n",
       "  <tbody>\n",
       "    <tr>\n",
       "      <th>0</th>\n",
       "      <td>2016-01-15 00:00:00</td>\n",
       "      <td>6.055403</td>\n",
       "      <td>9.889648</td>\n",
       "      <td>5.507324</td>\n",
       "      <td>42.192020</td>\n",
       "      <td>70.541216</td>\n",
       "      <td>10.411962</td>\n",
       "      <td>0.895447</td>\n",
       "      <td>16.904297</td>\n",
       "      <td>2.143149</td>\n",
       "      <td>...</td>\n",
       "      <td>14.016835</td>\n",
       "      <td>-502.488007</td>\n",
       "      <td>12.099931</td>\n",
       "      <td>-504.715942</td>\n",
       "      <td>9.925633</td>\n",
       "      <td>-498.310211</td>\n",
       "      <td>8.079666</td>\n",
       "      <td>-500.470978</td>\n",
       "      <td>14.151341</td>\n",
       "      <td>-605.841980</td>\n",
       "    </tr>\n",
       "    <tr>\n",
       "      <th>1</th>\n",
       "      <td>2016-01-15 01:00:00</td>\n",
       "      <td>6.029369</td>\n",
       "      <td>9.968944</td>\n",
       "      <td>5.257781</td>\n",
       "      <td>42.701629</td>\n",
       "      <td>69.266198</td>\n",
       "      <td>10.462676</td>\n",
       "      <td>0.927452</td>\n",
       "      <td>16.634514</td>\n",
       "      <td>2.224930</td>\n",
       "      <td>...</td>\n",
       "      <td>13.992281</td>\n",
       "      <td>-505.503262</td>\n",
       "      <td>11.950531</td>\n",
       "      <td>-501.331529</td>\n",
       "      <td>10.039245</td>\n",
       "      <td>-500.169983</td>\n",
       "      <td>7.984757</td>\n",
       "      <td>-500.582168</td>\n",
       "      <td>13.998353</td>\n",
       "      <td>-599.787184</td>\n",
       "    </tr>\n",
       "    <tr>\n",
       "      <th>2</th>\n",
       "      <td>2016-01-15 02:00:00</td>\n",
       "      <td>6.055926</td>\n",
       "      <td>10.213995</td>\n",
       "      <td>5.383759</td>\n",
       "      <td>42.657501</td>\n",
       "      <td>68.116445</td>\n",
       "      <td>10.507046</td>\n",
       "      <td>0.953716</td>\n",
       "      <td>16.208849</td>\n",
       "      <td>2.257889</td>\n",
       "      <td>...</td>\n",
       "      <td>14.015015</td>\n",
       "      <td>-502.520901</td>\n",
       "      <td>11.912783</td>\n",
       "      <td>-501.133383</td>\n",
       "      <td>10.070913</td>\n",
       "      <td>-500.129135</td>\n",
       "      <td>8.013877</td>\n",
       "      <td>-500.517572</td>\n",
       "      <td>14.028663</td>\n",
       "      <td>-601.427363</td>\n",
       "    </tr>\n",
       "    <tr>\n",
       "      <th>3</th>\n",
       "      <td>2016-01-15 03:00:00</td>\n",
       "      <td>6.047977</td>\n",
       "      <td>9.977019</td>\n",
       "      <td>4.858634</td>\n",
       "      <td>42.689819</td>\n",
       "      <td>68.347543</td>\n",
       "      <td>10.422762</td>\n",
       "      <td>0.883763</td>\n",
       "      <td>16.532835</td>\n",
       "      <td>2.146849</td>\n",
       "      <td>...</td>\n",
       "      <td>14.036510</td>\n",
       "      <td>-500.857308</td>\n",
       "      <td>11.999550</td>\n",
       "      <td>-501.193686</td>\n",
       "      <td>9.970366</td>\n",
       "      <td>-499.201640</td>\n",
       "      <td>7.977324</td>\n",
       "      <td>-500.255908</td>\n",
       "      <td>14.005551</td>\n",
       "      <td>-599.996129</td>\n",
       "    </tr>\n",
       "    <tr>\n",
       "      <th>4</th>\n",
       "      <td>2016-01-15 04:00:00</td>\n",
       "      <td>6.148599</td>\n",
       "      <td>10.142511</td>\n",
       "      <td>4.939416</td>\n",
       "      <td>42.774141</td>\n",
       "      <td>66.927016</td>\n",
       "      <td>10.360302</td>\n",
       "      <td>0.792826</td>\n",
       "      <td>16.525686</td>\n",
       "      <td>2.055292</td>\n",
       "      <td>...</td>\n",
       "      <td>14.027298</td>\n",
       "      <td>-499.838632</td>\n",
       "      <td>11.953070</td>\n",
       "      <td>-501.053894</td>\n",
       "      <td>9.925709</td>\n",
       "      <td>-501.686727</td>\n",
       "      <td>7.894242</td>\n",
       "      <td>-500.356035</td>\n",
       "      <td>13.996647</td>\n",
       "      <td>-601.496691</td>\n",
       "    </tr>\n",
       "    <tr>\n",
       "      <th>...</th>\n",
       "      <td>...</td>\n",
       "      <td>...</td>\n",
       "      <td>...</td>\n",
       "      <td>...</td>\n",
       "      <td>...</td>\n",
       "      <td>...</td>\n",
       "      <td>...</td>\n",
       "      <td>...</td>\n",
       "      <td>...</td>\n",
       "      <td>...</td>\n",
       "      <td>...</td>\n",
       "      <td>...</td>\n",
       "      <td>...</td>\n",
       "      <td>...</td>\n",
       "      <td>...</td>\n",
       "      <td>...</td>\n",
       "      <td>...</td>\n",
       "      <td>...</td>\n",
       "      <td>...</td>\n",
       "      <td>...</td>\n",
       "      <td>...</td>\n",
       "    </tr>\n",
       "    <tr>\n",
       "      <th>16855</th>\n",
       "      <td>2018-08-18 06:59:59</td>\n",
       "      <td>3.224920</td>\n",
       "      <td>11.356233</td>\n",
       "      <td>6.803482</td>\n",
       "      <td>46.713954</td>\n",
       "      <td>73.755150</td>\n",
       "      <td>8.769645</td>\n",
       "      <td>3.141541</td>\n",
       "      <td>10.403181</td>\n",
       "      <td>1.529220</td>\n",
       "      <td>...</td>\n",
       "      <td>23.031497</td>\n",
       "      <td>-501.167942</td>\n",
       "      <td>20.007571</td>\n",
       "      <td>-499.740028</td>\n",
       "      <td>18.006038</td>\n",
       "      <td>-499.834374</td>\n",
       "      <td>13.001114</td>\n",
       "      <td>-500.155694</td>\n",
       "      <td>20.007840</td>\n",
       "      <td>-501.296428</td>\n",
       "    </tr>\n",
       "    <tr>\n",
       "      <th>16856</th>\n",
       "      <td>2018-08-18 07:59:59</td>\n",
       "      <td>3.195978</td>\n",
       "      <td>11.349355</td>\n",
       "      <td>6.862249</td>\n",
       "      <td>46.866780</td>\n",
       "      <td>69.049291</td>\n",
       "      <td>8.897321</td>\n",
       "      <td>3.130493</td>\n",
       "      <td>10.549470</td>\n",
       "      <td>1.612542</td>\n",
       "      <td>...</td>\n",
       "      <td>22.960095</td>\n",
       "      <td>-501.612783</td>\n",
       "      <td>20.035660</td>\n",
       "      <td>-500.251357</td>\n",
       "      <td>17.998535</td>\n",
       "      <td>-500.395178</td>\n",
       "      <td>12.954048</td>\n",
       "      <td>-499.895163</td>\n",
       "      <td>19.968498</td>\n",
       "      <td>-501.041608</td>\n",
       "    </tr>\n",
       "    <tr>\n",
       "      <th>16857</th>\n",
       "      <td>2018-08-18 08:59:59</td>\n",
       "      <td>3.109998</td>\n",
       "      <td>11.434366</td>\n",
       "      <td>6.886013</td>\n",
       "      <td>46.795691</td>\n",
       "      <td>67.002189</td>\n",
       "      <td>8.529606</td>\n",
       "      <td>2.911418</td>\n",
       "      <td>11.115147</td>\n",
       "      <td>1.596616</td>\n",
       "      <td>...</td>\n",
       "      <td>23.015718</td>\n",
       "      <td>-501.711599</td>\n",
       "      <td>19.951231</td>\n",
       "      <td>-499.857027</td>\n",
       "      <td>18.019543</td>\n",
       "      <td>-500.451156</td>\n",
       "      <td>13.023431</td>\n",
       "      <td>-499.914391</td>\n",
       "      <td>19.990885</td>\n",
       "      <td>-501.518452</td>\n",
       "    </tr>\n",
       "    <tr>\n",
       "      <th>16858</th>\n",
       "      <td>2018-08-18 09:59:59</td>\n",
       "      <td>3.367241</td>\n",
       "      <td>11.625587</td>\n",
       "      <td>6.799433</td>\n",
       "      <td>46.408188</td>\n",
       "      <td>65.523246</td>\n",
       "      <td>8.777171</td>\n",
       "      <td>2.819214</td>\n",
       "      <td>10.463847</td>\n",
       "      <td>1.602879</td>\n",
       "      <td>...</td>\n",
       "      <td>23.024963</td>\n",
       "      <td>-501.153409</td>\n",
       "      <td>20.054122</td>\n",
       "      <td>-500.314711</td>\n",
       "      <td>17.979515</td>\n",
       "      <td>-499.272871</td>\n",
       "      <td>12.992404</td>\n",
       "      <td>-499.976268</td>\n",
       "      <td>20.013986</td>\n",
       "      <td>-500.625471</td>\n",
       "    </tr>\n",
       "    <tr>\n",
       "      <th>16859</th>\n",
       "      <td>2018-08-18 10:59:59</td>\n",
       "      <td>3.598375</td>\n",
       "      <td>11.737832</td>\n",
       "      <td>6.717509</td>\n",
       "      <td>46.299438</td>\n",
       "      <td>70.281454</td>\n",
       "      <td>8.406690</td>\n",
       "      <td>2.517518</td>\n",
       "      <td>10.652193</td>\n",
       "      <td>1.389434</td>\n",
       "      <td>...</td>\n",
       "      <td>23.018622</td>\n",
       "      <td>-500.492702</td>\n",
       "      <td>20.020205</td>\n",
       "      <td>-500.220296</td>\n",
       "      <td>17.963512</td>\n",
       "      <td>-499.939490</td>\n",
       "      <td>12.990306</td>\n",
       "      <td>-500.080993</td>\n",
       "      <td>19.990336</td>\n",
       "      <td>-499.191575</td>\n",
       "    </tr>\n",
       "  </tbody>\n",
       "</table>\n",
       "<p>16860 rows × 87 columns</p>\n",
       "</div>"
      ],
      "text/plain": [
       "                      date  final.output.concentrate_ag  \\\n",
       "0      2016-01-15 00:00:00                     6.055403   \n",
       "1      2016-01-15 01:00:00                     6.029369   \n",
       "2      2016-01-15 02:00:00                     6.055926   \n",
       "3      2016-01-15 03:00:00                     6.047977   \n",
       "4      2016-01-15 04:00:00                     6.148599   \n",
       "...                    ...                          ...   \n",
       "16855  2018-08-18 06:59:59                     3.224920   \n",
       "16856  2018-08-18 07:59:59                     3.195978   \n",
       "16857  2018-08-18 08:59:59                     3.109998   \n",
       "16858  2018-08-18 09:59:59                     3.367241   \n",
       "16859  2018-08-18 10:59:59                     3.598375   \n",
       "\n",
       "       final.output.concentrate_pb  final.output.concentrate_sol  \\\n",
       "0                         9.889648                      5.507324   \n",
       "1                         9.968944                      5.257781   \n",
       "2                        10.213995                      5.383759   \n",
       "3                         9.977019                      4.858634   \n",
       "4                        10.142511                      4.939416   \n",
       "...                            ...                           ...   \n",
       "16855                    11.356233                      6.803482   \n",
       "16856                    11.349355                      6.862249   \n",
       "16857                    11.434366                      6.886013   \n",
       "16858                    11.625587                      6.799433   \n",
       "16859                    11.737832                      6.717509   \n",
       "\n",
       "       final.output.concentrate_au  final.output.recovery  \\\n",
       "0                        42.192020              70.541216   \n",
       "1                        42.701629              69.266198   \n",
       "2                        42.657501              68.116445   \n",
       "3                        42.689819              68.347543   \n",
       "4                        42.774141              66.927016   \n",
       "...                            ...                    ...   \n",
       "16855                    46.713954              73.755150   \n",
       "16856                    46.866780              69.049291   \n",
       "16857                    46.795691              67.002189   \n",
       "16858                    46.408188              65.523246   \n",
       "16859                    46.299438              70.281454   \n",
       "\n",
       "       final.output.tail_ag  final.output.tail_pb  final.output.tail_sol  \\\n",
       "0                 10.411962              0.895447              16.904297   \n",
       "1                 10.462676              0.927452              16.634514   \n",
       "2                 10.507046              0.953716              16.208849   \n",
       "3                 10.422762              0.883763              16.532835   \n",
       "4                 10.360302              0.792826              16.525686   \n",
       "...                     ...                   ...                    ...   \n",
       "16855              8.769645              3.141541              10.403181   \n",
       "16856              8.897321              3.130493              10.549470   \n",
       "16857              8.529606              2.911418              11.115147   \n",
       "16858              8.777171              2.819214              10.463847   \n",
       "16859              8.406690              2.517518              10.652193   \n",
       "\n",
       "       final.output.tail_au  ...  secondary_cleaner.state.floatbank4_a_air  \\\n",
       "0                  2.143149  ...                                 14.016835   \n",
       "1                  2.224930  ...                                 13.992281   \n",
       "2                  2.257889  ...                                 14.015015   \n",
       "3                  2.146849  ...                                 14.036510   \n",
       "4                  2.055292  ...                                 14.027298   \n",
       "...                     ...  ...                                       ...   \n",
       "16855              1.529220  ...                                 23.031497   \n",
       "16856              1.612542  ...                                 22.960095   \n",
       "16857              1.596616  ...                                 23.015718   \n",
       "16858              1.602879  ...                                 23.024963   \n",
       "16859              1.389434  ...                                 23.018622   \n",
       "\n",
       "       secondary_cleaner.state.floatbank4_a_level  \\\n",
       "0                                     -502.488007   \n",
       "1                                     -505.503262   \n",
       "2                                     -502.520901   \n",
       "3                                     -500.857308   \n",
       "4                                     -499.838632   \n",
       "...                                           ...   \n",
       "16855                                 -501.167942   \n",
       "16856                                 -501.612783   \n",
       "16857                                 -501.711599   \n",
       "16858                                 -501.153409   \n",
       "16859                                 -500.492702   \n",
       "\n",
       "       secondary_cleaner.state.floatbank4_b_air  \\\n",
       "0                                     12.099931   \n",
       "1                                     11.950531   \n",
       "2                                     11.912783   \n",
       "3                                     11.999550   \n",
       "4                                     11.953070   \n",
       "...                                         ...   \n",
       "16855                                 20.007571   \n",
       "16856                                 20.035660   \n",
       "16857                                 19.951231   \n",
       "16858                                 20.054122   \n",
       "16859                                 20.020205   \n",
       "\n",
       "       secondary_cleaner.state.floatbank4_b_level  \\\n",
       "0                                     -504.715942   \n",
       "1                                     -501.331529   \n",
       "2                                     -501.133383   \n",
       "3                                     -501.193686   \n",
       "4                                     -501.053894   \n",
       "...                                           ...   \n",
       "16855                                 -499.740028   \n",
       "16856                                 -500.251357   \n",
       "16857                                 -499.857027   \n",
       "16858                                 -500.314711   \n",
       "16859                                 -500.220296   \n",
       "\n",
       "       secondary_cleaner.state.floatbank5_a_air  \\\n",
       "0                                      9.925633   \n",
       "1                                     10.039245   \n",
       "2                                     10.070913   \n",
       "3                                      9.970366   \n",
       "4                                      9.925709   \n",
       "...                                         ...   \n",
       "16855                                 18.006038   \n",
       "16856                                 17.998535   \n",
       "16857                                 18.019543   \n",
       "16858                                 17.979515   \n",
       "16859                                 17.963512   \n",
       "\n",
       "       secondary_cleaner.state.floatbank5_a_level  \\\n",
       "0                                     -498.310211   \n",
       "1                                     -500.169983   \n",
       "2                                     -500.129135   \n",
       "3                                     -499.201640   \n",
       "4                                     -501.686727   \n",
       "...                                           ...   \n",
       "16855                                 -499.834374   \n",
       "16856                                 -500.395178   \n",
       "16857                                 -500.451156   \n",
       "16858                                 -499.272871   \n",
       "16859                                 -499.939490   \n",
       "\n",
       "       secondary_cleaner.state.floatbank5_b_air  \\\n",
       "0                                      8.079666   \n",
       "1                                      7.984757   \n",
       "2                                      8.013877   \n",
       "3                                      7.977324   \n",
       "4                                      7.894242   \n",
       "...                                         ...   \n",
       "16855                                 13.001114   \n",
       "16856                                 12.954048   \n",
       "16857                                 13.023431   \n",
       "16858                                 12.992404   \n",
       "16859                                 12.990306   \n",
       "\n",
       "       secondary_cleaner.state.floatbank5_b_level  \\\n",
       "0                                     -500.470978   \n",
       "1                                     -500.582168   \n",
       "2                                     -500.517572   \n",
       "3                                     -500.255908   \n",
       "4                                     -500.356035   \n",
       "...                                           ...   \n",
       "16855                                 -500.155694   \n",
       "16856                                 -499.895163   \n",
       "16857                                 -499.914391   \n",
       "16858                                 -499.976268   \n",
       "16859                                 -500.080993   \n",
       "\n",
       "       secondary_cleaner.state.floatbank6_a_air  \\\n",
       "0                                     14.151341   \n",
       "1                                     13.998353   \n",
       "2                                     14.028663   \n",
       "3                                     14.005551   \n",
       "4                                     13.996647   \n",
       "...                                         ...   \n",
       "16855                                 20.007840   \n",
       "16856                                 19.968498   \n",
       "16857                                 19.990885   \n",
       "16858                                 20.013986   \n",
       "16859                                 19.990336   \n",
       "\n",
       "       secondary_cleaner.state.floatbank6_a_level  \n",
       "0                                     -605.841980  \n",
       "1                                     -599.787184  \n",
       "2                                     -601.427363  \n",
       "3                                     -599.996129  \n",
       "4                                     -601.496691  \n",
       "...                                           ...  \n",
       "16855                                 -501.296428  \n",
       "16856                                 -501.041608  \n",
       "16857                                 -501.518452  \n",
       "16858                                 -500.625471  \n",
       "16859                                 -499.191575  \n",
       "\n",
       "[16860 rows x 87 columns]"
      ]
     },
     "metadata": {},
     "output_type": "display_data"
    }
   ],
   "source": [
    "# Load data set\n",
    "data_train =pd.read_csv('/datasets/gold_recovery_train.csv')\n",
    "display(data_train)"
   ]
  },
  {
   "cell_type": "code",
   "execution_count": 3,
   "metadata": {},
   "outputs": [
    {
     "name": "stdout",
     "output_type": "stream",
     "text": [
      "<class 'pandas.core.frame.DataFrame'>\n",
      "RangeIndex: 16860 entries, 0 to 16859\n",
      "Data columns (total 87 columns):\n",
      " #   Column                                              Non-Null Count  Dtype  \n",
      "---  ------                                              --------------  -----  \n",
      " 0   date                                                16860 non-null  object \n",
      " 1   final.output.concentrate_ag                         16788 non-null  float64\n",
      " 2   final.output.concentrate_pb                         16788 non-null  float64\n",
      " 3   final.output.concentrate_sol                        16490 non-null  float64\n",
      " 4   final.output.concentrate_au                         16789 non-null  float64\n",
      " 5   final.output.recovery                               15339 non-null  float64\n",
      " 6   final.output.tail_ag                                16794 non-null  float64\n",
      " 7   final.output.tail_pb                                16677 non-null  float64\n",
      " 8   final.output.tail_sol                               16715 non-null  float64\n",
      " 9   final.output.tail_au                                16794 non-null  float64\n",
      " 10  primary_cleaner.input.sulfate                       15553 non-null  float64\n",
      " 11  primary_cleaner.input.depressant                    15598 non-null  float64\n",
      " 12  primary_cleaner.input.feed_size                     16860 non-null  float64\n",
      " 13  primary_cleaner.input.xanthate                      15875 non-null  float64\n",
      " 14  primary_cleaner.output.concentrate_ag               16778 non-null  float64\n",
      " 15  primary_cleaner.output.concentrate_pb               16502 non-null  float64\n",
      " 16  primary_cleaner.output.concentrate_sol              16224 non-null  float64\n",
      " 17  primary_cleaner.output.concentrate_au               16778 non-null  float64\n",
      " 18  primary_cleaner.output.tail_ag                      16777 non-null  float64\n",
      " 19  primary_cleaner.output.tail_pb                      16761 non-null  float64\n",
      " 20  primary_cleaner.output.tail_sol                     16579 non-null  float64\n",
      " 21  primary_cleaner.output.tail_au                      16777 non-null  float64\n",
      " 22  primary_cleaner.state.floatbank8_a_air              16820 non-null  float64\n",
      " 23  primary_cleaner.state.floatbank8_a_level            16827 non-null  float64\n",
      " 24  primary_cleaner.state.floatbank8_b_air              16820 non-null  float64\n",
      " 25  primary_cleaner.state.floatbank8_b_level            16833 non-null  float64\n",
      " 26  primary_cleaner.state.floatbank8_c_air              16822 non-null  float64\n",
      " 27  primary_cleaner.state.floatbank8_c_level            16833 non-null  float64\n",
      " 28  primary_cleaner.state.floatbank8_d_air              16821 non-null  float64\n",
      " 29  primary_cleaner.state.floatbank8_d_level            16833 non-null  float64\n",
      " 30  rougher.calculation.sulfate_to_au_concentrate       16833 non-null  float64\n",
      " 31  rougher.calculation.floatbank10_sulfate_to_au_feed  16833 non-null  float64\n",
      " 32  rougher.calculation.floatbank11_sulfate_to_au_feed  16833 non-null  float64\n",
      " 33  rougher.calculation.au_pb_ratio                     15618 non-null  float64\n",
      " 34  rougher.input.feed_ag                               16778 non-null  float64\n",
      " 35  rougher.input.feed_pb                               16632 non-null  float64\n",
      " 36  rougher.input.feed_rate                             16347 non-null  float64\n",
      " 37  rougher.input.feed_size                             16443 non-null  float64\n",
      " 38  rougher.input.feed_sol                              16568 non-null  float64\n",
      " 39  rougher.input.feed_au                               16777 non-null  float64\n",
      " 40  rougher.input.floatbank10_sulfate                   15816 non-null  float64\n",
      " 41  rougher.input.floatbank10_xanthate                  16514 non-null  float64\n",
      " 42  rougher.input.floatbank11_sulfate                   16237 non-null  float64\n",
      " 43  rougher.input.floatbank11_xanthate                  14956 non-null  float64\n",
      " 44  rougher.output.concentrate_ag                       16778 non-null  float64\n",
      " 45  rougher.output.concentrate_pb                       16778 non-null  float64\n",
      " 46  rougher.output.concentrate_sol                      16698 non-null  float64\n",
      " 47  rougher.output.concentrate_au                       16778 non-null  float64\n",
      " 48  rougher.output.recovery                             14287 non-null  float64\n",
      " 49  rougher.output.tail_ag                              14610 non-null  float64\n",
      " 50  rougher.output.tail_pb                              16778 non-null  float64\n",
      " 51  rougher.output.tail_sol                             14611 non-null  float64\n",
      " 52  rougher.output.tail_au                              14611 non-null  float64\n",
      " 53  rougher.state.floatbank10_a_air                     16807 non-null  float64\n",
      " 54  rougher.state.floatbank10_a_level                   16807 non-null  float64\n",
      " 55  rougher.state.floatbank10_b_air                     16807 non-null  float64\n",
      " 56  rougher.state.floatbank10_b_level                   16807 non-null  float64\n",
      " 57  rougher.state.floatbank10_c_air                     16807 non-null  float64\n",
      " 58  rougher.state.floatbank10_c_level                   16814 non-null  float64\n",
      " 59  rougher.state.floatbank10_d_air                     16802 non-null  float64\n",
      " 60  rougher.state.floatbank10_d_level                   16809 non-null  float64\n",
      " 61  rougher.state.floatbank10_e_air                     16257 non-null  float64\n",
      " 62  rougher.state.floatbank10_e_level                   16809 non-null  float64\n",
      " 63  rougher.state.floatbank10_f_air                     16802 non-null  float64\n",
      " 64  rougher.state.floatbank10_f_level                   16802 non-null  float64\n",
      " 65  secondary_cleaner.output.tail_ag                    16776 non-null  float64\n",
      " 66  secondary_cleaner.output.tail_pb                    16764 non-null  float64\n",
      " 67  secondary_cleaner.output.tail_sol                   14874 non-null  float64\n",
      " 68  secondary_cleaner.output.tail_au                    16778 non-null  float64\n",
      " 69  secondary_cleaner.state.floatbank2_a_air            16497 non-null  float64\n",
      " 70  secondary_cleaner.state.floatbank2_a_level          16751 non-null  float64\n",
      " 71  secondary_cleaner.state.floatbank2_b_air            16705 non-null  float64\n",
      " 72  secondary_cleaner.state.floatbank2_b_level          16748 non-null  float64\n",
      " 73  secondary_cleaner.state.floatbank3_a_air            16763 non-null  float64\n",
      " 74  secondary_cleaner.state.floatbank3_a_level          16747 non-null  float64\n",
      " 75  secondary_cleaner.state.floatbank3_b_air            16752 non-null  float64\n",
      " 76  secondary_cleaner.state.floatbank3_b_level          16750 non-null  float64\n",
      " 77  secondary_cleaner.state.floatbank4_a_air            16731 non-null  float64\n",
      " 78  secondary_cleaner.state.floatbank4_a_level          16747 non-null  float64\n",
      " 79  secondary_cleaner.state.floatbank4_b_air            16768 non-null  float64\n",
      " 80  secondary_cleaner.state.floatbank4_b_level          16767 non-null  float64\n",
      " 81  secondary_cleaner.state.floatbank5_a_air            16775 non-null  float64\n",
      " 82  secondary_cleaner.state.floatbank5_a_level          16775 non-null  float64\n",
      " 83  secondary_cleaner.state.floatbank5_b_air            16775 non-null  float64\n",
      " 84  secondary_cleaner.state.floatbank5_b_level          16776 non-null  float64\n",
      " 85  secondary_cleaner.state.floatbank6_a_air            16757 non-null  float64\n",
      " 86  secondary_cleaner.state.floatbank6_a_level          16775 non-null  float64\n",
      "dtypes: float64(86), object(1)\n",
      "memory usage: 11.2+ MB\n"
     ]
    }
   ],
   "source": [
    "#Check information\n",
    "data_train.info()"
   ]
  },
  {
   "cell_type": "code",
   "execution_count": 4,
   "metadata": {},
   "outputs": [
    {
     "data": {
      "text/html": [
       "<div>\n",
       "<style scoped>\n",
       "    .dataframe tbody tr th:only-of-type {\n",
       "        vertical-align: middle;\n",
       "    }\n",
       "\n",
       "    .dataframe tbody tr th {\n",
       "        vertical-align: top;\n",
       "    }\n",
       "\n",
       "    .dataframe thead th {\n",
       "        text-align: right;\n",
       "    }\n",
       "</style>\n",
       "<table border=\"1\" class=\"dataframe\">\n",
       "  <thead>\n",
       "    <tr style=\"text-align: right;\">\n",
       "      <th></th>\n",
       "      <th>date</th>\n",
       "      <th>primary_cleaner.input.sulfate</th>\n",
       "      <th>primary_cleaner.input.depressant</th>\n",
       "      <th>primary_cleaner.input.feed_size</th>\n",
       "      <th>primary_cleaner.input.xanthate</th>\n",
       "      <th>primary_cleaner.state.floatbank8_a_air</th>\n",
       "      <th>primary_cleaner.state.floatbank8_a_level</th>\n",
       "      <th>primary_cleaner.state.floatbank8_b_air</th>\n",
       "      <th>primary_cleaner.state.floatbank8_b_level</th>\n",
       "      <th>primary_cleaner.state.floatbank8_c_air</th>\n",
       "      <th>...</th>\n",
       "      <th>secondary_cleaner.state.floatbank4_a_air</th>\n",
       "      <th>secondary_cleaner.state.floatbank4_a_level</th>\n",
       "      <th>secondary_cleaner.state.floatbank4_b_air</th>\n",
       "      <th>secondary_cleaner.state.floatbank4_b_level</th>\n",
       "      <th>secondary_cleaner.state.floatbank5_a_air</th>\n",
       "      <th>secondary_cleaner.state.floatbank5_a_level</th>\n",
       "      <th>secondary_cleaner.state.floatbank5_b_air</th>\n",
       "      <th>secondary_cleaner.state.floatbank5_b_level</th>\n",
       "      <th>secondary_cleaner.state.floatbank6_a_air</th>\n",
       "      <th>secondary_cleaner.state.floatbank6_a_level</th>\n",
       "    </tr>\n",
       "  </thead>\n",
       "  <tbody>\n",
       "    <tr>\n",
       "      <th>0</th>\n",
       "      <td>2016-09-01 00:59:59</td>\n",
       "      <td>210.800909</td>\n",
       "      <td>14.993118</td>\n",
       "      <td>8.080000</td>\n",
       "      <td>1.005021</td>\n",
       "      <td>1398.981301</td>\n",
       "      <td>-500.225577</td>\n",
       "      <td>1399.144926</td>\n",
       "      <td>-499.919735</td>\n",
       "      <td>1400.102998</td>\n",
       "      <td>...</td>\n",
       "      <td>12.023554</td>\n",
       "      <td>-497.795834</td>\n",
       "      <td>8.016656</td>\n",
       "      <td>-501.289139</td>\n",
       "      <td>7.946562</td>\n",
       "      <td>-432.317850</td>\n",
       "      <td>4.872511</td>\n",
       "      <td>-500.037437</td>\n",
       "      <td>26.705889</td>\n",
       "      <td>-499.709414</td>\n",
       "    </tr>\n",
       "    <tr>\n",
       "      <th>1</th>\n",
       "      <td>2016-09-01 01:59:59</td>\n",
       "      <td>215.392455</td>\n",
       "      <td>14.987471</td>\n",
       "      <td>8.080000</td>\n",
       "      <td>0.990469</td>\n",
       "      <td>1398.777912</td>\n",
       "      <td>-500.057435</td>\n",
       "      <td>1398.055362</td>\n",
       "      <td>-499.778182</td>\n",
       "      <td>1396.151033</td>\n",
       "      <td>...</td>\n",
       "      <td>12.058140</td>\n",
       "      <td>-498.695773</td>\n",
       "      <td>8.130979</td>\n",
       "      <td>-499.634209</td>\n",
       "      <td>7.958270</td>\n",
       "      <td>-525.839648</td>\n",
       "      <td>4.878850</td>\n",
       "      <td>-500.162375</td>\n",
       "      <td>25.019940</td>\n",
       "      <td>-499.819438</td>\n",
       "    </tr>\n",
       "    <tr>\n",
       "      <th>2</th>\n",
       "      <td>2016-09-01 02:59:59</td>\n",
       "      <td>215.259946</td>\n",
       "      <td>12.884934</td>\n",
       "      <td>7.786667</td>\n",
       "      <td>0.996043</td>\n",
       "      <td>1398.493666</td>\n",
       "      <td>-500.868360</td>\n",
       "      <td>1398.860436</td>\n",
       "      <td>-499.764529</td>\n",
       "      <td>1398.075709</td>\n",
       "      <td>...</td>\n",
       "      <td>11.962366</td>\n",
       "      <td>-498.767484</td>\n",
       "      <td>8.096893</td>\n",
       "      <td>-500.827423</td>\n",
       "      <td>8.071056</td>\n",
       "      <td>-500.801673</td>\n",
       "      <td>4.905125</td>\n",
       "      <td>-499.828510</td>\n",
       "      <td>24.994862</td>\n",
       "      <td>-500.622559</td>\n",
       "    </tr>\n",
       "    <tr>\n",
       "      <th>3</th>\n",
       "      <td>2016-09-01 03:59:59</td>\n",
       "      <td>215.336236</td>\n",
       "      <td>12.006805</td>\n",
       "      <td>7.640000</td>\n",
       "      <td>0.863514</td>\n",
       "      <td>1399.618111</td>\n",
       "      <td>-498.863574</td>\n",
       "      <td>1397.440120</td>\n",
       "      <td>-499.211024</td>\n",
       "      <td>1400.129303</td>\n",
       "      <td>...</td>\n",
       "      <td>12.033091</td>\n",
       "      <td>-498.350935</td>\n",
       "      <td>8.074946</td>\n",
       "      <td>-499.474407</td>\n",
       "      <td>7.897085</td>\n",
       "      <td>-500.868509</td>\n",
       "      <td>4.931400</td>\n",
       "      <td>-499.963623</td>\n",
       "      <td>24.948919</td>\n",
       "      <td>-498.709987</td>\n",
       "    </tr>\n",
       "    <tr>\n",
       "      <th>4</th>\n",
       "      <td>2016-09-01 04:59:59</td>\n",
       "      <td>199.099327</td>\n",
       "      <td>10.682530</td>\n",
       "      <td>7.530000</td>\n",
       "      <td>0.805575</td>\n",
       "      <td>1401.268123</td>\n",
       "      <td>-500.808305</td>\n",
       "      <td>1398.128818</td>\n",
       "      <td>-499.504543</td>\n",
       "      <td>1402.172226</td>\n",
       "      <td>...</td>\n",
       "      <td>12.025367</td>\n",
       "      <td>-500.786497</td>\n",
       "      <td>8.054678</td>\n",
       "      <td>-500.397500</td>\n",
       "      <td>8.107890</td>\n",
       "      <td>-509.526725</td>\n",
       "      <td>4.957674</td>\n",
       "      <td>-500.360026</td>\n",
       "      <td>25.003331</td>\n",
       "      <td>-500.856333</td>\n",
       "    </tr>\n",
       "    <tr>\n",
       "      <th>...</th>\n",
       "      <td>...</td>\n",
       "      <td>...</td>\n",
       "      <td>...</td>\n",
       "      <td>...</td>\n",
       "      <td>...</td>\n",
       "      <td>...</td>\n",
       "      <td>...</td>\n",
       "      <td>...</td>\n",
       "      <td>...</td>\n",
       "      <td>...</td>\n",
       "      <td>...</td>\n",
       "      <td>...</td>\n",
       "      <td>...</td>\n",
       "      <td>...</td>\n",
       "      <td>...</td>\n",
       "      <td>...</td>\n",
       "      <td>...</td>\n",
       "      <td>...</td>\n",
       "      <td>...</td>\n",
       "      <td>...</td>\n",
       "      <td>...</td>\n",
       "    </tr>\n",
       "    <tr>\n",
       "      <th>5851</th>\n",
       "      <td>2017-12-31 19:59:59</td>\n",
       "      <td>173.957757</td>\n",
       "      <td>15.963399</td>\n",
       "      <td>8.070000</td>\n",
       "      <td>0.896701</td>\n",
       "      <td>1401.930554</td>\n",
       "      <td>-499.728848</td>\n",
       "      <td>1401.441445</td>\n",
       "      <td>-499.193423</td>\n",
       "      <td>1399.810313</td>\n",
       "      <td>...</td>\n",
       "      <td>13.995957</td>\n",
       "      <td>-500.157454</td>\n",
       "      <td>12.069155</td>\n",
       "      <td>-499.673279</td>\n",
       "      <td>7.977259</td>\n",
       "      <td>-499.516126</td>\n",
       "      <td>5.933319</td>\n",
       "      <td>-499.965973</td>\n",
       "      <td>8.987171</td>\n",
       "      <td>-499.755909</td>\n",
       "    </tr>\n",
       "    <tr>\n",
       "      <th>5852</th>\n",
       "      <td>2017-12-31 20:59:59</td>\n",
       "      <td>172.910270</td>\n",
       "      <td>16.002605</td>\n",
       "      <td>8.070000</td>\n",
       "      <td>0.896519</td>\n",
       "      <td>1447.075722</td>\n",
       "      <td>-494.716823</td>\n",
       "      <td>1448.851892</td>\n",
       "      <td>-465.963026</td>\n",
       "      <td>1443.890424</td>\n",
       "      <td>...</td>\n",
       "      <td>16.749781</td>\n",
       "      <td>-496.031539</td>\n",
       "      <td>13.365371</td>\n",
       "      <td>-499.122723</td>\n",
       "      <td>9.288553</td>\n",
       "      <td>-496.892967</td>\n",
       "      <td>7.372897</td>\n",
       "      <td>-499.942956</td>\n",
       "      <td>8.986832</td>\n",
       "      <td>-499.903761</td>\n",
       "    </tr>\n",
       "    <tr>\n",
       "      <th>5853</th>\n",
       "      <td>2017-12-31 21:59:59</td>\n",
       "      <td>171.135718</td>\n",
       "      <td>15.993669</td>\n",
       "      <td>8.070000</td>\n",
       "      <td>1.165996</td>\n",
       "      <td>1498.836182</td>\n",
       "      <td>-501.770403</td>\n",
       "      <td>1499.572353</td>\n",
       "      <td>-495.516347</td>\n",
       "      <td>1502.749213</td>\n",
       "      <td>...</td>\n",
       "      <td>19.994130</td>\n",
       "      <td>-499.791312</td>\n",
       "      <td>15.101425</td>\n",
       "      <td>-499.936252</td>\n",
       "      <td>10.989181</td>\n",
       "      <td>-498.347898</td>\n",
       "      <td>9.020944</td>\n",
       "      <td>-500.040448</td>\n",
       "      <td>8.982038</td>\n",
       "      <td>-497.789882</td>\n",
       "    </tr>\n",
       "    <tr>\n",
       "      <th>5854</th>\n",
       "      <td>2017-12-31 22:59:59</td>\n",
       "      <td>179.697158</td>\n",
       "      <td>15.438979</td>\n",
       "      <td>8.070000</td>\n",
       "      <td>1.501068</td>\n",
       "      <td>1498.466243</td>\n",
       "      <td>-500.483984</td>\n",
       "      <td>1497.986986</td>\n",
       "      <td>-519.200340</td>\n",
       "      <td>1496.569047</td>\n",
       "      <td>...</td>\n",
       "      <td>19.958760</td>\n",
       "      <td>-499.958750</td>\n",
       "      <td>15.026853</td>\n",
       "      <td>-499.723143</td>\n",
       "      <td>11.011607</td>\n",
       "      <td>-499.985046</td>\n",
       "      <td>9.009783</td>\n",
       "      <td>-499.937902</td>\n",
       "      <td>9.012660</td>\n",
       "      <td>-500.154284</td>\n",
       "    </tr>\n",
       "    <tr>\n",
       "      <th>5855</th>\n",
       "      <td>2017-12-31 23:59:59</td>\n",
       "      <td>181.556856</td>\n",
       "      <td>14.995850</td>\n",
       "      <td>8.070000</td>\n",
       "      <td>1.623454</td>\n",
       "      <td>1498.096303</td>\n",
       "      <td>-499.796922</td>\n",
       "      <td>1501.743791</td>\n",
       "      <td>-505.146931</td>\n",
       "      <td>1499.535978</td>\n",
       "      <td>...</td>\n",
       "      <td>20.034715</td>\n",
       "      <td>-500.728588</td>\n",
       "      <td>14.914199</td>\n",
       "      <td>-499.948518</td>\n",
       "      <td>10.986607</td>\n",
       "      <td>-500.658027</td>\n",
       "      <td>8.989497</td>\n",
       "      <td>-500.337588</td>\n",
       "      <td>8.988632</td>\n",
       "      <td>-500.764937</td>\n",
       "    </tr>\n",
       "  </tbody>\n",
       "</table>\n",
       "<p>5856 rows × 53 columns</p>\n",
       "</div>"
      ],
      "text/plain": [
       "                     date  primary_cleaner.input.sulfate  \\\n",
       "0     2016-09-01 00:59:59                     210.800909   \n",
       "1     2016-09-01 01:59:59                     215.392455   \n",
       "2     2016-09-01 02:59:59                     215.259946   \n",
       "3     2016-09-01 03:59:59                     215.336236   \n",
       "4     2016-09-01 04:59:59                     199.099327   \n",
       "...                   ...                            ...   \n",
       "5851  2017-12-31 19:59:59                     173.957757   \n",
       "5852  2017-12-31 20:59:59                     172.910270   \n",
       "5853  2017-12-31 21:59:59                     171.135718   \n",
       "5854  2017-12-31 22:59:59                     179.697158   \n",
       "5855  2017-12-31 23:59:59                     181.556856   \n",
       "\n",
       "      primary_cleaner.input.depressant  primary_cleaner.input.feed_size  \\\n",
       "0                            14.993118                         8.080000   \n",
       "1                            14.987471                         8.080000   \n",
       "2                            12.884934                         7.786667   \n",
       "3                            12.006805                         7.640000   \n",
       "4                            10.682530                         7.530000   \n",
       "...                                ...                              ...   \n",
       "5851                         15.963399                         8.070000   \n",
       "5852                         16.002605                         8.070000   \n",
       "5853                         15.993669                         8.070000   \n",
       "5854                         15.438979                         8.070000   \n",
       "5855                         14.995850                         8.070000   \n",
       "\n",
       "      primary_cleaner.input.xanthate  primary_cleaner.state.floatbank8_a_air  \\\n",
       "0                           1.005021                             1398.981301   \n",
       "1                           0.990469                             1398.777912   \n",
       "2                           0.996043                             1398.493666   \n",
       "3                           0.863514                             1399.618111   \n",
       "4                           0.805575                             1401.268123   \n",
       "...                              ...                                     ...   \n",
       "5851                        0.896701                             1401.930554   \n",
       "5852                        0.896519                             1447.075722   \n",
       "5853                        1.165996                             1498.836182   \n",
       "5854                        1.501068                             1498.466243   \n",
       "5855                        1.623454                             1498.096303   \n",
       "\n",
       "      primary_cleaner.state.floatbank8_a_level  \\\n",
       "0                                  -500.225577   \n",
       "1                                  -500.057435   \n",
       "2                                  -500.868360   \n",
       "3                                  -498.863574   \n",
       "4                                  -500.808305   \n",
       "...                                        ...   \n",
       "5851                               -499.728848   \n",
       "5852                               -494.716823   \n",
       "5853                               -501.770403   \n",
       "5854                               -500.483984   \n",
       "5855                               -499.796922   \n",
       "\n",
       "      primary_cleaner.state.floatbank8_b_air  \\\n",
       "0                                1399.144926   \n",
       "1                                1398.055362   \n",
       "2                                1398.860436   \n",
       "3                                1397.440120   \n",
       "4                                1398.128818   \n",
       "...                                      ...   \n",
       "5851                             1401.441445   \n",
       "5852                             1448.851892   \n",
       "5853                             1499.572353   \n",
       "5854                             1497.986986   \n",
       "5855                             1501.743791   \n",
       "\n",
       "      primary_cleaner.state.floatbank8_b_level  \\\n",
       "0                                  -499.919735   \n",
       "1                                  -499.778182   \n",
       "2                                  -499.764529   \n",
       "3                                  -499.211024   \n",
       "4                                  -499.504543   \n",
       "...                                        ...   \n",
       "5851                               -499.193423   \n",
       "5852                               -465.963026   \n",
       "5853                               -495.516347   \n",
       "5854                               -519.200340   \n",
       "5855                               -505.146931   \n",
       "\n",
       "      primary_cleaner.state.floatbank8_c_air  ...  \\\n",
       "0                                1400.102998  ...   \n",
       "1                                1396.151033  ...   \n",
       "2                                1398.075709  ...   \n",
       "3                                1400.129303  ...   \n",
       "4                                1402.172226  ...   \n",
       "...                                      ...  ...   \n",
       "5851                             1399.810313  ...   \n",
       "5852                             1443.890424  ...   \n",
       "5853                             1502.749213  ...   \n",
       "5854                             1496.569047  ...   \n",
       "5855                             1499.535978  ...   \n",
       "\n",
       "      secondary_cleaner.state.floatbank4_a_air  \\\n",
       "0                                    12.023554   \n",
       "1                                    12.058140   \n",
       "2                                    11.962366   \n",
       "3                                    12.033091   \n",
       "4                                    12.025367   \n",
       "...                                        ...   \n",
       "5851                                 13.995957   \n",
       "5852                                 16.749781   \n",
       "5853                                 19.994130   \n",
       "5854                                 19.958760   \n",
       "5855                                 20.034715   \n",
       "\n",
       "      secondary_cleaner.state.floatbank4_a_level  \\\n",
       "0                                    -497.795834   \n",
       "1                                    -498.695773   \n",
       "2                                    -498.767484   \n",
       "3                                    -498.350935   \n",
       "4                                    -500.786497   \n",
       "...                                          ...   \n",
       "5851                                 -500.157454   \n",
       "5852                                 -496.031539   \n",
       "5853                                 -499.791312   \n",
       "5854                                 -499.958750   \n",
       "5855                                 -500.728588   \n",
       "\n",
       "      secondary_cleaner.state.floatbank4_b_air  \\\n",
       "0                                     8.016656   \n",
       "1                                     8.130979   \n",
       "2                                     8.096893   \n",
       "3                                     8.074946   \n",
       "4                                     8.054678   \n",
       "...                                        ...   \n",
       "5851                                 12.069155   \n",
       "5852                                 13.365371   \n",
       "5853                                 15.101425   \n",
       "5854                                 15.026853   \n",
       "5855                                 14.914199   \n",
       "\n",
       "      secondary_cleaner.state.floatbank4_b_level  \\\n",
       "0                                    -501.289139   \n",
       "1                                    -499.634209   \n",
       "2                                    -500.827423   \n",
       "3                                    -499.474407   \n",
       "4                                    -500.397500   \n",
       "...                                          ...   \n",
       "5851                                 -499.673279   \n",
       "5852                                 -499.122723   \n",
       "5853                                 -499.936252   \n",
       "5854                                 -499.723143   \n",
       "5855                                 -499.948518   \n",
       "\n",
       "      secondary_cleaner.state.floatbank5_a_air  \\\n",
       "0                                     7.946562   \n",
       "1                                     7.958270   \n",
       "2                                     8.071056   \n",
       "3                                     7.897085   \n",
       "4                                     8.107890   \n",
       "...                                        ...   \n",
       "5851                                  7.977259   \n",
       "5852                                  9.288553   \n",
       "5853                                 10.989181   \n",
       "5854                                 11.011607   \n",
       "5855                                 10.986607   \n",
       "\n",
       "      secondary_cleaner.state.floatbank5_a_level  \\\n",
       "0                                    -432.317850   \n",
       "1                                    -525.839648   \n",
       "2                                    -500.801673   \n",
       "3                                    -500.868509   \n",
       "4                                    -509.526725   \n",
       "...                                          ...   \n",
       "5851                                 -499.516126   \n",
       "5852                                 -496.892967   \n",
       "5853                                 -498.347898   \n",
       "5854                                 -499.985046   \n",
       "5855                                 -500.658027   \n",
       "\n",
       "      secondary_cleaner.state.floatbank5_b_air  \\\n",
       "0                                     4.872511   \n",
       "1                                     4.878850   \n",
       "2                                     4.905125   \n",
       "3                                     4.931400   \n",
       "4                                     4.957674   \n",
       "...                                        ...   \n",
       "5851                                  5.933319   \n",
       "5852                                  7.372897   \n",
       "5853                                  9.020944   \n",
       "5854                                  9.009783   \n",
       "5855                                  8.989497   \n",
       "\n",
       "      secondary_cleaner.state.floatbank5_b_level  \\\n",
       "0                                    -500.037437   \n",
       "1                                    -500.162375   \n",
       "2                                    -499.828510   \n",
       "3                                    -499.963623   \n",
       "4                                    -500.360026   \n",
       "...                                          ...   \n",
       "5851                                 -499.965973   \n",
       "5852                                 -499.942956   \n",
       "5853                                 -500.040448   \n",
       "5854                                 -499.937902   \n",
       "5855                                 -500.337588   \n",
       "\n",
       "      secondary_cleaner.state.floatbank6_a_air  \\\n",
       "0                                    26.705889   \n",
       "1                                    25.019940   \n",
       "2                                    24.994862   \n",
       "3                                    24.948919   \n",
       "4                                    25.003331   \n",
       "...                                        ...   \n",
       "5851                                  8.987171   \n",
       "5852                                  8.986832   \n",
       "5853                                  8.982038   \n",
       "5854                                  9.012660   \n",
       "5855                                  8.988632   \n",
       "\n",
       "      secondary_cleaner.state.floatbank6_a_level  \n",
       "0                                    -499.709414  \n",
       "1                                    -499.819438  \n",
       "2                                    -500.622559  \n",
       "3                                    -498.709987  \n",
       "4                                    -500.856333  \n",
       "...                                          ...  \n",
       "5851                                 -499.755909  \n",
       "5852                                 -499.903761  \n",
       "5853                                 -497.789882  \n",
       "5854                                 -500.154284  \n",
       "5855                                 -500.764937  \n",
       "\n",
       "[5856 rows x 53 columns]"
      ]
     },
     "metadata": {},
     "output_type": "display_data"
    }
   ],
   "source": [
    "# Load data set\n",
    "data_test =pd.read_csv('/datasets/gold_recovery_test.csv')\n",
    "display(data_test)"
   ]
  },
  {
   "cell_type": "code",
   "execution_count": 5,
   "metadata": {},
   "outputs": [
    {
     "name": "stdout",
     "output_type": "stream",
     "text": [
      "<class 'pandas.core.frame.DataFrame'>\n",
      "RangeIndex: 5856 entries, 0 to 5855\n",
      "Data columns (total 53 columns):\n",
      " #   Column                                      Non-Null Count  Dtype  \n",
      "---  ------                                      --------------  -----  \n",
      " 0   date                                        5856 non-null   object \n",
      " 1   primary_cleaner.input.sulfate               5554 non-null   float64\n",
      " 2   primary_cleaner.input.depressant            5572 non-null   float64\n",
      " 3   primary_cleaner.input.feed_size             5856 non-null   float64\n",
      " 4   primary_cleaner.input.xanthate              5690 non-null   float64\n",
      " 5   primary_cleaner.state.floatbank8_a_air      5840 non-null   float64\n",
      " 6   primary_cleaner.state.floatbank8_a_level    5840 non-null   float64\n",
      " 7   primary_cleaner.state.floatbank8_b_air      5840 non-null   float64\n",
      " 8   primary_cleaner.state.floatbank8_b_level    5840 non-null   float64\n",
      " 9   primary_cleaner.state.floatbank8_c_air      5840 non-null   float64\n",
      " 10  primary_cleaner.state.floatbank8_c_level    5840 non-null   float64\n",
      " 11  primary_cleaner.state.floatbank8_d_air      5840 non-null   float64\n",
      " 12  primary_cleaner.state.floatbank8_d_level    5840 non-null   float64\n",
      " 13  rougher.input.feed_ag                       5840 non-null   float64\n",
      " 14  rougher.input.feed_pb                       5840 non-null   float64\n",
      " 15  rougher.input.feed_rate                     5816 non-null   float64\n",
      " 16  rougher.input.feed_size                     5834 non-null   float64\n",
      " 17  rougher.input.feed_sol                      5789 non-null   float64\n",
      " 18  rougher.input.feed_au                       5840 non-null   float64\n",
      " 19  rougher.input.floatbank10_sulfate           5599 non-null   float64\n",
      " 20  rougher.input.floatbank10_xanthate          5733 non-null   float64\n",
      " 21  rougher.input.floatbank11_sulfate           5801 non-null   float64\n",
      " 22  rougher.input.floatbank11_xanthate          5503 non-null   float64\n",
      " 23  rougher.state.floatbank10_a_air             5839 non-null   float64\n",
      " 24  rougher.state.floatbank10_a_level           5840 non-null   float64\n",
      " 25  rougher.state.floatbank10_b_air             5839 non-null   float64\n",
      " 26  rougher.state.floatbank10_b_level           5840 non-null   float64\n",
      " 27  rougher.state.floatbank10_c_air             5839 non-null   float64\n",
      " 28  rougher.state.floatbank10_c_level           5840 non-null   float64\n",
      " 29  rougher.state.floatbank10_d_air             5839 non-null   float64\n",
      " 30  rougher.state.floatbank10_d_level           5840 non-null   float64\n",
      " 31  rougher.state.floatbank10_e_air             5839 non-null   float64\n",
      " 32  rougher.state.floatbank10_e_level           5840 non-null   float64\n",
      " 33  rougher.state.floatbank10_f_air             5839 non-null   float64\n",
      " 34  rougher.state.floatbank10_f_level           5840 non-null   float64\n",
      " 35  secondary_cleaner.state.floatbank2_a_air    5836 non-null   float64\n",
      " 36  secondary_cleaner.state.floatbank2_a_level  5840 non-null   float64\n",
      " 37  secondary_cleaner.state.floatbank2_b_air    5833 non-null   float64\n",
      " 38  secondary_cleaner.state.floatbank2_b_level  5840 non-null   float64\n",
      " 39  secondary_cleaner.state.floatbank3_a_air    5822 non-null   float64\n",
      " 40  secondary_cleaner.state.floatbank3_a_level  5840 non-null   float64\n",
      " 41  secondary_cleaner.state.floatbank3_b_air    5840 non-null   float64\n",
      " 42  secondary_cleaner.state.floatbank3_b_level  5840 non-null   float64\n",
      " 43  secondary_cleaner.state.floatbank4_a_air    5840 non-null   float64\n",
      " 44  secondary_cleaner.state.floatbank4_a_level  5840 non-null   float64\n",
      " 45  secondary_cleaner.state.floatbank4_b_air    5840 non-null   float64\n",
      " 46  secondary_cleaner.state.floatbank4_b_level  5840 non-null   float64\n",
      " 47  secondary_cleaner.state.floatbank5_a_air    5840 non-null   float64\n",
      " 48  secondary_cleaner.state.floatbank5_a_level  5840 non-null   float64\n",
      " 49  secondary_cleaner.state.floatbank5_b_air    5840 non-null   float64\n",
      " 50  secondary_cleaner.state.floatbank5_b_level  5840 non-null   float64\n",
      " 51  secondary_cleaner.state.floatbank6_a_air    5840 non-null   float64\n",
      " 52  secondary_cleaner.state.floatbank6_a_level  5840 non-null   float64\n",
      "dtypes: float64(52), object(1)\n",
      "memory usage: 2.4+ MB\n"
     ]
    }
   ],
   "source": [
    "#Check information\n",
    "data_test.info()"
   ]
  },
  {
   "cell_type": "code",
   "execution_count": 6,
   "metadata": {},
   "outputs": [
    {
     "data": {
      "text/html": [
       "<div>\n",
       "<style scoped>\n",
       "    .dataframe tbody tr th:only-of-type {\n",
       "        vertical-align: middle;\n",
       "    }\n",
       "\n",
       "    .dataframe tbody tr th {\n",
       "        vertical-align: top;\n",
       "    }\n",
       "\n",
       "    .dataframe thead th {\n",
       "        text-align: right;\n",
       "    }\n",
       "</style>\n",
       "<table border=\"1\" class=\"dataframe\">\n",
       "  <thead>\n",
       "    <tr style=\"text-align: right;\">\n",
       "      <th></th>\n",
       "      <th>date</th>\n",
       "      <th>final.output.concentrate_ag</th>\n",
       "      <th>final.output.concentrate_pb</th>\n",
       "      <th>final.output.concentrate_sol</th>\n",
       "      <th>final.output.concentrate_au</th>\n",
       "      <th>final.output.recovery</th>\n",
       "      <th>final.output.tail_ag</th>\n",
       "      <th>final.output.tail_pb</th>\n",
       "      <th>final.output.tail_sol</th>\n",
       "      <th>final.output.tail_au</th>\n",
       "      <th>...</th>\n",
       "      <th>secondary_cleaner.state.floatbank4_a_air</th>\n",
       "      <th>secondary_cleaner.state.floatbank4_a_level</th>\n",
       "      <th>secondary_cleaner.state.floatbank4_b_air</th>\n",
       "      <th>secondary_cleaner.state.floatbank4_b_level</th>\n",
       "      <th>secondary_cleaner.state.floatbank5_a_air</th>\n",
       "      <th>secondary_cleaner.state.floatbank5_a_level</th>\n",
       "      <th>secondary_cleaner.state.floatbank5_b_air</th>\n",
       "      <th>secondary_cleaner.state.floatbank5_b_level</th>\n",
       "      <th>secondary_cleaner.state.floatbank6_a_air</th>\n",
       "      <th>secondary_cleaner.state.floatbank6_a_level</th>\n",
       "    </tr>\n",
       "  </thead>\n",
       "  <tbody>\n",
       "    <tr>\n",
       "      <th>0</th>\n",
       "      <td>2016-01-15 00:00:00</td>\n",
       "      <td>6.055403</td>\n",
       "      <td>9.889648</td>\n",
       "      <td>5.507324</td>\n",
       "      <td>42.192020</td>\n",
       "      <td>70.541216</td>\n",
       "      <td>10.411962</td>\n",
       "      <td>0.895447</td>\n",
       "      <td>16.904297</td>\n",
       "      <td>2.143149</td>\n",
       "      <td>...</td>\n",
       "      <td>14.016835</td>\n",
       "      <td>-502.488007</td>\n",
       "      <td>12.099931</td>\n",
       "      <td>-504.715942</td>\n",
       "      <td>9.925633</td>\n",
       "      <td>-498.310211</td>\n",
       "      <td>8.079666</td>\n",
       "      <td>-500.470978</td>\n",
       "      <td>14.151341</td>\n",
       "      <td>-605.841980</td>\n",
       "    </tr>\n",
       "    <tr>\n",
       "      <th>1</th>\n",
       "      <td>2016-01-15 01:00:00</td>\n",
       "      <td>6.029369</td>\n",
       "      <td>9.968944</td>\n",
       "      <td>5.257781</td>\n",
       "      <td>42.701629</td>\n",
       "      <td>69.266198</td>\n",
       "      <td>10.462676</td>\n",
       "      <td>0.927452</td>\n",
       "      <td>16.634514</td>\n",
       "      <td>2.224930</td>\n",
       "      <td>...</td>\n",
       "      <td>13.992281</td>\n",
       "      <td>-505.503262</td>\n",
       "      <td>11.950531</td>\n",
       "      <td>-501.331529</td>\n",
       "      <td>10.039245</td>\n",
       "      <td>-500.169983</td>\n",
       "      <td>7.984757</td>\n",
       "      <td>-500.582168</td>\n",
       "      <td>13.998353</td>\n",
       "      <td>-599.787184</td>\n",
       "    </tr>\n",
       "    <tr>\n",
       "      <th>2</th>\n",
       "      <td>2016-01-15 02:00:00</td>\n",
       "      <td>6.055926</td>\n",
       "      <td>10.213995</td>\n",
       "      <td>5.383759</td>\n",
       "      <td>42.657501</td>\n",
       "      <td>68.116445</td>\n",
       "      <td>10.507046</td>\n",
       "      <td>0.953716</td>\n",
       "      <td>16.208849</td>\n",
       "      <td>2.257889</td>\n",
       "      <td>...</td>\n",
       "      <td>14.015015</td>\n",
       "      <td>-502.520901</td>\n",
       "      <td>11.912783</td>\n",
       "      <td>-501.133383</td>\n",
       "      <td>10.070913</td>\n",
       "      <td>-500.129135</td>\n",
       "      <td>8.013877</td>\n",
       "      <td>-500.517572</td>\n",
       "      <td>14.028663</td>\n",
       "      <td>-601.427363</td>\n",
       "    </tr>\n",
       "    <tr>\n",
       "      <th>3</th>\n",
       "      <td>2016-01-15 03:00:00</td>\n",
       "      <td>6.047977</td>\n",
       "      <td>9.977019</td>\n",
       "      <td>4.858634</td>\n",
       "      <td>42.689819</td>\n",
       "      <td>68.347543</td>\n",
       "      <td>10.422762</td>\n",
       "      <td>0.883763</td>\n",
       "      <td>16.532835</td>\n",
       "      <td>2.146849</td>\n",
       "      <td>...</td>\n",
       "      <td>14.036510</td>\n",
       "      <td>-500.857308</td>\n",
       "      <td>11.999550</td>\n",
       "      <td>-501.193686</td>\n",
       "      <td>9.970366</td>\n",
       "      <td>-499.201640</td>\n",
       "      <td>7.977324</td>\n",
       "      <td>-500.255908</td>\n",
       "      <td>14.005551</td>\n",
       "      <td>-599.996129</td>\n",
       "    </tr>\n",
       "    <tr>\n",
       "      <th>4</th>\n",
       "      <td>2016-01-15 04:00:00</td>\n",
       "      <td>6.148599</td>\n",
       "      <td>10.142511</td>\n",
       "      <td>4.939416</td>\n",
       "      <td>42.774141</td>\n",
       "      <td>66.927016</td>\n",
       "      <td>10.360302</td>\n",
       "      <td>0.792826</td>\n",
       "      <td>16.525686</td>\n",
       "      <td>2.055292</td>\n",
       "      <td>...</td>\n",
       "      <td>14.027298</td>\n",
       "      <td>-499.838632</td>\n",
       "      <td>11.953070</td>\n",
       "      <td>-501.053894</td>\n",
       "      <td>9.925709</td>\n",
       "      <td>-501.686727</td>\n",
       "      <td>7.894242</td>\n",
       "      <td>-500.356035</td>\n",
       "      <td>13.996647</td>\n",
       "      <td>-601.496691</td>\n",
       "    </tr>\n",
       "    <tr>\n",
       "      <th>...</th>\n",
       "      <td>...</td>\n",
       "      <td>...</td>\n",
       "      <td>...</td>\n",
       "      <td>...</td>\n",
       "      <td>...</td>\n",
       "      <td>...</td>\n",
       "      <td>...</td>\n",
       "      <td>...</td>\n",
       "      <td>...</td>\n",
       "      <td>...</td>\n",
       "      <td>...</td>\n",
       "      <td>...</td>\n",
       "      <td>...</td>\n",
       "      <td>...</td>\n",
       "      <td>...</td>\n",
       "      <td>...</td>\n",
       "      <td>...</td>\n",
       "      <td>...</td>\n",
       "      <td>...</td>\n",
       "      <td>...</td>\n",
       "      <td>...</td>\n",
       "    </tr>\n",
       "    <tr>\n",
       "      <th>22711</th>\n",
       "      <td>2018-08-18 06:59:59</td>\n",
       "      <td>3.224920</td>\n",
       "      <td>11.356233</td>\n",
       "      <td>6.803482</td>\n",
       "      <td>46.713954</td>\n",
       "      <td>73.755150</td>\n",
       "      <td>8.769645</td>\n",
       "      <td>3.141541</td>\n",
       "      <td>10.403181</td>\n",
       "      <td>1.529220</td>\n",
       "      <td>...</td>\n",
       "      <td>23.031497</td>\n",
       "      <td>-501.167942</td>\n",
       "      <td>20.007571</td>\n",
       "      <td>-499.740028</td>\n",
       "      <td>18.006038</td>\n",
       "      <td>-499.834374</td>\n",
       "      <td>13.001114</td>\n",
       "      <td>-500.155694</td>\n",
       "      <td>20.007840</td>\n",
       "      <td>-501.296428</td>\n",
       "    </tr>\n",
       "    <tr>\n",
       "      <th>22712</th>\n",
       "      <td>2018-08-18 07:59:59</td>\n",
       "      <td>3.195978</td>\n",
       "      <td>11.349355</td>\n",
       "      <td>6.862249</td>\n",
       "      <td>46.866780</td>\n",
       "      <td>69.049291</td>\n",
       "      <td>8.897321</td>\n",
       "      <td>3.130493</td>\n",
       "      <td>10.549470</td>\n",
       "      <td>1.612542</td>\n",
       "      <td>...</td>\n",
       "      <td>22.960095</td>\n",
       "      <td>-501.612783</td>\n",
       "      <td>20.035660</td>\n",
       "      <td>-500.251357</td>\n",
       "      <td>17.998535</td>\n",
       "      <td>-500.395178</td>\n",
       "      <td>12.954048</td>\n",
       "      <td>-499.895163</td>\n",
       "      <td>19.968498</td>\n",
       "      <td>-501.041608</td>\n",
       "    </tr>\n",
       "    <tr>\n",
       "      <th>22713</th>\n",
       "      <td>2018-08-18 08:59:59</td>\n",
       "      <td>3.109998</td>\n",
       "      <td>11.434366</td>\n",
       "      <td>6.886013</td>\n",
       "      <td>46.795691</td>\n",
       "      <td>67.002189</td>\n",
       "      <td>8.529606</td>\n",
       "      <td>2.911418</td>\n",
       "      <td>11.115147</td>\n",
       "      <td>1.596616</td>\n",
       "      <td>...</td>\n",
       "      <td>23.015718</td>\n",
       "      <td>-501.711599</td>\n",
       "      <td>19.951231</td>\n",
       "      <td>-499.857027</td>\n",
       "      <td>18.019543</td>\n",
       "      <td>-500.451156</td>\n",
       "      <td>13.023431</td>\n",
       "      <td>-499.914391</td>\n",
       "      <td>19.990885</td>\n",
       "      <td>-501.518452</td>\n",
       "    </tr>\n",
       "    <tr>\n",
       "      <th>22714</th>\n",
       "      <td>2018-08-18 09:59:59</td>\n",
       "      <td>3.367241</td>\n",
       "      <td>11.625587</td>\n",
       "      <td>6.799433</td>\n",
       "      <td>46.408188</td>\n",
       "      <td>65.523246</td>\n",
       "      <td>8.777171</td>\n",
       "      <td>2.819214</td>\n",
       "      <td>10.463847</td>\n",
       "      <td>1.602879</td>\n",
       "      <td>...</td>\n",
       "      <td>23.024963</td>\n",
       "      <td>-501.153409</td>\n",
       "      <td>20.054122</td>\n",
       "      <td>-500.314711</td>\n",
       "      <td>17.979515</td>\n",
       "      <td>-499.272871</td>\n",
       "      <td>12.992404</td>\n",
       "      <td>-499.976268</td>\n",
       "      <td>20.013986</td>\n",
       "      <td>-500.625471</td>\n",
       "    </tr>\n",
       "    <tr>\n",
       "      <th>22715</th>\n",
       "      <td>2018-08-18 10:59:59</td>\n",
       "      <td>3.598375</td>\n",
       "      <td>11.737832</td>\n",
       "      <td>6.717509</td>\n",
       "      <td>46.299438</td>\n",
       "      <td>70.281454</td>\n",
       "      <td>8.406690</td>\n",
       "      <td>2.517518</td>\n",
       "      <td>10.652193</td>\n",
       "      <td>1.389434</td>\n",
       "      <td>...</td>\n",
       "      <td>23.018622</td>\n",
       "      <td>-500.492702</td>\n",
       "      <td>20.020205</td>\n",
       "      <td>-500.220296</td>\n",
       "      <td>17.963512</td>\n",
       "      <td>-499.939490</td>\n",
       "      <td>12.990306</td>\n",
       "      <td>-500.080993</td>\n",
       "      <td>19.990336</td>\n",
       "      <td>-499.191575</td>\n",
       "    </tr>\n",
       "  </tbody>\n",
       "</table>\n",
       "<p>22716 rows × 87 columns</p>\n",
       "</div>"
      ],
      "text/plain": [
       "                      date  final.output.concentrate_ag  \\\n",
       "0      2016-01-15 00:00:00                     6.055403   \n",
       "1      2016-01-15 01:00:00                     6.029369   \n",
       "2      2016-01-15 02:00:00                     6.055926   \n",
       "3      2016-01-15 03:00:00                     6.047977   \n",
       "4      2016-01-15 04:00:00                     6.148599   \n",
       "...                    ...                          ...   \n",
       "22711  2018-08-18 06:59:59                     3.224920   \n",
       "22712  2018-08-18 07:59:59                     3.195978   \n",
       "22713  2018-08-18 08:59:59                     3.109998   \n",
       "22714  2018-08-18 09:59:59                     3.367241   \n",
       "22715  2018-08-18 10:59:59                     3.598375   \n",
       "\n",
       "       final.output.concentrate_pb  final.output.concentrate_sol  \\\n",
       "0                         9.889648                      5.507324   \n",
       "1                         9.968944                      5.257781   \n",
       "2                        10.213995                      5.383759   \n",
       "3                         9.977019                      4.858634   \n",
       "4                        10.142511                      4.939416   \n",
       "...                            ...                           ...   \n",
       "22711                    11.356233                      6.803482   \n",
       "22712                    11.349355                      6.862249   \n",
       "22713                    11.434366                      6.886013   \n",
       "22714                    11.625587                      6.799433   \n",
       "22715                    11.737832                      6.717509   \n",
       "\n",
       "       final.output.concentrate_au  final.output.recovery  \\\n",
       "0                        42.192020              70.541216   \n",
       "1                        42.701629              69.266198   \n",
       "2                        42.657501              68.116445   \n",
       "3                        42.689819              68.347543   \n",
       "4                        42.774141              66.927016   \n",
       "...                            ...                    ...   \n",
       "22711                    46.713954              73.755150   \n",
       "22712                    46.866780              69.049291   \n",
       "22713                    46.795691              67.002189   \n",
       "22714                    46.408188              65.523246   \n",
       "22715                    46.299438              70.281454   \n",
       "\n",
       "       final.output.tail_ag  final.output.tail_pb  final.output.tail_sol  \\\n",
       "0                 10.411962              0.895447              16.904297   \n",
       "1                 10.462676              0.927452              16.634514   \n",
       "2                 10.507046              0.953716              16.208849   \n",
       "3                 10.422762              0.883763              16.532835   \n",
       "4                 10.360302              0.792826              16.525686   \n",
       "...                     ...                   ...                    ...   \n",
       "22711              8.769645              3.141541              10.403181   \n",
       "22712              8.897321              3.130493              10.549470   \n",
       "22713              8.529606              2.911418              11.115147   \n",
       "22714              8.777171              2.819214              10.463847   \n",
       "22715              8.406690              2.517518              10.652193   \n",
       "\n",
       "       final.output.tail_au  ...  secondary_cleaner.state.floatbank4_a_air  \\\n",
       "0                  2.143149  ...                                 14.016835   \n",
       "1                  2.224930  ...                                 13.992281   \n",
       "2                  2.257889  ...                                 14.015015   \n",
       "3                  2.146849  ...                                 14.036510   \n",
       "4                  2.055292  ...                                 14.027298   \n",
       "...                     ...  ...                                       ...   \n",
       "22711              1.529220  ...                                 23.031497   \n",
       "22712              1.612542  ...                                 22.960095   \n",
       "22713              1.596616  ...                                 23.015718   \n",
       "22714              1.602879  ...                                 23.024963   \n",
       "22715              1.389434  ...                                 23.018622   \n",
       "\n",
       "       secondary_cleaner.state.floatbank4_a_level  \\\n",
       "0                                     -502.488007   \n",
       "1                                     -505.503262   \n",
       "2                                     -502.520901   \n",
       "3                                     -500.857308   \n",
       "4                                     -499.838632   \n",
       "...                                           ...   \n",
       "22711                                 -501.167942   \n",
       "22712                                 -501.612783   \n",
       "22713                                 -501.711599   \n",
       "22714                                 -501.153409   \n",
       "22715                                 -500.492702   \n",
       "\n",
       "       secondary_cleaner.state.floatbank4_b_air  \\\n",
       "0                                     12.099931   \n",
       "1                                     11.950531   \n",
       "2                                     11.912783   \n",
       "3                                     11.999550   \n",
       "4                                     11.953070   \n",
       "...                                         ...   \n",
       "22711                                 20.007571   \n",
       "22712                                 20.035660   \n",
       "22713                                 19.951231   \n",
       "22714                                 20.054122   \n",
       "22715                                 20.020205   \n",
       "\n",
       "       secondary_cleaner.state.floatbank4_b_level  \\\n",
       "0                                     -504.715942   \n",
       "1                                     -501.331529   \n",
       "2                                     -501.133383   \n",
       "3                                     -501.193686   \n",
       "4                                     -501.053894   \n",
       "...                                           ...   \n",
       "22711                                 -499.740028   \n",
       "22712                                 -500.251357   \n",
       "22713                                 -499.857027   \n",
       "22714                                 -500.314711   \n",
       "22715                                 -500.220296   \n",
       "\n",
       "       secondary_cleaner.state.floatbank5_a_air  \\\n",
       "0                                      9.925633   \n",
       "1                                     10.039245   \n",
       "2                                     10.070913   \n",
       "3                                      9.970366   \n",
       "4                                      9.925709   \n",
       "...                                         ...   \n",
       "22711                                 18.006038   \n",
       "22712                                 17.998535   \n",
       "22713                                 18.019543   \n",
       "22714                                 17.979515   \n",
       "22715                                 17.963512   \n",
       "\n",
       "       secondary_cleaner.state.floatbank5_a_level  \\\n",
       "0                                     -498.310211   \n",
       "1                                     -500.169983   \n",
       "2                                     -500.129135   \n",
       "3                                     -499.201640   \n",
       "4                                     -501.686727   \n",
       "...                                           ...   \n",
       "22711                                 -499.834374   \n",
       "22712                                 -500.395178   \n",
       "22713                                 -500.451156   \n",
       "22714                                 -499.272871   \n",
       "22715                                 -499.939490   \n",
       "\n",
       "       secondary_cleaner.state.floatbank5_b_air  \\\n",
       "0                                      8.079666   \n",
       "1                                      7.984757   \n",
       "2                                      8.013877   \n",
       "3                                      7.977324   \n",
       "4                                      7.894242   \n",
       "...                                         ...   \n",
       "22711                                 13.001114   \n",
       "22712                                 12.954048   \n",
       "22713                                 13.023431   \n",
       "22714                                 12.992404   \n",
       "22715                                 12.990306   \n",
       "\n",
       "       secondary_cleaner.state.floatbank5_b_level  \\\n",
       "0                                     -500.470978   \n",
       "1                                     -500.582168   \n",
       "2                                     -500.517572   \n",
       "3                                     -500.255908   \n",
       "4                                     -500.356035   \n",
       "...                                           ...   \n",
       "22711                                 -500.155694   \n",
       "22712                                 -499.895163   \n",
       "22713                                 -499.914391   \n",
       "22714                                 -499.976268   \n",
       "22715                                 -500.080993   \n",
       "\n",
       "       secondary_cleaner.state.floatbank6_a_air  \\\n",
       "0                                     14.151341   \n",
       "1                                     13.998353   \n",
       "2                                     14.028663   \n",
       "3                                     14.005551   \n",
       "4                                     13.996647   \n",
       "...                                         ...   \n",
       "22711                                 20.007840   \n",
       "22712                                 19.968498   \n",
       "22713                                 19.990885   \n",
       "22714                                 20.013986   \n",
       "22715                                 19.990336   \n",
       "\n",
       "       secondary_cleaner.state.floatbank6_a_level  \n",
       "0                                     -605.841980  \n",
       "1                                     -599.787184  \n",
       "2                                     -601.427363  \n",
       "3                                     -599.996129  \n",
       "4                                     -601.496691  \n",
       "...                                           ...  \n",
       "22711                                 -501.296428  \n",
       "22712                                 -501.041608  \n",
       "22713                                 -501.518452  \n",
       "22714                                 -500.625471  \n",
       "22715                                 -499.191575  \n",
       "\n",
       "[22716 rows x 87 columns]"
      ]
     },
     "metadata": {},
     "output_type": "display_data"
    }
   ],
   "source": [
    "# Load data set\n",
    "data_source =pd.read_csv('/datasets/gold_recovery_full.csv')\n",
    "display(data_source)"
   ]
  },
  {
   "cell_type": "code",
   "execution_count": 7,
   "metadata": {},
   "outputs": [
    {
     "name": "stdout",
     "output_type": "stream",
     "text": [
      "<class 'pandas.core.frame.DataFrame'>\n",
      "RangeIndex: 22716 entries, 0 to 22715\n",
      "Data columns (total 87 columns):\n",
      " #   Column                                              Non-Null Count  Dtype  \n",
      "---  ------                                              --------------  -----  \n",
      " 0   date                                                22716 non-null  object \n",
      " 1   final.output.concentrate_ag                         22627 non-null  float64\n",
      " 2   final.output.concentrate_pb                         22629 non-null  float64\n",
      " 3   final.output.concentrate_sol                        22331 non-null  float64\n",
      " 4   final.output.concentrate_au                         22630 non-null  float64\n",
      " 5   final.output.recovery                               20753 non-null  float64\n",
      " 6   final.output.tail_ag                                22633 non-null  float64\n",
      " 7   final.output.tail_pb                                22516 non-null  float64\n",
      " 8   final.output.tail_sol                               22445 non-null  float64\n",
      " 9   final.output.tail_au                                22635 non-null  float64\n",
      " 10  primary_cleaner.input.sulfate                       21107 non-null  float64\n",
      " 11  primary_cleaner.input.depressant                    21170 non-null  float64\n",
      " 12  primary_cleaner.input.feed_size                     22716 non-null  float64\n",
      " 13  primary_cleaner.input.xanthate                      21565 non-null  float64\n",
      " 14  primary_cleaner.output.concentrate_ag               22618 non-null  float64\n",
      " 15  primary_cleaner.output.concentrate_pb               22268 non-null  float64\n",
      " 16  primary_cleaner.output.concentrate_sol              21918 non-null  float64\n",
      " 17  primary_cleaner.output.concentrate_au               22618 non-null  float64\n",
      " 18  primary_cleaner.output.tail_ag                      22614 non-null  float64\n",
      " 19  primary_cleaner.output.tail_pb                      22594 non-null  float64\n",
      " 20  primary_cleaner.output.tail_sol                     22365 non-null  float64\n",
      " 21  primary_cleaner.output.tail_au                      22617 non-null  float64\n",
      " 22  primary_cleaner.state.floatbank8_a_air              22660 non-null  float64\n",
      " 23  primary_cleaner.state.floatbank8_a_level            22667 non-null  float64\n",
      " 24  primary_cleaner.state.floatbank8_b_air              22660 non-null  float64\n",
      " 25  primary_cleaner.state.floatbank8_b_level            22673 non-null  float64\n",
      " 26  primary_cleaner.state.floatbank8_c_air              22662 non-null  float64\n",
      " 27  primary_cleaner.state.floatbank8_c_level            22673 non-null  float64\n",
      " 28  primary_cleaner.state.floatbank8_d_air              22661 non-null  float64\n",
      " 29  primary_cleaner.state.floatbank8_d_level            22673 non-null  float64\n",
      " 30  rougher.calculation.sulfate_to_au_concentrate       22672 non-null  float64\n",
      " 31  rougher.calculation.floatbank10_sulfate_to_au_feed  22672 non-null  float64\n",
      " 32  rougher.calculation.floatbank11_sulfate_to_au_feed  22672 non-null  float64\n",
      " 33  rougher.calculation.au_pb_ratio                     21089 non-null  float64\n",
      " 34  rougher.input.feed_ag                               22618 non-null  float64\n",
      " 35  rougher.input.feed_pb                               22472 non-null  float64\n",
      " 36  rougher.input.feed_rate                             22163 non-null  float64\n",
      " 37  rougher.input.feed_size                             22277 non-null  float64\n",
      " 38  rougher.input.feed_sol                              22357 non-null  float64\n",
      " 39  rougher.input.feed_au                               22617 non-null  float64\n",
      " 40  rougher.input.floatbank10_sulfate                   21415 non-null  float64\n",
      " 41  rougher.input.floatbank10_xanthate                  22247 non-null  float64\n",
      " 42  rougher.input.floatbank11_sulfate                   22038 non-null  float64\n",
      " 43  rougher.input.floatbank11_xanthate                  20459 non-null  float64\n",
      " 44  rougher.output.concentrate_ag                       22618 non-null  float64\n",
      " 45  rougher.output.concentrate_pb                       22618 non-null  float64\n",
      " 46  rougher.output.concentrate_sol                      22526 non-null  float64\n",
      " 47  rougher.output.concentrate_au                       22618 non-null  float64\n",
      " 48  rougher.output.recovery                             19597 non-null  float64\n",
      " 49  rougher.output.tail_ag                              19979 non-null  float64\n",
      " 50  rougher.output.tail_pb                              22618 non-null  float64\n",
      " 51  rougher.output.tail_sol                             19980 non-null  float64\n",
      " 52  rougher.output.tail_au                              19980 non-null  float64\n",
      " 53  rougher.state.floatbank10_a_air                     22646 non-null  float64\n",
      " 54  rougher.state.floatbank10_a_level                   22647 non-null  float64\n",
      " 55  rougher.state.floatbank10_b_air                     22646 non-null  float64\n",
      " 56  rougher.state.floatbank10_b_level                   22647 non-null  float64\n",
      " 57  rougher.state.floatbank10_c_air                     22646 non-null  float64\n",
      " 58  rougher.state.floatbank10_c_level                   22654 non-null  float64\n",
      " 59  rougher.state.floatbank10_d_air                     22641 non-null  float64\n",
      " 60  rougher.state.floatbank10_d_level                   22649 non-null  float64\n",
      " 61  rougher.state.floatbank10_e_air                     22096 non-null  float64\n",
      " 62  rougher.state.floatbank10_e_level                   22649 non-null  float64\n",
      " 63  rougher.state.floatbank10_f_air                     22641 non-null  float64\n",
      " 64  rougher.state.floatbank10_f_level                   22642 non-null  float64\n",
      " 65  secondary_cleaner.output.tail_ag                    22616 non-null  float64\n",
      " 66  secondary_cleaner.output.tail_pb                    22600 non-null  float64\n",
      " 67  secondary_cleaner.output.tail_sol                   20501 non-null  float64\n",
      " 68  secondary_cleaner.output.tail_au                    22618 non-null  float64\n",
      " 69  secondary_cleaner.state.floatbank2_a_air            22333 non-null  float64\n",
      " 70  secondary_cleaner.state.floatbank2_a_level          22591 non-null  float64\n",
      " 71  secondary_cleaner.state.floatbank2_b_air            22538 non-null  float64\n",
      " 72  secondary_cleaner.state.floatbank2_b_level          22588 non-null  float64\n",
      " 73  secondary_cleaner.state.floatbank3_a_air            22585 non-null  float64\n",
      " 74  secondary_cleaner.state.floatbank3_a_level          22587 non-null  float64\n",
      " 75  secondary_cleaner.state.floatbank3_b_air            22592 non-null  float64\n",
      " 76  secondary_cleaner.state.floatbank3_b_level          22590 non-null  float64\n",
      " 77  secondary_cleaner.state.floatbank4_a_air            22571 non-null  float64\n",
      " 78  secondary_cleaner.state.floatbank4_a_level          22587 non-null  float64\n",
      " 79  secondary_cleaner.state.floatbank4_b_air            22608 non-null  float64\n",
      " 80  secondary_cleaner.state.floatbank4_b_level          22607 non-null  float64\n",
      " 81  secondary_cleaner.state.floatbank5_a_air            22615 non-null  float64\n",
      " 82  secondary_cleaner.state.floatbank5_a_level          22615 non-null  float64\n",
      " 83  secondary_cleaner.state.floatbank5_b_air            22615 non-null  float64\n",
      " 84  secondary_cleaner.state.floatbank5_b_level          22616 non-null  float64\n",
      " 85  secondary_cleaner.state.floatbank6_a_air            22597 non-null  float64\n",
      " 86  secondary_cleaner.state.floatbank6_a_level          22615 non-null  float64\n",
      "dtypes: float64(86), object(1)\n",
      "memory usage: 15.1+ MB\n"
     ]
    }
   ],
   "source": [
    "#Check information\n",
    "data_source.info()"
   ]
  },
  {
   "cell_type": "markdown",
   "metadata": {},
   "source": [
    "####  Check that recovery is calculated correctly.\n",
    "\n",
    "- C — share of gold in the concentrate right after flotation (for finding the rougher concentrate recovery)/after purification (for finding the final concentrate recovery)\n",
    "- F — share of gold in the feed before flotation (for finding the rougher concentrate recovery)/in the concentrate right after flotation (for finding the final concentrate recovery)\n",
    "- T — share of gold in the rougher tails right after flotation (for finding the rougher concentrate recovery)/after purification (for finding the final concentrate recovery)"
   ]
  },
  {
   "cell_type": "code",
   "execution_count": 8,
   "metadata": {},
   "outputs": [],
   "source": [
    "# Loac C, F, T\n",
    "C = data_train['rougher.output.concentrate_au']\n",
    "F = data_train['rougher.input.feed_au']\n",
    "T = data_train['rougher.output.tail_au']"
   ]
  },
  {
   "cell_type": "code",
   "execution_count": 9,
   "metadata": {},
   "outputs": [
    {
     "name": "stdout",
     "output_type": "stream",
     "text": [
      "rougher.output.concentrate_au      82\n",
      "rougher.input.feed_au              83\n",
      "rougher.output.tail_au           2249\n",
      "rougher.output.recovery          2573\n",
      "dtype: int64\n"
     ]
    }
   ],
   "source": [
    "#Find the missing values\n",
    "missing_values=data_train[['rougher.output.concentrate_au','rougher.input.feed_au','rougher.output.tail_au','rougher.output.recovery']].isna().sum()\n",
    "print(missing_values)"
   ]
  },
  {
   "cell_type": "code",
   "execution_count": 10,
   "metadata": {},
   "outputs": [
    {
     "data": {
      "text/plain": [
       "rougher.output.concentrate_au    0\n",
       "rougher.input.feed_au            0\n",
       "rougher.output.tail_au           0\n",
       "rougher.output.recovery          0\n",
       "dtype: int64"
      ]
     },
     "execution_count": 10,
     "metadata": {},
     "output_type": "execute_result"
    }
   ],
   "source": [
    "# Drop the missing values\n",
    "recovery_data=data_train[['rougher.output.concentrate_au','rougher.input.feed_au','rougher.output.tail_au','rougher.output.recovery']].dropna()\n",
    "recovery_data.isnull().sum()"
   ]
  },
  {
   "cell_type": "code",
   "execution_count": 11,
   "metadata": {},
   "outputs": [],
   "source": [
    "# Calculate recovery\n",
    "recovery_data['calculated_recovery'] = (C *(F-T)/(F *(C-T)))*100"
   ]
  },
  {
   "cell_type": "code",
   "execution_count": 12,
   "metadata": {},
   "outputs": [
    {
     "name": "stdout",
     "output_type": "stream",
     "text": [
      "The MAE between your calculations and the feature values is 9.303415616264301e-15\n"
     ]
    }
   ],
   "source": [
    "#Find the MAE between your calculations and the feature values.\n",
    "mae=mean_absolute_error(recovery_data['rougher.output.recovery'],recovery_data['calculated_recovery'])\n",
    "print(f'The MAE between your calculations and the feature values is {mae}')"
   ]
  },
  {
   "cell_type": "markdown",
   "metadata": {},
   "source": [
    "The MAE between our calculations and the feature values is 9.303415616264301e-15 approximately equal to zero. i.e, recovery is calculated correctly."
   ]
  },
  {
   "cell_type": "markdown",
   "metadata": {},
   "source": [
    "#### Find the columns present both train and test sets"
   ]
  },
  {
   "cell_type": "code",
   "execution_count": 13,
   "metadata": {},
   "outputs": [
    {
     "name": "stdout",
     "output_type": "stream",
     "text": [
      "['date', 'primary_cleaner.input.depressant', 'primary_cleaner.input.feed_size', 'primary_cleaner.input.sulfate', 'primary_cleaner.input.xanthate', 'primary_cleaner.state.floatbank8_a_air', 'primary_cleaner.state.floatbank8_a_level', 'primary_cleaner.state.floatbank8_b_air', 'primary_cleaner.state.floatbank8_b_level', 'primary_cleaner.state.floatbank8_c_air', 'primary_cleaner.state.floatbank8_c_level', 'primary_cleaner.state.floatbank8_d_air', 'primary_cleaner.state.floatbank8_d_level', 'rougher.input.feed_ag', 'rougher.input.feed_au', 'rougher.input.feed_pb', 'rougher.input.feed_rate', 'rougher.input.feed_size', 'rougher.input.feed_sol', 'rougher.input.floatbank10_sulfate', 'rougher.input.floatbank10_xanthate', 'rougher.input.floatbank11_sulfate', 'rougher.input.floatbank11_xanthate', 'rougher.state.floatbank10_a_air', 'rougher.state.floatbank10_a_level', 'rougher.state.floatbank10_b_air', 'rougher.state.floatbank10_b_level', 'rougher.state.floatbank10_c_air', 'rougher.state.floatbank10_c_level', 'rougher.state.floatbank10_d_air', 'rougher.state.floatbank10_d_level', 'rougher.state.floatbank10_e_air', 'rougher.state.floatbank10_e_level', 'rougher.state.floatbank10_f_air', 'rougher.state.floatbank10_f_level', 'secondary_cleaner.state.floatbank2_a_air', 'secondary_cleaner.state.floatbank2_a_level', 'secondary_cleaner.state.floatbank2_b_air', 'secondary_cleaner.state.floatbank2_b_level', 'secondary_cleaner.state.floatbank3_a_air', 'secondary_cleaner.state.floatbank3_a_level', 'secondary_cleaner.state.floatbank3_b_air', 'secondary_cleaner.state.floatbank3_b_level', 'secondary_cleaner.state.floatbank4_a_air', 'secondary_cleaner.state.floatbank4_a_level', 'secondary_cleaner.state.floatbank4_b_air', 'secondary_cleaner.state.floatbank4_b_level', 'secondary_cleaner.state.floatbank5_a_air', 'secondary_cleaner.state.floatbank5_a_level', 'secondary_cleaner.state.floatbank5_b_air', 'secondary_cleaner.state.floatbank5_b_level', 'secondary_cleaner.state.floatbank6_a_air', 'secondary_cleaner.state.floatbank6_a_level']\n"
     ]
    }
   ],
   "source": [
    "# columns present both train and test sets\n",
    "train_test_columns=list(set(data_train.columns).intersection(set(data_test.columns)))\n",
    "train_test_columns.sort()\n",
    "print(train_test_columns)"
   ]
  },
  {
   "cell_type": "code",
   "execution_count": 14,
   "metadata": {},
   "outputs": [
    {
     "name": "stdout",
     "output_type": "stream",
     "text": [
      "['final.output.concentrate_ag', 'final.output.concentrate_au', 'final.output.concentrate_pb', 'final.output.concentrate_sol', 'final.output.recovery', 'final.output.tail_ag', 'final.output.tail_au', 'final.output.tail_pb', 'final.output.tail_sol', 'primary_cleaner.output.concentrate_ag', 'primary_cleaner.output.concentrate_au', 'primary_cleaner.output.concentrate_pb', 'primary_cleaner.output.concentrate_sol', 'primary_cleaner.output.tail_ag', 'primary_cleaner.output.tail_au', 'primary_cleaner.output.tail_pb', 'primary_cleaner.output.tail_sol', 'rougher.calculation.au_pb_ratio', 'rougher.calculation.floatbank10_sulfate_to_au_feed', 'rougher.calculation.floatbank11_sulfate_to_au_feed', 'rougher.calculation.sulfate_to_au_concentrate', 'rougher.output.concentrate_ag', 'rougher.output.concentrate_au', 'rougher.output.concentrate_pb', 'rougher.output.concentrate_sol', 'rougher.output.recovery', 'rougher.output.tail_ag', 'rougher.output.tail_au', 'rougher.output.tail_pb', 'rougher.output.tail_sol', 'secondary_cleaner.output.tail_ag', 'secondary_cleaner.output.tail_au', 'secondary_cleaner.output.tail_pb', 'secondary_cleaner.output.tail_sol']\n"
     ]
    }
   ],
   "source": [
    "#Columns present in train set not in test set\n",
    "train_nottest_columns=list(set(data_train.columns)-(set(data_test.columns)))\n",
    "train_nottest_columns.sort()\n",
    "print(train_nottest_columns)"
   ]
  },
  {
   "cell_type": "code",
   "execution_count": 15,
   "metadata": {},
   "outputs": [
    {
     "data": {
      "text/plain": [
       "date                                             0\n",
       "primary_cleaner.input.depressant              1262\n",
       "primary_cleaner.input.feed_size                  0\n",
       "primary_cleaner.input.sulfate                 1307\n",
       "primary_cleaner.input.xanthate                 985\n",
       "primary_cleaner.state.floatbank8_a_air          40\n",
       "primary_cleaner.state.floatbank8_a_level        33\n",
       "primary_cleaner.state.floatbank8_b_air          40\n",
       "primary_cleaner.state.floatbank8_b_level        27\n",
       "primary_cleaner.state.floatbank8_c_air          38\n",
       "primary_cleaner.state.floatbank8_c_level        27\n",
       "primary_cleaner.state.floatbank8_d_air          39\n",
       "primary_cleaner.state.floatbank8_d_level        27\n",
       "rougher.input.feed_ag                           82\n",
       "rougher.input.feed_au                           83\n",
       "rougher.input.feed_pb                          228\n",
       "rougher.input.feed_rate                        513\n",
       "rougher.input.feed_size                        417\n",
       "rougher.input.feed_sol                         292\n",
       "rougher.input.floatbank10_sulfate             1044\n",
       "rougher.input.floatbank10_xanthate             346\n",
       "rougher.input.floatbank11_sulfate              623\n",
       "rougher.input.floatbank11_xanthate            1904\n",
       "rougher.state.floatbank10_a_air                 53\n",
       "rougher.state.floatbank10_a_level               53\n",
       "rougher.state.floatbank10_b_air                 53\n",
       "rougher.state.floatbank10_b_level               53\n",
       "rougher.state.floatbank10_c_air                 53\n",
       "rougher.state.floatbank10_c_level               46\n",
       "rougher.state.floatbank10_d_air                 58\n",
       "rougher.state.floatbank10_d_level               51\n",
       "rougher.state.floatbank10_e_air                603\n",
       "rougher.state.floatbank10_e_level               51\n",
       "rougher.state.floatbank10_f_air                 58\n",
       "rougher.state.floatbank10_f_level               58\n",
       "secondary_cleaner.state.floatbank2_a_air       363\n",
       "secondary_cleaner.state.floatbank2_a_level     109\n",
       "secondary_cleaner.state.floatbank2_b_air       155\n",
       "secondary_cleaner.state.floatbank2_b_level     112\n",
       "secondary_cleaner.state.floatbank3_a_air        97\n",
       "secondary_cleaner.state.floatbank3_a_level     113\n",
       "secondary_cleaner.state.floatbank3_b_air       108\n",
       "secondary_cleaner.state.floatbank3_b_level     110\n",
       "secondary_cleaner.state.floatbank4_a_air       129\n",
       "secondary_cleaner.state.floatbank4_a_level     113\n",
       "secondary_cleaner.state.floatbank4_b_air        92\n",
       "secondary_cleaner.state.floatbank4_b_level      93\n",
       "secondary_cleaner.state.floatbank5_a_air        85\n",
       "secondary_cleaner.state.floatbank5_a_level      85\n",
       "secondary_cleaner.state.floatbank5_b_air        85\n",
       "secondary_cleaner.state.floatbank5_b_level      84\n",
       "secondary_cleaner.state.floatbank6_a_air       103\n",
       "secondary_cleaner.state.floatbank6_a_level      85\n",
       "dtype: int64"
      ]
     },
     "execution_count": 15,
     "metadata": {},
     "output_type": "execute_result"
    }
   ],
   "source": [
    "# Check the missing values\n",
    "data_train[train_test_columns].isnull().sum()"
   ]
  },
  {
   "cell_type": "code",
   "execution_count": 16,
   "metadata": {},
   "outputs": [],
   "source": [
    "# Drop the missing values in target columns\n",
    "target_columns=['final.output.recovery','rougher.output.recovery']\n",
    "data_train=data_train.dropna(subset=target_columns)"
   ]
  },
  {
   "cell_type": "code",
   "execution_count": 17,
   "metadata": {},
   "outputs": [],
   "source": [
    "# Fill the missing values\n",
    "data_train[train_test_columns]=data_train[train_test_columns].fillna(method='ffill')"
   ]
  },
  {
   "cell_type": "code",
   "execution_count": 18,
   "metadata": {},
   "outputs": [
    {
     "data": {
      "text/plain": [
       "date                                           object\n",
       "primary_cleaner.input.depressant              float64\n",
       "primary_cleaner.input.feed_size               float64\n",
       "primary_cleaner.input.sulfate                 float64\n",
       "primary_cleaner.input.xanthate                float64\n",
       "primary_cleaner.state.floatbank8_a_air        float64\n",
       "primary_cleaner.state.floatbank8_a_level      float64\n",
       "primary_cleaner.state.floatbank8_b_air        float64\n",
       "primary_cleaner.state.floatbank8_b_level      float64\n",
       "primary_cleaner.state.floatbank8_c_air        float64\n",
       "primary_cleaner.state.floatbank8_c_level      float64\n",
       "primary_cleaner.state.floatbank8_d_air        float64\n",
       "primary_cleaner.state.floatbank8_d_level      float64\n",
       "rougher.input.feed_ag                         float64\n",
       "rougher.input.feed_au                         float64\n",
       "rougher.input.feed_pb                         float64\n",
       "rougher.input.feed_rate                       float64\n",
       "rougher.input.feed_size                       float64\n",
       "rougher.input.feed_sol                        float64\n",
       "rougher.input.floatbank10_sulfate             float64\n",
       "rougher.input.floatbank10_xanthate            float64\n",
       "rougher.input.floatbank11_sulfate             float64\n",
       "rougher.input.floatbank11_xanthate            float64\n",
       "rougher.state.floatbank10_a_air               float64\n",
       "rougher.state.floatbank10_a_level             float64\n",
       "rougher.state.floatbank10_b_air               float64\n",
       "rougher.state.floatbank10_b_level             float64\n",
       "rougher.state.floatbank10_c_air               float64\n",
       "rougher.state.floatbank10_c_level             float64\n",
       "rougher.state.floatbank10_d_air               float64\n",
       "rougher.state.floatbank10_d_level             float64\n",
       "rougher.state.floatbank10_e_air               float64\n",
       "rougher.state.floatbank10_e_level             float64\n",
       "rougher.state.floatbank10_f_air               float64\n",
       "rougher.state.floatbank10_f_level             float64\n",
       "secondary_cleaner.state.floatbank2_a_air      float64\n",
       "secondary_cleaner.state.floatbank2_a_level    float64\n",
       "secondary_cleaner.state.floatbank2_b_air      float64\n",
       "secondary_cleaner.state.floatbank2_b_level    float64\n",
       "secondary_cleaner.state.floatbank3_a_air      float64\n",
       "secondary_cleaner.state.floatbank3_a_level    float64\n",
       "secondary_cleaner.state.floatbank3_b_air      float64\n",
       "secondary_cleaner.state.floatbank3_b_level    float64\n",
       "secondary_cleaner.state.floatbank4_a_air      float64\n",
       "secondary_cleaner.state.floatbank4_a_level    float64\n",
       "secondary_cleaner.state.floatbank4_b_air      float64\n",
       "secondary_cleaner.state.floatbank4_b_level    float64\n",
       "secondary_cleaner.state.floatbank5_a_air      float64\n",
       "secondary_cleaner.state.floatbank5_a_level    float64\n",
       "secondary_cleaner.state.floatbank5_b_air      float64\n",
       "secondary_cleaner.state.floatbank5_b_level    float64\n",
       "secondary_cleaner.state.floatbank6_a_air      float64\n",
       "secondary_cleaner.state.floatbank6_a_level    float64\n",
       "dtype: object"
      ]
     },
     "execution_count": 18,
     "metadata": {},
     "output_type": "execute_result"
    }
   ],
   "source": [
    "# Check dtypes\n",
    "data_train[train_test_columns].dtypes"
   ]
  },
  {
   "cell_type": "code",
   "execution_count": 19,
   "metadata": {},
   "outputs": [],
   "source": [
    "#Convert date to datetime \n",
    "data_train['date'] =pd.to_datetime(data_train['date'])\n",
    "data_train.sort_values('date', inplace=True)"
   ]
  },
  {
   "cell_type": "code",
   "execution_count": 20,
   "metadata": {},
   "outputs": [
    {
     "data": {
      "text/plain": [
       "date                                          0\n",
       "primary_cleaner.input.depressant              0\n",
       "primary_cleaner.input.feed_size               0\n",
       "primary_cleaner.input.sulfate                 0\n",
       "primary_cleaner.input.xanthate                0\n",
       "primary_cleaner.state.floatbank8_a_air        0\n",
       "primary_cleaner.state.floatbank8_a_level      0\n",
       "primary_cleaner.state.floatbank8_b_air        0\n",
       "primary_cleaner.state.floatbank8_b_level      0\n",
       "primary_cleaner.state.floatbank8_c_air        0\n",
       "primary_cleaner.state.floatbank8_c_level      0\n",
       "primary_cleaner.state.floatbank8_d_air        0\n",
       "primary_cleaner.state.floatbank8_d_level      0\n",
       "rougher.input.feed_ag                         0\n",
       "rougher.input.feed_au                         0\n",
       "rougher.input.feed_pb                         0\n",
       "rougher.input.feed_rate                       0\n",
       "rougher.input.feed_size                       0\n",
       "rougher.input.feed_sol                        0\n",
       "rougher.input.floatbank10_sulfate             0\n",
       "rougher.input.floatbank10_xanthate            0\n",
       "rougher.input.floatbank11_sulfate             0\n",
       "rougher.input.floatbank11_xanthate            0\n",
       "rougher.state.floatbank10_a_air               0\n",
       "rougher.state.floatbank10_a_level             0\n",
       "rougher.state.floatbank10_b_air               0\n",
       "rougher.state.floatbank10_b_level             0\n",
       "rougher.state.floatbank10_c_air               0\n",
       "rougher.state.floatbank10_c_level             0\n",
       "rougher.state.floatbank10_d_air               0\n",
       "rougher.state.floatbank10_d_level             0\n",
       "rougher.state.floatbank10_e_air               0\n",
       "rougher.state.floatbank10_e_level             0\n",
       "rougher.state.floatbank10_f_air               0\n",
       "rougher.state.floatbank10_f_level             0\n",
       "secondary_cleaner.state.floatbank2_a_air      0\n",
       "secondary_cleaner.state.floatbank2_a_level    0\n",
       "secondary_cleaner.state.floatbank2_b_air      0\n",
       "secondary_cleaner.state.floatbank2_b_level    0\n",
       "secondary_cleaner.state.floatbank3_a_air      0\n",
       "secondary_cleaner.state.floatbank3_a_level    0\n",
       "secondary_cleaner.state.floatbank3_b_air      0\n",
       "secondary_cleaner.state.floatbank3_b_level    0\n",
       "secondary_cleaner.state.floatbank4_a_air      0\n",
       "secondary_cleaner.state.floatbank4_a_level    0\n",
       "secondary_cleaner.state.floatbank4_b_air      0\n",
       "secondary_cleaner.state.floatbank4_b_level    0\n",
       "secondary_cleaner.state.floatbank5_a_air      0\n",
       "secondary_cleaner.state.floatbank5_a_level    0\n",
       "secondary_cleaner.state.floatbank5_b_air      0\n",
       "secondary_cleaner.state.floatbank5_b_level    0\n",
       "secondary_cleaner.state.floatbank6_a_air      0\n",
       "secondary_cleaner.state.floatbank6_a_level    0\n",
       "dtype: int64"
      ]
     },
     "execution_count": 20,
     "metadata": {},
     "output_type": "execute_result"
    }
   ],
   "source": [
    "#Recheck missing values\n",
    "data_train[train_test_columns].isnull().sum()"
   ]
  },
  {
   "cell_type": "markdown",
   "metadata": {},
   "source": [
    "The recovery final and other output features are not available in data_train. Only in source data"
   ]
  },
  {
   "cell_type": "code",
   "execution_count": 21,
   "metadata": {},
   "outputs": [],
   "source": [
    "# Merge targets to test dataset\n",
    "data_test = data_test.merge(data_source[['date','final.output.recovery','rougher.output.recovery']], how='left',on='date')\n",
    "\n",
    "\n",
    "for col in ['final.output.recovery','rougher.output.recovery']:\n",
    "    data_test[data_test[col]<0.001] =np.nan"
   ]
  },
  {
   "cell_type": "code",
   "execution_count": 22,
   "metadata": {},
   "outputs": [
    {
     "data": {
      "text/plain": [
       "date                                          160\n",
       "primary_cleaner.input.sulfate                 457\n",
       "primary_cleaner.input.depressant              440\n",
       "primary_cleaner.input.feed_size               160\n",
       "primary_cleaner.input.xanthate                321\n",
       "primary_cleaner.state.floatbank8_a_air        176\n",
       "primary_cleaner.state.floatbank8_a_level      176\n",
       "primary_cleaner.state.floatbank8_b_air        176\n",
       "primary_cleaner.state.floatbank8_b_level      176\n",
       "primary_cleaner.state.floatbank8_c_air        176\n",
       "primary_cleaner.state.floatbank8_c_level      176\n",
       "primary_cleaner.state.floatbank8_d_air        176\n",
       "primary_cleaner.state.floatbank8_d_level      176\n",
       "rougher.input.feed_ag                         176\n",
       "rougher.input.feed_pb                         176\n",
       "rougher.input.feed_rate                       200\n",
       "rougher.input.feed_size                       182\n",
       "rougher.input.feed_sol                        219\n",
       "rougher.input.feed_au                         176\n",
       "rougher.input.floatbank10_sulfate             416\n",
       "rougher.input.floatbank10_xanthate            283\n",
       "rougher.input.floatbank11_sulfate             208\n",
       "rougher.input.floatbank11_xanthate            504\n",
       "rougher.state.floatbank10_a_air               177\n",
       "rougher.state.floatbank10_a_level             176\n",
       "rougher.state.floatbank10_b_air               177\n",
       "rougher.state.floatbank10_b_level             176\n",
       "rougher.state.floatbank10_c_air               177\n",
       "rougher.state.floatbank10_c_level             176\n",
       "rougher.state.floatbank10_d_air               177\n",
       "rougher.state.floatbank10_d_level             176\n",
       "rougher.state.floatbank10_e_air               177\n",
       "rougher.state.floatbank10_e_level             176\n",
       "rougher.state.floatbank10_f_air               177\n",
       "rougher.state.floatbank10_f_level             176\n",
       "secondary_cleaner.state.floatbank2_a_air      180\n",
       "secondary_cleaner.state.floatbank2_a_level    176\n",
       "secondary_cleaner.state.floatbank2_b_air      182\n",
       "secondary_cleaner.state.floatbank2_b_level    176\n",
       "secondary_cleaner.state.floatbank3_a_air      193\n",
       "secondary_cleaner.state.floatbank3_a_level    176\n",
       "secondary_cleaner.state.floatbank3_b_air      176\n",
       "secondary_cleaner.state.floatbank3_b_level    176\n",
       "secondary_cleaner.state.floatbank4_a_air      176\n",
       "secondary_cleaner.state.floatbank4_a_level    176\n",
       "secondary_cleaner.state.floatbank4_b_air      176\n",
       "secondary_cleaner.state.floatbank4_b_level    176\n",
       "secondary_cleaner.state.floatbank5_a_air      176\n",
       "secondary_cleaner.state.floatbank5_a_level    176\n",
       "secondary_cleaner.state.floatbank5_b_air      176\n",
       "secondary_cleaner.state.floatbank5_b_level    176\n",
       "secondary_cleaner.state.floatbank6_a_air      176\n",
       "secondary_cleaner.state.floatbank6_a_level    176\n",
       "final.output.recovery                         600\n",
       "rougher.output.recovery                       684\n",
       "dtype: int64"
      ]
     },
     "execution_count": 22,
     "metadata": {},
     "output_type": "execute_result"
    }
   ],
   "source": [
    "data_test.isnull().sum()"
   ]
  },
  {
   "cell_type": "code",
   "execution_count": 23,
   "metadata": {},
   "outputs": [],
   "source": [
    "# Drop the missing values in target columns\n",
    "target_columns=['final.output.recovery','rougher.output.recovery']\n",
    "data_test=data_test.dropna(subset=target_columns)"
   ]
  },
  {
   "cell_type": "code",
   "execution_count": 24,
   "metadata": {},
   "outputs": [
    {
     "data": {
      "text/plain": [
       "date                                           0\n",
       "primary_cleaner.input.sulfate                  1\n",
       "primary_cleaner.input.depressant               2\n",
       "primary_cleaner.input.feed_size                0\n",
       "primary_cleaner.input.xanthate                 1\n",
       "primary_cleaner.state.floatbank8_a_air         0\n",
       "primary_cleaner.state.floatbank8_a_level       0\n",
       "primary_cleaner.state.floatbank8_b_air         0\n",
       "primary_cleaner.state.floatbank8_b_level       0\n",
       "primary_cleaner.state.floatbank8_c_air         0\n",
       "primary_cleaner.state.floatbank8_c_level       0\n",
       "primary_cleaner.state.floatbank8_d_air         0\n",
       "primary_cleaner.state.floatbank8_d_level       0\n",
       "rougher.input.feed_ag                          0\n",
       "rougher.input.feed_pb                          0\n",
       "rougher.input.feed_rate                        3\n",
       "rougher.input.feed_size                        1\n",
       "rougher.input.feed_sol                        20\n",
       "rougher.input.feed_au                          0\n",
       "rougher.input.floatbank10_sulfate              4\n",
       "rougher.input.floatbank10_xanthate             0\n",
       "rougher.input.floatbank11_sulfate              3\n",
       "rougher.input.floatbank11_xanthate            19\n",
       "rougher.state.floatbank10_a_air                0\n",
       "rougher.state.floatbank10_a_level              0\n",
       "rougher.state.floatbank10_b_air                0\n",
       "rougher.state.floatbank10_b_level              0\n",
       "rougher.state.floatbank10_c_air                0\n",
       "rougher.state.floatbank10_c_level              0\n",
       "rougher.state.floatbank10_d_air                0\n",
       "rougher.state.floatbank10_d_level              0\n",
       "rougher.state.floatbank10_e_air                0\n",
       "rougher.state.floatbank10_e_level              0\n",
       "rougher.state.floatbank10_f_air                0\n",
       "rougher.state.floatbank10_f_level              0\n",
       "secondary_cleaner.state.floatbank2_a_air       3\n",
       "secondary_cleaner.state.floatbank2_a_level     0\n",
       "secondary_cleaner.state.floatbank2_b_air       1\n",
       "secondary_cleaner.state.floatbank2_b_level     0\n",
       "secondary_cleaner.state.floatbank3_a_air       8\n",
       "secondary_cleaner.state.floatbank3_a_level     0\n",
       "secondary_cleaner.state.floatbank3_b_air       0\n",
       "secondary_cleaner.state.floatbank3_b_level     0\n",
       "secondary_cleaner.state.floatbank4_a_air       0\n",
       "secondary_cleaner.state.floatbank4_a_level     0\n",
       "secondary_cleaner.state.floatbank4_b_air       0\n",
       "secondary_cleaner.state.floatbank4_b_level     0\n",
       "secondary_cleaner.state.floatbank5_a_air       0\n",
       "secondary_cleaner.state.floatbank5_a_level     0\n",
       "secondary_cleaner.state.floatbank5_b_air       0\n",
       "secondary_cleaner.state.floatbank5_b_level     0\n",
       "secondary_cleaner.state.floatbank6_a_air       0\n",
       "secondary_cleaner.state.floatbank6_a_level     0\n",
       "final.output.recovery                          0\n",
       "rougher.output.recovery                        0\n",
       "dtype: int64"
      ]
     },
     "execution_count": 24,
     "metadata": {},
     "output_type": "execute_result"
    }
   ],
   "source": [
    "data_test.isnull().sum()"
   ]
  },
  {
   "cell_type": "code",
   "execution_count": 25,
   "metadata": {},
   "outputs": [
    {
     "data": {
      "text/plain": [
       "date                                           object\n",
       "primary_cleaner.input.sulfate                 float64\n",
       "primary_cleaner.input.depressant              float64\n",
       "primary_cleaner.input.feed_size               float64\n",
       "primary_cleaner.input.xanthate                float64\n",
       "primary_cleaner.state.floatbank8_a_air        float64\n",
       "primary_cleaner.state.floatbank8_a_level      float64\n",
       "primary_cleaner.state.floatbank8_b_air        float64\n",
       "primary_cleaner.state.floatbank8_b_level      float64\n",
       "primary_cleaner.state.floatbank8_c_air        float64\n",
       "primary_cleaner.state.floatbank8_c_level      float64\n",
       "primary_cleaner.state.floatbank8_d_air        float64\n",
       "primary_cleaner.state.floatbank8_d_level      float64\n",
       "rougher.input.feed_ag                         float64\n",
       "rougher.input.feed_pb                         float64\n",
       "rougher.input.feed_rate                       float64\n",
       "rougher.input.feed_size                       float64\n",
       "rougher.input.feed_sol                        float64\n",
       "rougher.input.feed_au                         float64\n",
       "rougher.input.floatbank10_sulfate             float64\n",
       "rougher.input.floatbank10_xanthate            float64\n",
       "rougher.input.floatbank11_sulfate             float64\n",
       "rougher.input.floatbank11_xanthate            float64\n",
       "rougher.state.floatbank10_a_air               float64\n",
       "rougher.state.floatbank10_a_level             float64\n",
       "rougher.state.floatbank10_b_air               float64\n",
       "rougher.state.floatbank10_b_level             float64\n",
       "rougher.state.floatbank10_c_air               float64\n",
       "rougher.state.floatbank10_c_level             float64\n",
       "rougher.state.floatbank10_d_air               float64\n",
       "rougher.state.floatbank10_d_level             float64\n",
       "rougher.state.floatbank10_e_air               float64\n",
       "rougher.state.floatbank10_e_level             float64\n",
       "rougher.state.floatbank10_f_air               float64\n",
       "rougher.state.floatbank10_f_level             float64\n",
       "secondary_cleaner.state.floatbank2_a_air      float64\n",
       "secondary_cleaner.state.floatbank2_a_level    float64\n",
       "secondary_cleaner.state.floatbank2_b_air      float64\n",
       "secondary_cleaner.state.floatbank2_b_level    float64\n",
       "secondary_cleaner.state.floatbank3_a_air      float64\n",
       "secondary_cleaner.state.floatbank3_a_level    float64\n",
       "secondary_cleaner.state.floatbank3_b_air      float64\n",
       "secondary_cleaner.state.floatbank3_b_level    float64\n",
       "secondary_cleaner.state.floatbank4_a_air      float64\n",
       "secondary_cleaner.state.floatbank4_a_level    float64\n",
       "secondary_cleaner.state.floatbank4_b_air      float64\n",
       "secondary_cleaner.state.floatbank4_b_level    float64\n",
       "secondary_cleaner.state.floatbank5_a_air      float64\n",
       "secondary_cleaner.state.floatbank5_a_level    float64\n",
       "secondary_cleaner.state.floatbank5_b_air      float64\n",
       "secondary_cleaner.state.floatbank5_b_level    float64\n",
       "secondary_cleaner.state.floatbank6_a_air      float64\n",
       "secondary_cleaner.state.floatbank6_a_level    float64\n",
       "final.output.recovery                         float64\n",
       "rougher.output.recovery                       float64\n",
       "dtype: object"
      ]
     },
     "execution_count": 25,
     "metadata": {},
     "output_type": "execute_result"
    }
   ],
   "source": [
    "#Check dtypes\n",
    "data_test.dtypes"
   ]
  },
  {
   "cell_type": "code",
   "execution_count": 26,
   "metadata": {},
   "outputs": [],
   "source": [
    "# Convert date to datetime \n",
    "data_test['date'] =pd.to_datetime(data_train['date'])\n",
    "data_test.sort_values('date', inplace=True)\n",
    "#Fill the missing values using ffill method\n",
    "data_test.loc[:, train_test_columns] =data_test.loc[:, train_test_columns].fillna(method='ffill')"
   ]
  },
  {
   "cell_type": "code",
   "execution_count": 27,
   "metadata": {},
   "outputs": [],
   "source": [
    "#Replace all positive and negative infinity values with NaN\n",
    "data_train.replace([np.inf, -np.inf], np.nan, inplace=True)\n",
    "#Replace missing values with ffill\n",
    "data_train.fillna(method='ffill', inplace=True)"
   ]
  },
  {
   "cell_type": "code",
   "execution_count": 28,
   "metadata": {},
   "outputs": [],
   "source": [
    "#Replace all positive and negative infinity values with NaN\n",
    "data_test.replace([np.inf, -np.inf], np.nan, inplace=True)\n",
    "#Replace missing values with ffill\n",
    "data_test.fillna(method='ffill', inplace=True)"
   ]
  },
  {
   "cell_type": "code",
   "execution_count": 29,
   "metadata": {},
   "outputs": [
    {
     "data": {
      "text/plain": [
       "date                                          0\n",
       "primary_cleaner.input.sulfate                 0\n",
       "primary_cleaner.input.depressant              0\n",
       "primary_cleaner.input.feed_size               0\n",
       "primary_cleaner.input.xanthate                0\n",
       "primary_cleaner.state.floatbank8_a_air        0\n",
       "primary_cleaner.state.floatbank8_a_level      0\n",
       "primary_cleaner.state.floatbank8_b_air        0\n",
       "primary_cleaner.state.floatbank8_b_level      0\n",
       "primary_cleaner.state.floatbank8_c_air        0\n",
       "primary_cleaner.state.floatbank8_c_level      0\n",
       "primary_cleaner.state.floatbank8_d_air        0\n",
       "primary_cleaner.state.floatbank8_d_level      0\n",
       "rougher.input.feed_ag                         0\n",
       "rougher.input.feed_pb                         0\n",
       "rougher.input.feed_rate                       0\n",
       "rougher.input.feed_size                       0\n",
       "rougher.input.feed_sol                        0\n",
       "rougher.input.feed_au                         0\n",
       "rougher.input.floatbank10_sulfate             0\n",
       "rougher.input.floatbank10_xanthate            0\n",
       "rougher.input.floatbank11_sulfate             0\n",
       "rougher.input.floatbank11_xanthate            0\n",
       "rougher.state.floatbank10_a_air               0\n",
       "rougher.state.floatbank10_a_level             0\n",
       "rougher.state.floatbank10_b_air               0\n",
       "rougher.state.floatbank10_b_level             0\n",
       "rougher.state.floatbank10_c_air               0\n",
       "rougher.state.floatbank10_c_level             0\n",
       "rougher.state.floatbank10_d_air               0\n",
       "rougher.state.floatbank10_d_level             0\n",
       "rougher.state.floatbank10_e_air               0\n",
       "rougher.state.floatbank10_e_level             0\n",
       "rougher.state.floatbank10_f_air               0\n",
       "rougher.state.floatbank10_f_level             0\n",
       "secondary_cleaner.state.floatbank2_a_air      0\n",
       "secondary_cleaner.state.floatbank2_a_level    0\n",
       "secondary_cleaner.state.floatbank2_b_air      0\n",
       "secondary_cleaner.state.floatbank2_b_level    0\n",
       "secondary_cleaner.state.floatbank3_a_air      0\n",
       "secondary_cleaner.state.floatbank3_a_level    0\n",
       "secondary_cleaner.state.floatbank3_b_air      0\n",
       "secondary_cleaner.state.floatbank3_b_level    0\n",
       "secondary_cleaner.state.floatbank4_a_air      0\n",
       "secondary_cleaner.state.floatbank4_a_level    0\n",
       "secondary_cleaner.state.floatbank4_b_air      0\n",
       "secondary_cleaner.state.floatbank4_b_level    0\n",
       "secondary_cleaner.state.floatbank5_a_air      0\n",
       "secondary_cleaner.state.floatbank5_a_level    0\n",
       "secondary_cleaner.state.floatbank5_b_air      0\n",
       "secondary_cleaner.state.floatbank5_b_level    0\n",
       "secondary_cleaner.state.floatbank6_a_air      0\n",
       "secondary_cleaner.state.floatbank6_a_level    0\n",
       "final.output.recovery                         0\n",
       "rougher.output.recovery                       0\n",
       "dtype: int64"
      ]
     },
     "execution_count": 29,
     "metadata": {},
     "output_type": "execute_result"
    }
   ],
   "source": [
    "#Recheck missing values\n",
    "data_test.isnull().sum()"
   ]
  },
  {
   "cell_type": "code",
   "execution_count": 30,
   "metadata": {},
   "outputs": [
    {
     "data": {
      "text/plain": [
       "date                                          0\n",
       "final.output.concentrate_ag                   0\n",
       "final.output.concentrate_pb                   0\n",
       "final.output.concentrate_sol                  0\n",
       "final.output.concentrate_au                   0\n",
       "                                             ..\n",
       "secondary_cleaner.state.floatbank5_a_level    0\n",
       "secondary_cleaner.state.floatbank5_b_air      0\n",
       "secondary_cleaner.state.floatbank5_b_level    0\n",
       "secondary_cleaner.state.floatbank6_a_air      0\n",
       "secondary_cleaner.state.floatbank6_a_level    0\n",
       "Length: 87, dtype: int64"
      ]
     },
     "execution_count": 30,
     "metadata": {},
     "output_type": "execute_result"
    }
   ],
   "source": [
    "#Recheck missing values\n",
    "data_train.isnull().sum()"
   ]
  },
  {
   "cell_type": "code",
   "execution_count": 31,
   "metadata": {},
   "outputs": [
    {
     "data": {
      "text/plain": [
       "0"
      ]
     },
     "execution_count": 31,
     "metadata": {},
     "output_type": "execute_result"
    }
   ],
   "source": [
    "#Check for duplicates \n",
    "data_test.duplicated().sum()"
   ]
  },
  {
   "cell_type": "code",
   "execution_count": 32,
   "metadata": {},
   "outputs": [
    {
     "data": {
      "text/plain": [
       "0"
      ]
     },
     "execution_count": 32,
     "metadata": {},
     "output_type": "execute_result"
    }
   ],
   "source": [
    "#Check for duplicates \n",
    "data_train.duplicated().sum()"
   ]
  },
  {
   "cell_type": "markdown",
   "metadata": {},
   "source": [
    "In this stage load all the important libraries, load the data and check the missing values, duplicates, dtypes of the datasets.\n",
    "Also check the recovery. The MAE between our calculations and the feature values is 9.303415616264301e-15 approximately equal to zero. i.e, recovery is calculated correctly. Analyze the features not available in the test set and compare it with train set."
   ]
  },
  {
   "cell_type": "markdown",
   "metadata": {},
   "source": [
    "### Second stage:Perform data analysis\n",
    "\n",
    "In this stage analyze the data and plot different features.\n",
    " - Check the concentrations of metals (Au, Ag, Pb) change depending on the purification stage. \n",
    " - Compare the feed particle size distributions in the training set and in the test set. \n",
    " - Consider the total concentrations of all substances at different stages: raw feed, rougher concentrate, and final concentrate and find the abnormal values in the total distribution. Describe the findings and eliminate anomalies."
   ]
  },
  {
   "cell_type": "markdown",
   "metadata": {},
   "source": [
    "Mined ore undergoes primary processing to get the ore mixture or rougher feed, which is the raw material for flotation (also known as the rougher process). After flotation, the material is sent to two-stage purification. \n",
    "1. Flotation\n",
    "Gold ore mixture is fed into the float banks to obtain rougher Au concentrate and rougher tails (product residues with a low concentration of valuable metals).The stability of this process is affected by the volatile and non-optimal physicochemical state of the flotation pulp (a mixture of solid particles and liquid).\n",
    "2. Purification\n",
    "The rougher concentrate undergoes two stages of purification. After purification, we have the final concentrate and new tails.\n"
   ]
  },
  {
   "cell_type": "code",
   "execution_count": 33,
   "metadata": {},
   "outputs": [],
   "source": [
    "#Check the concentrations of metals (Au, Ag, Pb) change depending on the purification stage. \n",
    "stages=['rougher', 'primary_cleaner', 'secondary_cleaner', 'final', 'rougher.input.feed']\n",
    "metals=['Au','Ag','Pb']"
   ]
  },
  {
   "cell_type": "code",
   "execution_count": 34,
   "metadata": {},
   "outputs": [
    {
     "name": "stdout",
     "output_type": "stream",
     "text": [
      "Neither 'secondary_cleaner.output.concentrate_au' nor 'secondary_cleaner_au' found.\n"
     ]
    },
    {
     "data": {
      "image/png": "[encoded data removed]",
      "text/plain": [
       "<Figure size 1000x600 with 1 Axes>"
      ]
     },
     "metadata": {},
     "output_type": "display_data"
    },
    {
     "name": "stdout",
     "output_type": "stream",
     "text": [
      "Neither 'secondary_cleaner.output.concentrate_ag' nor 'secondary_cleaner_ag' found.\n"
     ]
    },
    {
     "data": {
      "image/png": "[encoded data removed]",
      "text/plain": [
       "<Figure size 1000x600 with 1 Axes>"
      ]
     },
     "metadata": {},
     "output_type": "display_data"
    },
    {
     "name": "stdout",
     "output_type": "stream",
     "text": [
      "Neither 'secondary_cleaner.output.concentrate_pb' nor 'secondary_cleaner_pb' found.\n"
     ]
    },
    {
     "data": {
      "image/png": "[encoded data removed]",
      "text/plain": [
       "<Figure size 1000x600 with 1 Axes>"
      ]
     },
     "metadata": {},
     "output_type": "display_data"
    }
   ],
   "source": [
    "for metal in metals:\n",
    "    plt.figure(figsize=(10, 6))\n",
    "    \n",
    "    for stage in stages:\n",
    "        output_col = f'{stage}.output.concentrate_{metal.lower()}'\n",
    "        input_col = f'{stage}_{metal.lower()}'\n",
    "        \n",
    "        # Use whichever column exists\n",
    "        if output_col in data_train.columns:\n",
    "            column_name = output_col\n",
    "        elif input_col in data_train.columns:\n",
    "            column_name = input_col\n",
    "        else:\n",
    "            print(f\"Neither '{output_col}' nor '{input_col}' found.\")\n",
    "            continue  \n",
    "        \n",
    "        # Smooth with rolling mean\n",
    "        data = data_train[column_name].rolling(window=60).mean()\n",
    "        \n",
    "        # Plot\n",
    "        sns.kdeplot(data.dropna(), label=stage, fill=True, alpha=0.5, linewidth=2)\n",
    "    \n",
    "    plt.title(f'Concentration of {metal.upper()} at Different Stages')\n",
    "    plt.ylabel('Density')\n",
    "    plt.xlabel(f'{metal.upper()} Concentration')\n",
    "    plt.legend(bbox_to_anchor=(1.05, 1), loc='upper left')\n",
    "    plt.tight_layout()\n",
    "    plt.show()"
   ]
  },
  {
   "cell_type": "markdown",
   "metadata": {},
   "source": [
    "KDE plot is a method for visualizing the distribution of observations in a dataset. High peaks in the KDE indicate where data points are concentrated—they show the mode of the data.The width of the curve indicates the spread or variability of the data. A wider curve suggests more variability, while a narrower curve indicates less. From the above analysis high peak for Au and Pb for rougher stage, Ag for final stage. The high peak concentration for rougher stage is obtained at around 18 for Au, 12.5 for Ag, around 7 for Pb. The high peak concentration for primary cleaner stage is obtained at around 32 for Au, 8 for Ag, around 10 for Pb."
   ]
  },
  {
   "cell_type": "code",
   "execution_count": 35,
   "metadata": {},
   "outputs": [],
   "source": [
    "#Plot feed particle size distribution\n",
    "def kdeplot(x,y):\n",
    "    sns.kdeplot(x, fill='True', label='Train',linewidth=1.5,color='forestgreen',alpha=0.5)\n",
    "    sns.kdeplot(y, fill='True', label='Test', linewidth=1.5,color='coral',alpha=0.5)\n",
    "    plt.legend()\n",
    "    plt.title('Feed Particle Size Distributions')\n",
    "    plt.xlabel('Particle Size')\n",
    "    plt.show()"
   ]
  },
  {
   "cell_type": "code",
   "execution_count": 36,
   "metadata": {},
   "outputs": [
    {
     "data": {
      "image/png": "[encoded data removed]",
      "text/plain": [
       "<Figure size 640x480 with 1 Axes>"
      ]
     },
     "metadata": {},
     "output_type": "display_data"
    }
   ],
   "source": [
    "#Plot feed particle size distribution for input feed\n",
    "kdeplot(data_train['rougher.input.feed_size'],data_test['rougher.input.feed_size'])"
   ]
  },
  {
   "cell_type": "code",
   "execution_count": 37,
   "metadata": {},
   "outputs": [
    {
     "data": {
      "image/png": "[encoded data removed]",
      "text/plain": [
       "<Figure size 640x480 with 1 Axes>"
      ]
     },
     "metadata": {},
     "output_type": "display_data"
    }
   ],
   "source": [
    "#Plot feed particle size distribution for primary cleaner input feed\n",
    "kdeplot(data_train['primary_cleaner.input.feed_size'],data_test['primary_cleaner.input.feed_size'])"
   ]
  },
  {
   "cell_type": "markdown",
   "metadata": {},
   "source": [
    "Above figures provide a visual representation of the distribution of data. By plotting kde plots of both sets training and test sets on the same axes, can visually compare their shapes, central tendencies, and spreads.From the above two plots the feed particle size distribution for training and test set are almost similar and not varying significantly.."
   ]
  },
  {
   "cell_type": "code",
   "execution_count": 38,
   "metadata": {},
   "outputs": [],
   "source": [
    "#The total concentrations of all substances at different stages: raw feed, rougher concentrate, and final concentrate. \n",
    "raw_feed=data_source[['rougher.input.feed_ag', 'rougher.input.feed_au', 'rougher.input.feed_pb']].sum(axis=1)\n",
    "rougher_concentrate =data_source[['rougher.output.concentrate_ag','rougher.output.concentrate_au','rougher.output.concentrate_pb']].sum(axis=1)\n",
    "final_concentrate=data_source[['final.output.concentrate_ag','final.output.concentrate_au','final.output.concentrate_pb']].sum(axis=1)"
   ]
  },
  {
   "cell_type": "code",
   "execution_count": 39,
   "metadata": {},
   "outputs": [
    {
     "data": {
      "image/png": "[encoded data removed]",
      "text/plain": [
       "<Figure size 640x480 with 1 Axes>"
      ]
     },
     "metadata": {},
     "output_type": "display_data"
    }
   ],
   "source": [
    "#Plot for source data\n",
    "sns.kdeplot(raw_feed, fill='True', label='total_raw_feed',linewidth=1.5,color='forestgreen',alpha=0.5)\n",
    "sns.kdeplot(rougher_concentrate, fill='True', label='total_rougher_concentrate', linewidth=1.5,color='coral',alpha=0.5)\n",
    "sns.kdeplot(final_concentrate, fill='True', label='total_final_concentrate',linewidth=1.5,color='navy',alpha=0.5)\n",
    "plt.legend(bbox_to_anchor=(1.05, 1), loc='upper left')\n",
    "plt.title('Total Concentration Distributions')\n",
    "plt.xlabel('Total Concentration')\n",
    "plt.show()"
   ]
  },
  {
   "cell_type": "code",
   "execution_count": 40,
   "metadata": {},
   "outputs": [],
   "source": [
    "#The total concentrations of all substances at different stages: raw feed, rougher concentrate, and final concentrate. \n",
    "raw_feed_cols=['rougher.input.feed_ag', 'rougher.input.feed_au', 'rougher.input.feed_pb']\n",
    "rougher_output_cols =['rougher.output.concentrate_ag','rougher.output.concentrate_au','rougher.output.concentrate_pb']\n",
    "final_output_cols=['final.output.concentrate_ag','final.output.concentrate_au','final.output.concentrate_pb']"
   ]
  },
  {
   "cell_type": "code",
   "execution_count": 41,
   "metadata": {},
   "outputs": [],
   "source": [
    "# Calculate total concentrations for data_train\n",
    "data_train['total_raw_feed'] = data_train[raw_feed_cols].sum(axis=1)\n",
    "\n",
    "# Check if columns exist before calculating for rougher and final outputs\n",
    "if all(col in data_train.columns for col in rougher_output_cols):\n",
    "    data_train['total_rougher_output'] = data_train[rougher_output_cols].sum(axis=1)\n",
    "\n",
    "if all(col in data_train.columns for col in final_output_cols):\n",
    "    data_train['total_final_output'] = data_train[final_output_cols].sum(axis=1)\n",
    "\n",
    "# Calculate total concentrations for data_test \n",
    "data_test['total_raw_feed'] = data_test[raw_feed_cols].sum(axis=1)\n"
   ]
  },
  {
   "cell_type": "code",
   "execution_count": 42,
   "metadata": {},
   "outputs": [
    {
     "data": {
      "image/png": "[encoded data removed]",
      "text/plain": [
       "<Figure size 640x480 with 1 Axes>"
      ]
     },
     "metadata": {},
     "output_type": "display_data"
    },
    {
     "data": {
      "image/png": "[encoded data removed]",
      "text/plain": [
       "<Figure size 640x480 with 1 Axes>"
      ]
     },
     "metadata": {},
     "output_type": "display_data"
    }
   ],
   "source": [
    "# Plot distributions for data_train\n",
    "plt.figure()\n",
    "sns.kdeplot(data_train['total_raw_feed'], color='red', label='Raw Feed - Train')\n",
    "if 'total_rougher_output' in data_train:\n",
    "    sns.kdeplot(data_train['total_rougher_output'], color='orange', label='Rougher Output - Train')\n",
    "if 'total_final_output' in data_train:\n",
    "    sns.kdeplot(data_train['total_final_output'], color='green', label='Final Output - Train')\n",
    "plt.xlabel(\"Total Concentration\")\n",
    "plt.title(\"Total Concentration Distribution - Train\")\n",
    "plt.legend()\n",
    "plt.tight_layout()\n",
    "plt.show()\n",
    "\n",
    "# Plot distributions for data_test\n",
    "plt.figure()\n",
    "sns.kdeplot(data_test['total_raw_feed'], color='blue', label='Raw Feed - Test')\n",
    "plt.xlabel(\"Total Concentration\")\n",
    "plt.title(\"Total Concentration Distribution - Test\")\n",
    "plt.legend()\n",
    "plt.tight_layout()\n",
    "plt.show()"
   ]
  },
  {
   "cell_type": "code",
   "execution_count": 43,
   "metadata": {},
   "outputs": [],
   "source": [
    "# Function to remove outliers using IQR\n",
    "def remove_outliers(data, columns):\n",
    "    for col in columns:\n",
    "        Q1 = data[col].quantile(0.25)\n",
    "        Q3 = data[col].quantile(0.75)\n",
    "        IQR = Q3 - Q1\n",
    "        lower_bound = Q1 - 1.5 * IQR\n",
    "        upper_bound = Q3 + 1.5 * IQR\n",
    "        # Filter out outliers\n",
    "        data = data[(data[col] >= lower_bound) & (data[col] <= upper_bound)]\n",
    "    return data"
   ]
  },
  {
   "cell_type": "code",
   "execution_count": 44,
   "metadata": {},
   "outputs": [],
   "source": [
    "# Clean data_train\n",
    "data_train_clean = remove_outliers(data_train, raw_feed_cols)\n",
    "data_train_clean =remove_outliers(data_train, rougher_output_cols)\n",
    "data_train_clean =remove_outliers(data_train, final_output_cols)"
   ]
  },
  {
   "cell_type": "code",
   "execution_count": 45,
   "metadata": {},
   "outputs": [],
   "source": [
    "# Clean data_test\n",
    "data_test_clean = remove_outliers(data_test, raw_feed_cols)"
   ]
  },
  {
   "cell_type": "markdown",
   "metadata": {},
   "source": [
    "To remove the outliers calculate IQR and determine the lower and upper bounds. Then remove the abnormal values in the total distribution from training and test set."
   ]
  },
  {
   "cell_type": "markdown",
   "metadata": {},
   "source": [
    "### Third stage: Develop and train a model\n",
    "\n",
    "In this stage build different models(DecisionTreeRegressor, LinearRegression,RandomForestRegressor) and find the best model and test it using test sample.\n",
    "- Write a function to calculate the final sMAPE value.\n",
    "- Train different models. Evaluate them using cross-validation."
   ]
  },
  {
   "cell_type": "code",
   "execution_count": 46,
   "metadata": {},
   "outputs": [],
   "source": [
    "#Features and target\n",
    "features=train_test_columns[1:]\n",
    "target=['final.output.recovery','rougher.output.recovery']"
   ]
  },
  {
   "cell_type": "code",
   "execution_count": 47,
   "metadata": {},
   "outputs": [],
   "source": [
    "#Features and target for training and test set\n",
    "features_train=data_train_clean[features].values\n",
    "features_test=data_test_clean[features].values\n",
    "target_train=data_train_clean[target].values\n",
    "target_test=data_test_clean[target].values"
   ]
  },
  {
   "cell_type": "code",
   "execution_count": 48,
   "metadata": {},
   "outputs": [
    {
     "name": "stdout",
     "output_type": "stream",
     "text": [
      "The training set shape is (12869, 52) for features and (12869, 2) for targets\n",
      "The test set shape is (4961, 52) for features and (4961, 2) for targets\n"
     ]
    }
   ],
   "source": [
    "print(f'The training set shape is {features_train.shape} for features and {target_train.shape} for targets')\n",
    "print(f'The test set shape is {features_test.shape} for features and {target_test.shape} for targets')"
   ]
  },
  {
   "cell_type": "code",
   "execution_count": 49,
   "metadata": {},
   "outputs": [],
   "source": [
    "#Define smape\n",
    "def smape(y_true,y_pred):\n",
    "    numerator =np.abs(y_true - y_pred)\n",
    "    denominator = ((np.abs(y_true) + np.abs(y_pred)) / 2)\n",
    "    denominator = np.where(denominator == 0, 1, denominator)\n",
    "    return ((numerator/denominator).mean()) *100"
   ]
  },
  {
   "cell_type": "code",
   "execution_count": 50,
   "metadata": {},
   "outputs": [],
   "source": [
    "#Define final smape\n",
    "def final_smape(y_true,y_pred):\n",
    "        smape_rougher = smape(y_true[:,1], y_pred[:,1])\n",
    "        smape_final = smape(y_true[:,0], y_pred[:,0])\n",
    "        final_smape =(0.25 * smape_rougher + 0.75 * smape_final)  \n",
    "        return final_smape"
   ]
  },
  {
   "cell_type": "code",
   "execution_count": 51,
   "metadata": {},
   "outputs": [],
   "source": [
    "#Scaling the numeric features\n",
    "scaler=StandardScaler()\n",
    "scaler.fit(features_train)\n",
    "features_train=scaler.transform(features_train)\n",
    "features_test=scaler.transform(features_test)"
   ]
  },
  {
   "cell_type": "code",
   "execution_count": 52,
   "metadata": {},
   "outputs": [],
   "source": [
    "smape_score = make_scorer(final_smape)"
   ]
  },
  {
   "cell_type": "code",
   "execution_count": 53,
   "metadata": {},
   "outputs": [],
   "source": [
    "def model(model):\n",
    "    #Train the dataset\n",
    "    model.fit(features_train, target_train)\n",
    "    score_model = cross_val_score(model, features_train, target_train, cv=5, scoring=smape_score)\n",
    "    mean_smape =score_model.mean()\n",
    "    print(f'The smape score for {model} is {mean_smape}')\n",
    "    return "
   ]
  },
  {
   "cell_type": "markdown",
   "metadata": {},
   "source": [
    "Cross-validation is a technique that will help train and test a model using several randomly formed samples.The data is then randomly separated into a certain number of groups or subsets called folds. Each fold contains about the same amount of data. The number of folds used depends on factors like the size, data type, and model. The model estimation provides an estimate of our model’s performance on new and unseen data. "
   ]
  },
  {
   "cell_type": "code",
   "execution_count": 54,
   "metadata": {},
   "outputs": [
    {
     "name": "stdout",
     "output_type": "stream",
     "text": [
      "The smape score for DecisionTreeRegressor(random_state=12345) is 16.58793461779928\n"
     ]
    }
   ],
   "source": [
    "#Modelling using DecisionTreeRegressor\n",
    "model1=DecisionTreeRegressor(random_state=12345)\n",
    "model(model1)"
   ]
  },
  {
   "cell_type": "code",
   "execution_count": 55,
   "metadata": {
    "scrolled": true
   },
   "outputs": [
    {
     "name": "stdout",
     "output_type": "stream",
     "text": [
      "The smape score for LinearRegression() is 10.798730571650248\n"
     ]
    }
   ],
   "source": [
    "#Modelling using LinearRegression\n",
    "model2 = LinearRegression()\n",
    "model(model2)"
   ]
  },
  {
   "cell_type": "code",
   "execution_count": 56,
   "metadata": {},
   "outputs": [],
   "source": [
    "#Modelling using RandomForestRegressor\n",
    "model3 = RandomForestRegressor(random_state=12345) "
   ]
  },
  {
   "cell_type": "code",
   "execution_count": 57,
   "metadata": {},
   "outputs": [],
   "source": [
    "# Tune the hyperparameters using gridsearch\n",
    "param_grid = {\n",
    "    'n_estimators': [50, 100],\n",
    "    'max_depth': [10, None],\n",
    "    'min_samples_split': [2],\n",
    "    'min_samples_leaf': [1]\n",
    "}\n"
   ]
  },
  {
   "cell_type": "code",
   "execution_count": 58,
   "metadata": {},
   "outputs": [
    {
     "name": "stdout",
     "output_type": "stream",
     "text": [
      "Fitting 5 folds for each of 4 candidates, totalling 20 fits\n",
      "[CV] END max_depth=10, min_samples_leaf=1, min_samples_split=2, n_estimators=50; total time=  14.0s\n",
      "[CV] END max_depth=10, min_samples_leaf=1, min_samples_split=2, n_estimators=50; total time=  13.7s\n",
      "[CV] END max_depth=10, min_samples_leaf=1, min_samples_split=2, n_estimators=50; total time=  13.2s\n",
      "[CV] END max_depth=10, min_samples_leaf=1, min_samples_split=2, n_estimators=50; total time=  13.6s\n",
      "[CV] END max_depth=10, min_samples_leaf=1, min_samples_split=2, n_estimators=50; total time=  14.0s\n",
      "[CV] END max_depth=10, min_samples_leaf=1, min_samples_split=2, n_estimators=100; total time=  28.0s\n",
      "[CV] END max_depth=10, min_samples_leaf=1, min_samples_split=2, n_estimators=100; total time=  27.2s\n",
      "[CV] END max_depth=10, min_samples_leaf=1, min_samples_split=2, n_estimators=100; total time=  26.6s\n",
      "[CV] END max_depth=10, min_samples_leaf=1, min_samples_split=2, n_estimators=100; total time=  27.1s\n",
      "[CV] END max_depth=10, min_samples_leaf=1, min_samples_split=2, n_estimators=100; total time=  27.5s\n",
      "[CV] END max_depth=None, min_samples_leaf=1, min_samples_split=2, n_estimators=50; total time=  24.4s\n",
      "[CV] END max_depth=None, min_samples_leaf=1, min_samples_split=2, n_estimators=50; total time=  22.9s\n",
      "[CV] END max_depth=None, min_samples_leaf=1, min_samples_split=2, n_estimators=50; total time=  20.9s\n",
      "[CV] END max_depth=None, min_samples_leaf=1, min_samples_split=2, n_estimators=50; total time=  22.2s\n",
      "[CV] END max_depth=None, min_samples_leaf=1, min_samples_split=2, n_estimators=50; total time=  24.1s\n",
      "[CV] END max_depth=None, min_samples_leaf=1, min_samples_split=2, n_estimators=100; total time=  48.7s\n",
      "[CV] END max_depth=None, min_samples_leaf=1, min_samples_split=2, n_estimators=100; total time=  45.4s\n",
      "[CV] END max_depth=None, min_samples_leaf=1, min_samples_split=2, n_estimators=100; total time=  41.2s\n",
      "[CV] END max_depth=None, min_samples_leaf=1, min_samples_split=2, n_estimators=100; total time=  44.3s\n",
      "[CV] END max_depth=None, min_samples_leaf=1, min_samples_split=2, n_estimators=100; total time=  48.6s\n"
     ]
    },
    {
     "data": {
      "text/plain": [
       "GridSearchCV(cv=5, estimator=RandomForestRegressor(random_state=12345),\n",
       "             n_jobs=-1,\n",
       "             param_grid={'max_depth': [10, None], 'min_samples_leaf': [1],\n",
       "                         'min_samples_split': [2], 'n_estimators': [50, 100]},\n",
       "             scoring=make_scorer(final_smape), verbose=2)"
      ]
     },
     "execution_count": 58,
     "metadata": {},
     "output_type": "execute_result"
    }
   ],
   "source": [
    "# Initialize GridSearchCV\n",
    "grid_search = GridSearchCV(estimator=model3, param_grid=param_grid, cv=5, n_jobs=-1, verbose=2, scoring=smape_score)\n",
    "\n",
    "# Fit the grid search to data\n",
    "grid_search.fit(features_train, target_train)"
   ]
  },
  {
   "cell_type": "code",
   "execution_count": null,
   "metadata": {},
   "outputs": [],
   "source": [
    "#Train the model using best parameters\n",
    "best_params = grid_search.best_params_\n",
    "best_model= RandomForestRegressor(**best_params, random_state=12345)\n",
    "model(best_model)"
   ]
  },
  {
   "cell_type": "code",
   "execution_count": null,
   "metadata": {},
   "outputs": [],
   "source": [
    "#Test the dataset and find smape\n",
    "y_pred = best_model.predict(features_test)\n",
    "print(f\"The smape score obtained for test set is {final_smape(target_test,y_pred)}\")"
   ]
  },
  {
   "cell_type": "markdown",
   "metadata": {},
   "source": [
    "The smape score obtained for test set is 8.799991680298794."
   ]
  },
  {
   "cell_type": "markdown",
   "metadata": {},
   "source": [
    "## Conclusion:\n",
    "\n",
    "In this project our aim is to to develop a machine learning model for Zyfra. The model should predict the amount of gold recovered from gold ore. We have the data on extraction and purification. The model will help to optimize the production and eliminate unprofitable parameters. This project consists of following steps:\n",
    "- Prepare the data\n",
    "- Perform data analysis\n",
    "- Develop and train a model.\n",
    "\n",
    "Technological Process:\n",
    "Mined ore undergoes primary processing to get the ore mixture or rougher feed, which is the raw material for flotation (also known as the rougher process). After flotation, the material is sent to two-stage purification.\n",
    "1. Flotation\n",
    "Gold ore mixture is fed into the float banks to obtain rougher Au concentrate and rougher tails (product residues with a low concentration of valuable metals).\n",
    "The stability of this process is affected by the volatile and non-optimal physicochemical state of the flotation pulp (a mixture of solid particles and liquid).\n",
    "2. Purification\n",
    "The rougher concentrate undergoes two stages of purification. After purification, we have the final concentrate and new tails.\n",
    "\n",
    "Project Steps:\n",
    "\n",
    "First stage consists of load all the important libraries, load the data and check the missing values, duplicates, dtypes of the datasets.Also check the recovery. The MAE between our calculations and the feature values is 9.303415616264301e-15 approximately equal to zero. i.e, recovery is calculated correctly. Also analyze the features not available in the test set and compare it with train set.\n",
    "\n",
    "In this stage analyze the preprocessed data. Plot the concentration of metals at different stages, check the feeder particle size distribution for both training and test sets. Also calculate the concentraton of substances at different stages and remove the outliers.\n",
    "\n",
    "In last stage calculate the smape score and build different models and find the best model to predict the test set. The smape score obtained by different models are:\n",
    "\n",
    "- DecisionTreeRegressor :16.332087584519424\n",
    "- LinearRegression :11.990452312083837\n",
    "- RandomForestRegressor:10.829836781617555\n",
    "\n",
    "A smaller value of SMAPE is better means the actual and predicted values are almost equal. From the above three models, SMAPE of RandomForestRegressor is smaller than Decisiontree and Linearregression. Tune the hyperparameters of RandomForestRegressor using GridSearchCV and train the model using hyperparameters.Then conduct the final test using the best tuned model and find the smape score.\n",
    "- The smape score for test set using RandomForestRegressor is 8.799991680298794.\n"
   ]
  },
  {
   "cell_type": "code",
   "execution_count": null,
   "metadata": {},
   "outputs": [],
   "source": []
  }
 ],
 "metadata": {
  "ExecuteTimeLog": [
   {
    "duration": 318,
    "start_time": "2025-04-09T16:33:17.110Z"
   },
   {
    "duration": 238,
    "start_time": "2025-04-09T16:34:46.964Z"
   },
   {
    "duration": 216,
    "start_time": "2025-04-09T16:35:02.238Z"
   },
   {
    "duration": 91,
    "start_time": "2025-04-09T16:36:04.352Z"
   },
   {
    "duration": 13,
    "start_time": "2025-04-09T16:36:37.909Z"
   },
   {
    "duration": 340,
    "start_time": "2025-04-09T16:38:01.320Z"
   },
   {
    "duration": 303,
    "start_time": "2025-04-10T16:28:20.308Z"
   },
   {
    "duration": 266,
    "start_time": "2025-04-10T16:28:20.810Z"
   },
   {
    "duration": 13,
    "start_time": "2025-04-10T16:28:21.847Z"
   },
   {
    "duration": 97,
    "start_time": "2025-04-10T16:28:22.374Z"
   },
   {
    "duration": 302,
    "start_time": "2025-04-10T16:28:23.170Z"
   },
   {
    "duration": 309,
    "start_time": "2025-04-10T17:42:41.755Z"
   },
   {
    "duration": 272,
    "start_time": "2025-04-10T17:42:42.355Z"
   },
   {
    "duration": 13,
    "start_time": "2025-04-10T17:42:43.070Z"
   },
   {
    "duration": 95,
    "start_time": "2025-04-10T17:42:51.086Z"
   },
   {
    "duration": 327,
    "start_time": "2025-04-10T17:42:52.160Z"
   },
   {
    "duration": 628,
    "start_time": "2025-04-10T17:48:49.462Z"
   },
   {
    "duration": 5,
    "start_time": "2025-04-10T17:49:59.867Z"
   },
   {
    "duration": 332,
    "start_time": "2025-04-10T23:00:30.094Z"
   },
   {
    "duration": 262,
    "start_time": "2025-04-10T23:00:30.636Z"
   },
   {
    "duration": 12,
    "start_time": "2025-04-10T23:00:32.616Z"
   },
   {
    "duration": 89,
    "start_time": "2025-04-10T23:00:36.818Z"
   },
   {
    "duration": 335,
    "start_time": "2025-04-10T23:00:38.052Z"
   },
   {
    "duration": 2,
    "start_time": "2025-04-10T23:00:43.979Z"
   },
   {
    "duration": 6,
    "start_time": "2025-04-10T23:00:45.799Z"
   },
   {
    "duration": 6,
    "start_time": "2025-04-10T23:02:31.351Z"
   },
   {
    "duration": 4,
    "start_time": "2025-04-10T23:03:12.144Z"
   },
   {
    "duration": 2,
    "start_time": "2025-04-10T23:03:29.845Z"
   },
   {
    "duration": 3,
    "start_time": "2025-04-10T23:04:32.468Z"
   },
   {
    "duration": 217,
    "start_time": "2025-04-10T23:04:32.897Z"
   },
   {
    "duration": 13,
    "start_time": "2025-04-10T23:04:33.460Z"
   },
   {
    "duration": 81,
    "start_time": "2025-04-10T23:04:33.872Z"
   },
   {
    "duration": 272,
    "start_time": "2025-04-10T23:04:34.267Z"
   },
   {
    "duration": 2,
    "start_time": "2025-04-10T23:04:35.757Z"
   },
   {
    "duration": 5,
    "start_time": "2025-04-10T23:04:36.197Z"
   },
   {
    "duration": 4,
    "start_time": "2025-04-10T23:04:37.512Z"
   },
   {
    "duration": 5,
    "start_time": "2025-04-10T23:04:54.104Z"
   },
   {
    "duration": 4,
    "start_time": "2025-04-10T23:05:18.702Z"
   },
   {
    "duration": 3,
    "start_time": "2025-04-10T23:05:52.688Z"
   },
   {
    "duration": 3,
    "start_time": "2025-04-10T23:06:00.912Z"
   },
   {
    "duration": 3,
    "start_time": "2025-04-10T23:07:07.833Z"
   },
   {
    "duration": 173,
    "start_time": "2025-04-10T23:12:13.745Z"
   },
   {
    "duration": 3,
    "start_time": "2025-04-10T23:12:43.996Z"
   },
   {
    "duration": 299,
    "start_time": "2025-04-11T15:06:43.913Z"
   },
   {
    "duration": 274,
    "start_time": "2025-04-11T15:06:44.435Z"
   },
   {
    "duration": 13,
    "start_time": "2025-04-11T15:06:46.004Z"
   },
   {
    "duration": 97,
    "start_time": "2025-04-11T15:06:47.004Z"
   },
   {
    "duration": 344,
    "start_time": "2025-04-11T15:06:47.932Z"
   },
   {
    "duration": 5,
    "start_time": "2025-04-11T15:06:51.883Z"
   },
   {
    "duration": 5,
    "start_time": "2025-04-11T15:06:52.547Z"
   },
   {
    "duration": 4,
    "start_time": "2025-04-11T15:06:54.861Z"
   },
   {
    "duration": 3,
    "start_time": "2025-04-11T15:06:55.701Z"
   },
   {
    "duration": 10,
    "start_time": "2025-04-11T15:09:38.338Z"
   },
   {
    "duration": 29,
    "start_time": "2025-04-11T15:10:18.718Z"
   },
   {
    "duration": 8,
    "start_time": "2025-04-11T15:10:39.860Z"
   },
   {
    "duration": 31,
    "start_time": "2025-04-11T15:10:45.092Z"
   },
   {
    "duration": 8,
    "start_time": "2025-04-11T15:10:46.170Z"
   },
   {
    "duration": 34,
    "start_time": "2025-04-11T15:10:55.726Z"
   },
   {
    "duration": 8,
    "start_time": "2025-04-11T15:11:49.513Z"
   },
   {
    "duration": 6,
    "start_time": "2025-04-11T15:12:52.669Z"
   },
   {
    "duration": 30,
    "start_time": "2025-04-11T15:13:56.582Z"
   },
   {
    "duration": 8,
    "start_time": "2025-04-11T15:14:17.536Z"
   },
   {
    "duration": 7,
    "start_time": "2025-04-11T15:20:07.333Z"
   },
   {
    "duration": 6,
    "start_time": "2025-04-11T15:21:09.597Z"
   },
   {
    "duration": 4,
    "start_time": "2025-04-11T15:21:11.950Z"
   },
   {
    "duration": 5,
    "start_time": "2025-04-11T15:21:27.148Z"
   },
   {
    "duration": 104,
    "start_time": "2025-04-11T15:21:29.871Z"
   },
   {
    "duration": 18,
    "start_time": "2025-04-11T15:21:48.513Z"
   },
   {
    "duration": 3,
    "start_time": "2025-04-11T15:24:33.466Z"
   },
   {
    "duration": 5,
    "start_time": "2025-04-11T15:24:34.078Z"
   },
   {
    "duration": 15,
    "start_time": "2025-04-11T15:24:37.206Z"
   },
   {
    "duration": 4,
    "start_time": "2025-04-11T15:26:19.508Z"
   },
   {
    "duration": 5,
    "start_time": "2025-04-11T15:26:27.588Z"
   },
   {
    "duration": 5,
    "start_time": "2025-04-11T15:26:29.381Z"
   },
   {
    "duration": 4,
    "start_time": "2025-04-11T15:26:38.755Z"
   },
   {
    "duration": 5,
    "start_time": "2025-04-11T15:26:39.560Z"
   },
   {
    "duration": 16,
    "start_time": "2025-04-11T15:26:45.336Z"
   },
   {
    "duration": 2,
    "start_time": "2025-04-11T15:27:56.464Z"
   },
   {
    "duration": 207,
    "start_time": "2025-04-11T15:27:56.886Z"
   },
   {
    "duration": 12,
    "start_time": "2025-04-11T15:27:57.459Z"
   },
   {
    "duration": 66,
    "start_time": "2025-04-11T15:27:57.956Z"
   },
   {
    "duration": 272,
    "start_time": "2025-04-11T15:27:58.539Z"
   },
   {
    "duration": 3,
    "start_time": "2025-04-11T15:28:00.488Z"
   },
   {
    "duration": 5,
    "start_time": "2025-04-11T15:28:00.997Z"
   },
   {
    "duration": 2,
    "start_time": "2025-04-11T15:28:02.078Z"
   },
   {
    "duration": 3,
    "start_time": "2025-04-11T15:28:02.599Z"
   },
   {
    "duration": 11,
    "start_time": "2025-04-11T15:28:03.185Z"
   },
   {
    "duration": 12,
    "start_time": "2025-04-11T15:28:04.477Z"
   },
   {
    "duration": 10,
    "start_time": "2025-04-11T15:28:06.083Z"
   },
   {
    "duration": 26,
    "start_time": "2025-04-11T15:28:10.069Z"
   },
   {
    "duration": 9,
    "start_time": "2025-04-11T15:28:14.070Z"
   },
   {
    "duration": 110,
    "start_time": "2025-04-11T15:32:09.599Z"
   },
   {
    "duration": 10,
    "start_time": "2025-04-11T15:32:20.302Z"
   },
   {
    "duration": 20,
    "start_time": "2025-04-11T15:33:31.548Z"
   },
   {
    "duration": 2,
    "start_time": "2025-04-11T15:33:45.534Z"
   },
   {
    "duration": 34,
    "start_time": "2025-04-11T15:33:51.237Z"
   },
   {
    "duration": 6,
    "start_time": "2025-04-11T15:34:12.558Z"
   },
   {
    "duration": 27,
    "start_time": "2025-04-11T15:34:56.634Z"
   },
   {
    "duration": 30,
    "start_time": "2025-04-11T15:35:11.255Z"
   },
   {
    "duration": 9,
    "start_time": "2025-04-11T15:35:12.140Z"
   },
   {
    "duration": 8,
    "start_time": "2025-04-11T15:35:20.685Z"
   },
   {
    "duration": 5,
    "start_time": "2025-04-11T15:35:44.765Z"
   },
   {
    "duration": 8,
    "start_time": "2025-04-11T15:36:32.461Z"
   },
   {
    "duration": 16,
    "start_time": "2025-04-11T15:38:12.185Z"
   },
   {
    "duration": 6,
    "start_time": "2025-04-11T15:38:21.161Z"
   },
   {
    "duration": 30,
    "start_time": "2025-04-11T15:41:39.255Z"
   },
   {
    "duration": 6,
    "start_time": "2025-04-11T15:41:40.262Z"
   },
   {
    "duration": 312,
    "start_time": "2025-04-11T15:45:24.058Z"
   },
   {
    "duration": 5,
    "start_time": "2025-04-11T15:45:25.249Z"
   },
   {
    "duration": 26,
    "start_time": "2025-04-11T15:45:26.635Z"
   },
   {
    "duration": 6,
    "start_time": "2025-04-11T15:45:28.207Z"
   },
   {
    "duration": 31,
    "start_time": "2025-04-11T15:45:29.379Z"
   },
   {
    "duration": 36,
    "start_time": "2025-04-11T15:48:01.105Z"
   },
   {
    "duration": 6,
    "start_time": "2025-04-11T15:48:03.377Z"
   },
   {
    "duration": 104,
    "start_time": "2025-04-11T15:49:27.353Z"
   },
   {
    "duration": 2,
    "start_time": "2025-04-11T15:49:38.912Z"
   },
   {
    "duration": 208,
    "start_time": "2025-04-11T15:49:39.352Z"
   },
   {
    "duration": 14,
    "start_time": "2025-04-11T15:49:39.929Z"
   },
   {
    "duration": 61,
    "start_time": "2025-04-11T15:49:40.630Z"
   },
   {
    "duration": 258,
    "start_time": "2025-04-11T15:49:41.191Z"
   },
   {
    "duration": 3,
    "start_time": "2025-04-11T15:49:42.751Z"
   },
   {
    "duration": 5,
    "start_time": "2025-04-11T15:49:43.244Z"
   },
   {
    "duration": 3,
    "start_time": "2025-04-11T15:49:44.081Z"
   },
   {
    "duration": 3,
    "start_time": "2025-04-11T15:49:44.530Z"
   },
   {
    "duration": 9,
    "start_time": "2025-04-11T15:49:44.930Z"
   },
   {
    "duration": 12,
    "start_time": "2025-04-11T15:49:45.539Z"
   },
   {
    "duration": 8,
    "start_time": "2025-04-11T15:49:46.106Z"
   },
   {
    "duration": 26,
    "start_time": "2025-04-11T15:49:46.920Z"
   },
   {
    "duration": 9,
    "start_time": "2025-04-11T15:49:47.553Z"
   },
   {
    "duration": 25,
    "start_time": "2025-04-11T15:49:52.760Z"
   },
   {
    "duration": 5,
    "start_time": "2025-04-11T15:49:57.576Z"
   },
   {
    "duration": 37,
    "start_time": "2025-04-11T15:50:01.859Z"
   },
   {
    "duration": 9,
    "start_time": "2025-04-11T15:50:09.532Z"
   },
   {
    "duration": 5,
    "start_time": "2025-04-11T15:50:42.108Z"
   },
   {
    "duration": 5,
    "start_time": "2025-04-11T15:50:53.851Z"
   },
   {
    "duration": 7,
    "start_time": "2025-04-11T15:54:53.925Z"
   },
   {
    "duration": 5,
    "start_time": "2025-04-11T15:55:11.808Z"
   },
   {
    "duration": 7,
    "start_time": "2025-04-11T15:55:23.131Z"
   },
   {
    "duration": 7,
    "start_time": "2025-04-11T15:55:36.147Z"
   },
   {
    "duration": 4,
    "start_time": "2025-04-11T16:02:25.807Z"
   },
   {
    "duration": 15,
    "start_time": "2025-04-11T16:10:48.402Z"
   },
   {
    "duration": 446,
    "start_time": "2025-04-11T16:11:49.210Z"
   },
   {
    "duration": 3,
    "start_time": "2025-04-11T16:11:55.037Z"
   },
   {
    "duration": 210,
    "start_time": "2025-04-11T16:11:55.530Z"
   },
   {
    "duration": 3,
    "start_time": "2025-04-11T16:12:36.167Z"
   },
   {
    "duration": 76,
    "start_time": "2025-04-11T16:12:36.995Z"
   },
   {
    "duration": 3,
    "start_time": "2025-04-11T16:12:58.761Z"
   },
   {
    "duration": 218,
    "start_time": "2025-04-11T16:12:59.135Z"
   },
   {
    "duration": 12,
    "start_time": "2025-04-11T16:12:59.462Z"
   },
   {
    "duration": 59,
    "start_time": "2025-04-11T16:12:59.825Z"
   },
   {
    "duration": 284,
    "start_time": "2025-04-11T16:13:00.104Z"
   },
   {
    "duration": 3,
    "start_time": "2025-04-11T16:13:01.014Z"
   },
   {
    "duration": 5,
    "start_time": "2025-04-11T16:13:01.326Z"
   },
   {
    "duration": 3,
    "start_time": "2025-04-11T16:13:01.821Z"
   },
   {
    "duration": 3,
    "start_time": "2025-04-11T16:13:02.078Z"
   },
   {
    "duration": 8,
    "start_time": "2025-04-11T16:13:02.313Z"
   },
   {
    "duration": 12,
    "start_time": "2025-04-11T16:13:02.578Z"
   },
   {
    "duration": 7,
    "start_time": "2025-04-11T16:13:02.828Z"
   },
   {
    "duration": 27,
    "start_time": "2025-04-11T16:13:03.078Z"
   },
   {
    "duration": 8,
    "start_time": "2025-04-11T16:13:03.323Z"
   },
   {
    "duration": 28,
    "start_time": "2025-04-11T16:13:03.823Z"
   },
   {
    "duration": 5,
    "start_time": "2025-04-11T16:13:04.046Z"
   },
   {
    "duration": 37,
    "start_time": "2025-04-11T16:13:04.293Z"
   },
   {
    "duration": 6,
    "start_time": "2025-04-11T16:13:04.528Z"
   },
   {
    "duration": 5,
    "start_time": "2025-04-11T16:13:04.895Z"
   },
   {
    "duration": 7,
    "start_time": "2025-04-11T16:13:05.434Z"
   },
   {
    "duration": 5,
    "start_time": "2025-04-11T16:13:05.901Z"
   },
   {
    "duration": 6,
    "start_time": "2025-04-11T16:13:06.265Z"
   },
   {
    "duration": 6,
    "start_time": "2025-04-11T16:13:06.774Z"
   },
   {
    "duration": 3,
    "start_time": "2025-04-11T16:13:07.920Z"
   },
   {
    "duration": 68,
    "start_time": "2025-04-11T16:13:21.457Z"
   },
   {
    "duration": 5,
    "start_time": "2025-04-11T16:17:40.232Z"
   },
   {
    "duration": 4,
    "start_time": "2025-04-11T16:18:04.040Z"
   },
   {
    "duration": 7,
    "start_time": "2025-04-11T16:18:46.628Z"
   },
   {
    "duration": 5,
    "start_time": "2025-04-11T16:18:47.771Z"
   },
   {
    "duration": 5,
    "start_time": "2025-04-11T16:18:48.563Z"
   },
   {
    "duration": 7,
    "start_time": "2025-04-11T16:18:50.125Z"
   },
   {
    "duration": 5,
    "start_time": "2025-04-11T16:18:53.365Z"
   },
   {
    "duration": 57,
    "start_time": "2025-04-11T16:19:07.642Z"
   },
   {
    "duration": 4,
    "start_time": "2025-04-11T16:20:43.314Z"
   },
   {
    "duration": 52,
    "start_time": "2025-04-11T16:21:10.852Z"
   },
   {
    "duration": 750,
    "start_time": "2025-04-11T16:21:18.660Z"
   },
   {
    "duration": 222,
    "start_time": "2025-04-11T16:21:19.412Z"
   },
   {
    "duration": 14,
    "start_time": "2025-04-11T16:21:19.636Z"
   },
   {
    "duration": 64,
    "start_time": "2025-04-11T16:21:20.135Z"
   },
   {
    "duration": 256,
    "start_time": "2025-04-11T16:21:20.761Z"
   },
   {
    "duration": 2,
    "start_time": "2025-04-11T16:21:22.236Z"
   },
   {
    "duration": 6,
    "start_time": "2025-04-11T16:21:22.542Z"
   },
   {
    "duration": 3,
    "start_time": "2025-04-11T16:21:23.087Z"
   },
   {
    "duration": 3,
    "start_time": "2025-04-11T16:21:23.337Z"
   },
   {
    "duration": 9,
    "start_time": "2025-04-11T16:21:23.619Z"
   },
   {
    "duration": 15,
    "start_time": "2025-04-11T16:21:23.880Z"
   },
   {
    "duration": 8,
    "start_time": "2025-04-11T16:21:24.129Z"
   },
   {
    "duration": 24,
    "start_time": "2025-04-11T16:21:24.414Z"
   },
   {
    "duration": 8,
    "start_time": "2025-04-11T16:21:24.666Z"
   },
   {
    "duration": 28,
    "start_time": "2025-04-11T16:21:25.179Z"
   },
   {
    "duration": 5,
    "start_time": "2025-04-11T16:21:25.405Z"
   },
   {
    "duration": 38,
    "start_time": "2025-04-11T16:21:25.643Z"
   },
   {
    "duration": 6,
    "start_time": "2025-04-11T16:21:25.872Z"
   },
   {
    "duration": 4,
    "start_time": "2025-04-11T16:21:26.126Z"
   },
   {
    "duration": 6,
    "start_time": "2025-04-11T16:21:26.353Z"
   },
   {
    "duration": 4,
    "start_time": "2025-04-11T16:21:26.587Z"
   },
   {
    "duration": 6,
    "start_time": "2025-04-11T16:21:26.843Z"
   },
   {
    "duration": 7,
    "start_time": "2025-04-11T16:21:27.080Z"
   },
   {
    "duration": 4,
    "start_time": "2025-04-11T16:21:27.594Z"
   },
   {
    "duration": 6,
    "start_time": "2025-04-11T16:21:28.346Z"
   },
   {
    "duration": 6,
    "start_time": "2025-04-11T16:21:29.358Z"
   },
   {
    "duration": 4,
    "start_time": "2025-04-11T16:21:33.244Z"
   },
   {
    "duration": 4,
    "start_time": "2025-04-11T16:21:33.743Z"
   },
   {
    "duration": 307,
    "start_time": "2025-04-11T16:21:36.828Z"
   },
   {
    "duration": 6,
    "start_time": "2025-04-11T16:25:08.111Z"
   },
   {
    "duration": 5,
    "start_time": "2025-04-11T16:25:21.985Z"
   },
   {
    "duration": 54,
    "start_time": "2025-04-11T16:25:25.353Z"
   },
   {
    "duration": 10,
    "start_time": "2025-04-11T16:25:49.624Z"
   },
   {
    "duration": 7,
    "start_time": "2025-04-11T16:27:29.386Z"
   },
   {
    "duration": 52,
    "start_time": "2025-04-11T16:27:30.820Z"
   },
   {
    "duration": 5,
    "start_time": "2025-04-11T16:28:43.047Z"
   },
   {
    "duration": 13,
    "start_time": "2025-04-11T16:29:17.409Z"
   },
   {
    "duration": 4,
    "start_time": "2025-04-11T16:29:22.731Z"
   },
   {
    "duration": 12,
    "start_time": "2025-04-11T16:35:36.890Z"
   },
   {
    "duration": 5,
    "start_time": "2025-04-11T16:35:52.863Z"
   },
   {
    "duration": 4,
    "start_time": "2025-04-11T16:36:11.828Z"
   },
   {
    "duration": 7,
    "start_time": "2025-04-11T16:36:19.742Z"
   },
   {
    "duration": 55,
    "start_time": "2025-04-11T16:37:15.970Z"
   },
   {
    "duration": 5,
    "start_time": "2025-04-11T16:38:10.834Z"
   },
   {
    "duration": 6,
    "start_time": "2025-04-11T16:38:12.961Z"
   },
   {
    "duration": 126,
    "start_time": "2025-04-11T16:38:14.204Z"
   },
   {
    "duration": 8,
    "start_time": "2025-04-11T16:41:42.996Z"
   },
   {
    "duration": 4,
    "start_time": "2025-04-11T16:41:45.280Z"
   },
   {
    "duration": 4,
    "start_time": "2025-04-11T16:41:45.961Z"
   },
   {
    "duration": 55,
    "start_time": "2025-04-11T16:42:25.345Z"
   },
   {
    "duration": 11,
    "start_time": "2025-04-11T16:42:50.547Z"
   },
   {
    "duration": 5,
    "start_time": "2025-04-11T16:42:52.348Z"
   },
   {
    "duration": 4,
    "start_time": "2025-04-11T16:42:53.002Z"
   },
   {
    "duration": 4,
    "start_time": "2025-04-11T16:42:55.740Z"
   },
   {
    "duration": 11,
    "start_time": "2025-04-11T16:43:19.946Z"
   },
   {
    "duration": 5,
    "start_time": "2025-04-11T16:43:20.715Z"
   },
   {
    "duration": 5,
    "start_time": "2025-04-11T16:43:21.235Z"
   },
   {
    "duration": 4,
    "start_time": "2025-04-11T16:43:21.794Z"
   },
   {
    "duration": 5,
    "start_time": "2025-04-11T16:44:13.543Z"
   },
   {
    "duration": 5,
    "start_time": "2025-04-11T16:44:22.901Z"
   },
   {
    "duration": 4,
    "start_time": "2025-04-11T16:44:48.070Z"
   },
   {
    "duration": 6,
    "start_time": "2025-04-11T16:45:45.429Z"
   },
   {
    "duration": 6,
    "start_time": "2025-04-11T16:45:50.651Z"
   },
   {
    "duration": 4,
    "start_time": "2025-04-11T16:45:51.266Z"
   },
   {
    "duration": 9,
    "start_time": "2025-04-11T16:46:09.790Z"
   },
   {
    "duration": 13,
    "start_time": "2025-04-11T16:46:30.951Z"
   },
   {
    "duration": 55,
    "start_time": "2025-04-11T16:47:27.735Z"
   },
   {
    "duration": 11,
    "start_time": "2025-04-11T16:48:00.936Z"
   },
   {
    "duration": 10,
    "start_time": "2025-04-11T16:48:02.470Z"
   },
   {
    "duration": 4,
    "start_time": "2025-04-11T16:48:03.849Z"
   },
   {
    "duration": 6,
    "start_time": "2025-04-11T16:50:15.216Z"
   },
   {
    "duration": 2,
    "start_time": "2025-04-11T16:51:58.404Z"
   },
   {
    "duration": 216,
    "start_time": "2025-04-11T16:51:58.937Z"
   },
   {
    "duration": 13,
    "start_time": "2025-04-11T16:51:59.881Z"
   },
   {
    "duration": 11,
    "start_time": "2025-04-11T16:52:05.594Z"
   },
   {
    "duration": 69,
    "start_time": "2025-04-11T16:52:06.411Z"
   },
   {
    "duration": 282,
    "start_time": "2025-04-11T16:52:07.373Z"
   },
   {
    "duration": 5,
    "start_time": "2025-04-11T16:52:11.183Z"
   },
   {
    "duration": 5,
    "start_time": "2025-04-11T16:52:43.635Z"
   },
   {
    "duration": 9,
    "start_time": "2025-04-11T16:52:59.751Z"
   },
   {
    "duration": 6,
    "start_time": "2025-04-11T16:54:21.663Z"
   },
   {
    "duration": 4,
    "start_time": "2025-04-11T16:55:02.974Z"
   },
   {
    "duration": 3,
    "start_time": "2025-04-11T17:01:33.545Z"
   },
   {
    "duration": 217,
    "start_time": "2025-04-11T17:01:34.033Z"
   },
   {
    "duration": 13,
    "start_time": "2025-04-11T17:01:35.226Z"
   },
   {
    "duration": 64,
    "start_time": "2025-04-11T17:01:35.924Z"
   },
   {
    "duration": 269,
    "start_time": "2025-04-11T17:01:36.960Z"
   },
   {
    "duration": 3,
    "start_time": "2025-04-11T17:01:43.084Z"
   },
   {
    "duration": 5,
    "start_time": "2025-04-11T17:01:43.690Z"
   },
   {
    "duration": 8,
    "start_time": "2025-04-11T17:01:44.500Z"
   },
   {
    "duration": 5,
    "start_time": "2025-04-11T17:01:55.159Z"
   },
   {
    "duration": 3,
    "start_time": "2025-04-11T17:01:59.661Z"
   },
   {
    "duration": 182,
    "start_time": "2025-04-11T17:21:35.944Z"
   },
   {
    "duration": 981,
    "start_time": "2025-04-11T17:21:43.883Z"
   },
   {
    "duration": 218,
    "start_time": "2025-04-11T17:21:44.866Z"
   },
   {
    "duration": 14,
    "start_time": "2025-04-11T17:21:45.086Z"
   },
   {
    "duration": 71,
    "start_time": "2025-04-11T17:21:45.601Z"
   },
   {
    "duration": 265,
    "start_time": "2025-04-11T17:21:46.845Z"
   },
   {
    "duration": 3,
    "start_time": "2025-04-11T17:21:49.222Z"
   },
   {
    "duration": 6,
    "start_time": "2025-04-11T17:21:49.791Z"
   },
   {
    "duration": 8,
    "start_time": "2025-04-11T17:21:50.414Z"
   },
   {
    "duration": 5,
    "start_time": "2025-04-11T17:21:50.929Z"
   },
   {
    "duration": 4,
    "start_time": "2025-04-11T17:21:51.457Z"
   },
   {
    "duration": 3,
    "start_time": "2025-04-11T17:21:53.025Z"
   },
   {
    "duration": 4,
    "start_time": "2025-04-11T17:21:53.448Z"
   },
   {
    "duration": 9,
    "start_time": "2025-04-11T17:21:53.906Z"
   },
   {
    "duration": 14,
    "start_time": "2025-04-11T17:21:54.280Z"
   },
   {
    "duration": 8,
    "start_time": "2025-04-11T17:21:54.581Z"
   },
   {
    "duration": 27,
    "start_time": "2025-04-11T17:21:54.925Z"
   },
   {
    "duration": 9,
    "start_time": "2025-04-11T17:21:55.197Z"
   },
   {
    "duration": 25,
    "start_time": "2025-04-11T17:21:55.686Z"
   },
   {
    "duration": 5,
    "start_time": "2025-04-11T17:21:55.998Z"
   },
   {
    "duration": 37,
    "start_time": "2025-04-11T17:21:56.272Z"
   },
   {
    "duration": 6,
    "start_time": "2025-04-11T17:21:56.538Z"
   },
   {
    "duration": 5,
    "start_time": "2025-04-11T17:21:56.870Z"
   },
   {
    "duration": 6,
    "start_time": "2025-04-11T17:21:57.209Z"
   },
   {
    "duration": 5,
    "start_time": "2025-04-11T17:21:57.610Z"
   },
   {
    "duration": 8,
    "start_time": "2025-04-11T17:21:58.027Z"
   },
   {
    "duration": 7,
    "start_time": "2025-04-11T17:21:58.793Z"
   },
   {
    "duration": 6545,
    "start_time": "2025-04-11T17:22:35.775Z"
   },
   {
    "duration": 9390,
    "start_time": "2025-04-11T17:23:02.562Z"
   },
   {
    "duration": 9470,
    "start_time": "2025-04-11T17:24:53.931Z"
   },
   {
    "duration": 7404,
    "start_time": "2025-04-11T17:26:25.759Z"
   },
   {
    "duration": 2,
    "start_time": "2025-04-11T17:39:05.259Z"
   },
   {
    "duration": 636,
    "start_time": "2025-04-11T17:39:05.845Z"
   },
   {
    "duration": 21,
    "start_time": "2025-04-11T17:39:22.419Z"
   },
   {
    "duration": 19,
    "start_time": "2025-04-11T17:42:58.146Z"
   },
   {
    "duration": 890,
    "start_time": "2025-04-11T17:43:11.917Z"
   },
   {
    "duration": 15,
    "start_time": "2025-04-11T17:58:46.171Z"
   },
   {
    "duration": 14,
    "start_time": "2025-04-11T17:58:58.851Z"
   },
   {
    "duration": 4,
    "start_time": "2025-04-11T17:59:20.609Z"
   },
   {
    "duration": 1014,
    "start_time": "2025-04-11T18:07:10.912Z"
   },
   {
    "duration": 940,
    "start_time": "2025-04-11T18:07:34.383Z"
   },
   {
    "duration": 648,
    "start_time": "2025-04-11T18:08:29.179Z"
   },
   {
    "duration": 649,
    "start_time": "2025-04-11T18:11:34.101Z"
   },
   {
    "duration": 603,
    "start_time": "2025-04-11T18:11:49.056Z"
   },
   {
    "duration": 708,
    "start_time": "2025-04-11T18:12:00.898Z"
   },
   {
    "duration": 1958,
    "start_time": "2025-04-11T18:19:11.321Z"
   },
   {
    "duration": 2035,
    "start_time": "2025-04-11T18:23:23.342Z"
   },
   {
    "duration": 1896,
    "start_time": "2025-04-11T18:24:07.113Z"
   },
   {
    "duration": 2029,
    "start_time": "2025-04-11T18:25:41.639Z"
   },
   {
    "duration": 1925,
    "start_time": "2025-04-11T18:28:56.866Z"
   },
   {
    "duration": 1965,
    "start_time": "2025-04-11T18:29:08.348Z"
   },
   {
    "duration": 2711,
    "start_time": "2025-04-11T20:24:00.070Z"
   },
   {
    "duration": 259,
    "start_time": "2025-04-11T20:24:02.784Z"
   },
   {
    "duration": 13,
    "start_time": "2025-04-11T20:24:03.044Z"
   },
   {
    "duration": 88,
    "start_time": "2025-04-11T20:24:03.060Z"
   },
   {
    "duration": 333,
    "start_time": "2025-04-11T20:24:03.150Z"
   },
   {
    "duration": 3,
    "start_time": "2025-04-11T20:24:03.486Z"
   },
   {
    "duration": 6,
    "start_time": "2025-04-11T20:24:03.491Z"
   },
   {
    "duration": 10,
    "start_time": "2025-04-11T20:24:03.499Z"
   },
   {
    "duration": 13,
    "start_time": "2025-04-11T20:24:03.511Z"
   },
   {
    "duration": 4,
    "start_time": "2025-04-11T20:24:03.527Z"
   },
   {
    "duration": 3,
    "start_time": "2025-04-11T20:24:04.147Z"
   },
   {
    "duration": 3,
    "start_time": "2025-04-11T20:24:04.367Z"
   },
   {
    "duration": 10,
    "start_time": "2025-04-11T20:24:04.627Z"
   },
   {
    "duration": 14,
    "start_time": "2025-04-11T20:24:04.934Z"
   },
   {
    "duration": 8,
    "start_time": "2025-04-11T20:24:05.409Z"
   },
   {
    "duration": 28,
    "start_time": "2025-04-11T20:24:05.783Z"
   },
   {
    "duration": 8,
    "start_time": "2025-04-11T20:24:06.275Z"
   },
   {
    "duration": 25,
    "start_time": "2025-04-11T20:24:07.046Z"
   },
   {
    "duration": 6,
    "start_time": "2025-04-11T20:24:07.466Z"
   },
   {
    "duration": 36,
    "start_time": "2025-04-11T20:24:07.805Z"
   },
   {
    "duration": 7,
    "start_time": "2025-04-11T20:24:08.179Z"
   },
   {
    "duration": 5,
    "start_time": "2025-04-11T20:24:08.523Z"
   },
   {
    "duration": 8,
    "start_time": "2025-04-11T20:24:08.815Z"
   },
   {
    "duration": 4,
    "start_time": "2025-04-11T20:24:09.162Z"
   },
   {
    "duration": 6,
    "start_time": "2025-04-11T20:24:10.010Z"
   },
   {
    "duration": 7,
    "start_time": "2025-04-11T20:24:10.609Z"
   },
   {
    "duration": 4,
    "start_time": "2025-04-11T20:24:11.589Z"
   },
   {
    "duration": 3,
    "start_time": "2025-04-11T20:24:12.051Z"
   },
   {
    "duration": 2048,
    "start_time": "2025-04-11T20:24:12.421Z"
   },
   {
    "duration": 795,
    "start_time": "2025-04-11T20:24:18.966Z"
   },
   {
    "duration": 442,
    "start_time": "2025-04-11T20:26:29.966Z"
   },
   {
    "duration": 435,
    "start_time": "2025-04-11T20:27:06.476Z"
   },
   {
    "duration": 7,
    "start_time": "2025-04-11T20:27:45.247Z"
   },
   {
    "duration": 1380,
    "start_time": "2025-04-11T20:27:54.858Z"
   },
   {
    "duration": 469,
    "start_time": "2025-04-11T20:28:12.695Z"
   },
   {
    "duration": 493,
    "start_time": "2025-04-11T20:28:37.225Z"
   },
   {
    "duration": 463,
    "start_time": "2025-04-11T20:29:14.650Z"
   },
   {
    "duration": 538,
    "start_time": "2025-04-11T20:29:25.472Z"
   },
   {
    "duration": 414,
    "start_time": "2025-04-11T20:30:11.895Z"
   },
   {
    "duration": 477,
    "start_time": "2025-04-11T20:30:25.954Z"
   },
   {
    "duration": 486,
    "start_time": "2025-04-11T20:30:44.228Z"
   },
   {
    "duration": 431,
    "start_time": "2025-04-11T20:31:02.877Z"
   },
   {
    "duration": 457,
    "start_time": "2025-04-11T20:33:56.826Z"
   },
   {
    "duration": 261,
    "start_time": "2025-04-11T20:34:23.060Z"
   },
   {
    "duration": 731,
    "start_time": "2025-04-11T20:35:48.477Z"
   },
   {
    "duration": 763,
    "start_time": "2025-04-11T20:36:03.438Z"
   },
   {
    "duration": 770,
    "start_time": "2025-04-11T20:36:16.206Z"
   },
   {
    "duration": 785,
    "start_time": "2025-04-11T20:36:41.284Z"
   },
   {
    "duration": 743,
    "start_time": "2025-04-11T20:36:58.072Z"
   },
   {
    "duration": 4,
    "start_time": "2025-04-11T20:37:25.969Z"
   },
   {
    "duration": 672,
    "start_time": "2025-04-11T20:37:48.494Z"
   },
   {
    "duration": 488,
    "start_time": "2025-04-11T20:53:55.925Z"
   },
   {
    "duration": 468,
    "start_time": "2025-04-11T20:53:59.156Z"
   },
   {
    "duration": 2830,
    "start_time": "2025-04-11T21:35:01.132Z"
   },
   {
    "duration": 269,
    "start_time": "2025-04-11T21:35:03.964Z"
   },
   {
    "duration": 12,
    "start_time": "2025-04-11T21:35:04.235Z"
   },
   {
    "duration": 83,
    "start_time": "2025-04-11T21:35:04.249Z"
   },
   {
    "duration": 335,
    "start_time": "2025-04-11T21:35:04.334Z"
   },
   {
    "duration": 4,
    "start_time": "2025-04-11T21:35:05.345Z"
   },
   {
    "duration": 6,
    "start_time": "2025-04-11T21:35:06.035Z"
   },
   {
    "duration": 9,
    "start_time": "2025-04-11T21:35:06.515Z"
   },
   {
    "duration": 4,
    "start_time": "2025-04-11T21:35:06.939Z"
   },
   {
    "duration": 5,
    "start_time": "2025-04-11T21:35:07.238Z"
   },
   {
    "duration": 3,
    "start_time": "2025-04-11T21:35:09.208Z"
   },
   {
    "duration": 3,
    "start_time": "2025-04-11T21:35:09.723Z"
   },
   {
    "duration": 10,
    "start_time": "2025-04-11T21:35:10.144Z"
   },
   {
    "duration": 14,
    "start_time": "2025-04-11T21:35:10.453Z"
   },
   {
    "duration": 8,
    "start_time": "2025-04-11T21:35:10.728Z"
   },
   {
    "duration": 26,
    "start_time": "2025-04-11T21:35:11.002Z"
   },
   {
    "duration": 9,
    "start_time": "2025-04-11T21:35:11.601Z"
   },
   {
    "duration": 28,
    "start_time": "2025-04-11T21:35:12.971Z"
   },
   {
    "duration": 5,
    "start_time": "2025-04-11T21:35:13.610Z"
   },
   {
    "duration": 37,
    "start_time": "2025-04-11T21:35:14.329Z"
   },
   {
    "duration": 4,
    "start_time": "2025-04-11T21:35:19.990Z"
   },
   {
    "duration": 6,
    "start_time": "2025-04-11T21:35:21.272Z"
   },
   {
    "duration": 4,
    "start_time": "2025-04-11T21:35:22.357Z"
   },
   {
    "duration": 6,
    "start_time": "2025-04-11T21:35:28.339Z"
   },
   {
    "duration": 7,
    "start_time": "2025-04-11T21:35:28.591Z"
   },
   {
    "duration": 4,
    "start_time": "2025-04-11T21:35:29.114Z"
   },
   {
    "duration": 2,
    "start_time": "2025-04-11T21:35:29.371Z"
   },
   {
    "duration": 1990,
    "start_time": "2025-04-11T21:35:29.618Z"
   },
   {
    "duration": 8,
    "start_time": "2025-04-11T21:38:45.212Z"
   },
   {
    "duration": 3,
    "start_time": "2025-04-11T21:39:00.806Z"
   },
   {
    "duration": 284,
    "start_time": "2025-04-11T21:39:54.400Z"
   },
   {
    "duration": 13,
    "start_time": "2025-04-11T21:40:16.862Z"
   },
   {
    "duration": 5,
    "start_time": "2025-04-11T21:40:22.361Z"
   },
   {
    "duration": 443,
    "start_time": "2025-04-11T21:40:23.099Z"
   },
   {
    "duration": 6,
    "start_time": "2025-04-11T21:40:36.559Z"
   },
   {
    "duration": 493,
    "start_time": "2025-04-11T21:40:37.462Z"
   },
   {
    "duration": 3,
    "start_time": "2025-04-11T21:40:46.979Z"
   },
   {
    "duration": 470,
    "start_time": "2025-04-11T21:40:48.029Z"
   },
   {
    "duration": 3,
    "start_time": "2025-04-11T21:46:32.752Z"
   },
   {
    "duration": 5,
    "start_time": "2025-04-11T21:48:30.444Z"
   },
   {
    "duration": 4,
    "start_time": "2025-04-11T21:49:00.329Z"
   },
   {
    "duration": 8,
    "start_time": "2025-04-11T21:55:39.722Z"
   },
   {
    "duration": 6,
    "start_time": "2025-04-11T21:56:04.350Z"
   },
   {
    "duration": 415,
    "start_time": "2025-04-11T22:02:43.200Z"
   },
   {
    "duration": 3,
    "start_time": "2025-04-11T22:04:06.170Z"
   },
   {
    "duration": 3,
    "start_time": "2025-04-11T22:04:17.293Z"
   },
   {
    "duration": 424,
    "start_time": "2025-04-11T22:04:18.991Z"
   },
   {
    "duration": 3,
    "start_time": "2025-04-11T22:04:33.706Z"
   },
   {
    "duration": 485,
    "start_time": "2025-04-11T22:04:35.448Z"
   },
   {
    "duration": 486,
    "start_time": "2025-04-11T22:04:47.328Z"
   },
   {
    "duration": 4,
    "start_time": "2025-04-11T22:04:59.360Z"
   },
   {
    "duration": 492,
    "start_time": "2025-04-11T22:04:59.829Z"
   },
   {
    "duration": 4,
    "start_time": "2025-04-11T22:05:05.846Z"
   },
   {
    "duration": 419,
    "start_time": "2025-04-11T22:05:06.505Z"
   },
   {
    "duration": 3,
    "start_time": "2025-04-11T22:05:17.127Z"
   },
   {
    "duration": 532,
    "start_time": "2025-04-11T22:05:17.604Z"
   },
   {
    "duration": 492,
    "start_time": "2025-04-11T22:05:20.427Z"
   },
   {
    "duration": 3,
    "start_time": "2025-04-11T22:06:51.435Z"
   },
   {
    "duration": 419,
    "start_time": "2025-04-11T22:06:51.999Z"
   },
   {
    "duration": 4,
    "start_time": "2025-04-11T22:07:02.582Z"
   },
   {
    "duration": 422,
    "start_time": "2025-04-11T22:07:03.593Z"
   },
   {
    "duration": 445,
    "start_time": "2025-04-11T22:07:06.175Z"
   },
   {
    "duration": 14,
    "start_time": "2025-04-11T22:12:44.593Z"
   },
   {
    "duration": 2654,
    "start_time": "2025-04-11T23:20:07.918Z"
   },
   {
    "duration": 257,
    "start_time": "2025-04-11T23:20:10.575Z"
   },
   {
    "duration": 14,
    "start_time": "2025-04-11T23:20:10.834Z"
   },
   {
    "duration": 97,
    "start_time": "2025-04-11T23:20:10.850Z"
   },
   {
    "duration": 327,
    "start_time": "2025-04-11T23:20:10.949Z"
   },
   {
    "duration": 13,
    "start_time": "2025-04-11T23:20:11.278Z"
   },
   {
    "duration": 3,
    "start_time": "2025-04-11T23:20:11.293Z"
   },
   {
    "duration": 5,
    "start_time": "2025-04-11T23:20:11.298Z"
   },
   {
    "duration": 9,
    "start_time": "2025-04-11T23:20:11.395Z"
   },
   {
    "duration": 5,
    "start_time": "2025-04-11T23:20:11.673Z"
   },
   {
    "duration": 5,
    "start_time": "2025-04-11T23:20:11.943Z"
   },
   {
    "duration": 4,
    "start_time": "2025-04-11T23:20:13.145Z"
   },
   {
    "duration": 4,
    "start_time": "2025-04-11T23:20:13.413Z"
   },
   {
    "duration": 10,
    "start_time": "2025-04-11T23:20:13.658Z"
   },
   {
    "duration": 13,
    "start_time": "2025-04-11T23:20:14.778Z"
   },
   {
    "duration": 8,
    "start_time": "2025-04-11T23:20:15.029Z"
   },
   {
    "duration": 24,
    "start_time": "2025-04-11T23:20:15.276Z"
   },
   {
    "duration": 8,
    "start_time": "2025-04-11T23:20:15.528Z"
   },
   {
    "duration": 23,
    "start_time": "2025-04-11T23:20:15.983Z"
   },
   {
    "duration": 6,
    "start_time": "2025-04-11T23:20:16.452Z"
   },
   {
    "duration": 37,
    "start_time": "2025-04-11T23:20:16.773Z"
   },
   {
    "duration": 6,
    "start_time": "2025-04-11T23:20:17.061Z"
   },
   {
    "duration": 5,
    "start_time": "2025-04-11T23:20:17.311Z"
   },
   {
    "duration": 7,
    "start_time": "2025-04-11T23:20:19.071Z"
   },
   {
    "duration": 3,
    "start_time": "2025-04-11T23:20:19.364Z"
   },
   {
    "duration": 6,
    "start_time": "2025-04-11T23:20:19.580Z"
   },
   {
    "duration": 7,
    "start_time": "2025-04-11T23:20:19.839Z"
   },
   {
    "duration": 4,
    "start_time": "2025-04-11T23:20:20.557Z"
   },
   {
    "duration": 2,
    "start_time": "2025-04-11T23:20:20.886Z"
   },
   {
    "duration": 2062,
    "start_time": "2025-04-11T23:20:21.451Z"
   },
   {
    "duration": 3,
    "start_time": "2025-04-11T23:20:23.853Z"
   },
   {
    "duration": 538,
    "start_time": "2025-04-11T23:20:25.094Z"
   },
   {
    "duration": 3,
    "start_time": "2025-04-11T23:33:29.799Z"
   },
   {
    "duration": 663,
    "start_time": "2025-04-11T23:33:30.429Z"
   },
   {
    "duration": 4,
    "start_time": "2025-04-11T23:37:03.644Z"
   },
   {
    "duration": 42,
    "start_time": "2025-04-11T23:37:05.378Z"
   },
   {
    "duration": 6,
    "start_time": "2025-04-11T23:44:45.441Z"
   },
   {
    "duration": 575,
    "start_time": "2025-04-11T23:45:25.890Z"
   },
   {
    "duration": 7,
    "start_time": "2025-04-11T23:46:27.861Z"
   },
   {
    "duration": 9,
    "start_time": "2025-04-11T23:49:25.245Z"
   },
   {
    "duration": 647,
    "start_time": "2025-04-11T23:49:25.865Z"
   },
   {
    "duration": 9,
    "start_time": "2025-04-11T23:49:35.351Z"
   },
   {
    "duration": 9,
    "start_time": "2025-04-11T23:50:21.437Z"
   },
   {
    "duration": 15,
    "start_time": "2025-04-11T23:50:33.042Z"
   },
   {
    "duration": 420,
    "start_time": "2025-04-11T23:51:20.867Z"
   },
   {
    "duration": 2647,
    "start_time": "2025-04-12T09:15:31.384Z"
   },
   {
    "duration": 257,
    "start_time": "2025-04-12T09:15:34.034Z"
   },
   {
    "duration": 13,
    "start_time": "2025-04-12T09:15:34.292Z"
   },
   {
    "duration": 88,
    "start_time": "2025-04-12T09:15:34.308Z"
   },
   {
    "duration": 333,
    "start_time": "2025-04-12T09:15:34.398Z"
   },
   {
    "duration": 13,
    "start_time": "2025-04-12T09:15:36.399Z"
   },
   {
    "duration": 2,
    "start_time": "2025-04-12T09:15:37.002Z"
   },
   {
    "duration": 5,
    "start_time": "2025-04-12T09:15:37.511Z"
   },
   {
    "duration": 8,
    "start_time": "2025-04-12T09:15:38.147Z"
   },
   {
    "duration": 5,
    "start_time": "2025-04-12T09:15:38.660Z"
   },
   {
    "duration": 4,
    "start_time": "2025-04-12T09:15:39.382Z"
   },
   {
    "duration": 3,
    "start_time": "2025-04-12T09:15:41.644Z"
   },
   {
    "duration": 3,
    "start_time": "2025-04-12T09:15:42.269Z"
   },
   {
    "duration": 10,
    "start_time": "2025-04-12T09:15:42.909Z"
   },
   {
    "duration": 14,
    "start_time": "2025-04-12T09:15:43.605Z"
   },
   {
    "duration": 8,
    "start_time": "2025-04-12T09:15:44.474Z"
   },
   {
    "duration": 25,
    "start_time": "2025-04-12T09:15:45.132Z"
   },
   {
    "duration": 7,
    "start_time": "2025-04-12T09:15:45.798Z"
   },
   {
    "duration": 30,
    "start_time": "2025-04-12T09:15:47.203Z"
   },
   {
    "duration": 5,
    "start_time": "2025-04-12T09:15:48.266Z"
   },
   {
    "duration": 37,
    "start_time": "2025-04-12T09:15:49.108Z"
   },
   {
    "duration": 6,
    "start_time": "2025-04-12T09:15:49.816Z"
   },
   {
    "duration": 5,
    "start_time": "2025-04-12T09:15:50.522Z"
   },
   {
    "duration": 6,
    "start_time": "2025-04-12T09:15:51.619Z"
   },
   {
    "duration": 3,
    "start_time": "2025-04-12T09:15:52.270Z"
   },
   {
    "duration": 5,
    "start_time": "2025-04-12T09:15:53.040Z"
   },
   {
    "duration": 7,
    "start_time": "2025-04-12T09:15:53.715Z"
   },
   {
    "duration": 5,
    "start_time": "2025-04-12T09:15:55.424Z"
   },
   {
    "duration": 2,
    "start_time": "2025-04-12T09:15:56.215Z"
   },
   {
    "duration": 2142,
    "start_time": "2025-04-12T09:15:57.175Z"
   },
   {
    "duration": 3,
    "start_time": "2025-04-12T09:16:02.485Z"
   },
   {
    "duration": 462,
    "start_time": "2025-04-12T09:16:03.412Z"
   },
   {
    "duration": 453,
    "start_time": "2025-04-12T09:16:04.213Z"
   },
   {
    "duration": 9,
    "start_time": "2025-04-12T09:16:14.134Z"
   },
   {
    "duration": 664,
    "start_time": "2025-04-12T09:16:14.661Z"
   },
   {
    "duration": 8,
    "start_time": "2025-04-12T09:23:24.344Z"
   },
   {
    "duration": 692,
    "start_time": "2025-04-12T09:23:25.638Z"
   },
   {
    "duration": 2,
    "start_time": "2025-04-12T09:31:14.183Z"
   },
   {
    "duration": 8,
    "start_time": "2025-04-12T09:31:15.184Z"
   },
   {
    "duration": 267,
    "start_time": "2025-04-12T09:31:24.821Z"
   },
   {
    "duration": 3,
    "start_time": "2025-04-12T09:32:01.396Z"
   },
   {
    "duration": 17,
    "start_time": "2025-04-12T09:32:01.975Z"
   },
   {
    "duration": 1075,
    "start_time": "2025-04-12T09:32:03.513Z"
   },
   {
    "duration": 27,
    "start_time": "2025-04-12T09:37:56.168Z"
   },
   {
    "duration": 31,
    "start_time": "2025-04-12T09:37:57.004Z"
   },
   {
    "duration": 77,
    "start_time": "2025-04-12T09:38:49.622Z"
   },
   {
    "duration": 14,
    "start_time": "2025-04-12T09:39:55.928Z"
   },
   {
    "duration": 33,
    "start_time": "2025-04-12T09:40:50.499Z"
   },
   {
    "duration": 29,
    "start_time": "2025-04-12T09:41:04.783Z"
   },
   {
    "duration": 10,
    "start_time": "2025-04-12T09:42:17.057Z"
   },
   {
    "duration": 31,
    "start_time": "2025-04-12T09:42:17.672Z"
   },
   {
    "duration": 9,
    "start_time": "2025-04-12T09:42:18.206Z"
   },
   {
    "duration": 1107,
    "start_time": "2025-04-12T09:42:18.841Z"
   },
   {
    "duration": 39,
    "start_time": "2025-04-12T09:43:17.814Z"
   },
   {
    "duration": 46,
    "start_time": "2025-04-12T09:43:26.305Z"
   },
   {
    "duration": 28,
    "start_time": "2025-04-12T09:43:48.416Z"
   },
   {
    "duration": 696,
    "start_time": "2025-04-12T09:45:22.292Z"
   },
   {
    "duration": 429,
    "start_time": "2025-04-12T09:47:39.350Z"
   },
   {
    "duration": 3,
    "start_time": "2025-04-12T09:55:40.479Z"
   },
   {
    "duration": 4,
    "start_time": "2025-04-12T09:55:48.167Z"
   },
   {
    "duration": 3,
    "start_time": "2025-04-12T09:56:03.421Z"
   },
   {
    "duration": 5,
    "start_time": "2025-04-12T09:57:24.227Z"
   },
   {
    "duration": 5,
    "start_time": "2025-04-12T09:58:17.339Z"
   },
   {
    "duration": 3,
    "start_time": "2025-04-12T10:08:35.374Z"
   },
   {
    "duration": 2,
    "start_time": "2025-04-12T10:10:49.390Z"
   },
   {
    "duration": 6,
    "start_time": "2025-04-12T10:10:57.467Z"
   },
   {
    "duration": 14,
    "start_time": "2025-04-12T10:11:08.207Z"
   },
   {
    "duration": 20,
    "start_time": "2025-04-12T10:11:39.525Z"
   },
   {
    "duration": 9,
    "start_time": "2025-04-12T10:11:57.621Z"
   },
   {
    "duration": 4,
    "start_time": "2025-04-12T10:21:29.725Z"
   },
   {
    "duration": 3,
    "start_time": "2025-04-12T10:22:11.143Z"
   },
   {
    "duration": 5,
    "start_time": "2025-04-12T10:22:36.266Z"
   },
   {
    "duration": 3,
    "start_time": "2025-04-12T10:23:45.004Z"
   },
   {
    "duration": 4,
    "start_time": "2025-04-12T10:23:51.480Z"
   },
   {
    "duration": 5,
    "start_time": "2025-04-12T10:24:33.781Z"
   },
   {
    "duration": 3,
    "start_time": "2025-04-12T10:24:53.387Z"
   },
   {
    "duration": 3,
    "start_time": "2025-04-12T10:25:06.314Z"
   },
   {
    "duration": 3,
    "start_time": "2025-04-12T10:52:57.611Z"
   },
   {
    "duration": 31,
    "start_time": "2025-04-12T10:54:28.375Z"
   },
   {
    "duration": 26,
    "start_time": "2025-04-12T10:56:25.237Z"
   },
   {
    "duration": 3,
    "start_time": "2025-04-12T11:00:29.576Z"
   },
   {
    "duration": 225,
    "start_time": "2025-04-12T11:00:30.022Z"
   },
   {
    "duration": 13,
    "start_time": "2025-04-12T11:00:30.604Z"
   },
   {
    "duration": 69,
    "start_time": "2025-04-12T11:00:31.022Z"
   },
   {
    "duration": 290,
    "start_time": "2025-04-12T11:00:31.431Z"
   },
   {
    "duration": 13,
    "start_time": "2025-04-12T11:00:32.114Z"
   },
   {
    "duration": 3,
    "start_time": "2025-04-12T11:00:32.401Z"
   },
   {
    "duration": 2,
    "start_time": "2025-04-12T11:02:12.670Z"
   },
   {
    "duration": 5727,
    "start_time": "2025-04-12T11:02:18.996Z"
   },
   {
    "duration": 4,
    "start_time": "2025-04-12T11:09:30.468Z"
   },
   {
    "duration": 9,
    "start_time": "2025-04-12T11:11:37.937Z"
   },
   {
    "duration": 124,
    "start_time": "2025-04-12T11:12:39.147Z"
   },
   {
    "duration": 6,
    "start_time": "2025-04-12T11:13:11.208Z"
   },
   {
    "duration": 7,
    "start_time": "2025-04-12T11:13:18.726Z"
   },
   {
    "duration": 3,
    "start_time": "2025-04-12T11:13:55.796Z"
   },
   {
    "duration": 4,
    "start_time": "2025-04-12T11:14:55.370Z"
   },
   {
    "duration": 4,
    "start_time": "2025-04-12T11:15:01.285Z"
   },
   {
    "duration": 3,
    "start_time": "2025-04-12T11:15:39.423Z"
   },
   {
    "duration": 7,
    "start_time": "2025-04-12T11:17:28.035Z"
   },
   {
    "duration": 3983,
    "start_time": "2025-04-12T11:18:15.322Z"
   },
   {
    "duration": 4,
    "start_time": "2025-04-12T11:19:09.283Z"
   },
   {
    "duration": 13,
    "start_time": "2025-04-12T11:24:39.603Z"
   },
   {
    "duration": 3,
    "start_time": "2025-04-12T11:24:58.087Z"
   },
   {
    "duration": 3,
    "start_time": "2025-04-12T11:27:12.265Z"
   },
   {
    "duration": 4,
    "start_time": "2025-04-12T11:29:06.674Z"
   },
   {
    "duration": 137,
    "start_time": "2025-04-12T11:29:09.115Z"
   },
   {
    "duration": 3,
    "start_time": "2025-04-12T11:29:22.853Z"
   },
   {
    "duration": 216,
    "start_time": "2025-04-12T11:29:23.403Z"
   },
   {
    "duration": 12,
    "start_time": "2025-04-12T11:29:24.114Z"
   },
   {
    "duration": 67,
    "start_time": "2025-04-12T11:29:25.160Z"
   },
   {
    "duration": 288,
    "start_time": "2025-04-12T11:29:25.968Z"
   },
   {
    "duration": 25,
    "start_time": "2025-04-12T11:29:36.255Z"
   },
   {
    "duration": 6,
    "start_time": "2025-04-12T11:29:37.358Z"
   },
   {
    "duration": 34,
    "start_time": "2025-04-12T11:29:37.977Z"
   },
   {
    "duration": 7,
    "start_time": "2025-04-12T11:29:38.550Z"
   },
   {
    "duration": 5,
    "start_time": "2025-04-12T11:29:38.965Z"
   },
   {
    "duration": 8,
    "start_time": "2025-04-12T11:29:40.328Z"
   },
   {
    "duration": 3,
    "start_time": "2025-04-12T11:29:40.924Z"
   },
   {
    "duration": 7,
    "start_time": "2025-04-12T11:29:41.229Z"
   },
   {
    "duration": 7,
    "start_time": "2025-04-12T11:29:41.978Z"
   },
   {
    "duration": 4,
    "start_time": "2025-04-12T11:29:44.219Z"
   },
   {
    "duration": 12,
    "start_time": "2025-04-12T11:29:44.602Z"
   },
   {
    "duration": 3,
    "start_time": "2025-04-12T11:29:44.910Z"
   },
   {
    "duration": 1873,
    "start_time": "2025-04-12T11:29:45.755Z"
   },
   {
    "duration": 4,
    "start_time": "2025-04-12T11:29:47.857Z"
   },
   {
    "duration": 477,
    "start_time": "2025-04-12T11:29:48.195Z"
   },
   {
    "duration": 501,
    "start_time": "2025-04-12T11:29:48.675Z"
   },
   {
    "duration": 8,
    "start_time": "2025-04-12T11:29:49.722Z"
   },
   {
    "duration": 653,
    "start_time": "2025-04-12T11:29:50.567Z"
   },
   {
    "duration": 2,
    "start_time": "2025-04-12T11:29:52.342Z"
   },
   {
    "duration": 15,
    "start_time": "2025-04-12T11:29:52.614Z"
   },
   {
    "duration": 968,
    "start_time": "2025-04-12T11:29:52.874Z"
   },
   {
    "duration": 47,
    "start_time": "2025-04-12T11:29:53.844Z"
   },
   {
    "duration": 51,
    "start_time": "2025-04-12T11:29:54.942Z"
   },
   {
    "duration": 24,
    "start_time": "2025-04-12T11:29:55.734Z"
   },
   {
    "duration": 1128,
    "start_time": "2025-04-12T11:29:56.624Z"
   },
   {
    "duration": 2,
    "start_time": "2025-04-12T11:30:02.493Z"
   },
   {
    "duration": 10,
    "start_time": "2025-04-12T11:30:03.250Z"
   },
   {
    "duration": 9,
    "start_time": "2025-04-12T11:30:05.633Z"
   },
   {
    "duration": 4,
    "start_time": "2025-04-12T11:30:07.403Z"
   },
   {
    "duration": 3,
    "start_time": "2025-04-12T11:48:34.555Z"
   },
   {
    "duration": 277,
    "start_time": "2025-04-12T11:48:35.050Z"
   },
   {
    "duration": 36,
    "start_time": "2025-04-12T11:48:38.758Z"
   },
   {
    "duration": 7,
    "start_time": "2025-04-12T11:49:16.491Z"
   },
   {
    "duration": 2,
    "start_time": "2025-04-12T11:49:17.087Z"
   },
   {
    "duration": 3982,
    "start_time": "2025-04-12T11:49:17.606Z"
   },
   {
    "duration": 3,
    "start_time": "2025-04-12T11:49:21.590Z"
   },
   {
    "duration": 258,
    "start_time": "2025-04-12T11:49:21.595Z"
   },
   {
    "duration": 867,
    "start_time": "2025-04-12T11:55:26.348Z"
   },
   {
    "duration": 841,
    "start_time": "2025-04-12T11:55:46.840Z"
   },
   {
    "duration": 844,
    "start_time": "2025-04-12T11:55:53.809Z"
   },
   {
    "duration": 103,
    "start_time": "2025-04-12T11:57:28.595Z"
   },
   {
    "duration": 4,
    "start_time": "2025-04-12T11:57:55.262Z"
   },
   {
    "duration": 20,
    "start_time": "2025-04-12T11:58:46.512Z"
   },
   {
    "duration": 4,
    "start_time": "2025-04-12T11:59:25.985Z"
   },
   {
    "duration": 21,
    "start_time": "2025-04-12T11:59:29.144Z"
   },
   {
    "duration": 3,
    "start_time": "2025-04-12T11:59:47.810Z"
   },
   {
    "duration": 4,
    "start_time": "2025-04-12T11:59:48.298Z"
   },
   {
    "duration": 7,
    "start_time": "2025-04-12T11:59:48.951Z"
   },
   {
    "duration": 2,
    "start_time": "2025-04-12T11:59:49.315Z"
   },
   {
    "duration": 862,
    "start_time": "2025-04-12T11:59:49.597Z"
   },
   {
    "duration": 6,
    "start_time": "2025-04-12T11:59:50.461Z"
   },
   {
    "duration": 20,
    "start_time": "2025-04-12T11:59:50.469Z"
   },
   {
    "duration": 5,
    "start_time": "2025-04-12T11:59:50.728Z"
   },
   {
    "duration": 4,
    "start_time": "2025-04-12T12:00:31.867Z"
   },
   {
    "duration": 7,
    "start_time": "2025-04-12T12:01:46.865Z"
   },
   {
    "duration": 3,
    "start_time": "2025-04-12T12:01:48.355Z"
   },
   {
    "duration": 878,
    "start_time": "2025-04-12T12:01:49.615Z"
   },
   {
    "duration": 6,
    "start_time": "2025-04-12T12:01:50.729Z"
   },
   {
    "duration": 4,
    "start_time": "2025-04-12T12:01:51.600Z"
   },
   {
    "duration": 5,
    "start_time": "2025-04-12T12:01:52.644Z"
   },
   {
    "duration": 4,
    "start_time": "2025-04-12T12:01:53.654Z"
   },
   {
    "duration": 3,
    "start_time": "2025-04-12T12:04:54.086Z"
   },
   {
    "duration": 3,
    "start_time": "2025-04-12T12:04:54.771Z"
   },
   {
    "duration": 7,
    "start_time": "2025-04-12T12:04:55.995Z"
   },
   {
    "duration": 2,
    "start_time": "2025-04-12T12:04:56.344Z"
   },
   {
    "duration": 846,
    "start_time": "2025-04-12T12:04:57.026Z"
   },
   {
    "duration": 3,
    "start_time": "2025-04-12T12:04:57.874Z"
   },
   {
    "duration": 4,
    "start_time": "2025-04-12T12:04:58.458Z"
   },
   {
    "duration": 4,
    "start_time": "2025-04-12T12:05:00.259Z"
   },
   {
    "duration": 4,
    "start_time": "2025-04-12T12:05:02.173Z"
   },
   {
    "duration": 5,
    "start_time": "2025-04-12T12:05:09.504Z"
   },
   {
    "duration": 3,
    "start_time": "2025-04-12T12:05:09.937Z"
   },
   {
    "duration": 7,
    "start_time": "2025-04-12T12:05:10.273Z"
   },
   {
    "duration": 2,
    "start_time": "2025-04-12T12:05:10.662Z"
   },
   {
    "duration": 841,
    "start_time": "2025-04-12T12:05:11.013Z"
   },
   {
    "duration": 4,
    "start_time": "2025-04-12T12:05:11.856Z"
   },
   {
    "duration": 4,
    "start_time": "2025-04-12T12:05:12.104Z"
   },
   {
    "duration": 5,
    "start_time": "2025-04-12T12:05:12.817Z"
   },
   {
    "duration": 4,
    "start_time": "2025-04-12T12:08:46.977Z"
   },
   {
    "duration": 3,
    "start_time": "2025-04-12T12:08:47.568Z"
   },
   {
    "duration": 7,
    "start_time": "2025-04-12T12:08:48.032Z"
   },
   {
    "duration": 3,
    "start_time": "2025-04-12T12:08:48.482Z"
   },
   {
    "duration": 836,
    "start_time": "2025-04-12T12:08:48.911Z"
   },
   {
    "duration": 4,
    "start_time": "2025-04-12T12:08:49.749Z"
   },
   {
    "duration": 4,
    "start_time": "2025-04-12T12:08:51.152Z"
   },
   {
    "duration": 4,
    "start_time": "2025-04-12T12:08:52.568Z"
   },
   {
    "duration": 4,
    "start_time": "2025-04-12T12:08:54.575Z"
   },
   {
    "duration": 4,
    "start_time": "2025-04-12T12:09:05.636Z"
   },
   {
    "duration": 4,
    "start_time": "2025-04-12T12:09:12.869Z"
   },
   {
    "duration": 3,
    "start_time": "2025-04-12T12:09:47.699Z"
   },
   {
    "duration": 4,
    "start_time": "2025-04-12T12:09:52.503Z"
   },
   {
    "duration": 3,
    "start_time": "2025-04-12T12:10:18.488Z"
   },
   {
    "duration": 4,
    "start_time": "2025-04-12T12:10:22.335Z"
   },
   {
    "duration": 15,
    "start_time": "2025-04-12T12:15:09.544Z"
   },
   {
    "duration": 8,
    "start_time": "2025-04-12T12:15:22.917Z"
   },
   {
    "duration": 21,
    "start_time": "2025-04-12T12:15:51.694Z"
   },
   {
    "duration": 23,
    "start_time": "2025-04-12T12:16:05.569Z"
   },
   {
    "duration": 4,
    "start_time": "2025-04-12T12:16:13.260Z"
   },
   {
    "duration": 5,
    "start_time": "2025-04-12T12:16:25.305Z"
   },
   {
    "duration": 2720,
    "start_time": "2025-04-12T14:53:09.488Z"
   },
   {
    "duration": 273,
    "start_time": "2025-04-12T14:53:12.210Z"
   },
   {
    "duration": 13,
    "start_time": "2025-04-12T14:53:12.485Z"
   },
   {
    "duration": 93,
    "start_time": "2025-04-12T14:53:12.500Z"
   },
   {
    "duration": 311,
    "start_time": "2025-04-12T14:53:12.595Z"
   },
   {
    "duration": 13,
    "start_time": "2025-04-12T14:53:12.909Z"
   },
   {
    "duration": 2,
    "start_time": "2025-04-12T14:53:12.924Z"
   },
   {
    "duration": 17,
    "start_time": "2025-04-12T14:53:12.928Z"
   },
   {
    "duration": 7,
    "start_time": "2025-04-12T14:53:12.947Z"
   },
   {
    "duration": 4,
    "start_time": "2025-04-12T14:53:12.959Z"
   },
   {
    "duration": 4,
    "start_time": "2025-04-12T14:53:12.965Z"
   },
   {
    "duration": 3,
    "start_time": "2025-04-12T14:53:13.616Z"
   },
   {
    "duration": 3,
    "start_time": "2025-04-12T14:53:13.880Z"
   },
   {
    "duration": 9,
    "start_time": "2025-04-12T14:53:14.094Z"
   },
   {
    "duration": 14,
    "start_time": "2025-04-12T14:53:14.366Z"
   },
   {
    "duration": 8,
    "start_time": "2025-04-12T14:53:14.654Z"
   },
   {
    "duration": 27,
    "start_time": "2025-04-12T14:53:14.883Z"
   },
   {
    "duration": 11,
    "start_time": "2025-04-12T14:53:15.104Z"
   },
   {
    "duration": 30,
    "start_time": "2025-04-12T14:53:15.586Z"
   },
   {
    "duration": 5,
    "start_time": "2025-04-12T14:53:15.851Z"
   },
   {
    "duration": 104,
    "start_time": "2025-04-12T14:53:16.139Z"
   },
   {
    "duration": 8,
    "start_time": "2025-04-12T14:53:16.352Z"
   },
   {
    "duration": 4,
    "start_time": "2025-04-12T14:53:16.699Z"
   },
   {
    "duration": 13,
    "start_time": "2025-04-12T14:53:17.021Z"
   },
   {
    "duration": 4,
    "start_time": "2025-04-12T14:53:17.305Z"
   },
   {
    "duration": 7,
    "start_time": "2025-04-12T14:53:17.567Z"
   },
   {
    "duration": 7,
    "start_time": "2025-04-12T14:53:17.801Z"
   },
   {
    "duration": 4,
    "start_time": "2025-04-12T14:53:18.392Z"
   },
   {
    "duration": 13,
    "start_time": "2025-04-12T14:53:18.820Z"
   },
   {
    "duration": 2,
    "start_time": "2025-04-12T14:53:19.111Z"
   },
   {
    "duration": 2020,
    "start_time": "2025-04-12T14:53:19.401Z"
   },
   {
    "duration": 4,
    "start_time": "2025-04-12T14:53:21.423Z"
   },
   {
    "duration": 491,
    "start_time": "2025-04-12T14:53:21.442Z"
   },
   {
    "duration": 491,
    "start_time": "2025-04-12T14:53:21.942Z"
   },
   {
    "duration": 8,
    "start_time": "2025-04-12T14:53:22.442Z"
   },
   {
    "duration": 722,
    "start_time": "2025-04-12T14:53:22.452Z"
   },
   {
    "duration": 2,
    "start_time": "2025-04-12T14:53:23.177Z"
   },
   {
    "duration": 18,
    "start_time": "2025-04-12T14:53:23.181Z"
   },
   {
    "duration": 1148,
    "start_time": "2025-04-12T14:53:23.201Z"
   },
   {
    "duration": 12,
    "start_time": "2025-04-12T14:53:24.351Z"
   },
   {
    "duration": 55,
    "start_time": "2025-04-12T14:53:24.367Z"
   },
   {
    "duration": 42,
    "start_time": "2025-04-12T14:53:24.424Z"
   },
   {
    "duration": 1066,
    "start_time": "2025-04-12T14:53:25.343Z"
   },
   {
    "duration": 2,
    "start_time": "2025-04-12T14:53:26.412Z"
   },
   {
    "duration": 9,
    "start_time": "2025-04-12T14:53:26.544Z"
   },
   {
    "duration": 7,
    "start_time": "2025-04-12T14:53:27.048Z"
   },
   {
    "duration": 4,
    "start_time": "2025-04-12T14:53:27.464Z"
   },
   {
    "duration": 4,
    "start_time": "2025-04-12T14:53:28.120Z"
   },
   {
    "duration": 3,
    "start_time": "2025-04-12T14:53:42.976Z"
   },
   {
    "duration": 9,
    "start_time": "2025-04-12T14:53:45.171Z"
   },
   {
    "duration": 2,
    "start_time": "2025-04-12T14:53:45.629Z"
   },
   {
    "duration": 825,
    "start_time": "2025-04-12T14:53:46.127Z"
   },
   {
    "duration": 4,
    "start_time": "2025-04-12T14:53:46.954Z"
   },
   {
    "duration": 4,
    "start_time": "2025-04-12T14:53:47.083Z"
   },
   {
    "duration": 4,
    "start_time": "2025-04-12T14:53:50.539Z"
   },
   {
    "duration": 5,
    "start_time": "2025-04-12T14:53:51.170Z"
   },
   {
    "duration": 63,
    "start_time": "2025-04-12T14:53:53.482Z"
   },
   {
    "duration": 4,
    "start_time": "2025-04-12T14:53:54.233Z"
   },
   {
    "duration": 6,
    "start_time": "2025-04-12T14:53:54.902Z"
   },
   {
    "duration": 4,
    "start_time": "2025-04-12T15:02:08.182Z"
   },
   {
    "duration": 931,
    "start_time": "2025-04-12T15:02:38.261Z"
   },
   {
    "duration": 3,
    "start_time": "2025-04-12T15:08:42.543Z"
   },
   {
    "duration": 4,
    "start_time": "2025-04-12T15:08:50.290Z"
   },
   {
    "duration": 5,
    "start_time": "2025-04-12T15:08:51.031Z"
   },
   {
    "duration": 4,
    "start_time": "2025-04-12T15:09:06.624Z"
   },
   {
    "duration": 4,
    "start_time": "2025-04-12T15:09:07.078Z"
   },
   {
    "duration": 102,
    "start_time": "2025-04-12T15:09:09.643Z"
   },
   {
    "duration": 5,
    "start_time": "2025-04-12T15:09:10.009Z"
   },
   {
    "duration": 5,
    "start_time": "2025-04-12T15:09:10.499Z"
   },
   {
    "duration": 15,
    "start_time": "2025-04-12T15:11:38.687Z"
   },
   {
    "duration": 17,
    "start_time": "2025-04-12T15:11:43.798Z"
   },
   {
    "duration": 13,
    "start_time": "2025-04-12T15:11:45.999Z"
   },
   {
    "duration": 136,
    "start_time": "2025-04-12T15:12:01.213Z"
   },
   {
    "duration": 215,
    "start_time": "2025-04-12T15:13:17.334Z"
   },
   {
    "duration": 3,
    "start_time": "2025-04-12T15:13:44.693Z"
   },
   {
    "duration": 7,
    "start_time": "2025-04-12T15:13:45.159Z"
   },
   {
    "duration": 2,
    "start_time": "2025-04-12T15:13:46.495Z"
   },
   {
    "duration": 827,
    "start_time": "2025-04-12T15:13:47.073Z"
   },
   {
    "duration": 6,
    "start_time": "2025-04-12T15:13:49.937Z"
   },
   {
    "duration": 4,
    "start_time": "2025-04-12T15:13:53.224Z"
   },
   {
    "duration": 5,
    "start_time": "2025-04-12T15:13:54.196Z"
   },
   {
    "duration": 5,
    "start_time": "2025-04-12T15:13:55.668Z"
   },
   {
    "duration": 829,
    "start_time": "2025-04-12T15:13:56.975Z"
   },
   {
    "duration": 4,
    "start_time": "2025-04-12T15:13:57.806Z"
   },
   {
    "duration": 5,
    "start_time": "2025-04-12T15:13:58.586Z"
   },
   {
    "duration": 226,
    "start_time": "2025-04-12T15:13:59.837Z"
   },
   {
    "duration": 2,
    "start_time": "2025-04-12T15:14:45.806Z"
   },
   {
    "duration": 3,
    "start_time": "2025-04-12T15:14:53.241Z"
   },
   {
    "duration": 555,
    "start_time": "2025-04-12T15:14:54.499Z"
   },
   {
    "duration": 1043,
    "start_time": "2025-04-12T15:35:30.453Z"
   },
   {
    "duration": 225,
    "start_time": "2025-04-12T15:35:31.499Z"
   },
   {
    "duration": 25,
    "start_time": "2025-04-12T15:35:31.726Z"
   },
   {
    "duration": 71,
    "start_time": "2025-04-12T15:35:31.754Z"
   },
   {
    "duration": 296,
    "start_time": "2025-04-12T15:35:31.826Z"
   },
   {
    "duration": 22,
    "start_time": "2025-04-12T15:35:32.124Z"
   },
   {
    "duration": 2,
    "start_time": "2025-04-12T15:35:32.148Z"
   },
   {
    "duration": 5,
    "start_time": "2025-04-12T15:35:32.152Z"
   },
   {
    "duration": 7,
    "start_time": "2025-04-12T15:35:32.159Z"
   },
   {
    "duration": 5,
    "start_time": "2025-04-12T15:35:32.168Z"
   },
   {
    "duration": 3,
    "start_time": "2025-04-12T15:35:32.175Z"
   },
   {
    "duration": 4,
    "start_time": "2025-04-12T15:35:32.180Z"
   },
   {
    "duration": 4,
    "start_time": "2025-04-12T15:35:32.185Z"
   },
   {
    "duration": 9,
    "start_time": "2025-04-12T15:35:32.190Z"
   },
   {
    "duration": 15,
    "start_time": "2025-04-12T15:35:32.243Z"
   },
   {
    "duration": 7,
    "start_time": "2025-04-12T15:35:32.260Z"
   },
   {
    "duration": 26,
    "start_time": "2025-04-12T15:35:32.268Z"
   },
   {
    "duration": 9,
    "start_time": "2025-04-12T15:35:32.296Z"
   },
   {
    "duration": 59,
    "start_time": "2025-04-12T15:35:32.307Z"
   },
   {
    "duration": 7,
    "start_time": "2025-04-12T15:35:32.368Z"
   },
   {
    "duration": 38,
    "start_time": "2025-04-12T15:35:32.378Z"
   },
   {
    "duration": 28,
    "start_time": "2025-04-12T15:35:32.418Z"
   },
   {
    "duration": 4,
    "start_time": "2025-04-12T15:35:32.449Z"
   },
   {
    "duration": 6,
    "start_time": "2025-04-12T15:35:32.455Z"
   },
   {
    "duration": 4,
    "start_time": "2025-04-12T15:35:32.463Z"
   },
   {
    "duration": 6,
    "start_time": "2025-04-12T15:35:32.469Z"
   },
   {
    "duration": 8,
    "start_time": "2025-04-12T15:35:32.477Z"
   },
   {
    "duration": 8,
    "start_time": "2025-04-12T15:35:32.492Z"
   },
   {
    "duration": 52,
    "start_time": "2025-04-12T15:35:32.502Z"
   },
   {
    "duration": 4,
    "start_time": "2025-04-12T15:35:32.556Z"
   },
   {
    "duration": 2144,
    "start_time": "2025-04-12T15:35:32.562Z"
   },
   {
    "duration": 3,
    "start_time": "2025-04-12T15:35:34.708Z"
   },
   {
    "duration": 430,
    "start_time": "2025-04-12T15:35:34.714Z"
   },
   {
    "duration": 489,
    "start_time": "2025-04-12T15:35:35.146Z"
   },
   {
    "duration": 9,
    "start_time": "2025-04-12T15:35:35.643Z"
   },
   {
    "duration": 734,
    "start_time": "2025-04-12T15:35:35.654Z"
   },
   {
    "duration": 4,
    "start_time": "2025-04-12T15:35:36.390Z"
   },
   {
    "duration": 17,
    "start_time": "2025-04-12T15:35:36.397Z"
   },
   {
    "duration": 1093,
    "start_time": "2025-04-12T15:35:36.416Z"
   },
   {
    "duration": 10,
    "start_time": "2025-04-12T15:35:37.542Z"
   },
   {
    "duration": 55,
    "start_time": "2025-04-12T15:35:37.554Z"
   },
   {
    "duration": 41,
    "start_time": "2025-04-12T15:35:37.611Z"
   },
   {
    "duration": 1055,
    "start_time": "2025-04-12T15:35:37.653Z"
   },
   {
    "duration": 3,
    "start_time": "2025-04-12T15:35:38.710Z"
   },
   {
    "duration": 35,
    "start_time": "2025-04-12T15:35:38.715Z"
   },
   {
    "duration": 7,
    "start_time": "2025-04-12T15:35:38.751Z"
   },
   {
    "duration": 3,
    "start_time": "2025-04-12T15:35:38.760Z"
   },
   {
    "duration": 3,
    "start_time": "2025-04-12T15:35:38.765Z"
   },
   {
    "duration": 4,
    "start_time": "2025-04-12T15:35:38.770Z"
   },
   {
    "duration": 8,
    "start_time": "2025-04-12T15:35:38.776Z"
   },
   {
    "duration": 3,
    "start_time": "2025-04-12T15:35:38.785Z"
   },
   {
    "duration": 879,
    "start_time": "2025-04-12T15:35:38.790Z"
   },
   {
    "duration": 4,
    "start_time": "2025-04-12T15:35:39.671Z"
   },
   {
    "duration": 4,
    "start_time": "2025-04-12T15:35:39.677Z"
   },
   {
    "duration": 4,
    "start_time": "2025-04-12T15:35:39.683Z"
   },
   {
    "duration": 5,
    "start_time": "2025-04-12T15:35:39.688Z"
   },
   {
    "duration": 56,
    "start_time": "2025-04-12T15:35:39.695Z"
   },
   {
    "duration": 5,
    "start_time": "2025-04-12T15:35:39.752Z"
   },
   {
    "duration": 4,
    "start_time": "2025-04-12T15:35:39.759Z"
   },
   {
    "duration": 390,
    "start_time": "2025-04-12T15:35:39.764Z"
   },
   {
    "duration": 3221,
    "start_time": "2025-04-12T15:35:40.156Z"
   },
   {
    "duration": 48167,
    "start_time": "2025-04-12T15:35:43.379Z"
   },
   {
    "duration": 184157,
    "start_time": "2025-04-12T15:36:31.548Z"
   },
   {
    "duration": 3248,
    "start_time": "2025-04-12T22:51:20.736Z"
   },
   {
    "duration": 277,
    "start_time": "2025-04-12T22:51:23.987Z"
   },
   {
    "duration": 15,
    "start_time": "2025-04-12T22:51:24.266Z"
   },
   {
    "duration": 124,
    "start_time": "2025-04-12T22:51:24.283Z"
   },
   {
    "duration": 15,
    "start_time": "2025-04-12T22:51:24.409Z"
   },
   {
    "duration": 407,
    "start_time": "2025-04-12T22:51:24.426Z"
   },
   {
    "duration": 16,
    "start_time": "2025-04-12T22:51:24.836Z"
   },
   {
    "duration": 3,
    "start_time": "2025-04-12T22:51:24.854Z"
   },
   {
    "duration": 7,
    "start_time": "2025-04-12T22:51:24.860Z"
   },
   {
    "duration": 10,
    "start_time": "2025-04-12T22:51:24.871Z"
   },
   {
    "duration": 45,
    "start_time": "2025-04-12T22:51:24.883Z"
   },
   {
    "duration": 5,
    "start_time": "2025-04-12T22:51:24.930Z"
   },
   {
    "duration": 5,
    "start_time": "2025-04-12T22:51:24.937Z"
   },
   {
    "duration": 4,
    "start_time": "2025-04-12T22:51:24.944Z"
   },
   {
    "duration": 11,
    "start_time": "2025-04-12T22:51:24.949Z"
   },
   {
    "duration": 18,
    "start_time": "2025-04-12T22:51:24.962Z"
   },
   {
    "duration": 44,
    "start_time": "2025-04-12T22:51:24.982Z"
   },
   {
    "duration": 11,
    "start_time": "2025-04-12T22:51:25.029Z"
   },
   {
    "duration": 9,
    "start_time": "2025-04-12T22:51:25.043Z"
   },
   {
    "duration": 35,
    "start_time": "2025-04-12T22:51:25.054Z"
   },
   {
    "duration": 38,
    "start_time": "2025-04-12T22:51:25.091Z"
   },
   {
    "duration": 41,
    "start_time": "2025-04-12T22:51:25.131Z"
   },
   {
    "duration": 6,
    "start_time": "2025-04-12T22:51:25.174Z"
   },
   {
    "duration": 5,
    "start_time": "2025-04-12T22:51:25.182Z"
   },
   {
    "duration": 36,
    "start_time": "2025-04-12T22:51:25.189Z"
   },
   {
    "duration": 5,
    "start_time": "2025-04-12T22:51:25.228Z"
   },
   {
    "duration": 8,
    "start_time": "2025-04-12T22:51:25.242Z"
   },
   {
    "duration": 9,
    "start_time": "2025-04-12T22:51:25.254Z"
   },
   {
    "duration": 5,
    "start_time": "2025-04-12T22:51:25.265Z"
   },
   {
    "duration": 15,
    "start_time": "2025-04-12T22:51:25.274Z"
   },
   {
    "duration": 3,
    "start_time": "2025-04-12T22:51:25.325Z"
   },
   {
    "duration": 2382,
    "start_time": "2025-04-12T22:51:25.330Z"
   },
   {
    "duration": 12,
    "start_time": "2025-04-12T22:51:27.714Z"
   },
   {
    "duration": 512,
    "start_time": "2025-04-12T22:51:27.728Z"
   },
   {
    "duration": 480,
    "start_time": "2025-04-12T22:51:28.241Z"
   },
   {
    "duration": 8,
    "start_time": "2025-04-12T22:51:28.724Z"
   },
   {
    "duration": 740,
    "start_time": "2025-04-12T22:51:28.734Z"
   },
   {
    "duration": 7,
    "start_time": "2025-04-12T22:51:29.477Z"
   },
   {
    "duration": 27,
    "start_time": "2025-04-12T22:51:29.488Z"
   },
   {
    "duration": 1129,
    "start_time": "2025-04-12T22:51:29.524Z"
   },
   {
    "duration": 12,
    "start_time": "2025-04-12T22:51:30.655Z"
   },
   {
    "duration": 74,
    "start_time": "2025-04-12T22:51:30.668Z"
   },
   {
    "duration": 29,
    "start_time": "2025-04-12T22:51:30.744Z"
   },
   {
    "duration": 1171,
    "start_time": "2025-04-12T22:51:30.775Z"
   },
   {
    "duration": 3,
    "start_time": "2025-04-12T22:51:31.948Z"
   },
   {
    "duration": 10,
    "start_time": "2025-04-12T22:51:31.953Z"
   },
   {
    "duration": 7,
    "start_time": "2025-04-12T22:51:31.965Z"
   },
   {
    "duration": 3,
    "start_time": "2025-04-12T22:51:31.974Z"
   },
   {
    "duration": 3,
    "start_time": "2025-04-12T22:51:31.979Z"
   },
   {
    "duration": 3,
    "start_time": "2025-04-12T22:51:31.984Z"
   },
   {
    "duration": 9,
    "start_time": "2025-04-12T22:51:32.025Z"
   },
   {
    "duration": 2,
    "start_time": "2025-04-12T22:51:32.036Z"
   },
   {
    "duration": 887,
    "start_time": "2025-04-12T22:51:32.040Z"
   },
   {
    "duration": 5,
    "start_time": "2025-04-12T22:51:32.928Z"
   },
   {
    "duration": 5,
    "start_time": "2025-04-12T22:51:32.935Z"
   },
   {
    "duration": 4,
    "start_time": "2025-04-12T22:51:32.942Z"
   },
   {
    "duration": 5,
    "start_time": "2025-04-12T22:51:32.948Z"
   },
   {
    "duration": 69,
    "start_time": "2025-04-12T22:51:32.956Z"
   },
   {
    "duration": 7,
    "start_time": "2025-04-12T22:51:33.028Z"
   },
   {
    "duration": 8,
    "start_time": "2025-04-12T22:51:33.038Z"
   },
   {
    "duration": 480,
    "start_time": "2025-04-12T22:51:33.048Z"
   },
   {
    "duration": 3401,
    "start_time": "2025-04-12T22:51:33.533Z"
   },
   {
    "duration": 49606,
    "start_time": "2025-04-12T22:51:36.937Z"
   },
   {
    "duration": 190038,
    "start_time": "2025-04-12T22:52:26.544Z"
   },
   {
    "duration": 981,
    "start_time": "2025-04-12T23:08:14.808Z"
   },
   {
    "duration": 222,
    "start_time": "2025-04-12T23:08:15.791Z"
   },
   {
    "duration": 18,
    "start_time": "2025-04-12T23:08:16.015Z"
   },
   {
    "duration": 71,
    "start_time": "2025-04-12T23:08:16.036Z"
   },
   {
    "duration": 18,
    "start_time": "2025-04-12T23:08:16.109Z"
   },
   {
    "duration": 284,
    "start_time": "2025-04-12T23:08:16.129Z"
   },
   {
    "duration": 14,
    "start_time": "2025-04-12T23:08:16.414Z"
   },
   {
    "duration": 3,
    "start_time": "2025-04-12T23:08:16.429Z"
   },
   {
    "duration": 5,
    "start_time": "2025-04-12T23:08:16.434Z"
   },
   {
    "duration": 7,
    "start_time": "2025-04-12T23:08:16.442Z"
   },
   {
    "duration": 5,
    "start_time": "2025-04-12T23:08:16.451Z"
   },
   {
    "duration": 4,
    "start_time": "2025-04-12T23:08:16.457Z"
   },
   {
    "duration": 3,
    "start_time": "2025-04-12T23:08:16.463Z"
   },
   {
    "duration": 4,
    "start_time": "2025-04-12T23:08:16.468Z"
   },
   {
    "duration": 53,
    "start_time": "2025-04-12T23:08:16.473Z"
   },
   {
    "duration": 12,
    "start_time": "2025-04-12T23:08:16.528Z"
   },
   {
    "duration": 8,
    "start_time": "2025-04-12T23:08:16.541Z"
   },
   {
    "duration": 8,
    "start_time": "2025-04-12T23:08:16.550Z"
   },
   {
    "duration": 7,
    "start_time": "2025-04-12T23:08:16.560Z"
   },
   {
    "duration": 61,
    "start_time": "2025-04-12T23:08:16.568Z"
   },
   {
    "duration": 5,
    "start_time": "2025-04-12T23:08:16.630Z"
   },
   {
    "duration": 38,
    "start_time": "2025-04-12T23:08:16.637Z"
   },
   {
    "duration": 5,
    "start_time": "2025-04-12T23:08:16.677Z"
   },
   {
    "duration": 4,
    "start_time": "2025-04-12T23:08:16.684Z"
   },
   {
    "duration": 38,
    "start_time": "2025-04-12T23:08:16.691Z"
   },
   {
    "duration": 4,
    "start_time": "2025-04-12T23:08:16.731Z"
   },
   {
    "duration": 5,
    "start_time": "2025-04-12T23:08:16.737Z"
   },
   {
    "duration": 7,
    "start_time": "2025-04-12T23:08:16.747Z"
   },
   {
    "duration": 4,
    "start_time": "2025-04-12T23:08:16.755Z"
   },
   {
    "duration": 12,
    "start_time": "2025-04-12T23:08:16.761Z"
   },
   {
    "duration": 2,
    "start_time": "2025-04-12T23:08:16.774Z"
   },
   {
    "duration": 2197,
    "start_time": "2025-04-12T23:08:16.778Z"
   },
   {
    "duration": 3,
    "start_time": "2025-04-12T23:08:18.977Z"
   },
   {
    "duration": 430,
    "start_time": "2025-04-12T23:08:18.981Z"
   },
   {
    "duration": 512,
    "start_time": "2025-04-12T23:08:19.412Z"
   },
   {
    "duration": 10,
    "start_time": "2025-04-12T23:08:19.926Z"
   },
   {
    "duration": 737,
    "start_time": "2025-04-12T23:08:19.938Z"
   },
   {
    "duration": 3,
    "start_time": "2025-04-12T23:08:20.676Z"
   },
   {
    "duration": 19,
    "start_time": "2025-04-12T23:08:20.680Z"
   },
   {
    "duration": 1223,
    "start_time": "2025-04-12T23:08:20.701Z"
   },
   {
    "duration": 11,
    "start_time": "2025-04-12T23:08:21.926Z"
   },
   {
    "duration": 53,
    "start_time": "2025-04-12T23:08:21.939Z"
   },
   {
    "duration": 40,
    "start_time": "2025-04-12T23:08:21.994Z"
   },
   {
    "duration": 953,
    "start_time": "2025-04-12T23:08:22.035Z"
   },
   {
    "duration": 2,
    "start_time": "2025-04-12T23:08:22.990Z"
   },
   {
    "duration": 34,
    "start_time": "2025-04-12T23:08:22.994Z"
   },
   {
    "duration": 7,
    "start_time": "2025-04-12T23:08:23.030Z"
   },
   {
    "duration": 3,
    "start_time": "2025-04-12T23:08:23.039Z"
   },
   {
    "duration": 3,
    "start_time": "2025-04-12T23:08:23.044Z"
   },
   {
    "duration": 3,
    "start_time": "2025-04-12T23:08:23.049Z"
   },
   {
    "duration": 7,
    "start_time": "2025-04-12T23:08:23.054Z"
   },
   {
    "duration": 3,
    "start_time": "2025-04-12T23:08:23.062Z"
   },
   {
    "duration": 882,
    "start_time": "2025-04-12T23:08:23.066Z"
   },
   {
    "duration": 4,
    "start_time": "2025-04-12T23:08:23.950Z"
   },
   {
    "duration": 4,
    "start_time": "2025-04-12T23:08:23.955Z"
   },
   {
    "duration": 4,
    "start_time": "2025-04-12T23:08:23.961Z"
   },
   {
    "duration": 5,
    "start_time": "2025-04-12T23:08:23.966Z"
   },
   {
    "duration": 61,
    "start_time": "2025-04-12T23:08:23.972Z"
   },
   {
    "duration": 3,
    "start_time": "2025-04-12T23:08:24.035Z"
   },
   {
    "duration": 4,
    "start_time": "2025-04-12T23:08:24.040Z"
   },
   {
    "duration": 294,
    "start_time": "2025-04-12T23:08:24.045Z"
   },
   {
    "duration": 3295,
    "start_time": "2025-04-12T23:08:24.341Z"
   },
   {
    "duration": 49243,
    "start_time": "2025-04-12T23:08:27.638Z"
   },
   {
    "duration": 186684,
    "start_time": "2025-04-12T23:09:16.883Z"
   },
   {
    "duration": 996,
    "start_time": "2025-04-12T23:12:23.568Z"
   },
   {
    "duration": 0,
    "start_time": "2025-04-12T23:12:24.567Z"
   },
   {
    "duration": 0,
    "start_time": "2025-04-12T23:12:24.569Z"
   },
   {
    "duration": 0,
    "start_time": "2025-04-12T23:12:24.570Z"
   },
   {
    "duration": 3,
    "start_time": "2025-04-12T23:16:41.068Z"
   },
   {
    "duration": 3,
    "start_time": "2025-04-12T23:19:06.064Z"
   },
   {
    "duration": 7,
    "start_time": "2025-04-12T23:19:08.229Z"
   },
   {
    "duration": 3,
    "start_time": "2025-04-12T23:19:09.692Z"
   },
   {
    "duration": 845,
    "start_time": "2025-04-12T23:19:13.339Z"
   },
   {
    "duration": 3,
    "start_time": "2025-04-12T23:20:05.678Z"
   },
   {
    "duration": 4,
    "start_time": "2025-04-12T23:20:06.066Z"
   },
   {
    "duration": 8,
    "start_time": "2025-04-12T23:20:06.526Z"
   },
   {
    "duration": 3,
    "start_time": "2025-04-12T23:20:06.955Z"
   },
   {
    "duration": 865,
    "start_time": "2025-04-12T23:20:13.339Z"
   },
   {
    "duration": 5,
    "start_time": "2025-04-12T23:20:14.206Z"
   },
   {
    "duration": 4,
    "start_time": "2025-04-12T23:20:14.442Z"
   },
   {
    "duration": 3,
    "start_time": "2025-04-12T23:21:38.313Z"
   },
   {
    "duration": 7,
    "start_time": "2025-04-12T23:21:38.807Z"
   },
   {
    "duration": 3,
    "start_time": "2025-04-12T23:21:39.217Z"
   },
   {
    "duration": 872,
    "start_time": "2025-04-12T23:21:39.703Z"
   },
   {
    "duration": 5,
    "start_time": "2025-04-12T23:21:40.742Z"
   },
   {
    "duration": 4,
    "start_time": "2025-04-12T23:21:41.442Z"
   },
   {
    "duration": 3174,
    "start_time": "2025-04-12T23:22:14.564Z"
   },
   {
    "duration": 17,
    "start_time": "2025-04-12T23:22:59.461Z"
   },
   {
    "duration": 4,
    "start_time": "2025-04-12T23:23:02.965Z"
   },
   {
    "duration": 5,
    "start_time": "2025-04-12T23:23:05.524Z"
   },
   {
    "duration": 169,
    "start_time": "2025-04-12T23:23:14.573Z"
   },
   {
    "duration": 48369,
    "start_time": "2025-04-12T23:24:19.713Z"
   },
   {
    "duration": 4,
    "start_time": "2025-04-12T23:25:08.085Z"
   },
   {
    "duration": 5,
    "start_time": "2025-04-12T23:25:08.091Z"
   },
   {
    "duration": 187375,
    "start_time": "2025-04-12T23:25:08.098Z"
   },
   {
    "duration": 3,
    "start_time": "2025-04-12T23:34:46.774Z"
   },
   {
    "duration": 891,
    "start_time": "2025-04-12T23:38:58.064Z"
   },
   {
    "duration": 28,
    "start_time": "2025-04-12T23:39:16.506Z"
   },
   {
    "duration": 48358,
    "start_time": "2025-04-12T23:39:31.653Z"
   },
   {
    "duration": 118,
    "start_time": "2025-04-12T23:43:21.911Z"
   },
   {
    "duration": 134,
    "start_time": "2025-04-12T23:43:33.311Z"
   },
   {
    "duration": 5,
    "start_time": "2025-04-12T23:45:31.038Z"
   },
   {
    "duration": 5,
    "start_time": "2025-04-12T23:45:40.261Z"
   },
   {
    "duration": 886,
    "start_time": "2025-04-12T23:45:43.021Z"
   },
   {
    "duration": 14,
    "start_time": "2025-04-12T23:46:29.096Z"
   },
   {
    "duration": 5,
    "start_time": "2025-04-12T23:46:57.894Z"
   },
   {
    "duration": 4,
    "start_time": "2025-04-12T23:46:59.194Z"
   },
   {
    "duration": 35,
    "start_time": "2025-04-12T23:47:06.963Z"
   },
   {
    "duration": 48539,
    "start_time": "2025-04-12T23:47:45.413Z"
   },
   {
    "duration": 4,
    "start_time": "2025-04-12T23:48:33.955Z"
   },
   {
    "duration": 4,
    "start_time": "2025-04-12T23:48:33.961Z"
   },
   {
    "duration": 48409,
    "start_time": "2025-04-12T23:48:33.968Z"
   },
   {
    "duration": 94,
    "start_time": "2025-04-12T23:51:53.738Z"
   },
   {
    "duration": 48469,
    "start_time": "2025-04-12T23:52:18.478Z"
   },
   {
    "duration": 72,
    "start_time": "2025-04-12T23:53:25.286Z"
   },
   {
    "duration": 7,
    "start_time": "2025-04-12T23:55:36.555Z"
   },
   {
    "duration": 29,
    "start_time": "2025-04-12T23:55:47.503Z"
   },
   {
    "duration": 33,
    "start_time": "2025-04-12T23:56:33.566Z"
   },
   {
    "duration": 3,
    "start_time": "2025-04-13T00:04:20.906Z"
   },
   {
    "duration": 3,
    "start_time": "2025-04-13T00:04:52.029Z"
   },
   {
    "duration": 3,
    "start_time": "2025-04-13T00:05:23.723Z"
   },
   {
    "duration": 14,
    "start_time": "2025-04-13T00:05:55.164Z"
   },
   {
    "duration": 105,
    "start_time": "2025-04-13T00:06:10.512Z"
   },
   {
    "duration": 3,
    "start_time": "2025-04-13T00:06:34.481Z"
   },
   {
    "duration": 1111,
    "start_time": "2025-04-13T00:13:39.559Z"
   },
   {
    "duration": 223,
    "start_time": "2025-04-13T00:13:40.672Z"
   },
   {
    "duration": 15,
    "start_time": "2025-04-13T00:13:40.897Z"
   },
   {
    "duration": 72,
    "start_time": "2025-04-13T00:13:40.925Z"
   },
   {
    "duration": 11,
    "start_time": "2025-04-13T00:13:40.999Z"
   },
   {
    "duration": 294,
    "start_time": "2025-04-13T00:13:41.025Z"
   },
   {
    "duration": 13,
    "start_time": "2025-04-13T00:13:41.325Z"
   },
   {
    "duration": 3,
    "start_time": "2025-04-13T00:13:41.567Z"
   },
   {
    "duration": 6,
    "start_time": "2025-04-13T00:13:41.804Z"
   },
   {
    "duration": 9,
    "start_time": "2025-04-13T00:13:42.030Z"
   },
   {
    "duration": 6,
    "start_time": "2025-04-13T00:13:42.248Z"
   },
   {
    "duration": 4,
    "start_time": "2025-04-13T00:13:42.475Z"
   },
   {
    "duration": 4,
    "start_time": "2025-04-13T00:13:43.218Z"
   },
   {
    "duration": 4,
    "start_time": "2025-04-13T00:13:43.464Z"
   },
   {
    "duration": 10,
    "start_time": "2025-04-13T00:13:43.740Z"
   },
   {
    "duration": 15,
    "start_time": "2025-04-13T00:13:43.977Z"
   },
   {
    "duration": 11,
    "start_time": "2025-04-13T00:13:44.216Z"
   },
   {
    "duration": 9,
    "start_time": "2025-04-13T00:13:44.457Z"
   },
   {
    "duration": 8,
    "start_time": "2025-04-13T00:13:44.713Z"
   },
   {
    "duration": 29,
    "start_time": "2025-04-13T00:13:45.185Z"
   },
   {
    "duration": 6,
    "start_time": "2025-04-13T00:13:45.452Z"
   },
   {
    "duration": 39,
    "start_time": "2025-04-13T00:13:45.682Z"
   },
   {
    "duration": 7,
    "start_time": "2025-04-13T00:13:45.940Z"
   },
   {
    "duration": 5,
    "start_time": "2025-04-13T00:13:46.195Z"
   },
   {
    "duration": 8,
    "start_time": "2025-04-13T00:13:46.426Z"
   },
   {
    "duration": 4,
    "start_time": "2025-04-13T00:13:46.757Z"
   },
   {
    "duration": 7,
    "start_time": "2025-04-13T00:13:46.999Z"
   },
   {
    "duration": 8,
    "start_time": "2025-04-13T00:13:47.280Z"
   },
   {
    "duration": 4,
    "start_time": "2025-04-13T00:13:47.761Z"
   },
   {
    "duration": 13,
    "start_time": "2025-04-13T00:13:48.356Z"
   },
   {
    "duration": 3,
    "start_time": "2025-04-13T00:13:48.935Z"
   },
   {
    "duration": 2072,
    "start_time": "2025-04-13T00:13:49.292Z"
   },
   {
    "duration": 5,
    "start_time": "2025-04-13T00:13:51.461Z"
   },
   {
    "duration": 450,
    "start_time": "2025-04-13T00:13:52.059Z"
   },
   {
    "duration": 488,
    "start_time": "2025-04-13T00:13:52.736Z"
   },
   {
    "duration": 9,
    "start_time": "2025-04-13T00:13:54.317Z"
   },
   {
    "duration": 785,
    "start_time": "2025-04-13T00:13:55.116Z"
   },
   {
    "duration": 2,
    "start_time": "2025-04-13T00:13:55.904Z"
   },
   {
    "duration": 24,
    "start_time": "2025-04-13T00:13:56.891Z"
   },
   {
    "duration": 1183,
    "start_time": "2025-04-13T00:13:57.206Z"
   },
   {
    "duration": 13,
    "start_time": "2025-04-13T00:13:58.391Z"
   },
   {
    "duration": 76,
    "start_time": "2025-04-13T00:13:58.406Z"
   },
   {
    "duration": 46,
    "start_time": "2025-04-13T00:13:58.484Z"
   },
   {
    "duration": 1096,
    "start_time": "2025-04-13T00:13:58.590Z"
   },
   {
    "duration": 2,
    "start_time": "2025-04-13T00:14:03.535Z"
   },
   {
    "duration": 240,
    "start_time": "2025-04-13T00:14:05.228Z"
   },
   {
    "duration": 6,
    "start_time": "2025-04-13T00:14:23.358Z"
   },
   {
    "duration": 14,
    "start_time": "2025-04-13T00:14:35.120Z"
   },
   {
    "duration": 4,
    "start_time": "2025-04-13T00:15:27.220Z"
   },
   {
    "duration": 5,
    "start_time": "2025-04-13T00:15:39.740Z"
   },
   {
    "duration": 4,
    "start_time": "2025-04-13T00:15:56.005Z"
   },
   {
    "duration": 5,
    "start_time": "2025-04-13T00:16:05.714Z"
   },
   {
    "duration": 4,
    "start_time": "2025-04-13T00:16:17.070Z"
   },
   {
    "duration": 3,
    "start_time": "2025-04-13T00:16:40.489Z"
   },
   {
    "duration": 3,
    "start_time": "2025-04-13T00:16:40.960Z"
   },
   {
    "duration": 9,
    "start_time": "2025-04-13T00:16:58.665Z"
   },
   {
    "duration": 3,
    "start_time": "2025-04-13T00:19:23.839Z"
   },
   {
    "duration": 8,
    "start_time": "2025-04-13T00:19:24.478Z"
   },
   {
    "duration": 3,
    "start_time": "2025-04-13T00:19:25.783Z"
   },
   {
    "duration": 0,
    "start_time": "2025-04-13T00:19:35.964Z"
   },
   {
    "duration": 5761,
    "start_time": "2025-04-13T00:19:50.021Z"
   },
   {
    "duration": 5727,
    "start_time": "2025-04-13T00:20:10.138Z"
   },
   {
    "duration": 514,
    "start_time": "2025-04-13T00:21:51.415Z"
   },
   {
    "duration": 346306,
    "start_time": "2025-04-13T00:22:46.210Z"
   },
   {
    "duration": 4,
    "start_time": "2025-04-13T00:29:53.960Z"
   },
   {
    "duration": 4,
    "start_time": "2025-04-13T00:30:32.496Z"
   },
   {
    "duration": 4404,
    "start_time": "2025-04-13T00:31:02.962Z"
   },
   {
    "duration": 246,
    "start_time": "2025-04-13T00:31:20.398Z"
   },
   {
    "duration": 257990,
    "start_time": "2025-04-13T00:31:38.746Z"
   },
   {
    "duration": 3,
    "start_time": "2025-04-13T00:41:59.262Z"
   },
   {
    "duration": 7605,
    "start_time": "2025-04-13T00:42:48.425Z"
   },
   {
    "duration": 2,
    "start_time": "2025-04-13T00:43:07.191Z"
   },
   {
    "duration": 4,
    "start_time": "2025-04-13T00:43:07.667Z"
   },
   {
    "duration": 4,
    "start_time": "2025-04-13T00:43:08.239Z"
   },
   {
    "duration": 3,
    "start_time": "2025-04-13T00:43:08.799Z"
   },
   {
    "duration": 3,
    "start_time": "2025-04-13T00:43:09.378Z"
   },
   {
    "duration": 10,
    "start_time": "2025-04-13T00:43:09.938Z"
   },
   {
    "duration": 2,
    "start_time": "2025-04-13T00:43:10.924Z"
   },
   {
    "duration": 3,
    "start_time": "2025-04-13T00:43:12.233Z"
   },
   {
    "duration": 5517,
    "start_time": "2025-04-13T00:43:15.512Z"
   },
   {
    "duration": 3,
    "start_time": "2025-04-13T00:45:25.774Z"
   },
   {
    "duration": 5653,
    "start_time": "2025-04-13T00:45:26.450Z"
   },
   {
    "duration": 671,
    "start_time": "2025-04-13T00:47:05.073Z"
   },
   {
    "duration": 5512,
    "start_time": "2025-04-13T00:47:50.987Z"
   },
   {
    "duration": 324348,
    "start_time": "2025-04-13T00:48:05.192Z"
   },
   {
    "duration": 4,
    "start_time": "2025-04-13T00:53:52.724Z"
   },
   {
    "duration": 4,
    "start_time": "2025-04-13T00:53:53.803Z"
   },
   {
    "duration": 77844,
    "start_time": "2025-04-13T00:56:24.557Z"
   },
   {
    "duration": 22,
    "start_time": "2025-04-13T01:07:20.230Z"
   },
   {
    "duration": 7,
    "start_time": "2025-04-13T01:07:26.174Z"
   },
   {
    "duration": 6,
    "start_time": "2025-04-13T01:12:29.909Z"
   },
   {
    "duration": 7,
    "start_time": "2025-04-13T01:12:40.690Z"
   },
   {
    "duration": 21,
    "start_time": "2025-04-13T01:13:08.245Z"
   },
   {
    "duration": 19,
    "start_time": "2025-04-13T01:13:49.687Z"
   },
   {
    "duration": 58,
    "start_time": "2025-04-13T01:14:45.531Z"
   },
   {
    "duration": 10,
    "start_time": "2025-04-13T02:12:03.022Z"
   },
   {
    "duration": 37,
    "start_time": "2025-04-13T02:12:03.719Z"
   },
   {
    "duration": 10,
    "start_time": "2025-04-13T02:12:22.327Z"
   },
   {
    "duration": 1095,
    "start_time": "2025-04-13T02:15:10.974Z"
   },
   {
    "duration": 1209,
    "start_time": "2025-04-13T02:15:36.679Z"
   },
   {
    "duration": 5,
    "start_time": "2025-04-13T02:35:05.734Z"
   },
   {
    "duration": 3,
    "start_time": "2025-04-13T02:36:32.749Z"
   },
   {
    "duration": 3,
    "start_time": "2025-04-13T03:00:20.179Z"
   },
   {
    "duration": 1082,
    "start_time": "2025-04-13T03:00:31.382Z"
   },
   {
    "duration": 237,
    "start_time": "2025-04-13T03:00:32.466Z"
   },
   {
    "duration": 23,
    "start_time": "2025-04-13T03:00:32.705Z"
   },
   {
    "duration": 75,
    "start_time": "2025-04-13T03:00:32.730Z"
   },
   {
    "duration": 19,
    "start_time": "2025-04-13T03:00:32.807Z"
   },
   {
    "duration": 297,
    "start_time": "2025-04-13T03:00:32.828Z"
   },
   {
    "duration": 16,
    "start_time": "2025-04-13T03:00:33.126Z"
   },
   {
    "duration": 5,
    "start_time": "2025-04-13T03:00:33.146Z"
   },
   {
    "duration": 6,
    "start_time": "2025-04-13T03:00:33.153Z"
   },
   {
    "duration": 10,
    "start_time": "2025-04-13T03:00:33.161Z"
   },
   {
    "duration": 5,
    "start_time": "2025-04-13T03:00:33.174Z"
   },
   {
    "duration": 5,
    "start_time": "2025-04-13T03:00:33.181Z"
   },
   {
    "duration": 3,
    "start_time": "2025-04-13T03:00:33.225Z"
   },
   {
    "duration": 3,
    "start_time": "2025-04-13T03:00:33.233Z"
   },
   {
    "duration": 10,
    "start_time": "2025-04-13T03:00:33.238Z"
   },
   {
    "duration": 13,
    "start_time": "2025-04-13T03:00:33.250Z"
   },
   {
    "duration": 9,
    "start_time": "2025-04-13T03:00:33.265Z"
   },
   {
    "duration": 9,
    "start_time": "2025-04-13T03:00:33.276Z"
   },
   {
    "duration": 45,
    "start_time": "2025-04-13T03:00:33.286Z"
   },
   {
    "duration": 26,
    "start_time": "2025-04-13T03:00:33.332Z"
   },
   {
    "duration": 7,
    "start_time": "2025-04-13T03:00:33.360Z"
   },
   {
    "duration": 28,
    "start_time": "2025-04-13T03:00:33.370Z"
   },
   {
    "duration": 8,
    "start_time": "2025-04-13T03:00:33.424Z"
   },
   {
    "duration": 4,
    "start_time": "2025-04-13T03:00:33.433Z"
   },
   {
    "duration": 6,
    "start_time": "2025-04-13T03:00:33.439Z"
   },
   {
    "duration": 7,
    "start_time": "2025-04-13T03:00:33.448Z"
   },
   {
    "duration": 21,
    "start_time": "2025-04-13T03:00:33.456Z"
   },
   {
    "duration": 92,
    "start_time": "2025-04-13T03:00:33.479Z"
   },
   {
    "duration": 3,
    "start_time": "2025-04-13T03:00:33.574Z"
   },
   {
    "duration": 1994,
    "start_time": "2025-04-13T03:00:33.580Z"
   },
   {
    "duration": 4,
    "start_time": "2025-04-13T03:00:35.576Z"
   },
   {
    "duration": 425,
    "start_time": "2025-04-13T03:00:35.592Z"
   },
   {
    "duration": 488,
    "start_time": "2025-04-13T03:00:36.023Z"
   },
   {
    "duration": 17,
    "start_time": "2025-04-13T03:00:36.513Z"
   },
   {
    "duration": 727,
    "start_time": "2025-04-13T03:00:36.532Z"
   },
   {
    "duration": 3,
    "start_time": "2025-04-13T03:00:37.261Z"
   },
   {
    "duration": 22,
    "start_time": "2025-04-13T03:00:37.266Z"
   },
   {
    "duration": 1139,
    "start_time": "2025-04-13T03:00:37.290Z"
   },
   {
    "duration": 4,
    "start_time": "2025-04-13T03:00:38.431Z"
   },
   {
    "duration": 40,
    "start_time": "2025-04-13T03:00:38.437Z"
   },
   {
    "duration": 10,
    "start_time": "2025-04-13T03:00:38.482Z"
   },
   {
    "duration": 3,
    "start_time": "2025-04-13T03:00:38.493Z"
   },
   {
    "duration": 30,
    "start_time": "2025-04-13T03:00:38.498Z"
   },
   {
    "duration": 4,
    "start_time": "2025-04-13T03:00:38.530Z"
   },
   {
    "duration": 5,
    "start_time": "2025-04-13T03:00:38.535Z"
   },
   {
    "duration": 4,
    "start_time": "2025-04-13T03:00:38.541Z"
   },
   {
    "duration": 8,
    "start_time": "2025-04-13T03:00:38.547Z"
   },
   {
    "duration": 3,
    "start_time": "2025-04-13T03:00:38.557Z"
   },
   {
    "duration": 4,
    "start_time": "2025-04-13T03:00:38.562Z"
   },
   {
    "duration": 5597,
    "start_time": "2025-04-13T03:00:38.567Z"
   },
   {
    "duration": 558,
    "start_time": "2025-04-13T03:00:44.166Z"
   },
   {
    "duration": 2862,
    "start_time": "2025-04-13T06:25:46.462Z"
   },
   {
    "duration": 270,
    "start_time": "2025-04-13T06:25:49.327Z"
   },
   {
    "duration": 13,
    "start_time": "2025-04-13T06:25:49.599Z"
   },
   {
    "duration": 128,
    "start_time": "2025-04-13T06:25:49.615Z"
   },
   {
    "duration": 23,
    "start_time": "2025-04-13T06:25:49.745Z"
   },
   {
    "duration": 370,
    "start_time": "2025-04-13T06:25:49.772Z"
   },
   {
    "duration": 14,
    "start_time": "2025-04-13T06:25:50.144Z"
   },
   {
    "duration": 2,
    "start_time": "2025-04-13T06:25:50.160Z"
   },
   {
    "duration": 6,
    "start_time": "2025-04-13T06:25:50.164Z"
   },
   {
    "duration": 37,
    "start_time": "2025-04-13T06:25:50.173Z"
   },
   {
    "duration": 4,
    "start_time": "2025-04-13T06:25:50.212Z"
   },
   {
    "duration": 8,
    "start_time": "2025-04-13T06:25:50.218Z"
   },
   {
    "duration": 4,
    "start_time": "2025-04-13T06:25:50.227Z"
   },
   {
    "duration": 4,
    "start_time": "2025-04-13T06:25:50.233Z"
   },
   {
    "duration": 9,
    "start_time": "2025-04-13T06:25:50.239Z"
   },
   {
    "duration": 14,
    "start_time": "2025-04-13T06:25:50.250Z"
   },
   {
    "duration": 39,
    "start_time": "2025-04-13T06:25:50.266Z"
   },
   {
    "duration": 8,
    "start_time": "2025-04-13T06:25:50.308Z"
   },
   {
    "duration": 8,
    "start_time": "2025-04-13T06:25:50.318Z"
   },
   {
    "duration": 11,
    "start_time": "2025-04-13T06:25:50.327Z"
   },
   {
    "duration": 4,
    "start_time": "2025-04-13T06:33:34.110Z"
   },
   {
    "duration": 275,
    "start_time": "2025-04-13T06:33:34.116Z"
   },
   {
    "duration": 18,
    "start_time": "2025-04-13T06:33:34.393Z"
   },
   {
    "duration": 75,
    "start_time": "2025-04-13T06:33:34.412Z"
   },
   {
    "duration": 22,
    "start_time": "2025-04-13T06:33:34.490Z"
   },
   {
    "duration": 303,
    "start_time": "2025-04-13T06:33:34.513Z"
   },
   {
    "duration": 12,
    "start_time": "2025-04-13T06:33:34.818Z"
   },
   {
    "duration": 2,
    "start_time": "2025-04-13T06:33:34.833Z"
   },
   {
    "duration": 4,
    "start_time": "2025-04-13T06:33:34.837Z"
   },
   {
    "duration": 7,
    "start_time": "2025-04-13T06:33:34.843Z"
   },
   {
    "duration": 4,
    "start_time": "2025-04-13T06:33:34.851Z"
   },
   {
    "duration": 3,
    "start_time": "2025-04-13T06:33:34.857Z"
   },
   {
    "duration": 2,
    "start_time": "2025-04-13T06:33:34.865Z"
   },
   {
    "duration": 3,
    "start_time": "2025-04-13T06:33:34.905Z"
   },
   {
    "duration": 9,
    "start_time": "2025-04-13T06:33:34.910Z"
   },
   {
    "duration": 13,
    "start_time": "2025-04-13T06:33:34.924Z"
   },
   {
    "duration": 7,
    "start_time": "2025-04-13T06:33:34.939Z"
   },
   {
    "duration": 9,
    "start_time": "2025-04-13T06:33:34.948Z"
   },
   {
    "duration": 8,
    "start_time": "2025-04-13T06:33:34.961Z"
   },
   {
    "duration": 24,
    "start_time": "2025-04-13T06:33:35.006Z"
   },
   {
    "duration": 5,
    "start_time": "2025-04-13T06:33:35.031Z"
   },
   {
    "duration": 103,
    "start_time": "2025-04-13T06:33:35.037Z"
   },
   {
    "duration": 6,
    "start_time": "2025-04-13T06:33:35.141Z"
   },
   {
    "duration": 4,
    "start_time": "2025-04-13T06:33:35.149Z"
   },
   {
    "duration": 6,
    "start_time": "2025-04-13T06:33:35.154Z"
   },
   {
    "duration": 6,
    "start_time": "2025-04-13T06:33:35.162Z"
   },
   {
    "duration": 47,
    "start_time": "2025-04-13T06:33:35.169Z"
   },
   {
    "duration": 57,
    "start_time": "2025-04-13T06:33:35.217Z"
   },
   {
    "duration": 2,
    "start_time": "2025-04-13T06:33:35.276Z"
   },
   {
    "duration": 2033,
    "start_time": "2025-04-13T06:33:35.280Z"
   },
   {
    "duration": 4,
    "start_time": "2025-04-13T06:33:37.315Z"
   },
   {
    "duration": 474,
    "start_time": "2025-04-13T06:33:37.321Z"
   },
   {
    "duration": 501,
    "start_time": "2025-04-13T06:33:37.797Z"
   },
   {
    "duration": 13,
    "start_time": "2025-04-13T06:33:38.299Z"
   },
   {
    "duration": 747,
    "start_time": "2025-04-13T06:33:38.315Z"
   },
   {
    "duration": 3,
    "start_time": "2025-04-13T06:33:39.064Z"
   },
   {
    "duration": 19,
    "start_time": "2025-04-13T06:33:39.072Z"
   },
   {
    "duration": 1060,
    "start_time": "2025-04-13T06:33:39.106Z"
   },
   {
    "duration": 3,
    "start_time": "2025-04-13T06:33:40.206Z"
   },
   {
    "duration": 32,
    "start_time": "2025-04-13T06:33:40.211Z"
   },
   {
    "duration": 10,
    "start_time": "2025-04-13T06:33:40.245Z"
   },
   {
    "duration": 3,
    "start_time": "2025-04-13T06:33:40.257Z"
   },
   {
    "duration": 5,
    "start_time": "2025-04-13T06:33:40.262Z"
   },
   {
    "duration": 3,
    "start_time": "2025-04-13T06:33:40.269Z"
   },
   {
    "duration": 34,
    "start_time": "2025-04-13T06:33:40.273Z"
   },
   {
    "duration": 3,
    "start_time": "2025-04-13T06:33:40.309Z"
   },
   {
    "duration": 7,
    "start_time": "2025-04-13T06:33:40.314Z"
   },
   {
    "duration": 2,
    "start_time": "2025-04-13T06:33:40.323Z"
   },
   {
    "duration": 3,
    "start_time": "2025-04-13T06:33:40.327Z"
   },
   {
    "duration": 5485,
    "start_time": "2025-04-13T06:33:40.331Z"
   },
   {
    "duration": 594,
    "start_time": "2025-04-13T06:33:45.818Z"
   },
   {
    "duration": 319517,
    "start_time": "2025-04-13T06:33:46.418Z"
   },
   {
    "duration": 76998,
    "start_time": "2025-04-13T06:39:05.937Z"
   },
   {
    "duration": 2901,
    "start_time": "2025-04-14T18:04:39.251Z"
   },
   {
    "duration": 255,
    "start_time": "2025-04-14T18:04:42.154Z"
   },
   {
    "duration": 14,
    "start_time": "2025-04-14T18:04:42.411Z"
   },
   {
    "duration": 90,
    "start_time": "2025-04-14T18:04:42.428Z"
   },
   {
    "duration": 11,
    "start_time": "2025-04-14T18:04:42.520Z"
   },
   {
    "duration": 392,
    "start_time": "2025-04-14T18:04:42.532Z"
   },
   {
    "duration": 13,
    "start_time": "2025-04-14T18:04:42.926Z"
   },
   {
    "duration": 3,
    "start_time": "2025-04-14T18:04:42.940Z"
   },
   {
    "duration": 5,
    "start_time": "2025-04-14T18:04:42.944Z"
   },
   {
    "duration": 7,
    "start_time": "2025-04-14T18:04:42.952Z"
   },
   {
    "duration": 4,
    "start_time": "2025-04-14T18:04:42.960Z"
   },
   {
    "duration": 3,
    "start_time": "2025-04-14T18:04:43.697Z"
   },
   {
    "duration": 4,
    "start_time": "2025-04-14T18:04:45.856Z"
   },
   {
    "duration": 3,
    "start_time": "2025-04-14T18:04:47.620Z"
   },
   {
    "duration": 9,
    "start_time": "2025-04-14T18:04:48.781Z"
   },
   {
    "duration": 14,
    "start_time": "2025-04-14T18:04:57.702Z"
   },
   {
    "duration": 8,
    "start_time": "2025-04-14T18:05:00.194Z"
   },
   {
    "duration": 9,
    "start_time": "2025-04-14T18:05:08.547Z"
   },
   {
    "duration": 7,
    "start_time": "2025-04-14T18:05:09.017Z"
   },
   {
    "duration": 27,
    "start_time": "2025-04-14T18:05:12.938Z"
   },
   {
    "duration": 5,
    "start_time": "2025-04-14T18:05:16.759Z"
   },
   {
    "duration": 23,
    "start_time": "2025-04-14T18:05:20.138Z"
   },
   {
    "duration": 6,
    "start_time": "2025-04-14T18:05:41.671Z"
   },
   {
    "duration": 9,
    "start_time": "2025-04-14T18:06:39.597Z"
   },
   {
    "duration": 4,
    "start_time": "2025-04-14T18:06:40.573Z"
   },
   {
    "duration": 7,
    "start_time": "2025-04-14T18:06:41.559Z"
   },
   {
    "duration": 7,
    "start_time": "2025-04-14T18:06:47.286Z"
   },
   {
    "duration": 20,
    "start_time": "2025-04-14T18:06:47.932Z"
   },
   {
    "duration": 59,
    "start_time": "2025-04-14T18:06:48.380Z"
   },
   {
    "duration": 6,
    "start_time": "2025-04-14T18:07:56.647Z"
   },
   {
    "duration": 5,
    "start_time": "2025-04-14T18:13:45.122Z"
   },
   {
    "duration": 5,
    "start_time": "2025-04-14T18:14:18.027Z"
   },
   {
    "duration": 5,
    "start_time": "2025-04-14T18:14:25.640Z"
   },
   {
    "duration": 256,
    "start_time": "2025-04-14T18:19:24.365Z"
   },
   {
    "duration": 3,
    "start_time": "2025-04-14T18:19:39.148Z"
   },
   {
    "duration": 5,
    "start_time": "2025-04-14T18:19:39.989Z"
   },
   {
    "duration": 3058,
    "start_time": "2025-04-14T18:19:41.035Z"
   },
   {
    "duration": 2424,
    "start_time": "2025-04-14T18:22:00.785Z"
   },
   {
    "duration": 2331,
    "start_time": "2025-04-14T18:24:03.440Z"
   },
   {
    "duration": 17,
    "start_time": "2025-04-14T18:26:51.171Z"
   },
   {
    "duration": 3,
    "start_time": "2025-04-14T18:26:57.624Z"
   },
   {
    "duration": 14,
    "start_time": "2025-04-14T18:26:58.337Z"
   },
   {
    "duration": 14,
    "start_time": "2025-04-14T18:26:59.030Z"
   },
   {
    "duration": 3,
    "start_time": "2025-04-14T18:27:07.336Z"
   },
   {
    "duration": 20,
    "start_time": "2025-04-14T18:27:08.206Z"
   },
   {
    "duration": 1202,
    "start_time": "2025-04-14T18:27:08.227Z"
   },
   {
    "duration": 3,
    "start_time": "2025-04-14T18:27:09.431Z"
   },
   {
    "duration": 41,
    "start_time": "2025-04-14T18:27:09.436Z"
   },
   {
    "duration": 30,
    "start_time": "2025-04-14T18:27:09.479Z"
   },
   {
    "duration": 3,
    "start_time": "2025-04-14T18:27:09.581Z"
   },
   {
    "duration": 6,
    "start_time": "2025-04-14T18:27:10.241Z"
   },
   {
    "duration": 3,
    "start_time": "2025-04-14T18:27:10.908Z"
   },
   {
    "duration": 3,
    "start_time": "2025-04-14T18:27:11.559Z"
   },
   {
    "duration": 4,
    "start_time": "2025-04-14T18:27:12.288Z"
   },
   {
    "duration": 8,
    "start_time": "2025-04-14T18:27:13.216Z"
   },
   {
    "duration": 2,
    "start_time": "2025-04-14T18:27:27.620Z"
   },
   {
    "duration": 3,
    "start_time": "2025-04-14T18:27:32.807Z"
   },
   {
    "duration": 5432,
    "start_time": "2025-04-14T18:27:35.263Z"
   },
   {
    "duration": 611,
    "start_time": "2025-04-14T18:27:40.698Z"
   },
   {
    "duration": 5445,
    "start_time": "2025-04-14T18:34:51.882Z"
   },
   {
    "duration": 162,
    "start_time": "2025-04-14T19:33:16.000Z"
   },
   {
    "duration": 2782,
    "start_time": "2025-04-14T19:33:38.312Z"
   },
   {
    "duration": 247,
    "start_time": "2025-04-14T19:33:41.097Z"
   },
   {
    "duration": 14,
    "start_time": "2025-04-14T19:33:41.345Z"
   },
   {
    "duration": 90,
    "start_time": "2025-04-14T19:33:41.362Z"
   },
   {
    "duration": 11,
    "start_time": "2025-04-14T19:33:41.454Z"
   },
   {
    "duration": 320,
    "start_time": "2025-04-14T19:33:41.466Z"
   },
   {
    "duration": 71,
    "start_time": "2025-04-14T19:33:41.788Z"
   },
   {
    "duration": 2,
    "start_time": "2025-04-14T19:33:41.861Z"
   },
   {
    "duration": 5,
    "start_time": "2025-04-14T19:33:41.865Z"
   },
   {
    "duration": 7,
    "start_time": "2025-04-14T19:33:41.873Z"
   },
   {
    "duration": 4,
    "start_time": "2025-04-14T19:33:41.882Z"
   },
   {
    "duration": 36,
    "start_time": "2025-04-14T19:33:41.888Z"
   },
   {
    "duration": 4,
    "start_time": "2025-04-14T19:33:41.925Z"
   },
   {
    "duration": 5,
    "start_time": "2025-04-14T19:33:41.930Z"
   },
   {
    "duration": 10,
    "start_time": "2025-04-14T19:33:41.940Z"
   },
   {
    "duration": 13,
    "start_time": "2025-04-14T19:33:41.952Z"
   },
   {
    "duration": 7,
    "start_time": "2025-04-14T19:33:41.967Z"
   },
   {
    "duration": 9,
    "start_time": "2025-04-14T19:33:41.975Z"
   },
   {
    "duration": 39,
    "start_time": "2025-04-14T19:33:41.985Z"
   },
   {
    "duration": 25,
    "start_time": "2025-04-14T19:33:42.026Z"
   },
   {
    "duration": 6,
    "start_time": "2025-04-14T19:33:42.053Z"
   },
   {
    "duration": 22,
    "start_time": "2025-04-14T19:33:42.061Z"
   },
   {
    "duration": 9,
    "start_time": "2025-04-14T19:33:42.084Z"
   },
   {
    "duration": 4,
    "start_time": "2025-04-14T19:33:42.094Z"
   },
   {
    "duration": 7,
    "start_time": "2025-04-14T19:33:42.123Z"
   },
   {
    "duration": 7,
    "start_time": "2025-04-14T19:33:42.133Z"
   },
   {
    "duration": 21,
    "start_time": "2025-04-14T19:33:42.141Z"
   },
   {
    "duration": 81,
    "start_time": "2025-04-14T19:33:42.167Z"
   },
   {
    "duration": 4,
    "start_time": "2025-04-14T19:33:42.250Z"
   },
   {
    "duration": 3,
    "start_time": "2025-04-14T19:33:42.255Z"
   },
   {
    "duration": 2263,
    "start_time": "2025-04-14T19:33:42.260Z"
   },
   {
    "duration": 4,
    "start_time": "2025-04-14T19:33:44.526Z"
   },
   {
    "duration": 475,
    "start_time": "2025-04-14T19:33:44.532Z"
   },
   {
    "duration": 501,
    "start_time": "2025-04-14T19:33:45.009Z"
   },
   {
    "duration": 9,
    "start_time": "2025-04-14T19:33:45.523Z"
   },
   {
    "duration": 738,
    "start_time": "2025-04-14T19:33:45.534Z"
   },
   {
    "duration": 3,
    "start_time": "2025-04-14T19:33:46.274Z"
   },
   {
    "duration": 20,
    "start_time": "2025-04-14T19:33:46.279Z"
   },
   {
    "duration": 1088,
    "start_time": "2025-04-14T19:33:46.300Z"
   },
   {
    "duration": 37,
    "start_time": "2025-04-14T19:33:47.389Z"
   },
   {
    "duration": 40,
    "start_time": "2025-04-14T19:33:47.428Z"
   },
   {
    "duration": 10,
    "start_time": "2025-04-14T19:33:47.470Z"
   },
   {
    "duration": 3,
    "start_time": "2025-04-14T19:33:47.481Z"
   },
   {
    "duration": 6,
    "start_time": "2025-04-14T19:33:47.486Z"
   },
   {
    "duration": 32,
    "start_time": "2025-04-14T19:33:47.494Z"
   },
   {
    "duration": 3,
    "start_time": "2025-04-14T19:33:47.528Z"
   },
   {
    "duration": 3,
    "start_time": "2025-04-14T19:33:47.533Z"
   },
   {
    "duration": 8,
    "start_time": "2025-04-14T19:33:47.538Z"
   },
   {
    "duration": 4,
    "start_time": "2025-04-14T19:33:47.548Z"
   },
   {
    "duration": 3,
    "start_time": "2025-04-14T19:33:47.553Z"
   },
   {
    "duration": 5866,
    "start_time": "2025-04-14T19:33:47.558Z"
   },
   {
    "duration": 509,
    "start_time": "2025-04-14T19:33:53.426Z"
   },
   {
    "duration": 325307,
    "start_time": "2025-04-14T19:33:53.937Z"
   },
   {
    "duration": 3,
    "start_time": "2025-04-14T19:39:19.247Z"
   },
   {
    "duration": 655129,
    "start_time": "2025-04-14T19:39:19.252Z"
   },
   {
    "duration": 78495,
    "start_time": "2025-04-14T19:50:14.383Z"
   },
   {
    "duration": 2465,
    "start_time": "2025-04-14T19:51:32.883Z"
   },
   {
    "duration": 188578,
    "start_time": "2025-04-14T19:51:35.354Z"
   },
   {
    "duration": 250,
    "start_time": "2025-04-14T19:57:50.835Z"
   },
   {
    "duration": 22,
    "start_time": "2025-04-14T19:58:28.585Z"
   },
   {
    "duration": 7,
    "start_time": "2025-04-14T19:59:50.279Z"
   },
   {
    "duration": 4,
    "start_time": "2025-04-14T20:00:33.848Z"
   },
   {
    "duration": 21,
    "start_time": "2025-04-14T20:00:46.430Z"
   },
   {
    "duration": 2,
    "start_time": "2025-04-14T20:01:57.221Z"
   },
   {
    "duration": 2899,
    "start_time": "2025-04-14T20:01:58.628Z"
   },
   {
    "duration": 3174,
    "start_time": "2025-04-14T20:02:26.721Z"
   },
   {
    "duration": 2754,
    "start_time": "2025-04-15T08:44:24.206Z"
   },
   {
    "duration": 259,
    "start_time": "2025-04-15T08:44:26.962Z"
   },
   {
    "duration": 13,
    "start_time": "2025-04-15T08:44:27.223Z"
   },
   {
    "duration": 94,
    "start_time": "2025-04-15T08:44:27.238Z"
   },
   {
    "duration": 12,
    "start_time": "2025-04-15T08:44:27.334Z"
   },
   {
    "duration": 328,
    "start_time": "2025-04-15T08:44:27.348Z"
   },
   {
    "duration": 12,
    "start_time": "2025-04-15T08:44:27.677Z"
   },
   {
    "duration": 2,
    "start_time": "2025-04-15T08:44:27.691Z"
   },
   {
    "duration": 16,
    "start_time": "2025-04-15T08:44:27.695Z"
   },
   {
    "duration": 8,
    "start_time": "2025-04-15T08:44:27.714Z"
   },
   {
    "duration": 4,
    "start_time": "2025-04-15T08:44:27.723Z"
   },
   {
    "duration": 4,
    "start_time": "2025-04-15T08:44:27.730Z"
   },
   {
    "duration": 4,
    "start_time": "2025-04-15T08:44:27.736Z"
   },
   {
    "duration": 3,
    "start_time": "2025-04-15T08:44:27.742Z"
   },
   {
    "duration": 8,
    "start_time": "2025-04-15T08:44:27.747Z"
   },
   {
    "duration": 552,
    "start_time": "2025-04-15T08:44:27.757Z"
   },
   {
    "duration": 0,
    "start_time": "2025-04-15T08:44:28.312Z"
   },
   {
    "duration": 0,
    "start_time": "2025-04-15T08:44:28.314Z"
   },
   {
    "duration": 0,
    "start_time": "2025-04-15T08:44:28.315Z"
   },
   {
    "duration": 0,
    "start_time": "2025-04-15T08:44:28.316Z"
   },
   {
    "duration": 0,
    "start_time": "2025-04-15T08:44:28.317Z"
   },
   {
    "duration": 0,
    "start_time": "2025-04-15T08:44:28.318Z"
   },
   {
    "duration": 0,
    "start_time": "2025-04-15T08:44:28.319Z"
   },
   {
    "duration": 0,
    "start_time": "2025-04-15T08:44:28.321Z"
   },
   {
    "duration": 1,
    "start_time": "2025-04-15T08:44:28.322Z"
   },
   {
    "duration": 0,
    "start_time": "2025-04-15T08:44:28.324Z"
   },
   {
    "duration": 0,
    "start_time": "2025-04-15T08:44:28.325Z"
   },
   {
    "duration": 0,
    "start_time": "2025-04-15T08:44:28.326Z"
   },
   {
    "duration": 0,
    "start_time": "2025-04-15T08:44:28.329Z"
   },
   {
    "duration": 0,
    "start_time": "2025-04-15T08:44:28.330Z"
   },
   {
    "duration": 0,
    "start_time": "2025-04-15T08:44:28.331Z"
   },
   {
    "duration": 0,
    "start_time": "2025-04-15T08:44:28.333Z"
   },
   {
    "duration": 0,
    "start_time": "2025-04-15T08:44:28.335Z"
   },
   {
    "duration": 0,
    "start_time": "2025-04-15T08:44:28.336Z"
   },
   {
    "duration": 0,
    "start_time": "2025-04-15T08:44:28.338Z"
   },
   {
    "duration": 0,
    "start_time": "2025-04-15T08:44:28.339Z"
   },
   {
    "duration": 0,
    "start_time": "2025-04-15T08:44:28.341Z"
   },
   {
    "duration": 0,
    "start_time": "2025-04-15T08:44:28.342Z"
   },
   {
    "duration": 0,
    "start_time": "2025-04-15T08:44:28.344Z"
   },
   {
    "duration": 0,
    "start_time": "2025-04-15T08:44:28.345Z"
   },
   {
    "duration": 0,
    "start_time": "2025-04-15T08:44:28.347Z"
   },
   {
    "duration": 0,
    "start_time": "2025-04-15T08:44:28.348Z"
   },
   {
    "duration": 0,
    "start_time": "2025-04-15T08:44:28.349Z"
   },
   {
    "duration": 0,
    "start_time": "2025-04-15T08:44:28.351Z"
   },
   {
    "duration": 0,
    "start_time": "2025-04-15T08:44:28.409Z"
   },
   {
    "duration": 1,
    "start_time": "2025-04-15T08:44:28.409Z"
   },
   {
    "duration": 0,
    "start_time": "2025-04-15T08:44:28.412Z"
   },
   {
    "duration": 0,
    "start_time": "2025-04-15T08:44:28.413Z"
   },
   {
    "duration": 0,
    "start_time": "2025-04-15T08:44:28.414Z"
   },
   {
    "duration": 0,
    "start_time": "2025-04-15T08:44:28.416Z"
   },
   {
    "duration": 0,
    "start_time": "2025-04-15T08:44:28.417Z"
   },
   {
    "duration": 0,
    "start_time": "2025-04-15T08:44:28.418Z"
   },
   {
    "duration": 0,
    "start_time": "2025-04-15T08:44:28.418Z"
   },
   {
    "duration": 0,
    "start_time": "2025-04-15T08:44:28.419Z"
   },
   {
    "duration": 1,
    "start_time": "2025-04-15T08:44:28.420Z"
   },
   {
    "duration": 0,
    "start_time": "2025-04-15T08:44:28.421Z"
   },
   {
    "duration": 0,
    "start_time": "2025-04-15T08:44:28.422Z"
   },
   {
    "duration": 48,
    "start_time": "2025-04-15T08:45:52.229Z"
   },
   {
    "duration": 5,
    "start_time": "2025-04-15T08:46:13.670Z"
   },
   {
    "duration": 5,
    "start_time": "2025-04-15T08:46:21.138Z"
   },
   {
    "duration": 5,
    "start_time": "2025-04-15T08:47:11.226Z"
   },
   {
    "duration": 4,
    "start_time": "2025-04-15T08:47:24.344Z"
   },
   {
    "duration": 6,
    "start_time": "2025-04-15T08:47:29.365Z"
   },
   {
    "duration": 6,
    "start_time": "2025-04-15T08:47:29.974Z"
   },
   {
    "duration": 5,
    "start_time": "2025-04-15T08:47:30.472Z"
   },
   {
    "duration": 21,
    "start_time": "2025-04-15T08:47:31.229Z"
   },
   {
    "duration": 6,
    "start_time": "2025-04-15T08:47:32.062Z"
   },
   {
    "duration": 3,
    "start_time": "2025-04-15T08:47:35.941Z"
   },
   {
    "duration": 734,
    "start_time": "2025-04-15T08:47:36.677Z"
   },
   {
    "duration": 3,
    "start_time": "2025-04-15T08:48:10.642Z"
   },
   {
    "duration": 33,
    "start_time": "2025-04-15T08:48:45.014Z"
   },
   {
    "duration": 5,
    "start_time": "2025-04-15T08:48:57.546Z"
   },
   {
    "duration": 31,
    "start_time": "2025-04-15T08:48:58.084Z"
   },
   {
    "duration": 2,
    "start_time": "2025-04-15T08:49:18.898Z"
   },
   {
    "duration": 32,
    "start_time": "2025-04-15T08:49:19.533Z"
   },
   {
    "duration": 1025,
    "start_time": "2025-04-15T08:49:37.535Z"
   },
   {
    "duration": 226,
    "start_time": "2025-04-15T08:49:38.562Z"
   },
   {
    "duration": 12,
    "start_time": "2025-04-15T08:49:38.855Z"
   },
   {
    "duration": 68,
    "start_time": "2025-04-15T08:49:45.333Z"
   },
   {
    "duration": 10,
    "start_time": "2025-04-15T08:50:04.354Z"
   },
   {
    "duration": 267,
    "start_time": "2025-04-15T08:50:05.199Z"
   },
   {
    "duration": 13,
    "start_time": "2025-04-15T08:50:06.717Z"
   },
   {
    "duration": 3,
    "start_time": "2025-04-15T08:50:15.828Z"
   },
   {
    "duration": 5,
    "start_time": "2025-04-15T08:50:16.813Z"
   },
   {
    "duration": 14,
    "start_time": "2025-04-15T08:50:18.933Z"
   },
   {
    "duration": 5,
    "start_time": "2025-04-15T08:50:19.873Z"
   },
   {
    "duration": 4,
    "start_time": "2025-04-15T08:50:22.124Z"
   },
   {
    "duration": 3,
    "start_time": "2025-04-15T08:50:27.518Z"
   },
   {
    "duration": 3,
    "start_time": "2025-04-15T08:50:57.758Z"
   },
   {
    "duration": 8,
    "start_time": "2025-04-15T08:51:15.417Z"
   },
   {
    "duration": 14,
    "start_time": "2025-04-15T08:52:45.078Z"
   },
   {
    "duration": 528,
    "start_time": "2025-04-15T08:53:03.042Z"
   },
   {
    "duration": 49,
    "start_time": "2025-04-15T08:53:14.301Z"
   },
   {
    "duration": 4,
    "start_time": "2025-04-15T08:53:26.624Z"
   },
   {
    "duration": 32,
    "start_time": "2025-04-15T08:53:30.635Z"
   },
   {
    "duration": 34,
    "start_time": "2025-04-15T08:53:53.401Z"
   },
   {
    "duration": 33,
    "start_time": "2025-04-15T08:53:57.413Z"
   },
   {
    "duration": 4,
    "start_time": "2025-04-15T08:54:07.235Z"
   },
   {
    "duration": 218,
    "start_time": "2025-04-15T08:54:07.518Z"
   },
   {
    "duration": 12,
    "start_time": "2025-04-15T08:54:07.822Z"
   },
   {
    "duration": 67,
    "start_time": "2025-04-15T08:54:08.122Z"
   },
   {
    "duration": 9,
    "start_time": "2025-04-15T08:54:08.401Z"
   },
   {
    "duration": 287,
    "start_time": "2025-04-15T08:54:08.667Z"
   },
   {
    "duration": 12,
    "start_time": "2025-04-15T08:54:08.995Z"
   },
   {
    "duration": 2,
    "start_time": "2025-04-15T08:54:10.245Z"
   },
   {
    "duration": 5,
    "start_time": "2025-04-15T08:54:10.628Z"
   },
   {
    "duration": 6,
    "start_time": "2025-04-15T08:54:10.874Z"
   },
   {
    "duration": 4,
    "start_time": "2025-04-15T08:54:12.658Z"
   },
   {
    "duration": 4,
    "start_time": "2025-04-15T08:54:17.039Z"
   },
   {
    "duration": 3,
    "start_time": "2025-04-15T08:54:21.081Z"
   },
   {
    "duration": 3,
    "start_time": "2025-04-15T08:54:27.108Z"
   },
   {
    "duration": 9,
    "start_time": "2025-04-15T08:54:28.670Z"
   },
   {
    "duration": 14,
    "start_time": "2025-04-15T08:54:35.006Z"
   },
   {
    "duration": 7,
    "start_time": "2025-04-15T08:54:54.490Z"
   },
   {
    "duration": 10,
    "start_time": "2025-04-15T08:55:02.136Z"
   },
   {
    "duration": 9,
    "start_time": "2025-04-15T08:55:02.630Z"
   },
   {
    "duration": 30,
    "start_time": "2025-04-15T08:55:09.497Z"
   },
   {
    "duration": 5,
    "start_time": "2025-04-15T08:55:11.773Z"
   },
   {
    "duration": 100,
    "start_time": "2025-04-15T08:55:12.163Z"
   },
   {
    "duration": 6,
    "start_time": "2025-04-15T08:55:13.814Z"
   },
   {
    "duration": 4,
    "start_time": "2025-04-15T08:55:15.762Z"
   },
   {
    "duration": 6,
    "start_time": "2025-04-15T08:55:20.818Z"
   },
   {
    "duration": 5,
    "start_time": "2025-04-15T08:55:25.663Z"
   },
   {
    "duration": 57,
    "start_time": "2025-04-15T08:55:26.667Z"
   },
   {
    "duration": 3,
    "start_time": "2025-04-15T08:55:31.181Z"
   },
   {
    "duration": 2678,
    "start_time": "2025-04-15T08:55:31.612Z"
   },
   {
    "duration": 4,
    "start_time": "2025-04-15T08:55:42.799Z"
   },
   {
    "duration": 289,
    "start_time": "2025-04-15T08:55:43.368Z"
   },
   {
    "duration": 43,
    "start_time": "2025-04-15T08:55:45.248Z"
   },
   {
    "duration": 26,
    "start_time": "2025-04-15T08:59:57.531Z"
   },
   {
    "duration": 4,
    "start_time": "2025-04-15T09:00:04.735Z"
   },
   {
    "duration": 218,
    "start_time": "2025-04-15T09:00:05.039Z"
   },
   {
    "duration": 12,
    "start_time": "2025-04-15T09:00:05.339Z"
   },
   {
    "duration": 56,
    "start_time": "2025-04-15T09:00:05.618Z"
   },
   {
    "duration": 10,
    "start_time": "2025-04-15T09:00:05.869Z"
   },
   {
    "duration": 266,
    "start_time": "2025-04-15T09:00:06.113Z"
   },
   {
    "duration": 13,
    "start_time": "2025-04-15T09:00:06.382Z"
   },
   {
    "duration": 2,
    "start_time": "2025-04-15T09:00:07.587Z"
   },
   {
    "duration": 5,
    "start_time": "2025-04-15T09:00:08.130Z"
   },
   {
    "duration": 8,
    "start_time": "2025-04-15T09:00:08.590Z"
   },
   {
    "duration": 5,
    "start_time": "2025-04-15T09:00:09.042Z"
   },
   {
    "duration": 4,
    "start_time": "2025-04-15T09:00:10.490Z"
   },
   {
    "duration": 3,
    "start_time": "2025-04-15T09:00:12.665Z"
   },
   {
    "duration": 3,
    "start_time": "2025-04-15T09:00:15.066Z"
   },
   {
    "duration": 8,
    "start_time": "2025-04-15T09:00:15.650Z"
   },
   {
    "duration": 2,
    "start_time": "2025-04-15T09:00:16.201Z"
   },
   {
    "duration": 11,
    "start_time": "2025-04-15T09:00:16.904Z"
   },
   {
    "duration": 7,
    "start_time": "2025-04-15T09:00:19.021Z"
   },
   {
    "duration": 9,
    "start_time": "2025-04-15T09:00:20.454Z"
   },
   {
    "duration": 8,
    "start_time": "2025-04-15T09:00:21.470Z"
   },
   {
    "duration": 25,
    "start_time": "2025-04-15T09:00:26.798Z"
   },
   {
    "duration": 6,
    "start_time": "2025-04-15T09:00:28.053Z"
   },
   {
    "duration": 5,
    "start_time": "2025-04-15T09:00:52.770Z"
   },
   {
    "duration": 4,
    "start_time": "2025-04-15T09:01:08.026Z"
   },
   {
    "duration": 5,
    "start_time": "2025-04-15T09:01:42.016Z"
   },
   {
    "duration": 3,
    "start_time": "2025-04-15T09:01:51.454Z"
   },
   {
    "duration": 212,
    "start_time": "2025-04-15T09:01:51.754Z"
   },
   {
    "duration": 12,
    "start_time": "2025-04-15T09:01:52.191Z"
   },
   {
    "duration": 59,
    "start_time": "2025-04-15T09:01:52.625Z"
   },
   {
    "duration": 11,
    "start_time": "2025-04-15T09:01:53.248Z"
   },
   {
    "duration": 272,
    "start_time": "2025-04-15T09:01:53.955Z"
   },
   {
    "duration": 13,
    "start_time": "2025-04-15T09:01:54.722Z"
   },
   {
    "duration": 3,
    "start_time": "2025-04-15T09:01:57.521Z"
   },
   {
    "duration": 5,
    "start_time": "2025-04-15T09:01:58.036Z"
   },
   {
    "duration": 8,
    "start_time": "2025-04-15T09:01:58.572Z"
   },
   {
    "duration": 5,
    "start_time": "2025-04-15T09:01:59.397Z"
   },
   {
    "duration": 4,
    "start_time": "2025-04-15T09:02:01.248Z"
   },
   {
    "duration": 3,
    "start_time": "2025-04-15T09:02:03.306Z"
   },
   {
    "duration": 2,
    "start_time": "2025-04-15T09:02:05.833Z"
   },
   {
    "duration": 8,
    "start_time": "2025-04-15T09:02:06.428Z"
   },
   {
    "duration": 2,
    "start_time": "2025-04-15T09:02:07.018Z"
   },
   {
    "duration": 12,
    "start_time": "2025-04-15T09:02:09.499Z"
   },
   {
    "duration": 8,
    "start_time": "2025-04-15T09:02:11.807Z"
   },
   {
    "duration": 8,
    "start_time": "2025-04-15T09:02:12.592Z"
   },
   {
    "duration": 7,
    "start_time": "2025-04-15T09:02:13.355Z"
   },
   {
    "duration": 25,
    "start_time": "2025-04-15T09:02:15.471Z"
   },
   {
    "duration": 6,
    "start_time": "2025-04-15T09:02:16.090Z"
   },
   {
    "duration": 6,
    "start_time": "2025-04-15T09:04:16.224Z"
   },
   {
    "duration": 7,
    "start_time": "2025-04-15T09:04:17.780Z"
   },
   {
    "duration": 5,
    "start_time": "2025-04-15T09:04:24.641Z"
   },
   {
    "duration": 20,
    "start_time": "2025-04-15T09:04:25.473Z"
   },
   {
    "duration": 7,
    "start_time": "2025-04-15T09:04:33.339Z"
   },
   {
    "duration": 5,
    "start_time": "2025-04-15T09:04:36.656Z"
   },
   {
    "duration": 6,
    "start_time": "2025-04-15T09:04:36.983Z"
   },
   {
    "duration": 6,
    "start_time": "2025-04-15T09:04:37.805Z"
   },
   {
    "duration": 19,
    "start_time": "2025-04-15T09:04:38.833Z"
   },
   {
    "duration": 56,
    "start_time": "2025-04-15T09:04:39.630Z"
   },
   {
    "duration": 3,
    "start_time": "2025-04-15T09:04:43.576Z"
   },
   {
    "duration": 2816,
    "start_time": "2025-04-15T09:04:44.075Z"
   },
   {
    "duration": 3,
    "start_time": "2025-04-15T09:04:46.894Z"
   },
   {
    "duration": 407,
    "start_time": "2025-04-15T09:04:48.385Z"
   },
   {
    "duration": 423,
    "start_time": "2025-04-15T09:04:50.067Z"
   },
   {
    "duration": 8,
    "start_time": "2025-04-15T09:04:56.228Z"
   },
   {
    "duration": 720,
    "start_time": "2025-04-15T09:04:56.710Z"
   },
   {
    "duration": 2,
    "start_time": "2025-04-15T09:05:02.091Z"
   },
   {
    "duration": 14,
    "start_time": "2025-04-15T09:05:02.617Z"
   },
   {
    "duration": 1116,
    "start_time": "2025-04-15T09:05:03.055Z"
   },
   {
    "duration": 36,
    "start_time": "2025-04-15T09:05:04.173Z"
   },
   {
    "duration": 34,
    "start_time": "2025-04-15T09:05:06.985Z"
   },
   {
    "duration": 11,
    "start_time": "2025-04-15T09:05:07.496Z"
   },
   {
    "duration": 3,
    "start_time": "2025-04-15T09:05:13.448Z"
   },
   {
    "duration": 6,
    "start_time": "2025-04-15T09:05:15.736Z"
   },
   {
    "duration": 4,
    "start_time": "2025-04-15T09:05:16.510Z"
   },
   {
    "duration": 3,
    "start_time": "2025-04-15T09:05:17.822Z"
   },
   {
    "duration": 3,
    "start_time": "2025-04-15T09:05:18.942Z"
   },
   {
    "duration": 8,
    "start_time": "2025-04-15T09:05:20.777Z"
   },
   {
    "duration": 2,
    "start_time": "2025-04-15T09:05:25.801Z"
   },
   {
    "duration": 3,
    "start_time": "2025-04-15T09:05:30.827Z"
   },
   {
    "duration": 5431,
    "start_time": "2025-04-15T09:05:32.371Z"
   },
   {
    "duration": 700,
    "start_time": "2025-04-15T09:05:37.808Z"
   },
   {
    "duration": 318602,
    "start_time": "2025-04-15T09:05:38.512Z"
   },
   {
    "duration": 3,
    "start_time": "2025-04-15T09:10:57.117Z"
   },
   {
    "duration": 632785,
    "start_time": "2025-04-15T09:10:57.121Z"
   },
   {
    "duration": 159517,
    "start_time": "2025-04-15T09:21:29.910Z"
   },
   {
    "duration": 27,
    "start_time": "2025-04-15T09:24:09.429Z"
   },
   {
    "duration": 5,
    "start_time": "2025-04-15T09:24:09.457Z"
   },
   {
    "duration": 2866,
    "start_time": "2025-04-15T18:36:26.893Z"
   },
   {
    "duration": 270,
    "start_time": "2025-04-15T18:36:29.761Z"
   },
   {
    "duration": 12,
    "start_time": "2025-04-15T18:36:30.033Z"
   },
   {
    "duration": 135,
    "start_time": "2025-04-15T18:36:30.048Z"
   },
   {
    "duration": 11,
    "start_time": "2025-04-15T18:36:30.185Z"
   },
   {
    "duration": 305,
    "start_time": "2025-04-15T18:36:30.197Z"
   },
   {
    "duration": 67,
    "start_time": "2025-04-15T18:36:30.504Z"
   },
   {
    "duration": 3,
    "start_time": "2025-04-15T18:36:30.573Z"
   },
   {
    "duration": 6,
    "start_time": "2025-04-15T18:36:30.577Z"
   },
   {
    "duration": 7,
    "start_time": "2025-04-15T18:36:30.587Z"
   },
   {
    "duration": 5,
    "start_time": "2025-04-15T18:36:30.612Z"
   },
   {
    "duration": 4,
    "start_time": "2025-04-15T18:36:30.618Z"
   },
   {
    "duration": 3,
    "start_time": "2025-04-15T18:36:30.623Z"
   },
   {
    "duration": 5,
    "start_time": "2025-04-15T18:36:30.629Z"
   },
   {
    "duration": 8,
    "start_time": "2025-04-15T18:36:30.636Z"
   },
   {
    "duration": 9,
    "start_time": "2025-04-15T18:36:30.645Z"
   },
   {
    "duration": 10,
    "start_time": "2025-04-15T18:36:30.656Z"
   },
   {
    "duration": 6,
    "start_time": "2025-04-15T18:36:30.667Z"
   },
   {
    "duration": 43,
    "start_time": "2025-04-15T18:36:30.675Z"
   },
   {
    "duration": 8,
    "start_time": "2025-04-15T18:36:30.719Z"
   },
   {
    "duration": 24,
    "start_time": "2025-04-15T18:36:30.729Z"
   },
   {
    "duration": 6,
    "start_time": "2025-04-15T18:36:30.754Z"
   },
   {
    "duration": 5,
    "start_time": "2025-04-15T18:36:30.762Z"
   },
   {
    "duration": 5,
    "start_time": "2025-04-15T18:36:30.769Z"
   },
   {
    "duration": 40,
    "start_time": "2025-04-15T18:36:30.775Z"
   },
   {
    "duration": 20,
    "start_time": "2025-04-15T18:36:30.816Z"
   },
   {
    "duration": 6,
    "start_time": "2025-04-15T18:36:37.959Z"
   },
   {
    "duration": 4,
    "start_time": "2025-04-15T18:36:37.967Z"
   },
   {
    "duration": 6,
    "start_time": "2025-04-15T18:36:37.973Z"
   },
   {
    "duration": 6,
    "start_time": "2025-04-15T18:36:37.981Z"
   },
   {
    "duration": 20,
    "start_time": "2025-04-15T18:36:37.989Z"
   },
   {
    "duration": 93,
    "start_time": "2025-04-15T18:36:38.010Z"
   },
   {
    "duration": 2,
    "start_time": "2025-04-15T18:36:38.112Z"
   },
   {
    "duration": 3069,
    "start_time": "2025-04-15T18:36:38.116Z"
   },
   {
    "duration": 3,
    "start_time": "2025-04-15T18:36:41.187Z"
   },
   {
    "duration": 489,
    "start_time": "2025-04-15T18:36:41.192Z"
   },
   {
    "duration": 420,
    "start_time": "2025-04-15T18:36:41.682Z"
   },
   {
    "duration": 14,
    "start_time": "2025-04-15T18:36:42.103Z"
   },
   {
    "duration": 697,
    "start_time": "2025-04-15T18:36:42.120Z"
   },
   {
    "duration": 3,
    "start_time": "2025-04-15T18:36:42.818Z"
   },
   {
    "duration": 16,
    "start_time": "2025-04-15T18:36:42.823Z"
   },
   {
    "duration": 1134,
    "start_time": "2025-04-15T18:36:42.841Z"
   },
   {
    "duration": 4,
    "start_time": "2025-04-15T18:36:43.976Z"
   },
   {
    "duration": 69,
    "start_time": "2025-04-15T18:36:43.981Z"
   },
   {
    "duration": 11,
    "start_time": "2025-04-15T18:36:44.053Z"
   },
   {
    "duration": 6,
    "start_time": "2025-04-15T18:36:44.066Z"
   },
   {
    "duration": 7,
    "start_time": "2025-04-15T18:36:44.073Z"
   },
   {
    "duration": 4,
    "start_time": "2025-04-15T18:36:44.081Z"
   },
   {
    "duration": 26,
    "start_time": "2025-04-15T18:36:44.087Z"
   },
   {
    "duration": 3,
    "start_time": "2025-04-15T18:36:44.114Z"
   },
   {
    "duration": 8,
    "start_time": "2025-04-15T18:36:44.119Z"
   },
   {
    "duration": 2,
    "start_time": "2025-04-15T18:36:44.128Z"
   },
   {
    "duration": 3,
    "start_time": "2025-04-15T18:36:44.132Z"
   },
   {
    "duration": 4959,
    "start_time": "2025-04-15T18:36:44.138Z"
   },
   {
    "duration": 815,
    "start_time": "2025-04-15T18:36:49.100Z"
   },
   {
    "duration": 4,
    "start_time": "2025-04-15T18:36:49.916Z"
   },
   {
    "duration": 5,
    "start_time": "2025-04-15T18:36:49.922Z"
   },
   {
    "duration": 576797,
    "start_time": "2025-04-15T18:36:49.929Z"
   },
   {
    "duration": 38936,
    "start_time": "2025-04-15T18:46:26.728Z"
   },
   {
    "duration": 0,
    "start_time": "2025-04-15T18:47:05.666Z"
   }
  ],
  "kernelspec": {
   "display_name": "Python 3 (ipykernel)",
   "language": "python",
   "name": "python3"
  },
  "language_info": {
   "codemirror_mode": {
    "name": "ipython",
    "version": 3
   },
   "file_extension": ".py",
   "mimetype": "text/x-python",
   "name": "python",
   "nbconvert_exporter": "python",
   "pygments_lexer": "ipython3",
   "version": "3.12.7"
  },
  "toc": {
   "base_numbering": 1,
   "nav_menu": {},
   "number_sections": true,
   "sideBar": true,
   "skip_h1_title": true,
   "title_cell": "Table of Contents",
   "title_sidebar": "Contents",
   "toc_cell": false,
   "toc_position": {
    "height": "calc(100% - 180px)",
    "left": "10px",
    "top": "150px",
    "width": "227.6px"
   },
   "toc_section_display": true,
   "toc_window_display": true
  }
 },
 "nbformat": 4,
 "nbformat_minor": 4
}
