{
 "cells": [
  {
   "cell_type": "markdown",
   "metadata": {},
   "source": [
    "# Title : Predict the amount of taxi orders for the next hour"
   ]
  },
  {
   "cell_type": "markdown",
   "metadata": {},
   "source": [
    "# Project description\n",
    "\n",
    "Sweet Lift Taxi company has collected historical data on taxi orders at airports. To attract more drivers during peak hours, we need to predict the amount of taxi orders for the next hour. Build a model for such a prediction.\n",
    "\n",
    "The RMSE metric on the test set should not be more than 48.\n",
    "\n",
    "## Project instructions\n",
    "\n",
    "1. Download the data and resample it by one hour.\n",
    "2. Analyze the data.\n",
    "3. Train different models with different hyperparameters. The test sample should be 10% of the initial dataset. \n",
    "4. Test the data using the test sample and provide a conclusion.\n",
    "\n",
    "## Data description\n",
    "\n",
    "The data is stored in file `taxi.csv`. The number of orders is in the '*num_orders*' column."
   ]
  },
  {
   "cell_type": "markdown",
   "metadata": {},
   "source": [
    "## Preparation"
   ]
  },
  {
   "cell_type": "code",
   "execution_count": 1,
   "metadata": {},
   "outputs": [],
   "source": [
    "#Download all the important libraries\n",
    "import pandas as pd\n",
    "import matplotlib.pyplot as plt\n",
    "import numpy as np\n",
    "import time\n",
    "from sklearn.model_selection import train_test_split\n",
    "from sklearn.linear_model import LinearRegression\n",
    "from sklearn.ensemble import RandomForestRegressor\n",
    "from sklearn.ensemble import GradientBoostingRegressor\n",
    "from xgboost import XGBRegressor\n",
    "from catboost import CatBoostRegressor\n",
    "from sklearn.model_selection import RandomizedSearchCV\n",
    "from statsmodels.graphics.tsaplots import plot_acf, plot_pacf\n",
    "from statsmodels.tsa.stattools import adfuller\n",
    "from sklearn.metrics import mean_squared_error\n",
    "from statsmodels.tsa.statespace.sarimax import SARIMAX\n",
    "from statsmodels.tsa.seasonal import seasonal_decompose\n",
    "from statsmodels.tsa.ar_model import AutoReg, ar_select_order"
   ]
  },
  {
   "cell_type": "code",
   "execution_count": 2,
   "metadata": {},
   "outputs": [
    {
     "data": {
      "text/html": [
       "<div>\n",
       "<style scoped>\n",
       "    .dataframe tbody tr th:only-of-type {\n",
       "        vertical-align: middle;\n",
       "    }\n",
       "\n",
       "    .dataframe tbody tr th {\n",
       "        vertical-align: top;\n",
       "    }\n",
       "\n",
       "    .dataframe thead th {\n",
       "        text-align: right;\n",
       "    }\n",
       "</style>\n",
       "<table border=\"1\" class=\"dataframe\">\n",
       "  <thead>\n",
       "    <tr style=\"text-align: right;\">\n",
       "      <th></th>\n",
       "      <th>num_orders</th>\n",
       "    </tr>\n",
       "    <tr>\n",
       "      <th>datetime</th>\n",
       "      <th></th>\n",
       "    </tr>\n",
       "  </thead>\n",
       "  <tbody>\n",
       "    <tr>\n",
       "      <th>2018-03-01 00:00:00</th>\n",
       "      <td>9</td>\n",
       "    </tr>\n",
       "    <tr>\n",
       "      <th>2018-03-01 00:10:00</th>\n",
       "      <td>14</td>\n",
       "    </tr>\n",
       "    <tr>\n",
       "      <th>2018-03-01 00:20:00</th>\n",
       "      <td>28</td>\n",
       "    </tr>\n",
       "    <tr>\n",
       "      <th>2018-03-01 00:30:00</th>\n",
       "      <td>20</td>\n",
       "    </tr>\n",
       "    <tr>\n",
       "      <th>2018-03-01 00:40:00</th>\n",
       "      <td>32</td>\n",
       "    </tr>\n",
       "    <tr>\n",
       "      <th>...</th>\n",
       "      <td>...</td>\n",
       "    </tr>\n",
       "    <tr>\n",
       "      <th>2018-08-31 23:10:00</th>\n",
       "      <td>32</td>\n",
       "    </tr>\n",
       "    <tr>\n",
       "      <th>2018-08-31 23:20:00</th>\n",
       "      <td>24</td>\n",
       "    </tr>\n",
       "    <tr>\n",
       "      <th>2018-08-31 23:30:00</th>\n",
       "      <td>27</td>\n",
       "    </tr>\n",
       "    <tr>\n",
       "      <th>2018-08-31 23:40:00</th>\n",
       "      <td>39</td>\n",
       "    </tr>\n",
       "    <tr>\n",
       "      <th>2018-08-31 23:50:00</th>\n",
       "      <td>53</td>\n",
       "    </tr>\n",
       "  </tbody>\n",
       "</table>\n",
       "<p>26496 rows × 1 columns</p>\n",
       "</div>"
      ],
      "text/plain": [
       "                     num_orders\n",
       "datetime                       \n",
       "2018-03-01 00:00:00           9\n",
       "2018-03-01 00:10:00          14\n",
       "2018-03-01 00:20:00          28\n",
       "2018-03-01 00:30:00          20\n",
       "2018-03-01 00:40:00          32\n",
       "...                         ...\n",
       "2018-08-31 23:10:00          32\n",
       "2018-08-31 23:20:00          24\n",
       "2018-08-31 23:30:00          27\n",
       "2018-08-31 23:40:00          39\n",
       "2018-08-31 23:50:00          53\n",
       "\n",
       "[26496 rows x 1 columns]"
      ]
     },
     "metadata": {},
     "output_type": "display_data"
    }
   ],
   "source": [
    "#Load the data\n",
    "df =pd.read_csv('/datasets/taxi.csv', parse_dates=[0], index_col=[0])\n",
    "display(df)"
   ]
  },
  {
   "cell_type": "code",
   "execution_count": 3,
   "metadata": {},
   "outputs": [],
   "source": [
    "df.sort_index(inplace=True)"
   ]
  },
  {
   "cell_type": "code",
   "execution_count": 4,
   "metadata": {},
   "outputs": [],
   "source": [
    "#Resample data by 1 hour\n",
    "df=df.resample('1H').sum()"
   ]
  },
  {
   "cell_type": "code",
   "execution_count": 5,
   "metadata": {},
   "outputs": [
    {
     "data": {
      "text/plain": [
       "num_orders    0\n",
       "dtype: int64"
      ]
     },
     "execution_count": 5,
     "metadata": {},
     "output_type": "execute_result"
    }
   ],
   "source": [
    "#Check the missing values\n",
    "df.isnull().sum()"
   ]
  },
  {
   "cell_type": "code",
   "execution_count": 6,
   "metadata": {},
   "outputs": [
    {
     "name": "stdout",
     "output_type": "stream",
     "text": [
      "<class 'pandas.core.frame.DataFrame'>\n",
      "DatetimeIndex: 4416 entries, 2018-03-01 00:00:00 to 2018-08-31 23:00:00\n",
      "Freq: H\n",
      "Data columns (total 1 columns):\n",
      " #   Column      Non-Null Count  Dtype\n",
      "---  ------      --------------  -----\n",
      " 0   num_orders  4416 non-null   int64\n",
      "dtypes: int64(1)\n",
      "memory usage: 69.0 KB\n"
     ]
    }
   ],
   "source": [
    "df.info()"
   ]
  },
  {
   "cell_type": "code",
   "execution_count": 7,
   "metadata": {},
   "outputs": [
    {
     "name": "stdout",
     "output_type": "stream",
     "text": [
      "ADF Statistic: -3.068924289027954\n",
      "p-value: 0.028940051402613028\n"
     ]
    }
   ],
   "source": [
    "# ADF Test for stationary\n",
    "result = adfuller(df['num_orders'])\n",
    "print(f'ADF Statistic: {result[0]}')\n",
    "print(f'p-value: {result[1]}')"
   ]
  },
  {
   "cell_type": "markdown",
   "metadata": {},
   "source": [
    "Since p = 0.029 < 0.05, we can conclude that the series is likely stationary, and  not need differencing (d = 0) for ARIMA."
   ]
  },
  {
   "cell_type": "markdown",
   "metadata": {},
   "source": [
    "## Analysis"
   ]
  },
  {
   "cell_type": "code",
   "execution_count": 8,
   "metadata": {},
   "outputs": [
    {
     "data": {
      "image/png": "[encoded data removed]",
      "text/plain": [
       "<Figure size 1400x600 with 1 Axes>"
      ]
     },
     "metadata": {},
     "output_type": "display_data"
    }
   ],
   "source": [
    "# Plot the data\n",
    "df.plot(figsize=(14, 6), title='Taxi Orders Over Time')\n",
    "plt.ylabel('Number of Orders')\n",
    "plt.show()"
   ]
  },
  {
   "cell_type": "code",
   "execution_count": 9,
   "metadata": {},
   "outputs": [
    {
     "data": {
      "image/png": "[encoded data removed]",
      "text/plain": [
       "<Figure size 800x800 with 3 Axes>"
      ]
     },
     "metadata": {},
     "output_type": "display_data"
    }
   ],
   "source": [
    "#Trends and Seasonality\n",
    "decomposed = seasonal_decompose(df)\n",
    "\n",
    "plt.figure(figsize=(8, 8))\n",
    "\n",
    "plt.subplot(311)\n",
    "decomposed.trend.plot(ax=plt.gca())\n",
    "plt.title('Trend')\n",
    "plt.subplot(312)\n",
    "decomposed.seasonal.plot(ax=plt.gca())\n",
    "plt.title('Seasonality')\n",
    "plt.subplot(313)\n",
    "decomposed.resid.plot(ax=plt.gca())\n",
    "plt.title('Residuals')\n",
    "\n",
    "plt.tight_layout()  "
   ]
  },
  {
   "cell_type": "markdown",
   "metadata": {},
   "source": [
    "There is an overall increasing trend in the number of orders over time. This indicates that the demand is growing steadily. The seasonal component shows recurring patterns. The residuals appear to have more variability over time, increasing as the trend grows.\n"
   ]
  },
  {
   "cell_type": "code",
   "execution_count": 10,
   "metadata": {},
   "outputs": [
    {
     "data": {
      "image/png": "[encoded data removed]",
      "text/plain": [
       "<Figure size 640x480 with 1 Axes>"
      ]
     },
     "metadata": {},
     "output_type": "display_data"
    }
   ],
   "source": [
    "#Plot ACF\n",
    "acf= plot_acf(df['num_orders'], lags=50)\n",
    "plt.xlabel(\"Lags\")\n",
    "plt.ylabel(\"ACF\")\n",
    "plt.show()"
   ]
  },
  {
   "cell_type": "code",
   "execution_count": 11,
   "metadata": {},
   "outputs": [
    {
     "data": {
      "image/png": "[encoded data removed]",
      "text/plain": [
       "<Figure size 640x480 with 1 Axes>"
      ]
     },
     "metadata": {},
     "output_type": "display_data"
    }
   ],
   "source": [
    "#Plot PACF\n",
    "pacf=plot_pacf(df['num_orders'], lags=50)\n",
    "plt.xlabel(\"Lags\")\n",
    "plt.ylabel(\"PACF\")\n",
    "plt.show()"
   ]
  },
  {
   "cell_type": "markdown",
   "metadata": {},
   "source": [
    "ACF measures the overall correlation between a time series and its lagged values, while PACF measures the direct correlation, excluding the influence of intermediate lags."
   ]
  },
  {
   "cell_type": "markdown",
   "metadata": {},
   "source": [
    "## Training"
   ]
  },
  {
   "cell_type": "code",
   "execution_count": 12,
   "metadata": {},
   "outputs": [],
   "source": [
    "def make_features(df, rolling_mean_size):\n",
    "    df['day'] = df.index.day\n",
    "    df['dayofweek'] = df.index.dayofweek\n",
    "\n",
    "    for lag in range(1, 25):\n",
    "        df['lag_{}'.format(lag)] = df['num_orders'].shift(lag)\n",
    "\n",
    "    df['rolling_mean'] = (\n",
    "        df['num_orders'].shift().rolling(rolling_mean_size).mean()\n",
    "    )\n",
    "make_features(df, 10)"
   ]
  },
  {
   "cell_type": "code",
   "execution_count": 13,
   "metadata": {},
   "outputs": [],
   "source": [
    "#Split training and testing set\n",
    "train, test = train_test_split(df, shuffle=False, test_size=0.1)\n",
    "train = train.dropna()"
   ]
  },
  {
   "cell_type": "code",
   "execution_count": 14,
   "metadata": {},
   "outputs": [],
   "source": [
    "#Features and targets\n",
    "features_train =train.drop(['num_orders'], axis=1)\n",
    "target_train =train['num_orders']\n",
    "features_test =test.drop(['num_orders'], axis=1)\n",
    "target_test =test['num_orders']"
   ]
  },
  {
   "cell_type": "code",
   "execution_count": 15,
   "metadata": {},
   "outputs": [
    {
     "name": "stdout",
     "output_type": "stream",
     "text": [
      "The training set shape is (3950, 27) for features and (3950,) for targets\n",
      "The test set shape is (442, 27) for features and (442,) for targets\n"
     ]
    }
   ],
   "source": [
    "print(f'The training set shape is {features_train.shape} for features and {target_train.shape} for targets')\n",
    "print(f'The test set shape is {features_test.shape} for features and {target_test.shape} for targets')"
   ]
  },
  {
   "cell_type": "code",
   "execution_count": 16,
   "metadata": {},
   "outputs": [],
   "source": [
    "#Linear Regression Model\n",
    "lr_model = LinearRegression()\n",
    "lr_model.fit(features_train, target_train)\n",
    "pred_lr = lr_model.predict(features_test)"
   ]
  },
  {
   "cell_type": "code",
   "execution_count": 17,
   "metadata": {},
   "outputs": [],
   "source": [
    "# Random Forest Model\n",
    "rf_model = RandomForestRegressor(n_estimators=100, random_state=42)\n",
    "rf_model.fit(features_train, target_train)\n",
    "pred_rf = rf_model.predict(features_test)"
   ]
  },
  {
   "cell_type": "code",
   "execution_count": 18,
   "metadata": {},
   "outputs": [],
   "source": [
    "#GradientBoost Model\n",
    "# Define parameter grid\n",
    "gbr_params = {\n",
    "    'n_estimators': [100, 200, 300],\n",
    "    'learning_rate': [0.05, 0.1, 0.2],\n",
    "    'max_depth': [3, 4, 5],\n",
    "    'subsample': [0.7, 0.8, 1.0]\n",
    "}\n",
    "\n",
    "gbr = GradientBoostingRegressor(random_state=42)\n",
    "gbr_search = RandomizedSearchCV(gbr, gbr_params, n_iter=10, cv=3, scoring='neg_root_mean_squared_error', random_state=42, n_jobs=-1)\n",
    "gbr_search.fit(features_train, target_train)\n",
    "\n",
    "gbr_best = gbr_search.best_estimator_\n",
    "pred_gbr = gbr_best.predict(features_test)"
   ]
  },
  {
   "cell_type": "code",
   "execution_count": 19,
   "metadata": {},
   "outputs": [],
   "source": [
    "#XGB model\n",
    "xgb_params = {\n",
    "    'n_estimators': [100, 200],\n",
    "    'learning_rate': [0.05, 0.1, 0.2],\n",
    "    'max_depth': [3, 4, 5],\n",
    "    'subsample': [0.7, 0.8, 1.0],\n",
    "    'colsample_bytree': [0.7, 0.8, 1.0]\n",
    "}\n",
    "\n",
    "xgb = XGBRegressor(random_state=42, objective='reg:squarederror')\n",
    "xgb_search = RandomizedSearchCV(xgb, xgb_params, n_iter=10, cv=3, scoring='neg_root_mean_squared_error', random_state=42, n_jobs=-1)\n",
    "xgb_search.fit(features_train, target_train)\n",
    "\n",
    "xgb_best = xgb_search.best_estimator_\n",
    "xgb_preds = xgb_best.predict(features_test)"
   ]
  },
  {
   "cell_type": "code",
   "execution_count": 20,
   "metadata": {},
   "outputs": [],
   "source": [
    "#Catboost model\n",
    "catboost_params = {\n",
    "    'iterations': [200, 300],\n",
    "    'learning_rate': [0.03, 0.1],\n",
    "    'depth': [4, 6, 8]\n",
    "}\n",
    "\n",
    "catboost = CatBoostRegressor(verbose=0, random_state=42)\n",
    "catboost_search = RandomizedSearchCV(catboost, catboost_params, n_iter=6, cv=3, scoring='neg_root_mean_squared_error', random_state=42, n_jobs=-1)\n",
    "catboost_search.fit(features_train, target_train)\n",
    "\n",
    "catboost_best = catboost_search.best_estimator_\n",
    "catboost_preds = catboost_best.predict(features_test)\n"
   ]
  },
  {
   "cell_type": "code",
   "execution_count": 21,
   "metadata": {},
   "outputs": [
    {
     "name": "stderr",
     "output_type": "stream",
     "text": [
      "/opt/conda/envs/python3/lib/python3.9/site-packages/statsmodels/base/model.py:604: ConvergenceWarning: Maximum Likelihood optimization failed to converge. Check mle_retvals\n",
      "  warnings.warn(\"Maximum Likelihood optimization failed to \"\n"
     ]
    }
   ],
   "source": [
    "#SARIMAX model\n",
    "model = SARIMAX(df['num_orders'], \n",
    "                order=(2,1,2), \n",
    "                seasonal_order=(1,1,1,24), \n",
    "                enforce_stationarity=False, \n",
    "                enforce_invertibility=False)\n",
    "\n",
    "sa_model = model.fit(disp=False)\n",
    "# make predictions\n",
    "start_value =len(train)\n",
    "end_value = len(train) + len(test) -1\n",
    "ma_pred = sa_model.predict(start=start_value, end=end_value, dynamic=False)\n"
   ]
  },
  {
   "cell_type": "markdown",
   "metadata": {},
   "source": [
    "Train the data using different models like RandomForestRegressor,  Random Forest, GradientBoost, XGB model, CatBoost, SARIMAX etc."
   ]
  },
  {
   "cell_type": "markdown",
   "metadata": {},
   "source": [
    "## Testing"
   ]
  },
  {
   "cell_type": "code",
   "execution_count": 22,
   "metadata": {},
   "outputs": [
    {
     "name": "stdout",
     "output_type": "stream",
     "text": [
      "Linear Regression RMSE: 44.98\n"
     ]
    }
   ],
   "source": [
    "#Linear Regression Model\n",
    "rmse_lr = np.sqrt(mean_squared_error(target_test, pred_lr))\n",
    "print(f'Linear Regression RMSE: {rmse_lr:.2f}')"
   ]
  },
  {
   "cell_type": "code",
   "execution_count": 23,
   "metadata": {},
   "outputs": [
    {
     "name": "stdout",
     "output_type": "stream",
     "text": [
      "Random Forest RMSE: 42.59\n"
     ]
    }
   ],
   "source": [
    "# Random Forest Model\n",
    "rmse_rf = np.sqrt(mean_squared_error(target_test, pred_rf))\n",
    "print(f'Random Forest RMSE: {rmse_rf:.2f}')"
   ]
  },
  {
   "cell_type": "code",
   "execution_count": 24,
   "metadata": {},
   "outputs": [
    {
     "name": "stdout",
     "output_type": "stream",
     "text": [
      "GradientBoosting RMSE: 43.09\n"
     ]
    }
   ],
   "source": [
    "#GradientBoost Model\n",
    "rmse_gbr = np.sqrt(mean_squared_error(target_test, pred_gbr))\n",
    "print(f'GradientBoosting RMSE: {rmse_gbr:.2f}')"
   ]
  },
  {
   "cell_type": "code",
   "execution_count": 25,
   "metadata": {},
   "outputs": [
    {
     "name": "stdout",
     "output_type": "stream",
     "text": [
      "XGBoost RMSE: 45.36\n"
     ]
    }
   ],
   "source": [
    "#XGB model\n",
    "xgb_rmse = np.sqrt(mean_squared_error(target_test, xgb_preds))\n",
    "print(f'XGBoost RMSE: {xgb_rmse:.2f}')"
   ]
  },
  {
   "cell_type": "code",
   "execution_count": 26,
   "metadata": {},
   "outputs": [
    {
     "name": "stdout",
     "output_type": "stream",
     "text": [
      "CatBoost RMSE: 42.09\n"
     ]
    }
   ],
   "source": [
    "#Catboost model\n",
    "catboost_rmse =np.sqrt(mean_squared_error(target_test, catboost_preds))\n",
    "print(f'CatBoost RMSE: {catboost_rmse:.2f}')"
   ]
  },
  {
   "cell_type": "code",
   "execution_count": 27,
   "metadata": {},
   "outputs": [
    {
     "name": "stdout",
     "output_type": "stream",
     "text": [
      "SARIMAX model RMSE: 40.69\n"
     ]
    }
   ],
   "source": [
    "#SARIMAX model\n",
    "rmse_sarimax = np.sqrt(mean_squared_error(target_test, ma_pred))\n",
    "print(f'SARIMAX model RMSE: {rmse_sarimax:.2f}')"
   ]
  },
  {
   "cell_type": "markdown",
   "metadata": {},
   "source": [
    "From the above different model RMSE of the SARIMAX model is 40.69 which is less compared to other different models. "
   ]
  },
  {
   "cell_type": "markdown",
   "metadata": {},
   "source": [
    "# Conclusion\n",
    "\n",
    "Sweet Lift Taxi company has collected historical data on taxi orders at airports. To attract more drivers during peak hours, we need to predict the amount of taxi orders for the next hour. Build a model for such a prediction.\n",
    "In the first stage, import the libraries and load the data. Check the missing values and dtypes. Resample the data by 1 hour. Using  In the first stage, import the libraries and load the data. Check the missing values and dtypes. Resample the data by 1 hour. Using  In the first stage, import the libraries and load the data. Check the missing values and dtypes. Resample the data by 1 hour. Using ADF Test to check the series is  stationary or not. Plot the data and plot acf, pacf, seasonal changes etc.\n",
    "\n",
    "Train the data using different models like RandomForestRegressor,  Random Forest, GradientBoost, XGB model, CatBoost, SARIMAX and test the results. The RMSE value obtained for different models are:\n",
    "- Linear Regression RMSE: 44.98\n",
    "- Random Forest RMSE: 42.59\n",
    "- GradientBoosting RMSE: 43.09\n",
    "- XGBoost RMSE: 45.36\n",
    "- CatBoost RMSE: 42.09\n",
    "- SARIMAX model RMSE: 40.69\n",
    "\n",
    "A lower RMSE indicates a better model fit, as it means the predictions are closer to the actual observations. So from the above models, SARIMAX model has lower RMSE implies the predictions are closer to the actual observations."
   ]
  },
  {
   "cell_type": "code",
   "execution_count": null,
   "metadata": {},
   "outputs": [],
   "source": []
  }
 ],
 "metadata": {
  "ExecuteTimeLog": [
   {
    "duration": 328,
    "start_time": "2025-05-07T17:23:51.336Z"
   },
   {
    "duration": 20,
    "start_time": "2025-05-07T17:23:52.127Z"
   },
   {
    "duration": 24,
    "start_time": "2025-05-07T17:24:02.033Z"
   },
   {
    "duration": 7,
    "start_time": "2025-05-07T17:27:06.113Z"
   },
   {
    "duration": 24,
    "start_time": "2025-05-07T17:27:13.816Z"
   },
   {
    "duration": 552,
    "start_time": "2025-05-07T17:28:24.480Z"
   },
   {
    "duration": 6,
    "start_time": "2025-05-07T17:28:29.847Z"
   },
   {
    "duration": 1925,
    "start_time": "2025-05-07T17:29:36.236Z"
   },
   {
    "duration": 253,
    "start_time": "2025-05-07T17:29:39.359Z"
   },
   {
    "duration": 184,
    "start_time": "2025-05-07T21:44:53.224Z"
   },
   {
    "duration": 2161,
    "start_time": "2025-05-07T21:44:57.191Z"
   },
   {
    "duration": 79,
    "start_time": "2025-05-07T21:44:59.354Z"
   },
   {
    "duration": 5,
    "start_time": "2025-05-07T21:44:59.436Z"
   },
   {
    "duration": 6,
    "start_time": "2025-05-07T21:47:11.915Z"
   },
   {
    "duration": 3,
    "start_time": "2025-05-07T21:50:22.776Z"
   },
   {
    "duration": 7,
    "start_time": "2025-05-07T21:50:23.673Z"
   },
   {
    "duration": 256,
    "start_time": "2025-05-07T21:50:24.612Z"
   },
   {
    "duration": 5,
    "start_time": "2025-05-07T21:56:29.052Z"
   },
   {
    "duration": 503,
    "start_time": "2025-05-07T22:00:37.997Z"
   },
   {
    "duration": 3,
    "start_time": "2025-05-07T22:02:07.252Z"
   },
   {
    "duration": 19,
    "start_time": "2025-05-07T22:02:08.154Z"
   },
   {
    "duration": 4,
    "start_time": "2025-05-07T22:02:08.984Z"
   },
   {
    "duration": 3,
    "start_time": "2025-05-07T22:02:09.697Z"
   },
   {
    "duration": 2,
    "start_time": "2025-05-07T22:02:57.838Z"
   },
   {
    "duration": 3,
    "start_time": "2025-05-07T22:02:58.499Z"
   },
   {
    "duration": 3,
    "start_time": "2025-05-07T22:02:59.139Z"
   },
   {
    "duration": 3,
    "start_time": "2025-05-07T22:04:13.301Z"
   },
   {
    "duration": 26,
    "start_time": "2025-05-07T22:06:06.706Z"
   },
   {
    "duration": 2549,
    "start_time": "2025-05-08T14:25:57.479Z"
   },
   {
    "duration": 37,
    "start_time": "2025-05-08T14:26:00.030Z"
   },
   {
    "duration": 3,
    "start_time": "2025-05-08T14:26:02.133Z"
   },
   {
    "duration": 7,
    "start_time": "2025-05-08T14:26:02.920Z"
   },
   {
    "duration": 251,
    "start_time": "2025-05-08T14:26:04.233Z"
   },
   {
    "duration": 5,
    "start_time": "2025-05-08T14:26:09.372Z"
   },
   {
    "duration": 3,
    "start_time": "2025-05-08T14:26:14.479Z"
   },
   {
    "duration": 18,
    "start_time": "2025-05-08T14:26:15.016Z"
   },
   {
    "duration": 4,
    "start_time": "2025-05-08T14:26:19.779Z"
   },
   {
    "duration": 3,
    "start_time": "2025-05-08T14:26:22.269Z"
   },
   {
    "duration": 3,
    "start_time": "2025-05-08T14:26:23.024Z"
   },
   {
    "duration": 3,
    "start_time": "2025-05-08T14:26:23.790Z"
   },
   {
    "duration": 4,
    "start_time": "2025-05-08T14:26:24.285Z"
   },
   {
    "duration": 26,
    "start_time": "2025-05-08T14:26:28.689Z"
   },
   {
    "duration": 105,
    "start_time": "2025-05-08T14:31:56.809Z"
   },
   {
    "duration": 334,
    "start_time": "2025-05-08T14:32:01.953Z"
   },
   {
    "duration": 86429,
    "start_time": "2025-05-08T14:35:27.214Z"
   },
   {
    "duration": 5,
    "start_time": "2025-05-08T14:40:13.981Z"
   },
   {
    "duration": 17,
    "start_time": "2025-05-08T14:46:18.832Z"
   },
   {
    "duration": 22,
    "start_time": "2025-05-08T14:46:25.358Z"
   },
   {
    "duration": 353,
    "start_time": "2025-05-08T14:47:31.608Z"
   },
   {
    "duration": 9,
    "start_time": "2025-05-08T14:53:45.323Z"
   },
   {
    "duration": 4431,
    "start_time": "2025-05-08T14:53:50.723Z"
   },
   {
    "duration": 4417,
    "start_time": "2025-05-08T14:54:06.271Z"
   },
   {
    "duration": 4402,
    "start_time": "2025-05-08T14:54:27.660Z"
   },
   {
    "duration": 18,
    "start_time": "2025-05-08T14:56:26.989Z"
   },
   {
    "duration": 3,
    "start_time": "2025-05-08T14:56:33.988Z"
   },
   {
    "duration": 4,
    "start_time": "2025-05-08T14:56:53.673Z"
   },
   {
    "duration": 53860,
    "start_time": "2025-05-08T14:57:18.034Z"
   },
   {
    "duration": 19,
    "start_time": "2025-05-08T15:04:57.899Z"
   },
   {
    "duration": 91,
    "start_time": "2025-05-08T15:05:04.198Z"
   },
   {
    "duration": 47717,
    "start_time": "2025-05-08T15:05:11.142Z"
   },
   {
    "duration": 62,
    "start_time": "2025-05-08T15:06:04.149Z"
   },
   {
    "duration": 30253,
    "start_time": "2025-05-08T15:06:58.183Z"
   },
   {
    "duration": 4,
    "start_time": "2025-05-08T15:11:38.684Z"
   },
   {
    "duration": 447,
    "start_time": "2025-05-08T15:11:43.082Z"
   },
   {
    "duration": 30152,
    "start_time": "2025-05-08T15:14:17.711Z"
   },
   {
    "duration": 436,
    "start_time": "2025-05-08T15:14:47.865Z"
   },
   {
    "duration": 4,
    "start_time": "2025-05-08T15:17:23.154Z"
   },
   {
    "duration": 8,
    "start_time": "2025-05-08T15:17:28.719Z"
   },
   {
    "duration": 62358,
    "start_time": "2025-05-08T15:17:49.071Z"
   },
   {
    "duration": 62653,
    "start_time": "2025-05-08T15:20:21.524Z"
   },
   {
    "duration": 202,
    "start_time": "2025-05-08T15:31:16.641Z"
   },
   {
    "duration": 105,
    "start_time": "2025-05-08T15:31:22.300Z"
   },
   {
    "duration": 156,
    "start_time": "2025-05-08T15:34:47.725Z"
   },
   {
    "duration": 1188,
    "start_time": "2025-05-08T15:34:53.113Z"
   },
   {
    "duration": 114,
    "start_time": "2025-05-08T15:34:59.863Z"
   },
   {
    "duration": 1207,
    "start_time": "2025-05-08T15:35:13.641Z"
   },
   {
    "duration": 35,
    "start_time": "2025-05-08T15:35:14.850Z"
   },
   {
    "duration": 3,
    "start_time": "2025-05-08T15:35:14.920Z"
   },
   {
    "duration": 8,
    "start_time": "2025-05-08T15:35:15.333Z"
   },
   {
    "duration": 253,
    "start_time": "2025-05-08T15:35:15.964Z"
   },
   {
    "duration": 6,
    "start_time": "2025-05-08T15:35:16.730Z"
   },
   {
    "duration": 527,
    "start_time": "2025-05-08T15:35:19.614Z"
   },
   {
    "duration": 448,
    "start_time": "2025-05-08T15:35:24.731Z"
   },
   {
    "duration": 3,
    "start_time": "2025-05-08T15:35:43.779Z"
   },
   {
    "duration": 19,
    "start_time": "2025-05-08T15:35:44.255Z"
   },
   {
    "duration": 4,
    "start_time": "2025-05-08T15:35:44.806Z"
   },
   {
    "duration": 2,
    "start_time": "2025-05-08T15:35:45.317Z"
   },
   {
    "duration": 3,
    "start_time": "2025-05-08T15:35:45.832Z"
   },
   {
    "duration": 3,
    "start_time": "2025-05-08T15:35:46.135Z"
   },
   {
    "duration": 3,
    "start_time": "2025-05-08T15:35:46.482Z"
   },
   {
    "duration": 16,
    "start_time": "2025-05-08T15:35:46.780Z"
   },
   {
    "duration": 86721,
    "start_time": "2025-05-08T15:35:47.101Z"
   },
   {
    "duration": 4401,
    "start_time": "2025-05-08T15:37:13.824Z"
   },
   {
    "duration": 53840,
    "start_time": "2025-05-08T15:37:18.227Z"
   },
   {
    "duration": 47449,
    "start_time": "2025-05-08T15:38:12.071Z"
   },
   {
    "duration": 30282,
    "start_time": "2025-05-08T15:38:59.523Z"
   },
   {
    "duration": 61823,
    "start_time": "2025-05-08T15:39:29.807Z"
   },
   {
    "duration": 159,
    "start_time": "2025-05-08T15:45:07.283Z"
   },
   {
    "duration": 1195,
    "start_time": "2025-05-08T15:45:19.713Z"
   },
   {
    "duration": 37,
    "start_time": "2025-05-08T15:45:20.910Z"
   },
   {
    "duration": 2,
    "start_time": "2025-05-08T15:45:20.949Z"
   },
   {
    "duration": 8,
    "start_time": "2025-05-08T15:45:21.315Z"
   },
   {
    "duration": 244,
    "start_time": "2025-05-08T15:45:22.356Z"
   },
   {
    "duration": 5,
    "start_time": "2025-05-08T15:45:26.137Z"
   },
   {
    "duration": 487,
    "start_time": "2025-05-08T15:45:29.351Z"
   },
   {
    "duration": 213,
    "start_time": "2025-05-08T15:45:32.560Z"
   },
   {
    "duration": 229,
    "start_time": "2025-05-08T15:45:48.348Z"
   },
   {
    "duration": 211,
    "start_time": "2025-05-08T15:47:02.910Z"
   },
   {
    "duration": 4,
    "start_time": "2025-05-08T15:48:36.265Z"
   },
   {
    "duration": 347,
    "start_time": "2025-05-08T15:49:12.429Z"
   },
   {
    "duration": 4,
    "start_time": "2025-05-08T15:49:48.135Z"
   },
   {
    "duration": 25,
    "start_time": "2025-05-08T15:49:48.496Z"
   },
   {
    "duration": 3,
    "start_time": "2025-05-08T15:49:48.796Z"
   },
   {
    "duration": 5,
    "start_time": "2025-05-08T15:49:49.052Z"
   },
   {
    "duration": 215,
    "start_time": "2025-05-08T15:49:49.295Z"
   },
   {
    "duration": 5,
    "start_time": "2025-05-08T15:49:49.520Z"
   },
   {
    "duration": 397,
    "start_time": "2025-05-08T15:49:50.228Z"
   },
   {
    "duration": 213,
    "start_time": "2025-05-08T15:49:50.893Z"
   },
   {
    "duration": 26,
    "start_time": "2025-05-08T15:49:51.135Z"
   },
   {
    "duration": 433,
    "start_time": "2025-05-08T15:49:51.391Z"
   },
   {
    "duration": 6,
    "start_time": "2025-05-08T15:50:39.701Z"
   },
   {
    "duration": 4,
    "start_time": "2025-05-08T15:51:13.757Z"
   },
   {
    "duration": 25,
    "start_time": "2025-05-08T15:51:14.461Z"
   },
   {
    "duration": 3,
    "start_time": "2025-05-08T15:51:15.573Z"
   },
   {
    "duration": 6,
    "start_time": "2025-05-08T15:51:16.176Z"
   },
   {
    "duration": 215,
    "start_time": "2025-05-08T15:51:17.271Z"
   },
   {
    "duration": 6,
    "start_time": "2025-05-08T15:51:21.521Z"
   },
   {
    "duration": 598,
    "start_time": "2025-05-08T15:51:24.365Z"
   },
   {
    "duration": 209,
    "start_time": "2025-05-08T15:54:46.353Z"
   },
   {
    "duration": 263,
    "start_time": "2025-05-08T15:54:51.425Z"
   },
   {
    "duration": 4,
    "start_time": "2025-05-08T16:01:26.085Z"
   },
   {
    "duration": 17,
    "start_time": "2025-05-08T16:01:32.124Z"
   },
   {
    "duration": 4,
    "start_time": "2025-05-08T16:01:50.092Z"
   },
   {
    "duration": 17,
    "start_time": "2025-05-08T16:01:50.530Z"
   },
   {
    "duration": 5,
    "start_time": "2025-05-08T16:01:51.050Z"
   },
   {
    "duration": 3,
    "start_time": "2025-05-08T16:01:51.734Z"
   },
   {
    "duration": 3,
    "start_time": "2025-05-08T16:01:52.473Z"
   },
   {
    "duration": 3,
    "start_time": "2025-05-08T16:01:52.818Z"
   },
   {
    "duration": 3,
    "start_time": "2025-05-08T16:01:53.162Z"
   },
   {
    "duration": 50,
    "start_time": "2025-05-08T16:01:53.682Z"
   },
   {
    "duration": 586,
    "start_time": "2025-05-08T16:01:58.559Z"
   },
   {
    "duration": 1076,
    "start_time": "2025-05-08T16:08:17.330Z"
   },
   {
    "duration": 1819,
    "start_time": "2025-05-08T16:08:27.391Z"
   },
   {
    "duration": 1013,
    "start_time": "2025-05-08T16:08:43.879Z"
   },
   {
    "duration": 169,
    "start_time": "2025-05-08T16:33:41.865Z"
   },
   {
    "duration": 1752,
    "start_time": "2025-05-08T16:34:02.114Z"
   },
   {
    "duration": 23,
    "start_time": "2025-05-08T16:36:43.479Z"
   },
   {
    "duration": 1070,
    "start_time": "2025-05-08T16:36:53.317Z"
   },
   {
    "duration": 33,
    "start_time": "2025-05-08T16:36:54.389Z"
   },
   {
    "duration": 9,
    "start_time": "2025-05-08T16:36:54.873Z"
   },
   {
    "duration": 7,
    "start_time": "2025-05-08T16:37:07.205Z"
   },
   {
    "duration": 5,
    "start_time": "2025-05-08T16:37:34.486Z"
   },
   {
    "duration": 9,
    "start_time": "2025-05-08T16:37:49.364Z"
   },
   {
    "duration": 5,
    "start_time": "2025-05-08T16:38:06.762Z"
   },
   {
    "duration": 9,
    "start_time": "2025-05-08T16:38:19.575Z"
   },
   {
    "duration": 25,
    "start_time": "2025-05-08T16:38:35.167Z"
   },
   {
    "duration": 9,
    "start_time": "2025-05-08T16:38:36.389Z"
   },
   {
    "duration": 3,
    "start_time": "2025-05-08T16:38:58.956Z"
   },
   {
    "duration": 474,
    "start_time": "2025-05-08T16:39:43.632Z"
   },
   {
    "duration": 359,
    "start_time": "2025-05-08T16:40:51.569Z"
   },
   {
    "duration": 31,
    "start_time": "2025-05-08T16:41:34.420Z"
   },
   {
    "duration": 29,
    "start_time": "2025-05-08T16:41:56.481Z"
   },
   {
    "duration": 4,
    "start_time": "2025-05-08T16:42:30.775Z"
   },
   {
    "duration": 30,
    "start_time": "2025-05-08T16:42:31.379Z"
   },
   {
    "duration": 3,
    "start_time": "2025-05-08T16:42:32.733Z"
   },
   {
    "duration": 6,
    "start_time": "2025-05-08T16:42:34.200Z"
   },
   {
    "duration": 5,
    "start_time": "2025-05-08T16:42:34.871Z"
   },
   {
    "duration": 9,
    "start_time": "2025-05-08T16:42:36.229Z"
   },
   {
    "duration": 501,
    "start_time": "2025-05-08T16:42:42.447Z"
   },
   {
    "duration": 220,
    "start_time": "2025-05-08T16:42:53.770Z"
   },
   {
    "duration": 525,
    "start_time": "2025-05-08T16:42:57.748Z"
   },
   {
    "duration": 174,
    "start_time": "2025-05-08T16:46:55.005Z"
   },
   {
    "duration": 323,
    "start_time": "2025-05-08T16:47:00.371Z"
   },
   {
    "duration": 3,
    "start_time": "2025-05-08T16:48:16.985Z"
   },
   {
    "duration": 18,
    "start_time": "2025-05-08T16:48:18.953Z"
   },
   {
    "duration": 4,
    "start_time": "2025-05-08T16:48:20.367Z"
   },
   {
    "duration": 3,
    "start_time": "2025-05-08T16:48:21.497Z"
   },
   {
    "duration": 3,
    "start_time": "2025-05-08T16:48:22.227Z"
   },
   {
    "duration": 3,
    "start_time": "2025-05-08T16:48:22.602Z"
   },
   {
    "duration": 3,
    "start_time": "2025-05-08T16:48:23.193Z"
   },
   {
    "duration": 16,
    "start_time": "2025-05-08T16:48:24.123Z"
   },
   {
    "duration": 4410,
    "start_time": "2025-05-08T16:48:27.657Z"
   },
   {
    "duration": 53987,
    "start_time": "2025-05-08T16:48:39.054Z"
   },
   {
    "duration": 47710,
    "start_time": "2025-05-08T16:49:33.043Z"
   },
   {
    "duration": 30361,
    "start_time": "2025-05-08T16:50:20.823Z"
   },
   {
    "duration": 1114,
    "start_time": "2025-05-08T16:50:51.186Z"
   },
   {
    "duration": 65686,
    "start_time": "2025-05-08T16:50:52.301Z"
   },
   {
    "duration": 3,
    "start_time": "2025-05-08T16:52:14.199Z"
   },
   {
    "duration": 244,
    "start_time": "2025-05-08T16:59:28.429Z"
   },
   {
    "duration": 223,
    "start_time": "2025-05-08T16:59:37.135Z"
   },
   {
    "duration": 3068,
    "start_time": "2025-05-08T17:31:48.539Z"
   },
   {
    "duration": 33,
    "start_time": "2025-05-08T17:31:58.329Z"
   },
   {
    "duration": 3,
    "start_time": "2025-05-08T17:32:06.456Z"
   },
   {
    "duration": 8,
    "start_time": "2025-05-08T17:32:06.904Z"
   },
   {
    "duration": 5,
    "start_time": "2025-05-08T17:32:07.352Z"
   },
   {
    "duration": 9,
    "start_time": "2025-05-08T17:32:07.836Z"
   },
   {
    "duration": 346,
    "start_time": "2025-05-08T17:32:12.890Z"
   },
   {
    "duration": 249,
    "start_time": "2025-05-08T17:32:20.259Z"
   },
   {
    "duration": 588,
    "start_time": "2025-05-08T17:32:23.309Z"
   },
   {
    "duration": 556,
    "start_time": "2025-05-08T17:32:55.419Z"
   },
   {
    "duration": 276,
    "start_time": "2025-05-08T17:32:59.901Z"
   },
   {
    "duration": 265,
    "start_time": "2025-05-08T17:33:02.526Z"
   },
   {
    "duration": 15,
    "start_time": "2025-05-08T17:33:07.796Z"
   },
   {
    "duration": 8,
    "start_time": "2025-05-08T17:33:08.469Z"
   },
   {
    "duration": 5,
    "start_time": "2025-05-08T17:33:09.047Z"
   },
   {
    "duration": 4,
    "start_time": "2025-05-08T17:33:11.383Z"
   },
   {
    "duration": 236,
    "start_time": "2025-05-08T17:33:53.168Z"
   },
   {
    "duration": 15,
    "start_time": "2025-05-08T17:34:04.538Z"
   },
   {
    "duration": 3,
    "start_time": "2025-05-08T17:34:11.548Z"
   },
   {
    "duration": 4,
    "start_time": "2025-05-08T17:36:40.662Z"
   },
   {
    "duration": 15,
    "start_time": "2025-05-08T17:36:56.488Z"
   },
   {
    "duration": 3,
    "start_time": "2025-05-08T17:37:02.389Z"
   },
   {
    "duration": 106,
    "start_time": "2025-05-08T17:37:03.271Z"
   },
   {
    "duration": 28,
    "start_time": "2025-05-08T17:37:22.638Z"
   },
   {
    "duration": 3,
    "start_time": "2025-05-08T17:37:32.316Z"
   },
   {
    "duration": 111,
    "start_time": "2025-05-08T17:37:32.997Z"
   },
   {
    "duration": 4400,
    "start_time": "2025-05-08T17:39:11.407Z"
   },
   {
    "duration": 4431,
    "start_time": "2025-05-08T17:39:29.674Z"
   },
   {
    "duration": 5,
    "start_time": "2025-05-08T17:39:42.150Z"
   },
   {
    "duration": 109,
    "start_time": "2025-05-08T17:39:48.080Z"
   },
   {
    "duration": 4,
    "start_time": "2025-05-08T17:40:11.543Z"
   },
   {
    "duration": 3,
    "start_time": "2025-05-08T17:40:17.297Z"
   },
   {
    "duration": 47541,
    "start_time": "2025-05-08T17:41:16.613Z"
   },
   {
    "duration": 15,
    "start_time": "2025-05-08T17:44:15.335Z"
   },
   {
    "duration": 53845,
    "start_time": "2025-05-08T17:44:37.352Z"
   },
   {
    "duration": 5,
    "start_time": "2025-05-08T17:45:31.199Z"
   },
   {
    "duration": 62670,
    "start_time": "2025-05-08T17:45:42.074Z"
   },
   {
    "duration": 3,
    "start_time": "2025-05-08T17:46:44.747Z"
   },
   {
    "duration": 30535,
    "start_time": "2025-05-08T17:47:44.319Z"
   },
   {
    "duration": 7,
    "start_time": "2025-05-08T17:48:14.855Z"
   },
   {
    "duration": 860,
    "start_time": "2025-05-08T17:48:14.865Z"
   },
   {
    "duration": 4,
    "start_time": "2025-05-08T17:48:15.727Z"
   },
   {
    "duration": 61812,
    "start_time": "2025-05-08T17:48:15.733Z"
   },
   {
    "duration": 0,
    "start_time": "2025-05-08T17:49:17.548Z"
   },
   {
    "duration": 61848,
    "start_time": "2025-05-08T17:49:38.311Z"
   },
   {
    "duration": 3,
    "start_time": "2025-05-08T17:50:40.385Z"
   },
   {
    "duration": 7514,
    "start_time": "2025-05-08T18:30:55.174Z"
   },
   {
    "duration": 295,
    "start_time": "2025-05-08T18:31:02.691Z"
   },
   {
    "duration": 80,
    "start_time": "2025-05-08T18:31:02.991Z"
   },
   {
    "duration": 105,
    "start_time": "2025-05-08T18:31:03.072Z"
   },
   {
    "duration": 7,
    "start_time": "2025-05-08T18:31:03.180Z"
   },
   {
    "duration": 88,
    "start_time": "2025-05-08T18:31:03.189Z"
   },
   {
    "duration": 1311,
    "start_time": "2025-05-08T18:31:03.279Z"
   },
   {
    "duration": 1877,
    "start_time": "2025-05-08T18:31:04.596Z"
   },
   {
    "duration": 770,
    "start_time": "2025-05-08T18:31:06.475Z"
   },
   {
    "duration": 281,
    "start_time": "2025-05-08T18:31:07.246Z"
   },
   {
    "duration": 273,
    "start_time": "2025-05-08T18:31:07.529Z"
   },
   {
    "duration": 16,
    "start_time": "2025-05-08T18:31:07.804Z"
   },
   {
    "duration": 6,
    "start_time": "2025-05-08T18:31:07.821Z"
   },
   {
    "duration": 5,
    "start_time": "2025-05-08T18:31:07.830Z"
   },
   {
    "duration": 3,
    "start_time": "2025-05-08T18:31:07.837Z"
   },
   {
    "duration": 38,
    "start_time": "2025-05-08T18:31:07.841Z"
   },
   {
    "duration": 4518,
    "start_time": "2025-05-08T18:31:07.880Z"
   },
   {
    "duration": 157580,
    "start_time": "2025-05-08T18:31:12.400Z"
   },
   {
    "duration": 76265,
    "start_time": "2025-05-08T18:33:49.982Z"
   },
   {
    "duration": 0,
    "start_time": "2025-05-08T18:35:06.250Z"
   },
   {
    "duration": 0,
    "start_time": "2025-05-08T18:35:06.251Z"
   },
   {
    "duration": 0,
    "start_time": "2025-05-08T18:35:06.253Z"
   },
   {
    "duration": 0,
    "start_time": "2025-05-08T18:35:06.270Z"
   },
   {
    "duration": 0,
    "start_time": "2025-05-08T18:35:06.271Z"
   },
   {
    "duration": 0,
    "start_time": "2025-05-08T18:35:06.273Z"
   },
   {
    "duration": 0,
    "start_time": "2025-05-08T18:35:06.274Z"
   },
   {
    "duration": 0,
    "start_time": "2025-05-08T18:35:06.275Z"
   },
   {
    "duration": 1152,
    "start_time": "2025-05-08T18:37:07.038Z"
   },
   {
    "duration": 28,
    "start_time": "2025-05-08T18:37:08.192Z"
   },
   {
    "duration": 3,
    "start_time": "2025-05-08T18:37:08.221Z"
   },
   {
    "duration": 6,
    "start_time": "2025-05-08T18:37:08.226Z"
   },
   {
    "duration": 4,
    "start_time": "2025-05-08T18:37:08.235Z"
   },
   {
    "duration": 36,
    "start_time": "2025-05-08T18:37:08.240Z"
   },
   {
    "duration": 413,
    "start_time": "2025-05-08T18:37:08.277Z"
   },
   {
    "duration": 390,
    "start_time": "2025-05-08T18:37:08.692Z"
   },
   {
    "duration": 539,
    "start_time": "2025-05-08T18:37:09.085Z"
   },
   {
    "duration": 286,
    "start_time": "2025-05-08T18:37:09.626Z"
   },
   {
    "duration": 270,
    "start_time": "2025-05-08T18:37:09.913Z"
   },
   {
    "duration": 15,
    "start_time": "2025-05-08T18:37:10.185Z"
   },
   {
    "duration": 6,
    "start_time": "2025-05-08T18:37:10.202Z"
   },
   {
    "duration": 3,
    "start_time": "2025-05-08T18:37:10.211Z"
   },
   {
    "duration": 4,
    "start_time": "2025-05-08T18:37:10.216Z"
   },
   {
    "duration": 53,
    "start_time": "2025-05-08T18:37:10.221Z"
   },
   {
    "duration": 4533,
    "start_time": "2025-05-08T18:37:10.277Z"
   },
   {
    "duration": 54158,
    "start_time": "2025-05-08T18:37:14.812Z"
   },
   {
    "duration": 55332,
    "start_time": "2025-05-08T18:38:08.971Z"
   },
   {
    "duration": 31227,
    "start_time": "2025-05-08T18:39:04.305Z"
   },
   {
    "duration": 61676,
    "start_time": "2025-05-08T18:39:35.534Z"
   },
   {
    "duration": 4,
    "start_time": "2025-05-08T18:40:37.212Z"
   },
   {
    "duration": 4,
    "start_time": "2025-05-08T18:40:37.218Z"
   },
   {
    "duration": 4,
    "start_time": "2025-05-08T18:40:37.223Z"
   },
   {
    "duration": 3,
    "start_time": "2025-05-08T18:40:37.229Z"
   },
   {
    "duration": 3,
    "start_time": "2025-05-08T18:40:37.234Z"
   },
   {
    "duration": 33,
    "start_time": "2025-05-08T18:40:37.239Z"
   }
  ],
  "kernelspec": {
   "display_name": "Python 3 (ipykernel)",
   "language": "python",
   "name": "python3"
  },
  "language_info": {
   "codemirror_mode": {
    "name": "ipython",
    "version": 3
   },
   "file_extension": ".py",
   "mimetype": "text/x-python",
   "name": "python",
   "nbconvert_exporter": "python",
   "pygments_lexer": "ipython3",
   "version": "3.12.7"
  },
  "toc": {
   "base_numbering": 1,
   "nav_menu": {},
   "number_sections": true,
   "sideBar": true,
   "skip_h1_title": true,
   "title_cell": "Table of Contents",
   "title_sidebar": "Contents",
   "toc_cell": false,
   "toc_position": {},
   "toc_section_display": true,
   "toc_window_display": false
  }
 },
 "nbformat": 4,
 "nbformat_minor": 4
}
