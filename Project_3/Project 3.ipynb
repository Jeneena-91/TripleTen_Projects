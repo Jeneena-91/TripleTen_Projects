{
 "cells": [
  {
   "cell_type": "markdown",
   "metadata": {},
   "source": [
    "# Which one is a better plan?\n",
    "\n",
    "You work as an analyst for the telecom operator Megaline. The company offers its clients two prepaid plans, Surf and Ultimate. The commercial department wants to know which of the plans brings in more revenue in order to adjust the advertising budget.\n",
    "\n",
    "You are going to carry out a preliminary analysis of the plans based on a relatively small client selection. You'll have the data on 500 Megaline clients: who the clients are, where they're from, which plan they use, and the number of calls they made and text messages they sent in 2018. Your job is to analyze the clients' behavior and determine which prepaid plan brings in more revenue."
   ]
  },
  {
   "cell_type": "markdown",
   "metadata": {},
   "source": [
    "## **Title of the project: Analysis of telecom operator Megaline to find the better plan**"
   ]
  },
  {
   "cell_type": "markdown",
   "metadata": {},
   "source": [
    "#Introduction of the project:\n",
    "    This project analyze two prepaid plans for the telecom operator Megaline. The two prepaid plans that offers by the company to their clients are Surf and Ultimate. Our aim is to analyze the data and find which of the plan brings in more revenue in order to adjust the advertising budget. For this, we are going to carry out a preliminary analysis of the plans based on a relatively small client selection. We'll have the data on 500 Megaline clients: who the clients are, where they're from, which plan they use, and the number of calls they made and text messages they sent in 2018. Our job is to analyze the clients' behavior and determine which prepaid plan brings in more revenue. This project consists of four stages:\n",
    "  - Data initialization and loading\n",
    "  - Preprocessing the data\n",
    "  - Analyze the data and describe the customer's behavior\n",
    "  - Testing the hypotheses"
   ]
  },
  {
   "cell_type": "markdown",
   "metadata": {},
   "source": [
    "##First stage:\n",
    "    *In this stage import all the libraries needed to analyze our data and load the datafiles into different dataframes. Analyze each dataframe and identify the details in each dataframe.*"
   ]
  },
  {
   "cell_type": "markdown",
   "metadata": {},
   "source": [
    "## Initialization"
   ]
  },
  {
   "cell_type": "code",
   "execution_count": 1,
   "metadata": {},
   "outputs": [],
   "source": [
    "# Loading all the libraries\n",
    "import pandas as pd\n",
    "import numpy as np\n",
    "from matplotlib import pyplot as plt\n",
    "from scipy import stats as st"
   ]
  },
  {
   "cell_type": "markdown",
   "metadata": {},
   "source": [
    "## Load data"
   ]
  },
  {
   "cell_type": "markdown",
   "metadata": {},
   "source": [
    "##Load the data files into different DataFrames"
   ]
  },
  {
   "cell_type": "code",
   "execution_count": 2,
   "metadata": {},
   "outputs": [
    {
     "data": {
      "text/html": [
       "<div>\n",
       "<style scoped>\n",
       "    .dataframe tbody tr th:only-of-type {\n",
       "        vertical-align: middle;\n",
       "    }\n",
       "\n",
       "    .dataframe tbody tr th {\n",
       "        vertical-align: top;\n",
       "    }\n",
       "\n",
       "    .dataframe thead th {\n",
       "        text-align: right;\n",
       "    }\n",
       "</style>\n",
       "<table border=\"1\" class=\"dataframe\">\n",
       "  <thead>\n",
       "    <tr style=\"text-align: right;\">\n",
       "      <th></th>\n",
       "      <th>id</th>\n",
       "      <th>user_id</th>\n",
       "      <th>call_date</th>\n",
       "      <th>duration</th>\n",
       "    </tr>\n",
       "  </thead>\n",
       "  <tbody>\n",
       "    <tr>\n",
       "      <th>0</th>\n",
       "      <td>1000_93</td>\n",
       "      <td>1000</td>\n",
       "      <td>2018-12-27</td>\n",
       "      <td>8.52</td>\n",
       "    </tr>\n",
       "    <tr>\n",
       "      <th>1</th>\n",
       "      <td>1000_145</td>\n",
       "      <td>1000</td>\n",
       "      <td>2018-12-27</td>\n",
       "      <td>13.66</td>\n",
       "    </tr>\n",
       "    <tr>\n",
       "      <th>2</th>\n",
       "      <td>1000_247</td>\n",
       "      <td>1000</td>\n",
       "      <td>2018-12-27</td>\n",
       "      <td>14.48</td>\n",
       "    </tr>\n",
       "    <tr>\n",
       "      <th>3</th>\n",
       "      <td>1000_309</td>\n",
       "      <td>1000</td>\n",
       "      <td>2018-12-28</td>\n",
       "      <td>5.76</td>\n",
       "    </tr>\n",
       "    <tr>\n",
       "      <th>4</th>\n",
       "      <td>1000_380</td>\n",
       "      <td>1000</td>\n",
       "      <td>2018-12-30</td>\n",
       "      <td>4.22</td>\n",
       "    </tr>\n",
       "  </tbody>\n",
       "</table>\n",
       "</div>"
      ],
      "text/plain": [
       "         id  user_id   call_date  duration\n",
       "0   1000_93     1000  2018-12-27      8.52\n",
       "1  1000_145     1000  2018-12-27     13.66\n",
       "2  1000_247     1000  2018-12-27     14.48\n",
       "3  1000_309     1000  2018-12-28      5.76\n",
       "4  1000_380     1000  2018-12-30      4.22"
      ]
     },
     "metadata": {},
     "output_type": "display_data"
    },
    {
     "name": "stdout",
     "output_type": "stream",
     "text": [
      "<class 'pandas.core.frame.DataFrame'>\n",
      "RangeIndex: 137735 entries, 0 to 137734\n",
      "Data columns (total 4 columns):\n",
      " #   Column     Non-Null Count   Dtype  \n",
      "---  ------     --------------   -----  \n",
      " 0   id         137735 non-null  object \n",
      " 1   user_id    137735 non-null  int64  \n",
      " 2   call_date  137735 non-null  object \n",
      " 3   duration   137735 non-null  float64\n",
      "dtypes: float64(1), int64(1), object(2)\n",
      "memory usage: 4.2+ MB\n"
     ]
    }
   ],
   "source": [
    "#Read the calls dataframe and identify the contents\n",
    "calls =pd.read_csv('/datasets/megaline_calls.csv')\n",
    "display(calls.head())\n",
    "calls.info()"
   ]
  },
  {
   "cell_type": "markdown",
   "metadata": {},
   "source": [
    "The calls dataframe consists of 137735 entries and 4 columns. Each column describes\n",
    "1. id -unique call identifier\n",
    "2. user_id -the identifier of the user making the call\n",
    "3. call_date -call date\n",
    "4. duration - call duration in minutes"
   ]
  },
  {
   "cell_type": "code",
   "execution_count": 3,
   "metadata": {},
   "outputs": [
    {
     "data": {
      "text/html": [
       "<div>\n",
       "<style scoped>\n",
       "    .dataframe tbody tr th:only-of-type {\n",
       "        vertical-align: middle;\n",
       "    }\n",
       "\n",
       "    .dataframe tbody tr th {\n",
       "        vertical-align: top;\n",
       "    }\n",
       "\n",
       "    .dataframe thead th {\n",
       "        text-align: right;\n",
       "    }\n",
       "</style>\n",
       "<table border=\"1\" class=\"dataframe\">\n",
       "  <thead>\n",
       "    <tr style=\"text-align: right;\">\n",
       "      <th></th>\n",
       "      <th>id</th>\n",
       "      <th>user_id</th>\n",
       "      <th>session_date</th>\n",
       "      <th>mb_used</th>\n",
       "    </tr>\n",
       "  </thead>\n",
       "  <tbody>\n",
       "    <tr>\n",
       "      <th>0</th>\n",
       "      <td>1000_13</td>\n",
       "      <td>1000</td>\n",
       "      <td>2018-12-29</td>\n",
       "      <td>89.86</td>\n",
       "    </tr>\n",
       "    <tr>\n",
       "      <th>1</th>\n",
       "      <td>1000_204</td>\n",
       "      <td>1000</td>\n",
       "      <td>2018-12-31</td>\n",
       "      <td>0.00</td>\n",
       "    </tr>\n",
       "    <tr>\n",
       "      <th>2</th>\n",
       "      <td>1000_379</td>\n",
       "      <td>1000</td>\n",
       "      <td>2018-12-28</td>\n",
       "      <td>660.40</td>\n",
       "    </tr>\n",
       "    <tr>\n",
       "      <th>3</th>\n",
       "      <td>1000_413</td>\n",
       "      <td>1000</td>\n",
       "      <td>2018-12-26</td>\n",
       "      <td>270.99</td>\n",
       "    </tr>\n",
       "    <tr>\n",
       "      <th>4</th>\n",
       "      <td>1000_442</td>\n",
       "      <td>1000</td>\n",
       "      <td>2018-12-27</td>\n",
       "      <td>880.22</td>\n",
       "    </tr>\n",
       "  </tbody>\n",
       "</table>\n",
       "</div>"
      ],
      "text/plain": [
       "         id  user_id session_date  mb_used\n",
       "0   1000_13     1000   2018-12-29    89.86\n",
       "1  1000_204     1000   2018-12-31     0.00\n",
       "2  1000_379     1000   2018-12-28   660.40\n",
       "3  1000_413     1000   2018-12-26   270.99\n",
       "4  1000_442     1000   2018-12-27   880.22"
      ]
     },
     "metadata": {},
     "output_type": "display_data"
    },
    {
     "name": "stdout",
     "output_type": "stream",
     "text": [
      "<class 'pandas.core.frame.DataFrame'>\n",
      "RangeIndex: 104825 entries, 0 to 104824\n",
      "Data columns (total 4 columns):\n",
      " #   Column        Non-Null Count   Dtype  \n",
      "---  ------        --------------   -----  \n",
      " 0   id            104825 non-null  object \n",
      " 1   user_id       104825 non-null  int64  \n",
      " 2   session_date  104825 non-null  object \n",
      " 3   mb_used       104825 non-null  float64\n",
      "dtypes: float64(1), int64(1), object(2)\n",
      "memory usage: 3.2+ MB\n"
     ]
    }
   ],
   "source": [
    "#Read the internet dataframe and identify the contents\n",
    "internet =pd.read_csv('/datasets/megaline_internet.csv')\n",
    "display(internet.head())\n",
    "internet.info()"
   ]
  },
  {
   "cell_type": "markdown",
   "metadata": {},
   "source": [
    "The internet dataframe consists of 104825 entries and 4 columns. Each column describes\n",
    "1. id -unique session identifier\n",
    "2. user_id -the identifier of the user\n",
    "3. session_date -web session date\n",
    "4. mb_used - the volume of data spent during the session(in megabytes)\n"
   ]
  },
  {
   "cell_type": "code",
   "execution_count": 4,
   "metadata": {},
   "outputs": [
    {
     "data": {
      "text/html": [
       "<div>\n",
       "<style scoped>\n",
       "    .dataframe tbody tr th:only-of-type {\n",
       "        vertical-align: middle;\n",
       "    }\n",
       "\n",
       "    .dataframe tbody tr th {\n",
       "        vertical-align: top;\n",
       "    }\n",
       "\n",
       "    .dataframe thead th {\n",
       "        text-align: right;\n",
       "    }\n",
       "</style>\n",
       "<table border=\"1\" class=\"dataframe\">\n",
       "  <thead>\n",
       "    <tr style=\"text-align: right;\">\n",
       "      <th></th>\n",
       "      <th>id</th>\n",
       "      <th>user_id</th>\n",
       "      <th>message_date</th>\n",
       "    </tr>\n",
       "  </thead>\n",
       "  <tbody>\n",
       "    <tr>\n",
       "      <th>0</th>\n",
       "      <td>1000_125</td>\n",
       "      <td>1000</td>\n",
       "      <td>2018-12-27</td>\n",
       "    </tr>\n",
       "    <tr>\n",
       "      <th>1</th>\n",
       "      <td>1000_160</td>\n",
       "      <td>1000</td>\n",
       "      <td>2018-12-31</td>\n",
       "    </tr>\n",
       "    <tr>\n",
       "      <th>2</th>\n",
       "      <td>1000_223</td>\n",
       "      <td>1000</td>\n",
       "      <td>2018-12-31</td>\n",
       "    </tr>\n",
       "    <tr>\n",
       "      <th>3</th>\n",
       "      <td>1000_251</td>\n",
       "      <td>1000</td>\n",
       "      <td>2018-12-27</td>\n",
       "    </tr>\n",
       "    <tr>\n",
       "      <th>4</th>\n",
       "      <td>1000_255</td>\n",
       "      <td>1000</td>\n",
       "      <td>2018-12-26</td>\n",
       "    </tr>\n",
       "  </tbody>\n",
       "</table>\n",
       "</div>"
      ],
      "text/plain": [
       "         id  user_id message_date\n",
       "0  1000_125     1000   2018-12-27\n",
       "1  1000_160     1000   2018-12-31\n",
       "2  1000_223     1000   2018-12-31\n",
       "3  1000_251     1000   2018-12-27\n",
       "4  1000_255     1000   2018-12-26"
      ]
     },
     "metadata": {},
     "output_type": "display_data"
    },
    {
     "name": "stdout",
     "output_type": "stream",
     "text": [
      "<class 'pandas.core.frame.DataFrame'>\n",
      "RangeIndex: 76051 entries, 0 to 76050\n",
      "Data columns (total 3 columns):\n",
      " #   Column        Non-Null Count  Dtype \n",
      "---  ------        --------------  ----- \n",
      " 0   id            76051 non-null  object\n",
      " 1   user_id       76051 non-null  int64 \n",
      " 2   message_date  76051 non-null  object\n",
      "dtypes: int64(1), object(2)\n",
      "memory usage: 1.7+ MB\n"
     ]
    }
   ],
   "source": [
    "#Read the messages dataframe and identify the contents\n",
    "messages =pd.read_csv('/datasets/megaline_messages.csv')\n",
    "display(messages.head())\n",
    "messages.info()"
   ]
  },
  {
   "cell_type": "markdown",
   "metadata": {},
   "source": [
    "The messages dataframe consists of 76051 entries and 3 columns. Each column describes\n",
    "1. id -unique text message identifier\n",
    "2. user_id -the identifier of the user sending the text\n",
    "3. message_date -text message date"
   ]
  },
  {
   "cell_type": "code",
   "execution_count": 5,
   "metadata": {
    "scrolled": true
   },
   "outputs": [
    {
     "data": {
      "text/html": [
       "<div>\n",
       "<style scoped>\n",
       "    .dataframe tbody tr th:only-of-type {\n",
       "        vertical-align: middle;\n",
       "    }\n",
       "\n",
       "    .dataframe tbody tr th {\n",
       "        vertical-align: top;\n",
       "    }\n",
       "\n",
       "    .dataframe thead th {\n",
       "        text-align: right;\n",
       "    }\n",
       "</style>\n",
       "<table border=\"1\" class=\"dataframe\">\n",
       "  <thead>\n",
       "    <tr style=\"text-align: right;\">\n",
       "      <th></th>\n",
       "      <th>messages_included</th>\n",
       "      <th>mb_per_month_included</th>\n",
       "      <th>minutes_included</th>\n",
       "      <th>usd_monthly_pay</th>\n",
       "      <th>usd_per_gb</th>\n",
       "      <th>usd_per_message</th>\n",
       "      <th>usd_per_minute</th>\n",
       "      <th>plan_name</th>\n",
       "    </tr>\n",
       "  </thead>\n",
       "  <tbody>\n",
       "    <tr>\n",
       "      <th>0</th>\n",
       "      <td>50</td>\n",
       "      <td>15360</td>\n",
       "      <td>500</td>\n",
       "      <td>20</td>\n",
       "      <td>10</td>\n",
       "      <td>0.03</td>\n",
       "      <td>0.03</td>\n",
       "      <td>surf</td>\n",
       "    </tr>\n",
       "    <tr>\n",
       "      <th>1</th>\n",
       "      <td>1000</td>\n",
       "      <td>30720</td>\n",
       "      <td>3000</td>\n",
       "      <td>70</td>\n",
       "      <td>7</td>\n",
       "      <td>0.01</td>\n",
       "      <td>0.01</td>\n",
       "      <td>ultimate</td>\n",
       "    </tr>\n",
       "  </tbody>\n",
       "</table>\n",
       "</div>"
      ],
      "text/plain": [
       "   messages_included  mb_per_month_included  minutes_included  \\\n",
       "0                 50                  15360               500   \n",
       "1               1000                  30720              3000   \n",
       "\n",
       "   usd_monthly_pay  usd_per_gb  usd_per_message  usd_per_minute plan_name  \n",
       "0               20          10             0.03            0.03      surf  \n",
       "1               70           7             0.01            0.01  ultimate  "
      ]
     },
     "metadata": {},
     "output_type": "display_data"
    },
    {
     "name": "stdout",
     "output_type": "stream",
     "text": [
      "<class 'pandas.core.frame.DataFrame'>\n",
      "RangeIndex: 2 entries, 0 to 1\n",
      "Data columns (total 8 columns):\n",
      " #   Column                 Non-Null Count  Dtype  \n",
      "---  ------                 --------------  -----  \n",
      " 0   messages_included      2 non-null      int64  \n",
      " 1   mb_per_month_included  2 non-null      int64  \n",
      " 2   minutes_included       2 non-null      int64  \n",
      " 3   usd_monthly_pay        2 non-null      int64  \n",
      " 4   usd_per_gb             2 non-null      int64  \n",
      " 5   usd_per_message        2 non-null      float64\n",
      " 6   usd_per_minute         2 non-null      float64\n",
      " 7   plan_name              2 non-null      object \n",
      "dtypes: float64(2), int64(5), object(1)\n",
      "memory usage: 256.0+ bytes\n"
     ]
    }
   ],
   "source": [
    "#Read the plans dataframe and identify the contents\n",
    "plans =pd.read_csv('/datasets/megaline_plans.csv')\n",
    "display(plans.head())\n",
    "plans.info()"
   ]
  },
  {
   "cell_type": "markdown",
   "metadata": {},
   "source": [
    "The plans dataframe consists of 2 entries and 8 columns. Each column describes\n",
    "1. plan_name -calling plan name\n",
    "2. usd_monthly_pay -Monthly charges in US dollars\n",
    "3. minutes_included - monthly minute allowance\n",
    "4. messages_included - monthly text allowance\n",
    "5. mb_per_month_included -data volume allowance(in megabytes)\n",
    "6. usd_per_minute - price per minute after exceeding the package limits\n",
    "7. usd_per_message-price per text after exceeding the package limits\n",
    "8. usd_per_gb -price per extra gigabyte of data after exceeding the package limits\n"
   ]
  },
  {
   "cell_type": "code",
   "execution_count": 6,
   "metadata": {},
   "outputs": [
    {
     "data": {
      "text/html": [
       "<div>\n",
       "<style scoped>\n",
       "    .dataframe tbody tr th:only-of-type {\n",
       "        vertical-align: middle;\n",
       "    }\n",
       "\n",
       "    .dataframe tbody tr th {\n",
       "        vertical-align: top;\n",
       "    }\n",
       "\n",
       "    .dataframe thead th {\n",
       "        text-align: right;\n",
       "    }\n",
       "</style>\n",
       "<table border=\"1\" class=\"dataframe\">\n",
       "  <thead>\n",
       "    <tr style=\"text-align: right;\">\n",
       "      <th></th>\n",
       "      <th>user_id</th>\n",
       "      <th>first_name</th>\n",
       "      <th>last_name</th>\n",
       "      <th>age</th>\n",
       "      <th>city</th>\n",
       "      <th>reg_date</th>\n",
       "      <th>plan</th>\n",
       "      <th>churn_date</th>\n",
       "    </tr>\n",
       "  </thead>\n",
       "  <tbody>\n",
       "    <tr>\n",
       "      <th>0</th>\n",
       "      <td>1000</td>\n",
       "      <td>Anamaria</td>\n",
       "      <td>Bauer</td>\n",
       "      <td>45</td>\n",
       "      <td>Atlanta-Sandy Springs-Roswell, GA MSA</td>\n",
       "      <td>2018-12-24</td>\n",
       "      <td>ultimate</td>\n",
       "      <td>NaN</td>\n",
       "    </tr>\n",
       "    <tr>\n",
       "      <th>1</th>\n",
       "      <td>1001</td>\n",
       "      <td>Mickey</td>\n",
       "      <td>Wilkerson</td>\n",
       "      <td>28</td>\n",
       "      <td>Seattle-Tacoma-Bellevue, WA MSA</td>\n",
       "      <td>2018-08-13</td>\n",
       "      <td>surf</td>\n",
       "      <td>NaN</td>\n",
       "    </tr>\n",
       "    <tr>\n",
       "      <th>2</th>\n",
       "      <td>1002</td>\n",
       "      <td>Carlee</td>\n",
       "      <td>Hoffman</td>\n",
       "      <td>36</td>\n",
       "      <td>Las Vegas-Henderson-Paradise, NV MSA</td>\n",
       "      <td>2018-10-21</td>\n",
       "      <td>surf</td>\n",
       "      <td>NaN</td>\n",
       "    </tr>\n",
       "    <tr>\n",
       "      <th>3</th>\n",
       "      <td>1003</td>\n",
       "      <td>Reynaldo</td>\n",
       "      <td>Jenkins</td>\n",
       "      <td>52</td>\n",
       "      <td>Tulsa, OK MSA</td>\n",
       "      <td>2018-01-28</td>\n",
       "      <td>surf</td>\n",
       "      <td>NaN</td>\n",
       "    </tr>\n",
       "    <tr>\n",
       "      <th>4</th>\n",
       "      <td>1004</td>\n",
       "      <td>Leonila</td>\n",
       "      <td>Thompson</td>\n",
       "      <td>40</td>\n",
       "      <td>Seattle-Tacoma-Bellevue, WA MSA</td>\n",
       "      <td>2018-05-23</td>\n",
       "      <td>surf</td>\n",
       "      <td>NaN</td>\n",
       "    </tr>\n",
       "  </tbody>\n",
       "</table>\n",
       "</div>"
      ],
      "text/plain": [
       "   user_id first_name  last_name  age                                   city  \\\n",
       "0     1000   Anamaria      Bauer   45  Atlanta-Sandy Springs-Roswell, GA MSA   \n",
       "1     1001     Mickey  Wilkerson   28        Seattle-Tacoma-Bellevue, WA MSA   \n",
       "2     1002     Carlee    Hoffman   36   Las Vegas-Henderson-Paradise, NV MSA   \n",
       "3     1003   Reynaldo    Jenkins   52                          Tulsa, OK MSA   \n",
       "4     1004    Leonila   Thompson   40        Seattle-Tacoma-Bellevue, WA MSA   \n",
       "\n",
       "     reg_date      plan churn_date  \n",
       "0  2018-12-24  ultimate        NaN  \n",
       "1  2018-08-13      surf        NaN  \n",
       "2  2018-10-21      surf        NaN  \n",
       "3  2018-01-28      surf        NaN  \n",
       "4  2018-05-23      surf        NaN  "
      ]
     },
     "metadata": {},
     "output_type": "display_data"
    },
    {
     "name": "stdout",
     "output_type": "stream",
     "text": [
      "<class 'pandas.core.frame.DataFrame'>\n",
      "RangeIndex: 500 entries, 0 to 499\n",
      "Data columns (total 8 columns):\n",
      " #   Column      Non-Null Count  Dtype \n",
      "---  ------      --------------  ----- \n",
      " 0   user_id     500 non-null    int64 \n",
      " 1   first_name  500 non-null    object\n",
      " 2   last_name   500 non-null    object\n",
      " 3   age         500 non-null    int64 \n",
      " 4   city        500 non-null    object\n",
      " 5   reg_date    500 non-null    object\n",
      " 6   plan        500 non-null    object\n",
      " 7   churn_date  34 non-null     object\n",
      "dtypes: int64(2), object(6)\n",
      "memory usage: 31.4+ KB\n"
     ]
    }
   ],
   "source": [
    "#Read the users dataframe and identify the contents\n",
    "users =pd.read_csv('/datasets/megaline_users.csv')\n",
    "display(users.head())\n",
    "users.info()"
   ]
  },
  {
   "cell_type": "markdown",
   "metadata": {},
   "source": [
    "The users dataframe consists of 500 entries and 8 columns. Each column describes\n",
    "1. user_id -unique user identifier\n",
    "2. first_name -user's name\n",
    "3. last_name -user's last name\n",
    "4. age-user's age(years)\n",
    "5. reg_date -subscription date (dd, mm, yy)\n",
    "6. churn_date - the date the user stopped using the service\n",
    "7. city -user's city of residence\n",
    "8. plan - calling plan name"
   ]
  },
  {
   "cell_type": "markdown",
   "metadata": {},
   "source": [
    "## Prepare the data"
   ]
  },
  {
   "cell_type": "markdown",
   "metadata": {},
   "source": [
    "##Second Stage:\n",
    "* In this stage, analyze the data and prepare the data for analysis. For example, convert the data into necessary datatypes, eliminate duplicate values, find the missing values etc.*"
   ]
  },
  {
   "cell_type": "code",
   "execution_count": 7,
   "metadata": {},
   "outputs": [
    {
     "name": "stdout",
     "output_type": "stream",
     "text": [
      "0\n"
     ]
    }
   ],
   "source": [
    "#Check for duplicate rows in users dataframe\n",
    "users_duplicates =users.duplicated().sum()\n",
    "print(users_duplicates)"
   ]
  },
  {
   "cell_type": "markdown",
   "metadata": {},
   "source": [
    "*The result shows no duplicated rows in users dataframe*"
   ]
  },
  {
   "cell_type": "code",
   "execution_count": 8,
   "metadata": {},
   "outputs": [
    {
     "name": "stdout",
     "output_type": "stream",
     "text": [
      "0\n"
     ]
    }
   ],
   "source": [
    "#Check for duplicate rows in messages dataframe\n",
    "messages_duplicates =messages.duplicated().sum()\n",
    "print(messages_duplicates)"
   ]
  },
  {
   "cell_type": "markdown",
   "metadata": {},
   "source": [
    "*The result shows no duplicated rows in messages dataframe*"
   ]
  },
  {
   "cell_type": "code",
   "execution_count": 9,
   "metadata": {},
   "outputs": [
    {
     "name": "stdout",
     "output_type": "stream",
     "text": [
      "0\n"
     ]
    }
   ],
   "source": [
    "#Check for duplicate rows in calls dataframe\n",
    "calls_duplicates =calls.duplicated().sum()\n",
    "print(calls_duplicates)"
   ]
  },
  {
   "cell_type": "markdown",
   "metadata": {},
   "source": [
    "*The result shows no duplicated rows in calls dataframe*"
   ]
  },
  {
   "cell_type": "code",
   "execution_count": 10,
   "metadata": {},
   "outputs": [
    {
     "name": "stdout",
     "output_type": "stream",
     "text": [
      "0\n"
     ]
    }
   ],
   "source": [
    "#Check for duplicate rows in users dataframe\n",
    "internet_duplicates =internet.duplicated().sum()\n",
    "print(internet_duplicates)"
   ]
  },
  {
   "cell_type": "markdown",
   "metadata": {},
   "source": [
    "*The result shows no duplicated rows in internet dataframe*"
   ]
  },
  {
   "cell_type": "code",
   "execution_count": 11,
   "metadata": {},
   "outputs": [
    {
     "name": "stdout",
     "output_type": "stream",
     "text": [
      "user_id         0\n",
      "first_name      0\n",
      "last_name       0\n",
      "age             0\n",
      "city            0\n",
      "reg_date        0\n",
      "plan            0\n",
      "churn_date    466\n",
      "dtype: int64\n"
     ]
    }
   ],
   "source": [
    "#Check for missing values in users datframe\n",
    "users_missing =users.isnull().sum()\n",
    "print(users_missing)"
   ]
  },
  {
   "cell_type": "markdown",
   "metadata": {},
   "source": [
    "*The result shows 466 values are missing in churn_date column. That means among 500 customers, 466 customers currently using the calling plan and the remaining 34 users stopped using the service*"
   ]
  },
  {
   "cell_type": "code",
   "execution_count": 12,
   "metadata": {},
   "outputs": [
    {
     "name": "stdout",
     "output_type": "stream",
     "text": [
      "id           0\n",
      "user_id      0\n",
      "call_date    0\n",
      "duration     0\n",
      "dtype: int64\n"
     ]
    }
   ],
   "source": [
    "#Check for missing values in calls datframe\n",
    "calls_missing =calls.isnull().sum()\n",
    "print(calls_missing)"
   ]
  },
  {
   "cell_type": "markdown",
   "metadata": {},
   "source": [
    "*The result shows no missing values in calls dataframe*"
   ]
  },
  {
   "cell_type": "code",
   "execution_count": 13,
   "metadata": {},
   "outputs": [
    {
     "name": "stdout",
     "output_type": "stream",
     "text": [
      "id           0\n",
      "user_id      0\n",
      "call_date    0\n",
      "duration     0\n",
      "dtype: int64\n"
     ]
    }
   ],
   "source": [
    "#Check for missing values in messages datframe\n",
    "messages_missing =calls.isnull().sum()\n",
    "print(messages_missing)"
   ]
  },
  {
   "cell_type": "markdown",
   "metadata": {},
   "source": [
    "*The result shows no missing values in messages dataframe*"
   ]
  },
  {
   "cell_type": "code",
   "execution_count": 14,
   "metadata": {},
   "outputs": [
    {
     "name": "stdout",
     "output_type": "stream",
     "text": [
      "id              0\n",
      "user_id         0\n",
      "session_date    0\n",
      "mb_used         0\n",
      "dtype: int64\n"
     ]
    }
   ],
   "source": [
    "#Check for missing values in internet datframe\n",
    "internet_missing =internet.isnull().sum()\n",
    "print(internet_missing)"
   ]
  },
  {
   "cell_type": "markdown",
   "metadata": {},
   "source": [
    "*The result shows no missing values in internet dataframe*"
   ]
  },
  {
   "cell_type": "markdown",
   "metadata": {},
   "source": [
    "## Plans"
   ]
  },
  {
   "cell_type": "code",
   "execution_count": 15,
   "metadata": {},
   "outputs": [
    {
     "name": "stdout",
     "output_type": "stream",
     "text": [
      "<class 'pandas.core.frame.DataFrame'>\n",
      "RangeIndex: 2 entries, 0 to 1\n",
      "Data columns (total 8 columns):\n",
      " #   Column                 Non-Null Count  Dtype  \n",
      "---  ------                 --------------  -----  \n",
      " 0   messages_included      2 non-null      int64  \n",
      " 1   mb_per_month_included  2 non-null      int64  \n",
      " 2   minutes_included       2 non-null      int64  \n",
      " 3   usd_monthly_pay        2 non-null      int64  \n",
      " 4   usd_per_gb             2 non-null      int64  \n",
      " 5   usd_per_message        2 non-null      float64\n",
      " 6   usd_per_minute         2 non-null      float64\n",
      " 7   plan_name              2 non-null      object \n",
      "dtypes: float64(2), int64(5), object(1)\n",
      "memory usage: 256.0+ bytes\n"
     ]
    },
    {
     "data": {
      "text/html": [
       "<div>\n",
       "<style scoped>\n",
       "    .dataframe tbody tr th:only-of-type {\n",
       "        vertical-align: middle;\n",
       "    }\n",
       "\n",
       "    .dataframe tbody tr th {\n",
       "        vertical-align: top;\n",
       "    }\n",
       "\n",
       "    .dataframe thead th {\n",
       "        text-align: right;\n",
       "    }\n",
       "</style>\n",
       "<table border=\"1\" class=\"dataframe\">\n",
       "  <thead>\n",
       "    <tr style=\"text-align: right;\">\n",
       "      <th></th>\n",
       "      <th>messages_included</th>\n",
       "      <th>mb_per_month_included</th>\n",
       "      <th>minutes_included</th>\n",
       "      <th>usd_monthly_pay</th>\n",
       "      <th>usd_per_gb</th>\n",
       "      <th>usd_per_message</th>\n",
       "      <th>usd_per_minute</th>\n",
       "    </tr>\n",
       "  </thead>\n",
       "  <tbody>\n",
       "    <tr>\n",
       "      <th>count</th>\n",
       "      <td>2.000000</td>\n",
       "      <td>2.000000</td>\n",
       "      <td>2.000000</td>\n",
       "      <td>2.000000</td>\n",
       "      <td>2.00000</td>\n",
       "      <td>2.000000</td>\n",
       "      <td>2.000000</td>\n",
       "    </tr>\n",
       "    <tr>\n",
       "      <th>mean</th>\n",
       "      <td>525.000000</td>\n",
       "      <td>23040.000000</td>\n",
       "      <td>1750.000000</td>\n",
       "      <td>45.000000</td>\n",
       "      <td>8.50000</td>\n",
       "      <td>0.020000</td>\n",
       "      <td>0.020000</td>\n",
       "    </tr>\n",
       "    <tr>\n",
       "      <th>std</th>\n",
       "      <td>671.751442</td>\n",
       "      <td>10861.160159</td>\n",
       "      <td>1767.766953</td>\n",
       "      <td>35.355339</td>\n",
       "      <td>2.12132</td>\n",
       "      <td>0.014142</td>\n",
       "      <td>0.014142</td>\n",
       "    </tr>\n",
       "    <tr>\n",
       "      <th>min</th>\n",
       "      <td>50.000000</td>\n",
       "      <td>15360.000000</td>\n",
       "      <td>500.000000</td>\n",
       "      <td>20.000000</td>\n",
       "      <td>7.00000</td>\n",
       "      <td>0.010000</td>\n",
       "      <td>0.010000</td>\n",
       "    </tr>\n",
       "    <tr>\n",
       "      <th>25%</th>\n",
       "      <td>287.500000</td>\n",
       "      <td>19200.000000</td>\n",
       "      <td>1125.000000</td>\n",
       "      <td>32.500000</td>\n",
       "      <td>7.75000</td>\n",
       "      <td>0.015000</td>\n",
       "      <td>0.015000</td>\n",
       "    </tr>\n",
       "    <tr>\n",
       "      <th>50%</th>\n",
       "      <td>525.000000</td>\n",
       "      <td>23040.000000</td>\n",
       "      <td>1750.000000</td>\n",
       "      <td>45.000000</td>\n",
       "      <td>8.50000</td>\n",
       "      <td>0.020000</td>\n",
       "      <td>0.020000</td>\n",
       "    </tr>\n",
       "    <tr>\n",
       "      <th>75%</th>\n",
       "      <td>762.500000</td>\n",
       "      <td>26880.000000</td>\n",
       "      <td>2375.000000</td>\n",
       "      <td>57.500000</td>\n",
       "      <td>9.25000</td>\n",
       "      <td>0.025000</td>\n",
       "      <td>0.025000</td>\n",
       "    </tr>\n",
       "    <tr>\n",
       "      <th>max</th>\n",
       "      <td>1000.000000</td>\n",
       "      <td>30720.000000</td>\n",
       "      <td>3000.000000</td>\n",
       "      <td>70.000000</td>\n",
       "      <td>10.00000</td>\n",
       "      <td>0.030000</td>\n",
       "      <td>0.030000</td>\n",
       "    </tr>\n",
       "  </tbody>\n",
       "</table>\n",
       "</div>"
      ],
      "text/plain": [
       "       messages_included  mb_per_month_included  minutes_included  \\\n",
       "count           2.000000               2.000000          2.000000   \n",
       "mean          525.000000           23040.000000       1750.000000   \n",
       "std           671.751442           10861.160159       1767.766953   \n",
       "min            50.000000           15360.000000        500.000000   \n",
       "25%           287.500000           19200.000000       1125.000000   \n",
       "50%           525.000000           23040.000000       1750.000000   \n",
       "75%           762.500000           26880.000000       2375.000000   \n",
       "max          1000.000000           30720.000000       3000.000000   \n",
       "\n",
       "       usd_monthly_pay  usd_per_gb  usd_per_message  usd_per_minute  \n",
       "count         2.000000     2.00000         2.000000        2.000000  \n",
       "mean         45.000000     8.50000         0.020000        0.020000  \n",
       "std          35.355339     2.12132         0.014142        0.014142  \n",
       "min          20.000000     7.00000         0.010000        0.010000  \n",
       "25%          32.500000     7.75000         0.015000        0.015000  \n",
       "50%          45.000000     8.50000         0.020000        0.020000  \n",
       "75%          57.500000     9.25000         0.025000        0.025000  \n",
       "max          70.000000    10.00000         0.030000        0.030000  "
      ]
     },
     "execution_count": 15,
     "metadata": {},
     "output_type": "execute_result"
    }
   ],
   "source": [
    "# Print the general/summary information about the plans' DataFrame\n",
    "plans.info()\n",
    "plans.describe()"
   ]
  },
  {
   "cell_type": "code",
   "execution_count": 16,
   "metadata": {},
   "outputs": [
    {
     "name": "stdout",
     "output_type": "stream",
     "text": [
      "   messages_included  mb_per_month_included  minutes_included  \\\n",
      "0                 50                  15360               500   \n",
      "1               1000                  30720              3000   \n",
      "\n",
      "   usd_monthly_pay  usd_per_gb  usd_per_message  usd_per_minute plan_name  \n",
      "0               20          10             0.03            0.03      surf  \n",
      "1               70           7             0.01            0.01  ultimate  \n"
     ]
    }
   ],
   "source": [
    "# Print a sample of data for plans\n",
    "print(plans)\n"
   ]
  },
  {
   "cell_type": "markdown",
   "metadata": {},
   "source": [
    " "
   ]
  },
  {
   "cell_type": "markdown",
   "metadata": {},
   "source": [
    "*The datframe plan gives the details of two plans.\n",
    "- Surf\n",
    "- Ultimate\n",
    "\n",
    "From the above table the the monthly charge for surf is 20 dollars and for ultimate plan it is 70 dollars.  For plan surf, it consists of 500 monthly minutes, 50 text messages and 15 GB of data. After exceeding the limits, for each minute, the users should pay 3cents and for each message the user should pay 3 cents and for each gb of data pay 10 dollars. \n",
    "Similarly, for plan ultimate, it includes 3000 monthly minutes, 1000 text messages and 30 GB of data. After exceeding the package limits, the user should pay for each minute 1 cent, for each message 1 cent and for each GB of data 7 dollars.\n",
    "The data type for each column is verified and perfectly good for further analysis.*"
   ]
  },
  {
   "cell_type": "markdown",
   "metadata": {},
   "source": [
    "## Fix data"
   ]
  },
  {
   "cell_type": "markdown",
   "metadata": {},
   "source": [
    "*No issues with the given data in the intial observations*"
   ]
  },
  {
   "cell_type": "markdown",
   "metadata": {},
   "source": [
    "## Enrich data"
   ]
  },
  {
   "cell_type": "markdown",
   "metadata": {},
   "source": [
    "*No additional factors to the data*"
   ]
  },
  {
   "cell_type": "markdown",
   "metadata": {},
   "source": [
    "## Users"
   ]
  },
  {
   "cell_type": "code",
   "execution_count": 17,
   "metadata": {},
   "outputs": [
    {
     "name": "stdout",
     "output_type": "stream",
     "text": [
      "<class 'pandas.core.frame.DataFrame'>\n",
      "RangeIndex: 500 entries, 0 to 499\n",
      "Data columns (total 8 columns):\n",
      " #   Column      Non-Null Count  Dtype \n",
      "---  ------      --------------  ----- \n",
      " 0   user_id     500 non-null    int64 \n",
      " 1   first_name  500 non-null    object\n",
      " 2   last_name   500 non-null    object\n",
      " 3   age         500 non-null    int64 \n",
      " 4   city        500 non-null    object\n",
      " 5   reg_date    500 non-null    object\n",
      " 6   plan        500 non-null    object\n",
      " 7   churn_date  34 non-null     object\n",
      "dtypes: int64(2), object(6)\n",
      "memory usage: 31.4+ KB\n"
     ]
    }
   ],
   "source": [
    "# Print the general/summary information about the users' DataFrame\n",
    "users.info()"
   ]
  },
  {
   "cell_type": "code",
   "execution_count": 18,
   "metadata": {},
   "outputs": [
    {
     "name": "stdout",
     "output_type": "stream",
     "text": [
      "   user_id first_name  last_name  age                                   city  \\\n",
      "0     1000   Anamaria      Bauer   45  Atlanta-Sandy Springs-Roswell, GA MSA   \n",
      "1     1001     Mickey  Wilkerson   28        Seattle-Tacoma-Bellevue, WA MSA   \n",
      "2     1002     Carlee    Hoffman   36   Las Vegas-Henderson-Paradise, NV MSA   \n",
      "3     1003   Reynaldo    Jenkins   52                          Tulsa, OK MSA   \n",
      "4     1004    Leonila   Thompson   40        Seattle-Tacoma-Bellevue, WA MSA   \n",
      "\n",
      "     reg_date      plan churn_date  \n",
      "0  2018-12-24  ultimate        NaN  \n",
      "1  2018-08-13      surf        NaN  \n",
      "2  2018-10-21      surf        NaN  \n",
      "3  2018-01-28      surf        NaN  \n",
      "4  2018-05-23      surf        NaN  \n"
     ]
    }
   ],
   "source": [
    "#Print a sample of data for plans\n",
    "print(users.head())\n"
   ]
  },
  {
   "cell_type": "markdown",
   "metadata": {},
   "source": [
    "The users data frame consists of the user details like the user id, first name, last name, age, city, reg_date etc. Here we can see the inappropriate dates datatype. i.e, tha reg_date and churn_date is object type and should be in datetime type for further analysis. Also found that MSA in all city column and it may be an error. So we can remove MSA from city column. Also found that values in churn_date is missing and we can replace it with default values. "
   ]
  },
  {
   "cell_type": "markdown",
   "metadata": {},
   "source": []
  },
  {
   "cell_type": "markdown",
   "metadata": {},
   "source": [
    " "
   ]
  },
  {
   "cell_type": "markdown",
   "metadata": {},
   "source": [
    "### Fix Data"
   ]
  },
  {
   "cell_type": "code",
   "execution_count": 19,
   "metadata": {},
   "outputs": [
    {
     "name": "stdout",
     "output_type": "stream",
     "text": [
      "<class 'pandas.core.frame.DataFrame'>\n",
      "RangeIndex: 500 entries, 0 to 499\n",
      "Data columns (total 8 columns):\n",
      " #   Column      Non-Null Count  Dtype         \n",
      "---  ------      --------------  -----         \n",
      " 0   user_id     500 non-null    int64         \n",
      " 1   first_name  500 non-null    object        \n",
      " 2   last_name   500 non-null    object        \n",
      " 3   age         500 non-null    int64         \n",
      " 4   city        500 non-null    object        \n",
      " 5   reg_date    500 non-null    datetime64[ns]\n",
      " 6   plan        500 non-null    object        \n",
      " 7   churn_date  34 non-null     datetime64[ns]\n",
      "dtypes: datetime64[ns](2), int64(2), object(4)\n",
      "memory usage: 31.4+ KB\n"
     ]
    }
   ],
   "source": [
    "#Convert the date data types to datetime\n",
    "users['reg_date'] =pd.to_datetime(users['reg_date'])\n",
    "users['churn_date'] =pd.to_datetime(users['churn_date'])\n",
    "users.info()"
   ]
  },
  {
   "cell_type": "markdown",
   "metadata": {},
   "source": [
    "The reg_date and churn_date are converted to datetime64[ns] datatype. "
   ]
  },
  {
   "cell_type": "code",
   "execution_count": 20,
   "metadata": {},
   "outputs": [
    {
     "data": {
      "text/html": [
       "<div>\n",
       "<style scoped>\n",
       "    .dataframe tbody tr th:only-of-type {\n",
       "        vertical-align: middle;\n",
       "    }\n",
       "\n",
       "    .dataframe tbody tr th {\n",
       "        vertical-align: top;\n",
       "    }\n",
       "\n",
       "    .dataframe thead th {\n",
       "        text-align: right;\n",
       "    }\n",
       "</style>\n",
       "<table border=\"1\" class=\"dataframe\">\n",
       "  <thead>\n",
       "    <tr style=\"text-align: right;\">\n",
       "      <th></th>\n",
       "      <th>user_id</th>\n",
       "      <th>first_name</th>\n",
       "      <th>last_name</th>\n",
       "      <th>age</th>\n",
       "      <th>city</th>\n",
       "      <th>reg_date</th>\n",
       "      <th>plan</th>\n",
       "      <th>churn_date</th>\n",
       "    </tr>\n",
       "  </thead>\n",
       "  <tbody>\n",
       "    <tr>\n",
       "      <th>0</th>\n",
       "      <td>1000</td>\n",
       "      <td>Anamaria</td>\n",
       "      <td>Bauer</td>\n",
       "      <td>45</td>\n",
       "      <td>Atlanta-Sandy Springs-Roswell, GA</td>\n",
       "      <td>2018-12-24</td>\n",
       "      <td>ultimate</td>\n",
       "      <td>NaT</td>\n",
       "    </tr>\n",
       "    <tr>\n",
       "      <th>1</th>\n",
       "      <td>1001</td>\n",
       "      <td>Mickey</td>\n",
       "      <td>Wilkerson</td>\n",
       "      <td>28</td>\n",
       "      <td>Seattle-Tacoma-Bellevue, WA</td>\n",
       "      <td>2018-08-13</td>\n",
       "      <td>surf</td>\n",
       "      <td>NaT</td>\n",
       "    </tr>\n",
       "    <tr>\n",
       "      <th>2</th>\n",
       "      <td>1002</td>\n",
       "      <td>Carlee</td>\n",
       "      <td>Hoffman</td>\n",
       "      <td>36</td>\n",
       "      <td>Las Vegas-Henderson-Paradise, NV</td>\n",
       "      <td>2018-10-21</td>\n",
       "      <td>surf</td>\n",
       "      <td>NaT</td>\n",
       "    </tr>\n",
       "    <tr>\n",
       "      <th>3</th>\n",
       "      <td>1003</td>\n",
       "      <td>Reynaldo</td>\n",
       "      <td>Jenkins</td>\n",
       "      <td>52</td>\n",
       "      <td>Tulsa, OK</td>\n",
       "      <td>2018-01-28</td>\n",
       "      <td>surf</td>\n",
       "      <td>NaT</td>\n",
       "    </tr>\n",
       "    <tr>\n",
       "      <th>4</th>\n",
       "      <td>1004</td>\n",
       "      <td>Leonila</td>\n",
       "      <td>Thompson</td>\n",
       "      <td>40</td>\n",
       "      <td>Seattle-Tacoma-Bellevue, WA</td>\n",
       "      <td>2018-05-23</td>\n",
       "      <td>surf</td>\n",
       "      <td>NaT</td>\n",
       "    </tr>\n",
       "  </tbody>\n",
       "</table>\n",
       "</div>"
      ],
      "text/plain": [
       "   user_id first_name  last_name  age                                 city  \\\n",
       "0     1000   Anamaria      Bauer   45  Atlanta-Sandy Springs-Roswell, GA     \n",
       "1     1001     Mickey  Wilkerson   28        Seattle-Tacoma-Bellevue, WA     \n",
       "2     1002     Carlee    Hoffman   36   Las Vegas-Henderson-Paradise, NV     \n",
       "3     1003   Reynaldo    Jenkins   52                          Tulsa, OK     \n",
       "4     1004    Leonila   Thompson   40        Seattle-Tacoma-Bellevue, WA     \n",
       "\n",
       "    reg_date      plan churn_date  \n",
       "0 2018-12-24  ultimate        NaT  \n",
       "1 2018-08-13      surf        NaT  \n",
       "2 2018-10-21      surf        NaT  \n",
       "3 2018-01-28      surf        NaT  \n",
       "4 2018-05-23      surf        NaT  "
      ]
     },
     "metadata": {},
     "output_type": "display_data"
    }
   ],
   "source": [
    "#Replace MSA in city column with a space\n",
    "users['city'] =users['city'].str.replace('MSA', ' ')\n",
    "display(users.head())"
   ]
  },
  {
   "cell_type": "code",
   "execution_count": 21,
   "metadata": {},
   "outputs": [
    {
     "name": "stdout",
     "output_type": "stream",
     "text": [
      "<class 'pandas.core.frame.DataFrame'>\n",
      "RangeIndex: 500 entries, 0 to 499\n",
      "Data columns (total 7 columns):\n",
      " #   Column      Non-Null Count  Dtype         \n",
      "---  ------      --------------  -----         \n",
      " 0   user_id     500 non-null    int64         \n",
      " 1   first_name  500 non-null    object        \n",
      " 2   last_name   500 non-null    object        \n",
      " 3   age         500 non-null    int64         \n",
      " 4   city        500 non-null    object        \n",
      " 5   reg_date    500 non-null    datetime64[ns]\n",
      " 6   plan        500 non-null    object        \n",
      "dtypes: datetime64[ns](1), int64(2), object(4)\n",
      "memory usage: 27.5+ KB\n"
     ]
    }
   ],
   "source": [
    "#Replace the missing value with zero and drop th columns\n",
    "users['churn_date'].fillna(0,inplace=True)\n",
    "users=users.drop(columns=['churn_date'])\n",
    "users.info()"
   ]
  },
  {
   "cell_type": "markdown",
   "metadata": {},
   "source": [
    "Fix the datetime64 datatype for data and remove all missing values from users datatable. "
   ]
  },
  {
   "cell_type": "markdown",
   "metadata": {},
   "source": [
    "### Enrich Data"
   ]
  },
  {
   "cell_type": "code",
   "execution_count": 22,
   "metadata": {},
   "outputs": [
    {
     "name": "stdout",
     "output_type": "stream",
     "text": [
      "plan\n",
      "surf        339\n",
      "ultimate    161\n",
      "dtype: int64\n"
     ]
    }
   ],
   "source": [
    "#Count the number of users by plan\n",
    "users_by_plan=users.groupby('plan').size()\n",
    "print(users_by_plan)"
   ]
  },
  {
   "cell_type": "markdown",
   "metadata": {},
   "source": [
    "*Our aim is to find the better plan and here we count the the number of customers using surf and ultimate plan. From the result out of 500 customers 339 uses surf and 161 uses ultimate which means 68% uses surf and remaining 32% uses ultimate.*"
   ]
  },
  {
   "cell_type": "markdown",
   "metadata": {},
   "source": [
    "## Calls"
   ]
  },
  {
   "cell_type": "code",
   "execution_count": 23,
   "metadata": {},
   "outputs": [
    {
     "name": "stdout",
     "output_type": "stream",
     "text": [
      "<class 'pandas.core.frame.DataFrame'>\n",
      "RangeIndex: 137735 entries, 0 to 137734\n",
      "Data columns (total 4 columns):\n",
      " #   Column     Non-Null Count   Dtype  \n",
      "---  ------     --------------   -----  \n",
      " 0   id         137735 non-null  object \n",
      " 1   user_id    137735 non-null  int64  \n",
      " 2   call_date  137735 non-null  object \n",
      " 3   duration   137735 non-null  float64\n",
      "dtypes: float64(1), int64(1), object(2)\n",
      "memory usage: 4.2+ MB\n"
     ]
    }
   ],
   "source": [
    "# Print the general/summary information about the calls' DataFrame\n",
    "calls.info()"
   ]
  },
  {
   "cell_type": "code",
   "execution_count": 24,
   "metadata": {},
   "outputs": [
    {
     "name": "stdout",
     "output_type": "stream",
     "text": [
      "         id  user_id   call_date  duration\n",
      "0   1000_93     1000  2018-12-27      8.52\n",
      "1  1000_145     1000  2018-12-27     13.66\n",
      "2  1000_247     1000  2018-12-27     14.48\n",
      "3  1000_309     1000  2018-12-28      5.76\n",
      "4  1000_380     1000  2018-12-30      4.22\n"
     ]
    }
   ],
   "source": [
    "# Print a sample of data for calls\n",
    "print(calls.head())"
   ]
  },
  {
   "cell_type": "markdown",
   "metadata": {},
   "source": [
    "The calls data frame consists of id, user id, call date and duration. There is no missing values in this dataframe. There is an inappropriate datatype in the calls dataframe.For our further analysis, call_date Dtype should be in datetime64 type."
   ]
  },
  {
   "cell_type": "markdown",
   "metadata": {},
   "source": [
    " "
   ]
  },
  {
   "cell_type": "markdown",
   "metadata": {},
   "source": [
    "### Fix data"
   ]
  },
  {
   "cell_type": "code",
   "execution_count": 25,
   "metadata": {},
   "outputs": [
    {
     "name": "stdout",
     "output_type": "stream",
     "text": [
      "<class 'pandas.core.frame.DataFrame'>\n",
      "RangeIndex: 137735 entries, 0 to 137734\n",
      "Data columns (total 4 columns):\n",
      " #   Column     Non-Null Count   Dtype         \n",
      "---  ------     --------------   -----         \n",
      " 0   id         137735 non-null  object        \n",
      " 1   user_id    137735 non-null  int64         \n",
      " 2   call_date  137735 non-null  datetime64[ns]\n",
      " 3   duration   137735 non-null  float64       \n",
      "dtypes: datetime64[ns](1), float64(1), int64(1), object(1)\n",
      "memory usage: 4.2+ MB\n"
     ]
    }
   ],
   "source": [
    "#Convert call_date Dtype\n",
    "calls['call_date'] =pd.to_datetime(calls['call_date'])\n",
    "calls.info()"
   ]
  },
  {
   "cell_type": "markdown",
   "metadata": {},
   "source": [
    "Here, we convert call_date to datetime64 Dtype for further analysis."
   ]
  },
  {
   "cell_type": "markdown",
   "metadata": {},
   "source": [
    "### Enrich data"
   ]
  },
  {
   "cell_type": "markdown",
   "metadata": {},
   "source": [
    "Most of the analysis, are on  monthly basis and we just extract the months of each call from call_date."
   ]
  },
  {
   "cell_type": "code",
   "execution_count": 26,
   "metadata": {},
   "outputs": [],
   "source": [
    "#Extract months of call date\n",
    "calls['month']=calls['call_date'].dt.month"
   ]
  },
  {
   "cell_type": "code",
   "execution_count": 27,
   "metadata": {},
   "outputs": [
    {
     "name": "stdout",
     "output_type": "stream",
     "text": [
      "         id  user_id  call_date  duration  month\n",
      "0   1000_93     1000 2018-12-27         9     12\n",
      "1  1000_145     1000 2018-12-27        14     12\n",
      "2  1000_247     1000 2018-12-27        15     12\n",
      "3  1000_309     1000 2018-12-28         6     12\n",
      "4  1000_380     1000 2018-12-30         5     12\n"
     ]
    }
   ],
   "source": [
    "#Rounded up each call\n",
    "calls['duration']=np.ceil(calls['duration']).astype(int)\n",
    "print(calls.head())"
   ]
  },
  {
   "cell_type": "markdown",
   "metadata": {},
   "source": [
    "Megaline rounds seconds up to minutes. For calls, each individual call is rounded up. That is call duration is rounded and shown in minutes."
   ]
  },
  {
   "cell_type": "markdown",
   "metadata": {},
   "source": [
    "## Messages"
   ]
  },
  {
   "cell_type": "code",
   "execution_count": 28,
   "metadata": {},
   "outputs": [
    {
     "name": "stdout",
     "output_type": "stream",
     "text": [
      "<class 'pandas.core.frame.DataFrame'>\n",
      "RangeIndex: 76051 entries, 0 to 76050\n",
      "Data columns (total 3 columns):\n",
      " #   Column        Non-Null Count  Dtype \n",
      "---  ------        --------------  ----- \n",
      " 0   id            76051 non-null  object\n",
      " 1   user_id       76051 non-null  int64 \n",
      " 2   message_date  76051 non-null  object\n",
      "dtypes: int64(1), object(2)\n",
      "memory usage: 1.7+ MB\n"
     ]
    }
   ],
   "source": [
    "# Print the general/summary information about the messages' DataFrame\n",
    "messages.info()"
   ]
  },
  {
   "cell_type": "code",
   "execution_count": 29,
   "metadata": {},
   "outputs": [
    {
     "name": "stdout",
     "output_type": "stream",
     "text": [
      "         id  user_id message_date\n",
      "0  1000_125     1000   2018-12-27\n",
      "1  1000_160     1000   2018-12-31\n",
      "2  1000_223     1000   2018-12-31\n",
      "3  1000_251     1000   2018-12-27\n",
      "4  1000_255     1000   2018-12-26\n"
     ]
    }
   ],
   "source": [
    "# Print a sample of data for messages\n",
    "print(messages.head())"
   ]
  },
  {
   "cell_type": "markdown",
   "metadata": {},
   "source": [
    "The messages data frame consists of id, user id, call date and duration. There is no missing values in this dataframe. There is an inappropriate datatype in the messages dataframe.For our further analysis, message_date Dtype should be in datetime64 type."
   ]
  },
  {
   "cell_type": "markdown",
   "metadata": {},
   "source": [
    " "
   ]
  },
  {
   "cell_type": "markdown",
   "metadata": {},
   "source": [
    "### Fix data"
   ]
  },
  {
   "cell_type": "code",
   "execution_count": 30,
   "metadata": {},
   "outputs": [
    {
     "name": "stdout",
     "output_type": "stream",
     "text": [
      "<class 'pandas.core.frame.DataFrame'>\n",
      "RangeIndex: 76051 entries, 0 to 76050\n",
      "Data columns (total 3 columns):\n",
      " #   Column        Non-Null Count  Dtype         \n",
      "---  ------        --------------  -----         \n",
      " 0   id            76051 non-null  object        \n",
      " 1   user_id       76051 non-null  int64         \n",
      " 2   message_date  76051 non-null  datetime64[ns]\n",
      "dtypes: datetime64[ns](1), int64(1), object(1)\n",
      "memory usage: 1.7+ MB\n"
     ]
    }
   ],
   "source": [
    "#Convert message_date Dtype\n",
    "messages['message_date'] =pd.to_datetime(messages['message_date'])\n",
    "messages.info()"
   ]
  },
  {
   "cell_type": "markdown",
   "metadata": {},
   "source": [
    "Here, we convert message_date to datetime64 Dtype for further analysis."
   ]
  },
  {
   "cell_type": "markdown",
   "metadata": {},
   "source": [
    "## 1.9.2  Enrich data"
   ]
  },
  {
   "cell_type": "markdown",
   "metadata": {},
   "source": [
    "Most of the analysis, are on monthly basis and we just extract the months of each message from message_date."
   ]
  },
  {
   "cell_type": "code",
   "execution_count": 31,
   "metadata": {},
   "outputs": [],
   "source": [
    "messages['month'] =messages['message_date'].dt.month"
   ]
  },
  {
   "cell_type": "markdown",
   "metadata": {},
   "source": [
    "## Internet"
   ]
  },
  {
   "cell_type": "code",
   "execution_count": 32,
   "metadata": {},
   "outputs": [
    {
     "name": "stdout",
     "output_type": "stream",
     "text": [
      "<class 'pandas.core.frame.DataFrame'>\n",
      "RangeIndex: 104825 entries, 0 to 104824\n",
      "Data columns (total 4 columns):\n",
      " #   Column        Non-Null Count   Dtype  \n",
      "---  ------        --------------   -----  \n",
      " 0   id            104825 non-null  object \n",
      " 1   user_id       104825 non-null  int64  \n",
      " 2   session_date  104825 non-null  object \n",
      " 3   mb_used       104825 non-null  float64\n",
      "dtypes: float64(1), int64(1), object(2)\n",
      "memory usage: 3.2+ MB\n"
     ]
    }
   ],
   "source": [
    "# Print the general/summary information about the internet DataFrame\n",
    "internet.info()"
   ]
  },
  {
   "cell_type": "code",
   "execution_count": 33,
   "metadata": {},
   "outputs": [
    {
     "name": "stdout",
     "output_type": "stream",
     "text": [
      "         id  user_id session_date  mb_used\n",
      "0   1000_13     1000   2018-12-29    89.86\n",
      "1  1000_204     1000   2018-12-31     0.00\n",
      "2  1000_379     1000   2018-12-28   660.40\n",
      "3  1000_413     1000   2018-12-26   270.99\n",
      "4  1000_442     1000   2018-12-27   880.22\n"
     ]
    }
   ],
   "source": [
    "# Print a sample of data for the internet traffic\n",
    "print(internet.head())"
   ]
  },
  {
   "cell_type": "markdown",
   "metadata": {},
   "source": [
    "The internet data frame consists of id, user id, session date and mb used. There is no missing values in this dataframe. There is an inappropriate datatype in the calls dataframe.For our further analysis, session_date Dtype should be in datetime64 type."
   ]
  },
  {
   "cell_type": "markdown",
   "metadata": {},
   "source": [
    " "
   ]
  },
  {
   "cell_type": "markdown",
   "metadata": {},
   "source": [
    "### Fix data"
   ]
  },
  {
   "cell_type": "code",
   "execution_count": 34,
   "metadata": {},
   "outputs": [
    {
     "name": "stdout",
     "output_type": "stream",
     "text": [
      "<class 'pandas.core.frame.DataFrame'>\n",
      "RangeIndex: 104825 entries, 0 to 104824\n",
      "Data columns (total 4 columns):\n",
      " #   Column        Non-Null Count   Dtype         \n",
      "---  ------        --------------   -----         \n",
      " 0   id            104825 non-null  object        \n",
      " 1   user_id       104825 non-null  int64         \n",
      " 2   session_date  104825 non-null  datetime64[ns]\n",
      " 3   mb_used       104825 non-null  float64       \n",
      "dtypes: datetime64[ns](1), float64(1), int64(1), object(1)\n",
      "memory usage: 3.2+ MB\n"
     ]
    }
   ],
   "source": [
    "#Convert message_date Dtype\n",
    "internet['session_date'] =pd.to_datetime(internet['session_date'])\n",
    "internet.info()"
   ]
  },
  {
   "cell_type": "markdown",
   "metadata": {},
   "source": [
    "Here, we convert session_date to datetime64 Dtype for further analysis."
   ]
  },
  {
   "cell_type": "markdown",
   "metadata": {},
   "source": [
    "### Enrich data"
   ]
  },
  {
   "cell_type": "markdown",
   "metadata": {},
   "source": [
    "Most of the analysis, are on monthly basis and we just extract the months of each session from session_date."
   ]
  },
  {
   "cell_type": "code",
   "execution_count": 35,
   "metadata": {},
   "outputs": [],
   "source": [
    "internet['month'] =internet['session_date'].dt.month"
   ]
  },
  {
   "cell_type": "markdown",
   "metadata": {},
   "source": [
    "## Study plan conditions"
   ]
  },
  {
   "cell_type": "code",
   "execution_count": 36,
   "metadata": {},
   "outputs": [
    {
     "name": "stdout",
     "output_type": "stream",
     "text": [
      "   messages_included  mb_per_month_included  minutes_included  \\\n",
      "0                 50                  15360               500   \n",
      "1               1000                  30720              3000   \n",
      "\n",
      "   usd_monthly_pay  usd_per_gb  usd_per_message  usd_per_minute plan_name  \n",
      "0               20          10             0.03            0.03      surf  \n",
      "1               70           7             0.01            0.01  ultimate  \n"
     ]
    }
   ],
   "source": [
    "# Print out the plan conditions and make sure they are clear for you\n",
    "print(plans)\n"
   ]
  },
  {
   "cell_type": "markdown",
   "metadata": {},
   "source": [
    "## Aggregate data per user\n"
   ]
  },
  {
   "cell_type": "markdown",
   "metadata": {},
   "source": [
    "Our aim is to find the number of calls made by each user per month.  For this, group the calls dataframe by user id and month. Then count the size of each group."
   ]
  },
  {
   "cell_type": "code",
   "execution_count": 37,
   "metadata": {},
   "outputs": [
    {
     "name": "stdout",
     "output_type": "stream",
     "text": [
      "      user_id  month  number_of_calls\n",
      "0        1000     12               16\n",
      "1        1001      8               27\n",
      "2        1001      9               49\n",
      "3        1001     10               65\n",
      "4        1001     11               64\n",
      "...       ...    ...              ...\n",
      "2253     1498     12               39\n",
      "2254     1499      9               41\n",
      "2255     1499     10               53\n",
      "2256     1499     11               45\n",
      "2257     1499     12               65\n",
      "\n",
      "[2258 rows x 3 columns]\n"
     ]
    }
   ],
   "source": [
    "# Calculate the number of calls made by each user per month. Save the result.\n",
    "number_of_calls =calls.groupby(['user_id','month']).size().reset_index(name='number_of_calls')\n",
    "print(number_of_calls)"
   ]
  },
  {
   "cell_type": "markdown",
   "metadata": {},
   "source": [
    "*The above result shows, the number of calls made by each user id per month. For eg. user id 1000 made 16 calls in December.*"
   ]
  },
  {
   "cell_type": "markdown",
   "metadata": {},
   "source": [
    "Our aim is to find the total duration in minutes spent by each user per month. For this, group the calls by month and user id. Then add the duration of each call by a user id in each month."
   ]
  },
  {
   "cell_type": "code",
   "execution_count": 38,
   "metadata": {},
   "outputs": [
    {
     "name": "stdout",
     "output_type": "stream",
     "text": [
      "      user_id  month  total_duration\n",
      "0        1000     12             124\n",
      "1        1001      8             182\n",
      "2        1001      9             315\n",
      "3        1001     10             393\n",
      "4        1001     11             426\n",
      "...       ...    ...             ...\n",
      "2253     1498     12             339\n",
      "2254     1499      9             346\n",
      "2255     1499     10             385\n",
      "2256     1499     11             308\n",
      "2257     1499     12             496\n",
      "\n",
      "[2258 rows x 3 columns]\n"
     ]
    }
   ],
   "source": [
    "# Calculate the amount of minutes spent by each user per month. Save the result.\n",
    "amount_of_minutes =calls.groupby(['user_id','month'])['duration'].sum().reset_index(name='total_duration')\n",
    "print(amount_of_minutes)"
   ]
  },
  {
   "cell_type": "markdown",
   "metadata": {},
   "source": [
    "*The above result shows, the total duration of calls made by each user id per month. For eg, user id 1000 spent 124 minutes in December*"
   ]
  },
  {
   "cell_type": "markdown",
   "metadata": {},
   "source": [
    "Our aim is to find the number of messages sent by each user per month. For this, group the messages dataframe by user id and month. Then count the number of messages sent by each user per month."
   ]
  },
  {
   "cell_type": "code",
   "execution_count": 39,
   "metadata": {},
   "outputs": [
    {
     "name": "stdout",
     "output_type": "stream",
     "text": [
      "      user_id  month  number_of_messages\n",
      "0        1000     12                  11\n",
      "1        1001      8                  30\n",
      "2        1001      9                  44\n",
      "3        1001     10                  53\n",
      "4        1001     11                  36\n",
      "...       ...    ...                 ...\n",
      "1801     1496      9                  21\n",
      "1802     1496     10                  18\n",
      "1803     1496     11                  13\n",
      "1804     1496     12                  11\n",
      "1805     1497     12                  50\n",
      "\n",
      "[1806 rows x 3 columns]\n"
     ]
    }
   ],
   "source": [
    "# Calculate the number of messages sent by each user per month. Save the result.\n",
    "number_of_messages =messages.groupby(['user_id','month']).size().reset_index(name='number_of_messages')\n",
    "print(number_of_messages)"
   ]
  },
  {
   "cell_type": "markdown",
   "metadata": {},
   "source": [
    "*The above result shows, the total number of messages made by each user id per month. For eg, user id 1000 sent 11 messages in December*"
   ]
  },
  {
   "cell_type": "markdown",
   "metadata": {},
   "source": [
    "Our aim is to find the volume of internet traffic used by each customer per month. For this, group the internet dataframe by user id and month. Then calculate the sum of total_mb by each user per month. In megaline, the total web sessions of the month is rounded up. So convert megabytes to gigabytes by dividing 1024 and then it is rounded up to an integer."
   ]
  },
  {
   "cell_type": "code",
   "execution_count": 40,
   "metadata": {
    "scrolled": true
   },
   "outputs": [
    {
     "name": "stdout",
     "output_type": "stream",
     "text": [
      "      user_id  month  total_gb\n",
      "0        1000     12         2\n",
      "1        1001      8         7\n",
      "2        1001      9        14\n",
      "3        1001     10        22\n",
      "4        1001     11        19\n",
      "...       ...    ...       ...\n",
      "2272     1498     12        23\n",
      "2273     1499      9        13\n",
      "2274     1499     10        20\n",
      "2275     1499     11        17\n",
      "2276     1499     12        22\n",
      "\n",
      "[2277 rows x 3 columns]\n"
     ]
    }
   ],
   "source": [
    "# Calculate the volume of internet traffic used by each user per month. Save the result.\n",
    "internet_usage =internet.groupby(['user_id','month'])['mb_used'].sum().reset_index(name='total_mb')\n",
    "#Convert to gigabytes\n",
    "internet_usage['total_gb']=np.ceil(internet_usage['total_mb']/1024).astype(int)\n",
    "internet_usage=internet_usage.drop(columns=['total_mb'])\n",
    "print(internet_usage)"
   ]
  },
  {
   "cell_type": "markdown",
   "metadata": {},
   "source": [
    "*The above result shows, the amount of GB by each user id per month. For eg, user id 1000 use 2GB in December*"
   ]
  },
  {
   "cell_type": "markdown",
   "metadata": {},
   "source": [
    "Our aim is to create a dataframe which represents an unique user consumption in a given month. For this, merge the above data and create a new DataFrame called user data which contains number of calls, total duration of calls, number of messages and total gb used by each customer per month."
   ]
  },
  {
   "cell_type": "code",
   "execution_count": 41,
   "metadata": {},
   "outputs": [
    {
     "data": {
      "text/html": [
       "<div>\n",
       "<style scoped>\n",
       "    .dataframe tbody tr th:only-of-type {\n",
       "        vertical-align: middle;\n",
       "    }\n",
       "\n",
       "    .dataframe tbody tr th {\n",
       "        vertical-align: top;\n",
       "    }\n",
       "\n",
       "    .dataframe thead th {\n",
       "        text-align: right;\n",
       "    }\n",
       "</style>\n",
       "<table border=\"1\" class=\"dataframe\">\n",
       "  <thead>\n",
       "    <tr style=\"text-align: right;\">\n",
       "      <th></th>\n",
       "      <th>user_id</th>\n",
       "      <th>month</th>\n",
       "      <th>number_of_calls</th>\n",
       "      <th>total_duration</th>\n",
       "      <th>number_of_messages</th>\n",
       "      <th>total_gb</th>\n",
       "    </tr>\n",
       "  </thead>\n",
       "  <tbody>\n",
       "    <tr>\n",
       "      <th>0</th>\n",
       "      <td>1000</td>\n",
       "      <td>12</td>\n",
       "      <td>16.0</td>\n",
       "      <td>124.0</td>\n",
       "      <td>11.0</td>\n",
       "      <td>2.0</td>\n",
       "    </tr>\n",
       "    <tr>\n",
       "      <th>1</th>\n",
       "      <td>1001</td>\n",
       "      <td>8</td>\n",
       "      <td>27.0</td>\n",
       "      <td>182.0</td>\n",
       "      <td>30.0</td>\n",
       "      <td>7.0</td>\n",
       "    </tr>\n",
       "    <tr>\n",
       "      <th>2</th>\n",
       "      <td>1001</td>\n",
       "      <td>9</td>\n",
       "      <td>49.0</td>\n",
       "      <td>315.0</td>\n",
       "      <td>44.0</td>\n",
       "      <td>14.0</td>\n",
       "    </tr>\n",
       "    <tr>\n",
       "      <th>3</th>\n",
       "      <td>1001</td>\n",
       "      <td>10</td>\n",
       "      <td>65.0</td>\n",
       "      <td>393.0</td>\n",
       "      <td>53.0</td>\n",
       "      <td>22.0</td>\n",
       "    </tr>\n",
       "    <tr>\n",
       "      <th>4</th>\n",
       "      <td>1001</td>\n",
       "      <td>11</td>\n",
       "      <td>64.0</td>\n",
       "      <td>426.0</td>\n",
       "      <td>36.0</td>\n",
       "      <td>19.0</td>\n",
       "    </tr>\n",
       "    <tr>\n",
       "      <th>...</th>\n",
       "      <td>...</td>\n",
       "      <td>...</td>\n",
       "      <td>...</td>\n",
       "      <td>...</td>\n",
       "      <td>...</td>\n",
       "      <td>...</td>\n",
       "    </tr>\n",
       "    <tr>\n",
       "      <th>2288</th>\n",
       "      <td>1349</td>\n",
       "      <td>12</td>\n",
       "      <td>NaN</td>\n",
       "      <td>NaN</td>\n",
       "      <td>61.0</td>\n",
       "      <td>13.0</td>\n",
       "    </tr>\n",
       "    <tr>\n",
       "      <th>2289</th>\n",
       "      <td>1361</td>\n",
       "      <td>5</td>\n",
       "      <td>NaN</td>\n",
       "      <td>NaN</td>\n",
       "      <td>2.0</td>\n",
       "      <td>2.0</td>\n",
       "    </tr>\n",
       "    <tr>\n",
       "      <th>2290</th>\n",
       "      <td>1482</td>\n",
       "      <td>10</td>\n",
       "      <td>NaN</td>\n",
       "      <td>NaN</td>\n",
       "      <td>2.0</td>\n",
       "      <td>NaN</td>\n",
       "    </tr>\n",
       "    <tr>\n",
       "      <th>2291</th>\n",
       "      <td>1108</td>\n",
       "      <td>12</td>\n",
       "      <td>NaN</td>\n",
       "      <td>NaN</td>\n",
       "      <td>NaN</td>\n",
       "      <td>1.0</td>\n",
       "    </tr>\n",
       "    <tr>\n",
       "      <th>2292</th>\n",
       "      <td>1311</td>\n",
       "      <td>6</td>\n",
       "      <td>NaN</td>\n",
       "      <td>NaN</td>\n",
       "      <td>NaN</td>\n",
       "      <td>2.0</td>\n",
       "    </tr>\n",
       "  </tbody>\n",
       "</table>\n",
       "<p>2293 rows × 6 columns</p>\n",
       "</div>"
      ],
      "text/plain": [
       "      user_id  month  number_of_calls  total_duration  number_of_messages  \\\n",
       "0        1000     12             16.0           124.0                11.0   \n",
       "1        1001      8             27.0           182.0                30.0   \n",
       "2        1001      9             49.0           315.0                44.0   \n",
       "3        1001     10             65.0           393.0                53.0   \n",
       "4        1001     11             64.0           426.0                36.0   \n",
       "...       ...    ...              ...             ...                 ...   \n",
       "2288     1349     12              NaN             NaN                61.0   \n",
       "2289     1361      5              NaN             NaN                 2.0   \n",
       "2290     1482     10              NaN             NaN                 2.0   \n",
       "2291     1108     12              NaN             NaN                 NaN   \n",
       "2292     1311      6              NaN             NaN                 NaN   \n",
       "\n",
       "      total_gb  \n",
       "0          2.0  \n",
       "1          7.0  \n",
       "2         14.0  \n",
       "3         22.0  \n",
       "4         19.0  \n",
       "...        ...  \n",
       "2288      13.0  \n",
       "2289       2.0  \n",
       "2290       NaN  \n",
       "2291       1.0  \n",
       "2292       2.0  \n",
       "\n",
       "[2293 rows x 6 columns]"
      ]
     },
     "metadata": {},
     "output_type": "display_data"
    }
   ],
   "source": [
    "# Merge the data for calls, minutes, messages, internet based on user_id and month\n",
    "user_data =number_of_calls.merge(amount_of_minutes, on=['user_id', 'month'], how='outer')\n",
    "user_data =user_data.merge(number_of_messages, on=['user_id', 'month'],how='outer')\n",
    "user_data =user_data.merge(internet_usage, on=['user_id', 'month'], how='outer')\n",
    "display(user_data)"
   ]
  },
  {
   "cell_type": "markdown",
   "metadata": {},
   "source": [
    "*The above dataframe user_data consists of 6 columns. Each column are\n",
    "- user_id\n",
    "- month\n",
    "- number_of_calls -Number of calls made by an customer in that month\n",
    "- total_duration - Total duration of call made by a customer in that month\n",
    "- number_of_messages - Number of messages made by an customer in that month\n",
    "- total_gb - Amount of GB used by an customer in that month*"
   ]
  },
  {
   "cell_type": "markdown",
   "metadata": {},
   "source": [
    "Add the plan information to the user_data Dataframe.  For that merge users dataframe with new dataframe. In user_data frame there are many missing values and replace these values with zero."
   ]
  },
  {
   "cell_type": "code",
   "execution_count": 42,
   "metadata": {},
   "outputs": [
    {
     "data": {
      "text/html": [
       "<div>\n",
       "<style scoped>\n",
       "    .dataframe tbody tr th:only-of-type {\n",
       "        vertical-align: middle;\n",
       "    }\n",
       "\n",
       "    .dataframe tbody tr th {\n",
       "        vertical-align: top;\n",
       "    }\n",
       "\n",
       "    .dataframe thead th {\n",
       "        text-align: right;\n",
       "    }\n",
       "</style>\n",
       "<table border=\"1\" class=\"dataframe\">\n",
       "  <thead>\n",
       "    <tr style=\"text-align: right;\">\n",
       "      <th></th>\n",
       "      <th>user_id</th>\n",
       "      <th>month</th>\n",
       "      <th>number_of_calls</th>\n",
       "      <th>total_duration</th>\n",
       "      <th>number_of_messages</th>\n",
       "      <th>total_gb</th>\n",
       "      <th>plan</th>\n",
       "    </tr>\n",
       "  </thead>\n",
       "  <tbody>\n",
       "    <tr>\n",
       "      <th>0</th>\n",
       "      <td>1000</td>\n",
       "      <td>12</td>\n",
       "      <td>16.0</td>\n",
       "      <td>124.0</td>\n",
       "      <td>11.0</td>\n",
       "      <td>2.0</td>\n",
       "      <td>ultimate</td>\n",
       "    </tr>\n",
       "    <tr>\n",
       "      <th>1</th>\n",
       "      <td>1001</td>\n",
       "      <td>8</td>\n",
       "      <td>27.0</td>\n",
       "      <td>182.0</td>\n",
       "      <td>30.0</td>\n",
       "      <td>7.0</td>\n",
       "      <td>surf</td>\n",
       "    </tr>\n",
       "    <tr>\n",
       "      <th>2</th>\n",
       "      <td>1001</td>\n",
       "      <td>9</td>\n",
       "      <td>49.0</td>\n",
       "      <td>315.0</td>\n",
       "      <td>44.0</td>\n",
       "      <td>14.0</td>\n",
       "      <td>surf</td>\n",
       "    </tr>\n",
       "    <tr>\n",
       "      <th>3</th>\n",
       "      <td>1001</td>\n",
       "      <td>10</td>\n",
       "      <td>65.0</td>\n",
       "      <td>393.0</td>\n",
       "      <td>53.0</td>\n",
       "      <td>22.0</td>\n",
       "      <td>surf</td>\n",
       "    </tr>\n",
       "    <tr>\n",
       "      <th>4</th>\n",
       "      <td>1001</td>\n",
       "      <td>11</td>\n",
       "      <td>64.0</td>\n",
       "      <td>426.0</td>\n",
       "      <td>36.0</td>\n",
       "      <td>19.0</td>\n",
       "      <td>surf</td>\n",
       "    </tr>\n",
       "    <tr>\n",
       "      <th>...</th>\n",
       "      <td>...</td>\n",
       "      <td>...</td>\n",
       "      <td>...</td>\n",
       "      <td>...</td>\n",
       "      <td>...</td>\n",
       "      <td>...</td>\n",
       "      <td>...</td>\n",
       "    </tr>\n",
       "    <tr>\n",
       "      <th>2288</th>\n",
       "      <td>1204</td>\n",
       "      <td>12</td>\n",
       "      <td>0.0</td>\n",
       "      <td>0.0</td>\n",
       "      <td>78.0</td>\n",
       "      <td>36.0</td>\n",
       "      <td>ultimate</td>\n",
       "    </tr>\n",
       "    <tr>\n",
       "      <th>2289</th>\n",
       "      <td>1349</td>\n",
       "      <td>10</td>\n",
       "      <td>0.0</td>\n",
       "      <td>0.0</td>\n",
       "      <td>76.0</td>\n",
       "      <td>13.0</td>\n",
       "      <td>surf</td>\n",
       "    </tr>\n",
       "    <tr>\n",
       "      <th>2290</th>\n",
       "      <td>1349</td>\n",
       "      <td>11</td>\n",
       "      <td>0.0</td>\n",
       "      <td>0.0</td>\n",
       "      <td>72.0</td>\n",
       "      <td>17.0</td>\n",
       "      <td>surf</td>\n",
       "    </tr>\n",
       "    <tr>\n",
       "      <th>2291</th>\n",
       "      <td>1349</td>\n",
       "      <td>12</td>\n",
       "      <td>0.0</td>\n",
       "      <td>0.0</td>\n",
       "      <td>61.0</td>\n",
       "      <td>13.0</td>\n",
       "      <td>surf</td>\n",
       "    </tr>\n",
       "    <tr>\n",
       "      <th>2292</th>\n",
       "      <td>1108</td>\n",
       "      <td>12</td>\n",
       "      <td>0.0</td>\n",
       "      <td>0.0</td>\n",
       "      <td>0.0</td>\n",
       "      <td>1.0</td>\n",
       "      <td>ultimate</td>\n",
       "    </tr>\n",
       "  </tbody>\n",
       "</table>\n",
       "<p>2293 rows × 7 columns</p>\n",
       "</div>"
      ],
      "text/plain": [
       "      user_id  month  number_of_calls  total_duration  number_of_messages  \\\n",
       "0        1000     12             16.0           124.0                11.0   \n",
       "1        1001      8             27.0           182.0                30.0   \n",
       "2        1001      9             49.0           315.0                44.0   \n",
       "3        1001     10             65.0           393.0                53.0   \n",
       "4        1001     11             64.0           426.0                36.0   \n",
       "...       ...    ...              ...             ...                 ...   \n",
       "2288     1204     12              0.0             0.0                78.0   \n",
       "2289     1349     10              0.0             0.0                76.0   \n",
       "2290     1349     11              0.0             0.0                72.0   \n",
       "2291     1349     12              0.0             0.0                61.0   \n",
       "2292     1108     12              0.0             0.0                 0.0   \n",
       "\n",
       "      total_gb      plan  \n",
       "0          2.0  ultimate  \n",
       "1          7.0      surf  \n",
       "2         14.0      surf  \n",
       "3         22.0      surf  \n",
       "4         19.0      surf  \n",
       "...        ...       ...  \n",
       "2288      36.0  ultimate  \n",
       "2289      13.0      surf  \n",
       "2290      17.0      surf  \n",
       "2291      13.0      surf  \n",
       "2292       1.0  ultimate  \n",
       "\n",
       "[2293 rows x 7 columns]"
      ]
     },
     "metadata": {},
     "output_type": "display_data"
    },
    {
     "name": "stdout",
     "output_type": "stream",
     "text": [
      "user_id               0\n",
      "month                 0\n",
      "number_of_calls       0\n",
      "total_duration        0\n",
      "number_of_messages    0\n",
      "total_gb              0\n",
      "plan                  0\n",
      "dtype: int64\n"
     ]
    }
   ],
   "source": [
    "# Add the plan information and replace all missing values with zero.\n",
    "user_data = user_data.merge(users[['user_id','plan']], on='user_id').fillna(0)\n",
    "display(user_data)\n",
    "#Check for missing values.\n",
    "print(user_data.isnull().sum())"
   ]
  },
  {
   "cell_type": "markdown",
   "metadata": {},
   "source": [
    "*The above results add user plan to the user-data dataframe. There is no missing values in the dataframe. The value zero shows no calls or no messages by that user in that month.*"
   ]
  },
  {
   "cell_type": "markdown",
   "metadata": {},
   "source": [
    "Our aim is to calculate the monthly revenue from each user. For that call the function and subtract the free package limit from the total number of calls, text messages, and data; multiply the result by the calling plan value then add the monthly charge depending on the calling plan"
   ]
  },
  {
   "cell_type": "code",
   "execution_count": 43,
   "metadata": {},
   "outputs": [],
   "source": [
    "# Calculate the monthly revenue for each user\n",
    "def monthly_revenue(row):\n",
    "    if row['plan']=='surf':\n",
    "        minutes_exceed =max(0, row['total_duration']-500)\n",
    "        messages_exceed =max(0, row['number_of_messages']-50)\n",
    "        data_exceed = max(0, row['total_gb']-15)\n",
    "        total_revenue =(20 + minutes_exceed *0.03 + messages_exceed *0.03 + data_exceed*10)\n",
    "    elif row['plan']=='ultimate':\n",
    "        minutes_exceed =max(0, row['total_duration']-3000)\n",
    "        messages_exceed =max(0, row['number_of_messages']-1000)\n",
    "        data_exceed = max(0, row['total_gb']-30)\n",
    "        total_revenue =(70 + minutes_exceed *0.01 + messages_exceed *0.01 + data_exceed*7)\n",
    "    return total_revenue"
   ]
  },
  {
   "cell_type": "code",
   "execution_count": 44,
   "metadata": {},
   "outputs": [
    {
     "data": {
      "text/html": [
       "<div>\n",
       "<style scoped>\n",
       "    .dataframe tbody tr th:only-of-type {\n",
       "        vertical-align: middle;\n",
       "    }\n",
       "\n",
       "    .dataframe tbody tr th {\n",
       "        vertical-align: top;\n",
       "    }\n",
       "\n",
       "    .dataframe thead th {\n",
       "        text-align: right;\n",
       "    }\n",
       "</style>\n",
       "<table border=\"1\" class=\"dataframe\">\n",
       "  <thead>\n",
       "    <tr style=\"text-align: right;\">\n",
       "      <th></th>\n",
       "      <th>user_id</th>\n",
       "      <th>month</th>\n",
       "      <th>number_of_calls</th>\n",
       "      <th>total_duration</th>\n",
       "      <th>number_of_messages</th>\n",
       "      <th>total_gb</th>\n",
       "      <th>plan</th>\n",
       "      <th>revenue</th>\n",
       "    </tr>\n",
       "  </thead>\n",
       "  <tbody>\n",
       "    <tr>\n",
       "      <th>0</th>\n",
       "      <td>1000</td>\n",
       "      <td>12</td>\n",
       "      <td>16.0</td>\n",
       "      <td>124.0</td>\n",
       "      <td>11.0</td>\n",
       "      <td>2.0</td>\n",
       "      <td>ultimate</td>\n",
       "      <td>70.00</td>\n",
       "    </tr>\n",
       "    <tr>\n",
       "      <th>1</th>\n",
       "      <td>1001</td>\n",
       "      <td>8</td>\n",
       "      <td>27.0</td>\n",
       "      <td>182.0</td>\n",
       "      <td>30.0</td>\n",
       "      <td>7.0</td>\n",
       "      <td>surf</td>\n",
       "      <td>20.00</td>\n",
       "    </tr>\n",
       "    <tr>\n",
       "      <th>2</th>\n",
       "      <td>1001</td>\n",
       "      <td>9</td>\n",
       "      <td>49.0</td>\n",
       "      <td>315.0</td>\n",
       "      <td>44.0</td>\n",
       "      <td>14.0</td>\n",
       "      <td>surf</td>\n",
       "      <td>20.00</td>\n",
       "    </tr>\n",
       "    <tr>\n",
       "      <th>3</th>\n",
       "      <td>1001</td>\n",
       "      <td>10</td>\n",
       "      <td>65.0</td>\n",
       "      <td>393.0</td>\n",
       "      <td>53.0</td>\n",
       "      <td>22.0</td>\n",
       "      <td>surf</td>\n",
       "      <td>90.09</td>\n",
       "    </tr>\n",
       "    <tr>\n",
       "      <th>4</th>\n",
       "      <td>1001</td>\n",
       "      <td>11</td>\n",
       "      <td>64.0</td>\n",
       "      <td>426.0</td>\n",
       "      <td>36.0</td>\n",
       "      <td>19.0</td>\n",
       "      <td>surf</td>\n",
       "      <td>60.00</td>\n",
       "    </tr>\n",
       "    <tr>\n",
       "      <th>...</th>\n",
       "      <td>...</td>\n",
       "      <td>...</td>\n",
       "      <td>...</td>\n",
       "      <td>...</td>\n",
       "      <td>...</td>\n",
       "      <td>...</td>\n",
       "      <td>...</td>\n",
       "      <td>...</td>\n",
       "    </tr>\n",
       "    <tr>\n",
       "      <th>2288</th>\n",
       "      <td>1204</td>\n",
       "      <td>12</td>\n",
       "      <td>0.0</td>\n",
       "      <td>0.0</td>\n",
       "      <td>78.0</td>\n",
       "      <td>36.0</td>\n",
       "      <td>ultimate</td>\n",
       "      <td>112.00</td>\n",
       "    </tr>\n",
       "    <tr>\n",
       "      <th>2289</th>\n",
       "      <td>1349</td>\n",
       "      <td>10</td>\n",
       "      <td>0.0</td>\n",
       "      <td>0.0</td>\n",
       "      <td>76.0</td>\n",
       "      <td>13.0</td>\n",
       "      <td>surf</td>\n",
       "      <td>20.78</td>\n",
       "    </tr>\n",
       "    <tr>\n",
       "      <th>2290</th>\n",
       "      <td>1349</td>\n",
       "      <td>11</td>\n",
       "      <td>0.0</td>\n",
       "      <td>0.0</td>\n",
       "      <td>72.0</td>\n",
       "      <td>17.0</td>\n",
       "      <td>surf</td>\n",
       "      <td>40.66</td>\n",
       "    </tr>\n",
       "    <tr>\n",
       "      <th>2291</th>\n",
       "      <td>1349</td>\n",
       "      <td>12</td>\n",
       "      <td>0.0</td>\n",
       "      <td>0.0</td>\n",
       "      <td>61.0</td>\n",
       "      <td>13.0</td>\n",
       "      <td>surf</td>\n",
       "      <td>20.33</td>\n",
       "    </tr>\n",
       "    <tr>\n",
       "      <th>2292</th>\n",
       "      <td>1108</td>\n",
       "      <td>12</td>\n",
       "      <td>0.0</td>\n",
       "      <td>0.0</td>\n",
       "      <td>0.0</td>\n",
       "      <td>1.0</td>\n",
       "      <td>ultimate</td>\n",
       "      <td>70.00</td>\n",
       "    </tr>\n",
       "  </tbody>\n",
       "</table>\n",
       "<p>2293 rows × 8 columns</p>\n",
       "</div>"
      ],
      "text/plain": [
       "      user_id  month  number_of_calls  total_duration  number_of_messages  \\\n",
       "0        1000     12             16.0           124.0                11.0   \n",
       "1        1001      8             27.0           182.0                30.0   \n",
       "2        1001      9             49.0           315.0                44.0   \n",
       "3        1001     10             65.0           393.0                53.0   \n",
       "4        1001     11             64.0           426.0                36.0   \n",
       "...       ...    ...              ...             ...                 ...   \n",
       "2288     1204     12              0.0             0.0                78.0   \n",
       "2289     1349     10              0.0             0.0                76.0   \n",
       "2290     1349     11              0.0             0.0                72.0   \n",
       "2291     1349     12              0.0             0.0                61.0   \n",
       "2292     1108     12              0.0             0.0                 0.0   \n",
       "\n",
       "      total_gb      plan  revenue  \n",
       "0          2.0  ultimate    70.00  \n",
       "1          7.0      surf    20.00  \n",
       "2         14.0      surf    20.00  \n",
       "3         22.0      surf    90.09  \n",
       "4         19.0      surf    60.00  \n",
       "...        ...       ...      ...  \n",
       "2288      36.0  ultimate   112.00  \n",
       "2289      13.0      surf    20.78  \n",
       "2290      17.0      surf    40.66  \n",
       "2291      13.0      surf    20.33  \n",
       "2292       1.0  ultimate    70.00  \n",
       "\n",
       "[2293 rows x 8 columns]"
      ]
     },
     "metadata": {},
     "output_type": "display_data"
    }
   ],
   "source": [
    "#Add monthly revenue to the user data\n",
    "user_data['revenue'] =user_data.apply(monthly_revenue, axis=1)\n",
    "display(user_data)"
   ]
  },
  {
   "cell_type": "markdown",
   "metadata": {},
   "source": [
    "*The above table shows the aggregate of unique customer per month. The user data consists of 8 columns. Each column are\n",
    "- user_id\n",
    "- month\n",
    "- number_of_calls -Number of calls made by an customer in that month\n",
    "- total_duration - Total duration of call made by customer in that month\n",
    "- number_of_messages - Number of messages made by customer in that month\n",
    "- total_gb - Amount of GB used by an customer in that month\n",
    "- plan - Surf or Ultimate\n",
    "- revenue - Total revenue generated by user in that month. For eg, user id 1000 plan was ultimate and total revenue generated is 70 dollars  in December.i.e, baseplan is needed."
   ]
  },
  {
   "cell_type": "markdown",
   "metadata": {},
   "source": [
    "## Study user behaviour"
   ]
  },
  {
   "cell_type": "markdown",
   "metadata": {},
   "source": [
    "## ThirdStage:\n",
    "\n",
    "In this stage, calculate descriptive statistics for aggregated and merged data and describe the customer's behavior. The main task in this stage is to compare the two plans and decide on which one is more profitable. For this purpose, we vcan use different statistics plot and analyze the plot based on the distributions."
   ]
  },
  {
   "cell_type": "markdown",
   "metadata": {},
   "source": [
    "### Calls"
   ]
  },
  {
   "cell_type": "markdown",
   "metadata": {},
   "source": [
    "Our aim is to compare average duration of calls per each plan per each distinct month. For this, group the user data by month and plan. Then find the mean of total duration."
   ]
  },
  {
   "cell_type": "code",
   "execution_count": 45,
   "metadata": {},
   "outputs": [
    {
     "data": {
      "text/html": [
       "<div>\n",
       "<style scoped>\n",
       "    .dataframe tbody tr th:only-of-type {\n",
       "        vertical-align: middle;\n",
       "    }\n",
       "\n",
       "    .dataframe tbody tr th {\n",
       "        vertical-align: top;\n",
       "    }\n",
       "\n",
       "    .dataframe thead th {\n",
       "        text-align: right;\n",
       "    }\n",
       "</style>\n",
       "<table border=\"1\" class=\"dataframe\">\n",
       "  <thead>\n",
       "    <tr style=\"text-align: right;\">\n",
       "      <th>plan</th>\n",
       "      <th>surf</th>\n",
       "      <th>ultimate</th>\n",
       "    </tr>\n",
       "    <tr>\n",
       "      <th>month</th>\n",
       "      <th></th>\n",
       "      <th></th>\n",
       "    </tr>\n",
       "  </thead>\n",
       "  <tbody>\n",
       "    <tr>\n",
       "      <th>1</th>\n",
       "      <td>203.000000</td>\n",
       "      <td>193.500000</td>\n",
       "    </tr>\n",
       "    <tr>\n",
       "      <th>2</th>\n",
       "      <td>297.000000</td>\n",
       "      <td>403.142857</td>\n",
       "    </tr>\n",
       "    <tr>\n",
       "      <th>3</th>\n",
       "      <td>330.000000</td>\n",
       "      <td>304.250000</td>\n",
       "    </tr>\n",
       "    <tr>\n",
       "      <th>4</th>\n",
       "      <td>351.540000</td>\n",
       "      <td>336.857143</td>\n",
       "    </tr>\n",
       "    <tr>\n",
       "      <th>5</th>\n",
       "      <td>399.584416</td>\n",
       "      <td>406.241379</td>\n",
       "    </tr>\n",
       "    <tr>\n",
       "      <th>6</th>\n",
       "      <td>431.298969</td>\n",
       "      <td>370.957447</td>\n",
       "    </tr>\n",
       "    <tr>\n",
       "      <th>7</th>\n",
       "      <td>449.983471</td>\n",
       "      <td>427.067797</td>\n",
       "    </tr>\n",
       "    <tr>\n",
       "      <th>8</th>\n",
       "      <td>410.111111</td>\n",
       "      <td>421.436620</td>\n",
       "    </tr>\n",
       "    <tr>\n",
       "      <th>9</th>\n",
       "      <td>414.226804</td>\n",
       "      <td>437.511628</td>\n",
       "    </tr>\n",
       "    <tr>\n",
       "      <th>10</th>\n",
       "      <td>429.729958</td>\n",
       "      <td>450.735849</td>\n",
       "    </tr>\n",
       "    <tr>\n",
       "      <th>11</th>\n",
       "      <td>423.325088</td>\n",
       "      <td>445.196850</td>\n",
       "    </tr>\n",
       "    <tr>\n",
       "      <th>12</th>\n",
       "      <td>473.836478</td>\n",
       "      <td>459.099338</td>\n",
       "    </tr>\n",
       "  </tbody>\n",
       "</table>\n",
       "</div>"
      ],
      "text/plain": [
       "plan         surf    ultimate\n",
       "month                        \n",
       "1      203.000000  193.500000\n",
       "2      297.000000  403.142857\n",
       "3      330.000000  304.250000\n",
       "4      351.540000  336.857143\n",
       "5      399.584416  406.241379\n",
       "6      431.298969  370.957447\n",
       "7      449.983471  427.067797\n",
       "8      410.111111  421.436620\n",
       "9      414.226804  437.511628\n",
       "10     429.729958  450.735849\n",
       "11     423.325088  445.196850\n",
       "12     473.836478  459.099338"
      ]
     },
     "metadata": {},
     "output_type": "display_data"
    }
   ],
   "source": [
    "# Compare average duration of calls per each plan per each distinct month. \n",
    "average_duration =user_data.groupby(['month','plan'])['total_duration'].mean().unstack()\n",
    "display(average_duration)"
   ]
  },
  {
   "cell_type": "code",
   "execution_count": 46,
   "metadata": {},
   "outputs": [
    {
     "data": {
      "image/png": "[encoded data removed]",
      "text/plain": [
       "<Figure size 640x480 with 1 Axes>"
      ]
     },
     "metadata": {},
     "output_type": "display_data"
    }
   ],
   "source": [
    "#Plot a bar plot to visualize it.\n",
    "average_duration.plot(kind ='bar', ylim=[0,500])\n",
    "plt.title('Average duration of calls per plan')\n",
    "plt.xlabel('Month')\n",
    "plt.ylabel('Duration (minutes)')\n",
    "plt.legend(title='Plan')\n",
    "plt.legend(bbox_to_anchor=(1.05, 1), loc='upper left')\n",
    "plt.show()\n"
   ]
  },
  {
   "cell_type": "markdown",
   "metadata": {},
   "source": [
    "*the above bar plot shows the average duration of calls per plan by month. From the graph, it is clear that \n",
    "- the average duration of call for plan surf is greater than for ultimate for months January, March, April, June, July, December.\n",
    "- For the remaining months average duration is higher for plan ultimate.\n",
    "- Maximum average value for plan ultimate is approximately 460 minutes. In ultimate, monthly baseplan  3000 minutes  allowed and it is clear that there is no additiona revenue by exceeding the limit of monthly minutes by plan ultimate.*"
   ]
  },
  {
   "cell_type": "markdown",
   "metadata": {},
   "source": [
    "Our aim is to compare the total duration of each plan requires each month. For this, group the user data by month and plan. Then find the sum of total duration."
   ]
  },
  {
   "cell_type": "code",
   "execution_count": 47,
   "metadata": {},
   "outputs": [
    {
     "data": {
      "text/html": [
       "<div>\n",
       "<style scoped>\n",
       "    .dataframe tbody tr th:only-of-type {\n",
       "        vertical-align: middle;\n",
       "    }\n",
       "\n",
       "    .dataframe tbody tr th {\n",
       "        vertical-align: top;\n",
       "    }\n",
       "\n",
       "    .dataframe thead th {\n",
       "        text-align: right;\n",
       "    }\n",
       "</style>\n",
       "<table border=\"1\" class=\"dataframe\">\n",
       "  <thead>\n",
       "    <tr style=\"text-align: right;\">\n",
       "      <th>plan</th>\n",
       "      <th>surf</th>\n",
       "      <th>ultimate</th>\n",
       "    </tr>\n",
       "    <tr>\n",
       "      <th>month</th>\n",
       "      <th></th>\n",
       "      <th></th>\n",
       "    </tr>\n",
       "  </thead>\n",
       "  <tbody>\n",
       "    <tr>\n",
       "      <th>1</th>\n",
       "      <td>406.0</td>\n",
       "      <td>774.0</td>\n",
       "    </tr>\n",
       "    <tr>\n",
       "      <th>2</th>\n",
       "      <td>2673.0</td>\n",
       "      <td>2822.0</td>\n",
       "    </tr>\n",
       "    <tr>\n",
       "      <th>3</th>\n",
       "      <td>7590.0</td>\n",
       "      <td>3651.0</td>\n",
       "    </tr>\n",
       "    <tr>\n",
       "      <th>4</th>\n",
       "      <td>17577.0</td>\n",
       "      <td>7074.0</td>\n",
       "    </tr>\n",
       "    <tr>\n",
       "      <th>5</th>\n",
       "      <td>30768.0</td>\n",
       "      <td>11781.0</td>\n",
       "    </tr>\n",
       "    <tr>\n",
       "      <th>6</th>\n",
       "      <td>41836.0</td>\n",
       "      <td>17435.0</td>\n",
       "    </tr>\n",
       "    <tr>\n",
       "      <th>7</th>\n",
       "      <td>54448.0</td>\n",
       "      <td>25197.0</td>\n",
       "    </tr>\n",
       "    <tr>\n",
       "      <th>8</th>\n",
       "      <td>66438.0</td>\n",
       "      <td>29922.0</td>\n",
       "    </tr>\n",
       "    <tr>\n",
       "      <th>9</th>\n",
       "      <td>80360.0</td>\n",
       "      <td>37626.0</td>\n",
       "    </tr>\n",
       "    <tr>\n",
       "      <th>10</th>\n",
       "      <td>101846.0</td>\n",
       "      <td>47778.0</td>\n",
       "    </tr>\n",
       "    <tr>\n",
       "      <th>11</th>\n",
       "      <td>119801.0</td>\n",
       "      <td>56540.0</td>\n",
       "    </tr>\n",
       "    <tr>\n",
       "      <th>12</th>\n",
       "      <td>150680.0</td>\n",
       "      <td>69324.0</td>\n",
       "    </tr>\n",
       "  </tbody>\n",
       "</table>\n",
       "</div>"
      ],
      "text/plain": [
       "plan       surf  ultimate\n",
       "month                    \n",
       "1         406.0     774.0\n",
       "2        2673.0    2822.0\n",
       "3        7590.0    3651.0\n",
       "4       17577.0    7074.0\n",
       "5       30768.0   11781.0\n",
       "6       41836.0   17435.0\n",
       "7       54448.0   25197.0\n",
       "8       66438.0   29922.0\n",
       "9       80360.0   37626.0\n",
       "10     101846.0   47778.0\n",
       "11     119801.0   56540.0\n",
       "12     150680.0   69324.0"
      ]
     },
     "metadata": {},
     "output_type": "display_data"
    }
   ],
   "source": [
    "# Compare the number of minutes users of each plan require each month.\n",
    "total_duration_by_plan =user_data.groupby(['month','plan'])['total_duration'].sum().unstack()\n",
    "display(total_duration_by_plan)"
   ]
  },
  {
   "cell_type": "code",
   "execution_count": 48,
   "metadata": {},
   "outputs": [
    {
     "data": {
      "image/png": "[encoded data removed]",
      "text/plain": [
       "<Figure size 640x480 with 1 Axes>"
      ]
     },
     "metadata": {},
     "output_type": "display_data"
    }
   ],
   "source": [
    "# Plot a histogram based on number of minutes users of each plan require each month.\n",
    "plan_surf =user_data[user_data['plan']=='surf']\n",
    "plan_ultimate = user_data[user_data['plan']=='ultimate']\n",
    "plt.hist(plan_surf['total_duration'], bins=30, alpha=0.5)\n",
    "plt.hist(plan_ultimate['total_duration'], bins=30, alpha=0.5)\n",
    "plt.xlabel('Total duration')\n",
    "plt.ylabel('Frequency')\n",
    "plt.title('Total Minutes Used by Customer per Month by Plan')\n",
    "plt.legend(['Surf','Ultimate'])\n",
    "plt.show()"
   ]
  },
  {
   "cell_type": "markdown",
   "metadata": {},
   "source": [
    "*The histogram shows the distribution of total minutes used by customer per month for each plan. For surf plan, it is widely distributed with a higher peak compared to plan ultimate. the peak is almost around centre indicates moderate range of minute usage for surf plan users. From the figure, for ultimate plan shows narrower distribution and it is clear that some consistent users for this plan. This analysis shows the usage pattern for two plans.*"
   ]
  },
  {
   "cell_type": "markdown",
   "metadata": {},
   "source": [
    "Our aim is to calculate the mean, variance and standard deviation of each plan."
   ]
  },
  {
   "cell_type": "code",
   "execution_count": 49,
   "metadata": {},
   "outputs": [
    {
     "name": "stdout",
     "output_type": "stream",
     "text": [
      "                mean           var         std\n",
      "plan                                          \n",
      "surf      428.749523  54968.279461  234.453150\n",
      "ultimate  430.450000  57844.464812  240.508762\n"
     ]
    }
   ],
   "source": [
    "# Calculate the mean and the variance of the monthly call duration\n",
    "mean_var=user_data.groupby('plan')['total_duration'].agg(['mean','var','std'])\n",
    "print(mean_var)"
   ]
  },
  {
   "cell_type": "code",
   "execution_count": 50,
   "metadata": {},
   "outputs": [
    {
     "data": {
      "image/png": "[encoded data removed]",
      "text/plain": [
       "<Figure size 640x480 with 1 Axes>"
      ]
     },
     "metadata": {},
     "output_type": "display_data"
    }
   ],
   "source": [
    "# Plot a boxplot to visualize the distribution of the monthly call duration\n",
    "plt.boxplot(total_duration_by_plan)\n",
    "plt.xlabel('Plan')\n",
    "plt.ylabel('Call duration')\n",
    "plt.title('Distribution of the monthly call duration')\n",
    "plt.xticks([1,2],['surf','ultimate'])\n",
    "plt.show()"
   ]
  },
  {
   "cell_type": "markdown",
   "metadata": {},
   "source": [
    "*The boxplot shows the distribution of monthly call duration.  From the plot, it is clear that distribution of surf plan is more wider than ultimate plan. The median for surf plan is almost doubled than the plan ultimate. The interquartile range of surf is more than that of ultimate. Tha maximum value for surf is almost double than that of plan ultimate.*  "
   ]
  },
  {
   "cell_type": "markdown",
   "metadata": {},
   "source": [
    "From the above analysis of calls behaviour, it is clear that the surf users have wide distribution than ultimate users. Ultimate users follows a consistent pattern means most of this plan users are within the allowance limit."
   ]
  },
  {
   "cell_type": "markdown",
   "metadata": {},
   "source": [
    " "
   ]
  },
  {
   "cell_type": "markdown",
   "metadata": {},
   "source": [
    "### Messages"
   ]
  },
  {
   "cell_type": "markdown",
   "metadata": {},
   "source": [
    "Our aim is to compare the number of messages per each plan per each distinct month. For this, group the user data by month and plan. Then find the sum of number of messages."
   ]
  },
  {
   "cell_type": "code",
   "execution_count": 51,
   "metadata": {},
   "outputs": [
    {
     "name": "stdout",
     "output_type": "stream",
     "text": [
      "             id  user_id message_date  month\n",
      "0      1000_125     1000   2018-12-27     12\n",
      "1      1000_160     1000   2018-12-31     12\n",
      "2      1000_223     1000   2018-12-31     12\n",
      "3      1000_251     1000   2018-12-27     12\n",
      "4      1000_255     1000   2018-12-26     12\n",
      "...         ...      ...          ...    ...\n",
      "76046  1497_526     1497   2018-12-24     12\n",
      "76047  1497_536     1497   2018-12-24     12\n",
      "76048  1497_547     1497   2018-12-31     12\n",
      "76049  1497_558     1497   2018-12-24     12\n",
      "76050  1497_613     1497   2018-12-23     12\n",
      "\n",
      "[76051 rows x 4 columns]\n"
     ]
    }
   ],
   "source": [
    "# Compare the number of messages users of each plan tend to send each month\n",
    "total_messages=user_data.groupby(['month','plan'])['number_of_messages'].sum().unstack()\n",
    "print(messages)"
   ]
  },
  {
   "cell_type": "code",
   "execution_count": 52,
   "metadata": {},
   "outputs": [
    {
     "name": "stdout",
     "output_type": "stream",
     "text": [
      "            mean                     var             \n",
      "plan        surf   ultimate         surf     ultimate\n",
      "month                                                \n",
      "1      10.500000  15.500000   220.500000   313.666667\n",
      "2      12.000000  21.571429   386.000000   478.285714\n",
      "3      15.260870  20.250000   346.565217   654.386364\n",
      "4      17.400000  22.047619   501.591837   544.147619\n",
      "5      24.012987  32.103448   847.197198  1297.310345\n",
      "6      25.298969  29.340426   914.920103   857.620722\n",
      "7      27.033058  32.830508   923.915565   960.488019\n",
      "8      28.777778  38.478873  1029.515528  1196.367404\n",
      "9      30.762887  37.895349  1003.829496  1050.918331\n",
      "10     33.839662  39.443396  1275.465708  1221.106289\n",
      "11     32.385159  38.606299  1065.344034  1232.669166\n",
      "12     38.600629  45.006623  1458.158612  1549.419956\n"
     ]
    }
   ],
   "source": [
    "# Calculate the mean and the variance of the monthly messages send by each plan\n",
    "message_mean_var=user_data.groupby(['month','plan'])['number_of_messages'].agg(['mean','var']).unstack()\n",
    "print(message_mean_var)"
   ]
  },
  {
   "cell_type": "code",
   "execution_count": 53,
   "metadata": {},
   "outputs": [
    {
     "name": "stdout",
     "output_type": "stream",
     "text": [
      "               mean          var        std\n",
      "plan                                       \n",
      "surf      31.159568  1126.724522  33.566717\n",
      "ultimate  37.551389  1208.756744  34.767179\n"
     ]
    }
   ],
   "source": [
    "# Calculate the mean, variance,standard deviation  of the  messages send by each plan\n",
    "total_message_mean_var =user_data.groupby('plan')['number_of_messages'].agg(['mean','var','std'])\n",
    "print(total_message_mean_var)"
   ]
  },
  {
   "cell_type": "code",
   "execution_count": 54,
   "metadata": {},
   "outputs": [
    {
     "data": {
      "image/png": "[encoded data removed]",
      "text/plain": [
       "<Figure size 640x480 with 1 Axes>"
      ]
     },
     "metadata": {},
     "output_type": "display_data"
    }
   ],
   "source": [
    "plt.hist(plan_surf['number_of_messages'], bins=30, alpha=0.5)\n",
    "plt.hist(plan_ultimate['number_of_messages'], bins=30, alpha=0.5)\n",
    "plt.xlabel('Number of messages')\n",
    "plt.ylabel('Frequency')\n",
    "plt.title('Total Messages Send by Customer per Month by Plan')\n",
    "plt.legend(['Surf','Ultimate'])\n",
    "plt.show()"
   ]
  },
  {
   "cell_type": "markdown",
   "metadata": {},
   "source": [
    "*The histogram shows the total messages send by customer per month for each plan. For surf plan, it is widely distributed with a higher peak compared to plan ultimate.  From the figure, for ultimate plan shows narrower distribution and it is clear that some consistent users for this plan.*"
   ]
  },
  {
   "cell_type": "code",
   "execution_count": 55,
   "metadata": {},
   "outputs": [
    {
     "data": {
      "image/png": "[encoded data removed]",
      "text/plain": [
       "<Figure size 640x480 with 1 Axes>"
      ]
     },
     "metadata": {},
     "output_type": "display_data"
    }
   ],
   "source": [
    "# Plot a boxplot to visualize the distribution of the number of messages by each plan\n",
    "plt.boxplot(total_messages)\n",
    "plt.xlabel('Plan')\n",
    "plt.ylabel('Number of messages')\n",
    "plt.title('Distribution of the messages per month by each plan')\n",
    "plt.xticks([1,2],['surf','ultimate'])\n",
    "plt.show()"
   ]
  },
  {
   "cell_type": "markdown",
   "metadata": {},
   "source": [
    "*The boxplot shows the distribution of messages per month by each plan..  From the plot, it is clear that distribution of surf plan is more wider than ultimate plan. The median for surf plan is higher than the plan ultimate. The interquartile range of surf is more than that of ultimate. Tha maximum value for surf is almost double than that of plan ultimate.*  "
   ]
  },
  {
   "cell_type": "markdown",
   "metadata": {},
   "source": [
    "From the above analysis of messaging behaviour, it is clear that the surf users have wide distribution than ultimate users. Ultimate users follows a consistent pattern means most of this plan users are within the allowance limit."
   ]
  },
  {
   "cell_type": "markdown",
   "metadata": {},
   "source": [
    " "
   ]
  },
  {
   "cell_type": "markdown",
   "metadata": {},
   "source": [
    "### Internet"
   ]
  },
  {
   "cell_type": "markdown",
   "metadata": {},
   "source": [
    "Our aim is to compare the amount of internet traffic consumed by users for each plan per each distinct month. For this, group the user data by month and plan. Then find the sum of total gb."
   ]
  },
  {
   "cell_type": "code",
   "execution_count": 56,
   "metadata": {},
   "outputs": [
    {
     "name": "stdout",
     "output_type": "stream",
     "text": [
      "plan     surf  ultimate\n",
      "month                  \n",
      "1        10.0      29.0\n",
      "2       110.0     121.0\n",
      "3       312.0     221.0\n",
      "4       611.0     343.0\n",
      "5      1087.0     489.0\n",
      "6      1502.0     725.0\n",
      "7      2042.0     973.0\n",
      "8      2735.0    1267.0\n",
      "9      3238.0    1463.0\n",
      "10     4126.0    1878.0\n",
      "11     4650.0    2174.0\n",
      "12     5800.0    2778.0\n"
     ]
    }
   ],
   "source": [
    "# Compare the amount of internet traffic consumed by users per plan\n",
    "internet=user_data.groupby(['month','plan'])['total_gb'].sum().unstack()\n",
    "print(internet)"
   ]
  },
  {
   "cell_type": "code",
   "execution_count": 57,
   "metadata": {},
   "outputs": [
    {
     "name": "stdout",
     "output_type": "stream",
     "text": [
      "            mean                   var            \n",
      "plan        surf   ultimate       surf    ultimate\n",
      "month                                             \n",
      "1       5.000000   7.250000  18.000000   14.916667\n",
      "2      12.222222  17.285714  41.444444   37.904762\n",
      "3      13.565217  18.416667  63.984190  138.628788\n",
      "4      12.220000  16.333333  56.215918   85.833333\n",
      "5      14.116883  16.862069  58.183527   54.194581\n",
      "6      15.484536  15.425532  47.752363   68.858464\n",
      "7      16.876033  16.491525  61.476171   64.254237\n",
      "8      16.882716  17.845070  71.420942   58.047082\n",
      "9      16.690722  17.011628  49.240639   47.258687\n",
      "10     17.409283  17.716981  60.725846   54.604852\n",
      "11     16.431095  17.118110  54.607824   54.390701\n",
      "12     18.238994  18.397351  69.210841   58.841060\n"
     ]
    }
   ],
   "source": [
    "# Calculate the mean and the variance of the monthly gb used by each plan\n",
    "internet_mean_var=user_data.groupby(['month','plan'])['total_gb'].agg(['mean','var']).unstack()\n",
    "print(internet_mean_var)"
   ]
  },
  {
   "cell_type": "code",
   "execution_count": 58,
   "metadata": {},
   "outputs": [
    {
     "name": "stdout",
     "output_type": "stream",
     "text": [
      "               mean       var       std\n",
      "plan                                   \n",
      "surf      16.670693  61.58360  7.847522\n",
      "ultimate  17.306944  58.83055  7.670108\n"
     ]
    }
   ],
   "source": [
    "# Calculate the mean, variance,standard deviation  of the total gb used by each plan\n",
    "total_internet_mean_var=user_data.groupby('plan')['total_gb'].agg(['mean','var','std'])\n",
    "print(total_internet_mean_var)"
   ]
  },
  {
   "cell_type": "code",
   "execution_count": 59,
   "metadata": {},
   "outputs": [
    {
     "data": {
      "image/png": "[encoded data removed]",
      "text/plain": [
       "<Figure size 640x480 with 1 Axes>"
      ]
     },
     "metadata": {},
     "output_type": "display_data"
    }
   ],
   "source": [
    "#Plot histogram for total gb used by customer per month by plan\n",
    "plt.hist(plan_surf['total_gb'], bins=30, alpha=0.5)\n",
    "plt.hist(plan_ultimate['total_gb'], bins=30, alpha=0.5)\n",
    "plt.xlabel('Total GB')\n",
    "plt.ylabel('Frequency')\n",
    "plt.title('Total GB used by Customer per Month by Plan')\n",
    "plt.legend(['Surf','Ultimate'])\n",
    "plt.show()"
   ]
  },
  {
   "cell_type": "markdown",
   "metadata": {},
   "source": [
    "*The histogram shows the distribution of total gb consumed by customer per month for each plan. For surf plan, it is widely distributed with a higher peak compared to plan ultimate. the peak is almost around centre indicates moderate range of minute usage for surf plan users. From the figure, for ultimate plan shows narrower distribution and it is clear that some consistent users for this plan.*"
   ]
  },
  {
   "cell_type": "code",
   "execution_count": 60,
   "metadata": {},
   "outputs": [
    {
     "data": {
      "image/png": "[encoded data removed]",
      "text/plain": [
       "<Figure size 640x480 with 1 Axes>"
      ]
     },
     "metadata": {},
     "output_type": "display_data"
    }
   ],
   "source": [
    "# Plot a boxplot to visualize the distribution of the total gb used by each plan\n",
    "plt.boxplot(internet)\n",
    "plt.xlabel('Plan')\n",
    "plt.ylabel('Total GB')\n",
    "plt.title('Distribution of the GB per month by each plan')\n",
    "plt.xticks([1,2],['surf','ultimate'])\n",
    "plt.show()"
   ]
  },
  {
   "cell_type": "markdown",
   "metadata": {},
   "source": [
    "*The boxplot shows the distribution of GB per month by each plan.  From the plot, it is clear that distribution of surf plan is more wider than ultimate plan. The median for surf plan is almost doubled than the plan ultimate. The interquartile range of surf is more than that of ultimate. Tha maximum value for surf is almost double than that of plan ultimate.*  "
   ]
  },
  {
   "cell_type": "markdown",
   "metadata": {},
   "source": [
    " "
   ]
  },
  {
   "cell_type": "markdown",
   "metadata": {},
   "source": [
    "## Revenue"
   ]
  },
  {
   "cell_type": "markdown",
   "metadata": {},
   "source": [
    "Our aim is to compare the revenue generated by users for each plan per each distinct month. For this, group the user data by month and plan. Then find the sum of revenue."
   ]
  },
  {
   "cell_type": "code",
   "execution_count": 61,
   "metadata": {},
   "outputs": [
    {
     "name": "stdout",
     "output_type": "stream",
     "text": [
      "plan       surf  ultimate\n",
      "month                    \n",
      "1         40.00     280.0\n",
      "2        309.57     490.0\n",
      "3       1056.65     896.0\n",
      "4       2035.53    1533.0\n",
      "5       3667.37    2051.0\n",
      "6       4779.80    3367.0\n",
      "7       7583.56    4242.0\n",
      "8      10356.85    5173.0\n",
      "9      11304.67    6195.0\n",
      "10     15504.83    7665.0\n",
      "11     16415.21    9107.0\n",
      "12     22437.14   11067.0\n"
     ]
    }
   ],
   "source": [
    "# Compare the revenue produced by users per plan\n",
    "revenue1=user_data.groupby(['month','plan'])['revenue'].sum().unstack()\n",
    "print(revenue1)"
   ]
  },
  {
   "cell_type": "code",
   "execution_count": 62,
   "metadata": {},
   "outputs": [
    {
     "name": "stdout",
     "output_type": "stream",
     "text": [
      "            mean                     var            \n",
      "plan        surf   ultimate         surf    ultimate\n",
      "month                                               \n",
      "1      20.000000  70.000000     0.000000    0.000000\n",
      "2      34.396667  70.000000   428.276100    0.000000\n",
      "3      45.941304  74.666667  1512.023512  145.515152\n",
      "4      40.710600  73.000000  1198.958402  120.400000\n",
      "5      47.628182  70.724138  1967.540055   15.206897\n",
      "6      49.276289  71.638298  1988.914046   75.018501\n",
      "7      62.674050  71.898305  2943.388409  104.472238\n",
      "8      63.931173  72.859155  3587.494901  154.808451\n",
      "9      58.271495  72.034884  2260.644980   75.939945\n",
      "10     65.421224  72.311321  3198.242612  169.606918\n",
      "11     58.004276  71.708661  2494.182230   94.668416\n",
      "12     70.557044  73.291391  4604.410868  212.861192\n"
     ]
    }
   ],
   "source": [
    "# Calculate the mean and the variance of the monthly revenue generatedd by each plan\n",
    "revenue_mean_var=user_data.groupby(['month','plan'])['revenue'].agg(['mean','var']).unstack()\n",
    "print(revenue_mean_var)"
   ]
  },
  {
   "cell_type": "markdown",
   "metadata": {},
   "source": [
    "*Zero variance in month 1 and 2 means all are identical values. That is, all users use the monthly plans and no extra revenue generated.*"
   ]
  },
  {
   "cell_type": "code",
   "execution_count": 63,
   "metadata": {},
   "outputs": [
    {
     "name": "stdout",
     "output_type": "stream",
     "text": [
      "               mean          var        std\n",
      "plan                                       \n",
      "surf      60.706408  3067.835152  55.388042\n",
      "ultimate  72.313889   129.848486  11.395108\n"
     ]
    }
   ],
   "source": [
    "# Calculate the mean, variance,standard deviation  of the total revenue generated by each plan\n",
    "total_revenue_mean_var=user_data.groupby('plan')['revenue'].agg(['mean','var','std'])\n",
    "print(total_revenue_mean_var)"
   ]
  },
  {
   "cell_type": "code",
   "execution_count": 64,
   "metadata": {},
   "outputs": [
    {
     "data": {
      "image/png": "[encoded data removed]",
      "text/plain": [
       "<Figure size 640x480 with 1 Axes>"
      ]
     },
     "metadata": {},
     "output_type": "display_data"
    }
   ],
   "source": [
    "#Plot histogram for totalrevenue generated by customer per month by plan\n",
    "plt.hist(plan_surf['revenue'], bins=15, alpha=0.9)\n",
    "plt.hist(plan_ultimate['revenue'], bins=15, alpha=0.9)\n",
    "plt.xlabel('Revenue')\n",
    "plt.ylabel('Frequency')\n",
    "plt.title('Total revenue generated by Customer per Month by Plan')\n",
    "plt.legend(['Surf','Ultimate'])\n",
    "plt.show()"
   ]
  },
  {
   "cell_type": "markdown",
   "metadata": {},
   "source": [
    "*The histogram shows the total revenu generated by customer per month by plan. From the histogram, it is clear that ultimate users are consistent in nature which means almost all users use the monthly base plan. From the graph, surf plan users pay additional amount when exceeds the limit and more users are in surf plan.*"
   ]
  },
  {
   "cell_type": "code",
   "execution_count": 65,
   "metadata": {},
   "outputs": [
    {
     "data": {
      "image/png": "[encoded data removed]",
      "text/plain": [
       "<Figure size 640x480 with 1 Axes>"
      ]
     },
     "metadata": {},
     "output_type": "display_data"
    }
   ],
   "source": [
    "# Plot a boxplot to visualize the distribution of the total revenue generated by each plan\n",
    "plt.boxplot(revenue1)\n",
    "plt.xlabel('Plan')\n",
    "plt.ylabel('Revenue')\n",
    "plt.title('Distribution of the revenue generated per month by each plan')\n",
    "plt.xticks([1,2],['surf','ultimate'])\n",
    "plt.show()"
   ]
  },
  {
   "cell_type": "markdown",
   "metadata": {},
   "source": [
    "*The boxplot shows the distribution of revenue generated per month by each plan.  From the plot, it is clear that distribution of surf plan is more wider than ultimate plan.  The interquartile range of surf is more than that of ultimate. Tha maximum value for surf is almost double than that of plan ultimate.*  "
   ]
  },
  {
   "cell_type": "markdown",
   "metadata": {},
   "source": [
    " "
   ]
  },
  {
   "cell_type": "markdown",
   "metadata": {},
   "source": [
    "## Test statistical hypotheses"
   ]
  },
  {
   "cell_type": "markdown",
   "metadata": {},
   "source": [
    "##Stage 4:\n",
    "\n",
    "In this stage test statistical hypotheses.\n",
    "- Test the hypothesis that the average revenue from users of the Ultimate and Surf calling plans differs."
   ]
  },
  {
   "cell_type": "markdown",
   "metadata": {},
   "source": [
    "Formulate null and alternative hypotheses.\n",
    "- H0 : Average revenue from users of the Ultimate and Surf calling plans are same\n",
    "- H1 : Average revenue from users of the Ultimate and Surf calling plans are different\n",
    "\n",
    "Assume alpha = 0.05"
   ]
  },
  {
   "cell_type": "code",
   "execution_count": 66,
   "metadata": {},
   "outputs": [
    {
     "name": "stdout",
     "output_type": "stream",
     "text": [
      "p-value: 2.862674510698644e-08\n",
      "We reject the null hypothesis\n"
     ]
    }
   ],
   "source": [
    "# Test the hypotheses\n",
    "sample1=plan_surf['revenue']\n",
    "sample2=plan_ultimate['revenue']\n",
    "alpha =0.05\n",
    "results=st.ttest_ind(sample1, sample2)\n",
    "print('p-value:',results.pvalue)\n",
    "if results.pvalue<alpha:\n",
    "    print('We reject the null hypothesis')\n",
    "else:\n",
    "     print(\"We can't reject the null hypothesis\")"
   ]
  },
  {
   "cell_type": "markdown",
   "metadata": {},
   "source": [
    "*The p value is very small, so we reject the null hypothesis.The average revenue from users of the Ultimate and Surf calling plans are different.*"
   ]
  },
  {
   "cell_type": "markdown",
   "metadata": {},
   "source": [
    "-Test the hypothesis that the average revenue from users in the NY-NJ area is different from that of the users from the other regions."
   ]
  },
  {
   "cell_type": "markdown",
   "metadata": {},
   "source": [
    "Formulate null and alternative hypotheses.\n",
    "- H0 : Average revenue from users in the NY-NJ area is same from that of the users from the other regions.\n",
    "- H1 : Average revenue from users in the NY-NJ area is different from that of the users from the other regions.\n",
    "\n",
    "Assume alpha = 0.05"
   ]
  },
  {
   "cell_type": "code",
   "execution_count": 67,
   "metadata": {},
   "outputs": [],
   "source": [
    "#Merge user_data with city\n",
    "user_data_with_city=user_data.merge(users[['user_id', 'city']], on='user_id')\n",
    "#Filter NY_NJ regions with other regions\n",
    "revenue_ny_nj=user_data_with_city[user_data_with_city['city'].str.contains('NY-NJ')]['revenue']\n",
    "revenue_others =user_data_with_city[~user_data_with_city['city'].str.contains('NY-NJ')]['revenue']"
   ]
  },
  {
   "cell_type": "code",
   "execution_count": 68,
   "metadata": {},
   "outputs": [
    {
     "name": "stdout",
     "output_type": "stream",
     "text": [
      "p-value: 0.043557431621342436\n",
      "We reject the null hypothesis\n"
     ]
    }
   ],
   "source": [
    "# Test the hypotheses\n",
    "alpha =0.05\n",
    "results=st.ttest_ind(revenue_ny_nj, revenue_others)\n",
    "print('p-value:',results.pvalue)\n",
    "if results.pvalue<alpha:\n",
    "    print('We reject the null hypothesis')\n",
    "else:\n",
    "     print(\"We can't reject the null hypothesis\")"
   ]
  },
  {
   "cell_type": "markdown",
   "metadata": {},
   "source": [
    "*The p value is small, so we reject the null hypothesis.The average revenue from users in the NY-NJ area is different from that of the users from the other regions..*"
   ]
  },
  {
   "cell_type": "markdown",
   "metadata": {},
   "source": [
    "## General conclusion\n",
    "\n",
    "In this project, we analyze the data to find the better plan which brings more revenue of telecom operator Megaline. From the analysis it is clear that most of the users in Ultimate plan are consistent which means there call, messaging, internet needs are within the allowable limits. But in the case of surf plan, users exceed the limits and pays extra. Among 500 customers 68 percent uses surf plan and compared to ultimate  the users shows wide behavior for surf plan. So the surf plan brings more revenue than ultimate plan. So commercial department should allocate more advertising budget for surf plan than ultimate."
   ]
  },
  {
   "cell_type": "markdown",
   "metadata": {},
   "source": [
    " "
   ]
  }
 ],
 "metadata": {
  "ExecuteTimeLog": [
   {
    "duration": 828,
    "start_time": "2021-11-16T09:21:11.304Z"
   },
   {
    "duration": 893,
    "start_time": "2021-11-16T09:21:17.728Z"
   },
   {
    "duration": 1150,
    "start_time": "2021-11-16T09:21:29.568Z"
   },
   {
    "duration": 3,
    "start_time": "2021-11-16T09:24:14.495Z"
   },
   {
    "duration": 120,
    "start_time": "2021-11-16T09:24:46.630Z"
   },
   {
    "duration": 3,
    "start_time": "2021-11-16T09:28:27.882Z"
   },
   {
    "duration": 4,
    "start_time": "2021-11-16T09:29:54.281Z"
   },
   {
    "duration": 3,
    "start_time": "2021-11-16T09:30:45.936Z"
   },
   {
    "duration": 4,
    "start_time": "2021-11-16T09:31:06.300Z"
   },
   {
    "duration": 113,
    "start_time": "2021-11-16T09:31:37.208Z"
   },
   {
    "duration": 143,
    "start_time": "2021-11-16T09:31:48.656Z"
   },
   {
    "duration": 98,
    "start_time": "2021-11-16T09:31:55.678Z"
   },
   {
    "duration": 3,
    "start_time": "2021-11-16T09:32:08.535Z"
   },
   {
    "duration": 111,
    "start_time": "2021-11-16T09:32:10.120Z"
   },
   {
    "duration": 3,
    "start_time": "2021-11-16T09:32:15.732Z"
   },
   {
    "duration": 4,
    "start_time": "2021-11-16T09:32:29.423Z"
   },
   {
    "duration": 3,
    "start_time": "2021-11-16T10:03:03.074Z"
   },
   {
    "duration": 3,
    "start_time": "2021-11-16T10:10:01.288Z"
   },
   {
    "duration": 3,
    "start_time": "2021-11-16T10:10:46.923Z"
   },
   {
    "duration": 121,
    "start_time": "2021-11-16T10:37:46.494Z"
   },
   {
    "duration": 125,
    "start_time": "2021-11-16T10:38:20.632Z"
   },
   {
    "duration": 112,
    "start_time": "2021-11-16T10:46:53.001Z"
   },
   {
    "duration": 110,
    "start_time": "2021-11-16T10:48:25.775Z"
   },
   {
    "duration": 3,
    "start_time": "2021-11-16T10:50:18.720Z"
   },
   {
    "duration": 4,
    "start_time": "2021-11-16T10:50:37.649Z"
   },
   {
    "duration": 2,
    "start_time": "2021-11-16T10:50:51.884Z"
   },
   {
    "duration": 3,
    "start_time": "2021-11-16T10:51:56.237Z"
   },
   {
    "duration": 101,
    "start_time": "2021-11-16T10:53:13.791Z"
   },
   {
    "duration": 3,
    "start_time": "2021-11-16T10:55:59.186Z"
   },
   {
    "duration": 3,
    "start_time": "2021-11-16T10:56:10.751Z"
   },
   {
    "duration": 3,
    "start_time": "2021-11-16T10:56:49.038Z"
   },
   {
    "duration": 3,
    "start_time": "2021-11-16T10:56:49.174Z"
   },
   {
    "duration": 4,
    "start_time": "2021-11-16T10:56:49.414Z"
   },
   {
    "duration": 3,
    "start_time": "2021-11-16T10:56:49.680Z"
   },
   {
    "duration": 3,
    "start_time": "2021-11-16T10:56:50.370Z"
   },
   {
    "duration": 114,
    "start_time": "2021-11-16T10:59:34.518Z"
   },
   {
    "duration": 3,
    "start_time": "2021-11-16T11:01:41.201Z"
   },
   {
    "duration": 116,
    "start_time": "2021-11-16T11:01:48.754Z"
   },
   {
    "duration": 3,
    "start_time": "2021-11-16T11:02:16.685Z"
   },
   {
    "duration": 3,
    "start_time": "2021-11-16T11:02:19.479Z"
   },
   {
    "duration": 3,
    "start_time": "2021-11-16T11:02:47.067Z"
   },
   {
    "duration": 3,
    "start_time": "2021-11-16T11:02:49.353Z"
   },
   {
    "duration": 3,
    "start_time": "2021-11-16T11:03:07.835Z"
   },
   {
    "duration": 3,
    "start_time": "2021-11-16T11:03:07.953Z"
   },
   {
    "duration": 112,
    "start_time": "2021-11-16T11:07:52.072Z"
   },
   {
    "duration": 187,
    "start_time": "2021-11-16T11:09:23.468Z"
   },
   {
    "duration": 4,
    "start_time": "2021-11-16T11:10:01.455Z"
   },
   {
    "duration": 3,
    "start_time": "2021-11-16T11:10:05.069Z"
   },
   {
    "duration": 4,
    "start_time": "2021-11-16T11:10:13.376Z"
   },
   {
    "duration": 3,
    "start_time": "2021-11-16T11:10:14.434Z"
   },
   {
    "duration": 3,
    "start_time": "2021-11-16T11:10:22.853Z"
   },
   {
    "duration": 4,
    "start_time": "2021-11-16T11:27:29.279Z"
   },
   {
    "duration": 4,
    "start_time": "2021-11-16T11:29:08.919Z"
   },
   {
    "duration": 118,
    "start_time": "2021-11-16T11:29:46.703Z"
   },
   {
    "duration": 437,
    "start_time": "2021-11-16T11:36:02.181Z"
   },
   {
    "duration": 157,
    "start_time": "2021-11-16T11:36:14.388Z"
   },
   {
    "duration": 207,
    "start_time": "2021-11-16T11:47:15.898Z"
   },
   {
    "duration": 3,
    "start_time": "2021-11-16T11:53:52.092Z"
   },
   {
    "duration": 3,
    "start_time": "2021-11-16T11:53:52.236Z"
   },
   {
    "duration": 3,
    "start_time": "2021-11-16T11:59:12.005Z"
   },
   {
    "duration": 112,
    "start_time": "2021-11-16T12:00:33.446Z"
   },
   {
    "duration": 3,
    "start_time": "2021-11-16T12:02:14.453Z"
   },
   {
    "duration": 3,
    "start_time": "2021-11-16T12:02:39.512Z"
   },
   {
    "duration": 106,
    "start_time": "2021-11-16T12:03:03.460Z"
   },
   {
    "duration": 3,
    "start_time": "2021-11-17T20:37:21.139Z"
   },
   {
    "duration": 3,
    "start_time": "2021-11-17T20:37:22.229Z"
   },
   {
    "duration": 3,
    "start_time": "2021-11-17T20:38:38.806Z"
   },
   {
    "duration": 3,
    "start_time": "2021-11-17T20:38:41.958Z"
   },
   {
    "duration": 3,
    "start_time": "2021-11-17T20:43:46.551Z"
   },
   {
    "duration": 4,
    "start_time": "2021-11-17T20:58:21.835Z"
   },
   {
    "duration": 3,
    "start_time": "2021-11-17T20:59:21.872Z"
   },
   {
    "duration": 4,
    "start_time": "2021-11-17T20:59:45.352Z"
   },
   {
    "duration": 4,
    "start_time": "2021-11-17T20:59:49.646Z"
   },
   {
    "duration": 159,
    "start_time": "2021-11-17T21:02:26.949Z"
   },
   {
    "duration": 3,
    "start_time": "2021-11-17T21:03:53.461Z"
   },
   {
    "duration": 3,
    "start_time": "2021-11-17T21:03:53.694Z"
   },
   {
    "duration": 3,
    "start_time": "2021-11-17T21:05:28.145Z"
   },
   {
    "duration": 116,
    "start_time": "2021-11-17T21:05:57.787Z"
   },
   {
    "duration": 3,
    "start_time": "2021-11-17T21:06:37.993Z"
   },
   {
    "duration": 3,
    "start_time": "2021-11-17T21:06:38.261Z"
   },
   {
    "duration": 3,
    "start_time": "2021-11-17T21:11:54.358Z"
   },
   {
    "duration": 3,
    "start_time": "2021-11-17T21:12:43.846Z"
   },
   {
    "duration": 4,
    "start_time": "2021-11-17T21:13:08.773Z"
   },
   {
    "duration": 3,
    "start_time": "2021-11-17T21:14:44.441Z"
   },
   {
    "duration": 3,
    "start_time": "2021-11-17T21:15:42.059Z"
   },
   {
    "duration": 4,
    "start_time": "2021-11-17T21:15:51.995Z"
   },
   {
    "duration": 3,
    "start_time": "2021-11-17T21:15:53.923Z"
   },
   {
    "duration": 3,
    "start_time": "2021-11-17T21:15:55.282Z"
   },
   {
    "duration": 3,
    "start_time": "2021-11-17T21:16:28.492Z"
   },
   {
    "duration": 3,
    "start_time": "2021-11-17T21:16:32.603Z"
   },
   {
    "duration": 3,
    "start_time": "2021-11-17T21:17:06.941Z"
   },
   {
    "duration": 98,
    "start_time": "2021-11-17T21:18:05.733Z"
   },
   {
    "duration": 4,
    "start_time": "2021-11-17T21:21:35.255Z"
   },
   {
    "duration": 3,
    "start_time": "2021-11-17T21:21:37.804Z"
   },
   {
    "duration": 4,
    "start_time": "2021-11-17T21:23:06.071Z"
   },
   {
    "duration": 3,
    "start_time": "2021-11-17T21:23:24.799Z"
   },
   {
    "duration": 3,
    "start_time": "2021-11-17T21:23:32.591Z"
   },
   {
    "duration": 98,
    "start_time": "2021-11-17T21:28:31.559Z"
   },
   {
    "duration": 3,
    "start_time": "2021-11-17T21:28:45.448Z"
   },
   {
    "duration": 3,
    "start_time": "2021-11-17T21:29:17.303Z"
   },
   {
    "duration": 3,
    "start_time": "2021-11-17T21:29:29.617Z"
   },
   {
    "duration": 3,
    "start_time": "2021-11-17T21:29:32.681Z"
   },
   {
    "duration": 3,
    "start_time": "2021-11-17T21:36:11.474Z"
   },
   {
    "duration": 3,
    "start_time": "2021-11-17T21:36:14.791Z"
   },
   {
    "duration": 3,
    "start_time": "2021-11-17T21:36:53.943Z"
   },
   {
    "duration": 3,
    "start_time": "2021-11-17T21:36:56.165Z"
   },
   {
    "duration": 4,
    "start_time": "2021-11-17T21:37:16.590Z"
   },
   {
    "duration": 3,
    "start_time": "2021-11-17T21:37:22.702Z"
   },
   {
    "duration": 4,
    "start_time": "2021-11-17T21:38:03.479Z"
   },
   {
    "duration": 3,
    "start_time": "2021-11-17T21:38:08.601Z"
   },
   {
    "duration": 3,
    "start_time": "2021-11-17T21:38:12.928Z"
   },
   {
    "duration": 3,
    "start_time": "2021-11-17T21:38:48.896Z"
   },
   {
    "duration": 2,
    "start_time": "2021-11-17T21:38:49.171Z"
   },
   {
    "duration": 4,
    "start_time": "2021-11-17T21:39:57.889Z"
   },
   {
    "duration": 3,
    "start_time": "2021-11-17T21:39:58.057Z"
   },
   {
    "duration": 3,
    "start_time": "2021-11-17T21:41:20.108Z"
   },
   {
    "duration": 3,
    "start_time": "2021-11-17T21:41:20.629Z"
   },
   {
    "duration": 3,
    "start_time": "2021-11-17T21:42:49.136Z"
   },
   {
    "duration": 3,
    "start_time": "2021-11-17T21:43:15.137Z"
   },
   {
    "duration": 4,
    "start_time": "2021-11-17T21:43:16.766Z"
   },
   {
    "duration": 4,
    "start_time": "2021-11-17T21:43:31.711Z"
   },
   {
    "duration": 3,
    "start_time": "2021-11-17T21:43:36.312Z"
   },
   {
    "duration": 4,
    "start_time": "2021-11-17T21:45:08.825Z"
   },
   {
    "duration": 4,
    "start_time": "2021-11-17T21:45:10.119Z"
   },
   {
    "duration": 4,
    "start_time": "2021-11-17T21:45:13.748Z"
   },
   {
    "duration": 3,
    "start_time": "2021-11-17T21:45:22.219Z"
   },
   {
    "duration": 3,
    "start_time": "2021-11-17T21:45:33.412Z"
   },
   {
    "duration": 2,
    "start_time": "2021-11-17T21:46:01.885Z"
   },
   {
    "duration": 3,
    "start_time": "2021-11-17T21:46:03.628Z"
   },
   {
    "duration": 107,
    "start_time": "2021-11-17T21:47:32.512Z"
   },
   {
    "duration": 103,
    "start_time": "2021-11-17T21:50:36.243Z"
   },
   {
    "duration": 3,
    "start_time": "2021-11-18T06:28:31.440Z"
   },
   {
    "duration": 3,
    "start_time": "2021-11-18T06:29:00.168Z"
   },
   {
    "duration": 3,
    "start_time": "2021-11-18T06:31:27.008Z"
   },
   {
    "duration": 2,
    "start_time": "2021-11-18T06:35:34.288Z"
   },
   {
    "duration": 2,
    "start_time": "2021-11-18T06:38:04.527Z"
   },
   {
    "duration": 2526,
    "start_time": "2025-01-30T16:41:43.102Z"
   },
   {
    "duration": 95,
    "start_time": "2025-01-30T16:41:45.881Z"
   },
   {
    "duration": 86,
    "start_time": "2025-01-30T16:42:54.182Z"
   },
   {
    "duration": 55,
    "start_time": "2025-01-30T16:45:10.348Z"
   },
   {
    "duration": 11,
    "start_time": "2025-01-30T16:45:11.919Z"
   },
   {
    "duration": 15,
    "start_time": "2025-01-30T16:45:19.013Z"
   },
   {
    "duration": 87,
    "start_time": "2025-01-30T16:45:55.022Z"
   },
   {
    "duration": 69,
    "start_time": "2025-01-30T16:47:02.504Z"
   },
   {
    "duration": 47,
    "start_time": "2025-01-30T16:47:06.899Z"
   },
   {
    "duration": 16,
    "start_time": "2025-01-30T16:47:12.628Z"
   },
   {
    "duration": 18,
    "start_time": "2025-01-30T16:47:18.565Z"
   },
   {
    "duration": 4,
    "start_time": "2025-01-30T17:40:48.866Z"
   },
   {
    "duration": 5,
    "start_time": "2025-01-30T17:41:02.676Z"
   },
   {
    "duration": 14,
    "start_time": "2025-01-30T17:41:48.781Z"
   },
   {
    "duration": 39,
    "start_time": "2025-01-30T17:42:34.986Z"
   },
   {
    "duration": 24,
    "start_time": "2025-01-30T17:42:37.977Z"
   },
   {
    "duration": 5,
    "start_time": "2025-01-30T17:44:16.018Z"
   },
   {
    "duration": 4,
    "start_time": "2025-01-30T17:44:31.812Z"
   },
   {
    "duration": 18,
    "start_time": "2025-01-30T17:44:59.005Z"
   },
   {
    "duration": 9,
    "start_time": "2025-01-30T17:49:48.242Z"
   },
   {
    "duration": 5,
    "start_time": "2025-01-30T17:50:08.160Z"
   },
   {
    "duration": 5,
    "start_time": "2025-01-30T17:50:18.588Z"
   },
   {
    "duration": 2449,
    "start_time": "2025-01-30T21:01:57.336Z"
   },
   {
    "duration": 107,
    "start_time": "2025-01-30T21:01:59.815Z"
   },
   {
    "duration": 87,
    "start_time": "2025-01-30T21:02:04.355Z"
   },
   {
    "duration": 57,
    "start_time": "2025-01-30T21:02:07.837Z"
   },
   {
    "duration": 17,
    "start_time": "2025-01-30T21:02:10.883Z"
   },
   {
    "duration": 21,
    "start_time": "2025-01-30T21:02:14.915Z"
   },
   {
    "duration": 13,
    "start_time": "2025-01-30T21:02:21.325Z"
   },
   {
    "duration": 25,
    "start_time": "2025-01-30T21:02:49.424Z"
   },
   {
    "duration": 9,
    "start_time": "2025-01-30T21:03:43.739Z"
   },
   {
    "duration": 5,
    "start_time": "2025-01-30T21:04:22.867Z"
   },
   {
    "duration": 5,
    "start_time": "2025-01-30T21:04:37.627Z"
   },
   {
    "duration": 6,
    "start_time": "2025-01-30T21:12:42.756Z"
   },
   {
    "duration": 5,
    "start_time": "2025-01-30T21:13:34.080Z"
   },
   {
    "duration": 18,
    "start_time": "2025-01-30T21:15:04.621Z"
   },
   {
    "duration": 20,
    "start_time": "2025-01-30T21:15:26.631Z"
   },
   {
    "duration": 22,
    "start_time": "2025-01-30T21:16:26.922Z"
   },
   {
    "duration": 4,
    "start_time": "2025-01-30T21:19:01.443Z"
   },
   {
    "duration": 15,
    "start_time": "2025-01-30T21:19:15.189Z"
   },
   {
    "duration": 209,
    "start_time": "2025-01-30T21:19:40.805Z"
   },
   {
    "duration": 15,
    "start_time": "2025-01-30T21:19:52.104Z"
   },
   {
    "duration": 337,
    "start_time": "2025-01-30T21:20:06.807Z"
   },
   {
    "duration": 16,
    "start_time": "2025-01-30T21:31:29.092Z"
   },
   {
    "duration": 14,
    "start_time": "2025-01-30T21:36:09.368Z"
   },
   {
    "duration": 9,
    "start_time": "2025-01-30T21:36:31.685Z"
   },
   {
    "duration": 9,
    "start_time": "2025-01-30T21:37:02.908Z"
   },
   {
    "duration": 10,
    "start_time": "2025-01-30T21:37:21.402Z"
   },
   {
    "duration": 11,
    "start_time": "2025-01-30T21:37:26.145Z"
   },
   {
    "duration": 9,
    "start_time": "2025-01-30T21:39:53.114Z"
   },
   {
    "duration": 205,
    "start_time": "2025-01-30T21:40:12.392Z"
   },
   {
    "duration": 41,
    "start_time": "2025-01-30T21:40:28.366Z"
   },
   {
    "duration": 3,
    "start_time": "2025-01-30T21:41:49.699Z"
   },
   {
    "duration": 20,
    "start_time": "2025-01-30T21:41:55.330Z"
   },
   {
    "duration": 21,
    "start_time": "2025-01-30T21:42:09.445Z"
   },
   {
    "duration": 15,
    "start_time": "2025-01-30T21:42:13.480Z"
   },
   {
    "duration": 18,
    "start_time": "2025-01-30T21:42:16.507Z"
   },
   {
    "duration": 16,
    "start_time": "2025-01-30T21:42:39.405Z"
   },
   {
    "duration": 29,
    "start_time": "2025-01-30T21:45:39.733Z"
   },
   {
    "duration": 26,
    "start_time": "2025-01-30T21:45:48.749Z"
   },
   {
    "duration": 26,
    "start_time": "2025-01-30T21:46:37.151Z"
   },
   {
    "duration": 26,
    "start_time": "2025-01-30T21:46:46.878Z"
   },
   {
    "duration": 27,
    "start_time": "2025-01-30T21:47:40.348Z"
   },
   {
    "duration": 34,
    "start_time": "2025-01-30T21:48:08.013Z"
   },
   {
    "duration": 27,
    "start_time": "2025-01-30T21:48:43.216Z"
   },
   {
    "duration": 4,
    "start_time": "2025-01-30T21:51:51.713Z"
   },
   {
    "duration": 13,
    "start_time": "2025-01-30T21:53:09.567Z"
   },
   {
    "duration": 13,
    "start_time": "2025-01-30T21:53:16.924Z"
   },
   {
    "duration": 2,
    "start_time": "2025-01-30T21:54:11.950Z"
   },
   {
    "duration": 3,
    "start_time": "2025-01-30T21:54:47.764Z"
   },
   {
    "duration": 3,
    "start_time": "2025-01-30T21:56:14.887Z"
   },
   {
    "duration": 13,
    "start_time": "2025-01-30T21:56:28.887Z"
   },
   {
    "duration": 15,
    "start_time": "2025-01-30T21:56:35.739Z"
   },
   {
    "duration": 14,
    "start_time": "2025-01-30T21:56:44.743Z"
   },
   {
    "duration": 4,
    "start_time": "2025-01-30T21:56:55.569Z"
   },
   {
    "duration": 17,
    "start_time": "2025-01-30T22:02:25.298Z"
   },
   {
    "duration": 5,
    "start_time": "2025-01-30T22:03:09.723Z"
   },
   {
    "duration": 19,
    "start_time": "2025-01-30T22:04:37.888Z"
   },
   {
    "duration": 91,
    "start_time": "2025-01-30T22:04:54.563Z"
   },
   {
    "duration": 5,
    "start_time": "2025-01-30T22:06:28.814Z"
   },
   {
    "duration": 12,
    "start_time": "2025-01-30T22:10:29.480Z"
   },
   {
    "duration": 4,
    "start_time": "2025-01-30T22:10:52.090Z"
   },
   {
    "duration": 38,
    "start_time": "2025-01-30T22:11:46.225Z"
   },
   {
    "duration": 17,
    "start_time": "2025-01-30T22:12:00.476Z"
   },
   {
    "duration": 13,
    "start_time": "2025-01-30T22:12:48.906Z"
   },
   {
    "duration": 7,
    "start_time": "2025-01-30T22:13:12.013Z"
   },
   {
    "duration": 10,
    "start_time": "2025-01-30T22:14:12.707Z"
   },
   {
    "duration": 20,
    "start_time": "2025-01-30T22:15:14.531Z"
   },
   {
    "duration": 4,
    "start_time": "2025-01-30T22:16:26.509Z"
   },
   {
    "duration": 12,
    "start_time": "2025-01-30T22:24:27.899Z"
   },
   {
    "duration": 9,
    "start_time": "2025-01-30T22:24:40.700Z"
   },
   {
    "duration": 10,
    "start_time": "2025-01-30T22:35:08.997Z"
   },
   {
    "duration": 13,
    "start_time": "2025-01-30T22:35:26.178Z"
   },
   {
    "duration": 13,
    "start_time": "2025-01-30T22:36:03.883Z"
   },
   {
    "duration": 4,
    "start_time": "2025-01-30T22:38:05.952Z"
   },
   {
    "duration": 12,
    "start_time": "2025-01-30T22:38:14.989Z"
   },
   {
    "duration": 15,
    "start_time": "2025-01-30T22:38:53.376Z"
   },
   {
    "duration": 9,
    "start_time": "2025-01-30T22:40:36.500Z"
   },
   {
    "duration": 15,
    "start_time": "2025-01-30T22:42:24.733Z"
   },
   {
    "duration": 10,
    "start_time": "2025-01-30T22:44:03.271Z"
   },
   {
    "duration": 8,
    "start_time": "2025-01-30T22:45:17.351Z"
   },
   {
    "duration": 4,
    "start_time": "2025-01-30T22:48:14.018Z"
   },
   {
    "duration": 11,
    "start_time": "2025-01-30T22:48:21.376Z"
   },
   {
    "duration": 154,
    "start_time": "2025-01-30T23:46:33.751Z"
   },
   {
    "duration": 2400,
    "start_time": "2025-01-30T23:46:40.361Z"
   },
   {
    "duration": 105,
    "start_time": "2025-01-30T23:46:42.764Z"
   },
   {
    "duration": 89,
    "start_time": "2025-01-30T23:46:46.558Z"
   },
   {
    "duration": 56,
    "start_time": "2025-01-30T23:46:49.850Z"
   },
   {
    "duration": 17,
    "start_time": "2025-01-30T23:46:53.524Z"
   },
   {
    "duration": 20,
    "start_time": "2025-01-30T23:46:56.482Z"
   },
   {
    "duration": 25,
    "start_time": "2025-01-30T23:47:02.450Z"
   },
   {
    "duration": 8,
    "start_time": "2025-01-30T23:47:07.616Z"
   },
   {
    "duration": 24,
    "start_time": "2025-01-30T23:47:12.797Z"
   },
   {
    "duration": 26,
    "start_time": "2025-01-30T23:47:16.537Z"
   },
   {
    "duration": 4,
    "start_time": "2025-01-30T23:47:21.240Z"
   },
   {
    "duration": 32,
    "start_time": "2025-01-30T23:47:26.331Z"
   },
   {
    "duration": 9,
    "start_time": "2025-01-30T23:47:30.043Z"
   },
   {
    "duration": 19,
    "start_time": "2025-01-30T23:47:35.321Z"
   },
   {
    "duration": 7,
    "start_time": "2025-01-30T23:47:39.056Z"
   },
   {
    "duration": 14,
    "start_time": "2025-01-30T23:47:42.951Z"
   },
   {
    "duration": 21,
    "start_time": "2025-01-30T23:47:49.623Z"
   },
   {
    "duration": 8,
    "start_time": "2025-01-30T23:47:53.491Z"
   },
   {
    "duration": 15,
    "start_time": "2025-01-30T23:47:57.291Z"
   },
   {
    "duration": 14,
    "start_time": "2025-01-30T23:47:59.669Z"
   },
   {
    "duration": 11,
    "start_time": "2025-01-30T23:48:01.488Z"
   },
   {
    "duration": 11,
    "start_time": "2025-01-30T23:48:02.409Z"
   },
   {
    "duration": 9,
    "start_time": "2025-01-30T23:55:31.171Z"
   },
   {
    "duration": 14,
    "start_time": "2025-01-30T23:58:14.476Z"
   },
   {
    "duration": 14,
    "start_time": "2025-01-31T00:00:25.038Z"
   },
   {
    "duration": 10,
    "start_time": "2025-01-31T00:00:41.170Z"
   },
   {
    "duration": 10,
    "start_time": "2025-01-31T00:00:48.319Z"
   },
   {
    "duration": 14,
    "start_time": "2025-01-31T00:00:51.167Z"
   },
   {
    "duration": 11,
    "start_time": "2025-01-31T00:01:11.038Z"
   },
   {
    "duration": 15,
    "start_time": "2025-01-31T00:01:16.298Z"
   },
   {
    "duration": 459,
    "start_time": "2025-01-31T00:03:39.777Z"
   },
   {
    "duration": 7,
    "start_time": "2025-01-31T00:04:27.200Z"
   },
   {
    "duration": 12,
    "start_time": "2025-01-31T00:04:39.363Z"
   },
   {
    "duration": 17,
    "start_time": "2025-01-31T00:04:48.548Z"
   },
   {
    "duration": 16,
    "start_time": "2025-01-31T00:06:55.030Z"
   },
   {
    "duration": 17,
    "start_time": "2025-01-31T00:07:15.558Z"
   },
   {
    "duration": 2491,
    "start_time": "2025-01-31T16:01:35.163Z"
   },
   {
    "duration": 110,
    "start_time": "2025-01-31T16:01:39.609Z"
   },
   {
    "duration": 88,
    "start_time": "2025-01-31T16:01:43.651Z"
   },
   {
    "duration": 66,
    "start_time": "2025-01-31T16:01:47.854Z"
   },
   {
    "duration": 18,
    "start_time": "2025-01-31T16:01:52.136Z"
   },
   {
    "duration": 24,
    "start_time": "2025-01-31T16:01:57.638Z"
   },
   {
    "duration": 221,
    "start_time": "2025-01-31T16:02:05.025Z"
   },
   {
    "duration": 21,
    "start_time": "2025-01-31T16:02:18.962Z"
   },
   {
    "duration": 22,
    "start_time": "2025-01-31T16:02:25.122Z"
   },
   {
    "duration": 22,
    "start_time": "2025-01-31T16:02:29.096Z"
   },
   {
    "duration": 14,
    "start_time": "2025-01-31T16:02:43.907Z"
   },
   {
    "duration": 22,
    "start_time": "2025-01-31T16:02:47.488Z"
   },
   {
    "duration": 22,
    "start_time": "2025-01-31T16:03:11.169Z"
   },
   {
    "duration": 29,
    "start_time": "2025-01-31T16:03:29.669Z"
   },
   {
    "duration": 26,
    "start_time": "2025-01-31T16:03:41.951Z"
   },
   {
    "duration": 11,
    "start_time": "2025-01-31T16:03:45.424Z"
   },
   {
    "duration": 18,
    "start_time": "2025-01-31T16:03:50.850Z"
   },
   {
    "duration": 7,
    "start_time": "2025-01-31T16:03:54.138Z"
   },
   {
    "duration": 21,
    "start_time": "2025-01-31T16:03:59.425Z"
   },
   {
    "duration": 12,
    "start_time": "2025-01-31T16:04:02.582Z"
   },
   {
    "duration": 15,
    "start_time": "2025-01-31T16:04:06.795Z"
   },
   {
    "duration": 20,
    "start_time": "2025-01-31T16:04:09.478Z"
   },
   {
    "duration": 10,
    "start_time": "2025-01-31T16:04:11.438Z"
   },
   {
    "duration": 21,
    "start_time": "2025-01-31T16:04:12.160Z"
   },
   {
    "duration": 15,
    "start_time": "2025-01-31T16:04:17.546Z"
   },
   {
    "duration": 14,
    "start_time": "2025-01-31T16:04:24.027Z"
   },
   {
    "duration": 21,
    "start_time": "2025-01-31T16:20:20.391Z"
   },
   {
    "duration": 15,
    "start_time": "2025-01-31T16:20:34.405Z"
   },
   {
    "duration": 15,
    "start_time": "2025-01-31T16:20:41.295Z"
   },
   {
    "duration": 13,
    "start_time": "2025-01-31T16:21:05.229Z"
   },
   {
    "duration": 15,
    "start_time": "2025-01-31T16:21:09.229Z"
   },
   {
    "duration": 16,
    "start_time": "2025-01-31T16:21:14.745Z"
   },
   {
    "duration": 521,
    "start_time": "2025-01-31T16:22:57.627Z"
   },
   {
    "duration": 17,
    "start_time": "2025-01-31T16:23:19.494Z"
   },
   {
    "duration": 14,
    "start_time": "2025-01-31T16:23:32.535Z"
   },
   {
    "duration": 16,
    "start_time": "2025-01-31T16:23:39.798Z"
   },
   {
    "duration": 32,
    "start_time": "2025-01-31T16:23:56.682Z"
   },
   {
    "duration": 35,
    "start_time": "2025-01-31T16:24:01.866Z"
   },
   {
    "duration": 16,
    "start_time": "2025-01-31T16:24:06.099Z"
   },
   {
    "duration": 16,
    "start_time": "2025-01-31T16:27:02.590Z"
   },
   {
    "duration": 15,
    "start_time": "2025-01-31T16:27:11.229Z"
   },
   {
    "duration": 20,
    "start_time": "2025-01-31T16:27:14.834Z"
   },
   {
    "duration": 8,
    "start_time": "2025-01-31T16:34:55.852Z"
   },
   {
    "duration": 242,
    "start_time": "2025-01-31T16:35:16.791Z"
   },
   {
    "duration": 18,
    "start_time": "2025-01-31T16:37:19.720Z"
   },
   {
    "duration": 184,
    "start_time": "2025-01-31T16:37:22.370Z"
   },
   {
    "duration": 15,
    "start_time": "2025-01-31T16:38:05.814Z"
   },
   {
    "duration": 16,
    "start_time": "2025-01-31T16:38:09.791Z"
   },
   {
    "duration": 92,
    "start_time": "2025-01-31T16:38:14.552Z"
   },
   {
    "duration": 79,
    "start_time": "2025-01-31T16:43:36.935Z"
   },
   {
    "duration": 78,
    "start_time": "2025-01-31T16:45:16.755Z"
   },
   {
    "duration": 3,
    "start_time": "2025-01-31T16:49:32.682Z"
   },
   {
    "duration": 15,
    "start_time": "2025-01-31T16:50:02.708Z"
   },
   {
    "duration": 10,
    "start_time": "2025-01-31T16:50:06.018Z"
   },
   {
    "duration": 14,
    "start_time": "2025-01-31T16:50:08.739Z"
   },
   {
    "duration": 14,
    "start_time": "2025-01-31T16:50:11.946Z"
   },
   {
    "duration": 16,
    "start_time": "2025-01-31T16:50:15.206Z"
   },
   {
    "duration": 4,
    "start_time": "2025-01-31T16:50:19.228Z"
   },
   {
    "duration": 27,
    "start_time": "2025-01-31T16:50:22.554Z"
   },
   {
    "duration": 27,
    "start_time": "2025-01-31T16:50:26.943Z"
   },
   {
    "duration": 33,
    "start_time": "2025-01-31T16:50:38.167Z"
   },
   {
    "duration": 4,
    "start_time": "2025-01-31T16:50:59.458Z"
   },
   {
    "duration": 4,
    "start_time": "2025-01-31T16:51:05.912Z"
   },
   {
    "duration": 32,
    "start_time": "2025-01-31T16:51:16.045Z"
   },
   {
    "duration": 32,
    "start_time": "2025-01-31T16:56:45.592Z"
   },
   {
    "duration": 16,
    "start_time": "2025-01-31T16:56:59.024Z"
   },
   {
    "duration": 14,
    "start_time": "2025-01-31T16:57:06.159Z"
   },
   {
    "duration": 14,
    "start_time": "2025-01-31T16:57:07.035Z"
   },
   {
    "duration": 11,
    "start_time": "2025-01-31T16:57:07.659Z"
   },
   {
    "duration": 14,
    "start_time": "2025-01-31T16:57:09.936Z"
   },
   {
    "duration": 16,
    "start_time": "2025-01-31T16:57:14.373Z"
   },
   {
    "duration": 18,
    "start_time": "2025-01-31T16:57:18.438Z"
   },
   {
    "duration": 33,
    "start_time": "2025-01-31T16:57:25.836Z"
   },
   {
    "duration": 4,
    "start_time": "2025-01-31T16:58:33.646Z"
   },
   {
    "duration": 35,
    "start_time": "2025-01-31T16:58:41.236Z"
   },
   {
    "duration": 4,
    "start_time": "2025-01-31T16:59:07.502Z"
   },
   {
    "duration": 35,
    "start_time": "2025-01-31T16:59:21.847Z"
   },
   {
    "duration": 4,
    "start_time": "2025-01-31T17:00:26.834Z"
   },
   {
    "duration": 49,
    "start_time": "2025-01-31T17:00:30.580Z"
   },
   {
    "duration": 14,
    "start_time": "2025-01-31T17:01:04.545Z"
   },
   {
    "duration": 17,
    "start_time": "2025-01-31T17:01:07.149Z"
   },
   {
    "duration": 4,
    "start_time": "2025-01-31T17:01:11.737Z"
   },
   {
    "duration": 42,
    "start_time": "2025-01-31T17:01:20.665Z"
   },
   {
    "duration": 4,
    "start_time": "2025-01-31T17:01:25.149Z"
   },
   {
    "duration": 4,
    "start_time": "2025-01-31T17:01:37.477Z"
   },
   {
    "duration": 4,
    "start_time": "2025-01-31T17:12:05.914Z"
   },
   {
    "duration": 4,
    "start_time": "2025-01-31T17:12:15.488Z"
   },
   {
    "duration": 4,
    "start_time": "2025-01-31T17:12:28.753Z"
   },
   {
    "duration": 34,
    "start_time": "2025-01-31T17:12:34.141Z"
   },
   {
    "duration": 4,
    "start_time": "2025-01-31T17:12:58.324Z"
   },
   {
    "duration": 35,
    "start_time": "2025-01-31T17:13:00.500Z"
   },
   {
    "duration": 4,
    "start_time": "2025-01-31T17:13:08.759Z"
   },
   {
    "duration": 29,
    "start_time": "2025-01-31T17:13:10.521Z"
   },
   {
    "duration": 26,
    "start_time": "2025-01-31T17:13:24.079Z"
   },
   {
    "duration": 16,
    "start_time": "2025-01-31T17:13:48.775Z"
   },
   {
    "duration": 15,
    "start_time": "2025-01-31T17:13:53.972Z"
   },
   {
    "duration": 12,
    "start_time": "2025-01-31T17:13:57.363Z"
   },
   {
    "duration": 6,
    "start_time": "2025-01-31T17:17:33.361Z"
   },
   {
    "duration": 6,
    "start_time": "2025-01-31T17:17:48.670Z"
   },
   {
    "duration": 13,
    "start_time": "2025-01-31T17:18:31.853Z"
   },
   {
    "duration": 14,
    "start_time": "2025-01-31T17:18:36.022Z"
   },
   {
    "duration": 10,
    "start_time": "2025-01-31T17:18:42.387Z"
   },
   {
    "duration": 12,
    "start_time": "2025-01-31T17:18:45.672Z"
   },
   {
    "duration": 13,
    "start_time": "2025-01-31T17:18:50.843Z"
   },
   {
    "duration": 12,
    "start_time": "2025-01-31T17:18:54.533Z"
   },
   {
    "duration": 4,
    "start_time": "2025-01-31T17:18:59.077Z"
   },
   {
    "duration": 28,
    "start_time": "2025-01-31T17:19:03.507Z"
   },
   {
    "duration": 13,
    "start_time": "2025-01-31T17:21:05.558Z"
   },
   {
    "duration": 12,
    "start_time": "2025-01-31T17:21:11.765Z"
   },
   {
    "duration": 12,
    "start_time": "2025-01-31T17:21:17.334Z"
   },
   {
    "duration": 3,
    "start_time": "2025-01-31T17:21:25.166Z"
   },
   {
    "duration": 4,
    "start_time": "2025-01-31T17:21:28.388Z"
   },
   {
    "duration": 26,
    "start_time": "2025-01-31T17:21:35.372Z"
   },
   {
    "duration": 6,
    "start_time": "2025-01-31T17:27:17.022Z"
   },
   {
    "duration": 7,
    "start_time": "2025-01-31T17:27:34.000Z"
   },
   {
    "duration": 194,
    "start_time": "2025-01-31T17:32:47.093Z"
   },
   {
    "duration": 187,
    "start_time": "2025-01-31T17:34:03.049Z"
   },
   {
    "duration": 688,
    "start_time": "2025-01-31T17:36:26.837Z"
   },
   {
    "duration": 181,
    "start_time": "2025-01-31T17:37:05.230Z"
   },
   {
    "duration": 178,
    "start_time": "2025-01-31T17:37:27.573Z"
   },
   {
    "duration": 3,
    "start_time": "2025-01-31T17:39:35.217Z"
   },
   {
    "duration": 100,
    "start_time": "2025-01-31T17:39:37.721Z"
   },
   {
    "duration": 67,
    "start_time": "2025-01-31T17:39:41.042Z"
   },
   {
    "duration": 47,
    "start_time": "2025-01-31T17:39:44.415Z"
   },
   {
    "duration": 15,
    "start_time": "2025-01-31T17:39:47.420Z"
   },
   {
    "duration": 19,
    "start_time": "2025-01-31T17:39:51.133Z"
   },
   {
    "duration": 28,
    "start_time": "2025-01-31T17:39:57.841Z"
   },
   {
    "duration": 8,
    "start_time": "2025-01-31T17:40:04.094Z"
   },
   {
    "duration": 6,
    "start_time": "2025-01-31T17:40:06.639Z"
   },
   {
    "duration": 21,
    "start_time": "2025-01-31T17:40:11.223Z"
   },
   {
    "duration": 15,
    "start_time": "2025-01-31T17:40:15.770Z"
   },
   {
    "duration": 4,
    "start_time": "2025-01-31T17:40:20.413Z"
   },
   {
    "duration": 15,
    "start_time": "2025-01-31T17:40:24.081Z"
   },
   {
    "duration": 6,
    "start_time": "2025-01-31T17:40:28.039Z"
   },
   {
    "duration": 25,
    "start_time": "2025-01-31T17:40:31.932Z"
   },
   {
    "duration": 9,
    "start_time": "2025-01-31T17:40:35.204Z"
   },
   {
    "duration": 5,
    "start_time": "2025-01-31T17:40:37.728Z"
   },
   {
    "duration": 18,
    "start_time": "2025-01-31T17:40:43.020Z"
   },
   {
    "duration": 7,
    "start_time": "2025-01-31T17:40:47.320Z"
   },
   {
    "duration": 24,
    "start_time": "2025-01-31T17:40:52.933Z"
   },
   {
    "duration": 8,
    "start_time": "2025-01-31T17:40:55.646Z"
   },
   {
    "duration": 12,
    "start_time": "2025-01-31T17:40:59.970Z"
   },
   {
    "duration": 14,
    "start_time": "2025-01-31T17:41:01.951Z"
   },
   {
    "duration": 9,
    "start_time": "2025-01-31T17:41:04.088Z"
   },
   {
    "duration": 11,
    "start_time": "2025-01-31T17:41:05.919Z"
   },
   {
    "duration": 13,
    "start_time": "2025-01-31T17:41:09.228Z"
   },
   {
    "duration": 12,
    "start_time": "2025-01-31T17:41:12.175Z"
   },
   {
    "duration": 4,
    "start_time": "2025-01-31T17:41:16.678Z"
   },
   {
    "duration": 4,
    "start_time": "2025-01-31T17:41:20.025Z"
   },
   {
    "duration": 8,
    "start_time": "2025-01-31T17:41:25.378Z"
   },
   {
    "duration": 179,
    "start_time": "2025-01-31T17:41:55.402Z"
   },
   {
    "duration": 6,
    "start_time": "2025-01-31T17:42:34.184Z"
   },
   {
    "duration": 200,
    "start_time": "2025-01-31T17:42:43.261Z"
   },
   {
    "duration": 219,
    "start_time": "2025-01-31T17:43:16.211Z"
   },
   {
    "duration": 4,
    "start_time": "2025-01-31T17:45:46.118Z"
   },
   {
    "duration": 220,
    "start_time": "2025-01-31T17:45:53.479Z"
   },
   {
    "duration": 182,
    "start_time": "2025-01-31T17:46:07.315Z"
   },
   {
    "duration": 7,
    "start_time": "2025-01-31T17:52:57.062Z"
   },
   {
    "duration": 310,
    "start_time": "2025-01-31T17:53:04.984Z"
   },
   {
    "duration": 9,
    "start_time": "2025-01-31T17:57:20.614Z"
   },
   {
    "duration": 58,
    "start_time": "2025-01-31T17:57:24.464Z"
   },
   {
    "duration": 13,
    "start_time": "2025-01-31T17:58:05.934Z"
   },
   {
    "duration": 3,
    "start_time": "2025-01-31T17:59:34.193Z"
   },
   {
    "duration": 50,
    "start_time": "2025-01-31T17:59:51.390Z"
   },
   {
    "duration": 5,
    "start_time": "2025-01-31T18:01:45.702Z"
   },
   {
    "duration": 4,
    "start_time": "2025-01-31T18:02:21.332Z"
   },
   {
    "duration": 6,
    "start_time": "2025-01-31T18:02:43.446Z"
   },
   {
    "duration": 2,
    "start_time": "2025-01-31T18:02:54.656Z"
   },
   {
    "duration": 3,
    "start_time": "2025-01-31T18:03:03.241Z"
   },
   {
    "duration": 3,
    "start_time": "2025-01-31T18:04:24.878Z"
   },
   {
    "duration": 5,
    "start_time": "2025-01-31T18:04:40.178Z"
   },
   {
    "duration": 4,
    "start_time": "2025-01-31T18:05:02.751Z"
   },
   {
    "duration": 4,
    "start_time": "2025-01-31T18:05:27.465Z"
   },
   {
    "duration": 3,
    "start_time": "2025-01-31T18:05:38.427Z"
   },
   {
    "duration": 159,
    "start_time": "2025-01-31T18:07:18.315Z"
   },
   {
    "duration": 152,
    "start_time": "2025-01-31T18:07:32.612Z"
   },
   {
    "duration": 185,
    "start_time": "2025-01-31T18:07:58.280Z"
   },
   {
    "duration": 186,
    "start_time": "2025-01-31T18:08:43.177Z"
   },
   {
    "duration": 9,
    "start_time": "2025-01-31T18:09:14.898Z"
   },
   {
    "duration": 153,
    "start_time": "2025-01-31T18:09:18.850Z"
   },
   {
    "duration": 153,
    "start_time": "2025-01-31T18:09:33.309Z"
   },
   {
    "duration": 154,
    "start_time": "2025-01-31T18:09:51.445Z"
   },
   {
    "duration": 149,
    "start_time": "2025-01-31T18:09:59.623Z"
   },
   {
    "duration": 152,
    "start_time": "2025-01-31T18:10:08.978Z"
   },
   {
    "duration": 150,
    "start_time": "2025-01-31T18:12:42.766Z"
   },
   {
    "duration": 158,
    "start_time": "2025-01-31T18:16:13.647Z"
   },
   {
    "duration": 271,
    "start_time": "2025-01-31T18:17:47.480Z"
   },
   {
    "duration": 5,
    "start_time": "2025-01-31T18:17:59.537Z"
   },
   {
    "duration": 260,
    "start_time": "2025-01-31T18:18:03.473Z"
   },
   {
    "duration": 244,
    "start_time": "2025-01-31T18:20:05.301Z"
   },
   {
    "duration": 275,
    "start_time": "2025-01-31T18:20:13.649Z"
   },
   {
    "duration": 161,
    "start_time": "2025-01-31T18:21:08.450Z"
   },
   {
    "duration": 152,
    "start_time": "2025-01-31T18:21:25.684Z"
   },
   {
    "duration": 10,
    "start_time": "2025-01-31T18:21:34.049Z"
   },
   {
    "duration": 155,
    "start_time": "2025-01-31T18:21:37.687Z"
   },
   {
    "duration": 4,
    "start_time": "2025-01-31T18:21:50.028Z"
   },
   {
    "duration": 5,
    "start_time": "2025-01-31T18:21:59.205Z"
   },
   {
    "duration": 298,
    "start_time": "2025-01-31T18:22:23.337Z"
   },
   {
    "duration": 160,
    "start_time": "2025-01-31T18:22:52.769Z"
   },
   {
    "duration": 12,
    "start_time": "2025-01-31T20:59:56.339Z"
   },
   {
    "duration": 147,
    "start_time": "2025-01-31T21:00:00.150Z"
   },
   {
    "duration": 6,
    "start_time": "2025-01-31T21:10:09.471Z"
   },
   {
    "duration": 98,
    "start_time": "2025-01-31T21:11:56.517Z"
   },
   {
    "duration": 8,
    "start_time": "2025-01-31T21:12:13.545Z"
   },
   {
    "duration": 82,
    "start_time": "2025-01-31T21:12:28.066Z"
   },
   {
    "duration": 166,
    "start_time": "2025-01-31T21:17:44.758Z"
   },
   {
    "duration": 196,
    "start_time": "2025-01-31T21:18:04.403Z"
   },
   {
    "duration": 7,
    "start_time": "2025-01-31T21:18:25.971Z"
   },
   {
    "duration": 6,
    "start_time": "2025-01-31T21:22:09.084Z"
   },
   {
    "duration": 7,
    "start_time": "2025-01-31T21:22:23.720Z"
   },
   {
    "duration": 8,
    "start_time": "2025-01-31T21:22:38.332Z"
   },
   {
    "duration": 131,
    "start_time": "2025-01-31T21:24:34.613Z"
   },
   {
    "duration": 10,
    "start_time": "2025-01-31T21:30:28.884Z"
   },
   {
    "duration": 17,
    "start_time": "2025-01-31T21:30:45.424Z"
   },
   {
    "duration": 12,
    "start_time": "2025-01-31T21:31:11.331Z"
   },
   {
    "duration": 4,
    "start_time": "2025-01-31T21:31:47.443Z"
   },
   {
    "duration": 140,
    "start_time": "2025-01-31T21:32:02.087Z"
   },
   {
    "duration": 155,
    "start_time": "2025-01-31T21:34:20.908Z"
   },
   {
    "duration": 159,
    "start_time": "2025-01-31T21:37:51.324Z"
   },
   {
    "duration": 172,
    "start_time": "2025-01-31T21:38:17.892Z"
   },
   {
    "duration": 177,
    "start_time": "2025-01-31T21:38:45.042Z"
   },
   {
    "duration": 560,
    "start_time": "2025-01-31T21:41:55.716Z"
   },
   {
    "duration": 141,
    "start_time": "2025-01-31T21:42:25.354Z"
   },
   {
    "duration": 218,
    "start_time": "2025-01-31T21:43:46.309Z"
   },
   {
    "duration": 3,
    "start_time": "2025-01-31T21:48:45.993Z"
   },
   {
    "duration": 4,
    "start_time": "2025-01-31T21:49:57.827Z"
   },
   {
    "duration": 4,
    "start_time": "2025-01-31T21:53:56.168Z"
   },
   {
    "duration": 4,
    "start_time": "2025-01-31T21:54:16.863Z"
   },
   {
    "duration": 10,
    "start_time": "2025-01-31T21:57:46.956Z"
   },
   {
    "duration": 7,
    "start_time": "2025-01-31T21:58:05.665Z"
   },
   {
    "duration": 83,
    "start_time": "2025-01-31T22:00:06.453Z"
   },
   {
    "duration": 14,
    "start_time": "2025-01-31T22:08:05.317Z"
   },
   {
    "duration": 9,
    "start_time": "2025-01-31T22:08:15.749Z"
   },
   {
    "duration": 19,
    "start_time": "2025-01-31T22:09:33.694Z"
   },
   {
    "duration": 18,
    "start_time": "2025-01-31T22:09:57.116Z"
   },
   {
    "duration": 7,
    "start_time": "2025-01-31T22:10:05.177Z"
   },
   {
    "duration": 7,
    "start_time": "2025-01-31T22:10:52.700Z"
   },
   {
    "duration": 17,
    "start_time": "2025-01-31T22:11:08.845Z"
   },
   {
    "duration": 20,
    "start_time": "2025-01-31T22:12:37.743Z"
   },
   {
    "duration": 17,
    "start_time": "2025-01-31T22:12:43.672Z"
   },
   {
    "duration": 9,
    "start_time": "2025-01-31T22:13:11.524Z"
   },
   {
    "duration": 9,
    "start_time": "2025-01-31T22:13:22.507Z"
   },
   {
    "duration": 8,
    "start_time": "2025-01-31T22:13:45.038Z"
   },
   {
    "duration": 9,
    "start_time": "2025-01-31T22:14:44.945Z"
   },
   {
    "duration": 11,
    "start_time": "2025-01-31T22:20:10.296Z"
   },
   {
    "duration": 11,
    "start_time": "2025-01-31T22:23:43.521Z"
   },
   {
    "duration": 14,
    "start_time": "2025-01-31T22:24:17.549Z"
   },
   {
    "duration": 13,
    "start_time": "2025-01-31T22:24:38.155Z"
   },
   {
    "duration": 10,
    "start_time": "2025-01-31T22:25:06.498Z"
   },
   {
    "duration": 11,
    "start_time": "2025-01-31T22:25:15.034Z"
   },
   {
    "duration": 11,
    "start_time": "2025-01-31T22:25:36.583Z"
   },
   {
    "duration": 13,
    "start_time": "2025-01-31T22:26:06.011Z"
   },
   {
    "duration": 24,
    "start_time": "2025-01-31T22:27:11.814Z"
   },
   {
    "duration": 17,
    "start_time": "2025-01-31T22:36:06.779Z"
   },
   {
    "duration": 373,
    "start_time": "2025-01-31T22:38:03.208Z"
   },
   {
    "duration": 227,
    "start_time": "2025-01-31T22:38:32.455Z"
   },
   {
    "duration": 13,
    "start_time": "2025-01-31T22:39:34.880Z"
   },
   {
    "duration": 22,
    "start_time": "2025-01-31T22:41:13.546Z"
   },
   {
    "duration": 315,
    "start_time": "2025-01-31T22:42:22.404Z"
   },
   {
    "duration": 5,
    "start_time": "2025-01-31T22:42:41.931Z"
   },
   {
    "duration": 18,
    "start_time": "2025-01-31T22:42:51.028Z"
   },
   {
    "duration": 16,
    "start_time": "2025-01-31T22:43:11.366Z"
   },
   {
    "duration": 13,
    "start_time": "2025-01-31T22:43:14.194Z"
   },
   {
    "duration": 93,
    "start_time": "2025-01-31T22:56:22.290Z"
   },
   {
    "duration": 83,
    "start_time": "2025-01-31T22:57:25.935Z"
   },
   {
    "duration": 95,
    "start_time": "2025-01-31T22:58:17.728Z"
   },
   {
    "duration": 92,
    "start_time": "2025-01-31T22:58:32.105Z"
   },
   {
    "duration": 95,
    "start_time": "2025-01-31T22:59:01.354Z"
   },
   {
    "duration": 97,
    "start_time": "2025-01-31T23:01:10.394Z"
   },
   {
    "duration": 16,
    "start_time": "2025-01-31T23:31:31.203Z"
   },
   {
    "duration": 15,
    "start_time": "2025-01-31T23:32:40.120Z"
   },
   {
    "duration": 4,
    "start_time": "2025-01-31T23:33:06.317Z"
   },
   {
    "duration": 34,
    "start_time": "2025-01-31T23:33:15.158Z"
   },
   {
    "duration": 33,
    "start_time": "2025-01-31T23:33:20.096Z"
   },
   {
    "duration": 9,
    "start_time": "2025-01-31T23:33:49.930Z"
   },
   {
    "duration": 154,
    "start_time": "2025-01-31T23:33:56.258Z"
   },
   {
    "duration": 24,
    "start_time": "2025-01-31T23:34:07.451Z"
   },
   {
    "duration": 192,
    "start_time": "2025-01-31T23:34:27.002Z"
   },
   {
    "duration": 7,
    "start_time": "2025-01-31T23:34:36.730Z"
   },
   {
    "duration": 91,
    "start_time": "2025-01-31T23:34:43.564Z"
   },
   {
    "duration": 16,
    "start_time": "2025-01-31T23:37:56.883Z"
   },
   {
    "duration": 18,
    "start_time": "2025-01-31T23:38:37.257Z"
   },
   {
    "duration": 35,
    "start_time": "2025-01-31T23:38:54.897Z"
   },
   {
    "duration": 37,
    "start_time": "2025-01-31T23:39:31.958Z"
   },
   {
    "duration": 6,
    "start_time": "2025-01-31T23:40:10.982Z"
   },
   {
    "duration": 4,
    "start_time": "2025-01-31T23:41:05.001Z"
   },
   {
    "duration": 7,
    "start_time": "2025-01-31T23:42:27.382Z"
   },
   {
    "duration": 65,
    "start_time": "2025-01-31T23:44:08.423Z"
   },
   {
    "duration": 16,
    "start_time": "2025-01-31T23:44:46.408Z"
   },
   {
    "duration": 72,
    "start_time": "2025-01-31T23:45:28.470Z"
   },
   {
    "duration": 68,
    "start_time": "2025-01-31T23:45:48.245Z"
   },
   {
    "duration": 70,
    "start_time": "2025-01-31T23:46:12.494Z"
   },
   {
    "duration": 16,
    "start_time": "2025-01-31T23:46:30.847Z"
   },
   {
    "duration": 4,
    "start_time": "2025-01-31T23:46:34.257Z"
   },
   {
    "duration": 4,
    "start_time": "2025-01-31T23:46:38.000Z"
   },
   {
    "duration": 36,
    "start_time": "2025-01-31T23:46:46.652Z"
   },
   {
    "duration": 36,
    "start_time": "2025-01-31T23:48:43.938Z"
   },
   {
    "duration": 36,
    "start_time": "2025-01-31T23:50:10.668Z"
   },
   {
    "duration": 19,
    "start_time": "2025-01-31T23:50:49.863Z"
   },
   {
    "duration": 71,
    "start_time": "2025-01-31T23:51:02.242Z"
   },
   {
    "duration": 16,
    "start_time": "2025-01-31T23:51:22.031Z"
   },
   {
    "duration": 16,
    "start_time": "2025-01-31T23:51:27.827Z"
   },
   {
    "duration": 3,
    "start_time": "2025-01-31T23:51:30.398Z"
   },
   {
    "duration": 4,
    "start_time": "2025-01-31T23:51:33.734Z"
   },
   {
    "duration": 34,
    "start_time": "2025-01-31T23:51:36.420Z"
   },
   {
    "duration": 8,
    "start_time": "2025-01-31T23:55:34.971Z"
   },
   {
    "duration": 10,
    "start_time": "2025-01-31T23:57:15.919Z"
   },
   {
    "duration": 17,
    "start_time": "2025-01-31T23:58:04.336Z"
   },
   {
    "duration": 16,
    "start_time": "2025-01-31T23:58:07.110Z"
   },
   {
    "duration": 4,
    "start_time": "2025-01-31T23:58:13.083Z"
   },
   {
    "duration": 8,
    "start_time": "2025-01-31T23:58:17.950Z"
   },
   {
    "duration": 17,
    "start_time": "2025-01-31T23:59:10.170Z"
   },
   {
    "duration": 6,
    "start_time": "2025-01-31T23:59:27.178Z"
   },
   {
    "duration": 68,
    "start_time": "2025-01-31T23:59:31.342Z"
   },
   {
    "duration": 19,
    "start_time": "2025-02-01T00:00:15.518Z"
   },
   {
    "duration": 4,
    "start_time": "2025-02-01T00:00:32.907Z"
   },
   {
    "duration": 41,
    "start_time": "2025-02-01T00:00:37.711Z"
   },
   {
    "duration": 10,
    "start_time": "2025-02-01T00:00:50.029Z"
   },
   {
    "duration": 144,
    "start_time": "2025-02-01T00:00:53.279Z"
   },
   {
    "duration": 194,
    "start_time": "2025-02-01T00:00:57.176Z"
   },
   {
    "duration": 6,
    "start_time": "2025-02-01T00:01:01.710Z"
   },
   {
    "duration": 93,
    "start_time": "2025-02-01T00:01:06.177Z"
   },
   {
    "duration": 85,
    "start_time": "2025-02-01T00:06:14.941Z"
   },
   {
    "duration": 97,
    "start_time": "2025-02-01T00:07:43.147Z"
   },
   {
    "duration": 114,
    "start_time": "2025-02-01T00:12:09.761Z"
   },
   {
    "duration": 20,
    "start_time": "2025-02-01T00:16:43.699Z"
   },
   {
    "duration": 120,
    "start_time": "2025-02-01T00:16:52.013Z"
   },
   {
    "duration": 116,
    "start_time": "2025-02-01T00:17:39.257Z"
   },
   {
    "duration": 110,
    "start_time": "2025-02-01T00:19:15.424Z"
   },
   {
    "duration": 111,
    "start_time": "2025-02-01T00:19:48.695Z"
   },
   {
    "duration": 98,
    "start_time": "2025-02-01T00:20:10.875Z"
   },
   {
    "duration": 7,
    "start_time": "2025-02-01T00:27:08.056Z"
   },
   {
    "duration": 214,
    "start_time": "2025-02-01T00:29:15.440Z"
   },
   {
    "duration": 6,
    "start_time": "2025-02-01T00:29:24.451Z"
   },
   {
    "duration": 7,
    "start_time": "2025-02-01T00:29:39.257Z"
   },
   {
    "duration": 11,
    "start_time": "2025-02-01T00:30:06.329Z"
   },
   {
    "duration": 7,
    "start_time": "2025-02-01T00:30:21.873Z"
   },
   {
    "duration": 7,
    "start_time": "2025-02-01T00:30:33.494Z"
   },
   {
    "duration": 6,
    "start_time": "2025-02-01T00:38:27.441Z"
   },
   {
    "duration": 26,
    "start_time": "2025-02-01T00:39:34.818Z"
   },
   {
    "duration": 182,
    "start_time": "2025-02-01T00:39:39.194Z"
   },
   {
    "duration": 173,
    "start_time": "2025-02-01T00:44:04.132Z"
   },
   {
    "duration": 181,
    "start_time": "2025-02-01T00:44:22.836Z"
   },
   {
    "duration": 94,
    "start_time": "2025-02-01T00:47:47.048Z"
   },
   {
    "duration": 95,
    "start_time": "2025-02-01T00:48:55.127Z"
   },
   {
    "duration": 2438,
    "start_time": "2025-02-01T15:47:22.155Z"
   },
   {
    "duration": 107,
    "start_time": "2025-02-01T15:47:24.890Z"
   },
   {
    "duration": 85,
    "start_time": "2025-02-01T15:47:29.048Z"
   },
   {
    "duration": 67,
    "start_time": "2025-02-01T15:47:31.671Z"
   },
   {
    "duration": 18,
    "start_time": "2025-02-01T15:47:34.496Z"
   },
   {
    "duration": 22,
    "start_time": "2025-02-01T15:47:42.360Z"
   },
   {
    "duration": 17,
    "start_time": "2025-02-01T15:47:53.979Z"
   },
   {
    "duration": 22,
    "start_time": "2025-02-01T15:48:05.475Z"
   },
   {
    "duration": 14,
    "start_time": "2025-02-01T15:48:08.262Z"
   },
   {
    "duration": 32,
    "start_time": "2025-02-01T15:48:21.947Z"
   },
   {
    "duration": 9,
    "start_time": "2025-02-01T15:48:24.701Z"
   },
   {
    "duration": 6,
    "start_time": "2025-02-01T15:48:29.875Z"
   },
   {
    "duration": 17,
    "start_time": "2025-02-01T15:48:34.484Z"
   },
   {
    "duration": 7,
    "start_time": "2025-02-01T15:48:38.298Z"
   },
   {
    "duration": 20,
    "start_time": "2025-02-01T15:48:43.456Z"
   },
   {
    "duration": 8,
    "start_time": "2025-02-01T15:48:48.712Z"
   },
   {
    "duration": 14,
    "start_time": "2025-02-01T15:48:52.778Z"
   },
   {
    "duration": 14,
    "start_time": "2025-02-01T15:48:54.256Z"
   },
   {
    "duration": 10,
    "start_time": "2025-02-01T15:48:57.523Z"
   },
   {
    "duration": 18,
    "start_time": "2025-02-01T15:48:59.940Z"
   },
   {
    "duration": 18,
    "start_time": "2025-02-01T15:49:04.119Z"
   },
   {
    "duration": 18,
    "start_time": "2025-02-01T15:49:10.581Z"
   },
   {
    "duration": 3,
    "start_time": "2025-02-01T15:49:13.739Z"
   },
   {
    "duration": 4,
    "start_time": "2025-02-01T15:49:17.182Z"
   },
   {
    "duration": 35,
    "start_time": "2025-02-01T15:49:19.665Z"
   },
   {
    "duration": 10,
    "start_time": "2025-02-01T15:49:24.890Z"
   },
   {
    "duration": 155,
    "start_time": "2025-02-01T15:49:29.404Z"
   },
   {
    "duration": 146,
    "start_time": "2025-02-01T15:50:45.287Z"
   },
   {
    "duration": 229,
    "start_time": "2025-02-01T15:51:31.159Z"
   },
   {
    "duration": 25,
    "start_time": "2025-02-01T15:51:38.299Z"
   },
   {
    "duration": 657,
    "start_time": "2025-02-01T15:51:41.907Z"
   },
   {
    "duration": 184,
    "start_time": "2025-02-01T15:52:04.277Z"
   },
   {
    "duration": 6,
    "start_time": "2025-02-01T15:52:08.895Z"
   },
   {
    "duration": 101,
    "start_time": "2025-02-01T15:52:14.343Z"
   },
   {
    "duration": 8,
    "start_time": "2025-02-01T15:52:20.755Z"
   },
   {
    "duration": 6,
    "start_time": "2025-02-01T15:52:23.552Z"
   },
   {
    "duration": 172,
    "start_time": "2025-02-01T15:52:24.519Z"
   },
   {
    "duration": 98,
    "start_time": "2025-02-01T15:52:30.281Z"
   },
   {
    "duration": 101,
    "start_time": "2025-02-01T15:52:45.869Z"
   },
   {
    "duration": 9,
    "start_time": "2025-02-01T15:53:48.601Z"
   },
   {
    "duration": 116,
    "start_time": "2025-02-01T15:55:02.367Z"
   },
   {
    "duration": 9,
    "start_time": "2025-02-01T15:55:46.334Z"
   },
   {
    "duration": 22,
    "start_time": "2025-02-01T15:58:20.861Z"
   },
   {
    "duration": 9,
    "start_time": "2025-02-01T15:58:43.295Z"
   },
   {
    "duration": 10,
    "start_time": "2025-02-01T16:00:44.091Z"
   },
   {
    "duration": 15,
    "start_time": "2025-02-01T16:09:15.075Z"
   },
   {
    "duration": 13,
    "start_time": "2025-02-01T16:10:14.632Z"
   },
   {
    "duration": 8,
    "start_time": "2025-02-01T16:10:39.302Z"
   },
   {
    "duration": 176,
    "start_time": "2025-02-01T16:12:14.142Z"
   },
   {
    "duration": 271,
    "start_time": "2025-02-01T16:12:23.825Z"
   },
   {
    "duration": 102,
    "start_time": "2025-02-01T16:17:18.073Z"
   },
   {
    "duration": 9,
    "start_time": "2025-02-01T16:17:48.278Z"
   },
   {
    "duration": 7,
    "start_time": "2025-02-01T16:19:40.161Z"
   },
   {
    "duration": 95,
    "start_time": "2025-02-01T16:20:05.793Z"
   },
   {
    "duration": 7,
    "start_time": "2025-02-01T16:21:08.556Z"
   },
   {
    "duration": 10,
    "start_time": "2025-02-01T16:21:17.350Z"
   },
   {
    "duration": 7,
    "start_time": "2025-02-01T16:21:21.711Z"
   },
   {
    "duration": 178,
    "start_time": "2025-02-01T16:22:43.254Z"
   },
   {
    "duration": 92,
    "start_time": "2025-02-01T16:24:29.356Z"
   },
   {
    "duration": 8,
    "start_time": "2025-02-01T16:26:47.931Z"
   },
   {
    "duration": 10,
    "start_time": "2025-02-01T16:28:10.291Z"
   },
   {
    "duration": 6,
    "start_time": "2025-02-01T16:30:27.596Z"
   },
   {
    "duration": 196,
    "start_time": "2025-02-01T16:31:29.951Z"
   },
   {
    "duration": 162,
    "start_time": "2025-02-01T16:31:47.343Z"
   },
   {
    "duration": 164,
    "start_time": "2025-02-01T16:32:03.681Z"
   },
   {
    "duration": 163,
    "start_time": "2025-02-01T16:32:19.090Z"
   },
   {
    "duration": 179,
    "start_time": "2025-02-01T16:32:36.453Z"
   },
   {
    "duration": 164,
    "start_time": "2025-02-01T16:32:49.427Z"
   },
   {
    "duration": 133,
    "start_time": "2025-02-01T16:33:09.846Z"
   },
   {
    "duration": 144,
    "start_time": "2025-02-01T16:33:25.182Z"
   },
   {
    "duration": 132,
    "start_time": "2025-02-01T16:33:33.606Z"
   },
   {
    "duration": 275,
    "start_time": "2025-02-01T16:33:47.200Z"
   },
   {
    "duration": 15,
    "start_time": "2025-02-01T16:34:56.966Z"
   },
   {
    "duration": 95,
    "start_time": "2025-02-01T16:35:12.382Z"
   },
   {
    "duration": 7,
    "start_time": "2025-02-01T16:45:11.883Z"
   },
   {
    "duration": 4,
    "start_time": "2025-02-01T16:45:35.156Z"
   },
   {
    "duration": 16,
    "start_time": "2025-02-01T16:45:59.577Z"
   },
   {
    "duration": 4,
    "start_time": "2025-02-01T16:46:21.106Z"
   },
   {
    "duration": 12,
    "start_time": "2025-02-01T16:54:51.197Z"
   },
   {
    "duration": 9,
    "start_time": "2025-02-01T16:55:08.556Z"
   },
   {
    "duration": 11,
    "start_time": "2025-02-01T16:59:20.423Z"
   },
   {
    "duration": 11,
    "start_time": "2025-02-01T17:00:14.149Z"
   },
   {
    "duration": 23,
    "start_time": "2025-02-01T17:00:42.858Z"
   },
   {
    "duration": 11,
    "start_time": "2025-02-01T17:00:50.702Z"
   },
   {
    "duration": 16,
    "start_time": "2025-02-01T17:11:51.672Z"
   },
   {
    "duration": 16,
    "start_time": "2025-02-01T17:12:09.235Z"
   },
   {
    "duration": 15,
    "start_time": "2025-02-01T17:12:38.079Z"
   },
   {
    "duration": 16,
    "start_time": "2025-02-01T17:13:07.599Z"
   },
   {
    "duration": 16,
    "start_time": "2025-02-01T17:13:46.384Z"
   },
   {
    "duration": 13,
    "start_time": "2025-02-01T17:14:43.586Z"
   },
   {
    "duration": 3,
    "start_time": "2025-02-01T17:27:56.974Z"
   },
   {
    "duration": 14,
    "start_time": "2025-02-01T17:28:03.813Z"
   },
   {
    "duration": 2,
    "start_time": "2025-02-01T17:32:19.240Z"
   },
   {
    "duration": 50,
    "start_time": "2025-02-01T17:37:14.624Z"
   },
   {
    "duration": 16,
    "start_time": "2025-02-01T17:37:55.108Z"
   },
   {
    "duration": 18,
    "start_time": "2025-02-01T17:40:38.214Z"
   },
   {
    "duration": 15,
    "start_time": "2025-02-01T17:46:22.442Z"
   },
   {
    "duration": 5,
    "start_time": "2025-02-01T17:46:31.302Z"
   },
   {
    "duration": 4,
    "start_time": "2025-02-01T17:50:39.635Z"
   },
   {
    "duration": 5,
    "start_time": "2025-02-01T17:50:57.606Z"
   },
   {
    "duration": 4,
    "start_time": "2025-02-01T17:51:02.170Z"
   },
   {
    "duration": 6,
    "start_time": "2025-02-01T17:51:38.632Z"
   },
   {
    "duration": 4,
    "start_time": "2025-02-01T17:51:55.643Z"
   },
   {
    "duration": 9,
    "start_time": "2025-02-01T17:55:50.970Z"
   },
   {
    "duration": 9,
    "start_time": "2025-02-01T17:56:41.527Z"
   },
   {
    "duration": 9,
    "start_time": "2025-02-01T17:58:30.390Z"
   },
   {
    "duration": 5,
    "start_time": "2025-02-01T17:59:13.241Z"
   },
   {
    "duration": 742,
    "start_time": "2025-02-01T18:00:08.304Z"
   },
   {
    "duration": 88,
    "start_time": "2025-02-01T18:00:11.112Z"
   },
   {
    "duration": 70,
    "start_time": "2025-02-01T18:00:15.683Z"
   },
   {
    "duration": 48,
    "start_time": "2025-02-01T18:00:19.711Z"
   },
   {
    "duration": 15,
    "start_time": "2025-02-01T18:00:23.106Z"
   },
   {
    "duration": 18,
    "start_time": "2025-02-01T18:00:28.627Z"
   },
   {
    "duration": 4,
    "start_time": "2025-02-01T18:00:32.855Z"
   },
   {
    "duration": 15,
    "start_time": "2025-02-01T18:00:35.752Z"
   },
   {
    "duration": 29,
    "start_time": "2025-02-01T18:00:39.472Z"
   },
   {
    "duration": 40,
    "start_time": "2025-02-01T18:00:41.988Z"
   },
   {
    "duration": 5,
    "start_time": "2025-02-01T18:00:45.893Z"
   },
   {
    "duration": 13,
    "start_time": "2025-02-01T18:00:50.130Z"
   },
   {
    "duration": 11,
    "start_time": "2025-02-01T18:00:53.230Z"
   },
   {
    "duration": 10,
    "start_time": "2025-02-01T18:00:56.140Z"
   },
   {
    "duration": 5,
    "start_time": "2025-02-01T18:02:18.847Z"
   },
   {
    "duration": 5,
    "start_time": "2025-02-01T18:14:04.291Z"
   },
   {
    "duration": 5,
    "start_time": "2025-02-01T18:16:38.656Z"
   },
   {
    "duration": 2570,
    "start_time": "2025-02-01T19:37:53.730Z"
   },
   {
    "duration": 108,
    "start_time": "2025-02-01T19:37:56.718Z"
   },
   {
    "duration": 93,
    "start_time": "2025-02-01T19:37:59.902Z"
   },
   {
    "duration": 58,
    "start_time": "2025-02-01T19:38:02.860Z"
   },
   {
    "duration": 18,
    "start_time": "2025-02-01T19:38:06.603Z"
   },
   {
    "duration": 19,
    "start_time": "2025-02-01T19:38:10.781Z"
   },
   {
    "duration": 5,
    "start_time": "2025-02-01T19:38:14.028Z"
   },
   {
    "duration": 16,
    "start_time": "2025-02-01T19:38:17.113Z"
   },
   {
    "duration": 29,
    "start_time": "2025-02-01T19:38:19.619Z"
   },
   {
    "duration": 35,
    "start_time": "2025-02-01T19:38:22.536Z"
   },
   {
    "duration": 5,
    "start_time": "2025-02-01T19:38:26.606Z"
   },
   {
    "duration": 11,
    "start_time": "2025-02-01T19:38:35.425Z"
   },
   {
    "duration": 11,
    "start_time": "2025-02-01T19:38:38.777Z"
   },
   {
    "duration": 10,
    "start_time": "2025-02-01T19:38:42.779Z"
   },
   {
    "duration": 24,
    "start_time": "2025-02-01T19:38:54.402Z"
   },
   {
    "duration": 4,
    "start_time": "2025-02-01T19:38:57.057Z"
   },
   {
    "duration": 9,
    "start_time": "2025-02-01T19:39:58.047Z"
   },
   {
    "duration": 6,
    "start_time": "2025-02-01T19:40:02.234Z"
   },
   {
    "duration": 11,
    "start_time": "2025-02-01T19:48:30.726Z"
   },
   {
    "duration": 9,
    "start_time": "2025-02-01T19:50:41.922Z"
   },
   {
    "duration": 4,
    "start_time": "2025-02-01T19:54:57.869Z"
   },
   {
    "duration": 8,
    "start_time": "2025-02-01T19:55:15.565Z"
   },
   {
    "duration": 363,
    "start_time": "2025-02-01T19:55:26.832Z"
   },
   {
    "duration": 17,
    "start_time": "2025-02-01T19:56:09.329Z"
   },
   {
    "duration": 10,
    "start_time": "2025-02-01T19:56:21.373Z"
   },
   {
    "duration": 9,
    "start_time": "2025-02-01T19:56:33.631Z"
   },
   {
    "duration": 14,
    "start_time": "2025-02-01T19:57:34.807Z"
   },
   {
    "duration": 10,
    "start_time": "2025-02-01T19:58:21.032Z"
   },
   {
    "duration": 19,
    "start_time": "2025-02-01T19:58:31.087Z"
   },
   {
    "duration": 10,
    "start_time": "2025-02-01T19:58:40.807Z"
   },
   {
    "duration": 11,
    "start_time": "2025-02-01T19:58:47.375Z"
   },
   {
    "duration": 10,
    "start_time": "2025-02-01T19:58:59.470Z"
   },
   {
    "duration": 11,
    "start_time": "2025-02-01T20:00:42.358Z"
   },
   {
    "duration": 4,
    "start_time": "2025-02-01T20:05:36.711Z"
   },
   {
    "duration": 4,
    "start_time": "2025-02-01T20:05:48.994Z"
   },
   {
    "duration": 4,
    "start_time": "2025-02-01T20:10:19.783Z"
   },
   {
    "duration": 285,
    "start_time": "2025-02-01T20:17:58.693Z"
   },
   {
    "duration": 26,
    "start_time": "2025-02-01T20:18:29.968Z"
   },
   {
    "duration": 26,
    "start_time": "2025-02-01T20:18:48.801Z"
   },
   {
    "duration": 12,
    "start_time": "2025-02-01T20:18:52.189Z"
   },
   {
    "duration": 8,
    "start_time": "2025-02-01T20:19:03.487Z"
   },
   {
    "duration": 12,
    "start_time": "2025-02-01T20:22:18.501Z"
   },
   {
    "duration": 4,
    "start_time": "2025-02-01T20:22:20.730Z"
   },
   {
    "duration": 2492,
    "start_time": "2025-02-01T21:14:37.251Z"
   },
   {
    "duration": 109,
    "start_time": "2025-02-01T21:14:40.350Z"
   },
   {
    "duration": 90,
    "start_time": "2025-02-01T21:14:43.911Z"
   },
   {
    "duration": 72,
    "start_time": "2025-02-01T21:14:48.309Z"
   },
   {
    "duration": 17,
    "start_time": "2025-02-01T21:14:51.230Z"
   },
   {
    "duration": 26,
    "start_time": "2025-02-01T21:14:56.424Z"
   },
   {
    "duration": 12,
    "start_time": "2025-02-01T21:15:28.122Z"
   },
   {
    "duration": 9,
    "start_time": "2025-02-01T21:15:31.028Z"
   },
   {
    "duration": 12,
    "start_time": "2025-02-01T21:15:34.583Z"
   },
   {
    "duration": 4,
    "start_time": "2025-02-01T21:15:38.304Z"
   },
   {
    "duration": 26,
    "start_time": "2025-02-01T21:15:43.154Z"
   },
   {
    "duration": 8,
    "start_time": "2025-02-01T21:15:52.680Z"
   },
   {
    "duration": 6,
    "start_time": "2025-02-01T21:15:53.357Z"
   },
   {
    "duration": 12,
    "start_time": "2025-02-01T21:16:03.223Z"
   },
   {
    "duration": 4,
    "start_time": "2025-02-01T21:16:04.132Z"
   },
   {
    "duration": 606,
    "start_time": "2025-02-01T21:19:37.395Z"
   },
   {
    "duration": 18,
    "start_time": "2025-02-01T21:20:07.790Z"
   },
   {
    "duration": 6,
    "start_time": "2025-02-01T21:22:30.124Z"
   },
   {
    "duration": 14,
    "start_time": "2025-02-01T21:22:48.717Z"
   },
   {
    "duration": 9,
    "start_time": "2025-02-01T21:22:50.002Z"
   },
   {
    "duration": 4,
    "start_time": "2025-02-01T21:22:58.959Z"
   },
   {
    "duration": 350,
    "start_time": "2025-02-01T21:26:45.851Z"
   },
   {
    "duration": 31,
    "start_time": "2025-02-01T21:26:56.264Z"
   },
   {
    "duration": 8,
    "start_time": "2025-02-01T21:26:59.507Z"
   },
   {
    "duration": 7,
    "start_time": "2025-02-01T21:27:06.694Z"
   },
   {
    "duration": 14,
    "start_time": "2025-02-01T21:30:23.242Z"
   },
   {
    "duration": 19,
    "start_time": "2025-02-01T21:30:36.969Z"
   },
   {
    "duration": 15,
    "start_time": "2025-02-01T21:49:32.151Z"
   },
   {
    "duration": 16,
    "start_time": "2025-02-01T21:50:02.626Z"
   },
   {
    "duration": 10,
    "start_time": "2025-02-01T21:50:06.992Z"
   },
   {
    "duration": 19,
    "start_time": "2025-02-01T21:50:10.025Z"
   },
   {
    "duration": 23,
    "start_time": "2025-02-01T21:50:13.350Z"
   },
   {
    "duration": 19,
    "start_time": "2025-02-01T21:50:55.834Z"
   },
   {
    "duration": 17,
    "start_time": "2025-02-01T21:57:02.402Z"
   },
   {
    "duration": 15,
    "start_time": "2025-02-01T22:09:55.086Z"
   },
   {
    "duration": 3,
    "start_time": "2025-02-01T22:10:00.957Z"
   },
   {
    "duration": 48,
    "start_time": "2025-02-01T22:10:02.151Z"
   },
   {
    "duration": 11,
    "start_time": "2025-02-01T22:24:14.188Z"
   },
   {
    "duration": 160,
    "start_time": "2025-02-01T22:24:18.095Z"
   },
   {
    "duration": 5,
    "start_time": "2025-02-01T22:37:33.033Z"
   },
   {
    "duration": 193,
    "start_time": "2025-02-01T22:37:44.656Z"
   },
   {
    "duration": 11,
    "start_time": "2025-02-01T22:39:45.536Z"
   },
   {
    "duration": 6,
    "start_time": "2025-02-01T22:40:52.444Z"
   },
   {
    "duration": 189,
    "start_time": "2025-02-01T22:40:59.565Z"
   },
   {
    "duration": 205,
    "start_time": "2025-02-01T22:41:21.504Z"
   },
   {
    "duration": 145,
    "start_time": "2025-02-01T22:41:31.147Z"
   },
   {
    "duration": 12,
    "start_time": "2025-02-01T22:42:01.712Z"
   },
   {
    "duration": 10,
    "start_time": "2025-02-01T23:00:45.201Z"
   },
   {
    "duration": 11,
    "start_time": "2025-02-01T23:01:09.361Z"
   },
   {
    "duration": 102,
    "start_time": "2025-02-01T23:04:03.881Z"
   },
   {
    "duration": 100,
    "start_time": "2025-02-01T23:04:13.643Z"
   },
   {
    "duration": 8,
    "start_time": "2025-02-01T23:05:18.957Z"
   },
   {
    "duration": 103,
    "start_time": "2025-02-01T23:10:08.047Z"
   },
   {
    "duration": 16,
    "start_time": "2025-02-01T23:27:37.638Z"
   },
   {
    "duration": 216,
    "start_time": "2025-02-01T23:27:52.714Z"
   },
   {
    "duration": 8,
    "start_time": "2025-02-01T23:29:18.619Z"
   },
   {
    "duration": 8,
    "start_time": "2025-02-01T23:31:14.682Z"
   },
   {
    "duration": 179,
    "start_time": "2025-02-01T23:31:20.871Z"
   },
   {
    "duration": 8,
    "start_time": "2025-02-01T23:32:01.382Z"
   },
   {
    "duration": 10,
    "start_time": "2025-02-01T23:32:02.244Z"
   },
   {
    "duration": 8,
    "start_time": "2025-02-01T23:32:05.923Z"
   },
   {
    "duration": 177,
    "start_time": "2025-02-01T23:32:07.517Z"
   },
   {
    "duration": 97,
    "start_time": "2025-02-01T23:32:09.163Z"
   },
   {
    "duration": 7,
    "start_time": "2025-02-01T23:39:32.864Z"
   },
   {
    "duration": 176,
    "start_time": "2025-02-01T23:39:41.830Z"
   },
   {
    "duration": 2287,
    "start_time": "2025-02-01T23:41:40.755Z"
   },
   {
    "duration": 1735,
    "start_time": "2025-02-01T23:41:54.207Z"
   },
   {
    "duration": 7,
    "start_time": "2025-02-01T23:42:00.594Z"
   },
   {
    "duration": 10,
    "start_time": "2025-02-01T23:42:02.720Z"
   },
   {
    "duration": 7,
    "start_time": "2025-02-01T23:42:03.700Z"
   },
   {
    "duration": 201,
    "start_time": "2025-02-01T23:42:07.111Z"
   },
   {
    "duration": 94,
    "start_time": "2025-02-01T23:42:10.490Z"
   },
   {
    "duration": 106,
    "start_time": "2025-02-01T23:42:20.815Z"
   },
   {
    "duration": 97,
    "start_time": "2025-02-01T23:43:35.986Z"
   },
   {
    "duration": 7,
    "start_time": "2025-02-01T23:47:28.882Z"
   },
   {
    "duration": 93,
    "start_time": "2025-02-01T23:48:45.712Z"
   },
   {
    "duration": 7,
    "start_time": "2025-02-01T23:48:53.744Z"
   },
   {
    "duration": 6,
    "start_time": "2025-02-02T00:00:03.075Z"
   },
   {
    "duration": 4,
    "start_time": "2025-02-02T00:00:15.915Z"
   },
   {
    "duration": 12,
    "start_time": "2025-02-02T00:07:30.189Z"
   },
   {
    "duration": 4,
    "start_time": "2025-02-02T00:07:31.463Z"
   },
   {
    "duration": 741,
    "start_time": "2025-02-02T00:19:47.466Z"
   },
   {
    "duration": 120,
    "start_time": "2025-02-02T00:19:57.401Z"
   },
   {
    "duration": 68,
    "start_time": "2025-02-02T00:20:01.222Z"
   },
   {
    "duration": 47,
    "start_time": "2025-02-02T00:20:04.619Z"
   },
   {
    "duration": 17,
    "start_time": "2025-02-02T00:20:08.948Z"
   },
   {
    "duration": 18,
    "start_time": "2025-02-02T00:20:20.911Z"
   },
   {
    "duration": 6,
    "start_time": "2025-02-02T00:20:25.312Z"
   },
   {
    "duration": 17,
    "start_time": "2025-02-02T00:20:28.105Z"
   },
   {
    "duration": 30,
    "start_time": "2025-02-02T00:20:31.606Z"
   },
   {
    "duration": 36,
    "start_time": "2025-02-02T00:20:35.232Z"
   },
   {
    "duration": 5,
    "start_time": "2025-02-02T00:20:38.304Z"
   },
   {
    "duration": 12,
    "start_time": "2025-02-02T00:20:41.748Z"
   },
   {
    "duration": 12,
    "start_time": "2025-02-02T00:20:45.504Z"
   },
   {
    "duration": 10,
    "start_time": "2025-02-02T00:20:48.065Z"
   },
   {
    "duration": 25,
    "start_time": "2025-02-02T00:20:53.022Z"
   },
   {
    "duration": 5,
    "start_time": "2025-02-02T00:20:56.958Z"
   },
   {
    "duration": 8,
    "start_time": "2025-02-02T00:21:08.187Z"
   },
   {
    "duration": 7,
    "start_time": "2025-02-02T00:21:11.383Z"
   },
   {
    "duration": 10,
    "start_time": "2025-02-02T00:21:14.577Z"
   },
   {
    "duration": 9,
    "start_time": "2025-02-02T00:21:18.872Z"
   },
   {
    "duration": 12,
    "start_time": "2025-02-02T00:21:22.376Z"
   },
   {
    "duration": 4,
    "start_time": "2025-02-02T00:21:28.668Z"
   },
   {
    "duration": 15,
    "start_time": "2025-02-02T00:21:33.115Z"
   },
   {
    "duration": 5,
    "start_time": "2025-02-02T00:21:36.404Z"
   },
   {
    "duration": 41,
    "start_time": "2025-02-02T00:21:40.040Z"
   },
   {
    "duration": 9,
    "start_time": "2025-02-02T00:21:43.479Z"
   },
   {
    "duration": 7,
    "start_time": "2025-02-02T00:21:44.213Z"
   },
   {
    "duration": 12,
    "start_time": "2025-02-02T00:21:47.257Z"
   },
   {
    "duration": 4,
    "start_time": "2025-02-02T00:21:48.200Z"
   },
   {
    "duration": 20,
    "start_time": "2025-02-02T00:21:52.374Z"
   },
   {
    "duration": 6,
    "start_time": "2025-02-02T00:21:55.923Z"
   },
   {
    "duration": 15,
    "start_time": "2025-02-02T00:22:00.025Z"
   },
   {
    "duration": 5,
    "start_time": "2025-02-02T00:22:03.381Z"
   },
   {
    "duration": 21,
    "start_time": "2025-02-02T00:22:07.651Z"
   },
   {
    "duration": 7,
    "start_time": "2025-02-02T00:22:15.111Z"
   },
   {
    "duration": 4,
    "start_time": "2025-02-02T00:22:17.955Z"
   },
   {
    "duration": 15,
    "start_time": "2025-02-02T00:22:25.641Z"
   },
   {
    "duration": 16,
    "start_time": "2025-02-02T00:22:29.357Z"
   },
   {
    "duration": 10,
    "start_time": "2025-02-02T00:22:32.825Z"
   },
   {
    "duration": 17,
    "start_time": "2025-02-02T00:22:42.123Z"
   },
   {
    "duration": 20,
    "start_time": "2025-02-02T00:22:49.471Z"
   },
   {
    "duration": 17,
    "start_time": "2025-02-02T00:22:55.737Z"
   },
   {
    "duration": 4,
    "start_time": "2025-02-02T00:23:03.832Z"
   },
   {
    "duration": 40,
    "start_time": "2025-02-02T00:23:04.653Z"
   },
   {
    "duration": 10,
    "start_time": "2025-02-02T00:23:09.973Z"
   },
   {
    "duration": 159,
    "start_time": "2025-02-02T00:23:13.709Z"
   },
   {
    "duration": 10,
    "start_time": "2025-02-02T00:23:20.548Z"
   },
   {
    "duration": 187,
    "start_time": "2025-02-02T00:23:23.118Z"
   },
   {
    "duration": 7,
    "start_time": "2025-02-02T00:23:27.584Z"
   },
   {
    "duration": 103,
    "start_time": "2025-02-02T00:23:28.469Z"
   },
   {
    "duration": 9,
    "start_time": "2025-02-02T00:23:34.115Z"
   },
   {
    "duration": 10,
    "start_time": "2025-02-02T00:23:37.639Z"
   },
   {
    "duration": 6,
    "start_time": "2025-02-02T00:23:38.343Z"
   },
   {
    "duration": 221,
    "start_time": "2025-02-02T00:23:42.351Z"
   },
   {
    "duration": 95,
    "start_time": "2025-02-02T00:23:46.179Z"
   },
   {
    "duration": 8,
    "start_time": "2025-02-02T00:23:50.330Z"
   },
   {
    "duration": 10,
    "start_time": "2025-02-02T00:23:51.166Z"
   },
   {
    "duration": 7,
    "start_time": "2025-02-02T00:23:54.483Z"
   },
   {
    "duration": 183,
    "start_time": "2025-02-02T00:23:55.193Z"
   },
   {
    "duration": 91,
    "start_time": "2025-02-02T00:23:58.778Z"
   },
   {
    "duration": 8,
    "start_time": "2025-02-02T00:24:03.664Z"
   },
   {
    "duration": 10,
    "start_time": "2025-02-02T00:24:04.544Z"
   },
   {
    "duration": 7,
    "start_time": "2025-02-02T00:24:28.714Z"
   },
   {
    "duration": 161,
    "start_time": "2025-02-02T00:24:30.815Z"
   },
   {
    "duration": 91,
    "start_time": "2025-02-02T00:24:43.244Z"
   },
   {
    "duration": 5,
    "start_time": "2025-02-02T00:24:55.586Z"
   },
   {
    "duration": 9,
    "start_time": "2025-02-02T00:24:59.271Z"
   },
   {
    "duration": 4,
    "start_time": "2025-02-02T00:25:03.048Z"
   },
   {
    "duration": 2486,
    "start_time": "2025-02-02T05:32:29.110Z"
   },
   {
    "duration": 111,
    "start_time": "2025-02-02T05:32:31.599Z"
   },
   {
    "duration": 90,
    "start_time": "2025-02-02T05:32:31.712Z"
   },
   {
    "duration": 66,
    "start_time": "2025-02-02T05:32:31.805Z"
   },
   {
    "duration": 18,
    "start_time": "2025-02-02T05:32:31.873Z"
   },
   {
    "duration": 20,
    "start_time": "2025-02-02T05:32:31.892Z"
   },
   {
    "duration": 5,
    "start_time": "2025-02-02T05:32:31.913Z"
   },
   {
    "duration": 15,
    "start_time": "2025-02-02T05:32:31.924Z"
   },
   {
    "duration": 32,
    "start_time": "2025-02-02T05:32:31.941Z"
   },
   {
    "duration": 50,
    "start_time": "2025-02-02T05:32:31.976Z"
   },
   {
    "duration": 5,
    "start_time": "2025-02-02T05:32:32.028Z"
   },
   {
    "duration": 11,
    "start_time": "2025-02-02T05:32:32.035Z"
   },
   {
    "duration": 11,
    "start_time": "2025-02-02T05:32:32.048Z"
   },
   {
    "duration": 9,
    "start_time": "2025-02-02T05:32:32.061Z"
   },
   {
    "duration": 53,
    "start_time": "2025-02-02T05:32:32.072Z"
   },
   {
    "duration": 6,
    "start_time": "2025-02-02T05:32:32.127Z"
   },
   {
    "duration": 7,
    "start_time": "2025-02-02T05:32:32.135Z"
   },
   {
    "duration": 6,
    "start_time": "2025-02-02T05:32:32.144Z"
   },
   {
    "duration": 11,
    "start_time": "2025-02-02T05:32:32.151Z"
   },
   {
    "duration": 9,
    "start_time": "2025-02-02T05:32:32.163Z"
   },
   {
    "duration": 11,
    "start_time": "2025-02-02T05:32:32.173Z"
   },
   {
    "duration": 41,
    "start_time": "2025-02-02T05:32:32.185Z"
   },
   {
    "duration": 16,
    "start_time": "2025-02-02T05:32:32.228Z"
   },
   {
    "duration": 5,
    "start_time": "2025-02-02T05:32:32.246Z"
   },
   {
    "duration": 28,
    "start_time": "2025-02-02T05:32:32.253Z"
   },
   {
    "duration": 9,
    "start_time": "2025-02-02T05:32:32.283Z"
   },
   {
    "duration": 35,
    "start_time": "2025-02-02T05:32:32.293Z"
   },
   {
    "duration": 12,
    "start_time": "2025-02-02T05:32:32.333Z"
   },
   {
    "duration": 3,
    "start_time": "2025-02-02T05:32:32.347Z"
   },
   {
    "duration": 17,
    "start_time": "2025-02-02T05:32:32.352Z"
   },
   {
    "duration": 5,
    "start_time": "2025-02-02T05:32:32.371Z"
   },
   {
    "duration": 13,
    "start_time": "2025-02-02T05:32:32.378Z"
   },
   {
    "duration": 5,
    "start_time": "2025-02-02T05:32:32.424Z"
   },
   {
    "duration": 22,
    "start_time": "2025-02-02T05:32:32.430Z"
   },
   {
    "duration": 6,
    "start_time": "2025-02-02T05:32:32.454Z"
   },
   {
    "duration": 4,
    "start_time": "2025-02-02T05:32:32.462Z"
   },
   {
    "duration": 13,
    "start_time": "2025-02-02T05:32:32.468Z"
   },
   {
    "duration": 47,
    "start_time": "2025-02-02T05:32:32.483Z"
   },
   {
    "duration": 10,
    "start_time": "2025-02-02T05:32:32.532Z"
   },
   {
    "duration": 12,
    "start_time": "2025-02-02T05:32:32.543Z"
   },
   {
    "duration": 19,
    "start_time": "2025-02-02T05:32:32.556Z"
   },
   {
    "duration": 17,
    "start_time": "2025-02-02T05:32:32.576Z"
   },
   {
    "duration": 33,
    "start_time": "2025-02-02T05:32:32.594Z"
   },
   {
    "duration": 42,
    "start_time": "2025-02-02T05:32:32.628Z"
   },
   {
    "duration": 9,
    "start_time": "2025-02-02T05:32:32.672Z"
   },
   {
    "duration": 178,
    "start_time": "2025-02-02T05:32:32.682Z"
   },
   {
    "duration": 9,
    "start_time": "2025-02-02T05:32:32.862Z"
   },
   {
    "duration": 206,
    "start_time": "2025-02-02T05:32:32.872Z"
   },
   {
    "duration": 7,
    "start_time": "2025-02-02T05:32:33.080Z"
   },
   {
    "duration": 113,
    "start_time": "2025-02-02T05:32:33.089Z"
   },
   {
    "duration": 20,
    "start_time": "2025-02-02T05:32:33.204Z"
   },
   {
    "duration": 9,
    "start_time": "2025-02-02T05:32:33.225Z"
   },
   {
    "duration": 6,
    "start_time": "2025-02-02T05:32:33.235Z"
   },
   {
    "duration": 200,
    "start_time": "2025-02-02T05:32:33.242Z"
   },
   {
    "duration": 109,
    "start_time": "2025-02-02T05:32:33.444Z"
   },
   {
    "duration": 8,
    "start_time": "2025-02-02T05:32:33.555Z"
   },
   {
    "duration": 9,
    "start_time": "2025-02-02T05:32:33.565Z"
   },
   {
    "duration": 6,
    "start_time": "2025-02-02T05:32:33.576Z"
   },
   {
    "duration": 266,
    "start_time": "2025-02-02T05:32:33.584Z"
   },
   {
    "duration": 103,
    "start_time": "2025-02-02T05:32:33.852Z"
   },
   {
    "duration": 7,
    "start_time": "2025-02-02T05:32:33.956Z"
   },
   {
    "duration": 8,
    "start_time": "2025-02-02T05:32:33.965Z"
   },
   {
    "duration": 6,
    "start_time": "2025-02-02T05:32:33.975Z"
   },
   {
    "duration": 169,
    "start_time": "2025-02-02T05:32:33.982Z"
   },
   {
    "duration": 102,
    "start_time": "2025-02-02T05:32:34.152Z"
   },
   {
    "duration": 4,
    "start_time": "2025-02-02T05:32:34.256Z"
   },
   {
    "duration": 11,
    "start_time": "2025-02-02T05:32:34.261Z"
   },
   {
    "duration": 3,
    "start_time": "2025-02-02T05:32:34.274Z"
   }
  ],
  "kernelspec": {
   "display_name": "Python 3 (ipykernel)",
   "language": "python",
   "name": "python3"
  },
  "language_info": {
   "codemirror_mode": {
    "name": "ipython",
    "version": 3
   },
   "file_extension": ".py",
   "mimetype": "text/x-python",
   "name": "python",
   "nbconvert_exporter": "python",
   "pygments_lexer": "ipython3",
   "version": "3.12.7"
  },
  "toc": {
   "base_numbering": 1,
   "nav_menu": {},
   "number_sections": true,
   "sideBar": true,
   "skip_h1_title": false,
   "title_cell": "Table of Contents",
   "title_sidebar": "Contents",
   "toc_cell": false,
   "toc_position": {},
   "toc_section_display": true,
   "toc_window_display": true
  }
 },
 "nbformat": 4,
 "nbformat_minor": 4
}
